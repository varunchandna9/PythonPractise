{
 "cells": [
  {
   "cell_type": "code",
   "execution_count": 1,
   "metadata": {},
   "outputs": [
    {
     "name": "stdout",
     "output_type": "stream",
     "text": [
      "888\n",
      "the sum is : 30\n",
      "the product is  200\n"
     ]
    }
   ],
   "source": [
    "import durgamath\n",
    "print(durgamath.x)\n",
    "durgamath.add(10,20)\n",
    "durgamath.product(10,20)"
   ]
  },
  {
   "cell_type": "code",
   "execution_count": 2,
   "metadata": {},
   "outputs": [
    {
     "name": "stdout",
     "output_type": "stream",
     "text": [
      "888\n",
      "the sum is : 30\n",
      "the product is  200\n"
     ]
    }
   ],
   "source": [
    "import durgamath as m\n",
    "print(m.x)\n",
    "m.add(10,20)\n",
    "m.product(10,20)"
   ]
  },
  {
   "cell_type": "code",
   "execution_count": 3,
   "metadata": {},
   "outputs": [
    {
     "name": "stdout",
     "output_type": "stream",
     "text": [
      "888\n",
      "the sum is : 30\n"
     ]
    },
    {
     "ename": "NameError",
     "evalue": "name 'product' is not defined",
     "output_type": "error",
     "traceback": [
      "\u001b[1;31m---------------------------------------------------------------------------\u001b[0m",
      "\u001b[1;31mNameError\u001b[0m                                 Traceback (most recent call last)",
      "\u001b[1;32m<ipython-input-3-b2e823afc690>\u001b[0m in \u001b[0;36m<module>\u001b[1;34m()\u001b[0m\n\u001b[0;32m      2\u001b[0m \u001b[0mprint\u001b[0m\u001b[1;33m(\u001b[0m\u001b[0mx\u001b[0m\u001b[1;33m)\u001b[0m\u001b[1;33m\u001b[0m\u001b[0m\n\u001b[0;32m      3\u001b[0m \u001b[0madd\u001b[0m\u001b[1;33m(\u001b[0m\u001b[1;36m10\u001b[0m\u001b[1;33m,\u001b[0m\u001b[1;36m20\u001b[0m\u001b[1;33m)\u001b[0m\u001b[1;33m\u001b[0m\u001b[0m\n\u001b[1;32m----> 4\u001b[1;33m \u001b[0mproduct\u001b[0m\u001b[1;33m(\u001b[0m\u001b[1;36m10\u001b[0m\u001b[1;33m,\u001b[0m\u001b[1;36m20\u001b[0m\u001b[1;33m)\u001b[0m\u001b[1;33m\u001b[0m\u001b[0m\n\u001b[0m",
      "\u001b[1;31mNameError\u001b[0m: name 'product' is not defined"
     ]
    }
   ],
   "source": [
    "from durgamath import x,add\n",
    "print(x)\n",
    "add(10,20)\n",
    "product(10,20)"
   ]
  },
  {
   "cell_type": "code",
   "execution_count": 4,
   "metadata": {},
   "outputs": [
    {
     "name": "stdout",
     "output_type": "stream",
     "text": [
      "888\n",
      "the sum is : 30\n",
      "the product is  200\n"
     ]
    }
   ],
   "source": [
    "from durgamath import *\n",
    "print(x)\n",
    "add(10,20)\n",
    "product(10,20)"
   ]
  },
  {
   "cell_type": "code",
   "execution_count": 5,
   "metadata": {},
   "outputs": [],
   "source": [
    "import durgamath,random,keyword"
   ]
  },
  {
   "cell_type": "code",
   "execution_count": 6,
   "metadata": {},
   "outputs": [],
   "source": [
    "import durgamath"
   ]
  },
  {
   "cell_type": "code",
   "execution_count": 7,
   "metadata": {},
   "outputs": [],
   "source": [
    "import durgamath as m"
   ]
  },
  {
   "cell_type": "code",
   "execution_count": 9,
   "metadata": {},
   "outputs": [],
   "source": [
    "import durgamath as m1,keyword as m2, random as m3"
   ]
  },
  {
   "cell_type": "code",
   "execution_count": 10,
   "metadata": {},
   "outputs": [],
   "source": [
    "from durgamath import x"
   ]
  },
  {
   "cell_type": "code",
   "execution_count": 11,
   "metadata": {},
   "outputs": [],
   "source": [
    "from durgamath import x,add,product"
   ]
  },
  {
   "cell_type": "code",
   "execution_count": 12,
   "metadata": {},
   "outputs": [],
   "source": [
    "from durgamath import x as y"
   ]
  },
  {
   "cell_type": "code",
   "execution_count": 13,
   "metadata": {},
   "outputs": [],
   "source": [
    "from durgamath import *"
   ]
  },
  {
   "cell_type": "code",
   "execution_count": 14,
   "metadata": {},
   "outputs": [
    {
     "name": "stdout",
     "output_type": "stream",
     "text": [
      "888\n",
      "the sum is : 30\n"
     ]
    }
   ],
   "source": [
    "from durgamath import x as y ,add as sum\n",
    "print(y)\n",
    "sum(10,20)"
   ]
  },
  {
   "cell_type": "code",
   "execution_count": 1,
   "metadata": {},
   "outputs": [
    {
     "ename": "NameError",
     "evalue": "name 'x' is not defined",
     "output_type": "error",
     "traceback": [
      "\u001b[1;31m---------------------------------------------------------------------------\u001b[0m",
      "\u001b[1;31mNameError\u001b[0m                                 Traceback (most recent call last)",
      "\u001b[1;32m<ipython-input-1-1d6da2f6b380>\u001b[0m in \u001b[0;36m<module>\u001b[1;34m()\u001b[0m\n\u001b[0;32m      1\u001b[0m \u001b[1;32mfrom\u001b[0m \u001b[0mdurgamath\u001b[0m \u001b[1;32mimport\u001b[0m \u001b[0mx\u001b[0m \u001b[1;32mas\u001b[0m \u001b[0my\u001b[0m\u001b[1;33m\u001b[0m\u001b[0m\n\u001b[1;32m----> 2\u001b[1;33m \u001b[0mprint\u001b[0m\u001b[1;33m(\u001b[0m\u001b[0mx\u001b[0m\u001b[1;33m)\u001b[0m\u001b[1;33m\u001b[0m\u001b[0m\n\u001b[0m",
      "\u001b[1;31mNameError\u001b[0m: name 'x' is not defined"
     ]
    }
   ],
   "source": [
    "from durgamath import x as y\n",
    "print(x)"
   ]
  },
  {
   "cell_type": "code",
   "execution_count": 2,
   "metadata": {},
   "outputs": [
    {
     "name": "stdout",
     "output_type": "stream",
     "text": [
      "this is test file\n"
     ]
    }
   ],
   "source": [
    "import time\n",
    "from imp import reload\n",
    "import durgamath\n",
    "time.sleep(30)\n",
    "reload(durgamath)\n",
    "time.sleep(30)\n",
    "reload(durgamath)\n",
    "print(\"this is test file\")"
   ]
  },
  {
   "cell_type": "code",
   "execution_count": 1,
   "metadata": {},
   "outputs": [
    {
     "name": "stdout",
     "output_type": "stream",
     "text": [
      "this is module1\n",
      "this is a test module\n"
     ]
    }
   ],
   "source": [
    "import module1\n",
    "import module1\n",
    "import module1\n",
    "import module1\n",
    "print(\"this is a test module\")"
   ]
  },
  {
   "cell_type": "code",
   "execution_count": 1,
   "metadata": {},
   "outputs": [
    {
     "name": "stdout",
     "output_type": "stream",
     "text": [
      "this is module1\n",
      "this is module1\n",
      "this is module1\n",
      "this is module1\n",
      "this is test module\n"
     ]
    }
   ],
   "source": [
    "import module1\n",
    "import module1\n",
    "from imp import reload\n",
    "reload(module1)\n",
    "reload(module1)\n",
    "reload(module1)\n",
    "print(\"this is test module\")"
   ]
  },
  {
   "cell_type": "code",
   "execution_count": 1,
   "metadata": {},
   "outputs": [
    {
     "name": "stdout",
     "output_type": "stream",
     "text": [
      "['In', 'Out', '_', '__', '___', '__builtin__', '__builtins__', '__doc__', '__loader__', '__name__', '__package__', '__spec__', '_dh', '_i', '_i1', '_ih', '_ii', '_iii', '_oh', 'exit', 'f1', 'get_ipython', 'quit', 'x', 'y']\n"
     ]
    }
   ],
   "source": [
    "x=10\n",
    "y=20\n",
    "def f1():\n",
    "    print(\"hello\")\n",
    "print(dir())"
   ]
  },
  {
   "cell_type": "code",
   "execution_count": 2,
   "metadata": {},
   "outputs": [
    {
     "name": "stdout",
     "output_type": "stream",
     "text": [
      "['__builtins__', '__cached__', '__doc__', '__file__', '__loader__', '__name__', '__package__', '__spec__', 'add', 'product', 'x']\n"
     ]
    }
   ],
   "source": [
    "import durgamath\n",
    "print(dir(durgamath))"
   ]
  },
  {
   "cell_type": "code",
   "execution_count": 7,
   "metadata": {},
   "outputs": [
    {
     "name": "stdout",
     "output_type": "stream",
     "text": [
      "<module 'builtins' (built-in)>\n",
      "Automatically created module for IPython interactive environment\n",
      "None\n",
      "__main__\n",
      "None\n",
      "None\n"
     ]
    }
   ],
   "source": [
    "import durgamath\n",
    "print(__builtins__)\n",
    "#print(__cached__)\n",
    "print(__doc__)\n",
    "#print(__file__)\n",
    "print(__loader__)\n",
    "print(__name__)\n",
    "print(__package__)\n",
    "print(__spec__)"
   ]
  },
  {
   "cell_type": "code",
   "execution_count": 8,
   "metadata": {},
   "outputs": [
    {
     "name": "stdout",
     "output_type": "stream",
     "text": [
      "the code executed as a module from some other progeam\n"
     ]
    }
   ],
   "source": [
    "def f1():\n",
    "    if __name__==\"main\":\n",
    "        print(\"the code executed as a program\")\n",
    "    else:\n",
    "        print(\"the code executed as a module from some other progeam\")\n",
    "f1()"
   ]
  },
  {
   "cell_type": "code",
   "execution_count": 5,
   "metadata": {},
   "outputs": [
    {
     "name": "stdout",
     "output_type": "stream",
     "text": [
      "the code executed as a module from some other progeam\n"
     ]
    }
   ],
   "source": [
    "import module1\n",
    "module1.f1()"
   ]
  },
  {
   "cell_type": "code",
   "execution_count": 6,
   "metadata": {},
   "outputs": [
    {
     "name": "stdout",
     "output_type": "stream",
     "text": [
      "2.0\n",
      "11\n",
      "10\n",
      "10.6\n",
      "10.6\n"
     ]
    }
   ],
   "source": [
    "from math import *\n",
    "print(sqrt(4))\n",
    "print(ceil(10.1))\n",
    "print(floor(10.1))\n",
    "print(fabs(-10.6))\n",
    "print(fabs(10.6))"
   ]
  },
  {
   "cell_type": "code",
   "execution_count": 7,
   "metadata": {},
   "outputs": [
    {
     "name": "stdout",
     "output_type": "stream",
     "text": [
      "Help on built-in module math:\n",
      "\n",
      "NAME\n",
      "    math\n",
      "\n",
      "DESCRIPTION\n",
      "    This module is always available.  It provides access to the\n",
      "    mathematical functions defined by the C standard.\n",
      "\n",
      "FUNCTIONS\n",
      "    acos(...)\n",
      "        acos(x)\n",
      "        \n",
      "        Return the arc cosine (measured in radians) of x.\n",
      "    \n",
      "    acosh(...)\n",
      "        acosh(x)\n",
      "        \n",
      "        Return the inverse hyperbolic cosine of x.\n",
      "    \n",
      "    asin(...)\n",
      "        asin(x)\n",
      "        \n",
      "        Return the arc sine (measured in radians) of x.\n",
      "    \n",
      "    asinh(...)\n",
      "        asinh(x)\n",
      "        \n",
      "        Return the inverse hyperbolic sine of x.\n",
      "    \n",
      "    atan(...)\n",
      "        atan(x)\n",
      "        \n",
      "        Return the arc tangent (measured in radians) of x.\n",
      "    \n",
      "    atan2(...)\n",
      "        atan2(y, x)\n",
      "        \n",
      "        Return the arc tangent (measured in radians) of y/x.\n",
      "        Unlike atan(y/x), the signs of both x and y are considered.\n",
      "    \n",
      "    atanh(...)\n",
      "        atanh(x)\n",
      "        \n",
      "        Return the inverse hyperbolic tangent of x.\n",
      "    \n",
      "    ceil(...)\n",
      "        ceil(x)\n",
      "        \n",
      "        Return the ceiling of x as an Integral.\n",
      "        This is the smallest integer >= x.\n",
      "    \n",
      "    copysign(...)\n",
      "        copysign(x, y)\n",
      "        \n",
      "        Return a float with the magnitude (absolute value) of x but the sign \n",
      "        of y. On platforms that support signed zeros, copysign(1.0, -0.0) \n",
      "        returns -1.0.\n",
      "    \n",
      "    cos(...)\n",
      "        cos(x)\n",
      "        \n",
      "        Return the cosine of x (measured in radians).\n",
      "    \n",
      "    cosh(...)\n",
      "        cosh(x)\n",
      "        \n",
      "        Return the hyperbolic cosine of x.\n",
      "    \n",
      "    degrees(...)\n",
      "        degrees(x)\n",
      "        \n",
      "        Convert angle x from radians to degrees.\n",
      "    \n",
      "    erf(...)\n",
      "        erf(x)\n",
      "        \n",
      "        Error function at x.\n",
      "    \n",
      "    erfc(...)\n",
      "        erfc(x)\n",
      "        \n",
      "        Complementary error function at x.\n",
      "    \n",
      "    exp(...)\n",
      "        exp(x)\n",
      "        \n",
      "        Return e raised to the power of x.\n",
      "    \n",
      "    expm1(...)\n",
      "        expm1(x)\n",
      "        \n",
      "        Return exp(x)-1.\n",
      "        This function avoids the loss of precision involved in the direct evaluation of exp(x)-1 for small x.\n",
      "    \n",
      "    fabs(...)\n",
      "        fabs(x)\n",
      "        \n",
      "        Return the absolute value of the float x.\n",
      "    \n",
      "    factorial(...)\n",
      "        factorial(x) -> Integral\n",
      "        \n",
      "        Find x!. Raise a ValueError if x is negative or non-integral.\n",
      "    \n",
      "    floor(...)\n",
      "        floor(x)\n",
      "        \n",
      "        Return the floor of x as an Integral.\n",
      "        This is the largest integer <= x.\n",
      "    \n",
      "    fmod(...)\n",
      "        fmod(x, y)\n",
      "        \n",
      "        Return fmod(x, y), according to platform C.  x % y may differ.\n",
      "    \n",
      "    frexp(...)\n",
      "        frexp(x)\n",
      "        \n",
      "        Return the mantissa and exponent of x, as pair (m, e).\n",
      "        m is a float and e is an int, such that x = m * 2.**e.\n",
      "        If x is 0, m and e are both 0.  Else 0.5 <= abs(m) < 1.0.\n",
      "    \n",
      "    fsum(...)\n",
      "        fsum(iterable)\n",
      "        \n",
      "        Return an accurate floating point sum of values in the iterable.\n",
      "        Assumes IEEE-754 floating point arithmetic.\n",
      "    \n",
      "    gamma(...)\n",
      "        gamma(x)\n",
      "        \n",
      "        Gamma function at x.\n",
      "    \n",
      "    gcd(...)\n",
      "        gcd(x, y) -> int\n",
      "        greatest common divisor of x and y\n",
      "    \n",
      "    hypot(...)\n",
      "        hypot(x, y)\n",
      "        \n",
      "        Return the Euclidean distance, sqrt(x*x + y*y).\n",
      "    \n",
      "    isclose(...)\n",
      "        isclose(a, b, *, rel_tol=1e-09, abs_tol=0.0) -> bool\n",
      "        \n",
      "        Determine whether two floating point numbers are close in value.\n",
      "        \n",
      "           rel_tol\n",
      "               maximum difference for being considered \"close\", relative to the\n",
      "               magnitude of the input values\n",
      "            abs_tol\n",
      "               maximum difference for being considered \"close\", regardless of the\n",
      "               magnitude of the input values\n",
      "        \n",
      "        Return True if a is close in value to b, and False otherwise.\n",
      "        \n",
      "        For the values to be considered close, the difference between them\n",
      "        must be smaller than at least one of the tolerances.\n",
      "        \n",
      "        -inf, inf and NaN behave similarly to the IEEE 754 Standard.  That\n",
      "        is, NaN is not close to anything, even itself.  inf and -inf are\n",
      "        only close to themselves.\n",
      "    \n",
      "    isfinite(...)\n",
      "        isfinite(x) -> bool\n",
      "        \n",
      "        Return True if x is neither an infinity nor a NaN, and False otherwise.\n",
      "    \n",
      "    isinf(...)\n",
      "        isinf(x) -> bool\n",
      "        \n",
      "        Return True if x is a positive or negative infinity, and False otherwise.\n",
      "    \n",
      "    isnan(...)\n",
      "        isnan(x) -> bool\n",
      "        \n",
      "        Return True if x is a NaN (not a number), and False otherwise.\n",
      "    \n",
      "    ldexp(...)\n",
      "        ldexp(x, i)\n",
      "        \n",
      "        Return x * (2**i).\n",
      "    \n",
      "    lgamma(...)\n",
      "        lgamma(x)\n",
      "        \n",
      "        Natural logarithm of absolute value of Gamma function at x.\n",
      "    \n",
      "    log(...)\n",
      "        log(x[, base])\n",
      "        \n",
      "        Return the logarithm of x to the given base.\n",
      "        If the base not specified, returns the natural logarithm (base e) of x.\n",
      "    \n",
      "    log10(...)\n",
      "        log10(x)\n",
      "        \n",
      "        Return the base 10 logarithm of x.\n",
      "    \n",
      "    log1p(...)\n",
      "        log1p(x)\n",
      "        \n",
      "        Return the natural logarithm of 1+x (base e).\n",
      "        The result is computed in a way which is accurate for x near zero.\n",
      "    \n",
      "    log2(...)\n",
      "        log2(x)\n",
      "        \n",
      "        Return the base 2 logarithm of x.\n",
      "    \n",
      "    modf(...)\n",
      "        modf(x)\n",
      "        \n",
      "        Return the fractional and integer parts of x.  Both results carry the sign\n",
      "        of x and are floats.\n",
      "    \n",
      "    pow(...)\n",
      "        pow(x, y)\n",
      "        \n",
      "        Return x**y (x to the power of y).\n",
      "    \n",
      "    radians(...)\n",
      "        radians(x)\n",
      "        \n",
      "        Convert angle x from degrees to radians.\n",
      "    \n",
      "    sin(...)\n",
      "        sin(x)\n",
      "        \n",
      "        Return the sine of x (measured in radians).\n",
      "    \n",
      "    sinh(...)\n",
      "        sinh(x)\n",
      "        \n",
      "        Return the hyperbolic sine of x.\n",
      "    \n",
      "    sqrt(...)\n",
      "        sqrt(x)\n",
      "        \n",
      "        Return the square root of x.\n",
      "    \n",
      "    tan(...)\n",
      "        tan(x)\n",
      "        \n",
      "        Return the tangent of x (measured in radians).\n",
      "    \n",
      "    tanh(...)\n",
      "        tanh(x)\n",
      "        \n",
      "        Return the hyperbolic tangent of x.\n",
      "    \n",
      "    trunc(...)\n",
      "        trunc(x:Real) -> Integral\n",
      "        \n",
      "        Truncates x to the nearest Integral toward 0. Uses the __trunc__ magic method.\n",
      "\n",
      "DATA\n",
      "    e = 2.718281828459045\n",
      "    inf = inf\n",
      "    nan = nan\n",
      "    pi = 3.141592653589793\n",
      "    tau = 6.283185307179586\n",
      "\n",
      "FILE\n",
      "    (built-in)\n",
      "\n",
      "\n"
     ]
    }
   ],
   "source": [
    "import math\n",
    "help(math)"
   ]
  },
  {
   "cell_type": "code",
   "execution_count": 8,
   "metadata": {},
   "outputs": [
    {
     "name": "stdout",
     "output_type": "stream",
     "text": [
      "0.1608494558442094\n",
      "0.9870381086438905\n",
      "0.7302273784671991\n",
      "0.6117870985562293\n",
      "0.06781894906106589\n",
      "0.8642244708658812\n",
      "0.0568881404546796\n",
      "0.11207158449818855\n",
      "0.969939284555428\n",
      "0.13613155564422263\n"
     ]
    }
   ],
   "source": [
    "from random import *\n",
    "for i in range(10):\n",
    "    print(random())"
   ]
  },
  {
   "cell_type": "code",
   "execution_count": 9,
   "metadata": {},
   "outputs": [
    {
     "name": "stdout",
     "output_type": "stream",
     "text": [
      "28\n",
      "73\n",
      "64\n",
      "85\n",
      "95\n",
      "91\n",
      "16\n",
      "41\n",
      "54\n",
      "29\n"
     ]
    }
   ],
   "source": [
    "from random import *\n",
    "for i in range(10):\n",
    "    print(randint(1,100))"
   ]
  },
  {
   "cell_type": "code",
   "execution_count": 11,
   "metadata": {},
   "outputs": [
    {
     "name": "stdout",
     "output_type": "stream",
     "text": [
      "3.6124954821027195\n",
      "1.6661107540804143\n",
      "3.856147478594548\n",
      "4.040628478295647\n",
      "2.868538881173075\n",
      "4.305114320236877\n",
      "1.7570099401750863\n",
      "1.8506505111489373\n",
      "8.898529040042813\n",
      "8.960579758906036\n"
     ]
    }
   ],
   "source": [
    "from random import *\n",
    "for i in range(10):\n",
    "    print(uniform(1,10))"
   ]
  },
  {
   "cell_type": "code",
   "execution_count": 12,
   "metadata": {},
   "outputs": [
    {
     "name": "stdout",
     "output_type": "stream",
     "text": [
      "1.930408157864325\n",
      "1.4172896634917567\n",
      "9.443231242343511\n",
      "3.7542869443761706\n",
      "2.9465543098397107\n",
      "6.269594928460024\n",
      "5.950588584058084\n",
      "9.599495366740348\n",
      "2.896785335587248\n",
      "9.261101165355388\n"
     ]
    }
   ],
   "source": [
    "from random import *\n",
    "for i in range(10):\n",
    "    print(uniform(1,10))"
   ]
  },
  {
   "cell_type": "code",
   "execution_count": 13,
   "metadata": {},
   "outputs": [
    {
     "name": "stdout",
     "output_type": "stream",
     "text": [
      "2\n",
      "0\n",
      "4\n",
      "7\n",
      "5\n",
      "1\n",
      "0\n",
      "1\n",
      "6\n",
      "1\n"
     ]
    }
   ],
   "source": [
    "from random import *\n",
    "for i in range(10):\n",
    "    print(randrange(10))"
   ]
  },
  {
   "cell_type": "code",
   "execution_count": 16,
   "metadata": {},
   "outputs": [
    {
     "name": "stdout",
     "output_type": "stream",
     "text": [
      "8\n",
      "9\n",
      "7\n",
      "2\n",
      "7\n",
      "8\n",
      "10\n",
      "5\n",
      "10\n",
      "3\n"
     ]
    }
   ],
   "source": [
    "from random import *\n",
    "for i in range(10):\n",
    "    print(randrange(1,11))"
   ]
  },
  {
   "cell_type": "code",
   "execution_count": 17,
   "metadata": {},
   "outputs": [
    {
     "name": "stdout",
     "output_type": "stream",
     "text": [
      "5\n",
      "4\n",
      "9\n",
      "3\n",
      "1\n",
      "9\n",
      "7\n",
      "6\n",
      "6\n",
      "9\n"
     ]
    }
   ],
   "source": [
    "from random import *\n",
    "for i in range(10):\n",
    "    print(randrange(1,11))\n",
    "    "
   ]
  },
  {
   "cell_type": "code",
   "execution_count": 18,
   "metadata": {},
   "outputs": [
    {
     "name": "stdout",
     "output_type": "stream",
     "text": [
      "9\n",
      "9\n",
      "5\n",
      "5\n",
      "5\n",
      "1\n",
      "7\n",
      "9\n",
      "3\n",
      "9\n"
     ]
    }
   ],
   "source": [
    "from random import *\n",
    "for i in range(10):\n",
    "    print(randrange(1,11,2))"
   ]
  },
  {
   "cell_type": "code",
   "execution_count": 19,
   "metadata": {},
   "outputs": [
    {
     "name": "stdout",
     "output_type": "stream",
     "text": [
      "chinny\n",
      "vinny\n",
      "vinny\n",
      "pinny\n",
      "sunny\n",
      "vinny\n",
      "vinny\n",
      "vinny\n",
      "bunny\n",
      "pinny\n"
     ]
    }
   ],
   "source": [
    "from random import *\n",
    "list=[\"sunny\",\"bunny\",\"chinny\",\"pinny\",\"vinny\"]\n",
    "for i in range(10):\n",
    "    print(choice(list))"
   ]
  },
  {
   "cell_type": "code",
   "execution_count": 20,
   "metadata": {},
   "outputs": [
    {
     "name": "stdout",
     "output_type": "stream",
     "text": [
      "pinny\n",
      "sunny\n",
      "chinny\n",
      "pinny\n",
      "vinny\n",
      "chinny\n",
      "sunny\n",
      "sunny\n",
      "sunny\n",
      "sunny\n"
     ]
    }
   ],
   "source": [
    "from random import *\n",
    "list=[\"sunny\",\"bunny\",\"chinny\",\"vinny\",\"pinny\"]\n",
    "for i in range(10):\n",
    "    print(choice(list))"
   ]
  },
  {
   "cell_type": "code",
   "execution_count": 21,
   "metadata": {},
   "outputs": [
    {
     "name": "stdout",
     "output_type": "stream",
     "text": [
      "0.8406745963823614\n",
      "0.9156215539920166\n",
      "0.4504406526926711\n",
      "0.7209831142695594\n",
      "0.7081581540437456\n",
      "0.6022509411914581\n",
      "0.7618805113024922\n",
      "0.27468213163120225\n",
      "0.5590525243972567\n",
      "0.13783965462823722\n"
     ]
    }
   ],
   "source": [
    "from random import *\n",
    "for i in range(10):\n",
    "    print(random())"
   ]
  },
  {
   "cell_type": "code",
   "execution_count": 5,
   "metadata": {},
   "outputs": [
    {
     "name": "stdout",
     "output_type": "stream",
     "text": [
      "hello this is from module 1 present in pack 1 \n"
     ]
    }
   ],
   "source": [
    "import pack1.module1\n",
    "pack1.module1.f1()"
   ]
  },
  {
   "cell_type": "code",
   "execution_count": 7,
   "metadata": {},
   "outputs": [
    {
     "name": "stdout",
     "output_type": "stream",
     "text": [
      "hello this is from module 1 present in pack 1 \n"
     ]
    }
   ],
   "source": [
    "from pack1.module1 import f1\n",
    "f1()"
   ]
  },
  {
   "cell_type": "code",
   "execution_count": 1,
   "metadata": {},
   "outputs": [
    {
     "name": "stdout",
     "output_type": "stream",
     "text": [
      "hello this is from module 1 present in com \n",
      "hello this is from module 2 present in com.durgasoft \n"
     ]
    }
   ],
   "source": [
    "from pack1.com. module1 import f1\n",
    "from pack1.com.durgasoft.module2 import f2\n",
    "f1()\n",
    "f2()"
   ]
  },
  {
   "cell_type": "code",
   "execution_count": 1,
   "metadata": {},
   "outputs": [],
   "source": [
    "f=open(\"abc.txt\",'w')"
   ]
  },
  {
   "cell_type": "code",
   "execution_count": 2,
   "metadata": {},
   "outputs": [],
   "source": [
    "f.close()"
   ]
  },
  {
   "cell_type": "code",
   "execution_count": 6,
   "metadata": {},
   "outputs": [
    {
     "name": "stdout",
     "output_type": "stream",
     "text": [
      "file name abc.txt\n",
      "file mode w\n",
      "is file readable False\n",
      "'is file writeable True\n",
      "is file closed False\n",
      "is file closed True\n"
     ]
    }
   ],
   "source": [
    "f=open('abc.txt','w')\n",
    "print(\"file name\",f.name)\n",
    "print(\"file mode\",f.mode)\n",
    "print(\"is file readable\",f.readable())\n",
    "print(\"'is file writeable\",f.writable())\n",
    "print(\"is file closed\",f.closed)\n",
    "f.close()\n",
    "print(\"is file closed\",f.closed)"
   ]
  },
  {
   "cell_type": "code",
   "execution_count": 7,
   "metadata": {},
   "outputs": [
    {
     "name": "stdout",
     "output_type": "stream",
     "text": [
      "data written to the file succesfully\n"
     ]
    }
   ],
   "source": [
    "f=open(\"abcd.txt\",'w')\n",
    "f.write(\"durga\\n\")\n",
    "f.write(\"software\\n\")\n",
    "f.write(\"solution\\n\")\n",
    "print(\"data written to the file succesfully\")\n",
    "f.close()"
   ]
  },
  {
   "cell_type": "code",
   "execution_count": 8,
   "metadata": {},
   "outputs": [],
   "source": [
    "f=open('abcd.txt','a')"
   ]
  },
  {
   "cell_type": "code",
   "execution_count": 9,
   "metadata": {},
   "outputs": [],
   "source": [
    "f.close()"
   ]
  },
  {
   "cell_type": "code",
   "execution_count": 11,
   "metadata": {},
   "outputs": [
    {
     "name": "stdout",
     "output_type": "stream",
     "text": [
      "list of lines written to the file succesfully\n"
     ]
    }
   ],
   "source": [
    "f=open('abcd.txt','w')\n",
    "list=['sunny\\n','bunny\\n','vinny\\n','chinny']\n",
    "f.writelines(list)\n",
    "print(\"list of lines written to the file succesfully\")\n",
    "f.close()"
   ]
  },
  {
   "cell_type": "code",
   "execution_count": 12,
   "metadata": {},
   "outputs": [
    {
     "name": "stdout",
     "output_type": "stream",
     "text": [
      "sunny\n",
      "bunny\n",
      "vinny\n",
      "chinny\n"
     ]
    }
   ],
   "source": [
    "f=open(\"abcd.txt\",'r')\n",
    "data=f.read()\n",
    "print(data)"
   ]
  },
  {
   "cell_type": "code",
   "execution_count": 16,
   "metadata": {},
   "outputs": [
    {
     "name": "stdout",
     "output_type": "stream",
     "text": [
      "sunny\n",
      "bunn\n",
      "sunny\n",
      "bunn\n"
     ]
    }
   ],
   "source": [
    "f=open('abcd.txt','r')\n",
    "data=f.read(10)\n",
    "print(data)\n",
    "f.close()\n",
    "print(data)"
   ]
  },
  {
   "cell_type": "code",
   "execution_count": 17,
   "metadata": {},
   "outputs": [
    {
     "name": "stdout",
     "output_type": "stream",
     "text": [
      "sunny\n",
      "bunny\n",
      "vinny\n"
     ]
    }
   ],
   "source": [
    "f=open('abcd.txt','r')\n",
    "line1=f.readline()\n",
    "print(line1,end='')\n",
    "line2=f.readline()\n",
    "print(line2,end='')\n",
    "line3=f.readline()\n",
    "print(line3,end='')\n",
    "f.close()"
   ]
  },
  {
   "cell_type": "code",
   "execution_count": 18,
   "metadata": {},
   "outputs": [
    {
     "name": "stdout",
     "output_type": "stream",
     "text": [
      "sunny\n",
      "bunny\n",
      "vinny\n",
      "chinny"
     ]
    }
   ],
   "source": [
    "f=open('abcd.txt','r')\n",
    "lines=f.readlines()\n",
    "for line in lines:\n",
    "    print(line,end='')\n",
    "    "
   ]
  },
  {
   "cell_type": "code",
   "execution_count": 20,
   "metadata": {},
   "outputs": [
    {
     "name": "stdout",
     "output_type": "stream",
     "text": [
      "sun\n",
      "ny\n",
      "\n",
      "bunn\n",
      "remaining data\n",
      "y\n",
      "vinny\n",
      "chinny\n"
     ]
    }
   ],
   "source": [
    "f=open('abcd.txt','r')\n",
    "print(f.read(3))\n",
    "print(f.readline())\n",
    "print(f.read(4))\n",
    "print(\"remaining data\")\n",
    "print(f.read())"
   ]
  },
  {
   "cell_type": "code",
   "execution_count": 21,
   "metadata": {},
   "outputs": [
    {
     "name": "stdout",
     "output_type": "stream",
     "text": [
      "is file closed False\n",
      "is file cloased True\n"
     ]
    }
   ],
   "source": [
    "with open ('abc.txt','w') as f:\n",
    "    f.write(\"durga\\n\")\n",
    "    f.write(\"software\\n\")\n",
    "    f.write(\"solution\\n\")\n",
    "    print(\"is file closed\",f.closed)\n",
    "print(\"is file cloased\",f.closed)"
   ]
  },
  {
   "cell_type": "code",
   "execution_count": 22,
   "metadata": {},
   "outputs": [
    {
     "name": "stdout",
     "output_type": "stream",
     "text": [
      "0\n",
      "du\n",
      "2\n",
      "rga\n",
      "5\n"
     ]
    }
   ],
   "source": [
    "f=open('abc.txt','r')\n",
    "print(f.tell())\n",
    "print(f.read(2))\n",
    "print(f.tell())\n",
    "print(f.read(3))\n",
    "print(f.tell())"
   ]
  },
  {
   "cell_type": "code",
   "execution_count": 27,
   "metadata": {},
   "outputs": [
    {
     "name": "stdout",
     "output_type": "stream",
     "text": [
      "all students are stupids\n",
      "the current cursor position  24\n",
      "the current cursor position 17\n",
      "data after modification\n",
      "all students are gems!!!\n"
     ]
    }
   ],
   "source": [
    "data=\"all students are stupids\"\n",
    "f=open('abc.txt','w')\n",
    "f.write(data)\n",
    "with open('abc.txt','r+')as f:\n",
    "    text=f.read()\n",
    "    print(text)\n",
    "    print(\"the current cursor position \",f.tell())\n",
    "    f.seek(17)\n",
    "    print(\"the current cursor position\",f.tell())\n",
    "    f.write(\"gems!!!\")\n",
    "    f.seek(0)\n",
    "    text=f.read()\n",
    "    print(\"data after modification\")\n",
    "    print(text)"
   ]
  },
  {
   "cell_type": "code",
   "execution_count": 28,
   "metadata": {},
   "outputs": [
    {
     "name": "stdout",
     "output_type": "stream",
     "text": [
      "all students are stupids\n",
      "the current cursor position 24\n",
      "the current cursor position  17\n",
      "data after modification\n",
      "all students are gems!!!\n"
     ]
    }
   ],
   "source": [
    "data=\"all students are stupids\"\n",
    "f=open(\"abc.txt\",'w')\n",
    "f.write(data)\n",
    "with open('abc.txt',\"r+\") as f:\n",
    "    text=f.read()\n",
    "    print(text)\n",
    "    print(\"the current cursor position\",f.tell())\n",
    "    f.seek(17)\n",
    "    print(\"the current cursor position \",f.tell())\n",
    "    f.write(\"gems!!!\")\n",
    "    f.seek(0)\n",
    "    text=f.read()\n",
    "    print(\"data after modification\")\n",
    "    print(text)"
   ]
  },
  {
   "cell_type": "code",
   "execution_count": 31,
   "metadata": {},
   "outputs": [
    {
     "name": "stdout",
     "output_type": "stream",
     "text": [
      "enter file name : abc.txt\n",
      "file exist abc.txt\n",
      "the content of file \n",
      "all students are gems!!!\n"
     ]
    }
   ],
   "source": [
    "import os,sys\n",
    "fname=input(\"enter file name : \")\n",
    "if os.path.isfile(fname):\n",
    "    print(\"file exist\",fname)\n",
    "else:\n",
    "    print(\"file does not exist \",fname)\n",
    "    sys.exit(0)\n",
    "print(\"the content of file \")\n",
    "f=open(fname,'r')\n",
    "data=f.read()\n",
    "print(data)"
   ]
  },
  {
   "cell_type": "code",
   "execution_count": 33,
   "metadata": {},
   "outputs": [
    {
     "name": "stdout",
     "output_type": "stream",
     "text": [
      "enter file name : durga.txt\n",
      "file does not exist durga.txt\n"
     ]
    },
    {
     "ename": "SystemExit",
     "evalue": "0",
     "output_type": "error",
     "traceback": [
      "An exception has occurred, use %tb to see the full traceback.\n",
      "\u001b[1;31mSystemExit\u001b[0m\u001b[1;31m:\u001b[0m 0\n"
     ]
    },
    {
     "name": "stderr",
     "output_type": "stream",
     "text": [
      "C:\\ProgramData\\Anaconda3\\lib\\site-packages\\IPython\\core\\interactiveshell.py:2971: UserWarning: To exit: use 'exit', 'quit', or Ctrl-D.\n",
      "  warn(\"To exit: use 'exit', 'quit', or Ctrl-D.\", stacklevel=1)\n"
     ]
    }
   ],
   "source": [
    "import os,sys\n",
    "fname=input(\"enter file name : \")\n",
    "if os.path.isfile(fname):\n",
    "    print(\"file exist \",fname)\n",
    "    f=open(fname,'r')\n",
    "else:\n",
    "    print(\"file does not exist\",fname)\n",
    "    sys.exit(0)\n",
    "print(\"the contents of files\")\n",
    "data=f.read()\n",
    "print(data)"
   ]
  },
  {
   "cell_type": "code",
   "execution_count": 35,
   "metadata": {},
   "outputs": [
    {
     "name": "stdout",
     "output_type": "stream",
     "text": [
      "enter file name : abc.txt\n",
      "file exist  abc.txt\n",
      "the number of lines 1\n",
      "the number of words 4\n",
      "the number of character  24\n"
     ]
    }
   ],
   "source": [
    "import os,sys\n",
    "fname=input(\"enter file name : \")\n",
    "if os.path.isfile(fname):\n",
    "    print(\"file exist \",fname)\n",
    "    f=open(fname,'r')\n",
    "else:\n",
    "    print(\"file does not exist\",fname)\n",
    "    sys.exit(0)\n",
    "lcount=wcount=ccount=0\n",
    "for line in f:\n",
    "    lcount=lcount+1\n",
    "    ccount=ccount+len(line)\n",
    "    words=line.split()\n",
    "    wcount=wcount+len(words)\n",
    "print(\"the number of lines\",lcount)\n",
    "print(\"the number of words\",wcount)\n",
    "print(\"the number of character \",ccount)"
   ]
  },
  {
   "cell_type": "code",
   "execution_count": 37,
   "metadata": {},
   "outputs": [
    {
     "name": "stdout",
     "output_type": "stream",
     "text": [
      "enter file name :abc.txt\n",
      "file exist  abc.txt\n",
      "the number of lines 1\n",
      "the number of words 4\n",
      "the number of character 24\n"
     ]
    }
   ],
   "source": [
    "import os,sys\n",
    "fname=input(\"enter file name :\")\n",
    "if os.path.isfile(fname):\n",
    "    print(\"file exist \",fname)\n",
    "    f=open(fname,'r')\n",
    "else:\n",
    "    print(\"file does not exist \",fname)\n",
    "    sys.exit(0)\n",
    "lcount=wcount=ccount=0\n",
    "for line in f:\n",
    "    lcount=lcount+1\n",
    "    ccount=ccount+len(line)\n",
    "    words=line.split()\n",
    "    wcount=wcount+len(words)\n",
    "print(\"the number of lines\",lcount)\n",
    "print(\"the number of words\",wcount)\n",
    "print(\"the number of character\",ccount)"
   ]
  },
  {
   "cell_type": "code",
   "execution_count": 38,
   "metadata": {},
   "outputs": [
    {
     "data": {
      "text/plain": [
       "23"
      ]
     },
     "execution_count": 38,
     "metadata": {},
     "output_type": "execute_result"
    }
   ],
   "source": [
    "a=\"(hello,python,learning)\"\n",
    "b=tuple(a)\n",
    "len(b)"
   ]
  },
  {
   "cell_type": "code",
   "execution_count": 41,
   "metadata": {},
   "outputs": [
    {
     "name": "stdout",
     "output_type": "stream",
     "text": [
      "enter file name : abc.txt\n",
      "file exist :  abc.txt\n",
      "the number of lines 1\n",
      "the number of words 4\n",
      "the number of character  24\n"
     ]
    }
   ],
   "source": [
    "import os,sys\n",
    "fname=input(\"enter file name : \" )\n",
    "if os.path.isfile(fname):\n",
    "    print(\"file exist : \",fname)\n",
    "    f=open(fname,'r')\n",
    "else:\n",
    "    print(\"file does not exist\",fname)\n",
    "    sys.exit(0)\n",
    "lcount=wcount=ccount=0\n",
    "for line in f:\n",
    "    lcount=lcount+1\n",
    "    ccount=ccount+len(line)\n",
    "    words=line.split()\n",
    "    wcount=wcount+len(words)\n",
    "print(\"the number of lines\",lcount)\n",
    "print(\"the number of words\",wcount)\n",
    "print(\"the number of character \",ccount)"
   ]
  },
  {
   "cell_type": "code",
   "execution_count": 42,
   "metadata": {},
   "outputs": [
    {
     "name": "stdout",
     "output_type": "stream",
     "text": [
      "new image is available with new name:newpic.jpg\n"
     ]
    }
   ],
   "source": [
    "f1=open('DSC.JPG','rb')\n",
    "f2=open(\"newpic.jpg\",'wb')\n",
    "bytes=f1.read()\n",
    "f2.write(bytes)\n",
    "print(\"new image is available with new name:newpic.jpg\")"
   ]
  },
  {
   "cell_type": "code",
   "execution_count": 44,
   "metadata": {},
   "outputs": [
    {
     "name": "stdout",
     "output_type": "stream",
     "text": [
      "enter number of employees4\n",
      "enter employee no : 100\n",
      "enter employee namedurga\n",
      "enter employee salary1000\n",
      "enter employee addrresshyd\n",
      "enter employee no : 200\n",
      "enter employee namesachin\n",
      "enter employee salary2000\n",
      "enter employee addrressmumbai\n",
      "enter employee no : 300\n",
      "enter employee namedhoni\n",
      "enter employee salary3000\n",
      "enter employee addrress400\n",
      "enter employee no : sunny\n",
      "enter employee name1000\n",
      "enter employee salary14000\n",
      "enter employee addrressusa\n",
      "totalemplyee data written to csv file successfully\n"
     ]
    }
   ],
   "source": [
    "import csv\n",
    "with open('emp.csv','w',newline=\"\") as f:\n",
    "    w=csv.writer(f)\n",
    "    w.writerow([\"eno\",\"ename\",\"esal\",\"eaddr\"])\n",
    "    n=int(input(\"enter number of employees\"))\n",
    "    for i in range(n):\n",
    "        eno=input(\"enter employee no : \")\n",
    "        ename=input(\"enter employee name\")\n",
    "        esal=input(\"enter employee salary\")\n",
    "        eaddr=input(\"enter employee addrress\")\n",
    "        w.writerow([eno,ename,esal,eaddr])\n",
    "print(\"totalemplyee data written to csv file successfully\")"
   ]
  },
  {
   "cell_type": "code",
   "execution_count": 47,
   "metadata": {},
   "outputs": [
    {
     "name": "stdout",
     "output_type": "stream",
     "text": [
      "eno \tename \tesal \teaddr \t\n",
      "100 \tdurga \t1000 \thyd \t\n",
      "200 \tsachin \t2000 \tmumbai \t\n",
      "300 \tdhoni \t3000 \t400 \t\n",
      "sunny \t1000 \t14000 \tusa \t\n"
     ]
    }
   ],
   "source": [
    "import csv\n",
    "f=open('emp.csv','r')\n",
    "r=csv.reader(f)\n",
    "for line in r:\n",
    "    for words in line:\n",
    "        print(words,'\\t',end='')\n",
    "    print()"
   ]
  },
  {
   "cell_type": "code",
   "execution_count": 49,
   "metadata": {},
   "outputs": [
    {
     "name": "stdout",
     "output_type": "stream",
     "text": [
      "enter number of employees : 4\n",
      "enter employee number100\n",
      "enter employe namedurga\n",
      "enter employee salary1000\n",
      "enter employee addresshyd\n",
      "enter employee number200\n",
      "enter employe namesachin\n",
      "enter employee salary2000\n",
      "enter employee addressmumbai\n",
      "enter employee number300\n",
      "enter employe namedhoni\n",
      "enter employee salary3000\n",
      "enter employee addressranchi\n",
      "enter employee number400\n",
      "enter employe namesunny\n",
      "enter employee salary4000\n",
      "enter employee addressmumbai\n",
      "total employees data written successfully\n"
     ]
    }
   ],
   "source": [
    "import csv\n",
    "with open(\"abcd.csv\",'w',newline=\"\") as f:\n",
    "    w=csv.writer(f)\n",
    "    w.writerow([\"eno\",'ename','esal','eaddr'])\n",
    "    n=int(input(\"enter number of employees : \"))\n",
    "    for i in range(n):\n",
    "        eno=input(\"enter employee number\")\n",
    "        ename=input(\"enter employe name\")\n",
    "        esal=input(\"enter employee salary\")\n",
    "        eaddr=input(\"enter employee address\")\n",
    "        w.writerow([eno,ename,esal,eaddr])\n",
    "print(\"total employees data written successfully\")"
   ]
  },
  {
   "cell_type": "code",
   "execution_count": 50,
   "metadata": {},
   "outputs": [
    {
     "name": "stdout",
     "output_type": "stream",
     "text": [
      "eno \tename \tesal \teaddr \t\n",
      "100 \tdurga \t1000 \thyd \t\n",
      "200 \tsachin \t2000 \tmumbai \t\n",
      "300 \tdhoni \t3000 \tranchi \t\n",
      "400 \tsunny \t4000 \tmumbai \t\n"
     ]
    }
   ],
   "source": [
    "import csv\n",
    "f=open('abcd.csv','r')\n",
    "r=csv.reader(f)\n",
    "for line in r:\n",
    "    for words in line:\n",
    "        print(words,\"\\t\",end='')\n",
    "    print()"
   ]
  },
  {
   "cell_type": "code",
   "execution_count": 66,
   "metadata": {},
   "outputs": [
    {
     "ename": "AttributeError",
     "evalue": "type object 'ZipFile' has no attribute 'Zipfile'",
     "output_type": "error",
     "traceback": [
      "\u001b[1;31m---------------------------------------------------------------------------\u001b[0m",
      "\u001b[1;31mAttributeError\u001b[0m                            Traceback (most recent call last)",
      "\u001b[1;32m<ipython-input-66-78620ae27ed7>\u001b[0m in \u001b[0;36m<module>\u001b[1;34m()\u001b[0m\n\u001b[0;32m      1\u001b[0m \u001b[1;32mfrom\u001b[0m \u001b[0mzipfile\u001b[0m \u001b[1;32mimport\u001b[0m \u001b[1;33m*\u001b[0m\u001b[1;33m\u001b[0m\u001b[0m\n\u001b[1;32m----> 2\u001b[1;33m \u001b[0mf\u001b[0m\u001b[1;33m=\u001b[0m\u001b[0mZipFile\u001b[0m\u001b[1;33m.\u001b[0m\u001b[0mZipfile\u001b[0m\u001b[1;33m(\u001b[0m\u001b[1;34m\"files.zip\"\u001b[0m\u001b[1;33m,\u001b[0m\u001b[1;34m'w'\u001b[0m\u001b[1;33m,\u001b[0m\u001b[0mZIP_DEFLATED\u001b[0m\u001b[1;33m)\u001b[0m\u001b[1;33m\u001b[0m\u001b[0m\n\u001b[0m\u001b[0;32m      3\u001b[0m \u001b[0mf\u001b[0m\u001b[1;33m.\u001b[0m\u001b[0mwrite\u001b[0m\u001b[1;33m(\u001b[0m\u001b[1;34m'abcd.csv'\u001b[0m\u001b[1;33m)\u001b[0m\u001b[1;33m\u001b[0m\u001b[0m\n\u001b[0;32m      4\u001b[0m \u001b[0mf\u001b[0m\u001b[1;33m.\u001b[0m\u001b[0mwrite\u001b[0m\u001b[1;33m(\u001b[0m\u001b[1;34m\"abc.csv\"\u001b[0m\u001b[1;33m)\u001b[0m\u001b[1;33m\u001b[0m\u001b[0m\n\u001b[0;32m      5\u001b[0m \u001b[0mf\u001b[0m\u001b[1;33m.\u001b[0m\u001b[0mwrite\u001b[0m\u001b[1;33m(\u001b[0m\u001b[1;34m\"abcd.csv\"\u001b[0m\u001b[1;33m)\u001b[0m\u001b[1;33m\u001b[0m\u001b[0m\n",
      "\u001b[1;31mAttributeError\u001b[0m: type object 'ZipFile' has no attribute 'Zipfile'"
     ]
    }
   ],
   "source": [
    "from zipfile import *\n",
    "f=ZipFile(\"files.zip\",'w',ZIP_DEFLATED)\n",
    "f.write('abcd.csv')\n",
    "f.write(\"abc.csv\")\n",
    "f.write(\"abcd.csv\")\n",
    "f.close()\n",
    "print(\"files.zip file created successfully\")"
   ]
  },
  {
   "cell_type": "code",
   "execution_count": 4,
   "metadata": {},
   "outputs": [
    {
     "ename": "NameError",
     "evalue": "name 'Zipfile' is not defined",
     "output_type": "error",
     "traceback": [
      "\u001b[1;31m---------------------------------------------------------------------------\u001b[0m",
      "\u001b[1;31mNameError\u001b[0m                                 Traceback (most recent call last)",
      "\u001b[1;32m<ipython-input-4-4629a4485a2a>\u001b[0m in \u001b[0;36m<module>\u001b[1;34m()\u001b[0m\n\u001b[0;32m      1\u001b[0m \u001b[1;32mfrom\u001b[0m \u001b[0mzipfile\u001b[0m \u001b[1;32mimport\u001b[0m \u001b[1;33m*\u001b[0m\u001b[1;33m\u001b[0m\u001b[0m\n\u001b[1;32m----> 2\u001b[1;33m \u001b[0mf\u001b[0m\u001b[1;33m=\u001b[0m\u001b[0mZipfile\u001b[0m\u001b[1;33m(\u001b[0m\u001b[1;34m\"file.zip\"\u001b[0m\u001b[1;33m,\u001b[0m\u001b[1;34m'w'\u001b[0m\u001b[1;33m,\u001b[0m\u001b[0mZIP_DEFLATED\u001b[0m\u001b[1;33m)\u001b[0m\u001b[1;33m\u001b[0m\u001b[0m\n\u001b[0m\u001b[0;32m      3\u001b[0m \u001b[0mf\u001b[0m\u001b[1;33m.\u001b[0m\u001b[0mwrite\u001b[0m\u001b[1;33m(\u001b[0m\u001b[1;34m\"abcd.txt\"\u001b[0m\u001b[1;33m)\u001b[0m\u001b[1;33m\u001b[0m\u001b[0m\n\u001b[0;32m      4\u001b[0m \u001b[0mf\u001b[0m\u001b[1;33m.\u001b[0m\u001b[0mwrite\u001b[0m\u001b[1;33m(\u001b[0m\u001b[1;34m\"abc.txt\"\u001b[0m\u001b[1;33m)\u001b[0m\u001b[1;33m\u001b[0m\u001b[0m\n\u001b[0;32m      5\u001b[0m \u001b[0mf\u001b[0m\u001b[1;33m.\u001b[0m\u001b[0mwrite\u001b[0m\u001b[1;33m(\u001b[0m\u001b[1;34m'abcd.csv'\u001b[0m\u001b[1;33m)\u001b[0m\u001b[1;33m\u001b[0m\u001b[0m\n",
      "\u001b[1;31mNameError\u001b[0m: name 'Zipfile' is not defined"
     ]
    }
   ],
   "source": [
    "from zipfile import *\n",
    "f=Zipfile(\"file.zip\",'w',ZIP_DEFLATED)\n",
    "f.write(\"abcd.txt\")\n",
    "f.write(\"abc.txt\")\n",
    "f.write('abcd.csv')\n",
    "f.close()\n",
    "print(\"files.zip file created successfully\")"
   ]
  },
  {
   "cell_type": "code",
   "execution_count": 7,
   "metadata": {},
   "outputs": [
    {
     "ename": "NameError",
     "evalue": "name 'Zipfile' is not defined",
     "output_type": "error",
     "traceback": [
      "\u001b[1;31m---------------------------------------------------------------------------\u001b[0m",
      "\u001b[1;31mNameError\u001b[0m                                 Traceback (most recent call last)",
      "\u001b[1;32m<ipython-input-7-9b5cf97b996d>\u001b[0m in \u001b[0;36m<module>\u001b[1;34m()\u001b[0m\n\u001b[0;32m      1\u001b[0m \u001b[1;32mfrom\u001b[0m \u001b[0mzipfile\u001b[0m \u001b[1;32mimport\u001b[0m \u001b[1;33m*\u001b[0m\u001b[1;33m\u001b[0m\u001b[0m\n\u001b[1;32m----> 2\u001b[1;33m \u001b[0mf\u001b[0m\u001b[1;33m=\u001b[0m\u001b[0mZipfile\u001b[0m\u001b[1;33m(\u001b[0m\u001b[1;34m\"files.zip\"\u001b[0m\u001b[1;33m,\u001b[0m\u001b[1;34m'r'\u001b[0m\u001b[1;33m,\u001b[0m\u001b[0mZIP_STORED\u001b[0m\u001b[1;33m)\u001b[0m\u001b[1;33m\u001b[0m\u001b[0m\n\u001b[0m\u001b[0;32m      3\u001b[0m \u001b[0mname\u001b[0m\u001b[1;33m=\u001b[0m\u001b[0mf\u001b[0m\u001b[1;33m.\u001b[0m\u001b[0mnamelist\u001b[0m\u001b[1;33m(\u001b[0m\u001b[1;33m)\u001b[0m\u001b[1;33m\u001b[0m\u001b[0m\n\u001b[0;32m      4\u001b[0m \u001b[1;32mfor\u001b[0m  \u001b[0mname\u001b[0m \u001b[1;32min\u001b[0m \u001b[0mnames\u001b[0m\u001b[1;33m:\u001b[0m\u001b[1;33m\u001b[0m\u001b[0m\n\u001b[0;32m      5\u001b[0m     \u001b[0mprint\u001b[0m\u001b[1;33m(\u001b[0m\u001b[1;34m\"file name\"\u001b[0m\u001b[1;33m,\u001b[0m\u001b[0mname\u001b[0m\u001b[1;33m)\u001b[0m\u001b[1;33m\u001b[0m\u001b[0m\n",
      "\u001b[1;31mNameError\u001b[0m: name 'Zipfile' is not defined"
     ]
    }
   ],
   "source": [
    "from zipfile import *\n",
    "f=Zipfile(\"files.zip\",'r',ZIP_STORED)\n",
    "name=f.namelist()\n",
    "for  name in names:\n",
    "    print(\"file name\",name)\n",
    "    print(\"the content of this file is \")\n",
    "    f1=open(name,'r')\n",
    "    print(f1.read())\n",
    "    print()"
   ]
  },
  {
   "cell_type": "code",
   "execution_count": 8,
   "metadata": {},
   "outputs": [
    {
     "ename": "NameError",
     "evalue": "name 'zipfile' is not defined",
     "output_type": "error",
     "traceback": [
      "\u001b[1;31m---------------------------------------------------------------------------\u001b[0m",
      "\u001b[1;31mNameError\u001b[0m                                 Traceback (most recent call last)",
      "\u001b[1;32m<ipython-input-8-94045c0ce860>\u001b[0m in \u001b[0;36m<module>\u001b[1;34m()\u001b[0m\n\u001b[0;32m      1\u001b[0m \u001b[1;32mfrom\u001b[0m \u001b[0mzipfile\u001b[0m \u001b[1;32mimport\u001b[0m \u001b[1;33m*\u001b[0m\u001b[1;33m\u001b[0m\u001b[0m\n\u001b[1;32m----> 2\u001b[1;33m \u001b[0mf\u001b[0m\u001b[1;33m=\u001b[0m\u001b[0mzipfile\u001b[0m\u001b[1;33m(\u001b[0m\u001b[1;34m\"file.zip\"\u001b[0m\u001b[1;33m,\u001b[0m\u001b[1;34m'r'\u001b[0m\u001b[1;33m,\u001b[0m\u001b[0mZIP_STORED\u001b[0m\u001b[1;33m)\u001b[0m\u001b[1;33m\u001b[0m\u001b[0m\n\u001b[0m\u001b[0;32m      3\u001b[0m \u001b[0mnames\u001b[0m\u001b[1;33m=\u001b[0m\u001b[0mnamelist\u001b[0m\u001b[1;33m(\u001b[0m\u001b[1;33m)\u001b[0m\u001b[1;33m\u001b[0m\u001b[0m\n\u001b[0;32m      4\u001b[0m \u001b[1;32mfor\u001b[0m \u001b[0mname\u001b[0m \u001b[1;32min\u001b[0m \u001b[0mnames\u001b[0m\u001b[1;33m:\u001b[0m\u001b[1;33m\u001b[0m\u001b[0m\n\u001b[0;32m      5\u001b[0m     \u001b[0mprint\u001b[0m\u001b[1;33m(\u001b[0m\u001b[1;34m\"file name\"\u001b[0m\u001b[1;33m,\u001b[0m\u001b[0mname\u001b[0m\u001b[1;33m)\u001b[0m\u001b[1;33m\u001b[0m\u001b[0m\n",
      "\u001b[1;31mNameError\u001b[0m: name 'zipfile' is not defined"
     ]
    }
   ],
   "source": [
    "from zipfile import *\n",
    "f=zipfile(\"file.zip\",'r',ZIP_STORED)\n",
    "names=namelist()\n",
    "for name in names:\n",
    "    print(\"file name\",name)\n",
    "    print(\"the contnet of this file is \")\n",
    "    f=open(name,'r')\n",
    "    print(f.read())\n",
    "    print()"
   ]
  },
  {
   "cell_type": "code",
   "execution_count": 9,
   "metadata": {},
   "outputs": [
    {
     "name": "stdout",
     "output_type": "stream",
     "text": [
      "current workind directory  C:\\Users\\pc\n"
     ]
    }
   ],
   "source": [
    "import os\n",
    "cwd=os.getcwd()\n",
    "print(\"current workind directory \",cwd)"
   ]
  },
  {
   "cell_type": "code",
   "execution_count": 10,
   "metadata": {},
   "outputs": [
    {
     "name": "stdout",
     "output_type": "stream",
     "text": [
      "mysub directory created in cwd\n"
     ]
    }
   ],
   "source": [
    "import os \n",
    "os.mkdir(\"mysub\")\n",
    "print(\"mysub directory created in cwd\")"
   ]
  },
  {
   "cell_type": "code",
   "execution_count": 11,
   "metadata": {},
   "outputs": [
    {
     "name": "stdout",
     "output_type": "stream",
     "text": [
      "mysub2 created inside mysub\n"
     ]
    }
   ],
   "source": [
    "import os \n",
    "os.mkdir(\"mysub/mysub2\")\n",
    "print(\"mysub2 created inside mysub\")"
   ]
  },
  {
   "cell_type": "code",
   "execution_count": 12,
   "metadata": {},
   "outputs": [
    {
     "name": "stdout",
     "output_type": "stream",
     "text": [
      "sub1 and in that sub2 in that sub3 directories created\n"
     ]
    }
   ],
   "source": [
    "import os\n",
    "os.makedirs(\"mysub2/sub1/sub2/sub3\")\n",
    "print(\"sub1 and in that sub2 in that sub3 directories created\")"
   ]
  },
  {
   "cell_type": "code",
   "execution_count": 13,
   "metadata": {},
   "outputs": [
    {
     "name": "stdout",
     "output_type": "stream",
     "text": [
      "mysub2 directory deleted\n"
     ]
    }
   ],
   "source": [
    "import os \n",
    "os.rmdir(\"mysub/mysub2\")\n",
    "print(\"mysub2 directory deleted\")"
   ]
  },
  {
   "cell_type": "code",
   "execution_count": 15,
   "metadata": {},
   "outputs": [
    {
     "name": "stdout",
     "output_type": "stream",
     "text": [
      "all 3 directories sub1,sub2 and sub3 removed\n"
     ]
    }
   ],
   "source": [
    "import os \n",
    "os.removedirs(\"mysub2/sub1/sub2/sub3\")\n",
    "print(\"all 3 directories sub1,sub2 and sub3 removed\")"
   ]
  },
  {
   "cell_type": "code",
   "execution_count": 16,
   "metadata": {},
   "outputs": [
    {
     "name": "stdout",
     "output_type": "stream",
     "text": [
      "mysub directoory renamed to newdir\n"
     ]
    }
   ],
   "source": [
    "import os \n",
    "os.rename(\"mysub\",\"newdir\")\n",
    "print(\"mysub directoory renamed to newdir\")"
   ]
  },
  {
   "cell_type": "code",
   "execution_count": 19,
   "metadata": {},
   "outputs": [
    {
     "name": "stdout",
     "output_type": "stream",
     "text": [
      "['.anaconda', '.android', '.conda', '.ipynb_checkpoints', '.ipython', '.jupyter', '.matplotlib', '.pylint.d', '.server.py.swp', '.spyder-py3', '.vscode', 'abc.txt', 'abcd.csv', 'abcd.txt', 'AppData', 'Application Data', 'Contacts', 'Cookies', 'Desktop', 'djangoproject', 'Documents', 'Downloads', 'DSC.JPG', 'emp.csv', 'Favorites', 'Links', 'Local Settings', 'Music', 'My Documents', 'NetHood', 'newdir', 'newdsc.jpg', 'newpic.jpg', 'NTUSER.DAT', 'ntuser.dat.LOG1', 'ntuser.dat.LOG2', 'NTUSER.DAT{016888bd-6c6f-11de-8d1d-001e0bcde3ec}.TM.blf', 'NTUSER.DAT{016888bd-6c6f-11de-8d1d-001e0bcde3ec}.TMContainer00000000000000000001.regtrans-ms', 'NTUSER.DAT{016888bd-6c6f-11de-8d1d-001e0bcde3ec}.TMContainer00000000000000000002.regtrans-ms', 'NTUSER.DAT{fae26b8c-596c-11e7-b64c-3859f9ebaccf}.TM.blf', 'NTUSER.DAT{fae26b8c-596c-11e7-b64c-3859f9ebaccf}.TMContainer00000000000000000001.regtrans-ms', 'NTUSER.DAT{fae26b8c-596c-11e7-b64c-3859f9ebaccf}.TMContainer00000000000000000002.regtrans-ms', 'ntuser.ini', 'Pictures', 'PrintHood', 'project1', 'Recent', 'Saved Games', 'Searches', 'SendTo', 'Start Menu', 'Templates', 'Thumbs.db', 'Untitled.ipynb', 'Untitled1.ipynb', 'Untitled2.ipynb', 'Videos']\n"
     ]
    }
   ],
   "source": [
    "import os\n",
    "print(os.listdir(\".\"),end=\"\\n\")"
   ]
  },
  {
   "cell_type": "code",
   "execution_count": 1,
   "metadata": {},
   "outputs": [
    {
     "name": "stdout",
     "output_type": "stream",
     "text": [
      "current directory path .\\Saved Games\\Microsoft Games\n",
      "directories ['Purble Place']\n",
      "files ['desktop.ini']\n",
      "\n",
      "current directory path .\\Saved Games\\Microsoft Games\\Purble Place\n",
      "directories []\n",
      "files ['desktop.ini', 'Purble Pairs.PurblePairsSave-ms']\n",
      "\n"
     ]
    }
   ],
   "source": [
    "import os \n",
    "for dirpaths,dirnames,filenames in os.walk(\".\\Saved Games\\Microsoft Games\"):\n",
    "    print(\"current directory path\",dirpaths)\n",
    "    print(\"directories\",dirnames)\n",
    "    print(\"files\",filenames)\n",
    "    print()"
   ]
  },
  {
   "cell_type": "code",
   "execution_count": 3,
   "metadata": {},
   "outputs": [
    {
     "data": {
      "text/plain": [
       "1"
      ]
     },
     "execution_count": 3,
     "metadata": {},
     "output_type": "execute_result"
    }
   ],
   "source": [
    "import os \n",
    "os.system(\"IndentationError\")"
   ]
  },
  {
   "cell_type": "code",
   "execution_count": 4,
   "metadata": {},
   "outputs": [
    {
     "data": {
      "text/plain": [
       "1"
      ]
     },
     "execution_count": 4,
     "metadata": {},
     "output_type": "execute_result"
    }
   ],
   "source": [
    "import os \n",
    "os.system(\"dir*py\")"
   ]
  },
  {
   "cell_type": "code",
   "execution_count": 6,
   "metadata": {},
   "outputs": [
    {
     "data": {
      "text/plain": [
       "0"
      ]
     },
     "execution_count": 6,
     "metadata": {},
     "output_type": "execute_result"
    }
   ],
   "source": [
    "import os\n",
    "os.system(\"abc.txt\")"
   ]
  },
  {
   "cell_type": "code",
   "execution_count": 8,
   "metadata": {},
   "outputs": [
    {
     "name": "stdout",
     "output_type": "stream",
     "text": [
      "os.stat_result(st_mode=33206, st_ino=18577348462945031, st_dev=3392154689, st_nlink=1, st_uid=0, st_gid=0, st_size=24, st_atime=1602941192, st_mtime=1602934616, st_ctime=1602932812)\n"
     ]
    }
   ],
   "source": [
    "import os\n",
    "stats=os.stat(\"abc.txt\")\n",
    "print(stats)"
   ]
  },
  {
   "cell_type": "code",
   "execution_count": 10,
   "metadata": {},
   "outputs": [
    {
     "name": "stdout",
     "output_type": "stream",
     "text": [
      "os.stat_result(st_mode=33206, st_ino=173107110677060292, st_dev=3392154689, st_nlink=1, st_uid=0, st_gid=0, st_size=27, st_atime=1602933819, st_mtime=1602933328, st_ctime=1602933156)\n"
     ]
    }
   ],
   "source": [
    "import os\n",
    "stats=os.stat(\"abcd.txt\")\n",
    "print(stats)"
   ]
  },
  {
   "cell_type": "code",
   "execution_count": 13,
   "metadata": {},
   "outputs": [
    {
     "name": "stdout",
     "output_type": "stream",
     "text": [
      "file size in bytes 27\n",
      "file last accessed time  2020-10-17 16:53:39.317778\n",
      "file last modified time  2020-10-17 16:45:28.434701\n"
     ]
    }
   ],
   "source": [
    "import os\n",
    "from datetime import *\n",
    "stats=os.stat(\"abcd.txt\")\n",
    "print(\"file size in bytes\",stats.st_size)\n",
    "print(\"file last accessed time \",datetime.fromtimestamp(stats.st_atime))\n",
    "print(\"file last modified time \",datetime.fromtimestamp(stats.st_mtime))"
   ]
  },
  {
   "cell_type": "code",
   "execution_count": 15,
   "metadata": {},
   "outputs": [
    {
     "name": "stdout",
     "output_type": "stream",
     "text": [
      "file size in bytes 108\n",
      "file last accessed time  2020-10-17 18:06:00.985749\n",
      "file last modified time  2020-10-17 17:48:14.069725\n"
     ]
    }
   ],
   "source": [
    "import os\n",
    "from datetime import *\n",
    "stats=os.stat(\"emp.csv\")\n",
    "print(\"file size in bytes\",stats.st_size)\n",
    "print(\"file last accessed time \",datetime.fromtimestamp(stats.st_atime))\n",
    "print(\"file last modified time \",datetime.fromtimestamp(stats.st_mtime))"
   ]
  },
  {
   "cell_type": "code",
   "execution_count": 16,
   "metadata": {},
   "outputs": [
    {
     "name": "stdout",
     "output_type": "stream",
     "text": [
      "pickling of employee object completed\n",
      "printing employee information after unpickling\n",
      "(100,) \t ('durga',) \t (1000,) \t hyd\n"
     ]
    }
   ],
   "source": [
    "import pickle\n",
    "class employee:\n",
    "    def __init__(self,eno,ename,esal,eaddr):\n",
    "        self.eno=eno,\n",
    "        self.ename=ename,\n",
    "        self.esal=esal,\n",
    "        self.eaddr=eaddr\n",
    "    def display(self):\n",
    "        print(self.eno,\"\\t\",self.ename,\"\\t\",self.esal,\"\\t\",self.eaddr)\n",
    "with open('emp.dat','wb') as f:\n",
    "    e=employee(100,\"durga\",1000,\"hyd\")\n",
    "    pickle.dump(e,f)\n",
    "    print(\"pickling of employee object completed\")\n",
    "with open('emp.dat','rb') as f:\n",
    "    obj=pickle.load(f)\n",
    "    print(\"printing employee information after unpickling\")\n",
    "    obj.display()"
   ]
  },
  {
   "cell_type": "code",
   "execution_count": 17,
   "metadata": {},
   "outputs": [
    {
     "name": "stdout",
     "output_type": "stream",
     "text": [
      "pickling of employee object completed\n",
      "printing employee information after pickling \n",
      "(100,) \t ('durga',) \t (1000,) \t hyd\n"
     ]
    }
   ],
   "source": [
    "import pickle\n",
    "class employee:\n",
    "    def __init__(self,eno,ename,esal,eaddr):\n",
    "        self.eno=eno,\n",
    "        self.ename=ename,\n",
    "        self.esal=esal,\n",
    "        self.eaddr=eaddr\n",
    "    def display(self):\n",
    "        print(self.eno,'\\t',self.ename,'\\t',self.esal,'\\t',self.eaddr)\n",
    "with open(\"emp1.dat\",'wb') as f:\n",
    "    e=employee(100,\"durga\",1000,\"hyd\")\n",
    "    pickle.dump(e,f)\n",
    "print(\"pickling of employee object completed\")\n",
    "with open(\"emp1.dat\",\"rb\") as f:\n",
    "    obj=pickle.load(f)\n",
    "    print(\"printing employee information after pickling \")\n",
    "    obj.display()"
   ]
  },
  {
   "cell_type": "code",
   "execution_count": 1,
   "metadata": {},
   "outputs": [],
   "source": [
    "class employee:\n",
    "    def __init__(self,eno,ename,esal,eaddr):\n",
    "        self.eno=eno,\n",
    "        self.ename=ename,\n",
    "        self.esal=esal,\n",
    "        self.eaddr=eaddr\n",
    "    def display(self):\n",
    "        print(self.eno,\"\\t\",self.ename,\"\\t\",self.esal,\"\\t\",self.eaddr)"
   ]
  },
  {
   "cell_type": "code",
   "execution_count": 2,
   "metadata": {},
   "outputs": [
    {
     "name": "stdout",
     "output_type": "stream",
     "text": [
      "enter the number of employees : 3\n",
      "enter employee number 100\n",
      "enter employee name durga\n",
      "enter employee salary 1000\n",
      "enter employee addresshyd\n",
      "enter employee number 200\n",
      "enter employee name sunny\n",
      "enter employee salary 2000\n",
      "enter employee addressmumbai\n",
      "enter employee number 300\n",
      "enter employee name sachin\n",
      "enter employee salary 3000\n",
      "enter employee addressranchi\n",
      "employee object pickled successfully\n"
     ]
    }
   ],
   "source": [
    "import emp,pickle\n",
    "f=open(\"emp2.dat\",\"wb\")\n",
    "n=int(input(\"enter the number of employees : \"))\n",
    "for i in range(n):\n",
    "    eno=int(input(\"enter employee number \"))\n",
    "    ename=input(\"enter employee name \")\n",
    "    esal=float(input(\"enter employee salary \"))\n",
    "    eaddr=input(\"enter employee address\")\n",
    "    e=emp.employee(eno,ename,esal,eaddr)\n",
    "    pickle.dump(e,f)\n",
    "print(\"employee object pickled successfully\")"
   ]
  },
  {
   "cell_type": "code",
   "execution_count": 5,
   "metadata": {},
   "outputs": [
    {
     "name": "stdout",
     "output_type": "stream",
     "text": [
      "employee details\n",
      "(100,) \t ('durga',) \t (1000.0,) \t hyd\n",
      "(200,) \t ('sunny',) \t (2000.0,) \t mumbai\n",
      "(300,) \t ('sachin',) \t (3000.0,) \t ranchi\n",
      "all employee completed\n"
     ]
    }
   ],
   "source": [
    "import csv,pickle\n",
    "f=open(\"emp2.dat\",\"rb\")\n",
    "print(\"employee details\")\n",
    "while True:\n",
    "    try:\n",
    "        obj=pickle.load(f)\n",
    "        obj.display()\n",
    "    except EOFError :\n",
    "        print(\"all employee completed\")\n",
    "        break\n",
    "f.close()"
   ]
  },
  {
   "cell_type": "code",
   "execution_count": 2,
   "metadata": {},
   "outputs": [],
   "source": [
    "class employee:\n",
    "    def __init__(self,eno,ename,esal,eaddr):\n",
    "        self.eno=eno,\n",
    "        self.ename=ename,\n",
    "        self.esal=esal,\n",
    "        self.eaddr=eaddr\n",
    "    def display(self):\n",
    "        print(self.eno,\"\\t\",self.ename,\"\\t\",self.esal,\"\\t\",self.eaddr)"
   ]
  },
  {
   "cell_type": "code",
   "execution_count": 3,
   "metadata": {},
   "outputs": [
    {
     "name": "stdout",
     "output_type": "stream",
     "text": [
      "enter number of employess3\n",
      "enter employee number 100\n",
      "enter employee namedurga\n",
      "enter employee salary 1000\n",
      "enter employee addresshyd\n",
      "enter employee number 200\n",
      "enter employee namesachin\n",
      "enter employee salary 2000\n",
      "enter employee addressmumbai\n",
      "enter employee number 300\n",
      "enter employee namedhoni\n",
      "enter employee salary 3000\n",
      "enter employee addressdelhi\n",
      "employee object pickled successufully\n"
     ]
    }
   ],
   "source": [
    "import emp,pickle\n",
    "f=open(\"emp.dat\",\"wb\")\n",
    "n=int(input(\"enter number of employess\"))\n",
    "for i in range(n):\n",
    "    eno=int(input(\"enter employee number \"))\n",
    "    ename=input(\"enter employee name\")\n",
    "    esal=float(input(\"enter employee salary \"))\n",
    "    eaddr=input(\"enter employee address\")\n",
    "    e=emp.employee(eno,ename,esal,eaddr)\n",
    "    pickle.dump(e,f)\n",
    "print(\"employee object pickled successufully\")"
   ]
  },
  {
   "cell_type": "code",
   "execution_count": 4,
   "metadata": {},
   "outputs": [
    {
     "name": "stdout",
     "output_type": "stream",
     "text": [
      "employe details\n",
      "(100,) \t ('durga',) \t (1000.0,) \t hyd\n",
      "(200,) \t ('sachin',) \t (2000.0,) \t mumbai\n",
      "(300,) \t ('dhoni',) \t (3000.0,) \t delhi\n",
      "all employee complted\n"
     ]
    }
   ],
   "source": [
    "import emp,pickle\n",
    "f=open(\"emp.dat\",\"rb\")\n",
    "print (\"employe details\")\n",
    "while True:\n",
    "    try:\n",
    "        obj=pickle.load(f)\n",
    "        obj.display()\n",
    "    except EOFError:\n",
    "        print(\"all employee complted\")\n",
    "        break\n",
    "f.close()"
   ]
  },
  {
   "cell_type": "code",
   "execution_count": 5,
   "metadata": {},
   "outputs": [
    {
     "name": "stdout",
     "output_type": "stream",
     "text": [
      "enter employee number 4\n",
      "enter employee number 100\n",
      "enter employee namesunny\n",
      "enter employee salary1000\n",
      "enter employee addressmumbai\n",
      "enter employee number 2000\n",
      "enter employee namesachin\n",
      "enter employee salary2000\n",
      "enter employee addresshyderbad\n",
      "enter employee number 300\n",
      "enter employee namedhoni\n",
      "enter employee salary3000\n",
      "enter employee addressranchi\n",
      "enter employee number 400\n",
      "enter employee namedurga\n",
      "enter employee salary4000\n",
      "enter employee addressghar\n",
      "employee object pickled successfully\n"
     ]
    }
   ],
   "source": [
    "import emp,pickle\n",
    "f=open(\"emp1.dat\",\"wb\")\n",
    "n=int(input(\"enter employee number \"))\n",
    "for i in range(n):\n",
    "    eno=int(input(\"enter employee number \"))\n",
    "    ename=input(\"enter employee name\")\n",
    "    esal=float(input(\"enter employee salary\"))\n",
    "    eaddr=input(\"enter employee address\")\n",
    "    e=emp.employee(eno,ename,esal,eaddr)\n",
    "    pickle.dump(e,f)\n",
    "print(\"employee object pickled successfully\")"
   ]
  },
  {
   "cell_type": "code",
   "execution_count": 7,
   "metadata": {},
   "outputs": [
    {
     "name": "stdout",
     "output_type": "stream",
     "text": [
      "employee details\n",
      "(100,) \t ('sunny',) \t (1000.0,) \t mumbai\n",
      "(2000,) \t ('sachin',) \t (2000.0,) \t hyderbad\n",
      "(300,) \t ('dhoni',) \t (3000.0,) \t ranchi\n",
      "(400,) \t ('durga',) \t (4000.0,) \t ghar\n",
      "all employee completed\n"
     ]
    }
   ],
   "source": [
    "import emp,pickle\n",
    "f=open(\"emp1.dat\",\"rb\")\n",
    "print(\"employee details\")\n",
    "while True:\n",
    "    try:\n",
    "        obj=pickle.load(f)\n",
    "        obj.display()\n",
    "    except EOFError:\n",
    "        print(\"all employee completed\")\n",
    "        break\n",
    "f.close()"
   ]
  },
  {
   "cell_type": "code",
   "execution_count": 15,
   "metadata": {},
   "outputs": [
    {
     "ename": "NameError",
     "evalue": "name 'zipfile' is not defined",
     "output_type": "error",
     "traceback": [
      "\u001b[1;31m---------------------------------------------------------------------------\u001b[0m",
      "\u001b[1;31mNameError\u001b[0m                                 Traceback (most recent call last)",
      "\u001b[1;32m<ipython-input-15-350190052078>\u001b[0m in \u001b[0;36m<module>\u001b[1;34m()\u001b[0m\n\u001b[0;32m      1\u001b[0m \u001b[1;32mfrom\u001b[0m \u001b[0mzipfile\u001b[0m \u001b[1;32mimport\u001b[0m \u001b[1;33m*\u001b[0m\u001b[1;33m\u001b[0m\u001b[0m\n\u001b[1;32m----> 2\u001b[1;33m \u001b[0mzipfile\u001b[0m\u001b[1;33m=\u001b[0m\u001b[0mzipfile\u001b[0m\u001b[1;33m(\u001b[0m\u001b[1;34m\"file.zip\"\u001b[0m\u001b[1;33m,\u001b[0m\u001b[1;34m'w'\u001b[0m\u001b[1;33m,\u001b[0m\u001b[0mZIP_DEFLATED\u001b[0m\u001b[1;33m)\u001b[0m\u001b[1;33m\u001b[0m\u001b[0m\n\u001b[0m\u001b[0;32m      3\u001b[0m \u001b[0mf\u001b[0m\u001b[1;33m.\u001b[0m\u001b[0mwrite\u001b[0m\u001b[1;33m(\u001b[0m\u001b[1;34m\"abc.txt\"\u001b[0m\u001b[1;33m)\u001b[0m\u001b[1;33m\u001b[0m\u001b[0m\n\u001b[0;32m      4\u001b[0m \u001b[0mf\u001b[0m\u001b[1;33m.\u001b[0m\u001b[0mclose\u001b[0m\u001b[1;33m(\u001b[0m\u001b[1;33m)\u001b[0m\u001b[1;33m\u001b[0m\u001b[0m\n\u001b[0;32m      5\u001b[0m \u001b[0mprint\u001b[0m\u001b[1;33m(\u001b[0m\u001b[1;34m\"zip file created successfuly\"\u001b[0m\u001b[1;33m)\u001b[0m\u001b[1;33m\u001b[0m\u001b[0m\n",
      "\u001b[1;31mNameError\u001b[0m: name 'zipfile' is not defined"
     ]
    }
   ],
   "source": [
    "from zipfile import *\n",
    "zipfile=zipfile(\"file.zip\",'w',ZIP_DEFLATED)\n",
    "f.write(\"abc.txt\")\n",
    "f.close()\n",
    "print(\"zip file created successfuly\")"
   ]
  },
  {
   "cell_type": "code",
   "execution_count": 3,
   "metadata": {},
   "outputs": [
    {
     "name": "stdout",
     "output_type": "stream",
     "text": [
      "hello\n"
     ]
    },
    {
     "data": {
      "text/plain": [
       "1"
      ]
     },
     "execution_count": 3,
     "metadata": {},
     "output_type": "execute_result"
    }
   ],
   "source": [
    "def name():\n",
    "    print(\"hello\")\n",
    "    return 1\n",
    "    return 2\n",
    "\n",
    "name()"
   ]
  },
  {
   "cell_type": "code",
   "execution_count": 1,
   "metadata": {},
   "outputs": [
    {
     "ename": "SyntaxError",
     "evalue": "invalid syntax (<ipython-input-1-b19d96198bef>, line 2)",
     "output_type": "error",
     "traceback": [
      "\u001b[1;36m  File \u001b[1;32m\"<ipython-input-1-b19d96198bef>\"\u001b[1;36m, line \u001b[1;32m2\u001b[0m\n\u001b[1;33m    if x==10\u001b[0m\n\u001b[1;37m            ^\u001b[0m\n\u001b[1;31mSyntaxError\u001b[0m\u001b[1;31m:\u001b[0m invalid syntax\n"
     ]
    }
   ],
   "source": [
    "x=10\n",
    "if x==10\n",
    "print(\"hello\")"
   ]
  },
  {
   "cell_type": "code",
   "execution_count": 2,
   "metadata": {},
   "outputs": [
    {
     "ename": "SyntaxError",
     "evalue": "Missing parentheses in call to 'print'. Did you mean print(\"hello\")? (<ipython-input-2-2a0eaa89f43f>, line 1)",
     "output_type": "error",
     "traceback": [
      "\u001b[1;36m  File \u001b[1;32m\"<ipython-input-2-2a0eaa89f43f>\"\u001b[1;36m, line \u001b[1;32m1\u001b[0m\n\u001b[1;33m    print \"hello\"\u001b[0m\n\u001b[1;37m                ^\u001b[0m\n\u001b[1;31mSyntaxError\u001b[0m\u001b[1;31m:\u001b[0m Missing parentheses in call to 'print'. Did you mean print(\"hello\")?\n"
     ]
    }
   ],
   "source": [
    "print \"hello\""
   ]
  },
  {
   "cell_type": "code",
   "execution_count": 3,
   "metadata": {},
   "outputs": [
    {
     "ename": "ZeroDivisionError",
     "evalue": "division by zero",
     "output_type": "error",
     "traceback": [
      "\u001b[1;31m---------------------------------------------------------------------------\u001b[0m",
      "\u001b[1;31mZeroDivisionError\u001b[0m                         Traceback (most recent call last)",
      "\u001b[1;32m<ipython-input-3-fe01563e1bc6>\u001b[0m in \u001b[0;36m<module>\u001b[1;34m()\u001b[0m\n\u001b[1;32m----> 1\u001b[1;33m \u001b[0mprint\u001b[0m\u001b[1;33m(\u001b[0m\u001b[1;36m10\u001b[0m\u001b[1;33m/\u001b[0m\u001b[1;36m0\u001b[0m\u001b[1;33m)\u001b[0m\u001b[1;33m\u001b[0m\u001b[0m\n\u001b[0m",
      "\u001b[1;31mZeroDivisionError\u001b[0m: division by zero"
     ]
    }
   ],
   "source": [
    "print(10/0)"
   ]
  },
  {
   "cell_type": "code",
   "execution_count": 4,
   "metadata": {},
   "outputs": [
    {
     "ename": "TypeError",
     "evalue": "unsupported operand type(s) for /: 'int' and 'str'",
     "output_type": "error",
     "traceback": [
      "\u001b[1;31m---------------------------------------------------------------------------\u001b[0m",
      "\u001b[1;31mTypeError\u001b[0m                                 Traceback (most recent call last)",
      "\u001b[1;32m<ipython-input-4-5b0f17ebac5b>\u001b[0m in \u001b[0;36m<module>\u001b[1;34m()\u001b[0m\n\u001b[1;32m----> 1\u001b[1;33m \u001b[0mprint\u001b[0m\u001b[1;33m(\u001b[0m\u001b[1;36m10\u001b[0m\u001b[1;33m/\u001b[0m\u001b[1;34m\"ten\"\u001b[0m\u001b[1;33m)\u001b[0m\u001b[1;33m\u001b[0m\u001b[0m\n\u001b[0m",
      "\u001b[1;31mTypeError\u001b[0m: unsupported operand type(s) for /: 'int' and 'str'"
     ]
    }
   ],
   "source": [
    "print(10/\"ten\")"
   ]
  },
  {
   "cell_type": "code",
   "execution_count": 5,
   "metadata": {},
   "outputs": [
    {
     "name": "stdout",
     "output_type": "stream",
     "text": [
      "enter number ten\n"
     ]
    },
    {
     "ename": "ValueError",
     "evalue": "invalid literal for int() with base 10: 'ten'",
     "output_type": "error",
     "traceback": [
      "\u001b[1;31m---------------------------------------------------------------------------\u001b[0m",
      "\u001b[1;31mValueError\u001b[0m                                Traceback (most recent call last)",
      "\u001b[1;32m<ipython-input-5-fe04e5786007>\u001b[0m in \u001b[0;36m<module>\u001b[1;34m()\u001b[0m\n\u001b[1;32m----> 1\u001b[1;33m \u001b[0mx\u001b[0m\u001b[1;33m=\u001b[0m\u001b[0mint\u001b[0m\u001b[1;33m(\u001b[0m\u001b[0minput\u001b[0m\u001b[1;33m(\u001b[0m\u001b[1;34m\"enter number \"\u001b[0m\u001b[1;33m)\u001b[0m\u001b[1;33m)\u001b[0m\u001b[1;33m\u001b[0m\u001b[0m\n\u001b[0m\u001b[0;32m      2\u001b[0m \u001b[0mprint\u001b[0m\u001b[1;33m(\u001b[0m\u001b[0mx\u001b[0m\u001b[1;33m)\u001b[0m\u001b[1;33m\u001b[0m\u001b[0m\n",
      "\u001b[1;31mValueError\u001b[0m: invalid literal for int() with base 10: 'ten'"
     ]
    }
   ],
   "source": [
    "x=int(input(\"enter number \"))\n",
    "print(x)"
   ]
  },
  {
   "cell_type": "code",
   "execution_count": 6,
   "metadata": {},
   "outputs": [
    {
     "name": "stdout",
     "output_type": "stream",
     "text": [
      "hello\n"
     ]
    },
    {
     "ename": "ZeroDivisionError",
     "evalue": "division by zero",
     "output_type": "error",
     "traceback": [
      "\u001b[1;31m---------------------------------------------------------------------------\u001b[0m",
      "\u001b[1;31mZeroDivisionError\u001b[0m                         Traceback (most recent call last)",
      "\u001b[1;32m<ipython-input-6-d77b2e0541b2>\u001b[0m in \u001b[0;36m<module>\u001b[1;34m()\u001b[0m\n\u001b[0;32m      1\u001b[0m \u001b[0mprint\u001b[0m\u001b[1;33m(\u001b[0m\u001b[1;34m\"hello\"\u001b[0m\u001b[1;33m)\u001b[0m\u001b[1;33m\u001b[0m\u001b[0m\n\u001b[1;32m----> 2\u001b[1;33m \u001b[0mprint\u001b[0m\u001b[1;33m(\u001b[0m\u001b[1;36m10\u001b[0m\u001b[1;33m/\u001b[0m\u001b[1;36m0\u001b[0m\u001b[1;33m)\u001b[0m\u001b[1;33m\u001b[0m\u001b[0m\n\u001b[0m\u001b[0;32m      3\u001b[0m \u001b[0mprint\u001b[0m\u001b[1;33m(\u001b[0m\u001b[1;34m\"hi\"\u001b[0m\u001b[1;33m)\u001b[0m\u001b[1;33m\u001b[0m\u001b[0m\n",
      "\u001b[1;31mZeroDivisionError\u001b[0m: division by zero"
     ]
    }
   ],
   "source": [
    "print(\"hello\")\n",
    "print(10/0)\n",
    "print(\"hi\")"
   ]
  },
  {
   "cell_type": "code",
   "execution_count": 7,
   "metadata": {},
   "outputs": [
    {
     "name": "stdout",
     "output_type": "stream",
     "text": [
      "stmt-1\n"
     ]
    },
    {
     "ename": "ZeroDivisionError",
     "evalue": "division by zero",
     "output_type": "error",
     "traceback": [
      "\u001b[1;31m---------------------------------------------------------------------------\u001b[0m",
      "\u001b[1;31mZeroDivisionError\u001b[0m                         Traceback (most recent call last)",
      "\u001b[1;32m<ipython-input-7-8f9aa0397612>\u001b[0m in \u001b[0;36m<module>\u001b[1;34m()\u001b[0m\n\u001b[0;32m      1\u001b[0m \u001b[0mprint\u001b[0m\u001b[1;33m(\u001b[0m\u001b[1;34m\"stmt-1\"\u001b[0m\u001b[1;33m)\u001b[0m\u001b[1;33m\u001b[0m\u001b[0m\n\u001b[1;32m----> 2\u001b[1;33m \u001b[0mprint\u001b[0m\u001b[1;33m(\u001b[0m\u001b[1;36m10\u001b[0m\u001b[1;33m/\u001b[0m\u001b[1;36m0\u001b[0m\u001b[1;33m)\u001b[0m\u001b[1;33m\u001b[0m\u001b[0m\n\u001b[0m\u001b[0;32m      3\u001b[0m \u001b[0mprint\u001b[0m\u001b[1;33m(\u001b[0m\u001b[1;34m\"stmt-3\"\u001b[0m\u001b[1;33m)\u001b[0m\u001b[1;33m\u001b[0m\u001b[0m\n",
      "\u001b[1;31mZeroDivisionError\u001b[0m: division by zero"
     ]
    }
   ],
   "source": [
    "print(\"stmt-1\")\n",
    "print(10/0)\n",
    "print(\"stmt-3\")\n"
   ]
  },
  {
   "cell_type": "code",
   "execution_count": 8,
   "metadata": {},
   "outputs": [
    {
     "name": "stdout",
     "output_type": "stream",
     "text": [
      "stmt-1\n",
      "5.0\n",
      "stmt-3\n"
     ]
    }
   ],
   "source": [
    "print(\"stmt-1\")\n",
    "try:\n",
    "    print(10/0)\n",
    "except:\n",
    "    print(10/2)\n",
    "print(\"stmt-3\")"
   ]
  },
  {
   "cell_type": "code",
   "execution_count": 9,
   "metadata": {},
   "outputs": [
    {
     "name": "stdout",
     "output_type": "stream",
     "text": [
      "exception raised and its discription is  division by zero\n"
     ]
    }
   ],
   "source": [
    "try:\n",
    "    print(10/0)\n",
    "except ZeroDivisionError as msg:\n",
    "    print(\"exception raised and its discription is \",msg)"
   ]
  },
  {
   "cell_type": "code",
   "execution_count": 12,
   "metadata": {},
   "outputs": [
    {
     "name": "stdout",
     "output_type": "stream",
     "text": [
      "enter first number :10\n",
      "enter second number :ten\n",
      "please provide int value only \n"
     ]
    }
   ],
   "source": [
    "try:\n",
    "    x=int(input(\"enter first number :\"))\n",
    "    y=int(input(\"enter second number :\"))\n",
    "    print(x/y)\n",
    "except ZeroDivisionError:\n",
    "    print(\"can't divide with zero\")\n",
    "except ValueError:\n",
    "    print(\"please provide int value only \")\n"
   ]
  },
  {
   "cell_type": "code",
   "execution_count": 15,
   "metadata": {},
   "outputs": [
    {
     "name": "stdout",
     "output_type": "stream",
     "text": [
      "enter first number :10\n",
      "enter second number:0\n",
      "Arithmetic Error\n"
     ]
    }
   ],
   "source": [
    "try:\n",
    "    x=int(input(\"enter first number :\"))\n",
    "    y=int(input(\"enter second number:\"))\n",
    "    print(x/y)\n",
    "except ArithmeticError:\n",
    "    print(\"Arithmetic Error\")\n",
    "except ZeroDivisionError:\n",
    "    print(\"ZeroDivision Error\")"
   ]
  },
  {
   "cell_type": "code",
   "execution_count": 17,
   "metadata": {},
   "outputs": [
    {
     "name": "stdout",
     "output_type": "stream",
     "text": [
      "enter first number :10\n",
      "enter second number :ten\n",
      "pls provide vaild number only and problem is  invalid literal for int() with base 10: 'ten'\n"
     ]
    }
   ],
   "source": [
    "try:\n",
    "    x=int(input(\"enter first number :\"))\n",
    "    y=int(input(\"enter second number :\"))\n",
    "    print(x/y)\n",
    "except(ZeroDivisionError,ValueError) as msg:\n",
    "    print(\"pls provide vaild number only and problem is \",msg)"
   ]
  },
  {
   "cell_type": "code",
   "execution_count": 19,
   "metadata": {},
   "outputs": [
    {
     "name": "stdout",
     "output_type": "stream",
     "text": [
      "enter first number :10\n",
      "enter second number :ten\n",
      "Default Except :plz Provide valid input only \n"
     ]
    }
   ],
   "source": [
    "try:\n",
    "    x=int(input(\"enter first number :\"))\n",
    "    y=int(input(\"enter second number :\"))\n",
    "    print(x/y)\n",
    "except ZeroDivisionError:\n",
    "    print(\"ZeroDivision Error\")\n",
    "except:\n",
    "    print(\"Default Except :plz Provide valid input only \")"
   ]
  },
  {
   "cell_type": "code",
   "execution_count": 20,
   "metadata": {},
   "outputs": [
    {
     "ename": "SyntaxError",
     "evalue": "default 'except:' must be last (<ipython-input-20-34bcb5aec3d1>, line 2)",
     "output_type": "error",
     "traceback": [
      "\u001b[1;36m  File \u001b[1;32m\"<ipython-input-20-34bcb5aec3d1>\"\u001b[1;36m, line \u001b[1;32m2\u001b[0m\n\u001b[1;33m    print(10/0)\u001b[0m\n\u001b[1;37m            ^\u001b[0m\n\u001b[1;31mSyntaxError\u001b[0m\u001b[1;31m:\u001b[0m default 'except:' must be last\n"
     ]
    }
   ],
   "source": [
    "try:\n",
    "    print(10/0)\n",
    "except:\n",
    "    print(\"Default Except \")\n",
    "except ZeroDivisionError:\n",
    "    print(\"ZeroDivision Error\")"
   ]
  },
  {
   "cell_type": "code",
   "execution_count": 21,
   "metadata": {},
   "outputs": [
    {
     "name": "stdout",
     "output_type": "stream",
     "text": [
      "try\n",
      "finally\n"
     ]
    }
   ],
   "source": [
    "try:\n",
    "    print(\"try\")\n",
    "except:\n",
    "    print(\"except\")\n",
    "finally:\n",
    "    print(\"finally\")"
   ]
  },
  {
   "cell_type": "code",
   "execution_count": 22,
   "metadata": {},
   "outputs": [
    {
     "name": "stdout",
     "output_type": "stream",
     "text": [
      "try\n",
      "except\n",
      "finally\n"
     ]
    }
   ],
   "source": [
    "try:\n",
    "    print(\"try\")\n",
    "    print(10/0)\n",
    "except ZeroDivisionError:\n",
    "    print(\"except\")\n",
    "finally:\n",
    "    print(\"finally\")\n",
    "    "
   ]
  },
  {
   "cell_type": "code",
   "execution_count": 23,
   "metadata": {},
   "outputs": [
    {
     "name": "stdout",
     "output_type": "stream",
     "text": [
      "try\n",
      "finally\n"
     ]
    },
    {
     "ename": "ZeroDivisionError",
     "evalue": "division by zero",
     "output_type": "error",
     "traceback": [
      "\u001b[1;31m---------------------------------------------------------------------------\u001b[0m",
      "\u001b[1;31mZeroDivisionError\u001b[0m                         Traceback (most recent call last)",
      "\u001b[1;32m<ipython-input-23-0010f7c00949>\u001b[0m in \u001b[0;36m<module>\u001b[1;34m()\u001b[0m\n\u001b[0;32m      1\u001b[0m \u001b[1;32mtry\u001b[0m\u001b[1;33m:\u001b[0m\u001b[1;33m\u001b[0m\u001b[0m\n\u001b[0;32m      2\u001b[0m     \u001b[0mprint\u001b[0m\u001b[1;33m(\u001b[0m\u001b[1;34m\"try\"\u001b[0m\u001b[1;33m)\u001b[0m\u001b[1;33m\u001b[0m\u001b[0m\n\u001b[1;32m----> 3\u001b[1;33m     \u001b[0mprint\u001b[0m\u001b[1;33m(\u001b[0m\u001b[1;36m10\u001b[0m\u001b[1;33m/\u001b[0m\u001b[1;36m0\u001b[0m\u001b[1;33m)\u001b[0m\u001b[1;33m\u001b[0m\u001b[0m\n\u001b[0m\u001b[0;32m      4\u001b[0m \u001b[1;32mexcept\u001b[0m \u001b[0mNameError\u001b[0m\u001b[1;33m:\u001b[0m\u001b[1;33m\u001b[0m\u001b[0m\n\u001b[0;32m      5\u001b[0m     \u001b[0mprint\u001b[0m\u001b[1;33m(\u001b[0m\u001b[1;34m\"except\"\u001b[0m\u001b[1;33m)\u001b[0m\u001b[1;33m\u001b[0m\u001b[0m\n",
      "\u001b[1;31mZeroDivisionError\u001b[0m: division by zero"
     ]
    }
   ],
   "source": [
    "try:\n",
    "    print(\"try\")\n",
    "    print(10/0)\n",
    "except NameError:\n",
    "    print(\"except\")\n",
    "finally:\n",
    "    print(\"finally\")"
   ]
  },
  {
   "cell_type": "code",
   "execution_count": null,
   "metadata": {},
   "outputs": [],
   "source": [
    "import os\n",
    "try:\n",
    "    print(\"try\")\n",
    "    os._exit(0)\n",
    "except NameError:\n",
    "    print(\"except\")\n",
    "finally:\n",
    "    print(\"finally\")"
   ]
  },
  {
   "cell_type": "code",
   "execution_count": 1,
   "metadata": {},
   "outputs": [
    {
     "name": "stdout",
     "output_type": "stream",
     "text": [
      "outer try block\n",
      "inner try block\n",
      "inner except block\n",
      "inner finally block\n",
      "outer finally block\n"
     ]
    }
   ],
   "source": [
    "try:\n",
    "    print(\"outer try block\")\n",
    "    try:\n",
    "        print(\"inner try block\")\n",
    "        print(10/0)\n",
    "    except ZeroDivisionError:\n",
    "        print(\"inner except block\")\n",
    "    finally:\n",
    "        print(\"inner finally block\")\n",
    "except:\n",
    "    print(\"outer except block\")\n",
    "finally:\n",
    "    print(\"outer finally block\")"
   ]
  },
  {
   "cell_type": "code",
   "execution_count": 3,
   "metadata": {},
   "outputs": [
    {
     "name": "stdout",
     "output_type": "stream",
     "text": [
      "try\n",
      "else\n",
      "finally\n"
     ]
    }
   ],
   "source": [
    "try:\n",
    "    print(\"try\")\n",
    "    #print(10/0)\n",
    "except:\n",
    "    print(\"except\")\n",
    "else:\n",
    "    print(\"else\")\n",
    "finally:\n",
    "    print(\"finally\")"
   ]
  },
  {
   "cell_type": "code",
   "execution_count": 4,
   "metadata": {},
   "outputs": [
    {
     "ename": "SyntaxError",
     "evalue": "unexpected EOF while parsing (<ipython-input-4-f938f3295ddb>, line 2)",
     "output_type": "error",
     "traceback": [
      "\u001b[1;36m  File \u001b[1;32m\"<ipython-input-4-f938f3295ddb>\"\u001b[1;36m, line \u001b[1;32m2\u001b[0m\n\u001b[1;33m    print(\"try\")\u001b[0m\n\u001b[1;37m                ^\u001b[0m\n\u001b[1;31mSyntaxError\u001b[0m\u001b[1;31m:\u001b[0m unexpected EOF while parsing\n"
     ]
    }
   ],
   "source": [
    "try:\n",
    "    print(\"try\")"
   ]
  },
  {
   "cell_type": "code",
   "execution_count": 5,
   "metadata": {},
   "outputs": [
    {
     "ename": "SyntaxError",
     "evalue": "invalid syntax (<ipython-input-5-ba84bc44674e>, line 1)",
     "output_type": "error",
     "traceback": [
      "\u001b[1;36m  File \u001b[1;32m\"<ipython-input-5-ba84bc44674e>\"\u001b[1;36m, line \u001b[1;32m1\u001b[0m\n\u001b[1;33m    except:\u001b[0m\n\u001b[1;37m         ^\u001b[0m\n\u001b[1;31mSyntaxError\u001b[0m\u001b[1;31m:\u001b[0m invalid syntax\n"
     ]
    }
   ],
   "source": [
    "except:\n",
    "    print(\"hello\")"
   ]
  },
  {
   "cell_type": "code",
   "execution_count": 6,
   "metadata": {},
   "outputs": [
    {
     "ename": "SyntaxError",
     "evalue": "invalid syntax (<ipython-input-6-aa1c6419e71f>, line 1)",
     "output_type": "error",
     "traceback": [
      "\u001b[1;36m  File \u001b[1;32m\"<ipython-input-6-aa1c6419e71f>\"\u001b[1;36m, line \u001b[1;32m1\u001b[0m\n\u001b[1;33m    else:\u001b[0m\n\u001b[1;37m       ^\u001b[0m\n\u001b[1;31mSyntaxError\u001b[0m\u001b[1;31m:\u001b[0m invalid syntax\n"
     ]
    }
   ],
   "source": [
    "else:\n",
    "    print(\"hello\")"
   ]
  },
  {
   "cell_type": "code",
   "execution_count": 7,
   "metadata": {},
   "outputs": [
    {
     "ename": "SyntaxError",
     "evalue": "invalid syntax (<ipython-input-7-0988a50ee66c>, line 1)",
     "output_type": "error",
     "traceback": [
      "\u001b[1;36m  File \u001b[1;32m\"<ipython-input-7-0988a50ee66c>\"\u001b[1;36m, line \u001b[1;32m1\u001b[0m\n\u001b[1;33m    finally:\u001b[0m\n\u001b[1;37m          ^\u001b[0m\n\u001b[1;31mSyntaxError\u001b[0m\u001b[1;31m:\u001b[0m invalid syntax\n"
     ]
    }
   ],
   "source": [
    "finally:\n",
    "    print(\"hello\")"
   ]
  },
  {
   "cell_type": "code",
   "execution_count": 8,
   "metadata": {},
   "outputs": [
    {
     "name": "stdout",
     "output_type": "stream",
     "text": [
      "try\n"
     ]
    }
   ],
   "source": [
    "try:\n",
    "    print(\"try\")\n",
    "except:\n",
    "    print(\"except\")"
   ]
  },
  {
   "cell_type": "code",
   "execution_count": 9,
   "metadata": {},
   "outputs": [
    {
     "name": "stdout",
     "output_type": "stream",
     "text": [
      "try\n",
      "finally\n"
     ]
    }
   ],
   "source": [
    "try:\n",
    "    print(\"try\")\n",
    "finally:\n",
    "    print(\"finally\")"
   ]
  },
  {
   "cell_type": "code",
   "execution_count": 10,
   "metadata": {},
   "outputs": [
    {
     "name": "stdout",
     "output_type": "stream",
     "text": [
      "try\n",
      "else\n"
     ]
    }
   ],
   "source": [
    "try:\n",
    "    print(\"try\")\n",
    "except:\n",
    "    print(\"except\")\n",
    "else:\n",
    "    print(\"else\")"
   ]
  },
  {
   "cell_type": "code",
   "execution_count": 11,
   "metadata": {},
   "outputs": [
    {
     "ename": "SyntaxError",
     "evalue": "invalid syntax (<ipython-input-11-5d0fbff11e28>, line 3)",
     "output_type": "error",
     "traceback": [
      "\u001b[1;36m  File \u001b[1;32m\"<ipython-input-11-5d0fbff11e28>\"\u001b[1;36m, line \u001b[1;32m3\u001b[0m\n\u001b[1;33m    else:\u001b[0m\n\u001b[1;37m       ^\u001b[0m\n\u001b[1;31mSyntaxError\u001b[0m\u001b[1;31m:\u001b[0m invalid syntax\n"
     ]
    }
   ],
   "source": [
    "try:\n",
    "    print(\"try\")\n",
    "else:\n",
    "    print(\"else\")"
   ]
  },
  {
   "cell_type": "code",
   "execution_count": 12,
   "metadata": {},
   "outputs": [
    {
     "ename": "SyntaxError",
     "evalue": "invalid syntax (<ipython-input-12-a8e1913a175b>, line 3)",
     "output_type": "error",
     "traceback": [
      "\u001b[1;36m  File \u001b[1;32m\"<ipython-input-12-a8e1913a175b>\"\u001b[1;36m, line \u001b[1;32m3\u001b[0m\n\u001b[1;33m    else:\u001b[0m\n\u001b[1;37m       ^\u001b[0m\n\u001b[1;31mSyntaxError\u001b[0m\u001b[1;31m:\u001b[0m invalid syntax\n"
     ]
    }
   ],
   "source": [
    "try:\n",
    "    print(\"try\")\n",
    "else:\n",
    "    print(\"else\")\n",
    "finally:\n",
    "    print(\"finally\")"
   ]
  },
  {
   "cell_type": "code",
   "execution_count": 14,
   "metadata": {},
   "outputs": [
    {
     "name": "stdout",
     "output_type": "stream",
     "text": [
      "try\n"
     ]
    }
   ],
   "source": [
    "try:\n",
    "    print(\"try\")\n",
    "except ZeroDivisionError:\n",
    "    print(\"except\")\n",
    "except ValueError:\n",
    "    print(\"except\")"
   ]
  },
  {
   "cell_type": "code",
   "execution_count": 15,
   "metadata": {},
   "outputs": [
    {
     "ename": "SyntaxError",
     "evalue": "invalid syntax (<ipython-input-15-1426fbeda257>, line 7)",
     "output_type": "error",
     "traceback": [
      "\u001b[1;36m  File \u001b[1;32m\"<ipython-input-15-1426fbeda257>\"\u001b[1;36m, line \u001b[1;32m7\u001b[0m\n\u001b[1;33m    else:\u001b[0m\n\u001b[1;37m       ^\u001b[0m\n\u001b[1;31mSyntaxError\u001b[0m\u001b[1;31m:\u001b[0m invalid syntax\n"
     ]
    }
   ],
   "source": [
    "try:\n",
    "    print(\"try\")\n",
    "except:\n",
    "    print(\"except 1\")\n",
    "else:\n",
    "    print(\"else\")\n",
    "else:\n",
    "    print(\"else\")"
   ]
  },
  {
   "cell_type": "code",
   "execution_count": 16,
   "metadata": {},
   "outputs": [
    {
     "ename": "SyntaxError",
     "evalue": "invalid syntax (<ipython-input-16-568d9b8de472>, line 7)",
     "output_type": "error",
     "traceback": [
      "\u001b[1;36m  File \u001b[1;32m\"<ipython-input-16-568d9b8de472>\"\u001b[1;36m, line \u001b[1;32m7\u001b[0m\n\u001b[1;33m    finally:\u001b[0m\n\u001b[1;37m          ^\u001b[0m\n\u001b[1;31mSyntaxError\u001b[0m\u001b[1;31m:\u001b[0m invalid syntax\n"
     ]
    }
   ],
   "source": [
    "try:\n",
    "    print(\"try\")\n",
    "except:\n",
    "    print(\"exept 1\")\n",
    "finally:\n",
    "    print(\"finally\")\n",
    "finally:\n",
    "    print(\"finally\")"
   ]
  },
  {
   "cell_type": "code",
   "execution_count": 17,
   "metadata": {},
   "outputs": [
    {
     "name": "stdout",
     "output_type": "stream",
     "text": [
      "try\n",
      "hello\n"
     ]
    }
   ],
   "source": [
    "try:\n",
    "    print(\"try\")\n",
    "    print(\"hello\")\n",
    "except:\n",
    "    print(\"except\")"
   ]
  },
  {
   "cell_type": "code",
   "execution_count": 18,
   "metadata": {},
   "outputs": [
    {
     "ename": "SyntaxError",
     "evalue": "invalid syntax (<ipython-input-18-c158b87d8049>, line 6)",
     "output_type": "error",
     "traceback": [
      "\u001b[1;36m  File \u001b[1;32m\"<ipython-input-18-c158b87d8049>\"\u001b[1;36m, line \u001b[1;32m6\u001b[0m\n\u001b[1;33m    except:\u001b[0m\n\u001b[1;37m         ^\u001b[0m\n\u001b[1;31mSyntaxError\u001b[0m\u001b[1;31m:\u001b[0m invalid syntax\n"
     ]
    }
   ],
   "source": [
    "try:\n",
    "    print(\"try\")\n",
    "except:\n",
    "    print(\"except\")\n",
    "print(\"hello\")\n",
    "except:\n",
    "    print(\"except\")"
   ]
  },
  {
   "cell_type": "code",
   "execution_count": 19,
   "metadata": {},
   "outputs": [
    {
     "ename": "SyntaxError",
     "evalue": "invalid syntax (<ipython-input-19-be4c4da2ee0f>, line 6)",
     "output_type": "error",
     "traceback": [
      "\u001b[1;36m  File \u001b[1;32m\"<ipython-input-19-be4c4da2ee0f>\"\u001b[1;36m, line \u001b[1;32m6\u001b[0m\n\u001b[1;33m    finally:\u001b[0m\n\u001b[1;37m          ^\u001b[0m\n\u001b[1;31mSyntaxError\u001b[0m\u001b[1;31m:\u001b[0m invalid syntax\n"
     ]
    }
   ],
   "source": [
    "try:\n",
    "    print(\"try\")\n",
    "except:\n",
    "    print(\"except\")\n",
    "print(\"hello\")\n",
    "finally:\n",
    "    print(\"finally\")"
   ]
  },
  {
   "cell_type": "code",
   "execution_count": 20,
   "metadata": {},
   "outputs": [
    {
     "ename": "SyntaxError",
     "evalue": "invalid syntax (<ipython-input-20-1dbb1f36264d>, line 6)",
     "output_type": "error",
     "traceback": [
      "\u001b[1;36m  File \u001b[1;32m\"<ipython-input-20-1dbb1f36264d>\"\u001b[1;36m, line \u001b[1;32m6\u001b[0m\n\u001b[1;33m    else:\u001b[0m\n\u001b[1;37m       ^\u001b[0m\n\u001b[1;31mSyntaxError\u001b[0m\u001b[1;31m:\u001b[0m invalid syntax\n"
     ]
    }
   ],
   "source": [
    "try:\n",
    "    print(\"try\")\n",
    "except:\n",
    "    print(\"except\")\n",
    "print(\"hello\")\n",
    "else:\n",
    "    print(\"else\")"
   ]
  },
  {
   "cell_type": "code",
   "execution_count": 21,
   "metadata": {},
   "outputs": [
    {
     "name": "stdout",
     "output_type": "stream",
     "text": [
      "try\n",
      "try\n"
     ]
    }
   ],
   "source": [
    "try:\n",
    "    print(\"try\")\n",
    "except:\n",
    "    print(\"except\")\n",
    "try:\n",
    "    print(\"try\")\n",
    "except:\n",
    "    print(\"except\")"
   ]
  },
  {
   "cell_type": "code",
   "execution_count": 22,
   "metadata": {},
   "outputs": [
    {
     "name": "stdout",
     "output_type": "stream",
     "text": [
      "try\n",
      "try\n",
      "finally\n"
     ]
    }
   ],
   "source": [
    "try:\n",
    "    print(\"try\")\n",
    "except:\n",
    "    print(\"except\")\n",
    "try:\n",
    "    print(\"try\")\n",
    "finally:\n",
    "    print(\"finally\")"
   ]
  },
  {
   "cell_type": "code",
   "execution_count": 23,
   "metadata": {},
   "outputs": [
    {
     "name": "stdout",
     "output_type": "stream",
     "text": [
      "try\n",
      "else\n"
     ]
    }
   ],
   "source": [
    "try:\n",
    "    print(\"try\")\n",
    "except:\n",
    "    print(\"except\")\n",
    "if 10>20:\n",
    "    print(\"if\")\n",
    "else:\n",
    "    print(\"else\")"
   ]
  },
  {
   "cell_type": "code",
   "execution_count": 24,
   "metadata": {},
   "outputs": [
    {
     "name": "stdout",
     "output_type": "stream",
     "text": [
      "try\n",
      "inner try\n",
      "inner finally block\n",
      "outer finally block\n"
     ]
    }
   ],
   "source": [
    "try:\n",
    "    print(\"try\")\n",
    "    try:\n",
    "        print(\"inner try\")\n",
    "    except:\n",
    "        print(\"inner except block\")\n",
    "    finally:\n",
    "        print(\"inner finally block\")\n",
    "except:\n",
    "    print(\"outer except block\")\n",
    "finally:\n",
    "    print(\"outer finally block\")"
   ]
  },
  {
   "cell_type": "code",
   "execution_count": 25,
   "metadata": {},
   "outputs": [
    {
     "name": "stdout",
     "output_type": "stream",
     "text": [
      "try\n"
     ]
    }
   ],
   "source": [
    "try:\n",
    "    print(\"try\")\n",
    "except:\n",
    "    print(\"except\")\n",
    "    try:\n",
    "        print(\"inner try\")\n",
    "    except:\n",
    "        print(\"inner except block\")\n",
    "    finally:\n",
    "        print(\"inner finally block\")\n"
   ]
  },
  {
   "cell_type": "code",
   "execution_count": 26,
   "metadata": {},
   "outputs": [
    {
     "name": "stdout",
     "output_type": "stream",
     "text": [
      "try\n",
      "inner try \n",
      "inner finally block\n"
     ]
    }
   ],
   "source": [
    "try:\n",
    "    print(\"try\")\n",
    "except:\n",
    "    print(\"except\")\n",
    "finally:\n",
    "    try:\n",
    "        print(\"inner try \")\n",
    "    except:\n",
    "        print(\"inner except block\")\n",
    "    finally:\n",
    "        print(\"inner finally block\")"
   ]
  },
  {
   "cell_type": "code",
   "execution_count": 27,
   "metadata": {},
   "outputs": [
    {
     "ename": "SyntaxError",
     "evalue": "invalid syntax (<ipython-input-27-add1346dc12f>, line 7)",
     "output_type": "error",
     "traceback": [
      "\u001b[1;36m  File \u001b[1;32m\"<ipython-input-27-add1346dc12f>\"\u001b[1;36m, line \u001b[1;32m7\u001b[0m\n\u001b[1;33m    else:\u001b[0m\n\u001b[1;37m       ^\u001b[0m\n\u001b[1;31mSyntaxError\u001b[0m\u001b[1;31m:\u001b[0m invalid syntax\n"
     ]
    }
   ],
   "source": [
    "try:\n",
    "    print(\"try\")\n",
    "except:\n",
    "    print(\"except\")\n",
    "try:\n",
    "    print(\"try\")\n",
    "else:\n",
    "    print(\"else\")\n"
   ]
  },
  {
   "cell_type": "code",
   "execution_count": 30,
   "metadata": {},
   "outputs": [
    {
     "name": "stdout",
     "output_type": "stream",
     "text": [
      "try\n",
      "inner try\n"
     ]
    }
   ],
   "source": [
    "try:\n",
    "    print(\"try\")\n",
    "    try:\n",
    "        print(\"inner try\")\n",
    "    except:\n",
    "         print(\"except\")\n",
    "except:\n",
    "    print(\"outer except\")"
   ]
  },
  {
   "cell_type": "code",
   "execution_count": 31,
   "metadata": {},
   "outputs": [
    {
     "ename": "SyntaxError",
     "evalue": "invalid syntax (<ipython-input-31-c4c6875ba7d6>, line 3)",
     "output_type": "error",
     "traceback": [
      "\u001b[1;36m  File \u001b[1;32m\"<ipython-input-31-c4c6875ba7d6>\"\u001b[1;36m, line \u001b[1;32m3\u001b[0m\n\u001b[1;33m    else:\u001b[0m\n\u001b[1;37m       ^\u001b[0m\n\u001b[1;31mSyntaxError\u001b[0m\u001b[1;31m:\u001b[0m invalid syntax\n"
     ]
    }
   ],
   "source": [
    "try:\n",
    "    print(\"try\")\n",
    "else:\n",
    "    print(\"else\")\n",
    "except:\n",
    "    print(\"except\")\n",
    "finally:\n",
    "    print(\"finally\")"
   ]
  },
  {
   "cell_type": "code",
   "execution_count": 1,
   "metadata": {},
   "outputs": [
    {
     "ename": "ZeroDivisionError",
     "evalue": "division by zero",
     "output_type": "error",
     "traceback": [
      "\u001b[1;31m---------------------------------------------------------------------------\u001b[0m",
      "\u001b[1;31mZeroDivisionError\u001b[0m                         Traceback (most recent call last)",
      "\u001b[1;32m<ipython-input-1-fe01563e1bc6>\u001b[0m in \u001b[0;36m<module>\u001b[1;34m()\u001b[0m\n\u001b[1;32m----> 1\u001b[1;33m \u001b[0mprint\u001b[0m\u001b[1;33m(\u001b[0m\u001b[1;36m10\u001b[0m\u001b[1;33m/\u001b[0m\u001b[1;36m0\u001b[0m\u001b[1;33m)\u001b[0m\u001b[1;33m\u001b[0m\u001b[0m\n\u001b[0m",
      "\u001b[1;31mZeroDivisionError\u001b[0m: division by zero"
     ]
    }
   ],
   "source": [
    "print(10/0)"
   ]
  },
  {
   "cell_type": "code",
   "execution_count": 2,
   "metadata": {},
   "outputs": [
    {
     "ename": "ValueError",
     "evalue": "invalid literal for int() with base 10: 'ten'",
     "output_type": "error",
     "traceback": [
      "\u001b[1;31m---------------------------------------------------------------------------\u001b[0m",
      "\u001b[1;31mValueError\u001b[0m                                Traceback (most recent call last)",
      "\u001b[1;32m<ipython-input-2-37980ba670be>\u001b[0m in \u001b[0;36m<module>\u001b[1;34m()\u001b[0m\n\u001b[1;32m----> 1\u001b[1;33m \u001b[0mx\u001b[0m\u001b[1;33m=\u001b[0m\u001b[0mint\u001b[0m\u001b[1;33m(\u001b[0m\u001b[1;34m\"ten\"\u001b[0m\u001b[1;33m)\u001b[0m\u001b[1;33m\u001b[0m\u001b[0m\n\u001b[0m",
      "\u001b[1;31mValueError\u001b[0m: invalid literal for int() with base 10: 'ten'"
     ]
    }
   ],
   "source": [
    "x=int(\"ten\")"
   ]
  },
  {
   "cell_type": "code",
   "execution_count": 3,
   "metadata": {},
   "outputs": [],
   "source": [
    "class tooyoungexception(Exception):\n",
    "    def __init__(self,arg):\n",
    "        self.msg=arg\n",
    "    "
   ]
  },
  {
   "cell_type": "code",
   "execution_count": 14,
   "metadata": {},
   "outputs": [
    {
     "name": "stdout",
     "output_type": "stream",
     "text": [
      "enter age :27\n",
      "you will get match details soon by email !!!\n"
     ]
    }
   ],
   "source": [
    "class Tooyoungexception(Exception):\n",
    "    def __init__(self,arg):\n",
    "        self.msg=arg\n",
    "class Toooldexception(Exception):\n",
    "    def __init__(self,arg):\n",
    "        self.msg=arg\n",
    "age=int(input(\"enter age :\"))\n",
    "if age >60:\n",
    "    raise Tooyoungexception (\"plz wait some more time you will get best match soon !!!\")\n",
    "elif age <18:\n",
    "    raise Toooldexception (\"your age already crossed marriage age ...no chance of getting marriage \")\n",
    "else:\n",
    "    print(\"you will get match details soon by email !!!\")"
   ]
  },
  {
   "cell_type": "code",
   "execution_count": 18,
   "metadata": {},
   "outputs": [
    {
     "name": "stdout",
     "output_type": "stream",
     "text": [
      "enter age27\n",
      "you will get match details soon by email !!\n"
     ]
    }
   ],
   "source": [
    "class TooYoungException(Exception):\n",
    "    def __init__(self,arg):\n",
    "        self.msg=arg\n",
    "class TooOldException(Exception):\n",
    "    def __init__(self,arg):\n",
    "        self.msg=arg\n",
    "age=int(input(\"enter age\"))\n",
    "if age>60:\n",
    "    raise TooYoungException (\"plz wait some more time you will get best match\")\n",
    "elif age<18:\n",
    "    raise TooOldException (\"your age already crossed marriage age ...no chance of getting marriage\")\n",
    "else:\n",
    "    print(\"you will get match details soon by email !!\")"
   ]
  },
  {
   "cell_type": "code",
   "execution_count": 1,
   "metadata": {},
   "outputs": [],
   "source": [
    "import logging\n",
    "logging.basicConfig(filename=\"log.txt\",level=logging.WARNING)\n",
    "logging.debug(\"this is debug message\")\n",
    "logging.info(\"this is info message\")\n",
    "logging.warning(\"this is warning message\")\n",
    "logging.error(\"this is error message\")\n",
    "logging.critical(\"this is critical message\")"
   ]
  },
  {
   "cell_type": "code",
   "execution_count": 1,
   "metadata": {},
   "outputs": [
    {
     "name": "stdout",
     "output_type": "stream",
     "text": [
      "logging module demo \n"
     ]
    }
   ],
   "source": [
    "import logging\n",
    "logging.basicConfig(filename=\"log.txt\",level=logging.DEBUG)\n",
    "print(\"logging module demo \")\n",
    "logging.debug(\"this is debug message\")\n",
    "logging.info(\"this is info message\")\n",
    "logging.warning(\"this is warning message\")\n",
    "logging.error(\"this is error message\")\n",
    "logging.critical(\"this is critical message\")"
   ]
  },
  {
   "cell_type": "code",
   "execution_count": 4,
   "metadata": {},
   "outputs": [
    {
     "name": "stdout",
     "output_type": "stream",
     "text": [
      "enter first number 10\n",
      "enter second number ten\n",
      "enter only int value\n"
     ]
    }
   ],
   "source": [
    "import logging \n",
    "logging.basicConfig(filename=\"log1.txt\",level=logging.info)\n",
    "logging.info(\"a new request came:\")\n",
    "try:\n",
    "    x=int(input(\"enter first number \"))\n",
    "    y=int(input(\"enter second number \"))\n",
    "    print(x/y)\n",
    "except ZeroDivisionError as msg:\n",
    "    print(\"can't divide with zero\")\n",
    "    logging.exception(msg)\n",
    "except ValueError as msg:\n",
    "    print(\"enter only int value\")\n",
    "    logging.exception(msg)\n",
    "logging.info(\"processing of request completed\")"
   ]
  },
  {
   "cell_type": "code",
   "execution_count": 1,
   "metadata": {},
   "outputs": [
    {
     "ename": "AssertionError",
     "evalue": "the square of 3 is 9",
     "output_type": "error",
     "traceback": [
      "\u001b[1;31m---------------------------------------------------------------------------\u001b[0m",
      "\u001b[1;31mAssertionError\u001b[0m                            Traceback (most recent call last)",
      "\u001b[1;32m<ipython-input-1-5e77a06989e0>\u001b[0m in \u001b[0;36m<module>\u001b[1;34m()\u001b[0m\n\u001b[0;32m      2\u001b[0m     \u001b[1;32mreturn\u001b[0m \u001b[0mx\u001b[0m\u001b[1;33m**\u001b[0m\u001b[0mx\u001b[0m\u001b[1;33m\u001b[0m\u001b[0m\n\u001b[0;32m      3\u001b[0m \u001b[1;32massert\u001b[0m\u001b[1;33m(\u001b[0m\u001b[0msquareit\u001b[0m\u001b[1;33m(\u001b[0m\u001b[1;36m2\u001b[0m\u001b[1;33m)\u001b[0m\u001b[1;33m)\u001b[0m\u001b[1;33m==\u001b[0m\u001b[1;36m4\u001b[0m\u001b[1;33m,\u001b[0m\u001b[1;34m\"the square of 2 is 4\"\u001b[0m\u001b[1;33m\u001b[0m\u001b[0m\n\u001b[1;32m----> 4\u001b[1;33m \u001b[1;32massert\u001b[0m\u001b[1;33m(\u001b[0m\u001b[0msquareit\u001b[0m\u001b[1;33m(\u001b[0m\u001b[1;36m3\u001b[0m\u001b[1;33m)\u001b[0m\u001b[1;33m)\u001b[0m\u001b[1;33m==\u001b[0m\u001b[1;36m9\u001b[0m\u001b[1;33m,\u001b[0m\u001b[1;34m\"the square of 3 is 9\"\u001b[0m\u001b[1;33m\u001b[0m\u001b[0m\n\u001b[0m\u001b[0;32m      5\u001b[0m \u001b[1;32massert\u001b[0m\u001b[1;33m(\u001b[0m\u001b[0msquareit\u001b[0m\u001b[1;33m(\u001b[0m\u001b[1;36m4\u001b[0m\u001b[1;33m)\u001b[0m\u001b[1;33m)\u001b[0m\u001b[1;33m==\u001b[0m\u001b[1;36m16\u001b[0m\u001b[1;33m,\u001b[0m\u001b[1;34m\"the square of 4 is 16\"\u001b[0m\u001b[1;33m\u001b[0m\u001b[0m\n\u001b[0;32m      6\u001b[0m \u001b[0mprint\u001b[0m\u001b[1;33m(\u001b[0m\u001b[0msquareit\u001b[0m\u001b[1;33m(\u001b[0m\u001b[1;36m2\u001b[0m\u001b[1;33m)\u001b[0m\u001b[1;33m)\u001b[0m\u001b[1;33m\u001b[0m\u001b[0m\n",
      "\u001b[1;31mAssertionError\u001b[0m: the square of 3 is 9"
     ]
    }
   ],
   "source": [
    "def squareit(x):\n",
    "    return x**x\n",
    "assert(squareit(2))==4,\"the square of 2 is 4\"\n",
    "assert(squareit(3))==9,\"the square of 3 is 9\"\n",
    "assert(squareit(4))==16,\"the square of 4 is 16\"\n",
    "print(squareit(2))\n",
    "print(squareit(3))\n",
    "print(squareit(4))"
   ]
  },
  {
   "cell_type": "code",
   "execution_count": 5,
   "metadata": {},
   "outputs": [
    {
     "name": "stdout",
     "output_type": "stream",
     "text": [
      "4\n",
      "9\n",
      "16\n"
     ]
    }
   ],
   "source": [
    "def squareit(x):\n",
    "    return x*x\n",
    "assert(squareit(2))==4,\"the square of 2 is 4\"\n",
    "assert(squareit(3))==9,\"the square of 3 is 9\"\n",
    "assert(squareit(4))==16,\"the square of 4 is 16\"\n",
    "print(squareit(2))\n",
    "print(squareit(3))\n",
    "print(squareit(4))"
   ]
  },
  {
   "cell_type": "code",
   "execution_count": 1,
   "metadata": {},
   "outputs": [],
   "source": [
    "class student:\n",
    "    \"\"\"this is student class with required data \"\"\""
   ]
  },
  {
   "cell_type": "code",
   "execution_count": 2,
   "metadata": {},
   "outputs": [
    {
     "name": "stdout",
     "output_type": "stream",
     "text": [
      "this is student class with required data \n"
     ]
    }
   ],
   "source": [
    "print(student.__doc__)"
   ]
  },
  {
   "cell_type": "code",
   "execution_count": 4,
   "metadata": {},
   "outputs": [
    {
     "name": "stdout",
     "output_type": "stream",
     "text": [
      "Help on class student in module __main__:\n",
      "\n",
      "class student(builtins.object)\n",
      " |  this is student class with required data\n",
      " |  \n",
      " |  Data descriptors defined here:\n",
      " |  \n",
      " |  __dict__\n",
      " |      dictionary for instance variables (if defined)\n",
      " |  \n",
      " |  __weakref__\n",
      " |      list of weak references to the object (if defined)\n",
      "\n"
     ]
    }
   ],
   "source": [
    "help(student)"
   ]
  },
  {
   "cell_type": "code",
   "execution_count": 8,
   "metadata": {},
   "outputs": [],
   "source": [
    "class student:\n",
    "    \"\"\"developed by durga for python demo \"\"\"\n",
    "    def __init__(self):\n",
    "        self.name=\"durga\"\n",
    "        self.age=48\n",
    "        self.marks=80\n",
    "    def talk(self):\n",
    "        print(\"hello i am\",self.name)\n",
    "        print(\"my age is \",self.age)\n",
    "        print(\"my marks are \",self.marks)\n"
   ]
  },
  {
   "cell_type": "code",
   "execution_count": 9,
   "metadata": {},
   "outputs": [],
   "source": [
    "t=student()"
   ]
  },
  {
   "cell_type": "code",
   "execution_count": 10,
   "metadata": {},
   "outputs": [
    {
     "name": "stdout",
     "output_type": "stream",
     "text": [
      "hello i am durga\n",
      "my age is  48\n",
      "my marks are  80\n"
     ]
    }
   ],
   "source": [
    "t.talk()"
   ]
  },
  {
   "cell_type": "code",
   "execution_count": 11,
   "metadata": {},
   "outputs": [
    {
     "name": "stdout",
     "output_type": "stream",
     "text": [
      "hello my name is  100\n",
      "my rollno is  durga\n",
      "my marks are  80\n"
     ]
    }
   ],
   "source": [
    "class student:\n",
    "    def __init__(self,name,rollno,marks):\n",
    "        self.name=name\n",
    "        self.rollno=rollno\n",
    "        self.marks=marks\n",
    "    def talk(self):\n",
    "        print(\"hello my name is \",self.name)\n",
    "        print(\"my rollno is \",self.rollno)\n",
    "        print(\"my marks are \",self.marks)\n",
    "s1=student(100,\"durga\",80)\n",
    "s1.talk()"
   ]
  },
  {
   "cell_type": "code",
   "execution_count": 12,
   "metadata": {},
   "outputs": [],
   "source": [
    "def __init__(self,name,rollno,marks):\n",
    "    self.name=name\n",
    "    self.rollno=rollno\n",
    "    self.marks=marks"
   ]
  },
  {
   "cell_type": "code",
   "execution_count": 13,
   "metadata": {},
   "outputs": [
    {
     "name": "stdout",
     "output_type": "stream",
     "text": [
      "constructor execution\n",
      "constructor execution\n",
      "constructor execution\n",
      "method execution\n"
     ]
    }
   ],
   "source": [
    "class test:\n",
    "    def __init__(self):\n",
    "        print(\"constructor execution\")\n",
    "    def m1(self):\n",
    "        print(\"method execution\")\n",
    "t1=test()\n",
    "t2=test()\n",
    "t3=test()\n",
    "t1.m1()"
   ]
  },
  {
   "cell_type": "code",
   "execution_count": 15,
   "metadata": {},
   "outputs": [
    {
     "name": "stdout",
     "output_type": "stream",
     "text": [
      "student:durga\n",
      "rollno:101\n",
      "marks:80\n",
      "student:sunny\n",
      "rollno:102\n",
      "marks:100\n"
     ]
    }
   ],
   "source": [
    "class student:\n",
    "    \"\"\"this is student class with required data\"\"\"\n",
    "    def __init__(self,x,y,z):\n",
    "        self.name=x\n",
    "        self.rollno=y\n",
    "        self.marks=z\n",
    "    def display(self):\n",
    "        print(\"student:{}\\nrollno:{}\\nmarks:{}\".format(self.name,self.rollno,self.marks))\n",
    "s1=student(\"durga\",101,80)\n",
    "s1.display()\n",
    "s2=student(\"sunny\",102,100)\n",
    "s2.display()"
   ]
  },
  {
   "cell_type": "code",
   "execution_count": 16,
   "metadata": {},
   "outputs": [
    {
     "name": "stdout",
     "output_type": "stream",
     "text": [
      "{'eno': 100, 'ename': 'durga', 'esal': 1000}\n"
     ]
    }
   ],
   "source": [
    "class employee:\n",
    "    def __init__(self):\n",
    "        self.eno=100\n",
    "        self.ename=\"durga\"\n",
    "        self.esal=1000\n",
    "e=employee()\n",
    "print(e.__dict__)"
   ]
  },
  {
   "cell_type": "code",
   "execution_count": 17,
   "metadata": {},
   "outputs": [
    {
     "name": "stdout",
     "output_type": "stream",
     "text": [
      "{'a': 10, 'b': 20, 'c': 30}\n"
     ]
    }
   ],
   "source": [
    "class test:\n",
    "    def __init__(self):\n",
    "        self.a=10\n",
    "        self.b=20\n",
    "    def m1(self):\n",
    "        self.c=30\n",
    "t=test()\n",
    "t.m1()\n",
    "print(t.__dict__)"
   ]
  },
  {
   "cell_type": "code",
   "execution_count": 19,
   "metadata": {},
   "outputs": [
    {
     "name": "stdout",
     "output_type": "stream",
     "text": [
      "{'a': 10, 'b': 20, 'c': 30, 'd': 40}\n"
     ]
    }
   ],
   "source": [
    "class test:\n",
    "    def __init__(self):\n",
    "        self.a=10\n",
    "        self.b=20\n",
    "    def m1(self):\n",
    "        self.c=30\n",
    "t=test()\n",
    "t.m1()\n",
    "t.d=40\n",
    "print(t.__dict__)"
   ]
  },
  {
   "cell_type": "code",
   "execution_count": 20,
   "metadata": {},
   "outputs": [
    {
     "name": "stdout",
     "output_type": "stream",
     "text": [
      "10\n",
      "20\n",
      "10 20\n"
     ]
    }
   ],
   "source": [
    "class test:\n",
    "    def __init__(self):\n",
    "        self.a=10\n",
    "        self.b=20\n",
    "    def display(self):\n",
    "        print(self.a)\n",
    "        print(self.b)\n",
    "t=test()\n",
    "t.display()\n",
    "print(t.a,t.b)"
   ]
  },
  {
   "cell_type": "code",
   "execution_count": 27,
   "metadata": {},
   "outputs": [
    {
     "name": "stdout",
     "output_type": "stream",
     "text": [
      "{'a': 10, 'b': 20, 'c': 30, 'd': 40}\n",
      "{'a': 10, 'b': 20, 'c': 30}\n",
      "{'a': 10, 'b': 20}\n"
     ]
    }
   ],
   "source": [
    "class test:\n",
    "    def __init__(self):\n",
    "        self.a=10\n",
    "        self.b=20\n",
    "        self.c=30\n",
    "        self.d=40\n",
    "    def m1(self):\n",
    "        del self.d\n",
    "t=test()\n",
    "print(t.__dict__)\n",
    "t.m1()\n",
    "print(t.__dict__)\n",
    "del t.c\n",
    "print(t.__dict__)"
   ]
  },
  {
   "cell_type": "code",
   "execution_count": 30,
   "metadata": {},
   "outputs": [
    {
     "name": "stdout",
     "output_type": "stream",
     "text": [
      "{'b': 20, 'c': 30, 'd': 40}\n",
      "{'a': 10, 'b': 20, 'c': 30, 'd': 40}\n"
     ]
    }
   ],
   "source": [
    "class test:\n",
    "    def __init__(self):\n",
    "        self.a=10\n",
    "        self.b=20\n",
    "        self.c=30\n",
    "        self.d=40\n",
    "t1=test()\n",
    "t2=test()\n",
    "del t1.a\n",
    "print(t1.__dict__)\n",
    "print(t2.__dict__)"
   ]
  },
  {
   "cell_type": "code",
   "execution_count": 31,
   "metadata": {},
   "outputs": [
    {
     "name": "stdout",
     "output_type": "stream",
     "text": [
      "t1: 888 999\n",
      "t2: 10 20\n"
     ]
    }
   ],
   "source": [
    "class test:\n",
    "    def __init__(self):\n",
    "        self.a=10\n",
    "        self.b=20\n",
    "t1=test()\n",
    "t1.a=888\n",
    "t1.b=999\n",
    "t2=test()\n",
    "print(\"t1:\",t1.a,t1.b)\n",
    "print(\"t2:\",t2.a,t2.b)"
   ]
  },
  {
   "cell_type": "code",
   "execution_count": 34,
   "metadata": {},
   "outputs": [
    {
     "name": "stdout",
     "output_type": "stream",
     "text": [
      "t1: 10 20\n",
      "t2: 10 20\n",
      "t1: 888 20\n",
      "t2: 888 20\n"
     ]
    }
   ],
   "source": [
    "class test:\n",
    "    x=10\n",
    "    def __init__(self):\n",
    "        self.y=20\n",
    "t1=test()\n",
    "t2=test()\n",
    "print(\"t1:\",t1.x,t1.y)\n",
    "print(\"t2:\",t2.x,t2.y)\n",
    "test.x=888\n",
    "t1.y=999\n",
    "print(\"t1:\",t1.x,t2.y)\n",
    "print(\"t2:\",t2.x,t2.y)"
   ]
  },
  {
   "cell_type": "code",
   "execution_count": 44,
   "metadata": {},
   "outputs": [
    {
     "name": "stdout",
     "output_type": "stream",
     "text": [
      "{'__module__': '__main__', 'a': 10, '__init__': <function test.__init__ at 0x0000000004EF29D8>, 'm1': <function test.m1 at 0x0000000004EF2048>, 'm2': <classmethod object at 0x0000000004F098D0>, 'm3': <staticmethod object at 0x0000000004F09780>, '__dict__': <attribute '__dict__' of 'test' objects>, '__weakref__': <attribute '__weakref__' of 'test' objects>, '__doc__': None}\n",
      "{'__module__': '__main__', 'a': 10, '__init__': <function test.__init__ at 0x0000000004EF29D8>, 'm1': <function test.m1 at 0x0000000004EF2048>, 'm2': <classmethod object at 0x0000000004F098D0>, 'm3': <staticmethod object at 0x0000000004F09780>, '__dict__': <attribute '__dict__' of 'test' objects>, '__weakref__': <attribute '__weakref__' of 'test' objects>, '__doc__': None, 'b': 20}\n",
      "{'__module__': '__main__', 'a': 10, '__init__': <function test.__init__ at 0x0000000004EF29D8>, 'm1': <function test.m1 at 0x0000000004EF2048>, 'm2': <classmethod object at 0x0000000004F098D0>, 'm3': <staticmethod object at 0x0000000004F09780>, '__dict__': <attribute '__dict__' of 'test' objects>, '__weakref__': <attribute '__weakref__' of 'test' objects>, '__doc__': None, 'b': 20, 'c': 30}\n",
      "{'__module__': '__main__', 'a': 10, '__init__': <function test.__init__ at 0x0000000004EF29D8>, 'm1': <function test.m1 at 0x0000000004EF2048>, 'm2': <classmethod object at 0x0000000004F098D0>, 'm3': <staticmethod object at 0x0000000004F09780>, '__dict__': <attribute '__dict__' of 'test' objects>, '__weakref__': <attribute '__weakref__' of 'test' objects>, '__doc__': None, 'b': 20, 'c': 30, 'd': 40}\n",
      "{'__module__': '__main__', 'a': 10, '__init__': <function test.__init__ at 0x0000000004EF29D8>, 'm1': <function test.m1 at 0x0000000004EF2048>, 'm2': <classmethod object at 0x0000000004F098D0>, 'm3': <staticmethod object at 0x0000000004F09780>, '__dict__': <attribute '__dict__' of 'test' objects>, '__weakref__': <attribute '__weakref__' of 'test' objects>, '__doc__': None, 'b': 20, 'c': 30, 'd': 40, 'e': 50}\n",
      "{'__module__': '__main__', 'a': 10, '__init__': <function test.__init__ at 0x0000000004EF29D8>, 'm1': <function test.m1 at 0x0000000004EF2048>, 'm2': <classmethod object at 0x0000000004F098D0>, 'm3': <staticmethod object at 0x0000000004F09780>, '__dict__': <attribute '__dict__' of 'test' objects>, '__weakref__': <attribute '__weakref__' of 'test' objects>, '__doc__': None, 'b': 20, 'c': 30, 'd': 40, 'e': 50, 'f': 60}\n"
     ]
    }
   ],
   "source": [
    "class test:\n",
    "    a=10\n",
    "    def __init__(self):\n",
    "        test.b=20\n",
    "    def m1(self):\n",
    "        test.c=30\n",
    "    @classmethod\n",
    "    def m2(cls):\n",
    "        cls.d=40\n",
    "    @staticmethod\n",
    "    def m3():\n",
    "        test.e=50\n",
    "print(test.__dict__)\n",
    "t=test()\n",
    "print(test.__dict__)\n",
    "t.m1()\n",
    "print(test.__dict__)\n",
    "test.m2()\n",
    "print(test.__dict__)\n",
    "test.m3()\n",
    "print(test.__dict__)\n",
    "test.f=60\n",
    "print(test.__dict__)"
   ]
  },
  {
   "cell_type": "code",
   "execution_count": 45,
   "metadata": {},
   "outputs": [
    {
     "name": "stdout",
     "output_type": "stream",
     "text": [
      "10\n",
      "10\n",
      "10\n",
      "10\n",
      "10\n",
      "10\n",
      "10\n",
      "10\n",
      "10\n"
     ]
    }
   ],
   "source": [
    "class test :\n",
    "    a=10\n",
    "    def __init__(self):\n",
    "        print(self.a)\n",
    "        print(test.a)\n",
    "    def m1(self):\n",
    "        print(self.a)\n",
    "        print(test.a)\n",
    "    @classmethod\n",
    "    def m2(cls):\n",
    "        print(cls.a)\n",
    "        print(test.a)\n",
    "    @staticmethod\n",
    "    def m3():\n",
    "        print(test.a)\n",
    "t=test()\n",
    "print(test.a)\n",
    "print(t.a)\n",
    "t.m1()\n",
    "t.m2()\n",
    "t.m3()"
   ]
  },
  {
   "cell_type": "code",
   "execution_count": 46,
   "metadata": {},
   "outputs": [
    {
     "name": "stdout",
     "output_type": "stream",
     "text": [
      "777\n",
      "888\n",
      "999\n"
     ]
    }
   ],
   "source": [
    "class test:\n",
    "    a=777\n",
    "    @classmethod\n",
    "    def m1(cls):\n",
    "        cls.a=888\n",
    "    @staticmethod\n",
    "    def m2():\n",
    "        test.a=999\n",
    "print(test.a)\n",
    "test.m1()\n",
    "print(test.a)\n",
    "test.m2()\n",
    "print(test.a)"
   ]
  },
  {
   "cell_type": "code",
   "execution_count": 47,
   "metadata": {},
   "outputs": [
    {
     "name": "stdout",
     "output_type": "stream",
     "text": [
      "10\n",
      "888\n"
     ]
    }
   ],
   "source": [
    "class test:\n",
    "    a=10\n",
    "    def m1(self):\n",
    "        self.a=888\n",
    "t1=test()\n",
    "t1.m1()\n",
    "print(test.a)\n",
    "print(t1.a)"
   ]
  },
  {
   "cell_type": "code",
   "execution_count": 48,
   "metadata": {},
   "outputs": [
    {
     "name": "stdout",
     "output_type": "stream",
     "text": [
      "t1: 10 20\n",
      "t2: 10 20\n",
      "t1: 888 999\n",
      "t2: 10 20\n"
     ]
    }
   ],
   "source": [
    "class test:\n",
    "    x=10\n",
    "    def __init__(self):\n",
    "        self.y=20\n",
    "t1=test()\n",
    "t2=test()\n",
    "print(\"t1:\",t1.x,t1.y)\n",
    "print(\"t2:\",t2.x,t2.y)\n",
    "t1.x=888\n",
    "t1.y=999\n",
    "print(\"t1:\",t1.x,t1.y)\n",
    "print(\"t2:\",t2.x,t2.y)"
   ]
  },
  {
   "cell_type": "code",
   "execution_count": 49,
   "metadata": {},
   "outputs": [
    {
     "name": "stdout",
     "output_type": "stream",
     "text": [
      "t1: 888 999\n",
      "t2: 888 20\n"
     ]
    }
   ],
   "source": [
    "class test:\n",
    "    a=10\n",
    "    def __init__(self):\n",
    "        self.b=20\n",
    "t1=test()\n",
    "t2=test()\n",
    "test.a=888\n",
    "t1.b=999\n",
    "print(\"t1:\",t1.a,t1.b)\n",
    "print(\"t2:\",t2.a,t2.b)"
   ]
  },
  {
   "cell_type": "code",
   "execution_count": 50,
   "metadata": {},
   "outputs": [
    {
     "name": "stdout",
     "output_type": "stream",
     "text": [
      "t1: 888 999\n",
      "t2: 10 20\n"
     ]
    }
   ],
   "source": [
    "class test:\n",
    "    a=10\n",
    "    def __init__(self):\n",
    "        self.b=20\n",
    "    def m1(self):\n",
    "        self.a=888\n",
    "        self.b=999\n",
    "t1=test()\n",
    "t2=test()\n",
    "t1.m1()\n",
    "print(\"t1:\",t1.a,t1.b)\n",
    "print(\"t2:\",t2.a,t2.b)"
   ]
  },
  {
   "cell_type": "code",
   "execution_count": 51,
   "metadata": {},
   "outputs": [
    {
     "name": "stdout",
     "output_type": "stream",
     "text": [
      "888 20\n",
      "888 20\n",
      "888 999\n"
     ]
    }
   ],
   "source": [
    "class test:\n",
    "    a=10\n",
    "    def __init__(self):\n",
    "        self.b=20\n",
    "    @classmethod\n",
    "    def m1(cls):\n",
    "        cls.a=888\n",
    "        cls.b=999\n",
    "t1=test()\n",
    "t2=test()\n",
    "t1.m1()\n",
    "print(t1.a,t1.b)\n",
    "print(t2.a,t2.b)\n",
    "print(test.a,test.b)"
   ]
  },
  {
   "cell_type": "code",
   "execution_count": 52,
   "metadata": {},
   "outputs": [
    {
     "name": "stdout",
     "output_type": "stream",
     "text": [
      "{'__module__': '__main__', 'm1': <classmethod object at 0x0000000004F0AEB8>, '__dict__': <attribute '__dict__' of 'test' objects>, '__weakref__': <attribute '__weakref__' of 'test' objects>, '__doc__': None}\n"
     ]
    }
   ],
   "source": [
    "class test:\n",
    "    a=10\n",
    "    @classmethod\n",
    "    def m1(cls):\n",
    "        del cls.a\n",
    "test.m1()\n",
    "print(test.__dict__)"
   ]
  },
  {
   "cell_type": "code",
   "execution_count": 53,
   "metadata": {},
   "outputs": [
    {
     "name": "stdout",
     "output_type": "stream",
     "text": [
      "{'__module__': '__main__', 'a': 10, '__init__': <function test.__init__ at 0x0000000004EF2AE8>, 'm1': <function test.m1 at 0x0000000004EF2598>, 'm2': <classmethod object at 0x0000000004EEB320>, 'm3': <staticmethod object at 0x0000000004EEB160>, '__dict__': <attribute '__dict__' of 'test' objects>, '__weakref__': <attribute '__weakref__' of 'test' objects>, '__doc__': None}\n",
      "{'__module__': '__main__', '__init__': <function test.__init__ at 0x0000000004EF2AE8>, 'm1': <function test.m1 at 0x0000000004EF2598>, 'm2': <classmethod object at 0x0000000004EEB320>, 'm3': <staticmethod object at 0x0000000004EEB160>, '__dict__': <attribute '__dict__' of 'test' objects>, '__weakref__': <attribute '__weakref__' of 'test' objects>, '__doc__': None, 'b': 20}\n",
      "{'__module__': '__main__', '__init__': <function test.__init__ at 0x0000000004EF2AE8>, 'm1': <function test.m1 at 0x0000000004EF2598>, 'm2': <classmethod object at 0x0000000004EEB320>, 'm3': <staticmethod object at 0x0000000004EEB160>, '__dict__': <attribute '__dict__' of 'test' objects>, '__weakref__': <attribute '__weakref__' of 'test' objects>, '__doc__': None, 'c': 30}\n",
      "{'__module__': '__main__', '__init__': <function test.__init__ at 0x0000000004EF2AE8>, 'm1': <function test.m1 at 0x0000000004EF2598>, 'm2': <classmethod object at 0x0000000004EEB320>, 'm3': <staticmethod object at 0x0000000004EEB160>, '__dict__': <attribute '__dict__' of 'test' objects>, '__weakref__': <attribute '__weakref__' of 'test' objects>, '__doc__': None, 'd': 40}\n",
      "{'__module__': '__main__', '__init__': <function test.__init__ at 0x0000000004EF2AE8>, 'm1': <function test.m1 at 0x0000000004EF2598>, 'm2': <classmethod object at 0x0000000004EEB320>, 'm3': <staticmethod object at 0x0000000004EEB160>, '__dict__': <attribute '__dict__' of 'test' objects>, '__weakref__': <attribute '__weakref__' of 'test' objects>, '__doc__': None, 'e': 50}\n",
      "{'__module__': '__main__', '__init__': <function test.__init__ at 0x0000000004EF2AE8>, 'm1': <function test.m1 at 0x0000000004EF2598>, 'm2': <classmethod object at 0x0000000004EEB320>, 'm3': <staticmethod object at 0x0000000004EEB160>, '__dict__': <attribute '__dict__' of 'test' objects>, '__weakref__': <attribute '__weakref__' of 'test' objects>, '__doc__': None, 'e': 50, 'f': 60}\n",
      "{'__module__': '__main__', '__init__': <function test.__init__ at 0x0000000004EF2AE8>, 'm1': <function test.m1 at 0x0000000004EF2598>, 'm2': <classmethod object at 0x0000000004EEB320>, 'm3': <staticmethod object at 0x0000000004EEB160>, '__dict__': <attribute '__dict__' of 'test' objects>, '__weakref__': <attribute '__weakref__' of 'test' objects>, '__doc__': None, 'f': 60}\n"
     ]
    }
   ],
   "source": [
    "class test:\n",
    "    a=10\n",
    "    def __init__(self):\n",
    "        test.b=20\n",
    "        del test.a\n",
    "    def m1(self):\n",
    "        test.c=30\n",
    "        del test.b\n",
    "    @classmethod\n",
    "    def m2(cls):\n",
    "        cls.d=40\n",
    "        del test.c\n",
    "    @staticmethod\n",
    "    def m3():\n",
    "        test.e=50\n",
    "        del test.d\n",
    "print(test.__dict__)\n",
    "t=test()\n",
    "print(test.__dict__)\n",
    "t.m1()\n",
    "print(test.__dict__)\n",
    "test.m2()\n",
    "print(test.__dict__)\n",
    "test.m3()\n",
    "print(test.__dict__)\n",
    "test.f=60\n",
    "print(test.__dict__)\n",
    "del test.e\n",
    "print(test.__dict__)"
   ]
  },
  {
   "cell_type": "code",
   "execution_count": 54,
   "metadata": {},
   "outputs": [
    {
     "ename": "AttributeError",
     "evalue": "a",
     "output_type": "error",
     "traceback": [
      "\u001b[1;31m---------------------------------------------------------------------------\u001b[0m",
      "\u001b[1;31mAttributeError\u001b[0m                            Traceback (most recent call last)",
      "\u001b[1;32m<ipython-input-54-0bca80f9c6f3>\u001b[0m in \u001b[0;36m<module>\u001b[1;34m()\u001b[0m\n\u001b[0;32m      2\u001b[0m     \u001b[0ma\u001b[0m\u001b[1;33m=\u001b[0m\u001b[1;36m10\u001b[0m\u001b[1;33m\u001b[0m\u001b[0m\n\u001b[0;32m      3\u001b[0m \u001b[0mt1\u001b[0m\u001b[1;33m=\u001b[0m\u001b[0mtest\u001b[0m\u001b[1;33m(\u001b[0m\u001b[1;33m)\u001b[0m\u001b[1;33m\u001b[0m\u001b[0m\n\u001b[1;32m----> 4\u001b[1;33m \u001b[1;32mdel\u001b[0m \u001b[0mt1\u001b[0m\u001b[1;33m.\u001b[0m\u001b[0ma\u001b[0m\u001b[1;33m\u001b[0m\u001b[0m\n\u001b[0m",
      "\u001b[1;31mAttributeError\u001b[0m: a"
     ]
    }
   ],
   "source": [
    "class test:\n",
    "    a=10\n",
    "t1=test()\n",
    "del t1.a"
   ]
  },
  {
   "cell_type": "code",
   "execution_count": 57,
   "metadata": {},
   "outputs": [
    {
     "name": "stdout",
     "output_type": "stream",
     "text": [
      "welcome to  durgaabank\n",
      "enter your  namedurga\n",
      "d-deposit\n",
      "w-withdraw\n",
      "e-exit\n",
      "choose your optiond\n",
      "enter amount10000\n",
      "balance after deposit 10000.0\n",
      "d-deposit\n",
      "w-withdraw\n",
      "e-exit\n",
      "choose your optiond\n",
      "enter amount20000\n",
      "balance after deposit 30000.0\n",
      "d-deposit\n",
      "w-withdraw\n",
      "e-exit\n",
      "choose your optionw\n",
      "enter amount2000\n",
      "balance after withdraw 28000.0\n",
      "d-deposit\n",
      "w-withdraw\n",
      "e-exit\n",
      "choose your optionr\n",
      "invalid option...plz choose valid option\n",
      "d-deposit\n",
      "w-withdraw\n",
      "e-exit\n",
      "choose your optione\n"
     ]
    },
    {
     "ename": "SystemExit",
     "evalue": "",
     "output_type": "error",
     "traceback": [
      "An exception has occurred, use %tb to see the full traceback.\n",
      "\u001b[1;31mSystemExit\u001b[0m\n"
     ]
    },
    {
     "name": "stderr",
     "output_type": "stream",
     "text": [
      "C:\\ProgramData\\Anaconda3\\lib\\site-packages\\IPython\\core\\interactiveshell.py:2971: UserWarning: To exit: use 'exit', 'quit', or Ctrl-D.\n",
      "  warn(\"To exit: use 'exit', 'quit', or Ctrl-D.\", stacklevel=1)\n"
     ]
    }
   ],
   "source": [
    "import sys\n",
    "class customer:\n",
    "    \"\"\"customer class with bank application\"\"\"\n",
    "    bankname=\"durgaabank\"\n",
    "    def __init__(self,name,balance=0.0):\n",
    "        self.name=name\n",
    "        self.balance=balance\n",
    "    def deposit(self,amt):\n",
    "        self.balance=self.balance+amt\n",
    "        print(\"balance after deposit\",self.balance)\n",
    "    def withdraw(self,amt):\n",
    "        if amt >self.balance:\n",
    "            print(\"insufficient funds .. cannot perform this operation\")\n",
    "            sys.exit()\n",
    "        else :\n",
    "            self.balance=self.balance-amt\n",
    "            print(\"balance after withdraw\",self.balance)\n",
    "print(\"welcome to \",customer.bankname)\n",
    "name=input(\"enter your  name\")\n",
    "c=customer(name)\n",
    "while True:\n",
    "    print(\"d-deposit\\nw-withdraw\\ne-exit\")\n",
    "    option=input(\"choose your option\")\n",
    "    if option==\"d\" or option ==\"D\":\n",
    "        amt=float(input(\"enter amount\"))\n",
    "        c.deposit(amt)\n",
    "    elif option==\"w\"or option ==\"W\":\n",
    "        amt=float(input(\"enter amount\"))\n",
    "        c.withdraw(amt)\n",
    "    elif option==\"e\"or option==\"E\":\n",
    "        sys.exit()\n",
    "    else:\n",
    "        print(\"invalid option...plz choose valid option\")\n",
    "        "
   ]
  },
  {
   "cell_type": "code",
   "execution_count": 59,
   "metadata": {},
   "outputs": [
    {
     "name": "stdout",
     "output_type": "stream",
     "text": [
      "1000\n",
      "2000\n"
     ]
    }
   ],
   "source": [
    "class test:\n",
    "    def m1(self):\n",
    "        a=1000\n",
    "        print(a)\n",
    "    def m2(self):\n",
    "        b=2000\n",
    "        print(b)\n",
    "t=test()\n",
    "t.m1()\n",
    "t.m2()"
   ]
  },
  {
   "cell_type": "code",
   "execution_count": 62,
   "metadata": {},
   "outputs": [
    {
     "name": "stdout",
     "output_type": "stream",
     "text": [
      "1000\n"
     ]
    },
    {
     "ename": "NameError",
     "evalue": "name 'a' is not defined",
     "output_type": "error",
     "traceback": [
      "\u001b[1;31m---------------------------------------------------------------------------\u001b[0m",
      "\u001b[1;31mNameError\u001b[0m                                 Traceback (most recent call last)",
      "\u001b[1;32m<ipython-input-62-3e385bd172e5>\u001b[0m in \u001b[0;36m<module>\u001b[1;34m()\u001b[0m\n\u001b[0;32m      9\u001b[0m \u001b[0mt\u001b[0m\u001b[1;33m=\u001b[0m\u001b[0mtest\u001b[0m\u001b[1;33m(\u001b[0m\u001b[1;33m)\u001b[0m\u001b[1;33m\u001b[0m\u001b[0m\n\u001b[0;32m     10\u001b[0m \u001b[0mt\u001b[0m\u001b[1;33m.\u001b[0m\u001b[0mm1\u001b[0m\u001b[1;33m(\u001b[0m\u001b[1;33m)\u001b[0m\u001b[1;33m\u001b[0m\u001b[0m\n\u001b[1;32m---> 11\u001b[1;33m \u001b[0mt\u001b[0m\u001b[1;33m.\u001b[0m\u001b[0mm2\u001b[0m\u001b[1;33m(\u001b[0m\u001b[1;33m)\u001b[0m\u001b[1;33m\u001b[0m\u001b[0m\n\u001b[0m",
      "\u001b[1;32m<ipython-input-62-3e385bd172e5>\u001b[0m in \u001b[0;36mm2\u001b[1;34m(self)\u001b[0m\n\u001b[0;32m      5\u001b[0m     \u001b[1;32mdef\u001b[0m \u001b[0mm2\u001b[0m\u001b[1;33m(\u001b[0m\u001b[0mself\u001b[0m\u001b[1;33m)\u001b[0m\u001b[1;33m:\u001b[0m\u001b[1;33m\u001b[0m\u001b[0m\n\u001b[0;32m      6\u001b[0m         \u001b[0mb\u001b[0m\u001b[1;33m=\u001b[0m\u001b[1;36m2000\u001b[0m\u001b[1;33m\u001b[0m\u001b[0m\n\u001b[1;32m----> 7\u001b[1;33m         \u001b[0mprint\u001b[0m\u001b[1;33m(\u001b[0m\u001b[0ma\u001b[0m\u001b[1;33m)\u001b[0m\u001b[1;33m\u001b[0m\u001b[0m\n\u001b[0m\u001b[0;32m      8\u001b[0m         \u001b[0mprint\u001b[0m\u001b[1;33m(\u001b[0m\u001b[0mb\u001b[0m\u001b[1;33m)\u001b[0m\u001b[1;33m\u001b[0m\u001b[0m\n\u001b[0;32m      9\u001b[0m \u001b[0mt\u001b[0m\u001b[1;33m=\u001b[0m\u001b[0mtest\u001b[0m\u001b[1;33m(\u001b[0m\u001b[1;33m)\u001b[0m\u001b[1;33m\u001b[0m\u001b[0m\n",
      "\u001b[1;31mNameError\u001b[0m: name 'a' is not defined"
     ]
    }
   ],
   "source": [
    "class test:\n",
    "    def m1(self):\n",
    "        a=1000\n",
    "        print(a)\n",
    "    def m2(self):\n",
    "        b=2000\n",
    "        print(a)\n",
    "        print(b)\n",
    "t=test()\n",
    "t.m1()\n",
    "t.m2()"
   ]
  },
  {
   "cell_type": "code",
   "execution_count": 66,
   "metadata": {},
   "outputs": [
    {
     "name": "stdout",
     "output_type": "stream",
     "text": [
      "enter number of students2\n",
      "enter namedurga\n",
      "enter marks90\n",
      "hi  durga\n",
      "your marks are  90\n",
      "you got first grade\n",
      "\n",
      "enter nameravi\n",
      "enter marks12\n",
      "hi  ravi\n",
      "your marks are  12\n",
      "you are failed\n",
      "\n"
     ]
    }
   ],
   "source": [
    "class student:\n",
    "    def __init__(self,name,marks):\n",
    "        self.name=name\n",
    "        self.marks=marks\n",
    "    def display(self):\n",
    "        print(\"hi \",self.name)\n",
    "        print(\"your marks are \",self.marks)\n",
    "    def grade(self):\n",
    "        if self.marks>=60:\n",
    "            print(\"you got first grade\")\n",
    "        elif self.marks>=50:\n",
    "            print(\"you got second grade\")\n",
    "        elif self.marks>=35:\n",
    "            print(\"you got third grade\")\n",
    "        else:\n",
    "            print(\"you are failed\")\n",
    "n=int(input(\"enter number of students\"))\n",
    "for i in range(n):\n",
    "    name=input(\"enter name\")\n",
    "    marks=int(input(\"enter marks\"))\n",
    "    s1=student(name,marks)\n",
    "    s1.display()\n",
    "    s1.grade()\n",
    "    print()"
   ]
  },
  {
   "cell_type": "code",
   "execution_count": 72,
   "metadata": {},
   "outputs": [
    {
     "name": "stdout",
     "output_type": "stream",
     "text": [
      "enter number of students2\n",
      "enter namedurga\n",
      "enter marks100\n",
      "enter nameravi\n",
      "enter marks80\n",
      "hi ravi\n",
      "your marks are 80\n",
      "\n"
     ]
    }
   ],
   "source": [
    "class student:\n",
    "    def setName(self,name):\n",
    "        self.name=name\n",
    "    def getName(self):\n",
    "        return self.name\n",
    "    def setMarks(self,marks):\n",
    "        self.marks=marks\n",
    "    def getMarks(self):\n",
    "        return self.marks\n",
    "n=int(input(\"enter number of students\"))\n",
    "for i in range(n):\n",
    "    s=student()\n",
    "    name=input(\"enter name\")\n",
    "    s.setName(name)\n",
    "    marks=int(input(\"enter marks\"))\n",
    "    s.setMarks(marks)\n",
    "    \n",
    "print(\"hi\",s.getName())\n",
    "print(\"your marks are\",s.getMarks())\n",
    "print()"
   ]
  },
  {
   "cell_type": "code",
   "execution_count": 76,
   "metadata": {},
   "outputs": [
    {
     "name": "stdout",
     "output_type": "stream",
     "text": [
      "dog walks with 4 legs\n",
      "cat walks with 4 legs\n"
     ]
    }
   ],
   "source": [
    "class animal:\n",
    "    legs=4\n",
    "    @classmethod\n",
    "    def walk(cls,name):\n",
    "        print(\"{} walks with {} legs\".format(name,cls.legs))\n",
    "\n",
    "animal.walk(\"dog\")\n",
    "animal.walk(\"cat\")"
   ]
  },
  {
   "cell_type": "code",
   "execution_count": 78,
   "metadata": {},
   "outputs": [
    {
     "name": "stdout",
     "output_type": "stream",
     "text": [
      "the number of object created for test class  2\n",
      "the number of object created for test class  5\n"
     ]
    }
   ],
   "source": [
    "class test:\n",
    "    count=0\n",
    "    def __init__(self):\n",
    "        test.count=test.count+1\n",
    "    @classmethod\n",
    "    def noofobjects(cls):\n",
    "        print(\"the number of object created for test class \",cls.count)\n",
    "t1=test()\n",
    "t2=test()\n",
    "test.noofobjects()\n",
    "t3=test()\n",
    "t4=test()\n",
    "t5=test()\n",
    "test.noofobjects()"
   ]
  },
  {
   "cell_type": "code",
   "execution_count": 79,
   "metadata": {},
   "outputs": [
    {
     "name": "stdout",
     "output_type": "stream",
     "text": [
      "the sum  30\n",
      "the product is  200\n",
      "the average is  15.0\n"
     ]
    }
   ],
   "source": [
    "class durgamath:\n",
    "    @staticmethod\n",
    "    def add(x,y):\n",
    "        print(\"the sum \",x+y)\n",
    "    def product(x,y):\n",
    "        print(\"the product is \",x*y)\n",
    "    def average(x,y):\n",
    "        print(\"the average is \",(x+y)/2)\n",
    "durgamath.add(10,20)\n",
    "durgamath.product(10,20)\n",
    "durgamath.average(10,20)"
   ]
  },
  {
   "cell_type": "code",
   "execution_count": 83,
   "metadata": {},
   "outputs": [
    {
     "name": "stdout",
     "output_type": "stream",
     "text": [
      "employee number  100\n",
      "employee name durga\n",
      "employe salary 20000\n"
     ]
    }
   ],
   "source": [
    "class employee:\n",
    "    def __init__(self,eno,ename,esal):\n",
    "        self.eno=eno\n",
    "        self.ename=ename\n",
    "        self.esal=esal\n",
    "    def display(self):\n",
    "        print(\"employee number \",self.eno)\n",
    "        print(\"employee name\",self.ename)\n",
    "        print(\"employe salary\",self.esal)\n",
    "class test:\n",
    "    def modify(emp):\n",
    "        emp.esal=emp.esal+10000\n",
    "        emp.display()\n",
    "e=employee(100,\"durga\",10000)\n",
    "test.modify(e)"
   ]
  },
  {
   "cell_type": "code",
   "execution_count": 89,
   "metadata": {},
   "outputs": [
    {
     "name": "stdout",
     "output_type": "stream",
     "text": [
      "outer class object creation \n",
      "inner class object creation\n",
      "inner class method\n",
      "outer class object creation \n",
      "inner class object creation\n",
      "inner class method\n",
      "outer class object creation \n",
      "inner class object creation\n",
      "inner class method\n"
     ]
    }
   ],
   "source": [
    "class outer :\n",
    "    def __init__(self):\n",
    "        print(\"outer class object creation \")\n",
    "    class inner:\n",
    "        def __init__(self):\n",
    "            print(\"inner class object creation\")\n",
    "        def m1(self):\n",
    "            print(\"inner class method\")\n",
    "o=outer()\n",
    "i=o.inner()\n",
    "i.m1()\n",
    "i=outer().inner()\n",
    "i.m1()\n",
    "outer().inner().m1()"
   ]
  },
  {
   "cell_type": "code",
   "execution_count": 93,
   "metadata": {},
   "outputs": [
    {
     "name": "stdout",
     "output_type": "stream",
     "text": [
      "name durga\n",
      "dob:10/5/1947\n"
     ]
    }
   ],
   "source": [
    "class person:\n",
    "    def __init__(self):\n",
    "        self.name=\"durga\"\n",
    "        self.db=self.dob()\n",
    "    def display(self):\n",
    "        print(\"name\",self.name)\n",
    "    class dob:\n",
    "        def __init__(self):\n",
    "            self.dd=10\n",
    "            self.mm=5\n",
    "            self.yy=1947\n",
    "        def display(self):\n",
    "            print(\"dob:{}/{}/{}\".format(self.dd,self.mm,self.yy))\n",
    "p=person()\n",
    "p.display()\n",
    "x=p.db\n",
    "x.display()"
   ]
  },
  {
   "cell_type": "code",
   "execution_count": 97,
   "metadata": {},
   "outputs": [
    {
     "name": "stdout",
     "output_type": "stream",
     "text": [
      "hello sunny\n",
      "talking\n",
      "thniking\n"
     ]
    }
   ],
   "source": [
    "class human:\n",
    "    def __init__(self):\n",
    "        self.name=\"sunny\"\n",
    "        self.head=self.head()\n",
    "        self.brain=self.brain()\n",
    "    def display(self):\n",
    "        print(\"hello\",self.name)\n",
    "    class head:\n",
    "        def talk(self):\n",
    "            print(\"talking\")\n",
    "    class brain:\n",
    "        def think(self):\n",
    "            print(\"thniking\")\n",
    "h=human()\n",
    "h.display()\n",
    "h.head.talk()\n",
    "h.brain.think()\n"
   ]
  },
  {
   "cell_type": "code",
   "execution_count": 101,
   "metadata": {},
   "outputs": [
    {
     "name": "stdout",
     "output_type": "stream",
     "text": [
      "False\n",
      "False\n",
      "True\n"
     ]
    }
   ],
   "source": [
    "import gc\n",
    "print(gc.isenabled())\n",
    "gc.disable()\n",
    "print(gc.isenabled())\n",
    "gc.enable()\n",
    "print(gc.isenabled())"
   ]
  },
  {
   "cell_type": "code",
   "execution_count": 102,
   "metadata": {},
   "outputs": [
    {
     "name": "stdout",
     "output_type": "stream",
     "text": [
      "object initilization..\n",
      "fullfilling last wish and performing clean up activites\n",
      "end of application\n"
     ]
    }
   ],
   "source": [
    "import time\n",
    "class test:\n",
    "    def __init__(self):\n",
    "        print(\"object initilization..\")\n",
    "    def __del__(self):\n",
    "        print(\"fullfilling last wish and performing clean up activites\")\n",
    "t1=test()\n",
    "t1=None\n",
    "time.sleep(5)\n",
    "print(\"end of application\")"
   ]
  },
  {
   "cell_type": "code",
   "execution_count": 103,
   "metadata": {},
   "outputs": [
    {
     "name": "stdout",
     "output_type": "stream",
     "text": [
      "object initilization..\n",
      "object not yet destroyed after deleting t1\n",
      "object not yet destroyed after deleting t2\n",
      "I am trying to delete last reference variable\n",
      "destructor execution..\n"
     ]
    }
   ],
   "source": [
    "import time \n",
    "class test:\n",
    "    def __init__(self):\n",
    "        print(\"object initilization..\")\n",
    "    def __del__(self):\n",
    "        print(\"destructor execution..\")\n",
    "t1=test()\n",
    "t2=t1\n",
    "t3=t2\n",
    "del t1\n",
    "print(\"object not yet destroyed after deleting t1\")\n",
    "del t2\n",
    "time.sleep(5)\n",
    "print(\"object not yet destroyed after deleting t2\")\n",
    "print(\"I am trying to delete last reference variable\")\n",
    "del t3"
   ]
  },
  {
   "cell_type": "code",
   "execution_count": 104,
   "metadata": {},
   "outputs": [
    {
     "name": "stdout",
     "output_type": "stream",
     "text": [
      "constructor execution\n",
      "constructor execution\n",
      "constructor execution\n",
      "destructor execution\n",
      "destructor execution\n",
      "destructor execution\n",
      "end of appliction\n"
     ]
    }
   ],
   "source": [
    "import time \n",
    "class test:\n",
    "    def __init__(self):\n",
    "        print(\"constructor execution\")\n",
    "    def __del__(self):\n",
    "        print(\"destructor execution\")\n",
    "list=[test(),test(),test()]\n",
    "del list\n",
    "time.sleep(5)\n",
    "print(\"end of appliction\")"
   ]
  },
  {
   "cell_type": "code",
   "execution_count": 105,
   "metadata": {},
   "outputs": [
    {
     "name": "stdout",
     "output_type": "stream",
     "text": [
      "5\n"
     ]
    }
   ],
   "source": [
    "import sys\n",
    "class test:\n",
    "    pass\n",
    "t1=test()\n",
    "t2=t1\n",
    "t3=t1\n",
    "t4=t1\n",
    "print(sys.getrefcount(t1))"
   ]
  },
  {
   "cell_type": "code",
   "execution_count": 1,
   "metadata": {},
   "outputs": [
    {
     "name": "stdout",
     "output_type": "stream",
     "text": [
      "welcome to durgabank\n",
      "enter namedurga\n",
      "d-deposit\n",
      "w-withdraw\n",
      "e-exit\n",
      "choose your option d\n",
      "enter amount10000\n",
      "balance after deposit  10000.0\n",
      "d-deposit\n",
      "w-withdraw\n",
      "e-exit\n",
      "choose your option d\n",
      "enter amount20000\n",
      "balance after deposit  30000.0\n",
      "d-deposit\n",
      "w-withdraw\n",
      "e-exit\n",
      "choose your option w\n",
      "enter amount2000\n",
      "balance after withdraw  28000.0\n",
      "d-deposit\n",
      "w-withdraw\n",
      "e-exit\n",
      "choose your option r\n",
      "invalid option \n",
      "d-deposit\n",
      "w-withdraw\n",
      "e-exit\n",
      "choose your option e\n",
      "thanks for banking\n"
     ]
    },
    {
     "ename": "SystemExit",
     "evalue": "",
     "output_type": "error",
     "traceback": [
      "An exception has occurred, use %tb to see the full traceback.\n",
      "\u001b[1;31mSystemExit\u001b[0m\n"
     ]
    },
    {
     "name": "stderr",
     "output_type": "stream",
     "text": [
      "C:\\ProgramData\\Anaconda3\\lib\\site-packages\\IPython\\core\\interactiveshell.py:2971: UserWarning: To exit: use 'exit', 'quit', or Ctrl-D.\n",
      "  warn(\"To exit: use 'exit', 'quit', or Ctrl-D.\", stacklevel=1)\n"
     ]
    }
   ],
   "source": [
    "import sys \n",
    "class customer:\n",
    "    \"\"\"customer class with bank operation\"\"\"\n",
    "    bankname=\"durgabank\"\n",
    "    def __init__(self,name,balance=0.0):\n",
    "        self.name=name\n",
    "        self.balance=balance\n",
    "    def deposit(self,amt):\n",
    "        self.balance=self.balance+amt\n",
    "        print(\"balance after deposit \",self.balance)\n",
    "    def withdraw(self,amt):\n",
    "        if amt>self.balance:\n",
    "            print(\"insufficient funds... cannot perform operation \")\n",
    "            sys.exit()\n",
    "        else:\n",
    "            self.balance=self.balance-amt\n",
    "            print(\"balance after withdraw \",self.balance)\n",
    "print(\"welcome to\",customer.bankname)\n",
    "name=input(\"enter name\")\n",
    "c=customer(name)\n",
    "while True:\n",
    "    print(\"d-deposit\\nw-withdraw\\ne-exit\")\n",
    "    option=input(\"choose your option \")\n",
    "    if option ==\"d\"or option ==\"D\":\n",
    "        amt=float(input(\"enter amount\"))\n",
    "        c.deposit(amt)\n",
    "    elif option==\"w\"or option==\"W\":\n",
    "        amt=float(input(\"enter amount\"))\n",
    "        c.withdraw(amt)\n",
    "    elif option==\"e\"or option==\"E\":\n",
    "        print(\"thanks for banking\")\n",
    "        sys.exit()\n",
    "    else:\n",
    "        print(\"invalid option \")\n",
    "        "
   ]
  },
  {
   "cell_type": "code",
   "execution_count": 2,
   "metadata": {},
   "outputs": [
    {
     "name": "stdout",
     "output_type": "stream",
     "text": [
      "enter number of students 2\n",
      "enter student namedurga\n",
      "enter student marks90\n",
      "hi durga\n",
      "your marks are  90\n",
      "you got first grade \n",
      "enter student nameravi\n",
      "enter student marks12\n",
      "hi ravi\n",
      "your marks are  12\n",
      "you are failed\n"
     ]
    }
   ],
   "source": [
    "class student :\n",
    "    def __init__(self,name,marks):\n",
    "        self.name=name\n",
    "        self.marks=marks\n",
    "    def display(self):\n",
    "        print(\"hi\",self.name)\n",
    "        print(\"your marks are \",self.marks)\n",
    "    def grade(self):\n",
    "        if self.marks>=60:\n",
    "            print(\"you got first grade \")\n",
    "        elif self.marks>=50:\n",
    "            print(\"you got second grade\")\n",
    "        elif self.marks>=35:\n",
    "            print(\"you got third grade\")\n",
    "        else:\n",
    "            print(\"you are failed\")\n",
    "n=int(input(\"enter number of students \"))\n",
    "for i in range (n):\n",
    "    name=input(\"enter student name\")\n",
    "    marks =int(input(\"enter student marks\"))\n",
    "    s=student (name,marks)\n",
    "    s.display()\n",
    "    s.grade()"
   ]
  },
  {
   "cell_type": "code",
   "execution_count": 5,
   "metadata": {},
   "outputs": [
    {
     "name": "stdout",
     "output_type": "stream",
     "text": [
      "enter number of students2\n",
      "enter student namedurga\n",
      "enter marks100\n",
      "enter student nameravi\n",
      "enter marks80\n",
      "hi ravi\n",
      "your marks are  80\n",
      "\n"
     ]
    }
   ],
   "source": [
    "class student:\n",
    "    def setname(self,name):\n",
    "        self.name=name\n",
    "    def getname(self):\n",
    "        return self.name\n",
    "    def setmarks(self,marks):\n",
    "        self.marks=marks\n",
    "    def getmarks(self):\n",
    "        return self.marks\n",
    "n=int(input(\"enter number of students\"))\n",
    "for i in range(n):\n",
    "    s=student()\n",
    "    name=input(\"enter student name\")\n",
    "    s.setname(name)\n",
    "    marks=int(input(\"enter marks\"))\n",
    "    s.setmarks(marks)\n",
    "print(\"hi\",s.getname())\n",
    "print(\"your marks are \",s.getmarks())\n",
    "print()"
   ]
  },
  {
   "cell_type": "code",
   "execution_count": 6,
   "metadata": {},
   "outputs": [
    {
     "name": "stdout",
     "output_type": "stream",
     "text": [
      "dog walks with 4 legs\n",
      "cat walks with 4 legs\n"
     ]
    }
   ],
   "source": [
    "class animal:\n",
    "    legs=4\n",
    "    @classmethod\n",
    "    def walk(cls,name):\n",
    "        print(\"{} walks with {} legs\".format(name ,cls.legs))\n",
    "animal.walk(\"dog\")\n",
    "animal.walk(\"cat\")"
   ]
  },
  {
   "cell_type": "code",
   "execution_count": 8,
   "metadata": {},
   "outputs": [
    {
     "name": "stdout",
     "output_type": "stream",
     "text": [
      "the number of object created for test class 2\n",
      "the number of object created for test class 5\n"
     ]
    }
   ],
   "source": [
    "class test:\n",
    "    count=0\n",
    "    def __init__(self):\n",
    "        test.count=test.count+1\n",
    "    @classmethod\n",
    "    def noofobject(cls):\n",
    "        print(\"the number of object created for test class\",cls.count)\n",
    "t1=test()\n",
    "t2=test()\n",
    "test.noofobject()\n",
    "t3=test()\n",
    "t4=test()\n",
    "t5=test()\n",
    "test.noofobject()"
   ]
  },
  {
   "cell_type": "code",
   "execution_count": 9,
   "metadata": {},
   "outputs": [
    {
     "name": "stdout",
     "output_type": "stream",
     "text": [
      "the sum 30\n",
      "the product 200\n",
      "the avergae  15.0\n"
     ]
    }
   ],
   "source": [
    "class durgamath():\n",
    "    @staticmethod\n",
    "    def add(x,y):\n",
    "        print(\"the sum\",x+y)\n",
    "    def product(x,y):\n",
    "        print(\"the product\",x*y)\n",
    "    def averge(x,y):\n",
    "        print(\"the avergae \",(x+y)/2)\n",
    "durgamath.add(10,20)\n",
    "durgamath.product(10,20)\n",
    "durgamath.averge(10,20)"
   ]
  },
  {
   "cell_type": "code",
   "execution_count": 3,
   "metadata": {},
   "outputs": [
    {
     "name": "stdout",
     "output_type": "stream",
     "text": [
      "employee no 100\n",
      "employee name durga\n",
      "employee salary 20000\n"
     ]
    }
   ],
   "source": [
    "class employee:\n",
    "    def __init__(self,eno,ename,esal):\n",
    "        self.eno=eno\n",
    "        self.ename=ename\n",
    "        self.esal=esal\n",
    "    def display(self):\n",
    "        print(\"employee no\",self.eno)\n",
    "        print(\"employee name\",self.ename)\n",
    "        print(\"employee salary\",self.esal)\n",
    "class test:\n",
    "    def modfiy(emp):\n",
    "        emp.esal=emp.esal+10000\n",
    "        emp.display()\n",
    "e=employee(100,\"durga\",10000)\n",
    "test.modfiy(e)"
   ]
  },
  {
   "cell_type": "code",
   "execution_count": 6,
   "metadata": {},
   "outputs": [
    {
     "name": "stdout",
     "output_type": "stream",
     "text": [
      "name: durga\n",
      "dob=10/5/1947\n"
     ]
    }
   ],
   "source": [
    "class person:\n",
    "    def __init__(self):\n",
    "        self.name=\"durga\"\n",
    "        self.db=self.dob()\n",
    "    def display(self):\n",
    "        print(\"name:\",self.name)\n",
    "    class dob:\n",
    "        def __init__(self):\n",
    "            self.dd=10\n",
    "            self.mm=5\n",
    "            self.yy=1947\n",
    "        def display(self):\n",
    "            print(\"dob={}/{}/{}\".format(self.dd,self.mm,self.yy))\n",
    "p=person()\n",
    "p.display()\n",
    "x=p.db\n",
    "x.display()"
   ]
  },
  {
   "cell_type": "code",
   "execution_count": 11,
   "metadata": {},
   "outputs": [
    {
     "name": "stdout",
     "output_type": "stream",
     "text": [
      "hello sunny\n",
      "talking\n",
      "thinking\n"
     ]
    }
   ],
   "source": [
    "class human:\n",
    "    def __init__(self):\n",
    "        self.name=\"sunny\"\n",
    "        self.head=self.head()\n",
    "        self.brain=self.brain()\n",
    "    def display(self):\n",
    "        print(\"hello\",\"sunny\")\n",
    "    class head:\n",
    "        def talk(self):\n",
    "            print(\"talking\")\n",
    "    class brain:\n",
    "        def think(self):\n",
    "            print(\"thinking\")\n",
    "h=human()\n",
    "h.display()\n",
    "h.head.talk()\n",
    "h.brain.think()"
   ]
  },
  {
   "cell_type": "code",
   "execution_count": 12,
   "metadata": {},
   "outputs": [
    {
     "name": "stdout",
     "output_type": "stream",
     "text": [
      "constructor execution\n",
      "constructor execution\n",
      "constructor execution\n",
      "destructor execution\n",
      "destructor execution\n",
      "destructor execution\n",
      "end of application\n"
     ]
    }
   ],
   "source": [
    "import time \n",
    "class test:\n",
    "    def __init__(self):\n",
    "        print(\"constructor execution\")\n",
    "    def __del__(self):\n",
    "        print(\"destructor execution\")\n",
    "list=[test(),test(),test()]\n",
    "del list\n",
    "time .sleep(5)\n",
    "print(\"end of application\")"
   ]
  },
  {
   "cell_type": "code",
   "execution_count": 14,
   "metadata": {},
   "outputs": [
    {
     "name": "stdout",
     "output_type": "stream",
     "text": [
      "5\n"
     ]
    }
   ],
   "source": [
    "import sys\n",
    "class test:\n",
    "    pass\n",
    "t1=test()\n",
    "t2=t1\n",
    "t3=t1\n",
    "t4=t1\n",
    "print(sys.getrefcount(t1))"
   ]
  },
  {
   "cell_type": "code",
   "execution_count": null,
   "metadata": {},
   "outputs": [],
   "source": []
  }
 ],
 "metadata": {
  "kernelspec": {
   "display_name": "Python 3",
   "language": "python",
   "name": "python3"
  },
  "language_info": {
   "codemirror_mode": {
    "name": "ipython",
    "version": 3
   },
   "file_extension": ".py",
   "mimetype": "text/x-python",
   "name": "python",
   "nbconvert_exporter": "python",
   "pygments_lexer": "ipython3",
   "version": "3.6.5"
  }
 },
 "nbformat": 4,
 "nbformat_minor": 2
}
