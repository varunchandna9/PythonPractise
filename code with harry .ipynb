{
 "cells": [
  {
   "cell_type": "code",
   "execution_count": 6,
   "metadata": {},
   "outputs": [
    {
     "name": "stdout",
     "output_type": "stream",
     "text": [
      "enter the number 5\n",
      "5 X 1 = 5\n",
      "5 X 2 = 10\n",
      "5 X 3 = 15\n",
      "5 X 4 = 20\n",
      "5 X 5 = 25\n",
      "5 X 6 = 30\n",
      "5 X 7 = 35\n",
      "5 X 8 = 40\n",
      "5 X 9 = 45\n",
      "5 X 10 = 50\n"
     ]
    }
   ],
   "source": [
    "num=int(input(\"enter the number \"))\n",
    "for i in range(1,11):\n",
    "    print(str(num) + \"x\" + str(i) + \"=\" + str(i*num))\n",
    "    print(f\"{num} X { i} = {num*i}\")\n",
    "    "
   ]
  },
  {
   "cell_type": "code",
   "execution_count": 9,
   "metadata": {},
   "outputs": [
    {
     "name": "stdout",
     "output_type": "stream",
     "text": [
      "hellosohan\n",
      "hellosachin\n"
     ]
    }
   ],
   "source": [
    "l1=[\"harry\",\"sohan\",\"sachin\",\"rahul\"]\n",
    "for name in l1:\n",
    "    if name.startswith(\"s\"):\n",
    "        print(\"hello\" + name)"
   ]
  },
  {
   "cell_type": "code",
   "execution_count": 14,
   "metadata": {},
   "outputs": [
    {
     "name": "stdout",
     "output_type": "stream",
     "text": [
      "enter the number 9\n",
      "this number is not prime \n"
     ]
    }
   ],
   "source": [
    "num=int(input(\"enter the number \"))\n",
    "prime = True\n",
    "for i in range(2,num):\n",
    "    if (num%i==0):\n",
    "        prime = False\n",
    "        break\n",
    "if prime :\n",
    "    print(\"this is a prime number \")\n",
    "else:\n",
    "    print(\"this number is not prime \")"
   ]
  },
  {
   "cell_type": "code",
   "execution_count": 20,
   "metadata": {},
   "outputs": [
    {
     "name": "stdout",
     "output_type": "stream",
     "text": [
      "enter the number 0\n",
      "the of number is factorial 0 is 1\n"
     ]
    }
   ],
   "source": [
    "factorial =1\n",
    "num=int(input(\"enter the number \"))\n",
    "for i in range(1,num+1):\n",
    "    factorial=factorial * i\n",
    "print(f\"the of number is factorial {num} is {factorial}\")"
   ]
  },
  {
   "cell_type": "code",
   "execution_count": 21,
   "metadata": {},
   "outputs": [
    {
     "name": "stdout",
     "output_type": "stream",
     "text": [
      "*\n",
      "**\n",
      "***\n",
      "****\n"
     ]
    }
   ],
   "source": [
    "n=4\n",
    "for i in range(4):\n",
    "    print(\"*\" * (i+1))"
   ]
  },
  {
   "cell_type": "code",
   "execution_count": 1,
   "metadata": {},
   "outputs": [
    {
     "name": "stdout",
     "output_type": "stream",
     "text": [
      "  *  \n",
      " *** \n",
      "*****\n"
     ]
    }
   ],
   "source": [
    "n=3\n",
    "for i in range (3):\n",
    "    print(\" \" * (n-i-1),end=\"\")\n",
    "    print(\"*\" * (2*i+1),end=\"\")\n",
    "    print(\" \" * (n-i-1))"
   ]
  },
  {
   "cell_type": "code",
   "execution_count": null,
   "metadata": {},
   "outputs": [],
   "source": []
  },
  {
   "cell_type": "code",
   "execution_count": null,
   "metadata": {},
   "outputs": [],
   "source": []
  }
 ],
 "metadata": {
  "kernelspec": {
   "display_name": "Python 3",
   "language": "python",
   "name": "python3"
  },
  "language_info": {
   "codemirror_mode": {
    "name": "ipython",
    "version": 3
   },
   "file_extension": ".py",
   "mimetype": "text/x-python",
   "name": "python",
   "nbconvert_exporter": "python",
   "pygments_lexer": "ipython3",
   "version": "3.6.5"
  }
 },
 "nbformat": 4,
 "nbformat_minor": 2
}
