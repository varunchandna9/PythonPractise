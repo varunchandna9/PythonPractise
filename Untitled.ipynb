{
 "cells": [
  {
   "cell_type": "code",
   "execution_count": 1,
   "metadata": {},
   "outputs": [
    {
     "name": "stdout",
     "output_type": "stream",
     "text": [
      "Hello World\n"
     ]
    }
   ],
   "source": [
    "print(\"Hello World\")"
   ]
  },
  {
   "cell_type": "code",
   "execution_count": 3,
   "metadata": {},
   "outputs": [
    {
     "name": "stdout",
     "output_type": "stream",
     "text": [
      "The Sum: 30\n"
     ]
    }
   ],
   "source": [
    "a=10\n",
    "b=20\n",
    "print(\"The Sum:\",(a+b))"
   ]
  },
  {
   "cell_type": "code",
   "execution_count": 4,
   "metadata": {},
   "outputs": [],
   "source": [
    "a=10"
   ]
  },
  {
   "cell_type": "code",
   "execution_count": 5,
   "metadata": {},
   "outputs": [],
   "source": [
    "cash=10"
   ]
  },
  {
   "cell_type": "code",
   "execution_count": 6,
   "metadata": {},
   "outputs": [
    {
     "ename": "SyntaxError",
     "evalue": "invalid syntax (<ipython-input-6-4ec182dba3e8>, line 1)",
     "output_type": "error",
     "traceback": [
      "\u001b[1;36m  File \u001b[1;32m\"<ipython-input-6-4ec182dba3e8>\"\u001b[1;36m, line \u001b[1;32m1\u001b[0m\n\u001b[1;33m    ca$h=10\u001b[0m\n\u001b[1;37m      ^\u001b[0m\n\u001b[1;31mSyntaxError\u001b[0m\u001b[1;31m:\u001b[0m invalid syntax\n"
     ]
    }
   ],
   "source": [
    "ca$h=10"
   ]
  },
  {
   "cell_type": "code",
   "execution_count": 7,
   "metadata": {},
   "outputs": [
    {
     "ename": "SyntaxError",
     "evalue": "invalid syntax (<ipython-input-7-9aedc29be817>, line 1)",
     "output_type": "error",
     "traceback": [
      "\u001b[1;36m  File \u001b[1;32m\"<ipython-input-7-9aedc29be817>\"\u001b[1;36m, line \u001b[1;32m1\u001b[0m\n\u001b[1;33m    123total=10\u001b[0m\n\u001b[1;37m           ^\u001b[0m\n\u001b[1;31mSyntaxError\u001b[0m\u001b[1;31m:\u001b[0m invalid syntax\n"
     ]
    }
   ],
   "source": [
    "123total=10"
   ]
  },
  {
   "cell_type": "code",
   "execution_count": 8,
   "metadata": {},
   "outputs": [],
   "source": [
    "total123=10"
   ]
  },
  {
   "cell_type": "code",
   "execution_count": 9,
   "metadata": {},
   "outputs": [
    {
     "name": "stdout",
     "output_type": "stream",
     "text": [
      "10\n",
      "999\n"
     ]
    }
   ],
   "source": [
    "total=10\n",
    "TOTAL=999\n",
    "print(total)\n",
    "print(TOTAL)"
   ]
  },
  {
   "cell_type": "code",
   "execution_count": 10,
   "metadata": {},
   "outputs": [
    {
     "ename": "SyntaxError",
     "evalue": "invalid syntax (<ipython-input-10-293b62d73f7a>, line 1)",
     "output_type": "error",
     "traceback": [
      "\u001b[1;36m  File \u001b[1;32m\"<ipython-input-10-293b62d73f7a>\"\u001b[1;36m, line \u001b[1;32m1\u001b[0m\n\u001b[1;33m    def=10\u001b[0m\n\u001b[1;37m       ^\u001b[0m\n\u001b[1;31mSyntaxError\u001b[0m\u001b[1;31m:\u001b[0m invalid syntax\n"
     ]
    }
   ],
   "source": [
    "def=10"
   ]
  },
  {
   "cell_type": "code",
   "execution_count": 11,
   "metadata": {},
   "outputs": [
    {
     "ename": "SyntaxError",
     "evalue": "invalid syntax (<ipython-input-11-9aedc29be817>, line 1)",
     "output_type": "error",
     "traceback": [
      "\u001b[1;36m  File \u001b[1;32m\"<ipython-input-11-9aedc29be817>\"\u001b[1;36m, line \u001b[1;32m1\u001b[0m\n\u001b[1;33m    123total=10\u001b[0m\n\u001b[1;37m           ^\u001b[0m\n\u001b[1;31mSyntaxError\u001b[0m\u001b[1;31m:\u001b[0m invalid syntax\n"
     ]
    }
   ],
   "source": [
    "123total=10"
   ]
  },
  {
   "cell_type": "code",
   "execution_count": 12,
   "metadata": {},
   "outputs": [],
   "source": [
    "total123=10"
   ]
  },
  {
   "cell_type": "code",
   "execution_count": 13,
   "metadata": {},
   "outputs": [],
   "source": [
    "java2share=10"
   ]
  },
  {
   "cell_type": "code",
   "execution_count": 14,
   "metadata": {},
   "outputs": [
    {
     "ename": "SyntaxError",
     "evalue": "invalid syntax (<ipython-input-14-4ec182dba3e8>, line 1)",
     "output_type": "error",
     "traceback": [
      "\u001b[1;36m  File \u001b[1;32m\"<ipython-input-14-4ec182dba3e8>\"\u001b[1;36m, line \u001b[1;32m1\u001b[0m\n\u001b[1;33m    ca$h=10\u001b[0m\n\u001b[1;37m      ^\u001b[0m\n\u001b[1;31mSyntaxError\u001b[0m\u001b[1;31m:\u001b[0m invalid syntax\n"
     ]
    }
   ],
   "source": [
    "ca$h=10"
   ]
  },
  {
   "cell_type": "code",
   "execution_count": 15,
   "metadata": {},
   "outputs": [],
   "source": [
    "_abc_abc_=10"
   ]
  },
  {
   "cell_type": "code",
   "execution_count": 16,
   "metadata": {},
   "outputs": [
    {
     "ename": "SyntaxError",
     "evalue": "invalid syntax (<ipython-input-16-293b62d73f7a>, line 1)",
     "output_type": "error",
     "traceback": [
      "\u001b[1;36m  File \u001b[1;32m\"<ipython-input-16-293b62d73f7a>\"\u001b[1;36m, line \u001b[1;32m1\u001b[0m\n\u001b[1;33m    def=10\u001b[0m\n\u001b[1;37m       ^\u001b[0m\n\u001b[1;31mSyntaxError\u001b[0m\u001b[1;31m:\u001b[0m invalid syntax\n"
     ]
    }
   ],
   "source": [
    "def=10"
   ]
  },
  {
   "cell_type": "code",
   "execution_count": 17,
   "metadata": {},
   "outputs": [
    {
     "ename": "SyntaxError",
     "evalue": "invalid syntax (<ipython-input-17-d804dbd42c9d>, line 1)",
     "output_type": "error",
     "traceback": [
      "\u001b[1;36m  File \u001b[1;32m\"<ipython-input-17-d804dbd42c9d>\"\u001b[1;36m, line \u001b[1;32m1\u001b[0m\n\u001b[1;33m    if=10\u001b[0m\n\u001b[1;37m      ^\u001b[0m\n\u001b[1;31mSyntaxError\u001b[0m\u001b[1;31m:\u001b[0m invalid syntax\n"
     ]
    }
   ],
   "source": [
    "if=10"
   ]
  },
  {
   "cell_type": "code",
   "execution_count": 18,
   "metadata": {},
   "outputs": [
    {
     "data": {
      "text/plain": [
       "30"
      ]
     },
     "execution_count": 18,
     "metadata": {},
     "output_type": "execute_result"
    }
   ],
   "source": [
    "a=10\n",
    "b=20\n",
    "a.__add__(b)"
   ]
  },
  {
   "cell_type": "code",
   "execution_count": 19,
   "metadata": {},
   "outputs": [
    {
     "ename": "NameError",
     "evalue": "name 'true' is not defined",
     "output_type": "error",
     "traceback": [
      "\u001b[1;31m---------------------------------------------------------------------------\u001b[0m",
      "\u001b[1;31mNameError\u001b[0m                                 Traceback (most recent call last)",
      "\u001b[1;32m<ipython-input-19-ac3af15297d9>\u001b[0m in \u001b[0;36m<module>\u001b[1;34m()\u001b[0m\n\u001b[1;32m----> 1\u001b[1;33m \u001b[0ma\u001b[0m\u001b[1;33m=\u001b[0m\u001b[0mtrue\u001b[0m\u001b[1;33m\u001b[0m\u001b[0m\n\u001b[0m",
      "\u001b[1;31mNameError\u001b[0m: name 'true' is not defined"
     ]
    }
   ],
   "source": [
    "a=true"
   ]
  },
  {
   "cell_type": "code",
   "execution_count": 20,
   "metadata": {},
   "outputs": [],
   "source": [
    "a=True"
   ]
  },
  {
   "cell_type": "code",
   "execution_count": 21,
   "metadata": {},
   "outputs": [],
   "source": [
    "import keyword"
   ]
  },
  {
   "cell_type": "code",
   "execution_count": 23,
   "metadata": {},
   "outputs": [
    {
     "name": "stdout",
     "output_type": "stream",
     "text": [
      "['False', 'None', 'True', 'and', 'as', 'assert', 'break', 'class', 'continue', 'def', 'del', 'elif', 'else', 'except', 'finally', 'for', 'from', 'global', 'if', 'import', 'in', 'is', 'lambda', 'nonlocal', 'not', 'or', 'pass', 'raise', 'return', 'try', 'while', 'with', 'yield']\n"
     ]
    }
   ],
   "source": [
    "print(keyword.kwlist)"
   ]
  },
  {
   "cell_type": "code",
   "execution_count": 24,
   "metadata": {},
   "outputs": [],
   "source": [
    "a=10"
   ]
  },
  {
   "cell_type": "code",
   "execution_count": 25,
   "metadata": {},
   "outputs": [
    {
     "data": {
      "text/plain": [
       "int"
      ]
     },
     "execution_count": 25,
     "metadata": {},
     "output_type": "execute_result"
    }
   ],
   "source": [
    "type(a)"
   ]
  },
  {
   "cell_type": "code",
   "execution_count": 26,
   "metadata": {},
   "outputs": [],
   "source": [
    "a=10"
   ]
  },
  {
   "cell_type": "code",
   "execution_count": 27,
   "metadata": {},
   "outputs": [],
   "source": [
    "a=0B1111"
   ]
  },
  {
   "cell_type": "code",
   "execution_count": 28,
   "metadata": {},
   "outputs": [
    {
     "ename": "SyntaxError",
     "evalue": "invalid syntax (<ipython-input-28-86b15893caf9>, line 1)",
     "output_type": "error",
     "traceback": [
      "\u001b[1;36m  File \u001b[1;32m\"<ipython-input-28-86b15893caf9>\"\u001b[1;36m, line \u001b[1;32m1\u001b[0m\n\u001b[1;33m    a=0B123\u001b[0m\n\u001b[1;37m          ^\u001b[0m\n\u001b[1;31mSyntaxError\u001b[0m\u001b[1;31m:\u001b[0m invalid syntax\n"
     ]
    }
   ],
   "source": [
    "a=0B123"
   ]
  },
  {
   "cell_type": "code",
   "execution_count": 29,
   "metadata": {},
   "outputs": [
    {
     "ename": "NameError",
     "evalue": "name 'b111' is not defined",
     "output_type": "error",
     "traceback": [
      "\u001b[1;31m---------------------------------------------------------------------------\u001b[0m",
      "\u001b[1;31mNameError\u001b[0m                                 Traceback (most recent call last)",
      "\u001b[1;32m<ipython-input-29-895b41b96875>\u001b[0m in \u001b[0;36m<module>\u001b[1;34m()\u001b[0m\n\u001b[1;32m----> 1\u001b[1;33m \u001b[0ma\u001b[0m\u001b[1;33m=\u001b[0m\u001b[0mb111\u001b[0m\u001b[1;33m\u001b[0m\u001b[0m\n\u001b[0m",
      "\u001b[1;31mNameError\u001b[0m: name 'b111' is not defined"
     ]
    }
   ],
   "source": [
    "a=b111"
   ]
  },
  {
   "cell_type": "code",
   "execution_count": 30,
   "metadata": {},
   "outputs": [],
   "source": [
    "a=0o123"
   ]
  },
  {
   "cell_type": "code",
   "execution_count": 31,
   "metadata": {},
   "outputs": [
    {
     "ename": "SyntaxError",
     "evalue": "invalid syntax (<ipython-input-31-c5fab71a5536>, line 1)",
     "output_type": "error",
     "traceback": [
      "\u001b[1;36m  File \u001b[1;32m\"<ipython-input-31-c5fab71a5536>\"\u001b[1;36m, line \u001b[1;32m1\u001b[0m\n\u001b[1;33m    a=0o786\u001b[0m\n\u001b[1;37m          ^\u001b[0m\n\u001b[1;31mSyntaxError\u001b[0m\u001b[1;31m:\u001b[0m invalid syntax\n"
     ]
    }
   ],
   "source": [
    "a=0o786"
   ]
  },
  {
   "cell_type": "code",
   "execution_count": 32,
   "metadata": {},
   "outputs": [],
   "source": [
    "a=0XFACE"
   ]
  },
  {
   "cell_type": "code",
   "execution_count": 33,
   "metadata": {},
   "outputs": [],
   "source": [
    "a=0XBeef"
   ]
  },
  {
   "cell_type": "code",
   "execution_count": 34,
   "metadata": {},
   "outputs": [
    {
     "ename": "SyntaxError",
     "evalue": "invalid syntax (<ipython-input-34-e101ccf6ee48>, line 1)",
     "output_type": "error",
     "traceback": [
      "\u001b[1;36m  File \u001b[1;32m\"<ipython-input-34-e101ccf6ee48>\"\u001b[1;36m, line \u001b[1;32m1\u001b[0m\n\u001b[1;33m    a=0XBeer\u001b[0m\n\u001b[1;37m           ^\u001b[0m\n\u001b[1;31mSyntaxError\u001b[0m\u001b[1;31m:\u001b[0m invalid syntax\n"
     ]
    }
   ],
   "source": [
    "a=0XBeer"
   ]
  },
  {
   "cell_type": "code",
   "execution_count": 35,
   "metadata": {},
   "outputs": [
    {
     "name": "stdout",
     "output_type": "stream",
     "text": [
      "10\n",
      "8\n",
      "16\n",
      "2\n"
     ]
    }
   ],
   "source": [
    "a=10\n",
    "b=0o10\n",
    "c=0X10\n",
    "d=0B10\n",
    "print(a)\n",
    "print(b)\n",
    "print(c)\n",
    "print(d)"
   ]
  },
  {
   "cell_type": "code",
   "execution_count": 36,
   "metadata": {},
   "outputs": [
    {
     "data": {
      "text/plain": [
       "'0b1111'"
      ]
     },
     "execution_count": 36,
     "metadata": {},
     "output_type": "execute_result"
    }
   ],
   "source": [
    "bin(15)"
   ]
  },
  {
   "cell_type": "code",
   "execution_count": 37,
   "metadata": {},
   "outputs": [
    {
     "data": {
      "text/plain": [
       "'0b1001'"
      ]
     },
     "execution_count": 37,
     "metadata": {},
     "output_type": "execute_result"
    }
   ],
   "source": [
    "bin(0o11)"
   ]
  },
  {
   "cell_type": "code",
   "execution_count": 38,
   "metadata": {},
   "outputs": [
    {
     "data": {
      "text/plain": [
       "'0b10000'"
      ]
     },
     "execution_count": 38,
     "metadata": {},
     "output_type": "execute_result"
    }
   ],
   "source": [
    "bin(0X10)"
   ]
  },
  {
   "cell_type": "code",
   "execution_count": 39,
   "metadata": {},
   "outputs": [
    {
     "data": {
      "text/plain": [
       "'0o12'"
      ]
     },
     "execution_count": 39,
     "metadata": {},
     "output_type": "execute_result"
    }
   ],
   "source": [
    "oct(10)"
   ]
  },
  {
   "cell_type": "code",
   "execution_count": 41,
   "metadata": {},
   "outputs": [
    {
     "data": {
      "text/plain": [
       "'0o17'"
      ]
     },
     "execution_count": 41,
     "metadata": {},
     "output_type": "execute_result"
    }
   ],
   "source": [
    "oct(0B1111)"
   ]
  },
  {
   "cell_type": "code",
   "execution_count": 42,
   "metadata": {},
   "outputs": [
    {
     "data": {
      "text/plain": [
       "'0o443'"
      ]
     },
     "execution_count": 42,
     "metadata": {},
     "output_type": "execute_result"
    }
   ],
   "source": [
    "oct(0X123)"
   ]
  },
  {
   "cell_type": "code",
   "execution_count": 43,
   "metadata": {},
   "outputs": [
    {
     "data": {
      "text/plain": [
       "'0x64'"
      ]
     },
     "execution_count": 43,
     "metadata": {},
     "output_type": "execute_result"
    }
   ],
   "source": [
    "hex(100)"
   ]
  },
  {
   "cell_type": "code",
   "execution_count": 44,
   "metadata": {},
   "outputs": [
    {
     "data": {
      "text/plain": [
       "'0x3f'"
      ]
     },
     "execution_count": 44,
     "metadata": {},
     "output_type": "execute_result"
    }
   ],
   "source": [
    "hex(0B111111)"
   ]
  },
  {
   "cell_type": "code",
   "execution_count": 45,
   "metadata": {},
   "outputs": [
    {
     "data": {
      "text/plain": [
       "'0x14e5'"
      ]
     },
     "execution_count": 45,
     "metadata": {},
     "output_type": "execute_result"
    }
   ],
   "source": [
    "hex(0o12345)"
   ]
  },
  {
   "cell_type": "code",
   "execution_count": 46,
   "metadata": {},
   "outputs": [],
   "source": [
    "f=1.234"
   ]
  },
  {
   "cell_type": "code",
   "execution_count": 47,
   "metadata": {},
   "outputs": [
    {
     "data": {
      "text/plain": [
       "float"
      ]
     },
     "execution_count": 47,
     "metadata": {},
     "output_type": "execute_result"
    }
   ],
   "source": [
    "type(f)"
   ]
  },
  {
   "cell_type": "code",
   "execution_count": 48,
   "metadata": {},
   "outputs": [],
   "source": [
    "f=1.2e3"
   ]
  },
  {
   "cell_type": "code",
   "execution_count": 49,
   "metadata": {},
   "outputs": [
    {
     "name": "stdout",
     "output_type": "stream",
     "text": [
      "1200.0\n"
     ]
    }
   ],
   "source": [
    "print(f)"
   ]
  },
  {
   "cell_type": "code",
   "execution_count": 50,
   "metadata": {},
   "outputs": [],
   "source": [
    "f=1.2E3"
   ]
  },
  {
   "cell_type": "code",
   "execution_count": 51,
   "metadata": {},
   "outputs": [
    {
     "name": "stdout",
     "output_type": "stream",
     "text": [
      "1200.0\n"
     ]
    }
   ],
   "source": [
    "print(f)"
   ]
  },
  {
   "cell_type": "code",
   "execution_count": 52,
   "metadata": {},
   "outputs": [
    {
     "ename": "SyntaxError",
     "evalue": "invalid syntax (<ipython-input-52-912344fb3541>, line 1)",
     "output_type": "error",
     "traceback": [
      "\u001b[1;36m  File \u001b[1;32m\"<ipython-input-52-912344fb3541>\"\u001b[1;36m, line \u001b[1;32m1\u001b[0m\n\u001b[1;33m    f=0B11.01\u001b[0m\n\u001b[1;37m            ^\u001b[0m\n\u001b[1;31mSyntaxError\u001b[0m\u001b[1;31m:\u001b[0m invalid syntax\n"
     ]
    }
   ],
   "source": [
    "f=0B11.01"
   ]
  },
  {
   "cell_type": "code",
   "execution_count": 53,
   "metadata": {},
   "outputs": [
    {
     "ename": "SyntaxError",
     "evalue": "invalid syntax (<ipython-input-53-d3a1aa2eba01>, line 1)",
     "output_type": "error",
     "traceback": [
      "\u001b[1;36m  File \u001b[1;32m\"<ipython-input-53-d3a1aa2eba01>\"\u001b[1;36m, line \u001b[1;32m1\u001b[0m\n\u001b[1;33m    f=0o123.456\u001b[0m\n\u001b[1;37m              ^\u001b[0m\n\u001b[1;31mSyntaxError\u001b[0m\u001b[1;31m:\u001b[0m invalid syntax\n"
     ]
    }
   ],
   "source": [
    "f=0o123.456"
   ]
  },
  {
   "cell_type": "code",
   "execution_count": 54,
   "metadata": {},
   "outputs": [
    {
     "ename": "SyntaxError",
     "evalue": "invalid syntax (<ipython-input-54-28d65f738993>, line 1)",
     "output_type": "error",
     "traceback": [
      "\u001b[1;36m  File \u001b[1;32m\"<ipython-input-54-28d65f738993>\"\u001b[1;36m, line \u001b[1;32m1\u001b[0m\n\u001b[1;33m    f=0X123.456\u001b[0m\n\u001b[1;37m              ^\u001b[0m\n\u001b[1;31mSyntaxError\u001b[0m\u001b[1;31m:\u001b[0m invalid syntax\n"
     ]
    }
   ],
   "source": [
    "f=0X123.456"
   ]
  },
  {
   "cell_type": "code",
   "execution_count": 55,
   "metadata": {},
   "outputs": [],
   "source": [
    "a=3+5j"
   ]
  },
  {
   "cell_type": "code",
   "execution_count": 56,
   "metadata": {},
   "outputs": [],
   "source": [
    "a=10+5.5j"
   ]
  },
  {
   "cell_type": "code",
   "execution_count": 57,
   "metadata": {},
   "outputs": [],
   "source": [
    "a=0.5+0.1j"
   ]
  },
  {
   "cell_type": "code",
   "execution_count": 58,
   "metadata": {},
   "outputs": [],
   "source": [
    "a=0B11+5j"
   ]
  },
  {
   "cell_type": "code",
   "execution_count": 59,
   "metadata": {},
   "outputs": [
    {
     "name": "stdout",
     "output_type": "stream",
     "text": [
      "(3+5j)\n"
     ]
    }
   ],
   "source": [
    "print(a)"
   ]
  },
  {
   "cell_type": "code",
   "execution_count": 60,
   "metadata": {},
   "outputs": [
    {
     "data": {
      "text/plain": [
       "(3+5j)"
      ]
     },
     "execution_count": 60,
     "metadata": {},
     "output_type": "execute_result"
    }
   ],
   "source": [
    "a"
   ]
  },
  {
   "cell_type": "code",
   "execution_count": 61,
   "metadata": {},
   "outputs": [
    {
     "ename": "SyntaxError",
     "evalue": "invalid syntax (<ipython-input-61-b9f8cb4956cd>, line 1)",
     "output_type": "error",
     "traceback": [
      "\u001b[1;36m  File \u001b[1;32m\"<ipython-input-61-b9f8cb4956cd>\"\u001b[1;36m, line \u001b[1;32m1\u001b[0m\n\u001b[1;33m    a=3+0B11j\u001b[0m\n\u001b[1;37m            ^\u001b[0m\n\u001b[1;31mSyntaxError\u001b[0m\u001b[1;31m:\u001b[0m invalid syntax\n"
     ]
    }
   ],
   "source": [
    "a=3+0B11j"
   ]
  },
  {
   "cell_type": "code",
   "execution_count": 63,
   "metadata": {},
   "outputs": [
    {
     "name": "stdout",
     "output_type": "stream",
     "text": [
      "(30+4j)\n"
     ]
    }
   ],
   "source": [
    "a=10+1.5j\n",
    "b=20+2.5j\n",
    "c=a+b\n",
    "print(c)"
   ]
  },
  {
   "cell_type": "code",
   "execution_count": 65,
   "metadata": {},
   "outputs": [
    {
     "name": "stdout",
     "output_type": "stream",
     "text": [
      "<class 'complex'>\n"
     ]
    }
   ],
   "source": [
    "print(type(c))"
   ]
  },
  {
   "cell_type": "code",
   "execution_count": 66,
   "metadata": {},
   "outputs": [],
   "source": [
    "c=10.5+3.6j"
   ]
  },
  {
   "cell_type": "code",
   "execution_count": 67,
   "metadata": {},
   "outputs": [
    {
     "data": {
      "text/plain": [
       "10.5"
      ]
     },
     "execution_count": 67,
     "metadata": {},
     "output_type": "execute_result"
    }
   ],
   "source": [
    "c.real"
   ]
  },
  {
   "cell_type": "code",
   "execution_count": 68,
   "metadata": {},
   "outputs": [
    {
     "data": {
      "text/plain": [
       "3.6"
      ]
     },
     "execution_count": 68,
     "metadata": {},
     "output_type": "execute_result"
    }
   ],
   "source": [
    "c.imag"
   ]
  },
  {
   "cell_type": "code",
   "execution_count": 69,
   "metadata": {},
   "outputs": [],
   "source": [
    "b=True"
   ]
  },
  {
   "cell_type": "code",
   "execution_count": 70,
   "metadata": {},
   "outputs": [
    {
     "data": {
      "text/plain": [
       "bool"
      ]
     },
     "execution_count": 70,
     "metadata": {},
     "output_type": "execute_result"
    }
   ],
   "source": [
    "type(b)"
   ]
  },
  {
   "cell_type": "code",
   "execution_count": 71,
   "metadata": {},
   "outputs": [
    {
     "name": "stdout",
     "output_type": "stream",
     "text": [
      "True\n"
     ]
    }
   ],
   "source": [
    "a=10\n",
    "b=20\n",
    "c=a<b\n",
    "print(c)"
   ]
  },
  {
   "cell_type": "code",
   "execution_count": 72,
   "metadata": {},
   "outputs": [
    {
     "data": {
      "text/plain": [
       "2"
      ]
     },
     "execution_count": 72,
     "metadata": {},
     "output_type": "execute_result"
    }
   ],
   "source": [
    "True+True"
   ]
  },
  {
   "cell_type": "code",
   "execution_count": 73,
   "metadata": {},
   "outputs": [
    {
     "data": {
      "text/plain": [
       "1"
      ]
     },
     "execution_count": 73,
     "metadata": {},
     "output_type": "execute_result"
    }
   ],
   "source": [
    "True+False"
   ]
  },
  {
   "cell_type": "code",
   "execution_count": 74,
   "metadata": {},
   "outputs": [],
   "source": [
    "s1='durga'"
   ]
  },
  {
   "cell_type": "code",
   "execution_count": 75,
   "metadata": {},
   "outputs": [],
   "source": [
    "s1=\"durga\""
   ]
  },
  {
   "cell_type": "code",
   "execution_count": 76,
   "metadata": {},
   "outputs": [
    {
     "ename": "SyntaxError",
     "evalue": "EOL while scanning string literal (<ipython-input-76-5905c3ad9778>, line 1)",
     "output_type": "error",
     "traceback": [
      "\u001b[1;36m  File \u001b[1;32m\"<ipython-input-76-5905c3ad9778>\"\u001b[1;36m, line \u001b[1;32m1\u001b[0m\n\u001b[1;33m    s1=\"durga\u001b[0m\n\u001b[1;37m             ^\u001b[0m\n\u001b[1;31mSyntaxError\u001b[0m\u001b[1;31m:\u001b[0m EOL while scanning string literal\n"
     ]
    }
   ],
   "source": [
    "s1=\"durga\n",
    "      soft\""
   ]
  },
  {
   "cell_type": "code",
   "execution_count": 77,
   "metadata": {},
   "outputs": [],
   "source": [
    "s1='''durga\n",
    "       soft'''"
   ]
  },
  {
   "cell_type": "code",
   "execution_count": 78,
   "metadata": {},
   "outputs": [],
   "source": [
    "s1=\"\"\"durga\n",
    "       soft\"\"\""
   ]
  },
  {
   "cell_type": "code",
   "execution_count": 79,
   "metadata": {},
   "outputs": [
    {
     "data": {
      "text/plain": [
       "'this is\" character'"
      ]
     },
     "execution_count": 79,
     "metadata": {},
     "output_type": "execute_result"
    }
   ],
   "source": [
    "'''this is\" character'''"
   ]
  },
  {
   "cell_type": "code",
   "execution_count": 80,
   "metadata": {},
   "outputs": [
    {
     "data": {
      "text/plain": [
       "'this is \"character'"
      ]
     },
     "execution_count": 80,
     "metadata": {},
     "output_type": "execute_result"
    }
   ],
   "source": [
    "\"\"\"this is \"character\"\"\""
   ]
  },
  {
   "cell_type": "code",
   "execution_count": 81,
   "metadata": {},
   "outputs": [
    {
     "data": {
      "text/plain": [
       "'this \"python class very helpful\" for java students'"
      ]
     },
     "execution_count": 81,
     "metadata": {},
     "output_type": "execute_result"
    }
   ],
   "source": [
    "'''this \"python class very helpful\" for java students'''"
   ]
  },
  {
   "cell_type": "code",
   "execution_count": 82,
   "metadata": {},
   "outputs": [],
   "source": [
    "s=\"durga\""
   ]
  },
  {
   "cell_type": "code",
   "execution_count": 83,
   "metadata": {},
   "outputs": [
    {
     "data": {
      "text/plain": [
       "'d'"
      ]
     },
     "execution_count": 83,
     "metadata": {},
     "output_type": "execute_result"
    }
   ],
   "source": [
    "s[0]"
   ]
  },
  {
   "cell_type": "code",
   "execution_count": 84,
   "metadata": {},
   "outputs": [
    {
     "data": {
      "text/plain": [
       "'u'"
      ]
     },
     "execution_count": 84,
     "metadata": {},
     "output_type": "execute_result"
    }
   ],
   "source": [
    "s[1]"
   ]
  },
  {
   "cell_type": "code",
   "execution_count": 85,
   "metadata": {},
   "outputs": [
    {
     "data": {
      "text/plain": [
       "'a'"
      ]
     },
     "execution_count": 85,
     "metadata": {},
     "output_type": "execute_result"
    }
   ],
   "source": [
    "s[-1]"
   ]
  },
  {
   "cell_type": "code",
   "execution_count": 86,
   "metadata": {},
   "outputs": [
    {
     "ename": "IndexError",
     "evalue": "string index out of range",
     "output_type": "error",
     "traceback": [
      "\u001b[1;31m---------------------------------------------------------------------------\u001b[0m",
      "\u001b[1;31mIndexError\u001b[0m                                Traceback (most recent call last)",
      "\u001b[1;32m<ipython-input-86-465d2612c03b>\u001b[0m in \u001b[0;36m<module>\u001b[1;34m()\u001b[0m\n\u001b[1;32m----> 1\u001b[1;33m \u001b[0ms\u001b[0m\u001b[1;33m[\u001b[0m\u001b[1;36m40\u001b[0m\u001b[1;33m]\u001b[0m\u001b[1;33m\u001b[0m\u001b[0m\n\u001b[0m",
      "\u001b[1;31mIndexError\u001b[0m: string index out of range"
     ]
    }
   ],
   "source": [
    "s[40]"
   ]
  },
  {
   "cell_type": "code",
   "execution_count": 87,
   "metadata": {},
   "outputs": [
    {
     "data": {
      "text/plain": [
       "'urga'"
      ]
     },
     "execution_count": 87,
     "metadata": {},
     "output_type": "execute_result"
    }
   ],
   "source": [
    "s[1:40]"
   ]
  },
  {
   "cell_type": "code",
   "execution_count": 88,
   "metadata": {},
   "outputs": [
    {
     "data": {
      "text/plain": [
       "'urga'"
      ]
     },
     "execution_count": 88,
     "metadata": {},
     "output_type": "execute_result"
    }
   ],
   "source": [
    "s[1:]"
   ]
  },
  {
   "cell_type": "code",
   "execution_count": 89,
   "metadata": {},
   "outputs": [
    {
     "data": {
      "text/plain": [
       "'durg'"
      ]
     },
     "execution_count": 89,
     "metadata": {},
     "output_type": "execute_result"
    }
   ],
   "source": [
    "s[:4]"
   ]
  },
  {
   "cell_type": "code",
   "execution_count": 90,
   "metadata": {},
   "outputs": [
    {
     "data": {
      "text/plain": [
       "'durga'"
      ]
     },
     "execution_count": 90,
     "metadata": {},
     "output_type": "execute_result"
    }
   ],
   "source": [
    "s[:]"
   ]
  },
  {
   "cell_type": "code",
   "execution_count": 91,
   "metadata": {},
   "outputs": [
    {
     "data": {
      "text/plain": [
       "'durgadurgadurga'"
      ]
     },
     "execution_count": 91,
     "metadata": {},
     "output_type": "execute_result"
    }
   ],
   "source": [
    "s*3"
   ]
  },
  {
   "cell_type": "code",
   "execution_count": 92,
   "metadata": {},
   "outputs": [
    {
     "data": {
      "text/plain": [
       "5"
      ]
     },
     "execution_count": 92,
     "metadata": {},
     "output_type": "execute_result"
    }
   ],
   "source": [
    "len(s)"
   ]
  },
  {
   "cell_type": "code",
   "execution_count": 94,
   "metadata": {},
   "outputs": [
    {
     "name": "stdout",
     "output_type": "stream",
     "text": [
      "<class 'str'>\n"
     ]
    }
   ],
   "source": [
    "c='a'\n",
    "print(type(c))"
   ]
  },
  {
   "cell_type": "code",
   "execution_count": 1,
   "metadata": {},
   "outputs": [
    {
     "data": {
      "text/plain": [
       "123"
      ]
     },
     "execution_count": 1,
     "metadata": {},
     "output_type": "execute_result"
    }
   ],
   "source": [
    "int(123.987)"
   ]
  },
  {
   "cell_type": "code",
   "execution_count": 2,
   "metadata": {},
   "outputs": [
    {
     "ename": "TypeError",
     "evalue": "can't convert complex to int",
     "output_type": "error",
     "traceback": [
      "\u001b[1;31m---------------------------------------------------------------------------\u001b[0m",
      "\u001b[1;31mTypeError\u001b[0m                                 Traceback (most recent call last)",
      "\u001b[1;32m<ipython-input-2-aeeb86d69c41>\u001b[0m in \u001b[0;36m<module>\u001b[1;34m()\u001b[0m\n\u001b[1;32m----> 1\u001b[1;33m \u001b[0mint\u001b[0m\u001b[1;33m(\u001b[0m\u001b[1;36m10\u001b[0m\u001b[1;33m+\u001b[0m\u001b[1;36m5j\u001b[0m\u001b[1;33m)\u001b[0m\u001b[1;33m\u001b[0m\u001b[0m\n\u001b[0m",
      "\u001b[1;31mTypeError\u001b[0m: can't convert complex to int"
     ]
    }
   ],
   "source": [
    "int(10+5j)"
   ]
  },
  {
   "cell_type": "code",
   "execution_count": 3,
   "metadata": {},
   "outputs": [
    {
     "data": {
      "text/plain": [
       "1"
      ]
     },
     "execution_count": 3,
     "metadata": {},
     "output_type": "execute_result"
    }
   ],
   "source": [
    "int(True)"
   ]
  },
  {
   "cell_type": "code",
   "execution_count": 4,
   "metadata": {},
   "outputs": [
    {
     "data": {
      "text/plain": [
       "0"
      ]
     },
     "execution_count": 4,
     "metadata": {},
     "output_type": "execute_result"
    }
   ],
   "source": [
    "int(False)"
   ]
  },
  {
   "cell_type": "code",
   "execution_count": 5,
   "metadata": {},
   "outputs": [
    {
     "data": {
      "text/plain": [
       "10"
      ]
     },
     "execution_count": 5,
     "metadata": {},
     "output_type": "execute_result"
    }
   ],
   "source": [
    "int(\"10\")"
   ]
  },
  {
   "cell_type": "code",
   "execution_count": 6,
   "metadata": {},
   "outputs": [
    {
     "ename": "ValueError",
     "evalue": "invalid literal for int() with base 10: '10.5'",
     "output_type": "error",
     "traceback": [
      "\u001b[1;31m---------------------------------------------------------------------------\u001b[0m",
      "\u001b[1;31mValueError\u001b[0m                                Traceback (most recent call last)",
      "\u001b[1;32m<ipython-input-6-54dd49a25c21>\u001b[0m in \u001b[0;36m<module>\u001b[1;34m()\u001b[0m\n\u001b[1;32m----> 1\u001b[1;33m \u001b[0mint\u001b[0m\u001b[1;33m(\u001b[0m\u001b[1;34m\"10.5\"\u001b[0m\u001b[1;33m)\u001b[0m\u001b[1;33m\u001b[0m\u001b[0m\n\u001b[0m",
      "\u001b[1;31mValueError\u001b[0m: invalid literal for int() with base 10: '10.5'"
     ]
    }
   ],
   "source": [
    "int(\"10.5\")"
   ]
  },
  {
   "cell_type": "code",
   "execution_count": 7,
   "metadata": {},
   "outputs": [
    {
     "ename": "ValueError",
     "evalue": "invalid literal for int() with base 10: 'ten'",
     "output_type": "error",
     "traceback": [
      "\u001b[1;31m---------------------------------------------------------------------------\u001b[0m",
      "\u001b[1;31mValueError\u001b[0m                                Traceback (most recent call last)",
      "\u001b[1;32m<ipython-input-7-846b3cf4a083>\u001b[0m in \u001b[0;36m<module>\u001b[1;34m()\u001b[0m\n\u001b[1;32m----> 1\u001b[1;33m \u001b[0mint\u001b[0m\u001b[1;33m(\u001b[0m\u001b[1;34m\"ten\"\u001b[0m\u001b[1;33m)\u001b[0m\u001b[1;33m\u001b[0m\u001b[0m\n\u001b[0m",
      "\u001b[1;31mValueError\u001b[0m: invalid literal for int() with base 10: 'ten'"
     ]
    }
   ],
   "source": [
    "int(\"ten\")"
   ]
  },
  {
   "cell_type": "code",
   "execution_count": 8,
   "metadata": {},
   "outputs": [
    {
     "ename": "ValueError",
     "evalue": "invalid literal for int() with base 10: '0B1111'",
     "output_type": "error",
     "traceback": [
      "\u001b[1;31m---------------------------------------------------------------------------\u001b[0m",
      "\u001b[1;31mValueError\u001b[0m                                Traceback (most recent call last)",
      "\u001b[1;32m<ipython-input-8-0f3a8d756b59>\u001b[0m in \u001b[0;36m<module>\u001b[1;34m()\u001b[0m\n\u001b[1;32m----> 1\u001b[1;33m \u001b[0mint\u001b[0m\u001b[1;33m(\u001b[0m\u001b[1;34m\"0B1111\"\u001b[0m\u001b[1;33m)\u001b[0m\u001b[1;33m\u001b[0m\u001b[0m\n\u001b[0m",
      "\u001b[1;31mValueError\u001b[0m: invalid literal for int() with base 10: '0B1111'"
     ]
    }
   ],
   "source": [
    "int(\"0B1111\")"
   ]
  },
  {
   "cell_type": "code",
   "execution_count": 9,
   "metadata": {},
   "outputs": [
    {
     "data": {
      "text/plain": [
       "10.0"
      ]
     },
     "execution_count": 9,
     "metadata": {},
     "output_type": "execute_result"
    }
   ],
   "source": [
    "float(10)"
   ]
  },
  {
   "cell_type": "code",
   "execution_count": 10,
   "metadata": {},
   "outputs": [
    {
     "ename": "TypeError",
     "evalue": "can't convert complex to float",
     "output_type": "error",
     "traceback": [
      "\u001b[1;31m---------------------------------------------------------------------------\u001b[0m",
      "\u001b[1;31mTypeError\u001b[0m                                 Traceback (most recent call last)",
      "\u001b[1;32m<ipython-input-10-d2f956539d9b>\u001b[0m in \u001b[0;36m<module>\u001b[1;34m()\u001b[0m\n\u001b[1;32m----> 1\u001b[1;33m \u001b[0mfloat\u001b[0m\u001b[1;33m(\u001b[0m\u001b[1;36m10\u001b[0m\u001b[1;33m+\u001b[0m\u001b[1;36m5j\u001b[0m\u001b[1;33m)\u001b[0m\u001b[1;33m\u001b[0m\u001b[0m\n\u001b[0m",
      "\u001b[1;31mTypeError\u001b[0m: can't convert complex to float"
     ]
    }
   ],
   "source": [
    "float(10+5j)"
   ]
  },
  {
   "cell_type": "code",
   "execution_count": 11,
   "metadata": {},
   "outputs": [
    {
     "data": {
      "text/plain": [
       "1.0"
      ]
     },
     "execution_count": 11,
     "metadata": {},
     "output_type": "execute_result"
    }
   ],
   "source": [
    "float(True)"
   ]
  },
  {
   "cell_type": "code",
   "execution_count": 12,
   "metadata": {},
   "outputs": [
    {
     "data": {
      "text/plain": [
       "0.0"
      ]
     },
     "execution_count": 12,
     "metadata": {},
     "output_type": "execute_result"
    }
   ],
   "source": [
    "float(False)"
   ]
  },
  {
   "cell_type": "code",
   "execution_count": 13,
   "metadata": {},
   "outputs": [
    {
     "data": {
      "text/plain": [
       "10.0"
      ]
     },
     "execution_count": 13,
     "metadata": {},
     "output_type": "execute_result"
    }
   ],
   "source": [
    "float(\"10\")"
   ]
  },
  {
   "cell_type": "code",
   "execution_count": 14,
   "metadata": {},
   "outputs": [
    {
     "data": {
      "text/plain": [
       "10.5"
      ]
     },
     "execution_count": 14,
     "metadata": {},
     "output_type": "execute_result"
    }
   ],
   "source": [
    "float(\"10.5\")"
   ]
  },
  {
   "cell_type": "code",
   "execution_count": 15,
   "metadata": {},
   "outputs": [
    {
     "ename": "ValueError",
     "evalue": "could not convert string to float: 'ten'",
     "output_type": "error",
     "traceback": [
      "\u001b[1;31m---------------------------------------------------------------------------\u001b[0m",
      "\u001b[1;31mValueError\u001b[0m                                Traceback (most recent call last)",
      "\u001b[1;32m<ipython-input-15-c8abde1341af>\u001b[0m in \u001b[0;36m<module>\u001b[1;34m()\u001b[0m\n\u001b[1;32m----> 1\u001b[1;33m \u001b[0mfloat\u001b[0m\u001b[1;33m(\u001b[0m\u001b[1;34m\"ten\"\u001b[0m\u001b[1;33m)\u001b[0m\u001b[1;33m\u001b[0m\u001b[0m\n\u001b[0m",
      "\u001b[1;31mValueError\u001b[0m: could not convert string to float: 'ten'"
     ]
    }
   ],
   "source": [
    "float(\"ten\")"
   ]
  },
  {
   "cell_type": "code",
   "execution_count": 16,
   "metadata": {},
   "outputs": [
    {
     "ename": "ValueError",
     "evalue": "could not convert string to float: '0B1111'",
     "output_type": "error",
     "traceback": [
      "\u001b[1;31m---------------------------------------------------------------------------\u001b[0m",
      "\u001b[1;31mValueError\u001b[0m                                Traceback (most recent call last)",
      "\u001b[1;32m<ipython-input-16-62ed3c7df456>\u001b[0m in \u001b[0;36m<module>\u001b[1;34m()\u001b[0m\n\u001b[1;32m----> 1\u001b[1;33m \u001b[0mfloat\u001b[0m\u001b[1;33m(\u001b[0m\u001b[1;34m\"0B1111\"\u001b[0m\u001b[1;33m)\u001b[0m\u001b[1;33m\u001b[0m\u001b[0m\n\u001b[0m",
      "\u001b[1;31mValueError\u001b[0m: could not convert string to float: '0B1111'"
     ]
    }
   ],
   "source": [
    "float(\"0B1111\")"
   ]
  },
  {
   "cell_type": "code",
   "execution_count": 17,
   "metadata": {},
   "outputs": [
    {
     "data": {
      "text/plain": [
       "(10+0j)"
      ]
     },
     "execution_count": 17,
     "metadata": {},
     "output_type": "execute_result"
    }
   ],
   "source": [
    "complex(10)"
   ]
  },
  {
   "cell_type": "code",
   "execution_count": 18,
   "metadata": {},
   "outputs": [
    {
     "data": {
      "text/plain": [
       "(10.5+0j)"
      ]
     },
     "execution_count": 18,
     "metadata": {},
     "output_type": "execute_result"
    }
   ],
   "source": [
    "complex(10.5)"
   ]
  },
  {
   "cell_type": "code",
   "execution_count": 19,
   "metadata": {},
   "outputs": [
    {
     "data": {
      "text/plain": [
       "(1+0j)"
      ]
     },
     "execution_count": 19,
     "metadata": {},
     "output_type": "execute_result"
    }
   ],
   "source": [
    "complex(True)"
   ]
  },
  {
   "cell_type": "code",
   "execution_count": 20,
   "metadata": {},
   "outputs": [
    {
     "data": {
      "text/plain": [
       "0j"
      ]
     },
     "execution_count": 20,
     "metadata": {},
     "output_type": "execute_result"
    }
   ],
   "source": [
    "complex(False)"
   ]
  },
  {
   "cell_type": "code",
   "execution_count": 21,
   "metadata": {},
   "outputs": [
    {
     "data": {
      "text/plain": [
       "(10+0j)"
      ]
     },
     "execution_count": 21,
     "metadata": {},
     "output_type": "execute_result"
    }
   ],
   "source": [
    "complex(\"10\")"
   ]
  },
  {
   "cell_type": "code",
   "execution_count": 22,
   "metadata": {},
   "outputs": [
    {
     "data": {
      "text/plain": [
       "(10.5+0j)"
      ]
     },
     "execution_count": 22,
     "metadata": {},
     "output_type": "execute_result"
    }
   ],
   "source": [
    "complex(\"10.5\")"
   ]
  },
  {
   "cell_type": "code",
   "execution_count": 23,
   "metadata": {},
   "outputs": [
    {
     "ename": "ValueError",
     "evalue": "complex() arg is a malformed string",
     "output_type": "error",
     "traceback": [
      "\u001b[1;31m---------------------------------------------------------------------------\u001b[0m",
      "\u001b[1;31mValueError\u001b[0m                                Traceback (most recent call last)",
      "\u001b[1;32m<ipython-input-23-b7bf9859d3d9>\u001b[0m in \u001b[0;36m<module>\u001b[1;34m()\u001b[0m\n\u001b[1;32m----> 1\u001b[1;33m \u001b[0mcomplex\u001b[0m\u001b[1;33m(\u001b[0m\u001b[1;34m\"ten\"\u001b[0m\u001b[1;33m)\u001b[0m\u001b[1;33m\u001b[0m\u001b[0m\n\u001b[0m",
      "\u001b[1;31mValueError\u001b[0m: complex() arg is a malformed string"
     ]
    }
   ],
   "source": [
    "complex(\"ten\")"
   ]
  },
  {
   "cell_type": "code",
   "execution_count": 24,
   "metadata": {},
   "outputs": [
    {
     "data": {
      "text/plain": [
       "(10-2j)"
      ]
     },
     "execution_count": 24,
     "metadata": {},
     "output_type": "execute_result"
    }
   ],
   "source": [
    "complex(10,-2)"
   ]
  },
  {
   "cell_type": "code",
   "execution_count": 25,
   "metadata": {},
   "outputs": [
    {
     "data": {
      "text/plain": [
       "(1+0j)"
      ]
     },
     "execution_count": 25,
     "metadata": {},
     "output_type": "execute_result"
    }
   ],
   "source": [
    "complex(True,False)"
   ]
  },
  {
   "cell_type": "code",
   "execution_count": 26,
   "metadata": {},
   "outputs": [
    {
     "data": {
      "text/plain": [
       "False"
      ]
     },
     "execution_count": 26,
     "metadata": {},
     "output_type": "execute_result"
    }
   ],
   "source": [
    "bool(0)"
   ]
  },
  {
   "cell_type": "code",
   "execution_count": 27,
   "metadata": {},
   "outputs": [
    {
     "data": {
      "text/plain": [
       "True"
      ]
     },
     "execution_count": 27,
     "metadata": {},
     "output_type": "execute_result"
    }
   ],
   "source": [
    "bool(1)"
   ]
  },
  {
   "cell_type": "code",
   "execution_count": 28,
   "metadata": {},
   "outputs": [
    {
     "data": {
      "text/plain": [
       "True"
      ]
     },
     "execution_count": 28,
     "metadata": {},
     "output_type": "execute_result"
    }
   ],
   "source": [
    "bool(10)"
   ]
  },
  {
   "cell_type": "code",
   "execution_count": 29,
   "metadata": {},
   "outputs": [
    {
     "data": {
      "text/plain": [
       "True"
      ]
     },
     "execution_count": 29,
     "metadata": {},
     "output_type": "execute_result"
    }
   ],
   "source": [
    "bool(10.5)"
   ]
  },
  {
   "cell_type": "code",
   "execution_count": 30,
   "metadata": {},
   "outputs": [
    {
     "data": {
      "text/plain": [
       "True"
      ]
     },
     "execution_count": 30,
     "metadata": {},
     "output_type": "execute_result"
    }
   ],
   "source": [
    "bool(0.178)"
   ]
  },
  {
   "cell_type": "code",
   "execution_count": 31,
   "metadata": {},
   "outputs": [
    {
     "data": {
      "text/plain": [
       "False"
      ]
     },
     "execution_count": 31,
     "metadata": {},
     "output_type": "execute_result"
    }
   ],
   "source": [
    "bool(0.0)"
   ]
  },
  {
   "cell_type": "code",
   "execution_count": 32,
   "metadata": {},
   "outputs": [
    {
     "data": {
      "text/plain": [
       "True"
      ]
     },
     "execution_count": 32,
     "metadata": {},
     "output_type": "execute_result"
    }
   ],
   "source": [
    "bool(10-2j)"
   ]
  },
  {
   "cell_type": "code",
   "execution_count": 33,
   "metadata": {},
   "outputs": [
    {
     "data": {
      "text/plain": [
       "True"
      ]
     },
     "execution_count": 33,
     "metadata": {},
     "output_type": "execute_result"
    }
   ],
   "source": [
    "bool(0+1.5j)"
   ]
  },
  {
   "cell_type": "code",
   "execution_count": 34,
   "metadata": {},
   "outputs": [
    {
     "data": {
      "text/plain": [
       "False"
      ]
     },
     "execution_count": 34,
     "metadata": {},
     "output_type": "execute_result"
    }
   ],
   "source": [
    "bool(0+0j)"
   ]
  },
  {
   "cell_type": "code",
   "execution_count": 35,
   "metadata": {},
   "outputs": [
    {
     "data": {
      "text/plain": [
       "True"
      ]
     },
     "execution_count": 35,
     "metadata": {},
     "output_type": "execute_result"
    }
   ],
   "source": [
    "bool(\"True\")"
   ]
  },
  {
   "cell_type": "code",
   "execution_count": 36,
   "metadata": {},
   "outputs": [
    {
     "data": {
      "text/plain": [
       "True"
      ]
     },
     "execution_count": 36,
     "metadata": {},
     "output_type": "execute_result"
    }
   ],
   "source": [
    "bool(\"False\")"
   ]
  },
  {
   "cell_type": "code",
   "execution_count": 37,
   "metadata": {},
   "outputs": [
    {
     "data": {
      "text/plain": [
       "False"
      ]
     },
     "execution_count": 37,
     "metadata": {},
     "output_type": "execute_result"
    }
   ],
   "source": [
    "bool(\"\")"
   ]
  },
  {
   "cell_type": "code",
   "execution_count": 38,
   "metadata": {},
   "outputs": [
    {
     "data": {
      "text/plain": [
       "'10'"
      ]
     },
     "execution_count": 38,
     "metadata": {},
     "output_type": "execute_result"
    }
   ],
   "source": [
    "str(10)"
   ]
  },
  {
   "cell_type": "code",
   "execution_count": 39,
   "metadata": {},
   "outputs": [
    {
     "data": {
      "text/plain": [
       "'10.5'"
      ]
     },
     "execution_count": 39,
     "metadata": {},
     "output_type": "execute_result"
    }
   ],
   "source": [
    "str(10.5)"
   ]
  },
  {
   "cell_type": "code",
   "execution_count": 40,
   "metadata": {},
   "outputs": [
    {
     "data": {
      "text/plain": [
       "'(10+5j)'"
      ]
     },
     "execution_count": 40,
     "metadata": {},
     "output_type": "execute_result"
    }
   ],
   "source": [
    "str(10+5j)"
   ]
  },
  {
   "cell_type": "code",
   "execution_count": 41,
   "metadata": {},
   "outputs": [
    {
     "data": {
      "text/plain": [
       "'True'"
      ]
     },
     "execution_count": 41,
     "metadata": {},
     "output_type": "execute_result"
    }
   ],
   "source": [
    "str(True)"
   ]
  },
  {
   "cell_type": "code",
   "execution_count": 43,
   "metadata": {},
   "outputs": [
    {
     "name": "stdout",
     "output_type": "stream",
     "text": [
      "True\n",
      "1925868896\n",
      "1925868896\n"
     ]
    }
   ],
   "source": [
    "a=10\n",
    "b=10\n",
    "print(a is b)\n",
    "print(id(a))\n",
    "print(id(b))"
   ]
  },
  {
   "cell_type": "code",
   "execution_count": 44,
   "metadata": {},
   "outputs": [
    {
     "name": "stdout",
     "output_type": "stream",
     "text": [
      "False\n",
      "81382960\n",
      "81382128\n"
     ]
    }
   ],
   "source": [
    "a=10+5j\n",
    "b=10+5j\n",
    "print(a is b)\n",
    "print(id(a))\n",
    "print(id(b))"
   ]
  },
  {
   "cell_type": "code",
   "execution_count": 45,
   "metadata": {},
   "outputs": [
    {
     "name": "stdout",
     "output_type": "stream",
     "text": [
      "True\n",
      "1925378208\n",
      "1925378208\n"
     ]
    }
   ],
   "source": [
    "a=True\n",
    "b=True\n",
    "print(a is b)\n",
    "print(id(a))\n",
    "print(id(b))"
   ]
  },
  {
   "cell_type": "code",
   "execution_count": 46,
   "metadata": {},
   "outputs": [
    {
     "name": "stdout",
     "output_type": "stream",
     "text": [
      "True\n",
      "83428888\n",
      "83428888\n"
     ]
    }
   ],
   "source": [
    "a=\"durga\"\n",
    "b=\"durga\"\n",
    "print(a is b)\n",
    "print(id(a))\n",
    "print(id(b))"
   ]
  },
  {
   "cell_type": "code",
   "execution_count": 47,
   "metadata": {},
   "outputs": [
    {
     "name": "stdout",
     "output_type": "stream",
     "text": [
      "<class 'bytes'>\n",
      "10\n",
      "40\n",
      "10\n",
      "20\n",
      "30\n",
      "40\n"
     ]
    }
   ],
   "source": [
    "x=[10,20,30,40]\n",
    "b=bytes(x)\n",
    "print(type(b))\n",
    "print(b[0])\n",
    "print(b[-1])\n",
    "for i in b:print(i)"
   ]
  },
  {
   "cell_type": "code",
   "execution_count": 48,
   "metadata": {},
   "outputs": [
    {
     "ename": "TypeError",
     "evalue": "'bytes' object does not support item assignment",
     "output_type": "error",
     "traceback": [
      "\u001b[1;31m---------------------------------------------------------------------------\u001b[0m",
      "\u001b[1;31mTypeError\u001b[0m                                 Traceback (most recent call last)",
      "\u001b[1;32m<ipython-input-48-aada7435d3a9>\u001b[0m in \u001b[0;36m<module>\u001b[1;34m()\u001b[0m\n\u001b[0;32m      1\u001b[0m \u001b[0mx\u001b[0m\u001b[1;33m=\u001b[0m\u001b[1;33m[\u001b[0m\u001b[1;36m10\u001b[0m\u001b[1;33m,\u001b[0m\u001b[1;36m20\u001b[0m\u001b[1;33m,\u001b[0m\u001b[1;36m30\u001b[0m\u001b[1;33m,\u001b[0m\u001b[1;36m40\u001b[0m\u001b[1;33m]\u001b[0m\u001b[1;33m\u001b[0m\u001b[0m\n\u001b[0;32m      2\u001b[0m \u001b[0mb\u001b[0m\u001b[1;33m=\u001b[0m\u001b[0mbytes\u001b[0m\u001b[1;33m(\u001b[0m\u001b[0mx\u001b[0m\u001b[1;33m)\u001b[0m\u001b[1;33m\u001b[0m\u001b[0m\n\u001b[1;32m----> 3\u001b[1;33m \u001b[0mb\u001b[0m\u001b[1;33m[\u001b[0m\u001b[1;36m0\u001b[0m\u001b[1;33m]\u001b[0m\u001b[1;33m=\u001b[0m\u001b[1;36m100\u001b[0m\u001b[1;33m\u001b[0m\u001b[0m\n\u001b[0m",
      "\u001b[1;31mTypeError\u001b[0m: 'bytes' object does not support item assignment"
     ]
    }
   ],
   "source": [
    "x=[10,20,30,40]\n",
    "b=bytes(x)\n",
    "b[0]=100"
   ]
  },
  {
   "cell_type": "code",
   "execution_count": 49,
   "metadata": {},
   "outputs": [
    {
     "name": "stdout",
     "output_type": "stream",
     "text": [
      "10\n",
      "20\n",
      "30\n",
      "40\n"
     ]
    }
   ],
   "source": [
    "x=[10,20,30,40]\n",
    "ba=bytearray(x)\n",
    "for i in ba:print(i)"
   ]
  },
  {
   "cell_type": "code",
   "execution_count": 50,
   "metadata": {},
   "outputs": [
    {
     "name": "stdout",
     "output_type": "stream",
     "text": [
      "100\n",
      "20\n",
      "30\n",
      "40\n"
     ]
    }
   ],
   "source": [
    "ba[0]=100\n",
    "for i in ba:print(i)"
   ]
  },
  {
   "cell_type": "code",
   "execution_count": 51,
   "metadata": {},
   "outputs": [
    {
     "ename": "ValueError",
     "evalue": "byte must be in range(0, 256)",
     "output_type": "error",
     "traceback": [
      "\u001b[1;31m---------------------------------------------------------------------------\u001b[0m",
      "\u001b[1;31mValueError\u001b[0m                                Traceback (most recent call last)",
      "\u001b[1;32m<ipython-input-51-dff63ba1da03>\u001b[0m in \u001b[0;36m<module>\u001b[1;34m()\u001b[0m\n\u001b[0;32m      1\u001b[0m \u001b[0mx\u001b[0m\u001b[1;33m=\u001b[0m\u001b[1;33m[\u001b[0m\u001b[1;36m10\u001b[0m\u001b[1;33m,\u001b[0m\u001b[1;36m256\u001b[0m\u001b[1;33m]\u001b[0m\u001b[1;33m\u001b[0m\u001b[0m\n\u001b[1;32m----> 2\u001b[1;33m \u001b[0mba\u001b[0m\u001b[1;33m=\u001b[0m\u001b[0mbytearray\u001b[0m\u001b[1;33m(\u001b[0m\u001b[0mx\u001b[0m\u001b[1;33m)\u001b[0m\u001b[1;33m\u001b[0m\u001b[0m\n\u001b[0m",
      "\u001b[1;31mValueError\u001b[0m: byte must be in range(0, 256)"
     ]
    }
   ],
   "source": [
    "x=[10,256]\n",
    "ba=bytearray(x)"
   ]
  },
  {
   "cell_type": "code",
   "execution_count": 52,
   "metadata": {},
   "outputs": [],
   "source": [
    "list=[10,10.5,\"durga\",True,10]"
   ]
  },
  {
   "cell_type": "code",
   "execution_count": 53,
   "metadata": {},
   "outputs": [
    {
     "name": "stdout",
     "output_type": "stream",
     "text": [
      "[10, 10.5, 'durga', True, 10]\n"
     ]
    }
   ],
   "source": [
    "print(list)"
   ]
  },
  {
   "cell_type": "code",
   "execution_count": 54,
   "metadata": {},
   "outputs": [
    {
     "ename": "SyntaxError",
     "evalue": "invalid syntax (<ipython-input-54-0fe153955131>, line 1)",
     "output_type": "error",
     "traceback": [
      "\u001b[1;36m  File \u001b[1;32m\"<ipython-input-54-0fe153955131>\"\u001b[1;36m, line \u001b[1;32m1\u001b[0m\n\u001b[1;33m    list+\u001b[0m\n\u001b[1;37m         ^\u001b[0m\n\u001b[1;31mSyntaxError\u001b[0m\u001b[1;31m:\u001b[0m invalid syntax\n"
     ]
    }
   ],
   "source": [
    "list+"
   ]
  },
  {
   "cell_type": "code",
   "execution_count": 55,
   "metadata": {},
   "outputs": [],
   "source": [
    "list=[10,20,30,40]"
   ]
  },
  {
   "cell_type": "code",
   "execution_count": 56,
   "metadata": {},
   "outputs": [
    {
     "data": {
      "text/plain": [
       "10"
      ]
     },
     "execution_count": 56,
     "metadata": {},
     "output_type": "execute_result"
    }
   ],
   "source": [
    "list[0]"
   ]
  },
  {
   "cell_type": "code",
   "execution_count": 57,
   "metadata": {},
   "outputs": [
    {
     "data": {
      "text/plain": [
       "40"
      ]
     },
     "execution_count": 57,
     "metadata": {},
     "output_type": "execute_result"
    }
   ],
   "source": [
    "list[-1]"
   ]
  },
  {
   "cell_type": "code",
   "execution_count": 58,
   "metadata": {},
   "outputs": [
    {
     "data": {
      "text/plain": [
       "[20, 30]"
      ]
     },
     "execution_count": 58,
     "metadata": {},
     "output_type": "execute_result"
    }
   ],
   "source": [
    "list[1:3]"
   ]
  },
  {
   "cell_type": "code",
   "execution_count": 59,
   "metadata": {},
   "outputs": [
    {
     "name": "stdout",
     "output_type": "stream",
     "text": [
      "100\n",
      "20\n",
      "30\n",
      "40\n"
     ]
    }
   ],
   "source": [
    "list[0]=100\n",
    "for i in list:print(i)"
   ]
  },
  {
   "cell_type": "code",
   "execution_count": 60,
   "metadata": {},
   "outputs": [],
   "source": [
    "list=[10,20,30]"
   ]
  },
  {
   "cell_type": "code",
   "execution_count": 61,
   "metadata": {},
   "outputs": [],
   "source": [
    "list.append(\"durga\")"
   ]
  },
  {
   "cell_type": "code",
   "execution_count": 62,
   "metadata": {},
   "outputs": [
    {
     "data": {
      "text/plain": [
       "[10, 20, 30, 'durga']"
      ]
     },
     "execution_count": 62,
     "metadata": {},
     "output_type": "execute_result"
    }
   ],
   "source": [
    "list"
   ]
  },
  {
   "cell_type": "code",
   "execution_count": 63,
   "metadata": {},
   "outputs": [],
   "source": [
    "list.remove(20)"
   ]
  },
  {
   "cell_type": "code",
   "execution_count": 64,
   "metadata": {},
   "outputs": [
    {
     "data": {
      "text/plain": [
       "[10, 30, 'durga']"
      ]
     },
     "execution_count": 64,
     "metadata": {},
     "output_type": "execute_result"
    }
   ],
   "source": [
    "list"
   ]
  },
  {
   "cell_type": "code",
   "execution_count": 65,
   "metadata": {},
   "outputs": [],
   "source": [
    "list2=list*2"
   ]
  },
  {
   "cell_type": "code",
   "execution_count": 66,
   "metadata": {},
   "outputs": [
    {
     "data": {
      "text/plain": [
       "[10, 30, 'durga', 10, 30, 'durga']"
      ]
     },
     "execution_count": 66,
     "metadata": {},
     "output_type": "execute_result"
    }
   ],
   "source": [
    "list2"
   ]
  },
  {
   "cell_type": "code",
   "execution_count": 67,
   "metadata": {},
   "outputs": [],
   "source": [
    "t=(10,20,30,40)"
   ]
  },
  {
   "cell_type": "code",
   "execution_count": 69,
   "metadata": {},
   "outputs": [
    {
     "name": "stdout",
     "output_type": "stream",
     "text": [
      "<class 'tuple'>\n"
     ]
    }
   ],
   "source": [
    "print(type(t))"
   ]
  },
  {
   "cell_type": "code",
   "execution_count": 70,
   "metadata": {},
   "outputs": [
    {
     "ename": "TypeError",
     "evalue": "'tuple' object does not support item assignment",
     "output_type": "error",
     "traceback": [
      "\u001b[1;31m---------------------------------------------------------------------------\u001b[0m",
      "\u001b[1;31mTypeError\u001b[0m                                 Traceback (most recent call last)",
      "\u001b[1;32m<ipython-input-70-3382f43ca263>\u001b[0m in \u001b[0;36m<module>\u001b[1;34m()\u001b[0m\n\u001b[1;32m----> 1\u001b[1;33m \u001b[0mt\u001b[0m\u001b[1;33m[\u001b[0m\u001b[1;36m0\u001b[0m\u001b[1;33m]\u001b[0m\u001b[1;33m=\u001b[0m\u001b[1;36m100\u001b[0m\u001b[1;33m\u001b[0m\u001b[0m\n\u001b[0m",
      "\u001b[1;31mTypeError\u001b[0m: 'tuple' object does not support item assignment"
     ]
    }
   ],
   "source": [
    "t[0]=100"
   ]
  },
  {
   "cell_type": "code",
   "execution_count": 71,
   "metadata": {},
   "outputs": [
    {
     "ename": "AttributeError",
     "evalue": "'tuple' object has no attribute 'append'",
     "output_type": "error",
     "traceback": [
      "\u001b[1;31m---------------------------------------------------------------------------\u001b[0m",
      "\u001b[1;31mAttributeError\u001b[0m                            Traceback (most recent call last)",
      "\u001b[1;32m<ipython-input-71-b3faca365668>\u001b[0m in \u001b[0;36m<module>\u001b[1;34m()\u001b[0m\n\u001b[1;32m----> 1\u001b[1;33m \u001b[0mt\u001b[0m\u001b[1;33m.\u001b[0m\u001b[0mappend\u001b[0m\u001b[1;33m(\u001b[0m\u001b[1;34m\"durga\"\u001b[0m\u001b[1;33m)\u001b[0m\u001b[1;33m\u001b[0m\u001b[0m\n\u001b[0m",
      "\u001b[1;31mAttributeError\u001b[0m: 'tuple' object has no attribute 'append'"
     ]
    }
   ],
   "source": [
    "t.append(\"durga\")"
   ]
  },
  {
   "cell_type": "code",
   "execution_count": 72,
   "metadata": {},
   "outputs": [
    {
     "ename": "AttributeError",
     "evalue": "'tuple' object has no attribute 'remove'",
     "output_type": "error",
     "traceback": [
      "\u001b[1;31m---------------------------------------------------------------------------\u001b[0m",
      "\u001b[1;31mAttributeError\u001b[0m                            Traceback (most recent call last)",
      "\u001b[1;32m<ipython-input-72-c0ded720561a>\u001b[0m in \u001b[0;36m<module>\u001b[1;34m()\u001b[0m\n\u001b[1;32m----> 1\u001b[1;33m \u001b[0mt\u001b[0m\u001b[1;33m.\u001b[0m\u001b[0mremove\u001b[0m\u001b[1;33m(\u001b[0m\u001b[1;36m10\u001b[0m\u001b[1;33m)\u001b[0m\u001b[1;33m\u001b[0m\u001b[0m\n\u001b[0m",
      "\u001b[1;31mAttributeError\u001b[0m: 'tuple' object has no attribute 'remove'"
     ]
    }
   ],
   "source": [
    "t.remove(10)"
   ]
  },
  {
   "cell_type": "code",
   "execution_count": 73,
   "metadata": {},
   "outputs": [
    {
     "data": {
      "text/plain": [
       "range(0, 10)"
      ]
     },
     "execution_count": 73,
     "metadata": {},
     "output_type": "execute_result"
    }
   ],
   "source": [
    "range(10)"
   ]
  },
  {
   "cell_type": "code",
   "execution_count": 74,
   "metadata": {},
   "outputs": [
    {
     "name": "stdout",
     "output_type": "stream",
     "text": [
      "0\n",
      "1\n",
      "2\n",
      "3\n",
      "4\n",
      "5\n",
      "6\n",
      "7\n",
      "8\n",
      "9\n"
     ]
    }
   ],
   "source": [
    "r=range(10)\n",
    "for i in r:print(i)"
   ]
  },
  {
   "cell_type": "code",
   "execution_count": 75,
   "metadata": {},
   "outputs": [
    {
     "data": {
      "text/plain": [
       "range(10, 20)"
      ]
     },
     "execution_count": 75,
     "metadata": {},
     "output_type": "execute_result"
    }
   ],
   "source": [
    "range(10,20)"
   ]
  },
  {
   "cell_type": "code",
   "execution_count": 76,
   "metadata": {},
   "outputs": [
    {
     "name": "stdout",
     "output_type": "stream",
     "text": [
      "10\n",
      "11\n",
      "12\n",
      "13\n",
      "14\n",
      "15\n",
      "16\n",
      "17\n",
      "18\n",
      "19\n"
     ]
    }
   ],
   "source": [
    "r=range(10,20)\n",
    "for i in r:print(i)"
   ]
  },
  {
   "cell_type": "code",
   "execution_count": 77,
   "metadata": {},
   "outputs": [
    {
     "data": {
      "text/plain": [
       "range(10, 20, 2)"
      ]
     },
     "execution_count": 77,
     "metadata": {},
     "output_type": "execute_result"
    }
   ],
   "source": [
    "range(10,20,2)"
   ]
  },
  {
   "cell_type": "code",
   "execution_count": 78,
   "metadata": {},
   "outputs": [
    {
     "name": "stdout",
     "output_type": "stream",
     "text": [
      "10\n",
      "12\n",
      "14\n",
      "16\n",
      "18\n"
     ]
    }
   ],
   "source": [
    "r=range(10,20,2)\n",
    "for i in r:print(i)"
   ]
  },
  {
   "cell_type": "code",
   "execution_count": 81,
   "metadata": {},
   "outputs": [
    {
     "name": "stdout",
     "output_type": "stream",
     "text": [
      "10\n"
     ]
    },
    {
     "ename": "IndexError",
     "evalue": "range object index out of range",
     "output_type": "error",
     "traceback": [
      "\u001b[1;31m---------------------------------------------------------------------------\u001b[0m",
      "\u001b[1;31mIndexError\u001b[0m                                Traceback (most recent call last)",
      "\u001b[1;32m<ipython-input-81-3405b261a9b9>\u001b[0m in \u001b[0;36m<module>\u001b[1;34m()\u001b[0m\n\u001b[0;32m      1\u001b[0m \u001b[0mr\u001b[0m\u001b[1;33m=\u001b[0m\u001b[0mrange\u001b[0m\u001b[1;33m(\u001b[0m\u001b[1;36m10\u001b[0m\u001b[1;33m,\u001b[0m\u001b[1;36m20\u001b[0m\u001b[1;33m)\u001b[0m\u001b[1;33m\u001b[0m\u001b[0m\n\u001b[0;32m      2\u001b[0m \u001b[0mprint\u001b[0m\u001b[1;33m(\u001b[0m\u001b[0mr\u001b[0m\u001b[1;33m[\u001b[0m\u001b[1;36m0\u001b[0m\u001b[1;33m]\u001b[0m\u001b[1;33m)\u001b[0m\u001b[1;33m\u001b[0m\u001b[0m\n\u001b[1;32m----> 3\u001b[1;33m \u001b[0mprint\u001b[0m\u001b[1;33m(\u001b[0m\u001b[0mr\u001b[0m\u001b[1;33m[\u001b[0m\u001b[1;36m15\u001b[0m\u001b[1;33m]\u001b[0m\u001b[1;33m)\u001b[0m\u001b[1;33m\u001b[0m\u001b[0m\n\u001b[0m",
      "\u001b[1;31mIndexError\u001b[0m: range object index out of range"
     ]
    }
   ],
   "source": [
    "r=range(10,20)\n",
    "print(r[0])\n",
    "print(r[15])"
   ]
  },
  {
   "cell_type": "code",
   "execution_count": 80,
   "metadata": {},
   "outputs": [
    {
     "ename": "IndexError",
     "evalue": "range object index out of range",
     "output_type": "error",
     "traceback": [
      "\u001b[1;31m---------------------------------------------------------------------------\u001b[0m",
      "\u001b[1;31mIndexError\u001b[0m                                Traceback (most recent call last)",
      "\u001b[1;32m<ipython-input-80-0c76a1462733>\u001b[0m in \u001b[0;36m<module>\u001b[1;34m()\u001b[0m\n\u001b[1;32m----> 1\u001b[1;33m \u001b[0mr\u001b[0m\u001b[1;33m[\u001b[0m\u001b[1;36m15\u001b[0m\u001b[1;33m]\u001b[0m\u001b[1;33m\u001b[0m\u001b[0m\n\u001b[0m",
      "\u001b[1;31mIndexError\u001b[0m: range object index out of range"
     ]
    }
   ],
   "source": [
    "r[15]"
   ]
  },
  {
   "cell_type": "code",
   "execution_count": 82,
   "metadata": {},
   "outputs": [
    {
     "ename": "TypeError",
     "evalue": "'range' object does not support item assignment",
     "output_type": "error",
     "traceback": [
      "\u001b[1;31m---------------------------------------------------------------------------\u001b[0m",
      "\u001b[1;31mTypeError\u001b[0m                                 Traceback (most recent call last)",
      "\u001b[1;32m<ipython-input-82-b4f048efaac1>\u001b[0m in \u001b[0;36m<module>\u001b[1;34m()\u001b[0m\n\u001b[1;32m----> 1\u001b[1;33m \u001b[0mr\u001b[0m\u001b[1;33m[\u001b[0m\u001b[1;36m0\u001b[0m\u001b[1;33m]\u001b[0m\u001b[1;33m=\u001b[0m\u001b[1;36m100\u001b[0m\u001b[1;33m\u001b[0m\u001b[0m\n\u001b[0m",
      "\u001b[1;31mTypeError\u001b[0m: 'range' object does not support item assignment"
     ]
    }
   ],
   "source": [
    "r[0]=100"
   ]
  },
  {
   "cell_type": "code",
   "execution_count": 83,
   "metadata": {},
   "outputs": [
    {
     "ename": "TypeError",
     "evalue": "'list' object is not callable",
     "output_type": "error",
     "traceback": [
      "\u001b[1;31m---------------------------------------------------------------------------\u001b[0m",
      "\u001b[1;31mTypeError\u001b[0m                                 Traceback (most recent call last)",
      "\u001b[1;32m<ipython-input-83-4ed56608ea44>\u001b[0m in \u001b[0;36m<module>\u001b[1;34m()\u001b[0m\n\u001b[1;32m----> 1\u001b[1;33m \u001b[0ml\u001b[0m\u001b[1;33m=\u001b[0m\u001b[0mlist\u001b[0m\u001b[1;33m(\u001b[0m\u001b[0mrange\u001b[0m\u001b[1;33m(\u001b[0m\u001b[1;36m10\u001b[0m\u001b[1;33m)\u001b[0m\u001b[1;33m)\u001b[0m\u001b[1;33m\u001b[0m\u001b[0m\n\u001b[0m",
      "\u001b[1;31mTypeError\u001b[0m: 'list' object is not callable"
     ]
    }
   ],
   "source": [
    "l=list(range(10))"
   ]
  },
  {
   "cell_type": "code",
   "execution_count": 84,
   "metadata": {},
   "outputs": [],
   "source": [
    "s={100,0,10,200,10,\"durga\"}"
   ]
  },
  {
   "cell_type": "code",
   "execution_count": 85,
   "metadata": {},
   "outputs": [
    {
     "name": "stdout",
     "output_type": "stream",
     "text": [
      "{0, 'durga', 100, 200, 10}\n"
     ]
    }
   ],
   "source": [
    "print(s)"
   ]
  },
  {
   "cell_type": "code",
   "execution_count": 86,
   "metadata": {},
   "outputs": [
    {
     "ename": "TypeError",
     "evalue": "'set' object does not support indexing",
     "output_type": "error",
     "traceback": [
      "\u001b[1;31m---------------------------------------------------------------------------\u001b[0m",
      "\u001b[1;31mTypeError\u001b[0m                                 Traceback (most recent call last)",
      "\u001b[1;32m<ipython-input-86-c9c96910e542>\u001b[0m in \u001b[0;36m<module>\u001b[1;34m()\u001b[0m\n\u001b[1;32m----> 1\u001b[1;33m \u001b[0ms\u001b[0m\u001b[1;33m[\u001b[0m\u001b[1;36m0\u001b[0m\u001b[1;33m]\u001b[0m\u001b[1;33m\u001b[0m\u001b[0m\n\u001b[0m",
      "\u001b[1;31mTypeError\u001b[0m: 'set' object does not support indexing"
     ]
    }
   ],
   "source": [
    "s[0]"
   ]
  },
  {
   "cell_type": "code",
   "execution_count": 87,
   "metadata": {},
   "outputs": [],
   "source": [
    "s.add(60)"
   ]
  },
  {
   "cell_type": "code",
   "execution_count": 88,
   "metadata": {},
   "outputs": [
    {
     "name": "stdout",
     "output_type": "stream",
     "text": [
      "{0, 'durga', 100, 200, 10, 60}\n"
     ]
    }
   ],
   "source": [
    "print(s)"
   ]
  },
  {
   "cell_type": "code",
   "execution_count": 89,
   "metadata": {},
   "outputs": [],
   "source": [
    "s.remove(100)"
   ]
  },
  {
   "cell_type": "code",
   "execution_count": 90,
   "metadata": {},
   "outputs": [
    {
     "name": "stdout",
     "output_type": "stream",
     "text": [
      "{0, 'durga', 200, 10, 60}\n"
     ]
    }
   ],
   "source": [
    "print(s)"
   ]
  },
  {
   "cell_type": "code",
   "execution_count": 92,
   "metadata": {},
   "outputs": [
    {
     "name": "stdout",
     "output_type": "stream",
     "text": [
      "<class 'frozenset'>\n",
      "frozenset({40, 10, 20, 30})\n"
     ]
    }
   ],
   "source": [
    "s={10,20,30,40}\n",
    "fs=frozenset(s)\n",
    "print(type(fs))\n",
    "print(fs)"
   ]
  },
  {
   "cell_type": "code",
   "execution_count": 93,
   "metadata": {},
   "outputs": [
    {
     "data": {
      "text/plain": [
       "frozenset({10, 20, 30, 40})"
      ]
     },
     "execution_count": 93,
     "metadata": {},
     "output_type": "execute_result"
    }
   ],
   "source": [
    "fs"
   ]
  },
  {
   "cell_type": "code",
   "execution_count": 94,
   "metadata": {},
   "outputs": [
    {
     "name": "stdout",
     "output_type": "stream",
     "text": [
      "40\n",
      "10\n",
      "20\n",
      "30\n"
     ]
    }
   ],
   "source": [
    "for i in fs:print(i)"
   ]
  },
  {
   "cell_type": "code",
   "execution_count": 95,
   "metadata": {},
   "outputs": [
    {
     "ename": "AttributeError",
     "evalue": "'frozenset' object has no attribute 'add'",
     "output_type": "error",
     "traceback": [
      "\u001b[1;31m---------------------------------------------------------------------------\u001b[0m",
      "\u001b[1;31mAttributeError\u001b[0m                            Traceback (most recent call last)",
      "\u001b[1;32m<ipython-input-95-a1cfd82111ea>\u001b[0m in \u001b[0;36m<module>\u001b[1;34m()\u001b[0m\n\u001b[1;32m----> 1\u001b[1;33m \u001b[0mfs\u001b[0m\u001b[1;33m.\u001b[0m\u001b[0madd\u001b[0m\u001b[1;33m(\u001b[0m\u001b[1;36m70\u001b[0m\u001b[1;33m)\u001b[0m\u001b[1;33m\u001b[0m\u001b[0m\n\u001b[0m",
      "\u001b[1;31mAttributeError\u001b[0m: 'frozenset' object has no attribute 'add'"
     ]
    }
   ],
   "source": [
    "fs.add(70)"
   ]
  },
  {
   "cell_type": "code",
   "execution_count": 96,
   "metadata": {},
   "outputs": [
    {
     "ename": "AttributeError",
     "evalue": "'frozenset' object has no attribute 'remove'",
     "output_type": "error",
     "traceback": [
      "\u001b[1;31m---------------------------------------------------------------------------\u001b[0m",
      "\u001b[1;31mAttributeError\u001b[0m                            Traceback (most recent call last)",
      "\u001b[1;32m<ipython-input-96-b658f8c94e09>\u001b[0m in \u001b[0;36m<module>\u001b[1;34m()\u001b[0m\n\u001b[1;32m----> 1\u001b[1;33m \u001b[0mfs\u001b[0m\u001b[1;33m.\u001b[0m\u001b[0mremove\u001b[0m\u001b[1;33m(\u001b[0m\u001b[1;36m10\u001b[0m\u001b[1;33m)\u001b[0m\u001b[1;33m\u001b[0m\u001b[0m\n\u001b[0m",
      "\u001b[1;31mAttributeError\u001b[0m: 'frozenset' object has no attribute 'remove'"
     ]
    }
   ],
   "source": [
    "fs.remove(10)"
   ]
  },
  {
   "cell_type": "code",
   "execution_count": 97,
   "metadata": {},
   "outputs": [],
   "source": [
    "d={101:\"durga\",102:\"ravi\",103:\"shiva\"}"
   ]
  },
  {
   "cell_type": "code",
   "execution_count": 98,
   "metadata": {},
   "outputs": [
    {
     "name": "stdout",
     "output_type": "stream",
     "text": [
      "{101: 'durga', 102: 'ravi', 103: 'shiva'}\n"
     ]
    }
   ],
   "source": [
    "print(d)"
   ]
  },
  {
   "cell_type": "code",
   "execution_count": 102,
   "metadata": {},
   "outputs": [],
   "source": [
    "d[101]=\"sunny\""
   ]
  },
  {
   "cell_type": "code",
   "execution_count": 103,
   "metadata": {},
   "outputs": [
    {
     "name": "stdout",
     "output_type": "stream",
     "text": [
      "{101: 'sunny', 102: 'ravi', 103: 'shiva'}\n"
     ]
    }
   ],
   "source": [
    "print(d)"
   ]
  },
  {
   "cell_type": "code",
   "execution_count": 104,
   "metadata": {},
   "outputs": [],
   "source": [
    "d={}"
   ]
  },
  {
   "cell_type": "code",
   "execution_count": 105,
   "metadata": {},
   "outputs": [
    {
     "name": "stdout",
     "output_type": "stream",
     "text": [
      "{}\n"
     ]
    }
   ],
   "source": [
    "print(d)"
   ]
  },
  {
   "cell_type": "code",
   "execution_count": 106,
   "metadata": {},
   "outputs": [
    {
     "name": "stdout",
     "output_type": "stream",
     "text": [
      "<class 'dict'>\n"
     ]
    }
   ],
   "source": [
    "print(type(d))"
   ]
  },
  {
   "cell_type": "code",
   "execution_count": 107,
   "metadata": {},
   "outputs": [],
   "source": [
    "d[\"a\"]=\"apple\""
   ]
  },
  {
   "cell_type": "code",
   "execution_count": 108,
   "metadata": {},
   "outputs": [],
   "source": [
    "d[\"b\"]=\"banana\""
   ]
  },
  {
   "cell_type": "code",
   "execution_count": 109,
   "metadata": {},
   "outputs": [
    {
     "name": "stdout",
     "output_type": "stream",
     "text": [
      "{'a': 'apple', 'b': 'banana'}\n"
     ]
    }
   ],
   "source": [
    "print(d)"
   ]
  },
  {
   "cell_type": "code",
   "execution_count": 110,
   "metadata": {},
   "outputs": [
    {
     "name": "stdout",
     "output_type": "stream",
     "text": [
      "<class 'int'>\n"
     ]
    }
   ],
   "source": [
    "a=10\n",
    "print(type(a))"
   ]
  },
  {
   "cell_type": "code",
   "execution_count": 111,
   "metadata": {},
   "outputs": [
    {
     "name": "stdout",
     "output_type": "stream",
     "text": [
      "<class 'float'>\n"
     ]
    }
   ],
   "source": [
    "b=10.5\n",
    "print(type(b))"
   ]
  },
  {
   "cell_type": "code",
   "execution_count": 114,
   "metadata": {},
   "outputs": [
    {
     "name": "stdout",
     "output_type": "stream",
     "text": [
      "<class 'complex'>\n",
      "10.0\n",
      "5.0\n"
     ]
    }
   ],
   "source": [
    "c=10+5j\n",
    "print(type(c))\n",
    "print(c.real)\n",
    "print(c.imag)"
   ]
  },
  {
   "cell_type": "code",
   "execution_count": 115,
   "metadata": {},
   "outputs": [
    {
     "name": "stdout",
     "output_type": "stream",
     "text": [
      "<class 'bool'>\n"
     ]
    }
   ],
   "source": [
    "flag=True\n",
    "flag=False\n",
    "print(type(flag))"
   ]
  },
  {
   "cell_type": "code",
   "execution_count": 118,
   "metadata": {},
   "outputs": [
    {
     "name": "stdout",
     "output_type": "stream",
     "text": [
      "<class 'str'>\n",
      "durga\n",
      "durga software solutions\n",
      "     ameerpet\n",
      "<class 'str'>\n"
     ]
    }
   ],
   "source": [
    "s='durga'\n",
    "print(type(s))\n",
    "s1=\"durga\"\n",
    "print(s1)\n",
    "s2='''durga software solutions\n",
    "     ameerpet'''\n",
    "print(s2)\n",
    "print(type(s2))"
   ]
  },
  {
   "cell_type": "code",
   "execution_count": 119,
   "metadata": {},
   "outputs": [
    {
     "name": "stdout",
     "output_type": "stream",
     "text": [
      "<class 'bytes'>\n"
     ]
    }
   ],
   "source": [
    "list=[1,2,3,4]\n",
    "b=bytes(list)\n",
    "print(type(b))"
   ]
  },
  {
   "cell_type": "code",
   "execution_count": 120,
   "metadata": {},
   "outputs": [
    {
     "name": "stdout",
     "output_type": "stream",
     "text": [
      "<class 'bytearray'>\n"
     ]
    }
   ],
   "source": [
    "list=[10,20,30]\n",
    "ba=bytearray(list)\n",
    "print(type(ba))"
   ]
  },
  {
   "cell_type": "code",
   "execution_count": 121,
   "metadata": {},
   "outputs": [],
   "source": [
    "r=range(10)"
   ]
  },
  {
   "cell_type": "code",
   "execution_count": 122,
   "metadata": {},
   "outputs": [],
   "source": [
    "r=range(0,10)"
   ]
  },
  {
   "cell_type": "code",
   "execution_count": 123,
   "metadata": {},
   "outputs": [],
   "source": [
    "r2=range(0,10,2)"
   ]
  },
  {
   "cell_type": "code",
   "execution_count": 124,
   "metadata": {},
   "outputs": [
    {
     "name": "stdout",
     "output_type": "stream",
     "text": [
      "<class 'list'>\n"
     ]
    }
   ],
   "source": [
    "l=[10,11,12,13,14,15]\n",
    "print(type(l))"
   ]
  },
  {
   "cell_type": "code",
   "execution_count": 125,
   "metadata": {},
   "outputs": [
    {
     "name": "stdout",
     "output_type": "stream",
     "text": [
      "<class 'tuple'>\n"
     ]
    }
   ],
   "source": [
    "t=(1,2,3,4,5)\n",
    "print(type(t))"
   ]
  },
  {
   "cell_type": "code",
   "execution_count": 126,
   "metadata": {},
   "outputs": [
    {
     "name": "stdout",
     "output_type": "stream",
     "text": [
      "<class 'set'>\n"
     ]
    }
   ],
   "source": [
    "s={1,2,3,4,5,6}\n",
    "print(type(s))"
   ]
  },
  {
   "cell_type": "code",
   "execution_count": 127,
   "metadata": {},
   "outputs": [
    {
     "name": "stdout",
     "output_type": "stream",
     "text": [
      "<class 'frozenset'>\n"
     ]
    }
   ],
   "source": [
    "s={11,2,3,\"durga\",100,\"rammu\"}\n",
    "fs=frozenset(s)\n",
    "print(type(fs))"
   ]
  },
  {
   "cell_type": "code",
   "execution_count": 128,
   "metadata": {},
   "outputs": [
    {
     "name": "stdout",
     "output_type": "stream",
     "text": [
      "<class 'dict'>\n"
     ]
    }
   ],
   "source": [
    "d={101:\"durga\",102:\"ravi\",103:\"hari\"}\n",
    "print(type(d))"
   ]
  },
  {
   "cell_type": "code",
   "execution_count": 129,
   "metadata": {},
   "outputs": [
    {
     "name": "stdout",
     "output_type": "stream",
     "text": [
      "None\n"
     ]
    }
   ],
   "source": [
    "def m1():\n",
    "    a=10\n",
    "print(m1())"
   ]
  },
  {
   "cell_type": "code",
   "execution_count": 130,
   "metadata": {},
   "outputs": [],
   "source": [
    "s=\"durga\\nsoftware\""
   ]
  },
  {
   "cell_type": "code",
   "execution_count": 131,
   "metadata": {},
   "outputs": [
    {
     "name": "stdout",
     "output_type": "stream",
     "text": [
      "durga\n",
      "software\n"
     ]
    }
   ],
   "source": [
    "print(s)"
   ]
  },
  {
   "cell_type": "code",
   "execution_count": 132,
   "metadata": {},
   "outputs": [],
   "source": [
    "s=\"durga\\tsoftware\""
   ]
  },
  {
   "cell_type": "code",
   "execution_count": 133,
   "metadata": {},
   "outputs": [
    {
     "name": "stdout",
     "output_type": "stream",
     "text": [
      "durga\tsoftware\n"
     ]
    }
   ],
   "source": [
    "print(s)"
   ]
  },
  {
   "cell_type": "code",
   "execution_count": 134,
   "metadata": {},
   "outputs": [
    {
     "ename": "SyntaxError",
     "evalue": "invalid syntax (<ipython-input-134-c07814780709>, line 1)",
     "output_type": "error",
     "traceback": [
      "\u001b[1;36m  File \u001b[1;32m\"<ipython-input-134-c07814780709>\"\u001b[1;36m, line \u001b[1;32m1\u001b[0m\n\u001b[1;33m    s=\"this is \" symbol\"\u001b[0m\n\u001b[1;37m                      ^\u001b[0m\n\u001b[1;31mSyntaxError\u001b[0m\u001b[1;31m:\u001b[0m invalid syntax\n"
     ]
    }
   ],
   "source": [
    "s=\"this is \" symbol\""
   ]
  },
  {
   "cell_type": "code",
   "execution_count": 135,
   "metadata": {},
   "outputs": [
    {
     "ename": "SyntaxError",
     "evalue": "invalid syntax (<ipython-input-135-c07814780709>, line 1)",
     "output_type": "error",
     "traceback": [
      "\u001b[1;36m  File \u001b[1;32m\"<ipython-input-135-c07814780709>\"\u001b[1;36m, line \u001b[1;32m1\u001b[0m\n\u001b[1;33m    s=\"this is \" symbol\"\u001b[0m\n\u001b[1;37m                      ^\u001b[0m\n\u001b[1;31mSyntaxError\u001b[0m\u001b[1;31m:\u001b[0m invalid syntax\n"
     ]
    }
   ],
   "source": [
    "s=\"this is \" symbol\""
   ]
  },
  {
   "cell_type": "code",
   "execution_count": 136,
   "metadata": {},
   "outputs": [],
   "source": [
    "s=\"this is\\\"symbol\""
   ]
  },
  {
   "cell_type": "code",
   "execution_count": 137,
   "metadata": {},
   "outputs": [
    {
     "name": "stdout",
     "output_type": "stream",
     "text": [
      "this is\"symbol\n"
     ]
    }
   ],
   "source": [
    "print(s)"
   ]
  },
  {
   "cell_type": "code",
   "execution_count": 138,
   "metadata": {},
   "outputs": [],
   "source": [
    "MAX_VALUE=10"
   ]
  },
  {
   "cell_type": "code",
   "execution_count": 139,
   "metadata": {},
   "outputs": [
    {
     "name": "stdout",
     "output_type": "stream",
     "text": [
      "<class 'int'>\n"
     ]
    }
   ],
   "source": [
    "print(type(MAX_VALUE))"
   ]
  },
  {
   "cell_type": "code",
   "execution_count": 140,
   "metadata": {},
   "outputs": [],
   "source": [
    "MAX_VALUE=47"
   ]
  },
  {
   "cell_type": "code",
   "execution_count": 141,
   "metadata": {},
   "outputs": [
    {
     "name": "stdout",
     "output_type": "stream",
     "text": [
      "47\n"
     ]
    }
   ],
   "source": [
    "print(MAX_VALUE)"
   ]
  },
  {
   "cell_type": "code",
   "execution_count": 1,
   "metadata": {},
   "outputs": [
    {
     "name": "stdout",
     "output_type": "stream",
     "text": [
      "a+b is : 12\n",
      "a-b is : 8\n",
      "a*b is : 20\n",
      "a/b is : 5.0\n",
      "a//b is : 5\n",
      "a%b is : 0\n",
      "a**b is : 100\n"
     ]
    }
   ],
   "source": [
    "a=10\n",
    "b=2\n",
    "print(\"a+b is :\",a+b)\n",
    "print(\"a-b is :\",a-b)\n",
    "print(\"a*b is :\",a*b)\n",
    "print(\"a/b is :\",a/b)\n",
    "print(\"a//b is :\",a//b)\n",
    "print(\"a%b is :\",a%b)\n",
    "print(\"a**b is :\",a**b)"
   ]
  },
  {
   "cell_type": "code",
   "execution_count": 3,
   "metadata": {},
   "outputs": [
    {
     "name": "stdout",
     "output_type": "stream",
     "text": [
      "a+b is  : 12.5\n",
      "a-b is  : 8.5\n",
      "a*b is  : 21.0\n",
      "a/b is  : 5.25\n",
      "a//b is : 5.0\n",
      "a %b is : 0.5\n",
      "a**b is : 110.25\n"
     ]
    }
   ],
   "source": [
    "a=10.5\n",
    "b=2\n",
    "print(\"a+b is  :\",a+b)\n",
    "print(\"a-b is  :\",a-b)\n",
    "print(\"a*b is  :\",a*b)\n",
    "print(\"a/b is  :\",a/b)\n",
    "print(\"a//b is :\",a//b)\n",
    "print(\"a %b is :\",a%b)\n",
    "print(\"a**b is :\",a**b)"
   ]
  },
  {
   "cell_type": "code",
   "execution_count": 4,
   "metadata": {},
   "outputs": [
    {
     "data": {
      "text/plain": [
       "5.0"
      ]
     },
     "execution_count": 4,
     "metadata": {},
     "output_type": "execute_result"
    }
   ],
   "source": [
    "10/2"
   ]
  },
  {
   "cell_type": "code",
   "execution_count": 5,
   "metadata": {},
   "outputs": [
    {
     "data": {
      "text/plain": [
       "5"
      ]
     },
     "execution_count": 5,
     "metadata": {},
     "output_type": "execute_result"
    }
   ],
   "source": [
    "10//2"
   ]
  },
  {
   "cell_type": "code",
   "execution_count": 6,
   "metadata": {},
   "outputs": [
    {
     "data": {
      "text/plain": [
       "5.0"
      ]
     },
     "execution_count": 6,
     "metadata": {},
     "output_type": "execute_result"
    }
   ],
   "source": [
    "10.0/2"
   ]
  },
  {
   "cell_type": "code",
   "execution_count": 7,
   "metadata": {},
   "outputs": [
    {
     "data": {
      "text/plain": [
       "5.0"
      ]
     },
     "execution_count": 7,
     "metadata": {},
     "output_type": "execute_result"
    }
   ],
   "source": [
    "10.0//2"
   ]
  },
  {
   "cell_type": "code",
   "execution_count": 8,
   "metadata": {},
   "outputs": [
    {
     "ename": "TypeError",
     "evalue": "must be str, not int",
     "output_type": "error",
     "traceback": [
      "\u001b[1;31m---------------------------------------------------------------------------\u001b[0m",
      "\u001b[1;31mTypeError\u001b[0m                                 Traceback (most recent call last)",
      "\u001b[1;32m<ipython-input-8-af6eafce0eb6>\u001b[0m in \u001b[0;36m<module>\u001b[1;34m()\u001b[0m\n\u001b[1;32m----> 1\u001b[1;33m \u001b[1;34m\"durga\"\u001b[0m\u001b[1;33m+\u001b[0m\u001b[1;36m10\u001b[0m\u001b[1;33m\u001b[0m\u001b[0m\n\u001b[0m",
      "\u001b[1;31mTypeError\u001b[0m: must be str, not int"
     ]
    }
   ],
   "source": [
    "\"durga\"+10"
   ]
  },
  {
   "cell_type": "code",
   "execution_count": 9,
   "metadata": {},
   "outputs": [
    {
     "data": {
      "text/plain": [
       "'durga10'"
      ]
     },
     "execution_count": 9,
     "metadata": {},
     "output_type": "execute_result"
    }
   ],
   "source": [
    "\"durga\"+\"10\""
   ]
  },
  {
   "cell_type": "code",
   "execution_count": 10,
   "metadata": {},
   "outputs": [
    {
     "data": {
      "text/plain": [
       "'DurgaDurga'"
      ]
     },
     "execution_count": 10,
     "metadata": {},
     "output_type": "execute_result"
    }
   ],
   "source": [
    "2*\"Durga\""
   ]
  },
  {
   "cell_type": "code",
   "execution_count": 11,
   "metadata": {},
   "outputs": [
    {
     "data": {
      "text/plain": [
       "'durgadurga'"
      ]
     },
     "execution_count": 11,
     "metadata": {},
     "output_type": "execute_result"
    }
   ],
   "source": [
    "\"durga\"*2"
   ]
  },
  {
   "cell_type": "code",
   "execution_count": 12,
   "metadata": {},
   "outputs": [
    {
     "ename": "TypeError",
     "evalue": "can't multiply sequence by non-int of type 'float'",
     "output_type": "error",
     "traceback": [
      "\u001b[1;31m---------------------------------------------------------------------------\u001b[0m",
      "\u001b[1;31mTypeError\u001b[0m                                 Traceback (most recent call last)",
      "\u001b[1;32m<ipython-input-12-c62982493381>\u001b[0m in \u001b[0;36m<module>\u001b[1;34m()\u001b[0m\n\u001b[1;32m----> 1\u001b[1;33m \u001b[1;36m2.5\u001b[0m\u001b[1;33m*\u001b[0m\u001b[1;34m\"durga\"\u001b[0m\u001b[1;33m\u001b[0m\u001b[0m\n\u001b[0m",
      "\u001b[1;31mTypeError\u001b[0m: can't multiply sequence by non-int of type 'float'"
     ]
    }
   ],
   "source": [
    "2.5*\"durga\""
   ]
  },
  {
   "cell_type": "code",
   "execution_count": 13,
   "metadata": {},
   "outputs": [
    {
     "ename": "TypeError",
     "evalue": "can't multiply sequence by non-int of type 'str'",
     "output_type": "error",
     "traceback": [
      "\u001b[1;31m---------------------------------------------------------------------------\u001b[0m",
      "\u001b[1;31mTypeError\u001b[0m                                 Traceback (most recent call last)",
      "\u001b[1;32m<ipython-input-13-834a8efe602b>\u001b[0m in \u001b[0;36m<module>\u001b[1;34m()\u001b[0m\n\u001b[1;32m----> 1\u001b[1;33m \u001b[1;34m\"durga\"\u001b[0m\u001b[1;33m*\u001b[0m\u001b[1;34m\"durga\"\u001b[0m\u001b[1;33m\u001b[0m\u001b[0m\n\u001b[0m",
      "\u001b[1;31mTypeError\u001b[0m: can't multiply sequence by non-int of type 'str'"
     ]
    }
   ],
   "source": [
    "\"durga\"*\"durga\""
   ]
  },
  {
   "cell_type": "code",
   "execution_count": 14,
   "metadata": {},
   "outputs": [
    {
     "ename": "ZeroDivisionError",
     "evalue": "division by zero",
     "output_type": "error",
     "traceback": [
      "\u001b[1;31m---------------------------------------------------------------------------\u001b[0m",
      "\u001b[1;31mZeroDivisionError\u001b[0m                         Traceback (most recent call last)",
      "\u001b[1;32m<ipython-input-14-e574edb36883>\u001b[0m in \u001b[0;36m<module>\u001b[1;34m()\u001b[0m\n\u001b[1;32m----> 1\u001b[1;33m \u001b[1;36m10\u001b[0m\u001b[1;33m/\u001b[0m\u001b[1;36m0\u001b[0m\u001b[1;33m\u001b[0m\u001b[0m\n\u001b[0m",
      "\u001b[1;31mZeroDivisionError\u001b[0m: division by zero"
     ]
    }
   ],
   "source": [
    "10/0"
   ]
  },
  {
   "cell_type": "code",
   "execution_count": 15,
   "metadata": {},
   "outputs": [
    {
     "ename": "ZeroDivisionError",
     "evalue": "integer division or modulo by zero",
     "output_type": "error",
     "traceback": [
      "\u001b[1;31m---------------------------------------------------------------------------\u001b[0m",
      "\u001b[1;31mZeroDivisionError\u001b[0m                         Traceback (most recent call last)",
      "\u001b[1;32m<ipython-input-15-3e1bfe6920c0>\u001b[0m in \u001b[0;36m<module>\u001b[1;34m()\u001b[0m\n\u001b[1;32m----> 1\u001b[1;33m \u001b[1;36m10\u001b[0m\u001b[1;33m%\u001b[0m\u001b[1;36m0\u001b[0m\u001b[1;33m\u001b[0m\u001b[0m\n\u001b[0m",
      "\u001b[1;31mZeroDivisionError\u001b[0m: integer division or modulo by zero"
     ]
    }
   ],
   "source": [
    "10%0"
   ]
  },
  {
   "cell_type": "code",
   "execution_count": 16,
   "metadata": {},
   "outputs": [
    {
     "ename": "ZeroDivisionError",
     "evalue": "float modulo",
     "output_type": "error",
     "traceback": [
      "\u001b[1;31m---------------------------------------------------------------------------\u001b[0m",
      "\u001b[1;31mZeroDivisionError\u001b[0m                         Traceback (most recent call last)",
      "\u001b[1;32m<ipython-input-16-8864e72cec86>\u001b[0m in \u001b[0;36m<module>\u001b[1;34m()\u001b[0m\n\u001b[1;32m----> 1\u001b[1;33m \u001b[1;36m10.0\u001b[0m\u001b[1;33m%\u001b[0m\u001b[1;36m0\u001b[0m\u001b[1;33m\u001b[0m\u001b[0m\n\u001b[0m",
      "\u001b[1;31mZeroDivisionError\u001b[0m: float modulo"
     ]
    }
   ],
   "source": [
    "10.0%0"
   ]
  },
  {
   "cell_type": "code",
   "execution_count": 18,
   "metadata": {},
   "outputs": [
    {
     "name": "stdout",
     "output_type": "stream",
     "text": [
      "a>b  is :  False\n",
      "a>=b is :  False\n",
      "a<b  is :  True\n",
      "a<=b is :  True\n"
     ]
    }
   ],
   "source": [
    "a=10\n",
    "b=20\n",
    "print(\"a>b  is : \" ,a>b)\n",
    "print(\"a>=b is : \" ,a>=b)\n",
    "print(\"a<b  is : \" ,a<b)\n",
    "print(\"a<=b is : \" ,a<=b)"
   ]
  },
  {
   "cell_type": "code",
   "execution_count": 19,
   "metadata": {},
   "outputs": [
    {
     "name": "stdout",
     "output_type": "stream",
     "text": [
      "a>b is: False\n",
      "a>=b is: True\n",
      "a<b is: False\n",
      "a<=b is : True\n"
     ]
    }
   ],
   "source": [
    "a=\"durga\"\n",
    "b=\"durga\"\n",
    "print(\"a>b is:\",a>b)\n",
    "print(\"a>=b is:\",a>=b)\n",
    "print(\"a<b is:\",a<b)\n",
    "print(\"a<=b is :\",a<=b)"
   ]
  },
  {
   "cell_type": "code",
   "execution_count": 20,
   "metadata": {},
   "outputs": [
    {
     "name": "stdout",
     "output_type": "stream",
     "text": [
      "False\n"
     ]
    }
   ],
   "source": [
    "print(True>True)"
   ]
  },
  {
   "cell_type": "code",
   "execution_count": 21,
   "metadata": {},
   "outputs": [
    {
     "name": "stdout",
     "output_type": "stream",
     "text": [
      "True\n"
     ]
    }
   ],
   "source": [
    "print(True>=True)"
   ]
  },
  {
   "cell_type": "code",
   "execution_count": 22,
   "metadata": {},
   "outputs": [
    {
     "name": "stdout",
     "output_type": "stream",
     "text": [
      "True\n"
     ]
    }
   ],
   "source": [
    "print(10>True)"
   ]
  },
  {
   "cell_type": "code",
   "execution_count": 23,
   "metadata": {},
   "outputs": [
    {
     "name": "stdout",
     "output_type": "stream",
     "text": [
      "False\n"
     ]
    }
   ],
   "source": [
    "print(False>True)"
   ]
  },
  {
   "cell_type": "code",
   "execution_count": 24,
   "metadata": {},
   "outputs": [
    {
     "ename": "TypeError",
     "evalue": "'>' not supported between instances of 'int' and 'str'",
     "output_type": "error",
     "traceback": [
      "\u001b[1;31m---------------------------------------------------------------------------\u001b[0m",
      "\u001b[1;31mTypeError\u001b[0m                                 Traceback (most recent call last)",
      "\u001b[1;32m<ipython-input-24-1ae8a3a91735>\u001b[0m in \u001b[0;36m<module>\u001b[1;34m()\u001b[0m\n\u001b[1;32m----> 1\u001b[1;33m \u001b[0mprint\u001b[0m\u001b[1;33m(\u001b[0m\u001b[1;36m10\u001b[0m\u001b[1;33m>\u001b[0m\u001b[1;34m\"durga\"\u001b[0m\u001b[1;33m)\u001b[0m\u001b[1;33m\u001b[0m\u001b[0m\n\u001b[0m",
      "\u001b[1;31mTypeError\u001b[0m: '>' not supported between instances of 'int' and 'str'"
     ]
    }
   ],
   "source": [
    "print(10>\"durga\")"
   ]
  },
  {
   "cell_type": "code",
   "execution_count": 26,
   "metadata": {},
   "outputs": [
    {
     "name": "stdout",
     "output_type": "stream",
     "text": [
      "A is not greater than B\n"
     ]
    }
   ],
   "source": [
    "a=10\n",
    "b=20\n",
    "if (a>b):\n",
    "    print(\"A is greater than B\")\n",
    "else:\n",
    "    print(\"A is not greater than B\")"
   ]
  },
  {
   "cell_type": "code",
   "execution_count": 27,
   "metadata": {},
   "outputs": [
    {
     "data": {
      "text/plain": [
       "True"
      ]
     },
     "execution_count": 27,
     "metadata": {},
     "output_type": "execute_result"
    }
   ],
   "source": [
    "10<20"
   ]
  },
  {
   "cell_type": "code",
   "execution_count": 28,
   "metadata": {},
   "outputs": [
    {
     "data": {
      "text/plain": [
       "True"
      ]
     },
     "execution_count": 28,
     "metadata": {},
     "output_type": "execute_result"
    }
   ],
   "source": [
    "10<20<30"
   ]
  },
  {
   "cell_type": "code",
   "execution_count": 29,
   "metadata": {},
   "outputs": [
    {
     "data": {
      "text/plain": [
       "True"
      ]
     },
     "execution_count": 29,
     "metadata": {},
     "output_type": "execute_result"
    }
   ],
   "source": [
    "10<20<30<40"
   ]
  },
  {
   "cell_type": "code",
   "execution_count": 30,
   "metadata": {},
   "outputs": [
    {
     "data": {
      "text/plain": [
       "False"
      ]
     },
     "execution_count": 30,
     "metadata": {},
     "output_type": "execute_result"
    }
   ],
   "source": [
    "10<20<30<40>50"
   ]
  },
  {
   "cell_type": "code",
   "execution_count": 31,
   "metadata": {},
   "outputs": [
    {
     "data": {
      "text/plain": [
       "False"
      ]
     },
     "execution_count": 31,
     "metadata": {},
     "output_type": "execute_result"
    }
   ],
   "source": [
    "10==20"
   ]
  },
  {
   "cell_type": "code",
   "execution_count": 32,
   "metadata": {},
   "outputs": [
    {
     "data": {
      "text/plain": [
       "True"
      ]
     },
     "execution_count": 32,
     "metadata": {},
     "output_type": "execute_result"
    }
   ],
   "source": [
    "10!=20"
   ]
  },
  {
   "cell_type": "code",
   "execution_count": 33,
   "metadata": {},
   "outputs": [
    {
     "data": {
      "text/plain": [
       "False"
      ]
     },
     "execution_count": 33,
     "metadata": {},
     "output_type": "execute_result"
    }
   ],
   "source": [
    "10==True"
   ]
  },
  {
   "cell_type": "code",
   "execution_count": 34,
   "metadata": {},
   "outputs": [
    {
     "data": {
      "text/plain": [
       "True"
      ]
     },
     "execution_count": 34,
     "metadata": {},
     "output_type": "execute_result"
    }
   ],
   "source": [
    "False==False"
   ]
  },
  {
   "cell_type": "code",
   "execution_count": 35,
   "metadata": {},
   "outputs": [
    {
     "data": {
      "text/plain": [
       "True"
      ]
     },
     "execution_count": 35,
     "metadata": {},
     "output_type": "execute_result"
    }
   ],
   "source": [
    "\"durga\"==\"durga\""
   ]
  },
  {
   "cell_type": "code",
   "execution_count": 36,
   "metadata": {},
   "outputs": [
    {
     "data": {
      "text/plain": [
       "False"
      ]
     },
     "execution_count": 36,
     "metadata": {},
     "output_type": "execute_result"
    }
   ],
   "source": [
    "10==\"durga\""
   ]
  },
  {
   "cell_type": "code",
   "execution_count": 37,
   "metadata": {},
   "outputs": [
    {
     "data": {
      "text/plain": [
       "False"
      ]
     },
     "execution_count": 37,
     "metadata": {},
     "output_type": "execute_result"
    }
   ],
   "source": [
    "10==20==30==40"
   ]
  },
  {
   "cell_type": "code",
   "execution_count": 38,
   "metadata": {},
   "outputs": [
    {
     "data": {
      "text/plain": [
       "True"
      ]
     },
     "execution_count": 38,
     "metadata": {},
     "output_type": "execute_result"
    }
   ],
   "source": [
    "10==10==10==10"
   ]
  },
  {
   "cell_type": "code",
   "execution_count": 39,
   "metadata": {},
   "outputs": [
    {
     "data": {
      "text/plain": [
       "False"
      ]
     },
     "execution_count": 39,
     "metadata": {},
     "output_type": "execute_result"
    }
   ],
   "source": [
    "True and False"
   ]
  },
  {
   "cell_type": "code",
   "execution_count": 40,
   "metadata": {},
   "outputs": [
    {
     "data": {
      "text/plain": [
       "True"
      ]
     },
     "execution_count": 40,
     "metadata": {},
     "output_type": "execute_result"
    }
   ],
   "source": [
    "True or False"
   ]
  },
  {
   "cell_type": "code",
   "execution_count": 41,
   "metadata": {},
   "outputs": [
    {
     "data": {
      "text/plain": [
       "True"
      ]
     },
     "execution_count": 41,
     "metadata": {},
     "output_type": "execute_result"
    }
   ],
   "source": [
    "not False"
   ]
  },
  {
   "cell_type": "code",
   "execution_count": 42,
   "metadata": {},
   "outputs": [
    {
     "data": {
      "text/plain": [
       "0"
      ]
     },
     "execution_count": 42,
     "metadata": {},
     "output_type": "execute_result"
    }
   ],
   "source": [
    "0"
   ]
  },
  {
   "cell_type": "code",
   "execution_count": 43,
   "metadata": {},
   "outputs": [
    {
     "data": {
      "text/plain": [
       "20"
      ]
     },
     "execution_count": 43,
     "metadata": {},
     "output_type": "execute_result"
    }
   ],
   "source": [
    "10 and 20"
   ]
  },
  {
   "cell_type": "code",
   "execution_count": 45,
   "metadata": {},
   "outputs": [
    {
     "data": {
      "text/plain": [
       "0"
      ]
     },
     "execution_count": 45,
     "metadata": {},
     "output_type": "execute_result"
    }
   ],
   "source": [
    "0 and 20"
   ]
  },
  {
   "cell_type": "code",
   "execution_count": 46,
   "metadata": {},
   "outputs": [
    {
     "data": {
      "text/plain": [
       "10"
      ]
     },
     "execution_count": 46,
     "metadata": {},
     "output_type": "execute_result"
    }
   ],
   "source": [
    "10 or 20"
   ]
  },
  {
   "cell_type": "code",
   "execution_count": 47,
   "metadata": {},
   "outputs": [
    {
     "data": {
      "text/plain": [
       "20"
      ]
     },
     "execution_count": 47,
     "metadata": {},
     "output_type": "execute_result"
    }
   ],
   "source": [
    "0 or 20"
   ]
  },
  {
   "cell_type": "code",
   "execution_count": 48,
   "metadata": {},
   "outputs": [
    {
     "data": {
      "text/plain": [
       "False"
      ]
     },
     "execution_count": 48,
     "metadata": {},
     "output_type": "execute_result"
    }
   ],
   "source": [
    "not 10"
   ]
  },
  {
   "cell_type": "code",
   "execution_count": 49,
   "metadata": {},
   "outputs": [
    {
     "data": {
      "text/plain": [
       "True"
      ]
     },
     "execution_count": 49,
     "metadata": {},
     "output_type": "execute_result"
    }
   ],
   "source": [
    "not 0"
   ]
  },
  {
   "cell_type": "code",
   "execution_count": 50,
   "metadata": {},
   "outputs": [
    {
     "data": {
      "text/plain": [
       "'durgasoft'"
      ]
     },
     "execution_count": 50,
     "metadata": {},
     "output_type": "execute_result"
    }
   ],
   "source": [
    "\"durga\" and \"durgasoft\""
   ]
  },
  {
   "cell_type": "code",
   "execution_count": 51,
   "metadata": {},
   "outputs": [
    {
     "data": {
      "text/plain": [
       "''"
      ]
     },
     "execution_count": 51,
     "metadata": {},
     "output_type": "execute_result"
    }
   ],
   "source": [
    "\"\" and \"durga\""
   ]
  },
  {
   "cell_type": "code",
   "execution_count": 52,
   "metadata": {},
   "outputs": [
    {
     "data": {
      "text/plain": [
       "''"
      ]
     },
     "execution_count": 52,
     "metadata": {},
     "output_type": "execute_result"
    }
   ],
   "source": [
    "\"durga \"and \"\""
   ]
  },
  {
   "cell_type": "code",
   "execution_count": 53,
   "metadata": {},
   "outputs": [
    {
     "data": {
      "text/plain": [
       "'durga'"
      ]
     },
     "execution_count": 53,
     "metadata": {},
     "output_type": "execute_result"
    }
   ],
   "source": [
    "\"\" or \"durga\""
   ]
  },
  {
   "cell_type": "code",
   "execution_count": 54,
   "metadata": {},
   "outputs": [
    {
     "data": {
      "text/plain": [
       "'durga'"
      ]
     },
     "execution_count": 54,
     "metadata": {},
     "output_type": "execute_result"
    }
   ],
   "source": [
    "\"durga\" or \"\""
   ]
  },
  {
   "cell_type": "code",
   "execution_count": 55,
   "metadata": {},
   "outputs": [
    {
     "data": {
      "text/plain": [
       "True"
      ]
     },
     "execution_count": 55,
     "metadata": {},
     "output_type": "execute_result"
    }
   ],
   "source": [
    "not \"\""
   ]
  },
  {
   "cell_type": "code",
   "execution_count": 56,
   "metadata": {},
   "outputs": [
    {
     "data": {
      "text/plain": [
       "False"
      ]
     },
     "execution_count": 56,
     "metadata": {},
     "output_type": "execute_result"
    }
   ],
   "source": [
    "not \"durga\""
   ]
  },
  {
   "cell_type": "code",
   "execution_count": 65,
   "metadata": {},
   "outputs": [
    {
     "name": "stdout",
     "output_type": "stream",
     "text": [
      "4\n"
     ]
    }
   ],
   "source": [
    "print(4 & 4 )"
   ]
  },
  {
   "cell_type": "code",
   "execution_count": 61,
   "metadata": {},
   "outputs": [
    {
     "ename": "TypeError",
     "evalue": "unsupported operand type(s) for &: 'float' and 'float'",
     "output_type": "error",
     "traceback": [
      "\u001b[1;31m---------------------------------------------------------------------------\u001b[0m",
      "\u001b[1;31mTypeError\u001b[0m                                 Traceback (most recent call last)",
      "\u001b[1;32m<ipython-input-61-d5b1525c6c9b>\u001b[0m in \u001b[0;36m<module>\u001b[1;34m()\u001b[0m\n\u001b[1;32m----> 1\u001b[1;33m \u001b[0mprint\u001b[0m\u001b[1;33m(\u001b[0m\u001b[1;36m10.5\u001b[0m \u001b[1;33m&\u001b[0m \u001b[1;36m5.6\u001b[0m\u001b[1;33m)\u001b[0m\u001b[1;33m\u001b[0m\u001b[0m\n\u001b[0m",
      "\u001b[1;31mTypeError\u001b[0m: unsupported operand type(s) for &: 'float' and 'float'"
     ]
    }
   ],
   "source": [
    "print(10.5 & 5.6)"
   ]
  },
  {
   "cell_type": "code",
   "execution_count": 63,
   "metadata": {},
   "outputs": [
    {
     "name": "stdout",
     "output_type": "stream",
     "text": [
      "True\n"
     ]
    }
   ],
   "source": [
    "print(True & True)"
   ]
  },
  {
   "cell_type": "code",
   "execution_count": 66,
   "metadata": {},
   "outputs": [
    {
     "name": "stdout",
     "output_type": "stream",
     "text": [
      "4\n"
     ]
    }
   ],
   "source": [
    "print(4 & 5)"
   ]
  },
  {
   "cell_type": "code",
   "execution_count": 67,
   "metadata": {},
   "outputs": [
    {
     "name": "stdout",
     "output_type": "stream",
     "text": [
      "5\n"
     ]
    }
   ],
   "source": [
    "print(4|5)"
   ]
  },
  {
   "cell_type": "code",
   "execution_count": 68,
   "metadata": {},
   "outputs": [
    {
     "name": "stdout",
     "output_type": "stream",
     "text": [
      "1\n"
     ]
    }
   ],
   "source": [
    "print(4^5)"
   ]
  },
  {
   "cell_type": "code",
   "execution_count": 69,
   "metadata": {},
   "outputs": [
    {
     "name": "stdout",
     "output_type": "stream",
     "text": [
      "-6\n"
     ]
    }
   ],
   "source": [
    "print(~5)"
   ]
  },
  {
   "cell_type": "code",
   "execution_count": 70,
   "metadata": {},
   "outputs": [
    {
     "name": "stdout",
     "output_type": "stream",
     "text": [
      "40\n"
     ]
    }
   ],
   "source": [
    "print(10<<2)"
   ]
  },
  {
   "cell_type": "code",
   "execution_count": 71,
   "metadata": {},
   "outputs": [
    {
     "name": "stdout",
     "output_type": "stream",
     "text": [
      "2\n"
     ]
    }
   ],
   "source": [
    "print(10>>2)"
   ]
  },
  {
   "cell_type": "code",
   "execution_count": 72,
   "metadata": {},
   "outputs": [
    {
     "name": "stdout",
     "output_type": "stream",
     "text": [
      "False\n"
     ]
    }
   ],
   "source": [
    "print(True & False)"
   ]
  },
  {
   "cell_type": "code",
   "execution_count": 73,
   "metadata": {},
   "outputs": [
    {
     "name": "stdout",
     "output_type": "stream",
     "text": [
      "True\n"
     ]
    }
   ],
   "source": [
    "print( True | False)"
   ]
  },
  {
   "cell_type": "code",
   "execution_count": 74,
   "metadata": {},
   "outputs": [
    {
     "name": "stdout",
     "output_type": "stream",
     "text": [
      "True\n"
     ]
    }
   ],
   "source": [
    "print(True ^ False)"
   ]
  },
  {
   "cell_type": "code",
   "execution_count": 75,
   "metadata": {},
   "outputs": [
    {
     "name": "stdout",
     "output_type": "stream",
     "text": [
      "-2\n"
     ]
    }
   ],
   "source": [
    "print(~True)"
   ]
  },
  {
   "cell_type": "code",
   "execution_count": 76,
   "metadata": {},
   "outputs": [
    {
     "name": "stdout",
     "output_type": "stream",
     "text": [
      "4\n"
     ]
    }
   ],
   "source": [
    "print(True<<2)"
   ]
  },
  {
   "cell_type": "code",
   "execution_count": 77,
   "metadata": {},
   "outputs": [
    {
     "name": "stdout",
     "output_type": "stream",
     "text": [
      "0\n"
     ]
    }
   ],
   "source": [
    "print(True>>2)"
   ]
  },
  {
   "cell_type": "code",
   "execution_count": 78,
   "metadata": {},
   "outputs": [],
   "source": [
    "x=10"
   ]
  },
  {
   "cell_type": "code",
   "execution_count": 79,
   "metadata": {},
   "outputs": [],
   "source": [
    "x+=10"
   ]
  },
  {
   "cell_type": "code",
   "execution_count": 80,
   "metadata": {},
   "outputs": [
    {
     "data": {
      "text/plain": [
       "20"
      ]
     },
     "execution_count": 80,
     "metadata": {},
     "output_type": "execute_result"
    }
   ],
   "source": [
    "x"
   ]
  },
  {
   "cell_type": "code",
   "execution_count": 81,
   "metadata": {},
   "outputs": [
    {
     "data": {
      "text/plain": [
       "30"
      ]
     },
     "execution_count": 81,
     "metadata": {},
     "output_type": "execute_result"
    }
   ],
   "source": [
    "x=10\n",
    "x+=20\n",
    "x"
   ]
  },
  {
   "cell_type": "code",
   "execution_count": 82,
   "metadata": {},
   "outputs": [
    {
     "data": {
      "text/plain": [
       "0"
      ]
     },
     "execution_count": 82,
     "metadata": {},
     "output_type": "execute_result"
    }
   ],
   "source": [
    "x=10\n",
    "x&=5\n",
    "x"
   ]
  },
  {
   "cell_type": "code",
   "execution_count": 83,
   "metadata": {},
   "outputs": [
    {
     "name": "stdout",
     "output_type": "stream",
     "text": [
      "30\n"
     ]
    }
   ],
   "source": [
    "a,b=10,20\n",
    "x = 30 if a<b else 40\n",
    "print(x)"
   ]
  },
  {
   "cell_type": "code",
   "execution_count": 86,
   "metadata": {},
   "outputs": [
    {
     "name": "stdout",
     "output_type": "stream",
     "text": [
      "Enter First Number :20\n",
      "Enter Second Number:10\n",
      "minimum value is  10\n"
     ]
    }
   ],
   "source": [
    "a = int(input(\"Enter First Number :\"))\n",
    "b = int(input(\"Enter Second Number:\"))\n",
    "min = a if a<b else b\n",
    "print(\"minimum value is \", min)"
   ]
  },
  {
   "cell_type": "code",
   "execution_count": 89,
   "metadata": {},
   "outputs": [
    {
     "name": "stdout",
     "output_type": "stream",
     "text": [
      "Enter First Number :30\n",
      "Enter Second Number :20\n",
      "Enter Third Number  : 10\n",
      "minimum value is : 10\n"
     ]
    }
   ],
   "source": [
    "a = int(input(\"Enter First Number :\"))\n",
    "b = int(input(\"Enter Second Number :\"))\n",
    "c = int(input(\"Enter Third Number  : \"))\n",
    "min = a if a<b and a<c else b if b<c else c\n",
    "print(\"minimum value is :\", min)"
   ]
  },
  {
   "cell_type": "code",
   "execution_count": 94,
   "metadata": {},
   "outputs": [
    {
     "name": "stdout",
     "output_type": "stream",
     "text": [
      "Enter First Number :10\n",
      "Enter Second Number :20\n",
      "Enter Third Number :30\n",
      "maximum value is : 30\n"
     ]
    }
   ],
   "source": [
    "a = int(input(\"Enter First Number :\"))\n",
    "b = int((input(\"Enter Second Number :\")))\n",
    "c = int(input(\"Enter Third Number :\"))\n",
    "max = a if a>b and a>c else b if b>c else c\n",
    "print(\"maximum value is :\", max)"
   ]
  },
  {
   "cell_type": "code",
   "execution_count": 97,
   "metadata": {},
   "outputs": [
    {
     "name": "stdout",
     "output_type": "stream",
     "text": [
      "Enter First Number :20\n",
      "Enter Second Nmber :10\n",
      "First number is greater than second number \n"
     ]
    }
   ],
   "source": [
    "a= int(input(\"Enter First Number :\"))\n",
    "b= int(input(\"Enter Second Nmber :\"))\n",
    "print(\"Both number are equal \" if a==b else \"First number is greater than second number \" if a>b else \"Second  number is greater \")"
   ]
  },
  {
   "cell_type": "code",
   "execution_count": 98,
   "metadata": {},
   "outputs": [
    {
     "name": "stdout",
     "output_type": "stream",
     "text": [
      "True\n"
     ]
    }
   ],
   "source": [
    "a=10\n",
    "b=10\n",
    "print( a is b)"
   ]
  },
  {
   "cell_type": "code",
   "execution_count": 100,
   "metadata": {},
   "outputs": [
    {
     "name": "stdout",
     "output_type": "stream",
     "text": [
      "True\n"
     ]
    }
   ],
   "source": [
    "x=True\n",
    "y=True\n",
    "print(x is y)"
   ]
  },
  {
   "cell_type": "code",
   "execution_count": 101,
   "metadata": {},
   "outputs": [
    {
     "name": "stdout",
     "output_type": "stream",
     "text": [
      "81318216\n",
      "81318216\n",
      "True\n"
     ]
    }
   ],
   "source": [
    "a=\"durga\"\n",
    "b=\"durga\"\n",
    "print(id(a))\n",
    "print(id(b))\n",
    "print(a is b)"
   ]
  },
  {
   "cell_type": "code",
   "execution_count": 102,
   "metadata": {},
   "outputs": [
    {
     "name": "stdout",
     "output_type": "stream",
     "text": [
      "82723656\n",
      "82726792\n",
      "False\n",
      "True\n",
      "True\n"
     ]
    }
   ],
   "source": [
    "list1=[\"one\",\"two\",\"three\"]\n",
    "list2=[\"one\",\"two\",\"three\"]\n",
    "print(id(list1))\n",
    "print(id(list2))\n",
    "print(list1 is list2)\n",
    "print(list1 is not list2)\n",
    "print(list1==list2)"
   ]
  },
  {
   "cell_type": "code",
   "execution_count": 104,
   "metadata": {},
   "outputs": [],
   "source": [
    "x=\"hello learning python is easy\""
   ]
  },
  {
   "cell_type": "code",
   "execution_count": 105,
   "metadata": {},
   "outputs": [
    {
     "name": "stdout",
     "output_type": "stream",
     "text": [
      "True\n"
     ]
    }
   ],
   "source": [
    "print(\"h\" in x)"
   ]
  },
  {
   "cell_type": "code",
   "execution_count": 106,
   "metadata": {},
   "outputs": [
    {
     "name": "stdout",
     "output_type": "stream",
     "text": [
      "False\n"
     ]
    }
   ],
   "source": [
    "print(\"d\" in x)"
   ]
  },
  {
   "cell_type": "code",
   "execution_count": 107,
   "metadata": {},
   "outputs": [
    {
     "name": "stdout",
     "output_type": "stream",
     "text": [
      "True\n"
     ]
    }
   ],
   "source": [
    "print(\"d\" not in x)"
   ]
  },
  {
   "cell_type": "code",
   "execution_count": 108,
   "metadata": {},
   "outputs": [
    {
     "name": "stdout",
     "output_type": "stream",
     "text": [
      "True\n"
     ]
    }
   ],
   "source": [
    "print(\"python\" in x)"
   ]
  },
  {
   "cell_type": "code",
   "execution_count": 109,
   "metadata": {},
   "outputs": [],
   "source": [
    "list1=[\"sunny\",\"bunny\",\"chinny\",\"pinny\"]"
   ]
  },
  {
   "cell_type": "code",
   "execution_count": 110,
   "metadata": {},
   "outputs": [
    {
     "name": "stdout",
     "output_type": "stream",
     "text": [
      "True\n"
     ]
    }
   ],
   "source": [
    "print(\"sunny\"in  list1)"
   ]
  },
  {
   "cell_type": "code",
   "execution_count": 111,
   "metadata": {},
   "outputs": [
    {
     "name": "stdout",
     "output_type": "stream",
     "text": [
      "False\n"
     ]
    }
   ],
   "source": [
    "print(\"tunny\"in list1)"
   ]
  },
  {
   "cell_type": "code",
   "execution_count": 112,
   "metadata": {},
   "outputs": [
    {
     "name": "stdout",
     "output_type": "stream",
     "text": [
      "True\n"
     ]
    }
   ],
   "source": [
    "print(\"tunny\"not in list1)"
   ]
  },
  {
   "cell_type": "code",
   "execution_count": 113,
   "metadata": {},
   "outputs": [
    {
     "name": "stdout",
     "output_type": "stream",
     "text": [
      "23\n"
     ]
    }
   ],
   "source": [
    "print(3+10*2)"
   ]
  },
  {
   "cell_type": "code",
   "execution_count": 114,
   "metadata": {},
   "outputs": [
    {
     "name": "stdout",
     "output_type": "stream",
     "text": [
      "26\n"
     ]
    }
   ],
   "source": [
    "print((3+10)*2)"
   ]
  },
  {
   "cell_type": "code",
   "execution_count": 115,
   "metadata": {},
   "outputs": [
    {
     "name": "stdout",
     "output_type": "stream",
     "text": [
      "100.0\n",
      "100.0\n",
      "70.0\n"
     ]
    }
   ],
   "source": [
    "a=30\n",
    "b=20\n",
    "c=10\n",
    "d=5\n",
    "print((a+b)*c/d)\n",
    "print((a+b)*(c/d))\n",
    "print(a+(b*c)/d)"
   ]
  },
  {
   "cell_type": "code",
   "execution_count": 116,
   "metadata": {},
   "outputs": [],
   "source": [
    "import math"
   ]
  },
  {
   "cell_type": "code",
   "execution_count": 117,
   "metadata": {},
   "outputs": [
    {
     "name": "stdout",
     "output_type": "stream",
     "text": [
      "4.0\n"
     ]
    }
   ],
   "source": [
    "print(math.sqrt(16))"
   ]
  },
  {
   "cell_type": "code",
   "execution_count": 118,
   "metadata": {},
   "outputs": [
    {
     "name": "stdout",
     "output_type": "stream",
     "text": [
      "3.141592653589793\n"
     ]
    }
   ],
   "source": [
    "print(math.pi)"
   ]
  },
  {
   "cell_type": "code",
   "execution_count": 119,
   "metadata": {},
   "outputs": [],
   "source": [
    "import math as m"
   ]
  },
  {
   "cell_type": "code",
   "execution_count": 120,
   "metadata": {},
   "outputs": [],
   "source": [
    "import math as m"
   ]
  },
  {
   "cell_type": "code",
   "execution_count": 121,
   "metadata": {},
   "outputs": [
    {
     "name": "stdout",
     "output_type": "stream",
     "text": [
      "4.0\n"
     ]
    }
   ],
   "source": [
    "print(m.sqrt(16))"
   ]
  },
  {
   "cell_type": "code",
   "execution_count": 122,
   "metadata": {},
   "outputs": [
    {
     "name": "stdout",
     "output_type": "stream",
     "text": [
      "3.141592653589793\n"
     ]
    }
   ],
   "source": [
    "print(m.pi)"
   ]
  },
  {
   "cell_type": "code",
   "execution_count": 123,
   "metadata": {},
   "outputs": [],
   "source": [
    "from math import sqrt"
   ]
  },
  {
   "cell_type": "code",
   "execution_count": 124,
   "metadata": {},
   "outputs": [],
   "source": [
    "from math import sqrt,pi"
   ]
  },
  {
   "cell_type": "code",
   "execution_count": 125,
   "metadata": {},
   "outputs": [
    {
     "name": "stdout",
     "output_type": "stream",
     "text": [
      "4.0\n"
     ]
    }
   ],
   "source": [
    "print(sqrt(16))"
   ]
  },
  {
   "cell_type": "code",
   "execution_count": 126,
   "metadata": {},
   "outputs": [
    {
     "name": "stdout",
     "output_type": "stream",
     "text": [
      "3.141592653589793\n"
     ]
    }
   ],
   "source": [
    "print(pi)"
   ]
  },
  {
   "cell_type": "code",
   "execution_count": 127,
   "metadata": {},
   "outputs": [
    {
     "name": "stdout",
     "output_type": "stream",
     "text": [
      "3.141592653589793\n"
     ]
    }
   ],
   "source": [
    "print(math.pi)"
   ]
  },
  {
   "cell_type": "code",
   "execution_count": 1,
   "metadata": {},
   "outputs": [],
   "source": [
    "from math import sqrt,pi"
   ]
  },
  {
   "cell_type": "code",
   "execution_count": 2,
   "metadata": {},
   "outputs": [
    {
     "name": "stdout",
     "output_type": "stream",
     "text": [
      "4.0\n"
     ]
    }
   ],
   "source": [
    "print(sqrt(16))"
   ]
  },
  {
   "cell_type": "code",
   "execution_count": 3,
   "metadata": {},
   "outputs": [
    {
     "name": "stdout",
     "output_type": "stream",
     "text": [
      "3.141592653589793\n"
     ]
    }
   ],
   "source": [
    "print(pi)"
   ]
  },
  {
   "cell_type": "code",
   "execution_count": 4,
   "metadata": {},
   "outputs": [
    {
     "ename": "NameError",
     "evalue": "name 'math' is not defined",
     "output_type": "error",
     "traceback": [
      "\u001b[1;31m---------------------------------------------------------------------------\u001b[0m",
      "\u001b[1;31mNameError\u001b[0m                                 Traceback (most recent call last)",
      "\u001b[1;32m<ipython-input-4-6feb45068528>\u001b[0m in \u001b[0;36m<module>\u001b[1;34m()\u001b[0m\n\u001b[1;32m----> 1\u001b[1;33m \u001b[0mprint\u001b[0m\u001b[1;33m(\u001b[0m\u001b[0mmath\u001b[0m\u001b[1;33m.\u001b[0m\u001b[0mpi\u001b[0m\u001b[1;33m)\u001b[0m\u001b[1;33m\u001b[0m\u001b[0m\n\u001b[0m",
      "\u001b[1;31mNameError\u001b[0m: name 'math' is not defined"
     ]
    }
   ],
   "source": [
    "print(math.pi)"
   ]
  },
  {
   "cell_type": "code",
   "execution_count": 6,
   "metadata": {},
   "outputs": [],
   "source": [
    "import math"
   ]
  },
  {
   "cell_type": "code",
   "execution_count": 7,
   "metadata": {},
   "outputs": [
    {
     "data": {
      "text/plain": [
       "['__doc__',\n",
       " '__loader__',\n",
       " '__name__',\n",
       " '__package__',\n",
       " '__spec__',\n",
       " 'acos',\n",
       " 'acosh',\n",
       " 'asin',\n",
       " 'asinh',\n",
       " 'atan',\n",
       " 'atan2',\n",
       " 'atanh',\n",
       " 'ceil',\n",
       " 'copysign',\n",
       " 'cos',\n",
       " 'cosh',\n",
       " 'degrees',\n",
       " 'e',\n",
       " 'erf',\n",
       " 'erfc',\n",
       " 'exp',\n",
       " 'expm1',\n",
       " 'fabs',\n",
       " 'factorial',\n",
       " 'floor',\n",
       " 'fmod',\n",
       " 'frexp',\n",
       " 'fsum',\n",
       " 'gamma',\n",
       " 'gcd',\n",
       " 'hypot',\n",
       " 'inf',\n",
       " 'isclose',\n",
       " 'isfinite',\n",
       " 'isinf',\n",
       " 'isnan',\n",
       " 'ldexp',\n",
       " 'lgamma',\n",
       " 'log',\n",
       " 'log10',\n",
       " 'log1p',\n",
       " 'log2',\n",
       " 'modf',\n",
       " 'nan',\n",
       " 'pi',\n",
       " 'pow',\n",
       " 'radians',\n",
       " 'sin',\n",
       " 'sinh',\n",
       " 'sqrt',\n",
       " 'tan',\n",
       " 'tanh',\n",
       " 'tau',\n",
       " 'trunc']"
      ]
     },
     "execution_count": 7,
     "metadata": {},
     "output_type": "execute_result"
    }
   ],
   "source": [
    "dir(math)"
   ]
  },
  {
   "cell_type": "code",
   "execution_count": 8,
   "metadata": {},
   "outputs": [],
   "source": [
    "from math import pi"
   ]
  },
  {
   "cell_type": "code",
   "execution_count": 9,
   "metadata": {},
   "outputs": [
    {
     "name": "stdout",
     "output_type": "stream",
     "text": [
      "area of circle is : 804.247719318987\n"
     ]
    }
   ],
   "source": [
    "r=16\n",
    "print(\"area of circle is :\",pi*r**2)"
   ]
  },
  {
   "cell_type": "code",
   "execution_count": 1,
   "metadata": {},
   "outputs": [
    {
     "ename": "NameError",
     "evalue": "name 'raw_input' is not defined",
     "output_type": "error",
     "traceback": [
      "\u001b[1;31m---------------------------------------------------------------------------\u001b[0m",
      "\u001b[1;31mNameError\u001b[0m                                 Traceback (most recent call last)",
      "\u001b[1;32m<ipython-input-1-af5219d49e15>\u001b[0m in \u001b[0;36m<module>\u001b[1;34m()\u001b[0m\n\u001b[1;32m----> 1\u001b[1;33m \u001b[0mx\u001b[0m\u001b[1;33m=\u001b[0m\u001b[0mraw_input\u001b[0m\u001b[1;33m(\u001b[0m\u001b[1;34m\"enter first number :\"\u001b[0m\u001b[1;33m)\u001b[0m\u001b[1;33m\u001b[0m\u001b[0m\n\u001b[0m\u001b[0;32m      2\u001b[0m \u001b[0mprint\u001b[0m\u001b[1;33m(\u001b[0m\u001b[0mtype\u001b[0m\u001b[1;33m(\u001b[0m\u001b[0mx\u001b[0m\u001b[1;33m)\u001b[0m\u001b[1;33m)\u001b[0m\u001b[1;33m\u001b[0m\u001b[0m\n",
      "\u001b[1;31mNameError\u001b[0m: name 'raw_input' is not defined"
     ]
    }
   ],
   "source": [
    "x=raw_input(\"enter first number :\")\n",
    "print(type(x))"
   ]
  },
  {
   "cell_type": "code",
   "execution_count": 7,
   "metadata": {},
   "outputs": [
    {
     "name": "stdout",
     "output_type": "stream",
     "text": [
      "enter value True\n"
     ]
    },
    {
     "data": {
      "text/plain": [
       "str"
      ]
     },
     "execution_count": 7,
     "metadata": {},
     "output_type": "execute_result"
    }
   ],
   "source": [
    "x=input(\"enter value \")\n",
    "type(x)"
   ]
  },
  {
   "cell_type": "code",
   "execution_count": 10,
   "metadata": {},
   "outputs": [
    {
     "name": "stdout",
     "output_type": "stream",
     "text": [
      "enter value:True\n"
     ]
    },
    {
     "data": {
      "text/plain": [
       "str"
      ]
     },
     "execution_count": 10,
     "metadata": {},
     "output_type": "execute_result"
    }
   ],
   "source": [
    "type(input(\"enter value:\"))"
   ]
  },
  {
   "cell_type": "code",
   "execution_count": 11,
   "metadata": {},
   "outputs": [
    {
     "name": "stdout",
     "output_type": "stream",
     "text": [
      "enter first number :100\n",
      "enter second number :200\n",
      "The sum is : 300\n"
     ]
    }
   ],
   "source": [
    "x=input(\"enter first number :\")\n",
    "y=input(\"enter second number :\")\n",
    "i=int(x)\n",
    "j=int(y)\n",
    "print(\"The sum is :\",i+j)"
   ]
  },
  {
   "cell_type": "code",
   "execution_count": 12,
   "metadata": {},
   "outputs": [
    {
     "name": "stdout",
     "output_type": "stream",
     "text": [
      "enter first number :100\n",
      "enter second number :200\n",
      "The sum is : 300\n"
     ]
    }
   ],
   "source": [
    "x=int(input(\"enter first number :\"))\n",
    "y=int(input(\"enter second number :\"))\n",
    "print(\"The sum is :\",x+y)"
   ]
  },
  {
   "cell_type": "code",
   "execution_count": 13,
   "metadata": {},
   "outputs": [
    {
     "name": "stdout",
     "output_type": "stream",
     "text": [
      "enter first number :100\n",
      "enter second number :200\n",
      "The sum is : 300\n"
     ]
    }
   ],
   "source": [
    "print(\"The sum is :\",int(input(\"enter first number :\"))+int(input(\"enter second number :\")))"
   ]
  },
  {
   "cell_type": "code",
   "execution_count": 17,
   "metadata": {},
   "outputs": [
    {
     "name": "stdout",
     "output_type": "stream",
     "text": [
      "enter employee no:100\n",
      "enter employee name :sunny\n",
      "enter employee salary:1000\n",
      "enter employee address:mumbai\n",
      "employee married?[True|False]:t\n",
      "please confirm information\n",
      "employee no: 100\n",
      "employee name: sunny\n",
      "employee salary: 1000.0\n",
      "employee addres: mumbai\n",
      "employee married: True\n"
     ]
    }
   ],
   "source": [
    "eno=int(input(\"enter employee no:\"))\n",
    "ename=input(\"enter employee name :\")\n",
    "esal=float(input(\"enter employee salary:\"))\n",
    "eaddr=input(\"enter employee address:\")\n",
    "married=bool(input(\"employee married?[True|False]:\"))\n",
    "print(\"please confirm information\")\n",
    "print(\"employee no:\",eno)\n",
    "print(\"employee name:\",ename)\n",
    "print(\"employee salary:\",esal)\n",
    "print(\"employee addres:\",eaddr)\n",
    "print(\"employee married:\",married)"
   ]
  },
  {
   "cell_type": "code",
   "execution_count": 18,
   "metadata": {},
   "outputs": [
    {
     "name": "stdout",
     "output_type": "stream",
     "text": [
      "enter 2 numbers:10 20\n",
      "the product is : 200\n"
     ]
    }
   ],
   "source": [
    "a,b=[int(x)for x in input(\"enter 2 numbers:\").split()]\n",
    "print(\"the product is :\",a*b)"
   ]
  },
  {
   "cell_type": "code",
   "execution_count": 19,
   "metadata": {},
   "outputs": [
    {
     "name": "stdout",
     "output_type": "stream",
     "text": [
      "Enter 3 Float number :10.5,20.6,20.1\n",
      "the sum  is : 51.2\n"
     ]
    }
   ],
   "source": [
    "a,b,c=[float(x)for x in input(\"Enter 3 Float number :\").split(',')]\n",
    "print(\"the sum  is :\",a+b+c)"
   ]
  },
  {
   "cell_type": "code",
   "execution_count": 20,
   "metadata": {},
   "outputs": [
    {
     "name": "stdout",
     "output_type": "stream",
     "text": [
      "60\n"
     ]
    }
   ],
   "source": [
    "x=eval(\"10+20+30\")\n",
    "print(x)"
   ]
  },
  {
   "cell_type": "code",
   "execution_count": 21,
   "metadata": {},
   "outputs": [
    {
     "name": "stdout",
     "output_type": "stream",
     "text": [
      "enter expression10+2*3/4\n",
      "11.5\n"
     ]
    }
   ],
   "source": [
    "x=eval(input(\"enter expression\"))\n",
    "print(x)"
   ]
  },
  {
   "cell_type": "code",
   "execution_count": 24,
   "metadata": {},
   "outputs": [
    {
     "name": "stdout",
     "output_type": "stream",
     "text": [
      "enter list:{10,20,30,40}\n",
      "<class 'set'>\n",
      "{40, 10, 20, 30}\n"
     ]
    }
   ],
   "source": [
    "l=eval(input(\"enter list:\"))\n",
    "print(type(l))\n",
    "print(l)"
   ]
  },
  {
   "cell_type": "code",
   "execution_count": 27,
   "metadata": {},
   "outputs": [
    {
     "name": "stdout",
     "output_type": "stream",
     "text": [
      "<class 'list'>\n",
      "['C:\\\\ProgramData\\\\Anaconda3\\\\lib\\\\site-packages\\\\ipykernel_launcher.py', '-f', 'C:\\\\Users\\\\pc\\\\AppData\\\\Roaming\\\\jupyter\\\\runtime\\\\kernel-1dd3e773-a890-47a0-bd3b-bcbf522db606.json']\n"
     ]
    }
   ],
   "source": [
    "from sys import argv\n",
    "print(type(argv))\n",
    "print(argv)"
   ]
  },
  {
   "cell_type": "code",
   "execution_count": 28,
   "metadata": {},
   "outputs": [
    {
     "name": "stdout",
     "output_type": "stream",
     "text": [
      "the number of command line argumnet : 3\n",
      "the list of command line argumnet ['C:\\\\ProgramData\\\\Anaconda3\\\\lib\\\\site-packages\\\\ipykernel_launcher.py', '-f', 'C:\\\\Users\\\\pc\\\\AppData\\\\Roaming\\\\jupyter\\\\runtime\\\\kernel-1dd3e773-a890-47a0-bd3b-bcbf522db606.json']\n",
      "command line argumnet one by one \n",
      "C:\\ProgramData\\Anaconda3\\lib\\site-packages\\ipykernel_launcher.py\n",
      "-f\n",
      "C:\\Users\\pc\\AppData\\Roaming\\jupyter\\runtime\\kernel-1dd3e773-a890-47a0-bd3b-bcbf522db606.json\n"
     ]
    }
   ],
   "source": [
    "from sys import argv\n",
    "print(\"the number of command line argumnet :\",len(argv))\n",
    "print(\"the list of command line argumnet\",argv)\n",
    "print(\"command line argumnet one by one \")\n",
    "for x in argv:\n",
    "    print(x)"
   ]
  },
  {
   "cell_type": "code",
   "execution_count": 31,
   "metadata": {},
   "outputs": [],
   "source": [
    "argv=[\"test.py\",\"10\",\"20\",\"30\",\"40\"]"
   ]
  },
  {
   "cell_type": "code",
   "execution_count": 32,
   "metadata": {},
   "outputs": [
    {
     "data": {
      "text/plain": [
       "['test.py', '10', '20', '30', '40']"
      ]
     },
     "execution_count": 32,
     "metadata": {},
     "output_type": "execute_result"
    }
   ],
   "source": [
    "argv"
   ]
  },
  {
   "cell_type": "code",
   "execution_count": 36,
   "metadata": {},
   "outputs": [
    {
     "name": "stdout",
     "output_type": "stream",
     "text": [
      "the sum : 100\n"
     ]
    }
   ],
   "source": [
    "sum=0\n",
    "args=argv[1:]\n",
    "for x in args:\n",
    "    n=int(x)\n",
    "    sum=sum+n\n",
    "print(\"the sum :\",sum)"
   ]
  },
  {
   "cell_type": "code",
   "execution_count": 38,
   "metadata": {},
   "outputs": [],
   "source": [
    "argv=[\"sunny\" ,\"leone\"]"
   ]
  },
  {
   "cell_type": "code",
   "execution_count": 40,
   "metadata": {},
   "outputs": [
    {
     "name": "stdout",
     "output_type": "stream",
     "text": [
      "sunny\n"
     ]
    }
   ],
   "source": [
    "print(argv[0])"
   ]
  },
  {
   "cell_type": "code",
   "execution_count": 41,
   "metadata": {},
   "outputs": [
    {
     "name": "stdout",
     "output_type": "stream",
     "text": [
      "sunny\n"
     ]
    }
   ],
   "source": [
    "print(argv[0])"
   ]
  },
  {
   "cell_type": "code",
   "execution_count": 44,
   "metadata": {},
   "outputs": [
    {
     "name": "stdout",
     "output_type": "stream",
     "text": [
      "['sunny', 'leone']\n"
     ]
    }
   ],
   "source": [
    "print(argv[0:])"
   ]
  },
  {
   "cell_type": "code",
   "execution_count": 45,
   "metadata": {},
   "outputs": [
    {
     "name": "stdout",
     "output_type": "stream",
     "text": [
      "1020\n",
      "30\n"
     ]
    }
   ],
   "source": [
    "argv=[\"30\",\"10\",\"20\",\"40\"]\n",
    "print(argv[1]+argv[2])\n",
    "print(int(argv[1])+int(argv[2]))"
   ]
  },
  {
   "cell_type": "code",
   "execution_count": 46,
   "metadata": {},
   "outputs": [
    {
     "ename": "IndexError",
     "evalue": "list index out of range",
     "output_type": "error",
     "traceback": [
      "\u001b[1;31m---------------------------------------------------------------------------\u001b[0m",
      "\u001b[1;31mIndexError\u001b[0m                                Traceback (most recent call last)",
      "\u001b[1;32m<ipython-input-46-c26d38473c55>\u001b[0m in \u001b[0;36m<module>\u001b[1;34m()\u001b[0m\n\u001b[0;32m      1\u001b[0m \u001b[1;32mfrom\u001b[0m \u001b[0msys\u001b[0m \u001b[1;32mimport\u001b[0m \u001b[0margv\u001b[0m\u001b[1;33m\u001b[0m\u001b[0m\n\u001b[1;32m----> 2\u001b[1;33m \u001b[0mprint\u001b[0m\u001b[1;33m(\u001b[0m\u001b[0margv\u001b[0m\u001b[1;33m[\u001b[0m\u001b[1;36m100\u001b[0m\u001b[1;33m]\u001b[0m\u001b[1;33m)\u001b[0m\u001b[1;33m\u001b[0m\u001b[0m\n\u001b[0m",
      "\u001b[1;31mIndexError\u001b[0m: list index out of range"
     ]
    }
   ],
   "source": [
    "from sys import argv\n",
    "print(argv[100])"
   ]
  },
  {
   "cell_type": "code",
   "execution_count": 47,
   "metadata": {},
   "outputs": [
    {
     "name": "stdout",
     "output_type": "stream",
     "text": [
      "\n"
     ]
    }
   ],
   "source": [
    "print()"
   ]
  },
  {
   "cell_type": "code",
   "execution_count": 48,
   "metadata": {},
   "outputs": [
    {
     "name": "stdout",
     "output_type": "stream",
     "text": [
      "hello world\n"
     ]
    }
   ],
   "source": [
    "print(\"hello world\")"
   ]
  },
  {
   "cell_type": "code",
   "execution_count": 51,
   "metadata": {},
   "outputs": [
    {
     "name": "stdout",
     "output_type": "stream",
     "text": [
      "hello \n",
      " world\n"
     ]
    }
   ],
   "source": [
    "print(\"hello \\n world\")"
   ]
  },
  {
   "cell_type": "code",
   "execution_count": 52,
   "metadata": {},
   "outputs": [
    {
     "name": "stdout",
     "output_type": "stream",
     "text": [
      "hello \t world\n"
     ]
    }
   ],
   "source": [
    "print(\"hello \\t world\")"
   ]
  },
  {
   "cell_type": "code",
   "execution_count": 53,
   "metadata": {},
   "outputs": [
    {
     "name": "stdout",
     "output_type": "stream",
     "text": [
      "hellohellohellohellohellohellohellohellohellohello\n"
     ]
    }
   ],
   "source": [
    "print(10*\"hello\")"
   ]
  },
  {
   "cell_type": "code",
   "execution_count": 54,
   "metadata": {},
   "outputs": [
    {
     "name": "stdout",
     "output_type": "stream",
     "text": [
      "hellohellohellohellohellohellohellohellohellohello\n"
     ]
    }
   ],
   "source": [
    "print(\"hello\"*10)"
   ]
  },
  {
   "cell_type": "code",
   "execution_count": 56,
   "metadata": {},
   "outputs": [
    {
     "name": "stdout",
     "output_type": "stream",
     "text": [
      "helloworld\n"
     ]
    }
   ],
   "source": [
    "print(\"hello\" + \"world\")"
   ]
  },
  {
   "cell_type": "code",
   "execution_count": 57,
   "metadata": {},
   "outputs": [
    {
     "name": "stdout",
     "output_type": "stream",
     "text": [
      "helloworld\n"
     ]
    }
   ],
   "source": [
    "print(\"hello\"+\"world\")"
   ]
  },
  {
   "cell_type": "code",
   "execution_count": 59,
   "metadata": {},
   "outputs": [
    {
     "name": "stdout",
     "output_type": "stream",
     "text": [
      "hello world\n"
     ]
    }
   ],
   "source": [
    "print(\"hello\",\"world\")"
   ]
  },
  {
   "cell_type": "code",
   "execution_count": 60,
   "metadata": {},
   "outputs": [
    {
     "name": "stdout",
     "output_type": "stream",
     "text": [
      "the values are: 10 20 30\n"
     ]
    }
   ],
   "source": [
    "a,b,c=10,20,30\n",
    "print(\"the values are:\",a,b,c)"
   ]
  },
  {
   "cell_type": "code",
   "execution_count": 61,
   "metadata": {},
   "outputs": [
    {
     "name": "stdout",
     "output_type": "stream",
     "text": [
      "10,20,30\n",
      "10:20:30\n"
     ]
    }
   ],
   "source": [
    "a,b,c=10,20,30\n",
    "print(a,b,c,sep=\",\")\n",
    "print(a,b,c,sep=\":\")\n"
   ]
  },
  {
   "cell_type": "code",
   "execution_count": 62,
   "metadata": {},
   "outputs": [
    {
     "name": "stdout",
     "output_type": "stream",
     "text": [
      "hello\n",
      "durga\n",
      "soft\n"
     ]
    }
   ],
   "source": [
    "print(\"hello\")\n",
    "print(\"durga\")\n",
    "print(\"soft\")"
   ]
  },
  {
   "cell_type": "code",
   "execution_count": 65,
   "metadata": {},
   "outputs": [
    {
     "name": "stdout",
     "output_type": "stream",
     "text": [
      "hello durga soft\n"
     ]
    }
   ],
   "source": [
    "print(\"hello\",end=\" \")\n",
    "print(\"durga\",end=\" \")\n",
    "print(\"soft\")"
   ]
  },
  {
   "cell_type": "code",
   "execution_count": 66,
   "metadata": {},
   "outputs": [
    {
     "name": "stdout",
     "output_type": "stream",
     "text": [
      "[10, 20, 30, 40]\n",
      "(10, 20, 30, 40)\n"
     ]
    }
   ],
   "source": [
    "l=[10,20,30,40]\n",
    "t=(10,20,30,40)\n",
    "print(l)\n",
    "print(t)"
   ]
  },
  {
   "cell_type": "code",
   "execution_count": 67,
   "metadata": {},
   "outputs": [
    {
     "name": "stdout",
     "output_type": "stream",
     "text": [
      "hello durga your age is  48\n",
      "you are teaching java and python\n"
     ]
    }
   ],
   "source": [
    "s=\"durga\"\n",
    "a=48\n",
    "s1=\"java\"\n",
    "s2=\"python\"\n",
    "print(\"hello\",s,\"your age is \",a)\n",
    "print(\"you are teaching\",s1,\"and\",s2)"
   ]
  },
  {
   "cell_type": "code",
   "execution_count": 70,
   "metadata": {},
   "outputs": [
    {
     "name": "stdout",
     "output_type": "stream",
     "text": [
      "a value is 10\n",
      "b value is 20 and c value is 30\n"
     ]
    }
   ],
   "source": [
    "a=10 \n",
    "b=20\n",
    "c=30\n",
    "print(\"a value is %i\"%(a))\n",
    "print(\"b value is %d and c value is %d\"%(b,c))"
   ]
  },
  {
   "cell_type": "code",
   "execution_count": 75,
   "metadata": {},
   "outputs": [
    {
     "name": "stdout",
     "output_type": "stream",
     "text": [
      "Hello Durga....The List of item are [10, 20, 30, 40]\n"
     ]
    }
   ],
   "source": [
    "s=\"Durga\"\n",
    "list=[10,20,30,40]\n",
    "print(\"Hello %s....The List of item are %s\" %(s,list) )"
   ]
  },
  {
   "cell_type": "code",
   "execution_count": 78,
   "metadata": {},
   "outputs": [
    {
     "name": "stdout",
     "output_type": "stream",
     "text": [
      " Hello durga your salary is 10000 and your friend sunny is waiting\n",
      " Hello durga your salary is 10000 and your friend sunny is waiting\n"
     ]
    }
   ],
   "source": [
    "name=\"durga\"\n",
    "salary=10000\n",
    "gf=\"sunny\"\n",
    "print(\" Hello {0} your salary is {1} and your friend {2} is waiting\".format(name,salary,gf))\n",
    "print( \" Hello {x} your salary is {y} and your friend {z} is waiting\".format(x=name,y=salary,z=gf))"
   ]
  },
  {
   "cell_type": "code",
   "execution_count": 2,
   "metadata": {},
   "outputs": [
    {
     "name": "stdout",
     "output_type": "stream",
     "text": [
      "enter name:ravi\n",
      "how are you !!!\n"
     ]
    }
   ],
   "source": [
    "name=input(\"enter name:\")\n",
    "if name==\"durga\":\n",
    "    print(\"hello durga good morning\")\n",
    "print(\"how are you !!!\")"
   ]
  },
  {
   "cell_type": "code",
   "execution_count": 7,
   "metadata": {},
   "outputs": [
    {
     "name": "stdout",
     "output_type": "stream",
     "text": [
      "enter name :ravi\n",
      "hello guest good morning \n",
      "how are you!!!\n"
     ]
    }
   ],
   "source": [
    "name=input(\"enter name :\")\n",
    "if name==\"durga\":\n",
    "    print(\"hello durga good morning \")\n",
    "else:\n",
    "    print(\"hello guest good morning \")\n",
    "print(\"how are you!!!\")"
   ]
  },
  {
   "cell_type": "code",
   "execution_count": 12,
   "metadata": {},
   "outputs": [
    {
     "name": "stdout",
     "output_type": "stream",
     "text": [
      "enter your favourite brand: kalyani\n",
      "other brands are not recommended\n"
     ]
    }
   ],
   "source": [
    "brand=input(\"enter your favourite brand: \")\n",
    "if brand==\"rc\":\n",
    "    print(\"it is children brand \")\n",
    "elif brand==\"kf\":\n",
    "    print(\"it is not that much kick\")\n",
    "elif brand==\"fo\":\n",
    "    print(\"buy one get free one\")\n",
    "else:\n",
    "    print(\"other brands are not recommended\")"
   ]
  },
  {
   "cell_type": "code",
   "execution_count": 14,
   "metadata": {},
   "outputs": [
    {
     "name": "stdout",
     "output_type": "stream",
     "text": [
      "enter first number :20\n",
      "enter second number:10\n",
      "biggest number is  20\n"
     ]
    }
   ],
   "source": [
    "n1=int(input(\"enter first number :\"))\n",
    "n2=int(input(\"enter second number:\"))\n",
    "if n1>n2:\n",
    "    print(\"biggest number is \",n1)\n",
    "else:\n",
    "    print(\"biggest number is :\",n2)"
   ]
  },
  {
   "cell_type": "code",
   "execution_count": 16,
   "metadata": {},
   "outputs": [
    {
     "name": "stdout",
     "output_type": "stream",
     "text": [
      "enter first number :10\n",
      "enter second number :30\n",
      "enter third number :20\n",
      "biggest number is : 30\n"
     ]
    }
   ],
   "source": [
    "n1=int(input(\"enter first number :\"))\n",
    "n2=int(input(\"enter second number :\"))\n",
    "n3=int(input(\"enter third number :\"))\n",
    "if n1>n2 and n1>n3:\n",
    "    print(\"biggest number is :\",n1)\n",
    "elif n2>n3:\n",
    "    print(\"biggest number is :\",n2)\n",
    "else:\n",
    "    print(\"biggest number is :\",n3)"
   ]
  },
  {
   "cell_type": "code",
   "execution_count": 18,
   "metadata": {},
   "outputs": [
    {
     "name": "stdout",
     "output_type": "stream",
     "text": [
      "enter first number :20\n",
      "enter second number :10\n",
      "smallest number is : 10\n"
     ]
    }
   ],
   "source": [
    "n1=int(input(\"enter first number :\"))\n",
    "n2=int(input(\"enter second number :\"))\n",
    "if n1<n2:\n",
    "    print(\"smallest no is:\",n1)\n",
    "else:\n",
    "    print(\"smallest number is :\",n2)"
   ]
  },
  {
   "cell_type": "code",
   "execution_count": 21,
   "metadata": {},
   "outputs": [
    {
     "name": "stdout",
     "output_type": "stream",
     "text": [
      "enter first number :20\n",
      "enter second number :10\n",
      "enter third number :30\n",
      "smallest number is : 10\n"
     ]
    }
   ],
   "source": [
    "n1=int(input(\"enter first number :\"))\n",
    "n2=int(input(\"enter second number :\"))\n",
    "n3= int(input(\"enter third number :\"))\n",
    "if n1<n2 and n1<n3:\n",
    "    print(\"smallest number is :\",n1)\n",
    "elif n2<n3:\n",
    "    print(\"smallest number is :\",n2)\n",
    "else:\n",
    "    print(\"smallest number is :\",n3)"
   ]
  },
  {
   "cell_type": "code",
   "execution_count": 26,
   "metadata": {},
   "outputs": [
    {
     "name": "stdout",
     "output_type": "stream",
     "text": [
      "enter a number:111\n",
      "the number is odd: 111\n"
     ]
    }
   ],
   "source": [
    "n1=int(input(\"enter a number:\"))\n",
    "if n1%2==0:\n",
    "    print(\"the number is even :\",n1)\n",
    "else:\n",
    "    print(\"the number is odd:\",n1)"
   ]
  },
  {
   "cell_type": "code",
   "execution_count": 28,
   "metadata": {},
   "outputs": [
    {
     "name": "stdout",
     "output_type": "stream",
     "text": [
      "enter a number 101\n",
      "the number  101 is not in between 1 to 100\n"
     ]
    }
   ],
   "source": [
    "n=int(input(\"enter a number \"))\n",
    "if n>=1 and n<=100:\n",
    "    print(\"the number \",n,\"is in between 1 to 100\")\n",
    "else:\n",
    "    print(\"the number \",n,\"is not in between 1 to 100\")"
   ]
  },
  {
   "cell_type": "code",
   "execution_count": 45,
   "metadata": {},
   "outputs": [
    {
     "name": "stdout",
     "output_type": "stream",
     "text": [
      "enter a digit between 1 to 9 : 10\n",
      "please enter a digit from 0 to 9\n"
     ]
    }
   ],
   "source": [
    "n=int(input(\"enter a digit between 1 to 9 : \"))\n",
    "if n==0:\n",
    "    print(\"zero\")\n",
    "elif n==1:\n",
    "    print(\"one\")\n",
    "elif n==2:\n",
    "    print(\"two\")\n",
    "elif n==3:\n",
    "    print(\"three\")\n",
    "elif n==4:\n",
    "    print(\"four\")\n",
    "elif n==5:\n",
    "    print(\"five\")\n",
    "elif n==6:\n",
    "    print(\"six\")\n",
    "elif n==7:\n",
    "    print(\"seven\")\n",
    "elif n==8:\n",
    "    print(\"eight\")\n",
    "elif n==9:\n",
    "    print(\"nine\")\n",
    "else:\n",
    "    print(\"please enter a digit from 0 to 9\")"
   ]
  },
  {
   "cell_type": "code",
   "execution_count": 47,
   "metadata": {},
   "outputs": [
    {
     "name": "stdout",
     "output_type": "stream",
     "text": [
      "s\n",
      "u\n",
      "n\n",
      "n\n",
      "y\n",
      " \n",
      "l\n",
      "e\n",
      "o\n",
      "n\n",
      "e\n"
     ]
    }
   ],
   "source": [
    "s=\"sunny leone\"\n",
    "for x in s:\n",
    "    print(x)"
   ]
  },
  {
   "cell_type": "code",
   "execution_count": 48,
   "metadata": {},
   "outputs": [
    {
     "name": "stdout",
     "output_type": "stream",
     "text": [
      "enter some string :sunny leone\n",
      "the character present at  0  index  is :  s\n",
      "the character present at  1  index  is :  u\n",
      "the character present at  2  index  is :  n\n",
      "the character present at  3  index  is :  n\n",
      "the character present at  4  index  is :  y\n",
      "the character present at  5  index  is :   \n",
      "the character present at  6  index  is :  l\n",
      "the character present at  7  index  is :  e\n",
      "the character present at  8  index  is :  o\n",
      "the character present at  9  index  is :  n\n",
      "the character present at  10  index  is :  e\n"
     ]
    }
   ],
   "source": [
    "s=input(\"enter some string :\" )\n",
    "i=0\n",
    "for x in s:\n",
    "    print(\"the character present at \", i , \" index  is : \" , x)\n",
    "    i=i+1"
   ]
  },
  {
   "cell_type": "code",
   "execution_count": 49,
   "metadata": {},
   "outputs": [
    {
     "name": "stdout",
     "output_type": "stream",
     "text": [
      "hello\n",
      "hello\n",
      "hello\n",
      "hello\n",
      "hello\n",
      "hello\n",
      "hello\n",
      "hello\n",
      "hello\n",
      "hello\n"
     ]
    }
   ],
   "source": [
    "for x in range(10):\n",
    "    print(\"hello\")"
   ]
  },
  {
   "cell_type": "code",
   "execution_count": 50,
   "metadata": {},
   "outputs": [
    {
     "name": "stdout",
     "output_type": "stream",
     "text": [
      "0\n",
      "1\n",
      "2\n",
      "3\n",
      "4\n",
      "5\n",
      "6\n",
      "7\n",
      "8\n",
      "9\n"
     ]
    }
   ],
   "source": [
    "for x in range(10):\n",
    "    print(x)"
   ]
  },
  {
   "cell_type": "code",
   "execution_count": 52,
   "metadata": {},
   "outputs": [
    {
     "name": "stdout",
     "output_type": "stream",
     "text": [
      "1\n",
      "3\n",
      "5\n",
      "7\n",
      "9\n",
      "11\n",
      "13\n",
      "15\n",
      "17\n",
      "19\n"
     ]
    }
   ],
   "source": [
    "for x in range(21):\n",
    "    if (x%2!=0):\n",
    "        print(x)"
   ]
  },
  {
   "cell_type": "code",
   "execution_count": 54,
   "metadata": {},
   "outputs": [
    {
     "name": "stdout",
     "output_type": "stream",
     "text": [
      "10\n",
      "9\n",
      "8\n",
      "7\n",
      "6\n",
      "5\n",
      "4\n",
      "3\n",
      "2\n",
      "1\n"
     ]
    }
   ],
   "source": [
    "for x in range(10,0,-1):\n",
    "    print(x)"
   ]
  },
  {
   "cell_type": "code",
   "execution_count": 56,
   "metadata": {},
   "outputs": [
    {
     "name": "stdout",
     "output_type": "stream",
     "text": [
      "enter list :[45,67]\n",
      "the sum : 112\n"
     ]
    }
   ],
   "source": [
    "list=eval(input(\"enter list :\"))\n",
    "sum=0\n",
    "for x in list:\n",
    "    sum=sum+x\n",
    "print(\"the sum :\",sum)"
   ]
  },
  {
   "cell_type": "code",
   "execution_count": 58,
   "metadata": {},
   "outputs": [
    {
     "name": "stdout",
     "output_type": "stream",
     "text": [
      "1\n",
      "2\n",
      "3\n",
      "4\n",
      "5\n",
      "6\n",
      "7\n",
      "8\n",
      "9\n",
      "10\n"
     ]
    }
   ],
   "source": [
    "x=1\n",
    "while x<=10:\n",
    "    print(x)\n",
    "    x+=1"
   ]
  },
  {
   "cell_type": "code",
   "execution_count": 7,
   "metadata": {},
   "outputs": [
    {
     "name": "stdout",
     "output_type": "stream",
     "text": [
      "enter number :3\n",
      "the sum of first  3 number is : 6\n"
     ]
    }
   ],
   "source": [
    "n=int(input(\"enter number :\"))\n",
    "sum=0\n",
    "i=1\n",
    "while i<=n:\n",
    "    sum=sum+i\n",
    "    i=i+1\n",
    "print(\"the sum of first \",n,\"number is :\",sum)"
   ]
  },
  {
   "cell_type": "code",
   "execution_count": 10,
   "metadata": {},
   "outputs": [
    {
     "name": "stdout",
     "output_type": "stream",
     "text": [
      "enter a number :4\n",
      "the sum of first  4 number is  10\n"
     ]
    }
   ],
   "source": [
    "n=int(input(\"enter a number :\"))\n",
    "sum=0\n",
    "i=1\n",
    "while i<=n:\n",
    "    sum=sum+i\n",
    "    i=i+1\n",
    "print(\"the sum of first \",n,\"number is \",sum)"
   ]
  },
  {
   "cell_type": "code",
   "execution_count": 14,
   "metadata": {},
   "outputs": [
    {
     "name": "stdout",
     "output_type": "stream",
     "text": [
      "enter a namedurga\n",
      "thanks for confirmation\n"
     ]
    }
   ],
   "source": [
    "name = \"\"\n",
    "while name!=\"durga\":\n",
    "    name = input(\"enter a name\")\n",
    "print(\"thanks for confirmation\")"
   ]
  },
  {
   "cell_type": "code",
   "execution_count": null,
   "metadata": {},
   "outputs": [
    {
     "name": "stdout",
     "output_type": "stream",
     "text": [
      "hello 1\n",
      "hello 2\n",
      "hello 3\n",
      "hello 4\n",
      "hello 5\n",
      "hello 6\n",
      "hello 7\n",
      "hello 8\n",
      "hello 9\n",
      "hello 10\n",
      "hello 11\n",
      "hello 12\n",
      "hello 13\n",
      "hello 14\n",
      "hello 15\n",
      "hello 16\n",
      "hello 17\n",
      "hello 18\n",
      "hello 19\n",
      "hello 20\n",
      "hello 21\n",
      "hello 22\n",
      "hello 23\n",
      "hello 24\n",
      "hello 25\n",
      "hello 26\n",
      "hello 27\n",
      "hello 28\n",
      "hello 29\n",
      "hello 30\n",
      "hello 31\n",
      "hello 32\n",
      "hello 33\n",
      "hello 34\n",
      "hello 35\n",
      "hello 36\n",
      "hello 37\n",
      "hello 38\n",
      "hello 39\n",
      "hello 40\n",
      "hello 41\n",
      "hello 42\n",
      "hello 43\n",
      "hello 44\n",
      "hello 45\n",
      "hello 46\n",
      "hello 47\n",
      "hello 48\n",
      "hello 49\n",
      "hello 50\n",
      "hello 51\n",
      "hello 52\n",
      "hello 53\n",
      "hello 54\n",
      "hello 55\n",
      "hello 56\n",
      "hello 57\n",
      "hello 58\n",
      "hello 59\n",
      "hello 60\n",
      "hello 61\n",
      "hello 62\n",
      "hello 63\n",
      "hello 64\n",
      "hello 65\n",
      "hello 66\n",
      "hello 67\n",
      "hello 68\n",
      "hello 69\n",
      "hello 70\n",
      "hello 71\n",
      "hello 72\n",
      "hello 73\n",
      "hello 74\n",
      "hello 75\n",
      "hello 76\n",
      "hello 77\n",
      "hello 78\n",
      "hello 79\n",
      "hello 80\n",
      "hello 81\n",
      "hello 82\n",
      "hello 83\n",
      "hello 84\n",
      "hello 85\n",
      "hello 86\n",
      "hello 87\n",
      "hello 88\n",
      "hello 89\n",
      "hello 90\n",
      "hello 91\n",
      "hello 92\n",
      "hello 93\n",
      "hello 94\n",
      "hello 95\n",
      "hello 96\n",
      "hello 97\n",
      "hello 98\n",
      "hello 99\n",
      "hello 100\n",
      "hello 101\n",
      "hello 102\n",
      "hello 103\n",
      "hello 104\n",
      "hello 105\n",
      "hello 106\n",
      "hello 107\n",
      "hello 108\n",
      "hello 109\n",
      "hello 110\n",
      "hello 111\n",
      "hello 112\n",
      "hello 113\n",
      "hello 114\n",
      "hello 115\n",
      "hello 116\n",
      "hello 117\n",
      "hello 118\n",
      "hello 119\n",
      "hello 120\n",
      "hello 121\n",
      "hello 122\n",
      "hello 123\n",
      "hello 124\n",
      "hello 125\n",
      "hello 126\n",
      "hello 127\n",
      "hello 128\n",
      "hello 129\n",
      "hello 130\n",
      "hello 131\n",
      "hello 132\n",
      "hello 133\n",
      "hello 134\n",
      "hello 135\n",
      "hello 136\n",
      "hello 137\n",
      "hello 138\n",
      "hello 139\n",
      "hello 140\n",
      "hello 141\n",
      "hello 142\n",
      "hello 143\n",
      "hello 144\n",
      "hello 145\n",
      "hello 146\n",
      "hello 147\n",
      "hello 148\n",
      "hello 149\n",
      "hello 150\n",
      "hello 151\n",
      "hello 152\n",
      "hello 153\n",
      "hello 154\n",
      "hello 155\n",
      "hello 156\n",
      "hello 157\n",
      "hello 158\n",
      "hello 159\n",
      "hello 160\n",
      "hello 161\n",
      "hello 162\n",
      "hello 163\n",
      "hello 164\n",
      "hello 165\n",
      "hello 166\n",
      "hello 167\n",
      "hello 168\n",
      "hello 169\n",
      "hello 170\n",
      "hello 171\n",
      "hello 172\n",
      "hello 173\n",
      "hello 174\n",
      "hello 175\n",
      "hello 176\n",
      "hello 177\n",
      "hello 178\n",
      "hello 179\n",
      "hello 180\n",
      "hello 181\n",
      "hello 182\n",
      "hello 183\n",
      "hello 184\n",
      "hello 185\n",
      "hello 186\n",
      "hello 187\n",
      "hello 188\n",
      "hello 189\n",
      "hello 190\n",
      "hello 191\n",
      "hello 192\n",
      "hello 193\n",
      "hello 194\n",
      "hello 195\n",
      "hello 196\n",
      "hello 197\n",
      "hello 198\n",
      "hello 199\n",
      "hello 200\n",
      "hello 201\n",
      "hello 202\n",
      "hello 203\n",
      "hello 204\n",
      "hello 205\n",
      "hello 206\n",
      "hello 207\n",
      "hello 208\n",
      "hello 209\n",
      "hello 210\n",
      "hello 211\n",
      "hello 212\n",
      "hello 213\n",
      "hello 214\n",
      "hello 215\n",
      "hello 216\n",
      "hello 217\n",
      "hello 218\n",
      "hello 219\n",
      "hello 220\n",
      "hello 221\n",
      "hello 222\n",
      "hello 223\n",
      "hello 224\n",
      "hello 225\n",
      "hello 226\n",
      "hello 227\n",
      "hello 228\n",
      "hello 229\n",
      "hello 230\n",
      "hello 231\n",
      "hello 232\n",
      "hello 233\n",
      "hello 234\n",
      "hello 235\n",
      "hello 236\n",
      "hello 237\n",
      "hello 238\n",
      "hello 239\n",
      "hello 240\n",
      "hello 241\n",
      "hello 242\n",
      "hello 243\n",
      "hello 244\n",
      "hello 245\n",
      "hello 246\n",
      "hello 247\n",
      "hello 248\n",
      "hello 249\n",
      "hello 250\n",
      "hello 251\n",
      "hello 252\n",
      "hello 253\n",
      "hello 254\n",
      "hello 255\n",
      "hello 256\n",
      "hello 257\n",
      "hello 258\n",
      "hello 259\n",
      "hello 260\n",
      "hello 261\n",
      "hello 262\n",
      "hello 263\n",
      "hello 264\n",
      "hello 265\n",
      "hello 266\n",
      "hello 267\n",
      "hello 268\n",
      "hello 269\n",
      "hello 270\n",
      "hello 271\n",
      "hello 272\n",
      "hello 273\n",
      "hello 274\n",
      "hello 275\n",
      "hello 276\n",
      "hello 277\n",
      "hello 278\n",
      "hello 279\n",
      "hello 280\n",
      "hello 281\n",
      "hello 282\n",
      "hello 283\n",
      "hello 284\n",
      "hello 285\n",
      "hello 286\n",
      "hello 287\n",
      "hello 288\n",
      "hello 289\n",
      "hello 290\n",
      "hello 291\n",
      "hello 292\n",
      "hello 293\n",
      "hello 294\n",
      "hello 295\n",
      "hello 296\n",
      "hello 297\n",
      "hello 298\n",
      "hello 299\n",
      "hello 300\n",
      "hello 301\n",
      "hello 302\n",
      "hello 303\n",
      "hello 304\n",
      "hello 305\n",
      "hello 306\n",
      "hello 307\n",
      "hello 308\n",
      "hello 309\n",
      "hello 310\n",
      "hello 311\n",
      "hello 312\n",
      "hello 313\n",
      "hello 314\n",
      "hello 315\n",
      "hello 316\n",
      "hello 317\n",
      "hello 318\n",
      "hello 319\n",
      "hello 320\n",
      "hello 321\n",
      "hello 322\n",
      "hello 323\n",
      "hello 324\n",
      "hello 325\n",
      "hello 326\n",
      "hello 327\n",
      "hello 328\n",
      "hello 329\n",
      "hello 330\n",
      "hello 331\n",
      "hello 332\n",
      "hello 333\n",
      "hello 334\n",
      "hello 335\n",
      "hello 336\n",
      "hello 337\n",
      "hello 338\n",
      "hello 339\n",
      "hello 340\n",
      "hello 341\n",
      "hello 342\n",
      "hello 343\n",
      "hello 344\n",
      "hello 345\n",
      "hello 346\n",
      "hello 347\n",
      "hello 348\n",
      "hello 349\n",
      "hello 350\n",
      "hello 351\n",
      "hello 352\n",
      "hello 353\n",
      "hello 354\n",
      "hello 355\n",
      "hello 356\n",
      "hello 357\n",
      "hello 358\n",
      "hello 359\n",
      "hello 360\n",
      "hello 361\n",
      "hello 362\n",
      "hello 363\n",
      "hello 364\n",
      "hello 365\n",
      "hello 366\n",
      "hello 367\n",
      "hello 368\n",
      "hello 369\n",
      "hello 370\n",
      "hello 371\n",
      "hello 372\n",
      "hello 373\n",
      "hello 374\n",
      "hello 375\n",
      "hello 376\n",
      "hello 377\n",
      "hello 378\n",
      "hello 379\n",
      "hello 380\n",
      "hello 381\n",
      "hello 382\n",
      "hello 383\n",
      "hello 384\n",
      "hello 385\n",
      "hello 386\n",
      "hello 387\n",
      "hello 388\n",
      "hello 389\n",
      "hello 390\n",
      "hello 391\n",
      "hello 392\n",
      "hello 393\n",
      "hello 394\n",
      "hello 395\n",
      "hello 396\n",
      "hello 397\n",
      "hello 398\n",
      "hello 399\n",
      "hello 400\n",
      "hello 401\n",
      "hello 402\n",
      "hello 403\n",
      "hello 404\n",
      "hello 405\n",
      "hello 406\n",
      "hello 407\n",
      "hello 408\n",
      "hello 409\n",
      "hello 410\n",
      "hello 411\n",
      "hello 412\n",
      "hello 413\n",
      "hello 414\n",
      "hello 415\n",
      "hello 416\n",
      "hello 417\n",
      "hello 418\n",
      "hello 419\n",
      "hello 420\n",
      "hello 421\n",
      "hello 422\n",
      "hello 423\n",
      "hello 424\n",
      "hello 425\n",
      "hello 426\n",
      "hello 427\n",
      "hello 428\n",
      "hello 429\n",
      "hello 430\n",
      "hello 431\n",
      "hello 432\n",
      "hello 433\n",
      "hello 434\n",
      "hello 435\n",
      "hello 436\n",
      "hello 437\n",
      "hello 438\n",
      "hello 439\n",
      "hello 440\n",
      "hello 441\n",
      "hello 442\n",
      "hello 443\n",
      "hello 444\n",
      "hello 445\n",
      "hello 446\n",
      "hello 447\n",
      "hello 448\n",
      "hello 449\n",
      "hello 450\n",
      "hello 451\n",
      "hello 452\n",
      "hello 453\n",
      "hello 454\n",
      "hello 455\n",
      "hello 456\n",
      "hello 457\n",
      "hello 458\n",
      "hello 459\n",
      "hello 460\n",
      "hello 461\n",
      "hello 462\n",
      "hello 463\n",
      "hello 464\n",
      "hello 465\n",
      "hello 466\n",
      "hello 467\n",
      "hello 468\n",
      "hello 469\n",
      "hello 470\n",
      "hello 471\n",
      "hello 472\n",
      "hello 473\n",
      "hello 474\n",
      "hello 475\n",
      "hello 476\n",
      "hello 477\n",
      "hello 478\n",
      "hello 479\n",
      "hello 480\n",
      "hello 481\n",
      "hello 482\n",
      "hello 483\n",
      "hello 484\n",
      "hello 485\n",
      "hello 486\n",
      "hello 487\n",
      "hello 488\n",
      "hello 489\n",
      "hello 490\n",
      "hello 491\n",
      "hello 492\n",
      "hello 493\n",
      "hello 494\n",
      "hello 495\n",
      "hello 496\n",
      "hello 497\n",
      "hello 498\n",
      "hello 499\n",
      "hello 500\n",
      "hello 501\n",
      "hello 502\n",
      "hello 503\n",
      "hello 504\n",
      "hello 505\n",
      "hello 506\n",
      "hello 507\n",
      "hello 508\n",
      "hello 509\n",
      "hello 510\n",
      "hello 511\n",
      "hello 512\n",
      "hello 513\n",
      "hello 514\n",
      "hello 515\n",
      "hello 516\n",
      "hello 517\n",
      "hello 518\n",
      "hello 519\n",
      "hello 520\n",
      "hello 521\n",
      "hello 522\n",
      "hello 523\n",
      "hello 524\n",
      "hello 525\n",
      "hello 526\n",
      "hello 527\n",
      "hello 528\n",
      "hello 529\n",
      "hello 530\n",
      "hello 531\n",
      "hello 532\n",
      "hello 533\n",
      "hello 534\n",
      "hello 535\n",
      "hello 536\n",
      "hello 537\n",
      "hello 538\n",
      "hello 539\n",
      "hello 540\n",
      "hello 541\n",
      "hello 542\n",
      "hello 543\n",
      "hello 544\n",
      "hello 545\n",
      "hello 546\n",
      "hello 547\n",
      "hello 548\n",
      "hello 549\n",
      "hello 550\n",
      "hello 551\n",
      "hello 552\n",
      "hello 553\n",
      "hello 554\n",
      "hello 555\n",
      "hello 556\n",
      "hello 557\n",
      "hello 558\n",
      "hello 559\n",
      "hello 560\n",
      "hello 561\n",
      "hello 562\n",
      "hello 563\n",
      "hello 564\n",
      "hello 565\n",
      "hello 566\n",
      "hello 567\n",
      "hello 568\n",
      "hello 569\n",
      "hello 570\n",
      "hello 571\n",
      "hello 572\n",
      "hello 573\n",
      "hello 574\n",
      "hello 575\n",
      "hello 576\n",
      "hello 577\n",
      "hello 578\n",
      "hello 579\n",
      "hello 580\n",
      "hello 581\n",
      "hello 582\n",
      "hello 583\n",
      "hello 584\n",
      "hello 585\n",
      "hello 586\n",
      "hello 587\n",
      "hello 588\n",
      "hello 589\n",
      "hello 590\n",
      "hello 591\n",
      "hello 592\n",
      "hello 593\n",
      "hello 594\n",
      "hello 595\n",
      "hello 596\n",
      "hello 597\n",
      "hello 598\n",
      "hello 599\n",
      "hello 600\n",
      "hello 601\n",
      "hello 602\n",
      "hello 603\n",
      "hello 604\n",
      "hello 605\n",
      "hello 606\n",
      "hello 607\n",
      "hello 608\n",
      "hello 609\n",
      "hello 610\n",
      "hello 611\n",
      "hello 612\n",
      "hello 613\n",
      "hello 614\n",
      "hello 615\n",
      "hello 616\n",
      "hello 617\n",
      "hello 618\n",
      "hello 619\n",
      "hello 620\n",
      "hello 621\n",
      "hello 622\n",
      "hello 623\n",
      "hello 624\n",
      "hello 625\n",
      "hello 626\n",
      "hello 627\n",
      "hello 628\n",
      "hello 629\n",
      "hello 630\n",
      "hello 631\n",
      "hello 632\n",
      "hello 633\n",
      "hello 634\n",
      "hello 635\n",
      "hello 636\n",
      "hello 637\n",
      "hello 638\n",
      "hello 639\n",
      "hello 640\n",
      "hello 641\n",
      "hello 642\n",
      "hello 643\n",
      "hello 644\n",
      "hello 645\n",
      "hello 646\n",
      "hello 647\n",
      "hello 648\n",
      "hello 649\n",
      "hello 650\n",
      "hello 651\n",
      "hello 652\n",
      "hello 653\n",
      "hello 654\n",
      "hello 655\n",
      "hello 656\n",
      "hello 657\n",
      "hello 658\n",
      "hello 659\n",
      "hello 660\n",
      "hello 661\n",
      "hello 662\n",
      "hello 663\n",
      "hello 664\n",
      "hello 665\n",
      "hello 666\n",
      "hello 667\n",
      "hello 668\n",
      "hello 669\n",
      "hello 670\n",
      "hello 671\n",
      "hello 672\n",
      "hello 673\n",
      "hello 674\n",
      "hello 675\n",
      "hello 676\n",
      "hello 677\n",
      "hello 678\n",
      "hello 679\n",
      "hello 680\n",
      "hello 681\n",
      "hello 682\n",
      "hello 683\n",
      "hello 684\n",
      "hello 685\n",
      "hello 686\n",
      "hello 687\n",
      "hello 688\n",
      "hello 689\n",
      "hello 690\n",
      "hello 691\n",
      "hello 692\n",
      "hello 693\n",
      "hello 694\n",
      "hello 695\n",
      "hello 696\n",
      "hello 697\n",
      "hello 698\n",
      "hello 699\n",
      "hello 700\n",
      "hello 701\n",
      "hello 702\n",
      "hello 703\n",
      "hello 704\n",
      "hello 705\n",
      "hello 706\n",
      "hello 707\n",
      "hello 708\n",
      "hello 709\n",
      "hello 710\n",
      "hello 711\n",
      "hello 712\n",
      "hello 713\n",
      "hello 714\n",
      "hello 715\n",
      "hello 716\n",
      "hello 717\n",
      "hello 718\n",
      "hello 719\n",
      "hello 720\n",
      "hello 721\n",
      "hello 722\n",
      "hello 723\n",
      "hello 724\n",
      "hello 725\n",
      "hello 726\n",
      "hello 727\n",
      "hello 728\n",
      "hello 729\n",
      "hello 730\n",
      "hello 731\n",
      "hello 732\n",
      "hello 733\n",
      "hello 734\n",
      "hello 735\n",
      "hello 736\n",
      "hello 737\n",
      "hello 738\n",
      "hello 739\n",
      "hello 740\n",
      "hello 741\n",
      "hello 742\n",
      "hello 743\n",
      "hello 744\n",
      "hello 745\n",
      "hello 746\n",
      "hello 747\n",
      "hello 748\n",
      "hello 749\n",
      "hello 750\n",
      "hello 751\n",
      "hello 752\n",
      "hello 753\n",
      "hello 754\n",
      "hello 755\n",
      "hello 756\n",
      "hello 757\n",
      "hello 758\n",
      "hello 759\n",
      "hello 760\n",
      "hello 761\n",
      "hello 762\n",
      "hello 763\n",
      "hello 764\n",
      "hello 765\n",
      "hello 766\n",
      "hello 767\n",
      "hello 768\n",
      "hello 769\n",
      "hello 770\n",
      "hello 771\n",
      "hello 772\n",
      "hello 773\n",
      "hello 774\n",
      "hello 775\n",
      "hello 776\n",
      "hello 777\n",
      "hello 778\n",
      "hello 779\n",
      "hello 780\n",
      "hello 781\n",
      "hello 782\n",
      "hello 783\n",
      "hello 784\n",
      "hello 785\n",
      "hello 786\n",
      "hello 787\n",
      "hello 788\n",
      "hello 789\n",
      "hello 790\n",
      "hello 791\n",
      "hello 792\n",
      "hello 793\n",
      "hello 794\n",
      "hello 795\n",
      "hello 796\n",
      "hello 797\n",
      "hello 798\n",
      "hello 799\n",
      "hello 800\n",
      "hello 801\n",
      "hello 802\n",
      "hello 803\n",
      "hello 804\n",
      "hello 805\n",
      "hello 806\n",
      "hello 807\n",
      "hello 808\n",
      "hello 809\n",
      "hello 810\n",
      "hello 811\n",
      "hello 812\n",
      "hello 813\n",
      "hello 814\n",
      "hello 815\n",
      "hello 816\n",
      "hello 817\n",
      "hello 818\n",
      "hello 819\n",
      "hello 820\n",
      "hello 821\n",
      "hello 822\n",
      "hello 823\n",
      "hello 824\n",
      "hello 825\n",
      "hello 826\n",
      "hello 827\n",
      "hello 828\n",
      "hello 829\n",
      "hello 830\n",
      "hello 831\n",
      "hello 832\n",
      "hello 833\n",
      "hello 834\n",
      "hello 835\n",
      "hello 836\n",
      "hello 837\n",
      "hello 838\n",
      "hello 839\n",
      "hello 840\n",
      "hello 841\n",
      "hello 842\n",
      "hello 843\n",
      "hello 844\n",
      "hello 845\n",
      "hello 846\n",
      "hello 847\n",
      "hello 848\n",
      "hello 849\n",
      "hello 850\n",
      "hello 851\n",
      "hello 852\n",
      "hello 853\n",
      "hello 854\n",
      "hello 855\n",
      "hello 856\n",
      "hello 857\n",
      "hello 858\n",
      "hello 859\n",
      "hello 860\n",
      "hello 861\n",
      "hello 862\n",
      "hello 863\n",
      "hello 864\n",
      "hello 865\n",
      "hello 866\n",
      "hello 867\n",
      "hello 868\n",
      "hello 869\n",
      "hello 870\n",
      "hello 871\n",
      "hello 872\n",
      "hello 873\n",
      "hello 874\n",
      "hello 875\n",
      "hello 876\n",
      "hello 877\n",
      "hello 878\n",
      "hello 879\n",
      "hello 880\n",
      "hello 881\n",
      "hello 882\n",
      "hello 883\n",
      "hello 884\n",
      "hello 885\n",
      "hello 886\n",
      "hello 887\n",
      "hello 888\n",
      "hello 889\n",
      "hello 890\n",
      "hello 891\n",
      "hello 892\n",
      "hello 893\n",
      "hello 894\n",
      "hello 895\n",
      "hello 896\n",
      "hello 897\n",
      "hello 898\n"
     ]
    },
    {
     "name": "stdout",
     "output_type": "stream",
     "text": [
      "hello 899\n",
      "hello 900\n",
      "hello 901\n",
      "hello 902\n",
      "hello 903\n",
      "hello 904\n",
      "hello 905\n",
      "hello 906\n",
      "hello 907\n",
      "hello 908\n",
      "hello 909\n",
      "hello 910\n",
      "hello 911\n",
      "hello 912\n",
      "hello 913\n",
      "hello 914\n",
      "hello 915\n",
      "hello 916\n",
      "hello 917\n",
      "hello 918\n",
      "hello 919\n",
      "hello 920\n",
      "hello 921\n",
      "hello 922\n",
      "hello 923\n",
      "hello 924\n",
      "hello 925\n",
      "hello 926\n",
      "hello 927\n",
      "hello 928\n",
      "hello 929\n",
      "hello 930\n",
      "hello 931\n",
      "hello 932\n",
      "hello 933\n",
      "hello 934\n",
      "hello 935\n",
      "hello 936\n",
      "hello 937\n",
      "hello 938\n",
      "hello 939\n",
      "hello 940\n",
      "hello 941\n",
      "hello 942\n",
      "hello 943\n",
      "hello 944\n",
      "hello 945\n",
      "hello 946\n",
      "hello 947\n",
      "hello 948\n",
      "hello 949\n",
      "hello 950\n",
      "hello 951\n",
      "hello 952\n",
      "hello 953\n",
      "hello 954\n",
      "hello 955\n",
      "hello 956\n",
      "hello 957\n",
      "hello 958\n",
      "hello 959\n",
      "hello 960\n",
      "hello 961\n",
      "hello 962\n",
      "hello 963\n",
      "hello 964\n",
      "hello 965\n",
      "hello 966\n",
      "hello 967\n",
      "hello 968\n",
      "hello 969\n",
      "hello 970\n",
      "hello 971\n",
      "hello 972\n",
      "hello 973\n",
      "hello 974\n",
      "hello 975\n",
      "hello 976\n",
      "hello 977\n",
      "hello 978\n",
      "hello 979\n",
      "hello 980\n",
      "hello 981\n",
      "hello 982\n",
      "hello 983\n",
      "hello 984\n",
      "hello 985\n",
      "hello 986\n",
      "hello 987\n",
      "hello 988\n",
      "hello 989\n",
      "hello 990\n",
      "hello 991\n",
      "hello 992\n",
      "hello 993\n",
      "hello 994\n",
      "hello 995\n",
      "hello 996\n",
      "hello 997\n",
      "hello 998\n",
      "hello 999\n",
      "hello 1000\n",
      "hello 1001\n",
      "hello 1002\n",
      "hello 1003\n",
      "hello 1004\n",
      "hello 1005\n",
      "hello 1006\n",
      "hello 1007\n",
      "hello 1008\n",
      "hello 1009\n",
      "hello 1010\n",
      "hello 1011\n",
      "hello 1012\n",
      "hello 1013\n",
      "hello 1014\n",
      "hello 1015\n",
      "hello 1016\n",
      "hello 1017\n",
      "hello 1018\n",
      "hello 1019\n",
      "hello 1020\n",
      "hello 1021\n",
      "hello 1022\n",
      "hello 1023\n",
      "hello 1024\n",
      "hello 1025\n",
      "hello 1026\n",
      "hello 1027\n",
      "hello 1028\n",
      "hello 1029\n",
      "hello 1030\n",
      "hello 1031\n",
      "hello 1032\n",
      "hello 1033\n",
      "hello 1034\n",
      "hello 1035\n",
      "hello 1036\n",
      "hello 1037\n",
      "hello 1038\n",
      "hello 1039\n",
      "hello 1040\n",
      "hello 1041\n",
      "hello 1042\n",
      "hello 1043\n",
      "hello 1044\n",
      "hello 1045\n",
      "hello 1046\n",
      "hello 1047\n",
      "hello 1048\n",
      "hello 1049\n",
      "hello 1050\n",
      "hello 1051\n",
      "hello 1052\n",
      "hello 1053\n",
      "hello 1054\n",
      "hello 1055\n",
      "hello 1056\n",
      "hello 1057\n",
      "hello 1058\n",
      "hello 1059\n",
      "hello 1060\n",
      "hello 1061\n",
      "hello 1062\n",
      "hello 1063\n",
      "hello 1064\n",
      "hello 1065\n",
      "hello 1066\n",
      "hello 1067\n",
      "hello 1068\n",
      "hello 1069\n",
      "hello 1070\n",
      "hello 1071\n",
      "hello 1072\n",
      "hello 1073\n",
      "hello 1074\n",
      "hello 1075\n",
      "hello 1076\n",
      "hello 1077\n",
      "hello 1078\n",
      "hello 1079\n",
      "hello 1080\n",
      "hello 1081\n",
      "hello 1082\n",
      "hello 1083\n",
      "hello 1084\n",
      "hello 1085\n",
      "hello 1086\n",
      "hello 1087\n",
      "hello 1088\n",
      "hello 1089\n",
      "hello 1090\n",
      "hello 1091\n",
      "hello 1092\n",
      "hello 1093\n",
      "hello 1094\n",
      "hello 1095\n",
      "hello 1096\n",
      "hello 1097\n",
      "hello 1098\n",
      "hello 1099\n",
      "hello 1100\n",
      "hello 1101\n",
      "hello 1102\n",
      "hello 1103\n",
      "hello 1104\n",
      "hello 1105\n",
      "hello 1106\n",
      "hello 1107\n",
      "hello 1108\n",
      "hello 1109\n",
      "hello 1110\n",
      "hello 1111\n",
      "hello 1112\n",
      "hello 1113\n",
      "hello 1114\n",
      "hello 1115\n",
      "hello 1116\n",
      "hello 1117\n",
      "hello 1118\n",
      "hello 1119\n",
      "hello 1120\n",
      "hello 1121\n",
      "hello 1122\n",
      "hello 1123\n",
      "hello 1124\n",
      "hello 1125\n",
      "hello 1126\n",
      "hello 1127\n",
      "hello 1128\n",
      "hello 1129\n",
      "hello 1130\n",
      "hello 1131\n",
      "hello 1132\n",
      "hello 1133\n",
      "hello 1134\n",
      "hello 1135\n",
      "hello 1136\n",
      "hello 1137\n",
      "hello 1138\n",
      "hello 1139\n",
      "hello 1140\n",
      "hello 1141\n",
      "hello 1142\n",
      "hello 1143\n",
      "hello 1144\n",
      "hello 1145\n",
      "hello 1146\n",
      "hello 1147\n",
      "hello 1148\n",
      "hello 1149\n",
      "hello 1150\n",
      "hello 1151\n",
      "hello 1152\n",
      "hello 1153\n",
      "hello 1154\n",
      "hello 1155\n",
      "hello 1156\n",
      "hello 1157\n",
      "hello 1158\n",
      "hello 1159\n",
      "hello 1160\n",
      "hello 1161\n",
      "hello 1162\n",
      "hello 1163\n",
      "hello 1164\n",
      "hello 1165\n",
      "hello 1166\n",
      "hello 1167\n",
      "hello 1168\n",
      "hello 1169\n",
      "hello 1170\n",
      "hello 1171\n",
      "hello 1172\n",
      "hello 1173\n",
      "hello 1174\n",
      "hello 1175\n",
      "hello 1176\n",
      "hello 1177\n",
      "hello 1178\n",
      "hello 1179\n",
      "hello 1180\n",
      "hello 1181\n",
      "hello 1182\n",
      "hello 1183\n",
      "hello 1184\n",
      "hello 1185\n",
      "hello 1186\n",
      "hello 1187\n",
      "hello 1188\n",
      "hello 1189\n",
      "hello 1190\n",
      "hello 1191\n",
      "hello 1192\n",
      "hello 1193\n",
      "hello 1194\n",
      "hello 1195\n",
      "hello 1196\n",
      "hello 1197\n",
      "hello 1198\n",
      "hello 1199\n",
      "hello 1200\n",
      "hello 1201\n",
      "hello 1202\n",
      "hello 1203\n",
      "hello 1204\n",
      "hello 1205\n",
      "hello 1206\n",
      "hello 1207\n",
      "hello 1208\n",
      "hello 1209\n",
      "hello 1210\n",
      "hello 1211\n",
      "hello 1212\n",
      "hello 1213\n",
      "hello 1214\n",
      "hello 1215\n",
      "hello 1216\n",
      "hello 1217\n",
      "hello 1218\n",
      "hello 1219\n",
      "hello 1220\n",
      "hello 1221\n",
      "hello 1222\n",
      "hello 1223\n",
      "hello 1224\n",
      "hello 1225\n",
      "hello 1226\n",
      "hello 1227\n",
      "hello 1228\n",
      "hello 1229\n",
      "hello 1230\n",
      "hello 1231\n",
      "hello 1232\n",
      "hello 1233\n",
      "hello 1234\n",
      "hello 1235\n",
      "hello 1236\n",
      "hello 1237\n",
      "hello 1238\n",
      "hello 1239\n",
      "hello 1240\n",
      "hello 1241\n",
      "hello 1242\n",
      "hello 1243\n",
      "hello 1244\n",
      "hello 1245\n",
      "hello 1246\n",
      "hello 1247\n",
      "hello 1248\n",
      "hello 1249\n",
      "hello 1250\n",
      "hello 1251\n",
      "hello 1252\n",
      "hello 1253\n",
      "hello 1254\n",
      "hello 1255\n",
      "hello 1256\n",
      "hello 1257\n",
      "hello 1258\n",
      "hello 1259\n",
      "hello 1260\n",
      "hello 1261\n",
      "hello 1262\n",
      "hello 1263\n",
      "hello 1264\n",
      "hello 1265\n",
      "hello 1266\n",
      "hello 1267\n",
      "hello 1268\n",
      "hello 1269\n",
      "hello 1270\n",
      "hello 1271\n",
      "hello 1272\n",
      "hello 1273\n",
      "hello 1274\n",
      "hello 1275\n",
      "hello 1276\n",
      "hello 1277\n",
      "hello 1278\n",
      "hello 1279\n",
      "hello 1280\n",
      "hello 1281\n",
      "hello 1282\n",
      "hello 1283\n",
      "hello 1284\n",
      "hello 1285\n",
      "hello 1286\n",
      "hello 1287\n",
      "hello 1288\n",
      "hello 1289\n",
      "hello 1290\n",
      "hello 1291\n",
      "hello 1292\n",
      "hello 1293\n",
      "hello 1294\n",
      "hello 1295\n",
      "hello 1296\n",
      "hello 1297\n",
      "hello 1298\n",
      "hello 1299\n",
      "hello 1300\n",
      "hello 1301\n",
      "hello 1302\n",
      "hello 1303\n",
      "hello 1304\n",
      "hello 1305\n",
      "hello 1306\n",
      "hello 1307\n",
      "hello 1308\n",
      "hello 1309\n",
      "hello 1310\n",
      "hello 1311\n",
      "hello 1312\n",
      "hello 1313\n",
      "hello 1314\n",
      "hello 1315\n",
      "hello 1316\n",
      "hello 1317\n",
      "hello 1318\n",
      "hello 1319\n",
      "hello 1320\n",
      "hello 1321\n",
      "hello 1322\n",
      "hello 1323\n",
      "hello 1324\n",
      "hello 1325\n",
      "hello 1326\n",
      "hello 1327\n",
      "hello 1328\n",
      "hello 1329\n",
      "hello 1330\n",
      "hello 1331\n",
      "hello 1332\n",
      "hello 1333\n",
      "hello 1334\n",
      "hello 1335\n",
      "hello 1336\n",
      "hello 1337\n",
      "hello 1338\n",
      "hello 1339\n",
      "hello 1340\n",
      "hello 1341\n",
      "hello 1342\n",
      "hello 1343\n",
      "hello 1344\n",
      "hello 1345\n",
      "hello 1346\n",
      "hello 1347\n",
      "hello 1348\n",
      "hello 1349\n",
      "hello 1350\n",
      "hello 1351\n",
      "hello 1352\n",
      "hello 1353\n",
      "hello 1354\n",
      "hello 1355\n",
      "hello 1356\n",
      "hello 1357\n",
      "hello 1358\n",
      "hello 1359\n",
      "hello 1360\n",
      "hello 1361\n",
      "hello 1362\n",
      "hello 1363\n",
      "hello 1364\n",
      "hello 1365\n",
      "hello 1366\n",
      "hello 1367\n",
      "hello 1368\n",
      "hello 1369\n",
      "hello 1370\n",
      "hello 1371\n",
      "hello 1372\n",
      "hello 1373\n",
      "hello 1374\n",
      "hello 1375\n",
      "hello 1376\n",
      "hello 1377\n",
      "hello 1378\n",
      "hello 1379\n",
      "hello 1380\n",
      "hello 1381\n",
      "hello 1382\n",
      "hello 1383\n",
      "hello 1384\n",
      "hello 1385\n",
      "hello 1386\n",
      "hello 1387\n",
      "hello 1388\n",
      "hello 1389\n",
      "hello 1390\n",
      "hello 1391\n",
      "hello 1392\n",
      "hello 1393\n",
      "hello 1394\n",
      "hello 1395\n",
      "hello 1396\n",
      "hello 1397\n",
      "hello 1398\n",
      "hello 1399\n",
      "hello 1400\n",
      "hello 1401\n",
      "hello 1402\n",
      "hello 1403\n",
      "hello 1404\n",
      "hello 1405\n",
      "hello 1406\n",
      "hello 1407\n",
      "hello 1408\n",
      "hello 1409\n",
      "hello 1410\n",
      "hello 1411\n",
      "hello 1412\n",
      "hello 1413\n",
      "hello 1414\n",
      "hello 1415\n",
      "hello 1416\n",
      "hello 1417\n",
      "hello 1418\n",
      "hello 1419\n",
      "hello 1420\n",
      "hello 1421\n",
      "hello 1422\n",
      "hello 1423\n",
      "hello 1424\n",
      "hello 1425\n",
      "hello 1426\n",
      "hello 1427\n",
      "hello 1428\n",
      "hello 1429\n",
      "hello 1430\n",
      "hello 1431\n",
      "hello 1432\n",
      "hello 1433\n",
      "hello 1434\n",
      "hello 1435\n",
      "hello 1436\n",
      "hello 1437\n",
      "hello 1438\n",
      "hello 1439\n",
      "hello 1440\n",
      "hello 1441\n",
      "hello 1442\n",
      "hello 1443\n",
      "hello 1444\n",
      "hello 1445\n",
      "hello 1446\n",
      "hello 1447\n",
      "hello 1448\n",
      "hello 1449\n",
      "hello 1450\n",
      "hello 1451\n",
      "hello 1452\n",
      "hello 1453\n",
      "hello 1454\n",
      "hello 1455\n",
      "hello 1456\n",
      "hello 1457\n",
      "hello 1458\n",
      "hello 1459\n",
      "hello 1460\n",
      "hello 1461\n",
      "hello 1462\n",
      "hello 1463\n",
      "hello 1464\n",
      "hello 1465\n",
      "hello 1466\n",
      "hello 1467\n",
      "hello 1468\n",
      "hello 1469\n",
      "hello 1470\n",
      "hello 1471\n",
      "hello 1472\n",
      "hello 1473\n",
      "hello 1474\n",
      "hello 1475\n",
      "hello 1476\n",
      "hello 1477\n",
      "hello 1478\n",
      "hello 1479\n",
      "hello 1480\n",
      "hello 1481\n",
      "hello 1482\n",
      "hello 1483\n",
      "hello 1484\n",
      "hello 1485\n",
      "hello 1486\n",
      "hello 1487\n",
      "hello 1488\n",
      "hello 1489\n",
      "hello 1490\n",
      "hello 1491\n",
      "hello 1492\n",
      "hello 1493\n",
      "hello 1494\n",
      "hello 1495\n",
      "hello 1496\n",
      "hello 1497\n",
      "hello 1498\n",
      "hello 1499\n",
      "hello 1500\n",
      "hello 1501\n",
      "hello 1502\n",
      "hello 1503\n",
      "hello 1504\n",
      "hello 1505\n",
      "hello 1506\n",
      "hello 1507\n",
      "hello 1508\n",
      "hello 1509\n",
      "hello 1510\n",
      "hello 1511\n",
      "hello 1512\n",
      "hello 1513\n",
      "hello 1514\n",
      "hello 1515\n",
      "hello 1516\n",
      "hello 1517\n",
      "hello 1518\n",
      "hello 1519\n",
      "hello 1520\n",
      "hello 1521\n",
      "hello 1522\n",
      "hello 1523\n",
      "hello 1524\n",
      "hello 1525\n",
      "hello 1526\n",
      "hello 1527\n",
      "hello 1528\n",
      "hello 1529\n",
      "hello 1530\n",
      "hello 1531\n",
      "hello 1532\n",
      "hello 1533\n",
      "hello 1534\n",
      "hello 1535\n",
      "hello 1536\n",
      "hello 1537\n",
      "hello 1538\n",
      "hello 1539\n",
      "hello 1540\n",
      "hello 1541\n",
      "hello 1542\n",
      "hello 1543\n",
      "hello 1544\n",
      "hello 1545\n",
      "hello 1546\n",
      "hello 1547\n",
      "hello 1548\n",
      "hello 1549\n",
      "hello 1550\n",
      "hello 1551\n",
      "hello 1552\n",
      "hello 1553\n",
      "hello 1554\n",
      "hello 1555\n",
      "hello 1556\n",
      "hello 1557\n",
      "hello 1558\n",
      "hello 1559\n",
      "hello 1560\n",
      "hello 1561\n",
      "hello 1562\n",
      "hello 1563\n",
      "hello 1564\n",
      "hello 1565\n",
      "hello 1566\n",
      "hello 1567\n",
      "hello 1568\n",
      "hello 1569\n",
      "hello 1570\n",
      "hello 1571\n",
      "hello 1572\n",
      "hello 1573\n",
      "hello 1574\n",
      "hello 1575\n",
      "hello 1576\n",
      "hello 1577\n",
      "hello 1578\n",
      "hello 1579\n",
      "hello 1580\n",
      "hello 1581\n",
      "hello 1582\n",
      "hello 1583\n",
      "hello 1584\n",
      "hello 1585\n",
      "hello 1586\n",
      "hello 1587\n",
      "hello 1588\n",
      "hello 1589\n",
      "hello 1590\n",
      "hello 1591\n",
      "hello 1592\n",
      "hello 1593\n",
      "hello 1594\n",
      "hello 1595\n",
      "hello 1596\n",
      "hello 1597\n",
      "hello 1598\n",
      "hello 1599\n",
      "hello 1600\n",
      "hello 1601\n",
      "hello 1602\n",
      "hello 1603\n",
      "hello 1604\n",
      "hello 1605\n",
      "hello 1606\n",
      "hello 1607\n",
      "hello 1608\n",
      "hello 1609\n",
      "hello 1610\n",
      "hello 1611\n",
      "hello 1612\n",
      "hello 1613\n",
      "hello 1614\n",
      "hello 1615\n",
      "hello 1616\n",
      "hello 1617\n",
      "hello 1618\n",
      "hello 1619\n",
      "hello 1620\n",
      "hello 1621\n",
      "hello 1622\n",
      "hello 1623\n",
      "hello 1624\n",
      "hello 1625\n",
      "hello 1626\n",
      "hello 1627\n",
      "hello 1628\n",
      "hello 1629\n",
      "hello 1630\n",
      "hello 1631\n",
      "hello 1632\n",
      "hello 1633\n",
      "hello 1634\n",
      "hello 1635\n",
      "hello 1636\n",
      "hello 1637\n",
      "hello 1638\n",
      "hello 1639\n",
      "hello 1640\n",
      "hello 1641\n",
      "hello 1642\n",
      "hello 1643\n",
      "hello 1644\n",
      "hello 1645\n",
      "hello 1646\n",
      "hello 1647\n",
      "hello 1648\n",
      "hello 1649\n",
      "hello 1650\n",
      "hello 1651\n",
      "hello 1652\n",
      "hello 1653\n",
      "hello 1654\n",
      "hello 1655\n",
      "hello 1656\n",
      "hello 1657\n",
      "hello 1658\n",
      "hello 1659\n",
      "hello 1660\n",
      "hello 1661\n",
      "hello 1662\n",
      "hello 1663\n",
      "hello 1664\n",
      "hello 1665\n",
      "hello 1666\n",
      "hello 1667\n",
      "hello 1668\n",
      "hello 1669\n",
      "hello 1670\n",
      "hello 1671\n",
      "hello 1672\n",
      "hello 1673\n",
      "hello 1674\n",
      "hello 1675\n",
      "hello 1676\n",
      "hello 1677\n",
      "hello 1678\n",
      "hello 1679\n",
      "hello 1680\n",
      "hello 1681\n",
      "hello 1682\n",
      "hello 1683\n",
      "hello 1684\n",
      "hello 1685\n",
      "hello 1686\n",
      "hello 1687\n",
      "hello 1688\n",
      "hello 1689\n",
      "hello 1690\n",
      "hello 1691\n",
      "hello 1692\n",
      "hello 1693\n",
      "hello 1694\n",
      "hello 1695\n",
      "hello 1696\n",
      "hello 1697\n",
      "hello 1698\n",
      "hello 1699\n",
      "hello 1700\n",
      "hello 1701\n",
      "hello 1702\n",
      "hello 1703\n",
      "hello 1704\n",
      "hello 1705\n",
      "hello 1706\n",
      "hello 1707\n",
      "hello 1708\n",
      "hello 1709\n",
      "hello 1710\n",
      "hello 1711\n",
      "hello 1712\n",
      "hello 1713\n",
      "hello 1714\n",
      "hello 1715\n",
      "hello 1716\n",
      "hello 1717\n",
      "hello 1718\n",
      "hello 1719\n",
      "hello 1720\n",
      "hello 1721\n",
      "hello 1722\n",
      "hello 1723\n",
      "hello 1724\n",
      "hello 1725\n",
      "hello 1726\n",
      "hello 1727\n",
      "hello 1728\n",
      "hello 1729\n",
      "hello 1730\n",
      "hello 1731\n",
      "hello 1732\n",
      "hello 1733\n",
      "hello 1734\n",
      "hello 1735\n",
      "hello 1736\n",
      "hello 1737\n",
      "hello 1738\n",
      "hello 1739\n",
      "hello 1740\n",
      "hello 1741\n",
      "hello 1742\n",
      "hello 1743\n",
      "hello 1744\n",
      "hello 1745\n",
      "hello 1746\n",
      "hello 1747\n",
      "hello 1748\n",
      "hello 1749\n",
      "hello 1750\n",
      "hello 1751\n",
      "hello 1752\n",
      "hello 1753\n",
      "hello 1754\n",
      "hello 1755\n",
      "hello 1756\n",
      "hello 1757\n",
      "hello 1758\n",
      "hello 1759\n",
      "hello 1760\n",
      "hello 1761\n",
      "hello 1762\n",
      "hello 1763\n",
      "hello 1764\n",
      "hello 1765\n",
      "hello 1766\n",
      "hello 1767\n",
      "hello 1768\n",
      "hello 1769\n",
      "hello 1770\n",
      "hello 1771\n",
      "hello 1772\n",
      "hello 1773\n",
      "hello 1774\n",
      "hello 1775\n",
      "hello 1776\n",
      "hello 1777\n",
      "hello 1778\n",
      "hello 1779\n",
      "hello 1780\n",
      "hello 1781\n",
      "hello 1782\n",
      "hello 1783\n",
      "hello 1784\n",
      "hello 1785\n",
      "hello 1786\n",
      "hello 1787\n",
      "hello 1788\n",
      "hello 1789\n",
      "hello 1790\n",
      "hello 1791\n",
      "hello 1792\n",
      "hello 1793\n",
      "hello 1794\n",
      "hello 1795\n",
      "hello 1796\n",
      "hello 1797\n",
      "hello 1798\n",
      "hello 1799\n",
      "hello 1800\n",
      "hello 1801\n",
      "hello 1802\n",
      "hello 1803\n",
      "hello 1804\n",
      "hello 1805\n",
      "hello 1806\n",
      "hello 1807\n",
      "hello 1808\n",
      "hello 1809\n",
      "hello 1810\n",
      "hello 1811\n",
      "hello 1812\n",
      "hello 1813\n",
      "hello 1814\n",
      "hello 1815\n",
      "hello 1816\n",
      "hello 1817\n",
      "hello 1818\n",
      "hello 1819\n",
      "hello 1820\n",
      "hello 1821\n",
      "hello 1822\n",
      "hello 1823\n",
      "hello 1824\n",
      "hello 1825\n",
      "hello 1826\n",
      "hello 1827\n",
      "hello 1828\n",
      "hello 1829\n",
      "hello 1830\n",
      "hello 1831\n",
      "hello 1832\n",
      "hello 1833\n",
      "hello 1834\n",
      "hello 1835\n",
      "hello 1836\n",
      "hello 1837\n",
      "hello 1838\n",
      "hello 1839\n",
      "hello 1840\n",
      "hello 1841\n",
      "hello 1842\n",
      "hello 1843\n",
      "hello 1844\n",
      "hello 1845\n",
      "hello 1846\n",
      "hello 1847\n",
      "hello 1848\n",
      "hello 1849\n",
      "hello 1850\n",
      "hello 1851\n",
      "hello 1852\n",
      "hello 1853\n",
      "hello 1854\n",
      "hello 1855\n",
      "hello 1856\n",
      "hello 1857\n",
      "hello 1858\n",
      "hello 1859\n",
      "hello 1860\n",
      "hello 1861\n",
      "hello 1862\n",
      "hello 1863\n",
      "hello 1864\n",
      "hello 1865\n",
      "hello 1866\n",
      "hello 1867\n",
      "hello 1868\n",
      "hello 1869\n",
      "hello 1870\n",
      "hello 1871\n",
      "hello 1872\n",
      "hello 1873\n",
      "hello 1874\n",
      "hello 1875\n",
      "hello 1876\n",
      "hello 1877\n",
      "hello 1878\n",
      "hello 1879\n",
      "hello 1880\n",
      "hello 1881\n",
      "hello 1882\n",
      "hello 1883\n",
      "hello 1884\n",
      "hello 1885\n",
      "hello 1886\n",
      "hello 1887\n",
      "hello 1888\n",
      "hello 1889\n",
      "hello 1890\n",
      "hello 1891\n",
      "hello 1892\n",
      "hello 1893\n",
      "hello 1894\n",
      "hello 1895\n",
      "hello 1896\n",
      "hello 1897\n"
     ]
    },
    {
     "name": "stdout",
     "output_type": "stream",
     "text": [
      "hello 1898\n",
      "hello 1899\n",
      "hello 1900\n",
      "hello 1901\n",
      "hello 1902\n",
      "hello 1903\n",
      "hello 1904\n",
      "hello 1905\n",
      "hello 1906\n",
      "hello 1907\n",
      "hello 1908\n",
      "hello 1909\n",
      "hello 1910\n",
      "hello 1911\n",
      "hello 1912\n",
      "hello 1913\n",
      "hello 1914\n",
      "hello 1915\n",
      "hello 1916\n",
      "hello 1917\n",
      "hello 1918\n",
      "hello 1919\n",
      "hello 1920\n",
      "hello 1921\n",
      "hello 1922\n",
      "hello 1923\n",
      "hello 1924\n",
      "hello 1925\n",
      "hello 1926\n",
      "hello 1927\n",
      "hello 1928\n",
      "hello 1929\n",
      "hello 1930\n",
      "hello 1931\n",
      "hello 1932\n",
      "hello 1933\n",
      "hello 1934\n",
      "hello 1935\n",
      "hello 1936\n",
      "hello 1937\n",
      "hello 1938\n",
      "hello 1939\n",
      "hello 1940\n",
      "hello 1941\n",
      "hello 1942\n",
      "hello 1943\n",
      "hello 1944\n",
      "hello 1945\n",
      "hello 1946\n",
      "hello 1947\n",
      "hello 1948\n",
      "hello 1949\n",
      "hello 1950\n",
      "hello 1951\n",
      "hello 1952\n",
      "hello 1953\n",
      "hello 1954\n",
      "hello 1955\n",
      "hello 1956\n",
      "hello 1957\n",
      "hello 1958\n",
      "hello 1959\n",
      "hello 1960\n",
      "hello 1961\n",
      "hello 1962\n",
      "hello 1963\n",
      "hello 1964\n",
      "hello 1965\n",
      "hello 1966\n",
      "hello 1967\n",
      "hello 1968\n",
      "hello 1969\n",
      "hello 1970\n",
      "hello 1971\n",
      "hello 1972\n",
      "hello 1973\n",
      "hello 1974\n",
      "hello 1975\n",
      "hello 1976\n",
      "hello 1977\n",
      "hello 1978\n",
      "hello 1979\n",
      "hello 1980\n",
      "hello 1981\n",
      "hello 1982\n",
      "hello 1983\n",
      "hello 1984\n",
      "hello 1985\n",
      "hello 1986\n",
      "hello 1987\n",
      "hello 1988\n",
      "hello 1989\n",
      "hello 1990\n",
      "hello 1991\n",
      "hello 1992\n",
      "hello 1993\n",
      "hello 1994\n",
      "hello 1995\n",
      "hello 1996\n",
      "hello 1997\n",
      "hello 1998\n",
      "hello 1999\n",
      "hello 2000\n",
      "hello 2001\n",
      "hello 2002\n",
      "hello 2003\n",
      "hello 2004\n",
      "hello 2005\n",
      "hello 2006\n",
      "hello 2007\n",
      "hello 2008\n",
      "hello 2009\n",
      "hello 2010\n",
      "hello 2011\n",
      "hello 2012\n",
      "hello 2013\n",
      "hello 2014\n",
      "hello 2015\n",
      "hello 2016\n",
      "hello 2017\n",
      "hello 2018\n",
      "hello 2019\n",
      "hello 2020\n",
      "hello 2021\n",
      "hello 2022\n",
      "hello 2023\n",
      "hello 2024\n",
      "hello 2025\n",
      "hello 2026\n",
      "hello 2027\n",
      "hello 2028\n",
      "hello 2029\n",
      "hello 2030\n",
      "hello 2031\n",
      "hello 2032\n",
      "hello 2033\n",
      "hello 2034\n",
      "hello 2035\n",
      "hello 2036\n",
      "hello 2037\n",
      "hello 2038\n",
      "hello 2039\n",
      "hello 2040\n",
      "hello 2041\n",
      "hello 2042\n",
      "hello 2043\n",
      "hello 2044\n",
      "hello 2045\n",
      "hello 2046\n",
      "hello 2047\n",
      "hello 2048\n",
      "hello 2049\n",
      "hello 2050\n",
      "hello 2051\n",
      "hello 2052\n",
      "hello 2053\n",
      "hello 2054\n",
      "hello 2055\n",
      "hello 2056\n",
      "hello 2057\n",
      "hello 2058\n",
      "hello 2059\n",
      "hello 2060\n",
      "hello 2061\n",
      "hello 2062\n",
      "hello 2063\n",
      "hello 2064\n",
      "hello 2065\n",
      "hello 2066\n",
      "hello 2067\n",
      "hello 2068\n",
      "hello 2069\n",
      "hello 2070\n",
      "hello 2071\n",
      "hello 2072\n",
      "hello 2073\n",
      "hello 2074\n",
      "hello 2075\n",
      "hello 2076\n",
      "hello 2077\n",
      "hello 2078\n",
      "hello 2079\n",
      "hello 2080\n",
      "hello 2081\n",
      "hello 2082\n",
      "hello 2083\n",
      "hello 2084\n",
      "hello 2085\n",
      "hello 2086\n",
      "hello 2087\n",
      "hello 2088\n",
      "hello 2089\n",
      "hello 2090\n",
      "hello 2091\n",
      "hello 2092\n",
      "hello 2093\n",
      "hello 2094\n",
      "hello 2095\n",
      "hello 2096\n",
      "hello 2097\n",
      "hello 2098\n",
      "hello 2099\n",
      "hello 2100\n",
      "hello 2101\n",
      "hello 2102\n",
      "hello 2103\n",
      "hello 2104\n",
      "hello 2105\n",
      "hello 2106\n",
      "hello 2107\n",
      "hello 2108\n",
      "hello 2109\n",
      "hello 2110\n",
      "hello 2111\n",
      "hello 2112\n",
      "hello 2113\n",
      "hello 2114\n",
      "hello 2115\n",
      "hello 2116\n",
      "hello 2117\n",
      "hello 2118\n",
      "hello 2119\n",
      "hello 2120\n",
      "hello 2121\n",
      "hello 2122\n",
      "hello 2123\n",
      "hello 2124\n",
      "hello 2125\n",
      "hello 2126\n",
      "hello 2127\n",
      "hello 2128\n",
      "hello 2129\n",
      "hello 2130\n",
      "hello 2131\n",
      "hello 2132\n",
      "hello 2133\n",
      "hello 2134\n",
      "hello 2135\n",
      "hello 2136\n",
      "hello 2137\n",
      "hello 2138\n",
      "hello 2139\n",
      "hello 2140\n",
      "hello 2141\n",
      "hello 2142\n",
      "hello 2143\n",
      "hello 2144\n",
      "hello 2145\n",
      "hello 2146\n",
      "hello 2147\n",
      "hello 2148\n",
      "hello 2149\n",
      "hello 2150\n",
      "hello 2151\n",
      "hello 2152\n",
      "hello 2153\n",
      "hello 2154\n",
      "hello 2155\n",
      "hello 2156\n",
      "hello 2157\n",
      "hello 2158\n",
      "hello 2159\n",
      "hello 2160\n",
      "hello 2161\n",
      "hello 2162\n",
      "hello 2163\n",
      "hello 2164\n",
      "hello 2165\n",
      "hello 2166\n",
      "hello 2167\n",
      "hello 2168\n",
      "hello 2169\n",
      "hello 2170\n",
      "hello 2171\n",
      "hello 2172\n",
      "hello 2173\n",
      "hello 2174\n",
      "hello 2175\n",
      "hello 2176\n",
      "hello 2177\n",
      "hello 2178\n",
      "hello 2179\n",
      "hello 2180\n",
      "hello 2181\n",
      "hello 2182\n",
      "hello 2183\n",
      "hello 2184\n",
      "hello 2185\n",
      "hello 2186\n",
      "hello 2187\n",
      "hello 2188\n",
      "hello 2189\n",
      "hello 2190\n",
      "hello 2191\n",
      "hello 2192\n",
      "hello 2193\n",
      "hello 2194\n",
      "hello 2195\n",
      "hello 2196\n",
      "hello 2197\n",
      "hello 2198\n",
      "hello 2199\n",
      "hello 2200\n",
      "hello 2201\n",
      "hello 2202\n",
      "hello 2203\n",
      "hello 2204\n",
      "hello 2205\n",
      "hello 2206\n",
      "hello 2207\n",
      "hello 2208\n",
      "hello 2209\n",
      "hello 2210\n",
      "hello 2211\n",
      "hello 2212\n",
      "hello 2213\n",
      "hello 2214\n",
      "hello 2215\n",
      "hello 2216\n",
      "hello 2217\n",
      "hello 2218\n",
      "hello 2219\n",
      "hello 2220\n",
      "hello 2221\n",
      "hello 2222\n",
      "hello 2223\n",
      "hello 2224\n",
      "hello 2225\n",
      "hello 2226\n",
      "hello 2227\n",
      "hello 2228\n",
      "hello 2229\n",
      "hello 2230\n",
      "hello 2231\n",
      "hello 2232\n",
      "hello 2233\n",
      "hello 2234\n",
      "hello 2235\n",
      "hello 2236\n",
      "hello 2237\n",
      "hello 2238\n",
      "hello 2239\n",
      "hello 2240\n",
      "hello 2241\n",
      "hello 2242\n",
      "hello 2243\n",
      "hello 2244\n",
      "hello 2245\n",
      "hello 2246\n",
      "hello 2247\n",
      "hello 2248\n",
      "hello 2249\n",
      "hello 2250\n",
      "hello 2251\n",
      "hello 2252\n",
      "hello 2253\n",
      "hello 2254\n",
      "hello 2255\n",
      "hello 2256\n",
      "hello 2257\n",
      "hello 2258\n",
      "hello 2259\n",
      "hello 2260\n",
      "hello 2261\n",
      "hello 2262\n",
      "hello 2263\n",
      "hello 2264\n",
      "hello 2265\n",
      "hello 2266\n",
      "hello 2267\n",
      "hello 2268\n",
      "hello 2269\n",
      "hello 2270\n",
      "hello 2271\n",
      "hello 2272\n",
      "hello 2273\n",
      "hello 2274\n",
      "hello 2275\n",
      "hello 2276\n",
      "hello 2277\n",
      "hello 2278\n",
      "hello 2279\n",
      "hello 2280\n",
      "hello 2281\n",
      "hello 2282\n",
      "hello 2283\n",
      "hello 2284\n",
      "hello 2285\n",
      "hello 2286\n",
      "hello 2287\n",
      "hello 2288\n",
      "hello 2289\n",
      "hello 2290\n",
      "hello 2291\n",
      "hello 2292\n",
      "hello 2293\n",
      "hello 2294\n",
      "hello 2295\n",
      "hello 2296\n",
      "hello 2297\n",
      "hello 2298\n",
      "hello 2299\n",
      "hello 2300\n",
      "hello 2301\n",
      "hello 2302\n",
      "hello 2303\n",
      "hello 2304\n",
      "hello 2305\n",
      "hello 2306\n",
      "hello 2307\n",
      "hello 2308\n",
      "hello 2309\n",
      "hello 2310\n",
      "hello 2311\n",
      "hello 2312\n",
      "hello 2313\n",
      "hello 2314\n",
      "hello 2315\n",
      "hello 2316\n",
      "hello 2317\n",
      "hello 2318\n",
      "hello 2319\n",
      "hello 2320\n",
      "hello 2321\n",
      "hello 2322\n",
      "hello 2323\n",
      "hello 2324\n",
      "hello 2325\n",
      "hello 2326\n",
      "hello 2327\n",
      "hello 2328\n",
      "hello 2329\n",
      "hello 2330\n",
      "hello 2331\n",
      "hello 2332\n",
      "hello 2333\n",
      "hello 2334\n",
      "hello 2335\n",
      "hello 2336\n",
      "hello 2337\n",
      "hello 2338\n",
      "hello 2339\n",
      "hello 2340\n",
      "hello 2341\n",
      "hello 2342\n",
      "hello 2343\n",
      "hello 2344\n",
      "hello 2345\n",
      "hello 2346\n",
      "hello 2347\n",
      "hello 2348\n",
      "hello 2349\n",
      "hello 2350\n",
      "hello 2351\n",
      "hello 2352\n",
      "hello 2353\n",
      "hello 2354\n",
      "hello 2355\n",
      "hello 2356\n",
      "hello 2357\n",
      "hello 2358\n",
      "hello 2359\n",
      "hello 2360\n",
      "hello 2361\n",
      "hello 2362\n",
      "hello 2363\n",
      "hello 2364\n",
      "hello 2365\n",
      "hello 2366\n",
      "hello 2367\n",
      "hello 2368\n",
      "hello 2369\n",
      "hello 2370\n",
      "hello 2371\n",
      "hello 2372\n",
      "hello 2373\n",
      "hello 2374\n",
      "hello 2375\n",
      "hello 2376\n",
      "hello 2377\n",
      "hello 2378\n",
      "hello 2379\n",
      "hello 2380\n",
      "hello 2381\n",
      "hello 2382\n",
      "hello 2383\n",
      "hello 2384\n",
      "hello 2385\n",
      "hello 2386\n",
      "hello 2387\n",
      "hello 2388\n",
      "hello 2389\n",
      "hello 2390\n",
      "hello 2391\n",
      "hello 2392\n",
      "hello 2393\n",
      "hello 2394\n",
      "hello 2395\n",
      "hello 2396\n",
      "hello 2397\n",
      "hello 2398\n",
      "hello 2399\n",
      "hello 2400\n",
      "hello 2401\n",
      "hello 2402\n",
      "hello 2403\n",
      "hello 2404\n",
      "hello 2405\n",
      "hello 2406\n",
      "hello 2407\n",
      "hello 2408\n",
      "hello 2409\n",
      "hello 2410\n",
      "hello 2411\n",
      "hello 2412\n",
      "hello 2413\n",
      "hello 2414\n",
      "hello 2415\n",
      "hello 2416\n",
      "hello 2417\n",
      "hello 2418\n",
      "hello 2419\n",
      "hello 2420\n",
      "hello 2421\n",
      "hello 2422\n",
      "hello 2423\n",
      "hello 2424\n",
      "hello 2425\n",
      "hello 2426\n",
      "hello 2427\n",
      "hello 2428\n",
      "hello 2429\n",
      "hello 2430\n",
      "hello 2431\n",
      "hello 2432\n",
      "hello 2433\n",
      "hello 2434\n",
      "hello 2435\n",
      "hello 2436\n",
      "hello 2437\n",
      "hello 2438\n",
      "hello 2439\n",
      "hello 2440\n",
      "hello 2441\n",
      "hello 2442\n",
      "hello 2443\n",
      "hello 2444\n",
      "hello 2445\n",
      "hello 2446\n",
      "hello 2447\n",
      "hello 2448\n",
      "hello 2449\n",
      "hello 2450\n",
      "hello 2451\n",
      "hello 2452\n",
      "hello 2453\n",
      "hello 2454\n",
      "hello 2455\n",
      "hello 2456\n",
      "hello 2457\n",
      "hello 2458\n",
      "hello 2459\n",
      "hello 2460\n",
      "hello 2461\n",
      "hello 2462\n",
      "hello 2463\n",
      "hello 2464\n",
      "hello 2465\n",
      "hello 2466\n",
      "hello 2467\n",
      "hello 2468\n",
      "hello 2469\n",
      "hello 2470\n",
      "hello 2471\n",
      "hello 2472\n",
      "hello 2473\n",
      "hello 2474\n",
      "hello 2475\n",
      "hello 2476\n",
      "hello 2477\n",
      "hello 2478\n",
      "hello 2479\n",
      "hello 2480\n",
      "hello 2481\n",
      "hello 2482\n",
      "hello 2483\n",
      "hello 2484\n",
      "hello 2485\n",
      "hello 2486\n",
      "hello 2487\n",
      "hello 2488\n",
      "hello 2489\n",
      "hello 2490\n",
      "hello 2491\n",
      "hello 2492\n",
      "hello 2493\n",
      "hello 2494\n",
      "hello 2495\n",
      "hello 2496\n",
      "hello 2497\n",
      "hello 2498\n",
      "hello 2499\n",
      "hello 2500\n",
      "hello 2501\n",
      "hello 2502\n",
      "hello 2503\n",
      "hello 2504\n",
      "hello 2505\n",
      "hello 2506\n",
      "hello 2507\n",
      "hello 2508\n",
      "hello 2509\n",
      "hello 2510\n",
      "hello 2511\n",
      "hello 2512\n",
      "hello 2513\n",
      "hello 2514\n",
      "hello 2515\n",
      "hello 2516\n",
      "hello 2517\n",
      "hello 2518\n",
      "hello 2519\n",
      "hello 2520\n",
      "hello 2521\n",
      "hello 2522\n",
      "hello 2523\n",
      "hello 2524\n",
      "hello 2525\n",
      "hello 2526\n",
      "hello 2527\n",
      "hello 2528\n",
      "hello 2529\n",
      "hello 2530\n",
      "hello 2531\n",
      "hello 2532\n",
      "hello 2533\n",
      "hello 2534\n",
      "hello 2535\n",
      "hello 2536\n",
      "hello 2537\n",
      "hello 2538\n",
      "hello 2539\n",
      "hello 2540\n",
      "hello 2541\n",
      "hello 2542\n",
      "hello 2543\n",
      "hello 2544\n",
      "hello 2545\n",
      "hello 2546\n",
      "hello 2547\n",
      "hello 2548\n",
      "hello 2549\n",
      "hello 2550\n",
      "hello 2551\n",
      "hello 2552\n",
      "hello 2553\n",
      "hello 2554\n",
      "hello 2555\n",
      "hello 2556\n",
      "hello 2557\n",
      "hello 2558\n",
      "hello 2559\n",
      "hello 2560\n",
      "hello 2561\n",
      "hello 2562\n",
      "hello 2563\n",
      "hello 2564\n",
      "hello 2565\n",
      "hello 2566\n",
      "hello 2567\n",
      "hello 2568\n",
      "hello 2569\n",
      "hello 2570\n",
      "hello 2571\n",
      "hello 2572\n",
      "hello 2573\n",
      "hello 2574\n",
      "hello 2575\n",
      "hello 2576\n",
      "hello 2577\n",
      "hello 2578\n",
      "hello 2579\n",
      "hello 2580\n",
      "hello 2581\n",
      "hello 2582\n",
      "hello 2583\n",
      "hello 2584\n",
      "hello 2585\n",
      "hello 2586\n",
      "hello 2587\n",
      "hello 2588\n",
      "hello 2589\n",
      "hello 2590\n",
      "hello 2591\n",
      "hello 2592\n",
      "hello 2593\n",
      "hello 2594\n",
      "hello 2595\n",
      "hello 2596\n",
      "hello 2597\n",
      "hello 2598\n",
      "hello 2599\n",
      "hello 2600\n",
      "hello 2601\n",
      "hello 2602\n",
      "hello 2603\n",
      "hello 2604\n",
      "hello 2605\n",
      "hello 2606\n",
      "hello 2607\n",
      "hello 2608\n",
      "hello 2609\n",
      "hello 2610\n",
      "hello 2611\n",
      "hello 2612\n",
      "hello 2613\n",
      "hello 2614\n",
      "hello 2615\n",
      "hello 2616\n",
      "hello 2617\n",
      "hello 2618\n",
      "hello 2619\n",
      "hello 2620\n",
      "hello 2621\n",
      "hello 2622\n",
      "hello 2623\n",
      "hello 2624\n",
      "hello 2625\n",
      "hello 2626\n",
      "hello 2627\n",
      "hello 2628\n",
      "hello 2629\n",
      "hello 2630\n",
      "hello 2631\n",
      "hello 2632\n",
      "hello 2633\n",
      "hello 2634\n",
      "hello 2635\n",
      "hello 2636\n",
      "hello 2637\n",
      "hello 2638\n",
      "hello 2639\n",
      "hello 2640\n",
      "hello 2641\n",
      "hello 2642\n",
      "hello 2643\n",
      "hello 2644\n",
      "hello 2645\n",
      "hello 2646\n"
     ]
    },
    {
     "name": "stdout",
     "output_type": "stream",
     "text": [
      "hello 2647\n",
      "hello 2648\n",
      "hello 2649\n",
      "hello 2650\n",
      "hello 2651\n",
      "hello 2652\n",
      "hello 2653\n",
      "hello 2654\n",
      "hello 2655\n",
      "hello 2656\n",
      "hello 2657\n",
      "hello 2658\n",
      "hello 2659\n",
      "hello 2660\n",
      "hello 2661\n",
      "hello 2662\n",
      "hello 2663\n",
      "hello 2664\n",
      "hello 2665\n",
      "hello 2666\n",
      "hello 2667\n",
      "hello 2668\n",
      "hello 2669\n",
      "hello 2670\n",
      "hello 2671\n",
      "hello 2672\n",
      "hello 2673\n",
      "hello 2674\n",
      "hello 2675\n",
      "hello 2676\n",
      "hello 2677\n",
      "hello 2678\n",
      "hello 2679\n",
      "hello 2680\n",
      "hello 2681\n",
      "hello 2682\n",
      "hello 2683\n",
      "hello 2684\n",
      "hello 2685\n",
      "hello 2686\n",
      "hello 2687\n",
      "hello 2688\n",
      "hello 2689\n",
      "hello 2690\n",
      "hello 2691\n",
      "hello 2692\n",
      "hello 2693\n",
      "hello 2694\n",
      "hello 2695\n",
      "hello 2696\n",
      "hello 2697\n",
      "hello 2698\n",
      "hello 2699\n",
      "hello 2700\n",
      "hello 2701\n",
      "hello 2702\n",
      "hello 2703\n",
      "hello 2704\n",
      "hello 2705\n",
      "hello 2706\n",
      "hello 2707\n",
      "hello 2708\n",
      "hello 2709\n",
      "hello 2710\n",
      "hello 2711\n",
      "hello 2712\n",
      "hello 2713\n",
      "hello 2714\n",
      "hello 2715\n",
      "hello 2716\n",
      "hello 2717\n",
      "hello 2718\n",
      "hello 2719\n",
      "hello 2720\n",
      "hello 2721\n",
      "hello 2722\n",
      "hello 2723\n",
      "hello 2724\n",
      "hello 2725\n",
      "hello 2726\n",
      "hello 2727\n",
      "hello 2728\n",
      "hello 2729\n",
      "hello 2730\n",
      "hello 2731\n",
      "hello 2732\n",
      "hello 2733\n",
      "hello 2734\n",
      "hello 2735\n",
      "hello 2736\n",
      "hello 2737\n",
      "hello 2738\n",
      "hello 2739\n",
      "hello 2740\n",
      "hello 2741\n",
      "hello 2742\n",
      "hello 2743\n",
      "hello 2744\n",
      "hello 2745\n",
      "hello 2746\n",
      "hello 2747\n",
      "hello 2748\n",
      "hello 2749\n",
      "hello 2750\n",
      "hello 2751\n",
      "hello 2752\n",
      "hello 2753\n",
      "hello 2754\n",
      "hello 2755\n",
      "hello 2756\n",
      "hello 2757\n",
      "hello 2758\n",
      "hello 2759\n",
      "hello 2760\n",
      "hello 2761\n",
      "hello 2762\n",
      "hello 2763\n",
      "hello 2764\n",
      "hello 2765\n",
      "hello 2766\n",
      "hello 2767\n",
      "hello 2768\n",
      "hello 2769\n",
      "hello 2770\n",
      "hello 2771\n",
      "hello 2772\n",
      "hello 2773\n",
      "hello 2774\n",
      "hello 2775\n",
      "hello 2776\n",
      "hello 2777\n",
      "hello 2778\n",
      "hello 2779\n",
      "hello 2780\n",
      "hello 2781\n",
      "hello 2782\n",
      "hello 2783\n",
      "hello 2784\n",
      "hello 2785\n",
      "hello 2786\n",
      "hello 2787\n",
      "hello 2788\n",
      "hello 2789\n",
      "hello 2790\n",
      "hello 2791\n",
      "hello 2792\n",
      "hello 2793\n",
      "hello 2794\n",
      "hello 2795\n",
      "hello 2796\n",
      "hello 2797\n",
      "hello 2798\n",
      "hello 2799\n",
      "hello 2800\n",
      "hello 2801\n",
      "hello 2802\n",
      "hello 2803\n",
      "hello 2804\n",
      "hello 2805\n",
      "hello 2806\n",
      "hello 2807\n",
      "hello 2808\n",
      "hello 2809\n",
      "hello 2810\n",
      "hello 2811\n",
      "hello 2812\n",
      "hello 2813\n",
      "hello 2814\n",
      "hello 2815\n",
      "hello 2816\n",
      "hello 2817\n",
      "hello 2818\n",
      "hello 2819\n",
      "hello 2820\n",
      "hello 2821\n",
      "hello 2822\n",
      "hello 2823\n",
      "hello 2824\n",
      "hello 2825\n",
      "hello 2826\n",
      "hello 2827\n",
      "hello 2828\n",
      "hello 2829\n",
      "hello 2830\n",
      "hello 2831\n",
      "hello 2832\n",
      "hello 2833\n",
      "hello 2834\n",
      "hello 2835\n",
      "hello 2836\n",
      "hello 2837\n",
      "hello 2838\n",
      "hello 2839\n",
      "hello 2840\n",
      "hello 2841\n",
      "hello 2842\n",
      "hello 2843\n",
      "hello 2844\n",
      "hello 2845\n",
      "hello 2846\n",
      "hello 2847\n",
      "hello 2848\n",
      "hello 2849\n",
      "hello 2850\n",
      "hello 2851\n",
      "hello 2852\n",
      "hello 2853\n",
      "hello 2854\n",
      "hello 2855\n",
      "hello 2856\n",
      "hello 2857\n",
      "hello 2858\n",
      "hello 2859\n",
      "hello 2860\n",
      "hello 2861\n",
      "hello 2862\n",
      "hello 2863\n",
      "hello 2864\n",
      "hello 2865\n",
      "hello 2866\n",
      "hello 2867\n",
      "hello 2868\n",
      "hello 2869\n",
      "hello 2870\n",
      "hello 2871\n",
      "hello 2872\n",
      "hello 2873\n",
      "hello 2874\n",
      "hello 2875\n",
      "hello 2876\n",
      "hello 2877\n",
      "hello 2878\n",
      "hello 2879\n",
      "hello 2880\n",
      "hello 2881\n",
      "hello 2882\n",
      "hello 2883\n",
      "hello 2884\n",
      "hello 2885\n",
      "hello 2886\n",
      "hello 2887\n",
      "hello 2888\n",
      "hello 2889\n",
      "hello 2890\n",
      "hello 2891\n",
      "hello 2892\n",
      "hello 2893\n",
      "hello 2894\n",
      "hello 2895\n",
      "hello 2896\n",
      "hello 2897\n",
      "hello 2898\n",
      "hello 2899\n",
      "hello 2900\n",
      "hello 2901\n",
      "hello 2902\n",
      "hello 2903\n",
      "hello 2904\n",
      "hello 2905\n",
      "hello 2906\n",
      "hello 2907\n",
      "hello 2908\n",
      "hello 2909\n",
      "hello 2910\n",
      "hello 2911\n",
      "hello 2912\n",
      "hello 2913\n",
      "hello 2914\n",
      "hello 2915\n",
      "hello 2916\n",
      "hello 2917\n",
      "hello 2918\n",
      "hello 2919\n",
      "hello 2920\n",
      "hello 2921\n",
      "hello 2922\n",
      "hello 2923\n",
      "hello 2924\n",
      "hello 2925\n",
      "hello 2926\n",
      "hello 2927\n",
      "hello 2928\n",
      "hello 2929\n",
      "hello 2930\n",
      "hello 2931\n",
      "hello 2932\n",
      "hello 2933\n",
      "hello 2934\n",
      "hello 2935\n",
      "hello 2936\n",
      "hello 2937\n",
      "hello 2938\n",
      "hello 2939\n",
      "hello 2940\n",
      "hello 2941\n",
      "hello 2942\n",
      "hello 2943\n",
      "hello 2944\n",
      "hello 2945\n",
      "hello 2946\n",
      "hello 2947\n",
      "hello 2948\n",
      "hello 2949\n",
      "hello 2950\n",
      "hello 2951\n",
      "hello 2952\n",
      "hello 2953\n",
      "hello 2954\n",
      "hello 2955\n",
      "hello 2956\n",
      "hello 2957\n",
      "hello 2958\n",
      "hello 2959\n",
      "hello 2960\n",
      "hello 2961\n",
      "hello 2962\n",
      "hello 2963\n",
      "hello 2964\n",
      "hello 2965\n",
      "hello 2966\n",
      "hello 2967\n",
      "hello 2968\n",
      "hello 2969\n",
      "hello 2970\n",
      "hello 2971\n",
      "hello 2972\n",
      "hello 2973\n",
      "hello 2974\n",
      "hello 2975\n",
      "hello 2976\n",
      "hello 2977\n",
      "hello 2978\n",
      "hello 2979\n",
      "hello 2980\n",
      "hello 2981\n",
      "hello 2982\n",
      "hello 2983\n",
      "hello 2984\n",
      "hello 2985\n",
      "hello 2986\n",
      "hello 2987\n",
      "hello 2988\n",
      "hello 2989\n",
      "hello 2990\n",
      "hello 2991\n",
      "hello 2992\n",
      "hello 2993\n",
      "hello 2994\n",
      "hello 2995\n",
      "hello 2996\n",
      "hello 2997\n",
      "hello 2998\n",
      "hello 2999\n",
      "hello 3000\n",
      "hello 3001\n",
      "hello 3002\n",
      "hello 3003\n",
      "hello 3004\n",
      "hello 3005\n",
      "hello 3006\n",
      "hello 3007\n",
      "hello 3008\n",
      "hello 3009\n",
      "hello 3010\n",
      "hello 3011\n",
      "hello 3012\n",
      "hello 3013\n",
      "hello 3014\n",
      "hello 3015\n",
      "hello 3016\n",
      "hello 3017\n",
      "hello 3018\n",
      "hello 3019\n",
      "hello 3020\n",
      "hello 3021\n",
      "hello 3022\n",
      "hello 3023\n",
      "hello 3024\n",
      "hello 3025\n",
      "hello 3026\n",
      "hello 3027\n",
      "hello 3028\n",
      "hello 3029\n",
      "hello 3030\n",
      "hello 3031\n",
      "hello 3032\n",
      "hello 3033\n",
      "hello 3034\n",
      "hello 3035\n",
      "hello 3036\n",
      "hello 3037\n",
      "hello 3038\n",
      "hello 3039\n",
      "hello 3040\n",
      "hello 3041\n",
      "hello 3042\n",
      "hello 3043\n",
      "hello 3044\n",
      "hello 3045\n",
      "hello 3046\n",
      "hello 3047\n",
      "hello 3048\n",
      "hello 3049\n",
      "hello 3050\n",
      "hello 3051\n",
      "hello 3052\n",
      "hello 3053\n",
      "hello 3054\n",
      "hello 3055\n",
      "hello 3056\n",
      "hello 3057\n",
      "hello 3058\n",
      "hello 3059\n",
      "hello 3060\n",
      "hello 3061\n",
      "hello 3062\n",
      "hello 3063\n",
      "hello 3064\n",
      "hello 3065\n",
      "hello 3066\n",
      "hello 3067\n",
      "hello 3068\n",
      "hello 3069\n",
      "hello 3070\n",
      "hello 3071\n",
      "hello 3072\n",
      "hello 3073\n",
      "hello 3074\n",
      "hello 3075\n",
      "hello 3076\n",
      "hello 3077\n",
      "hello 3078\n",
      "hello 3079\n",
      "hello 3080\n",
      "hello 3081\n",
      "hello 3082\n",
      "hello 3083\n",
      "hello 3084\n",
      "hello 3085\n",
      "hello 3086\n",
      "hello 3087\n",
      "hello 3088\n",
      "hello 3089\n",
      "hello 3090\n",
      "hello 3091\n",
      "hello 3092\n",
      "hello 3093\n",
      "hello 3094\n",
      "hello 3095\n",
      "hello 3096\n",
      "hello 3097\n",
      "hello 3098\n",
      "hello 3099\n",
      "hello 3100\n",
      "hello 3101\n",
      "hello 3102\n",
      "hello 3103\n",
      "hello 3104\n",
      "hello 3105\n",
      "hello 3106\n",
      "hello 3107\n",
      "hello 3108\n",
      "hello 3109\n",
      "hello 3110\n",
      "hello 3111\n",
      "hello 3112\n",
      "hello 3113\n",
      "hello 3114\n",
      "hello 3115\n",
      "hello 3116\n",
      "hello 3117\n",
      "hello 3118\n",
      "hello 3119\n",
      "hello 3120\n",
      "hello 3121\n",
      "hello 3122\n",
      "hello 3123\n",
      "hello 3124\n",
      "hello 3125\n",
      "hello 3126\n",
      "hello 3127\n",
      "hello 3128\n",
      "hello 3129\n",
      "hello 3130\n",
      "hello 3131\n",
      "hello 3132\n",
      "hello 3133\n",
      "hello 3134\n",
      "hello 3135\n",
      "hello 3136\n",
      "hello 3137\n",
      "hello 3138\n",
      "hello 3139\n",
      "hello 3140\n",
      "hello 3141\n",
      "hello 3142\n",
      "hello 3143\n",
      "hello 3144\n",
      "hello 3145\n",
      "hello 3146\n",
      "hello 3147\n",
      "hello 3148\n",
      "hello 3149\n",
      "hello 3150\n",
      "hello 3151\n",
      "hello 3152\n",
      "hello 3153\n",
      "hello 3154\n",
      "hello 3155\n",
      "hello 3156\n",
      "hello 3157\n",
      "hello 3158\n",
      "hello 3159\n",
      "hello 3160\n",
      "hello 3161\n",
      "hello 3162\n",
      "hello 3163\n",
      "hello 3164\n",
      "hello 3165\n",
      "hello 3166\n",
      "hello 3167\n",
      "hello 3168\n",
      "hello 3169\n",
      "hello 3170\n",
      "hello 3171\n",
      "hello 3172\n",
      "hello 3173\n",
      "hello 3174\n",
      "hello 3175\n",
      "hello 3176\n",
      "hello 3177\n",
      "hello 3178\n",
      "hello 3179\n",
      "hello 3180\n",
      "hello 3181\n",
      "hello 3182\n",
      "hello 3183\n",
      "hello 3184\n",
      "hello 3185\n",
      "hello 3186\n",
      "hello 3187\n",
      "hello 3188\n",
      "hello 3189\n",
      "hello 3190\n",
      "hello 3191\n",
      "hello 3192\n",
      "hello 3193\n",
      "hello 3194\n",
      "hello 3195\n",
      "hello 3196\n",
      "hello 3197\n",
      "hello 3198\n",
      "hello 3199\n",
      "hello 3200\n",
      "hello 3201\n",
      "hello 3202\n",
      "hello 3203\n",
      "hello 3204\n",
      "hello 3205\n",
      "hello 3206\n",
      "hello 3207\n",
      "hello 3208\n",
      "hello 3209\n",
      "hello 3210\n",
      "hello 3211\n",
      "hello 3212\n",
      "hello 3213\n",
      "hello 3214\n",
      "hello 3215\n",
      "hello 3216\n",
      "hello 3217\n",
      "hello 3218\n",
      "hello 3219\n",
      "hello 3220\n",
      "hello 3221\n",
      "hello 3222\n",
      "hello 3223\n",
      "hello 3224\n",
      "hello 3225\n",
      "hello 3226\n",
      "hello 3227\n",
      "hello 3228\n",
      "hello 3229\n",
      "hello 3230\n",
      "hello 3231\n",
      "hello 3232\n",
      "hello 3233\n",
      "hello 3234\n",
      "hello 3235\n",
      "hello 3236\n",
      "hello 3237\n",
      "hello 3238\n",
      "hello 3239\n",
      "hello 3240\n",
      "hello 3241\n",
      "hello 3242\n",
      "hello 3243\n",
      "hello 3244\n",
      "hello 3245\n",
      "hello 3246\n",
      "hello 3247\n",
      "hello 3248\n",
      "hello 3249\n",
      "hello 3250\n",
      "hello 3251\n",
      "hello 3252\n",
      "hello 3253\n",
      "hello 3254\n",
      "hello 3255\n",
      "hello 3256\n",
      "hello 3257\n",
      "hello 3258\n",
      "hello 3259\n",
      "hello 3260\n",
      "hello 3261\n",
      "hello 3262\n",
      "hello 3263\n",
      "hello 3264\n",
      "hello 3265\n",
      "hello 3266\n",
      "hello 3267\n",
      "hello 3268\n",
      "hello 3269\n",
      "hello 3270\n",
      "hello 3271\n",
      "hello 3272\n",
      "hello 3273\n",
      "hello 3274\n",
      "hello 3275\n",
      "hello 3276\n",
      "hello 3277\n",
      "hello 3278\n",
      "hello 3279\n",
      "hello 3280\n",
      "hello 3281\n",
      "hello 3282\n",
      "hello 3283\n",
      "hello 3284\n",
      "hello 3285\n",
      "hello 3286\n",
      "hello 3287\n",
      "hello 3288\n",
      "hello 3289\n",
      "hello 3290\n",
      "hello 3291\n",
      "hello 3292\n",
      "hello 3293\n",
      "hello 3294\n",
      "hello 3295\n",
      "hello 3296\n",
      "hello 3297\n",
      "hello 3298\n",
      "hello 3299\n",
      "hello 3300\n",
      "hello 3301\n",
      "hello 3302\n",
      "hello 3303\n",
      "hello 3304\n",
      "hello 3305\n",
      "hello 3306\n",
      "hello 3307\n",
      "hello 3308\n",
      "hello 3309\n",
      "hello 3310\n",
      "hello 3311\n",
      "hello 3312\n",
      "hello 3313\n",
      "hello 3314\n",
      "hello 3315\n",
      "hello 3316\n",
      "hello 3317\n",
      "hello 3318\n",
      "hello 3319\n",
      "hello 3320\n",
      "hello 3321\n",
      "hello 3322\n",
      "hello 3323\n",
      "hello 3324\n",
      "hello 3325\n",
      "hello 3326\n",
      "hello 3327\n",
      "hello 3328\n",
      "hello 3329\n",
      "hello 3330\n",
      "hello 3331\n",
      "hello 3332\n",
      "hello 3333\n",
      "hello 3334\n",
      "hello 3335\n",
      "hello 3336\n",
      "hello 3337\n",
      "hello 3338\n",
      "hello 3339\n",
      "hello 3340\n",
      "hello 3341\n",
      "hello 3342\n",
      "hello 3343\n",
      "hello 3344\n",
      "hello 3345\n",
      "hello 3346\n",
      "hello 3347\n",
      "hello 3348\n",
      "hello 3349\n",
      "hello 3350\n",
      "hello 3351\n",
      "hello 3352\n",
      "hello 3353\n",
      "hello 3354\n",
      "hello 3355\n",
      "hello 3356\n",
      "hello 3357\n",
      "hello 3358\n",
      "hello 3359\n",
      "hello 3360\n",
      "hello 3361\n",
      "hello 3362\n",
      "hello 3363\n",
      "hello 3364\n",
      "hello 3365\n",
      "hello 3366\n",
      "hello 3367\n",
      "hello 3368\n",
      "hello 3369\n",
      "hello 3370\n",
      "hello 3371\n",
      "hello 3372\n",
      "hello 3373\n",
      "hello 3374\n",
      "hello 3375\n",
      "hello 3376\n",
      "hello 3377\n",
      "hello 3378\n",
      "hello 3379\n",
      "hello 3380\n",
      "hello 3381\n",
      "hello 3382\n",
      "hello 3383\n",
      "hello 3384\n",
      "hello 3385\n",
      "hello 3386\n",
      "hello 3387\n",
      "hello 3388\n",
      "hello 3389\n",
      "hello 3390\n",
      "hello 3391\n",
      "hello 3392\n",
      "hello 3393\n",
      "hello 3394\n",
      "hello 3395\n",
      "hello 3396\n"
     ]
    },
    {
     "name": "stdout",
     "output_type": "stream",
     "text": [
      "hello 3397\n",
      "hello 3398\n",
      "hello 3399\n",
      "hello 3400\n",
      "hello 3401\n",
      "hello 3402\n",
      "hello 3403\n",
      "hello 3404\n",
      "hello 3405\n",
      "hello 3406\n",
      "hello 3407\n",
      "hello 3408\n",
      "hello 3409\n",
      "hello 3410\n",
      "hello 3411\n",
      "hello 3412\n",
      "hello 3413\n",
      "hello 3414\n",
      "hello 3415\n",
      "hello 3416\n",
      "hello 3417\n",
      "hello 3418\n",
      "hello 3419\n",
      "hello 3420\n",
      "hello 3421\n",
      "hello 3422\n",
      "hello 3423\n",
      "hello 3424\n",
      "hello 3425\n",
      "hello 3426\n",
      "hello 3427\n",
      "hello 3428\n",
      "hello 3429\n",
      "hello 3430\n",
      "hello 3431\n",
      "hello 3432\n",
      "hello 3433\n",
      "hello 3434\n",
      "hello 3435\n",
      "hello 3436\n",
      "hello 3437\n",
      "hello 3438\n",
      "hello 3439\n",
      "hello 3440\n",
      "hello 3441\n",
      "hello 3442\n",
      "hello 3443\n",
      "hello 3444\n",
      "hello 3445\n",
      "hello 3446\n",
      "hello 3447\n",
      "hello 3448\n",
      "hello 3449\n",
      "hello 3450\n",
      "hello 3451\n",
      "hello 3452\n",
      "hello 3453\n",
      "hello 3454\n",
      "hello 3455\n",
      "hello 3456\n",
      "hello 3457\n",
      "hello 3458\n",
      "hello 3459\n",
      "hello 3460\n",
      "hello 3461\n",
      "hello 3462\n",
      "hello 3463\n",
      "hello 3464\n",
      "hello 3465\n",
      "hello 3466\n",
      "hello 3467\n",
      "hello 3468\n",
      "hello 3469\n",
      "hello 3470\n",
      "hello 3471\n",
      "hello 3472\n",
      "hello 3473\n",
      "hello 3474\n",
      "hello 3475\n",
      "hello 3476\n",
      "hello 3477\n",
      "hello 3478\n",
      "hello 3479\n",
      "hello 3480\n",
      "hello 3481\n",
      "hello 3482\n",
      "hello 3483\n",
      "hello 3484\n",
      "hello 3485\n",
      "hello 3486\n",
      "hello 3487\n",
      "hello 3488\n",
      "hello 3489\n",
      "hello 3490\n",
      "hello 3491\n",
      "hello 3492\n",
      "hello 3493\n",
      "hello 3494\n",
      "hello 3495\n",
      "hello 3496\n",
      "hello 3497\n",
      "hello 3498\n",
      "hello 3499\n",
      "hello 3500\n",
      "hello 3501\n",
      "hello 3502\n",
      "hello 3503\n",
      "hello 3504\n",
      "hello 3505\n",
      "hello 3506\n",
      "hello 3507\n",
      "hello 3508\n",
      "hello 3509\n",
      "hello 3510\n",
      "hello 3511\n",
      "hello 3512\n",
      "hello 3513\n",
      "hello 3514\n",
      "hello 3515\n",
      "hello 3516\n",
      "hello 3517\n",
      "hello 3518\n",
      "hello 3519\n",
      "hello 3520\n",
      "hello 3521\n",
      "hello 3522\n",
      "hello 3523\n",
      "hello 3524\n",
      "hello 3525\n",
      "hello 3526\n",
      "hello 3527\n",
      "hello 3528\n",
      "hello 3529\n",
      "hello 3530\n",
      "hello 3531\n",
      "hello 3532\n",
      "hello 3533\n",
      "hello 3534\n",
      "hello 3535\n",
      "hello 3536\n",
      "hello 3537\n",
      "hello 3538\n",
      "hello 3539\n",
      "hello 3540\n",
      "hello 3541\n",
      "hello 3542\n",
      "hello 3543\n",
      "hello 3544\n",
      "hello 3545\n",
      "hello 3546\n",
      "hello 3547\n",
      "hello 3548\n",
      "hello 3549\n",
      "hello 3550\n",
      "hello 3551\n",
      "hello 3552\n",
      "hello 3553\n",
      "hello 3554\n",
      "hello 3555\n",
      "hello 3556\n",
      "hello 3557\n",
      "hello 3558\n",
      "hello 3559\n",
      "hello 3560\n",
      "hello 3561\n",
      "hello 3562\n",
      "hello 3563\n",
      "hello 3564\n",
      "hello 3565\n",
      "hello 3566\n",
      "hello 3567\n",
      "hello 3568\n",
      "hello 3569\n",
      "hello 3570\n",
      "hello 3571\n",
      "hello 3572\n",
      "hello 3573\n",
      "hello 3574\n",
      "hello 3575\n",
      "hello 3576\n",
      "hello 3577\n",
      "hello 3578\n",
      "hello 3579\n",
      "hello 3580\n",
      "hello 3581\n",
      "hello 3582\n",
      "hello 3583\n",
      "hello 3584\n",
      "hello 3585\n",
      "hello 3586\n",
      "hello 3587\n",
      "hello 3588\n",
      "hello 3589\n",
      "hello 3590\n",
      "hello 3591\n",
      "hello 3592\n",
      "hello 3593\n",
      "hello 3594\n",
      "hello 3595\n",
      "hello 3596\n",
      "hello 3597\n",
      "hello 3598\n",
      "hello 3599\n",
      "hello 3600\n",
      "hello 3601\n",
      "hello 3602\n",
      "hello 3603\n",
      "hello 3604\n",
      "hello 3605\n",
      "hello 3606\n",
      "hello 3607\n",
      "hello 3608\n",
      "hello 3609\n",
      "hello 3610\n",
      "hello 3611\n",
      "hello 3612\n",
      "hello 3613\n",
      "hello 3614\n",
      "hello 3615\n",
      "hello 3616\n",
      "hello 3617\n",
      "hello 3618\n",
      "hello 3619\n",
      "hello 3620\n",
      "hello 3621\n",
      "hello 3622\n",
      "hello 3623\n",
      "hello 3624\n",
      "hello 3625\n",
      "hello 3626\n",
      "hello 3627\n",
      "hello 3628\n",
      "hello 3629\n",
      "hello 3630\n",
      "hello 3631\n",
      "hello 3632\n",
      "hello 3633\n",
      "hello 3634\n",
      "hello 3635\n",
      "hello 3636\n",
      "hello 3637\n",
      "hello 3638\n",
      "hello 3639\n",
      "hello 3640\n",
      "hello 3641\n",
      "hello 3642\n",
      "hello 3643\n",
      "hello 3644\n",
      "hello 3645\n",
      "hello 3646\n",
      "hello 3647\n",
      "hello 3648\n",
      "hello 3649\n",
      "hello 3650\n",
      "hello 3651\n",
      "hello 3652\n",
      "hello 3653\n",
      "hello 3654\n",
      "hello 3655\n",
      "hello 3656\n",
      "hello 3657\n",
      "hello 3658\n",
      "hello 3659\n",
      "hello 3660\n",
      "hello 3661\n",
      "hello 3662\n",
      "hello 3663\n",
      "hello 3664\n",
      "hello 3665\n",
      "hello 3666\n",
      "hello 3667\n",
      "hello 3668\n",
      "hello 3669\n",
      "hello 3670\n",
      "hello 3671\n",
      "hello 3672\n",
      "hello 3673\n",
      "hello 3674\n",
      "hello 3675\n",
      "hello 3676\n",
      "hello 3677\n",
      "hello 3678\n",
      "hello 3679\n",
      "hello 3680\n",
      "hello 3681\n",
      "hello 3682\n",
      "hello 3683\n",
      "hello 3684\n",
      "hello 3685\n",
      "hello 3686\n",
      "hello 3687\n",
      "hello 3688\n",
      "hello 3689\n",
      "hello 3690\n",
      "hello 3691\n",
      "hello 3692\n",
      "hello 3693\n",
      "hello 3694\n",
      "hello 3695\n",
      "hello 3696\n",
      "hello 3697\n",
      "hello 3698\n",
      "hello 3699\n",
      "hello 3700\n",
      "hello 3701\n",
      "hello 3702\n",
      "hello 3703\n",
      "hello 3704\n",
      "hello 3705\n",
      "hello 3706\n",
      "hello 3707\n",
      "hello 3708\n",
      "hello 3709\n",
      "hello 3710\n",
      "hello 3711\n",
      "hello 3712\n",
      "hello 3713\n",
      "hello 3714\n",
      "hello 3715\n",
      "hello 3716\n",
      "hello 3717\n",
      "hello 3718\n",
      "hello 3719\n",
      "hello 3720\n",
      "hello 3721\n",
      "hello 3722\n",
      "hello 3723\n",
      "hello 3724\n",
      "hello 3725\n",
      "hello 3726\n",
      "hello 3727\n",
      "hello 3728\n",
      "hello 3729\n",
      "hello 3730\n",
      "hello 3731\n",
      "hello 3732\n",
      "hello 3733\n",
      "hello 3734\n",
      "hello 3735\n",
      "hello 3736\n",
      "hello 3737\n",
      "hello 3738\n",
      "hello 3739\n",
      "hello 3740\n",
      "hello 3741\n",
      "hello 3742\n",
      "hello 3743\n",
      "hello 3744\n",
      "hello 3745\n",
      "hello 3746\n",
      "hello 3747\n",
      "hello 3748\n",
      "hello 3749\n",
      "hello 3750\n",
      "hello 3751\n",
      "hello 3752\n",
      "hello 3753\n",
      "hello 3754\n",
      "hello 3755\n",
      "hello 3756\n",
      "hello 3757\n",
      "hello 3758\n",
      "hello 3759\n",
      "hello 3760\n",
      "hello 3761\n",
      "hello 3762\n",
      "hello 3763\n",
      "hello 3764\n",
      "hello 3765\n",
      "hello 3766\n",
      "hello 3767\n",
      "hello 3768\n",
      "hello 3769\n",
      "hello 3770\n",
      "hello 3771\n",
      "hello 3772\n",
      "hello 3773\n",
      "hello 3774\n",
      "hello 3775\n",
      "hello 3776\n",
      "hello 3777\n",
      "hello 3778\n",
      "hello 3779\n",
      "hello 3780\n",
      "hello 3781\n",
      "hello 3782\n",
      "hello 3783\n",
      "hello 3784\n",
      "hello 3785\n",
      "hello 3786\n",
      "hello 3787\n",
      "hello 3788\n",
      "hello 3789\n",
      "hello 3790\n",
      "hello 3791\n",
      "hello 3792\n",
      "hello 3793\n",
      "hello 3794\n",
      "hello 3795\n",
      "hello 3796\n",
      "hello 3797\n",
      "hello 3798\n",
      "hello 3799\n",
      "hello 3800\n",
      "hello 3801\n",
      "hello 3802\n",
      "hello 3803\n",
      "hello 3804\n",
      "hello 3805\n",
      "hello 3806\n",
      "hello 3807\n",
      "hello 3808\n",
      "hello 3809\n",
      "hello 3810\n",
      "hello 3811\n",
      "hello 3812\n",
      "hello 3813\n",
      "hello 3814\n",
      "hello 3815\n",
      "hello 3816\n",
      "hello 3817\n",
      "hello 3818\n",
      "hello 3819\n",
      "hello 3820\n",
      "hello 3821\n",
      "hello 3822\n",
      "hello 3823\n",
      "hello 3824\n",
      "hello 3825\n",
      "hello 3826\n",
      "hello 3827\n",
      "hello 3828\n",
      "hello 3829\n",
      "hello 3830\n",
      "hello 3831\n",
      "hello 3832\n",
      "hello 3833\n",
      "hello 3834\n",
      "hello 3835\n",
      "hello 3836\n",
      "hello 3837\n",
      "hello 3838\n",
      "hello 3839\n",
      "hello 3840\n",
      "hello 3841\n",
      "hello 3842\n",
      "hello 3843\n",
      "hello 3844\n",
      "hello 3845\n",
      "hello 3846\n",
      "hello 3847\n",
      "hello 3848\n",
      "hello 3849\n",
      "hello 3850\n",
      "hello 3851\n",
      "hello 3852\n",
      "hello 3853\n",
      "hello 3854\n",
      "hello 3855\n",
      "hello 3856\n",
      "hello 3857\n",
      "hello 3858\n",
      "hello 3859\n",
      "hello 3860\n",
      "hello 3861\n",
      "hello 3862\n",
      "hello 3863\n",
      "hello 3864\n",
      "hello 3865\n",
      "hello 3866\n",
      "hello 3867\n",
      "hello 3868\n",
      "hello 3869\n",
      "hello 3870\n",
      "hello 3871\n",
      "hello 3872\n",
      "hello 3873\n",
      "hello 3874\n",
      "hello 3875\n",
      "hello 3876\n",
      "hello 3877\n",
      "hello 3878\n",
      "hello 3879\n",
      "hello 3880\n",
      "hello 3881\n",
      "hello 3882\n",
      "hello 3883\n",
      "hello 3884\n",
      "hello 3885\n",
      "hello 3886\n",
      "hello 3887\n",
      "hello 3888\n",
      "hello 3889\n",
      "hello 3890\n",
      "hello 3891\n",
      "hello 3892\n",
      "hello 3893\n",
      "hello 3894\n",
      "hello 3895\n",
      "hello 3896\n",
      "hello 3897\n",
      "hello 3898\n",
      "hello 3899\n",
      "hello 3900\n",
      "hello 3901\n",
      "hello 3902\n",
      "hello 3903\n",
      "hello 3904\n",
      "hello 3905\n",
      "hello 3906\n",
      "hello 3907\n",
      "hello 3908\n",
      "hello 3909\n",
      "hello 3910\n",
      "hello 3911\n",
      "hello 3912\n",
      "hello 3913\n",
      "hello 3914\n",
      "hello 3915\n",
      "hello 3916\n",
      "hello 3917\n",
      "hello 3918\n",
      "hello 3919\n",
      "hello 3920\n",
      "hello 3921\n",
      "hello 3922\n",
      "hello 3923\n",
      "hello 3924\n",
      "hello 3925\n",
      "hello 3926\n",
      "hello 3927\n",
      "hello 3928\n",
      "hello 3929\n",
      "hello 3930\n",
      "hello 3931\n",
      "hello 3932\n",
      "hello 3933\n",
      "hello 3934\n",
      "hello 3935\n",
      "hello 3936\n",
      "hello 3937\n",
      "hello 3938\n",
      "hello 3939\n",
      "hello 3940\n",
      "hello 3941\n",
      "hello 3942\n",
      "hello 3943\n",
      "hello 3944\n",
      "hello 3945\n",
      "hello 3946\n",
      "hello 3947\n",
      "hello 3948\n",
      "hello 3949\n",
      "hello 3950\n",
      "hello 3951\n",
      "hello 3952\n",
      "hello 3953\n",
      "hello 3954\n",
      "hello 3955\n",
      "hello 3956\n",
      "hello 3957\n",
      "hello 3958\n",
      "hello 3959\n",
      "hello 3960\n",
      "hello 3961\n",
      "hello 3962\n",
      "hello 3963\n",
      "hello 3964\n",
      "hello 3965\n",
      "hello 3966\n",
      "hello 3967\n",
      "hello 3968\n",
      "hello 3969\n",
      "hello 3970\n",
      "hello 3971\n",
      "hello 3972\n",
      "hello 3973\n",
      "hello 3974\n",
      "hello 3975\n",
      "hello 3976\n",
      "hello 3977\n",
      "hello 3978\n",
      "hello 3979\n",
      "hello 3980\n",
      "hello 3981\n",
      "hello 3982\n",
      "hello 3983\n",
      "hello 3984\n",
      "hello 3985\n",
      "hello 3986\n",
      "hello 3987\n",
      "hello 3988\n",
      "hello 3989\n",
      "hello 3990\n",
      "hello 3991\n",
      "hello 3992\n",
      "hello 3993\n",
      "hello 3994\n",
      "hello 3995\n",
      "hello 3996\n",
      "hello 3997\n",
      "hello 3998\n",
      "hello 3999\n",
      "hello 4000\n",
      "hello 4001\n",
      "hello 4002\n",
      "hello 4003\n",
      "hello 4004\n",
      "hello 4005\n",
      "hello 4006\n",
      "hello 4007\n",
      "hello 4008\n",
      "hello 4009\n",
      "hello 4010\n",
      "hello 4011\n",
      "hello 4012\n",
      "hello 4013\n",
      "hello 4014\n",
      "hello 4015\n",
      "hello 4016\n",
      "hello 4017\n",
      "hello 4018\n",
      "hello 4019\n",
      "hello 4020\n",
      "hello 4021\n",
      "hello 4022\n",
      "hello 4023\n",
      "hello 4024\n",
      "hello 4025\n",
      "hello 4026\n",
      "hello 4027\n",
      "hello 4028\n",
      "hello 4029\n",
      "hello 4030\n",
      "hello 4031\n",
      "hello 4032\n",
      "hello 4033\n",
      "hello 4034\n",
      "hello 4035\n",
      "hello 4036\n",
      "hello 4037\n",
      "hello 4038\n",
      "hello 4039\n",
      "hello 4040\n",
      "hello 4041\n",
      "hello 4042\n",
      "hello 4043\n",
      "hello 4044\n",
      "hello 4045\n",
      "hello 4046\n",
      "hello 4047\n",
      "hello 4048\n",
      "hello 4049\n",
      "hello 4050\n",
      "hello 4051\n",
      "hello 4052\n",
      "hello 4053\n",
      "hello 4054\n",
      "hello 4055\n",
      "hello 4056\n",
      "hello 4057\n",
      "hello 4058\n",
      "hello 4059\n",
      "hello 4060\n",
      "hello 4061\n",
      "hello 4062\n",
      "hello 4063\n",
      "hello 4064\n",
      "hello 4065\n",
      "hello 4066\n",
      "hello 4067\n",
      "hello 4068\n",
      "hello 4069\n",
      "hello 4070\n",
      "hello 4071\n",
      "hello 4072\n",
      "hello 4073\n",
      "hello 4074\n",
      "hello 4075\n",
      "hello 4076\n",
      "hello 4077\n",
      "hello 4078\n",
      "hello 4079\n",
      "hello 4080\n",
      "hello 4081\n",
      "hello 4082\n",
      "hello 4083\n",
      "hello 4084\n",
      "hello 4085\n",
      "hello 4086\n",
      "hello 4087\n",
      "hello 4088\n",
      "hello 4089\n",
      "hello 4090\n",
      "hello 4091\n",
      "hello 4092\n",
      "hello 4093\n",
      "hello 4094\n",
      "hello 4095\n",
      "hello 4096\n",
      "hello 4097\n",
      "hello 4098\n",
      "hello 4099\n",
      "hello 4100\n",
      "hello 4101\n",
      "hello 4102\n",
      "hello 4103\n",
      "hello 4104\n",
      "hello 4105\n",
      "hello 4106\n",
      "hello 4107\n",
      "hello 4108\n",
      "hello 4109\n",
      "hello 4110\n",
      "hello 4111\n",
      "hello 4112\n",
      "hello 4113\n",
      "hello 4114\n",
      "hello 4115\n",
      "hello 4116\n",
      "hello 4117\n",
      "hello 4118\n",
      "hello 4119\n",
      "hello 4120\n",
      "hello 4121\n",
      "hello 4122\n",
      "hello 4123\n",
      "hello 4124\n",
      "hello 4125\n",
      "hello 4126\n",
      "hello 4127\n",
      "hello 4128\n",
      "hello 4129\n",
      "hello 4130\n",
      "hello 4131\n",
      "hello 4132\n",
      "hello 4133\n",
      "hello 4134\n",
      "hello 4135\n",
      "hello 4136\n",
      "hello 4137\n",
      "hello 4138\n",
      "hello 4139\n",
      "hello 4140\n",
      "hello 4141\n",
      "hello 4142\n",
      "hello 4143\n",
      "hello 4144\n",
      "hello 4145\n"
     ]
    },
    {
     "name": "stdout",
     "output_type": "stream",
     "text": [
      "hello 4146\n",
      "hello 4147\n",
      "hello 4148\n",
      "hello 4149\n",
      "hello 4150\n",
      "hello 4151\n",
      "hello 4152\n",
      "hello 4153\n",
      "hello 4154\n",
      "hello 4155\n",
      "hello 4156\n",
      "hello 4157\n",
      "hello 4158\n",
      "hello 4159\n",
      "hello 4160\n",
      "hello 4161\n",
      "hello 4162\n",
      "hello 4163\n",
      "hello 4164\n",
      "hello 4165\n",
      "hello 4166\n",
      "hello 4167\n",
      "hello 4168\n",
      "hello 4169\n",
      "hello 4170\n",
      "hello 4171\n",
      "hello 4172\n",
      "hello 4173\n",
      "hello 4174\n",
      "hello 4175\n",
      "hello 4176\n",
      "hello 4177\n",
      "hello 4178\n",
      "hello 4179\n",
      "hello 4180\n",
      "hello 4181\n",
      "hello 4182\n",
      "hello 4183\n",
      "hello 4184\n",
      "hello 4185\n",
      "hello 4186\n",
      "hello 4187\n",
      "hello 4188\n",
      "hello 4189\n",
      "hello 4190\n",
      "hello 4191\n",
      "hello 4192\n",
      "hello 4193\n",
      "hello 4194\n",
      "hello 4195\n",
      "hello 4196\n",
      "hello 4197\n",
      "hello 4198\n",
      "hello 4199\n",
      "hello 4200\n",
      "hello 4201\n",
      "hello 4202\n",
      "hello 4203\n",
      "hello 4204\n",
      "hello 4205\n",
      "hello 4206\n",
      "hello 4207\n",
      "hello 4208\n",
      "hello 4209\n",
      "hello 4210\n",
      "hello 4211\n",
      "hello 4212\n",
      "hello 4213\n",
      "hello 4214\n",
      "hello 4215\n",
      "hello 4216\n",
      "hello 4217\n",
      "hello 4218\n",
      "hello 4219\n",
      "hello 4220\n",
      "hello 4221\n",
      "hello 4222\n",
      "hello 4223\n",
      "hello 4224\n",
      "hello 4225\n",
      "hello 4226\n",
      "hello 4227\n",
      "hello 4228\n",
      "hello 4229\n",
      "hello 4230\n",
      "hello 4231\n",
      "hello 4232\n",
      "hello 4233\n",
      "hello 4234\n",
      "hello 4235\n",
      "hello 4236\n",
      "hello 4237\n",
      "hello 4238\n",
      "hello 4239\n",
      "hello 4240\n",
      "hello 4241\n",
      "hello 4242\n",
      "hello 4243\n",
      "hello 4244\n",
      "hello 4245\n",
      "hello 4246\n",
      "hello 4247\n",
      "hello 4248\n",
      "hello 4249\n",
      "hello 4250\n",
      "hello 4251\n",
      "hello 4252\n",
      "hello 4253\n",
      "hello 4254\n",
      "hello 4255\n",
      "hello 4256\n",
      "hello 4257\n",
      "hello 4258\n",
      "hello 4259\n",
      "hello 4260\n",
      "hello 4261\n",
      "hello 4262\n",
      "hello 4263\n",
      "hello 4264\n",
      "hello 4265\n",
      "hello 4266\n",
      "hello 4267\n",
      "hello 4268\n",
      "hello 4269\n",
      "hello 4270\n",
      "hello 4271\n",
      "hello 4272\n",
      "hello 4273\n",
      "hello 4274\n",
      "hello 4275\n",
      "hello 4276\n",
      "hello 4277\n",
      "hello 4278\n",
      "hello 4279\n",
      "hello 4280\n",
      "hello 4281\n",
      "hello 4282\n",
      "hello 4283\n",
      "hello 4284\n",
      "hello 4285\n",
      "hello 4286\n",
      "hello 4287\n",
      "hello 4288\n",
      "hello 4289\n",
      "hello 4290\n",
      "hello 4291\n",
      "hello 4292\n",
      "hello 4293\n",
      "hello 4294\n",
      "hello 4295\n",
      "hello 4296\n",
      "hello 4297\n",
      "hello 4298\n",
      "hello 4299\n",
      "hello 4300\n",
      "hello 4301\n",
      "hello 4302\n",
      "hello 4303\n",
      "hello 4304\n",
      "hello 4305\n",
      "hello 4306\n",
      "hello 4307\n",
      "hello 4308\n",
      "hello 4309\n",
      "hello 4310\n",
      "hello 4311\n",
      "hello 4312\n",
      "hello 4313\n",
      "hello 4314\n",
      "hello 4315\n",
      "hello 4316\n",
      "hello 4317\n",
      "hello 4318\n",
      "hello 4319\n",
      "hello 4320\n",
      "hello 4321\n",
      "hello 4322\n",
      "hello 4323\n",
      "hello 4324\n",
      "hello 4325\n",
      "hello 4326\n",
      "hello 4327\n",
      "hello 4328\n",
      "hello 4329\n",
      "hello 4330\n",
      "hello 4331\n",
      "hello 4332\n",
      "hello 4333\n",
      "hello 4334\n",
      "hello 4335\n",
      "hello 4336\n",
      "hello 4337\n",
      "hello 4338\n",
      "hello 4339\n",
      "hello 4340\n",
      "hello 4341\n",
      "hello 4342\n",
      "hello 4343\n",
      "hello 4344\n",
      "hello 4345\n",
      "hello 4346\n",
      "hello 4347\n",
      "hello 4348\n",
      "hello 4349\n",
      "hello 4350\n",
      "hello 4351\n",
      "hello 4352\n",
      "hello 4353\n",
      "hello 4354\n",
      "hello 4355\n",
      "hello 4356\n",
      "hello 4357\n",
      "hello 4358\n",
      "hello 4359\n",
      "hello 4360\n",
      "hello 4361\n",
      "hello 4362\n",
      "hello 4363\n",
      "hello 4364\n",
      "hello 4365\n",
      "hello 4366\n",
      "hello 4367\n",
      "hello 4368\n",
      "hello 4369\n",
      "hello 4370\n",
      "hello 4371\n",
      "hello 4372\n",
      "hello 4373\n",
      "hello 4374\n",
      "hello 4375\n",
      "hello 4376\n",
      "hello 4377\n",
      "hello 4378\n",
      "hello 4379\n",
      "hello 4380\n",
      "hello 4381\n",
      "hello 4382\n",
      "hello 4383\n",
      "hello 4384\n",
      "hello 4385\n",
      "hello 4386\n",
      "hello 4387\n",
      "hello 4388\n",
      "hello 4389\n",
      "hello 4390\n",
      "hello 4391\n",
      "hello 4392\n",
      "hello 4393\n",
      "hello 4394\n",
      "hello 4395\n",
      "hello 4396\n",
      "hello 4397\n",
      "hello 4398\n",
      "hello 4399\n",
      "hello 4400\n",
      "hello 4401\n",
      "hello 4402\n",
      "hello 4403\n",
      "hello 4404\n",
      "hello 4405\n",
      "hello 4406\n",
      "hello 4407\n",
      "hello 4408\n",
      "hello 4409\n",
      "hello 4410\n",
      "hello 4411\n",
      "hello 4412\n",
      "hello 4413\n",
      "hello 4414\n",
      "hello 4415\n",
      "hello 4416\n",
      "hello 4417\n",
      "hello 4418\n",
      "hello 4419\n",
      "hello 4420\n",
      "hello 4421\n",
      "hello 4422\n",
      "hello 4423\n",
      "hello 4424\n",
      "hello 4425\n",
      "hello 4426\n",
      "hello 4427\n",
      "hello 4428\n",
      "hello 4429\n",
      "hello 4430\n",
      "hello 4431\n",
      "hello 4432\n",
      "hello 4433\n",
      "hello 4434\n",
      "hello 4435\n",
      "hello 4436\n",
      "hello 4437\n",
      "hello 4438\n",
      "hello 4439\n",
      "hello 4440\n",
      "hello 4441\n",
      "hello 4442\n",
      "hello 4443\n",
      "hello 4444\n",
      "hello 4445\n",
      "hello 4446\n",
      "hello 4447\n",
      "hello 4448\n",
      "hello 4449\n",
      "hello 4450\n",
      "hello 4451\n",
      "hello 4452\n",
      "hello 4453\n",
      "hello 4454\n",
      "hello 4455\n",
      "hello 4456\n",
      "hello 4457\n",
      "hello 4458\n",
      "hello 4459\n",
      "hello 4460\n",
      "hello 4461\n",
      "hello 4462\n",
      "hello 4463\n",
      "hello 4464\n",
      "hello 4465\n",
      "hello 4466\n",
      "hello 4467\n",
      "hello 4468\n",
      "hello 4469\n",
      "hello 4470\n",
      "hello 4471\n",
      "hello 4472\n",
      "hello 4473\n",
      "hello 4474\n",
      "hello 4475\n",
      "hello 4476\n",
      "hello 4477\n",
      "hello 4478\n",
      "hello 4479\n",
      "hello 4480\n",
      "hello 4481\n",
      "hello 4482\n",
      "hello 4483\n",
      "hello 4484\n",
      "hello 4485\n",
      "hello 4486\n",
      "hello 4487\n",
      "hello 4488\n",
      "hello 4489\n",
      "hello 4490\n",
      "hello 4491\n",
      "hello 4492\n",
      "hello 4493\n",
      "hello 4494\n",
      "hello 4495\n",
      "hello 4496\n",
      "hello 4497\n",
      "hello 4498\n",
      "hello 4499\n",
      "hello 4500\n",
      "hello 4501\n",
      "hello 4502\n",
      "hello 4503\n",
      "hello 4504\n",
      "hello 4505\n",
      "hello 4506\n",
      "hello 4507\n",
      "hello 4508\n",
      "hello 4509\n",
      "hello 4510\n",
      "hello 4511\n",
      "hello 4512\n",
      "hello 4513\n",
      "hello 4514\n",
      "hello 4515\n",
      "hello 4516\n",
      "hello 4517\n",
      "hello 4518\n",
      "hello 4519\n",
      "hello 4520\n",
      "hello 4521\n",
      "hello 4522\n",
      "hello 4523\n",
      "hello 4524\n",
      "hello 4525\n",
      "hello 4526\n",
      "hello 4527\n",
      "hello 4528\n",
      "hello 4529\n",
      "hello 4530\n",
      "hello 4531\n",
      "hello 4532\n",
      "hello 4533\n",
      "hello 4534\n",
      "hello 4535\n",
      "hello 4536\n",
      "hello 4537\n",
      "hello 4538\n",
      "hello 4539\n",
      "hello 4540\n",
      "hello 4541\n",
      "hello 4542\n",
      "hello 4543\n",
      "hello 4544\n",
      "hello 4545\n",
      "hello 4546\n",
      "hello 4547\n",
      "hello 4548\n",
      "hello 4549\n",
      "hello 4550\n",
      "hello 4551\n",
      "hello 4552\n",
      "hello 4553\n",
      "hello 4554\n",
      "hello 4555\n",
      "hello 4556\n",
      "hello 4557\n",
      "hello 4558\n",
      "hello 4559\n",
      "hello 4560\n",
      "hello 4561\n",
      "hello 4562\n",
      "hello 4563\n",
      "hello 4564\n",
      "hello 4565\n",
      "hello 4566\n",
      "hello 4567\n",
      "hello 4568\n",
      "hello 4569\n",
      "hello 4570\n",
      "hello 4571\n",
      "hello 4572\n",
      "hello 4573\n",
      "hello 4574\n",
      "hello 4575\n",
      "hello 4576\n",
      "hello 4577\n",
      "hello 4578\n",
      "hello 4579\n",
      "hello 4580\n",
      "hello 4581\n",
      "hello 4582\n",
      "hello 4583\n",
      "hello 4584\n",
      "hello 4585\n",
      "hello 4586\n",
      "hello 4587\n",
      "hello 4588\n",
      "hello 4589\n",
      "hello 4590\n",
      "hello 4591\n",
      "hello 4592\n",
      "hello 4593\n",
      "hello 4594\n",
      "hello 4595\n",
      "hello 4596\n",
      "hello 4597\n",
      "hello 4598\n",
      "hello 4599\n",
      "hello 4600\n",
      "hello 4601\n",
      "hello 4602\n",
      "hello 4603\n",
      "hello 4604\n",
      "hello 4605\n",
      "hello 4606\n",
      "hello 4607\n",
      "hello 4608\n",
      "hello 4609\n",
      "hello 4610\n",
      "hello 4611\n",
      "hello 4612\n",
      "hello 4613\n",
      "hello 4614\n",
      "hello 4615\n",
      "hello 4616\n",
      "hello 4617\n",
      "hello 4618\n",
      "hello 4619\n",
      "hello 4620\n",
      "hello 4621\n",
      "hello 4622\n",
      "hello 4623\n",
      "hello 4624\n",
      "hello 4625\n",
      "hello 4626\n",
      "hello 4627\n",
      "hello 4628\n",
      "hello 4629\n",
      "hello 4630\n",
      "hello 4631\n",
      "hello 4632\n",
      "hello 4633\n",
      "hello 4634\n",
      "hello 4635\n",
      "hello 4636\n",
      "hello 4637\n",
      "hello 4638\n",
      "hello 4639\n",
      "hello 4640\n",
      "hello 4641\n",
      "hello 4642\n",
      "hello 4643\n",
      "hello 4644\n",
      "hello 4645\n",
      "hello 4646\n",
      "hello 4647\n",
      "hello 4648\n",
      "hello 4649\n",
      "hello 4650\n",
      "hello 4651\n",
      "hello 4652\n",
      "hello 4653\n",
      "hello 4654\n",
      "hello 4655\n",
      "hello 4656\n",
      "hello 4657\n",
      "hello 4658\n",
      "hello 4659\n",
      "hello 4660\n",
      "hello 4661\n",
      "hello 4662\n",
      "hello 4663\n",
      "hello 4664\n",
      "hello 4665\n",
      "hello 4666\n",
      "hello 4667\n",
      "hello 4668\n",
      "hello 4669\n",
      "hello 4670\n",
      "hello 4671\n",
      "hello 4672\n",
      "hello 4673\n",
      "hello 4674\n",
      "hello 4675\n",
      "hello 4676\n",
      "hello 4677\n",
      "hello 4678\n",
      "hello 4679\n",
      "hello 4680\n",
      "hello 4681\n",
      "hello 4682\n",
      "hello 4683\n",
      "hello 4684\n",
      "hello 4685\n",
      "hello 4686\n",
      "hello 4687\n",
      "hello 4688\n",
      "hello 4689\n",
      "hello 4690\n",
      "hello 4691\n",
      "hello 4692\n",
      "hello 4693\n",
      "hello 4694\n",
      "hello 4695\n",
      "hello 4696\n",
      "hello 4697\n",
      "hello 4698\n",
      "hello 4699\n",
      "hello 4700\n",
      "hello 4701\n",
      "hello 4702\n",
      "hello 4703\n",
      "hello 4704\n",
      "hello 4705\n",
      "hello 4706\n",
      "hello 4707\n",
      "hello 4708\n",
      "hello 4709\n",
      "hello 4710\n",
      "hello 4711\n",
      "hello 4712\n",
      "hello 4713\n",
      "hello 4714\n",
      "hello 4715\n",
      "hello 4716\n",
      "hello 4717\n",
      "hello 4718\n",
      "hello 4719\n",
      "hello 4720\n",
      "hello 4721\n",
      "hello 4722\n",
      "hello 4723\n",
      "hello 4724\n",
      "hello 4725\n",
      "hello 4726\n",
      "hello 4727\n",
      "hello 4728\n",
      "hello 4729\n",
      "hello 4730\n",
      "hello 4731\n",
      "hello 4732\n",
      "hello 4733\n",
      "hello 4734\n",
      "hello 4735\n",
      "hello 4736\n",
      "hello 4737\n",
      "hello 4738\n",
      "hello 4739\n",
      "hello 4740\n",
      "hello 4741\n",
      "hello 4742\n",
      "hello 4743\n",
      "hello 4744\n",
      "hello 4745\n",
      "hello 4746\n",
      "hello 4747\n",
      "hello 4748\n",
      "hello 4749\n",
      "hello 4750\n",
      "hello 4751\n",
      "hello 4752\n",
      "hello 4753\n",
      "hello 4754\n",
      "hello 4755\n",
      "hello 4756\n",
      "hello 4757\n",
      "hello 4758\n",
      "hello 4759\n",
      "hello 4760\n",
      "hello 4761\n",
      "hello 4762\n",
      "hello 4763\n",
      "hello 4764\n",
      "hello 4765\n",
      "hello 4766\n",
      "hello 4767\n",
      "hello 4768\n",
      "hello 4769\n",
      "hello 4770\n",
      "hello 4771\n",
      "hello 4772\n",
      "hello 4773\n",
      "hello 4774\n",
      "hello 4775\n",
      "hello 4776\n",
      "hello 4777\n",
      "hello 4778\n",
      "hello 4779\n",
      "hello 4780\n",
      "hello 4781\n",
      "hello 4782\n",
      "hello 4783\n",
      "hello 4784\n",
      "hello 4785\n",
      "hello 4786\n",
      "hello 4787\n",
      "hello 4788\n",
      "hello 4789\n",
      "hello 4790\n",
      "hello 4791\n",
      "hello 4792\n",
      "hello 4793\n",
      "hello 4794\n",
      "hello 4795\n",
      "hello 4796\n",
      "hello 4797\n",
      "hello 4798\n",
      "hello 4799\n",
      "hello 4800\n",
      "hello 4801\n",
      "hello 4802\n",
      "hello 4803\n",
      "hello 4804\n",
      "hello 4805\n",
      "hello 4806\n",
      "hello 4807\n",
      "hello 4808\n",
      "hello 4809\n",
      "hello 4810\n",
      "hello 4811\n",
      "hello 4812\n",
      "hello 4813\n",
      "hello 4814\n",
      "hello 4815\n",
      "hello 4816\n",
      "hello 4817\n",
      "hello 4818\n",
      "hello 4819\n",
      "hello 4820\n",
      "hello 4821\n",
      "hello 4822\n",
      "hello 4823\n",
      "hello 4824\n",
      "hello 4825\n",
      "hello 4826\n",
      "hello 4827\n",
      "hello 4828\n",
      "hello 4829\n",
      "hello 4830\n",
      "hello 4831\n",
      "hello 4832\n",
      "hello 4833\n",
      "hello 4834\n",
      "hello 4835\n",
      "hello 4836\n",
      "hello 4837\n",
      "hello 4838\n",
      "hello 4839\n",
      "hello 4840\n",
      "hello 4841\n",
      "hello 4842\n",
      "hello 4843\n",
      "hello 4844\n",
      "hello 4845\n",
      "hello 4846\n",
      "hello 4847\n",
      "hello 4848\n",
      "hello 4849\n",
      "hello 4850\n",
      "hello 4851\n",
      "hello 4852\n",
      "hello 4853\n",
      "hello 4854\n",
      "hello 4855\n",
      "hello 4856\n",
      "hello 4857\n",
      "hello 4858\n",
      "hello 4859\n",
      "hello 4860\n",
      "hello 4861\n",
      "hello 4862\n",
      "hello 4863\n",
      "hello 4864\n",
      "hello 4865\n",
      "hello 4866\n",
      "hello 4867\n",
      "hello 4868\n",
      "hello 4869\n",
      "hello 4870\n",
      "hello 4871\n",
      "hello 4872\n",
      "hello 4873\n",
      "hello 4874\n",
      "hello 4875\n",
      "hello 4876\n",
      "hello 4877\n",
      "hello 4878\n",
      "hello 4879\n",
      "hello 4880\n",
      "hello 4881\n",
      "hello 4882\n",
      "hello 4883\n",
      "hello 4884\n",
      "hello 4885\n",
      "hello 4886\n",
      "hello 4887\n",
      "hello 4888\n",
      "hello 4889\n",
      "hello 4890\n",
      "hello 4891\n",
      "hello 4892\n",
      "hello 4893\n",
      "hello 4894\n",
      "hello 4895\n",
      "hello 4896\n",
      "hello 4897\n",
      "hello 4898\n",
      "hello 4899\n",
      "hello 4900\n",
      "hello 4901\n",
      "hello 4902\n",
      "hello 4903\n",
      "hello 4904\n",
      "hello 4905\n",
      "hello 4906\n",
      "hello 4907\n",
      "hello 4908\n",
      "hello 4909\n",
      "hello 4910\n",
      "hello 4911\n",
      "hello 4912\n",
      "hello 4913\n",
      "hello 4914\n",
      "hello 4915\n",
      "hello 4916\n",
      "hello 4917\n",
      "hello 4918\n",
      "hello 4919\n",
      "hello 4920\n",
      "hello 4921\n",
      "hello 4922\n",
      "hello 4923\n",
      "hello 4924\n",
      "hello 4925\n",
      "hello 4926\n",
      "hello 4927\n",
      "hello 4928\n",
      "hello 4929\n",
      "hello 4930\n",
      "hello 4931\n",
      "hello 4932\n",
      "hello 4933\n",
      "hello 4934\n",
      "hello 4935\n",
      "hello 4936\n",
      "hello 4937\n",
      "hello 4938\n",
      "hello 4939\n",
      "hello 4940\n",
      "hello 4941\n",
      "hello 4942\n",
      "hello 4943\n",
      "hello 4944\n",
      "hello 4945\n",
      "hello 4946\n",
      "hello 4947\n",
      "hello 4948\n",
      "hello 4949\n",
      "hello 4950\n",
      "hello 4951\n",
      "hello 4952\n",
      "hello 4953\n",
      "hello 4954\n",
      "hello 4955\n",
      "hello 4956\n",
      "hello 4957\n",
      "hello 4958\n",
      "hello 4959\n",
      "hello 4960\n",
      "hello 4961\n",
      "hello 4962\n",
      "hello 4963\n",
      "hello 4964\n",
      "hello 4965\n",
      "hello 4966\n",
      "hello 4967\n",
      "hello 4968\n",
      "hello 4969\n",
      "hello 4970\n",
      "hello 4971\n",
      "hello 4972\n",
      "hello 4973\n",
      "hello 4974\n",
      "hello 4975\n",
      "hello 4976\n",
      "hello 4977\n",
      "hello 4978\n",
      "hello 4979\n",
      "hello 4980\n",
      "hello 4981\n",
      "hello 4982\n",
      "hello 4983\n",
      "hello 4984\n",
      "hello 4985\n",
      "hello 4986\n",
      "hello 4987\n",
      "hello 4988\n",
      "hello 4989\n",
      "hello 4990\n",
      "hello 4991\n",
      "hello 4992\n",
      "hello 4993\n",
      "hello 4994\n",
      "hello 4995\n",
      "hello 4996\n",
      "hello 4997\n",
      "hello 4998\n",
      "hello 4999\n",
      "hello 5000\n",
      "hello 5001\n",
      "hello 5002\n",
      "hello 5003\n",
      "hello 5004\n",
      "hello 5005\n",
      "hello 5006\n",
      "hello 5007\n",
      "hello 5008\n",
      "hello 5009\n",
      "hello 5010\n",
      "hello 5011\n",
      "hello 5012\n",
      "hello 5013\n",
      "hello 5014\n",
      "hello 5015\n",
      "hello 5016\n",
      "hello 5017\n",
      "hello 5018\n",
      "hello 5019\n",
      "hello 5020\n",
      "hello 5021\n",
      "hello 5022\n",
      "hello 5023\n",
      "hello 5024\n",
      "hello 5025\n",
      "hello 5026\n",
      "hello 5027\n",
      "hello 5028\n",
      "hello 5029\n",
      "hello 5030\n",
      "hello 5031\n",
      "hello 5032\n",
      "hello 5033\n",
      "hello 5034\n",
      "hello 5035\n",
      "hello 5036\n",
      "hello 5037\n",
      "hello 5038\n",
      "hello 5039\n",
      "hello 5040\n",
      "hello 5041\n",
      "hello 5042\n",
      "hello 5043\n",
      "hello 5044\n",
      "hello 5045\n",
      "hello 5046\n",
      "hello 5047\n",
      "hello 5048\n",
      "hello 5049\n",
      "hello 5050\n",
      "hello 5051\n",
      "hello 5052\n",
      "hello 5053\n",
      "hello 5054\n",
      "hello 5055\n",
      "hello 5056\n",
      "hello 5057\n",
      "hello 5058\n",
      "hello 5059\n",
      "hello 5060\n",
      "hello 5061\n",
      "hello 5062\n",
      "hello 5063\n",
      "hello 5064\n",
      "hello 5065\n",
      "hello 5066\n",
      "hello 5067\n",
      "hello 5068\n",
      "hello 5069\n",
      "hello 5070\n",
      "hello 5071\n",
      "hello 5072\n",
      "hello 5073\n",
      "hello 5074\n",
      "hello 5075\n",
      "hello 5076\n",
      "hello 5077\n",
      "hello 5078\n",
      "hello 5079\n",
      "hello 5080\n",
      "hello 5081\n",
      "hello 5082\n",
      "hello 5083\n",
      "hello 5084\n",
      "hello 5085\n",
      "hello 5086\n",
      "hello 5087\n",
      "hello 5088\n",
      "hello 5089\n",
      "hello 5090\n",
      "hello 5091\n",
      "hello 5092\n",
      "hello 5093\n",
      "hello 5094\n",
      "hello 5095\n",
      "hello 5096\n",
      "hello 5097\n",
      "hello 5098\n",
      "hello 5099\n",
      "hello 5100\n",
      "hello 5101\n",
      "hello 5102\n",
      "hello 5103\n",
      "hello 5104\n",
      "hello 5105\n",
      "hello 5106\n",
      "hello 5107\n",
      "hello 5108\n",
      "hello 5109\n",
      "hello 5110\n",
      "hello 5111\n",
      "hello 5112\n",
      "hello 5113\n",
      "hello 5114\n",
      "hello 5115\n",
      "hello 5116\n",
      "hello 5117\n",
      "hello 5118\n",
      "hello 5119\n",
      "hello 5120\n",
      "hello 5121\n",
      "hello 5122\n",
      "hello 5123\n",
      "hello 5124\n",
      "hello 5125\n",
      "hello 5126\n",
      "hello 5127\n",
      "hello 5128\n",
      "hello 5129\n",
      "hello 5130\n",
      "hello 5131\n",
      "hello 5132\n",
      "hello 5133\n",
      "hello 5134\n",
      "hello 5135\n",
      "hello 5136\n",
      "hello 5137\n",
      "hello 5138\n",
      "hello 5139\n",
      "hello 5140\n",
      "hello 5141\n",
      "hello 5142\n",
      "hello 5143\n",
      "hello 5144\n",
      "hello 5145\n"
     ]
    },
    {
     "name": "stdout",
     "output_type": "stream",
     "text": [
      "hello 5146\n",
      "hello 5147\n",
      "hello 5148\n",
      "hello 5149\n",
      "hello 5150\n",
      "hello 5151\n",
      "hello 5152\n",
      "hello 5153\n",
      "hello 5154\n",
      "hello 5155\n",
      "hello 5156\n",
      "hello 5157\n",
      "hello 5158\n",
      "hello 5159\n",
      "hello 5160\n",
      "hello 5161\n",
      "hello 5162\n",
      "hello 5163\n",
      "hello 5164\n",
      "hello 5165\n",
      "hello 5166\n",
      "hello 5167\n",
      "hello 5168\n",
      "hello 5169\n",
      "hello 5170\n",
      "hello 5171\n",
      "hello 5172\n",
      "hello 5173\n",
      "hello 5174\n",
      "hello 5175\n",
      "hello 5176\n",
      "hello 5177\n",
      "hello 5178\n",
      "hello 5179\n",
      "hello 5180\n",
      "hello 5181\n",
      "hello 5182\n",
      "hello 5183\n",
      "hello 5184\n",
      "hello 5185\n",
      "hello 5186\n",
      "hello 5187\n",
      "hello 5188\n",
      "hello 5189\n",
      "hello 5190\n",
      "hello 5191\n",
      "hello 5192\n",
      "hello 5193\n",
      "hello 5194\n",
      "hello 5195\n",
      "hello 5196\n",
      "hello 5197\n",
      "hello 5198\n",
      "hello 5199\n",
      "hello 5200\n",
      "hello 5201\n",
      "hello 5202\n",
      "hello 5203\n",
      "hello 5204\n",
      "hello 5205\n",
      "hello 5206\n",
      "hello 5207\n",
      "hello 5208\n",
      "hello 5209\n",
      "hello 5210\n",
      "hello 5211\n",
      "hello 5212\n",
      "hello 5213\n",
      "hello 5214\n",
      "hello 5215\n",
      "hello 5216\n",
      "hello 5217\n",
      "hello 5218\n",
      "hello 5219\n",
      "hello 5220\n",
      "hello 5221\n",
      "hello 5222\n",
      "hello 5223\n",
      "hello 5224\n",
      "hello 5225\n",
      "hello 5226\n",
      "hello 5227\n",
      "hello 5228\n",
      "hello 5229\n",
      "hello 5230\n",
      "hello 5231\n",
      "hello 5232\n",
      "hello 5233\n",
      "hello 5234\n",
      "hello 5235\n",
      "hello 5236\n",
      "hello 5237\n",
      "hello 5238\n",
      "hello 5239\n",
      "hello 5240\n",
      "hello 5241\n",
      "hello 5242\n",
      "hello 5243\n",
      "hello 5244\n",
      "hello 5245\n",
      "hello 5246\n",
      "hello 5247\n",
      "hello 5248\n",
      "hello 5249\n",
      "hello 5250\n",
      "hello 5251\n",
      "hello 5252\n",
      "hello 5253\n",
      "hello 5254\n",
      "hello 5255\n",
      "hello 5256\n",
      "hello 5257\n",
      "hello 5258\n",
      "hello 5259\n",
      "hello 5260\n",
      "hello 5261\n",
      "hello 5262\n",
      "hello 5263\n",
      "hello 5264\n",
      "hello 5265\n",
      "hello 5266\n",
      "hello 5267\n",
      "hello 5268\n",
      "hello 5269\n",
      "hello 5270\n",
      "hello 5271\n",
      "hello 5272\n",
      "hello 5273\n",
      "hello 5274\n",
      "hello 5275\n",
      "hello 5276\n",
      "hello 5277\n",
      "hello 5278\n",
      "hello 5279\n",
      "hello 5280\n",
      "hello 5281\n",
      "hello 5282\n",
      "hello 5283\n",
      "hello 5284\n",
      "hello 5285\n",
      "hello 5286\n",
      "hello 5287\n",
      "hello 5288\n",
      "hello 5289\n",
      "hello 5290\n",
      "hello 5291\n",
      "hello 5292\n",
      "hello 5293\n",
      "hello 5294\n",
      "hello 5295\n",
      "hello 5296\n",
      "hello 5297\n",
      "hello 5298\n",
      "hello 5299\n",
      "hello 5300\n",
      "hello 5301\n",
      "hello 5302\n",
      "hello 5303\n",
      "hello 5304\n",
      "hello 5305\n",
      "hello 5306\n",
      "hello 5307\n",
      "hello 5308\n",
      "hello 5309\n",
      "hello 5310\n",
      "hello 5311\n",
      "hello 5312\n",
      "hello 5313\n",
      "hello 5314\n",
      "hello 5315\n",
      "hello 5316\n",
      "hello 5317\n",
      "hello 5318\n",
      "hello 5319\n",
      "hello 5320\n",
      "hello 5321\n",
      "hello 5322\n",
      "hello 5323\n",
      "hello 5324\n",
      "hello 5325\n",
      "hello 5326\n",
      "hello 5327\n",
      "hello 5328\n",
      "hello 5329\n",
      "hello 5330\n",
      "hello 5331\n",
      "hello 5332\n",
      "hello 5333\n",
      "hello 5334\n",
      "hello 5335\n",
      "hello 5336\n",
      "hello 5337\n",
      "hello 5338\n",
      "hello 5339\n",
      "hello 5340\n",
      "hello 5341\n",
      "hello 5342\n",
      "hello 5343\n",
      "hello 5344\n",
      "hello 5345\n",
      "hello 5346\n",
      "hello 5347\n",
      "hello 5348\n",
      "hello 5349\n",
      "hello 5350\n",
      "hello 5351\n",
      "hello 5352\n",
      "hello 5353\n",
      "hello 5354\n",
      "hello 5355\n",
      "hello 5356\n",
      "hello 5357\n",
      "hello 5358\n",
      "hello 5359\n",
      "hello 5360\n",
      "hello 5361\n",
      "hello 5362\n",
      "hello 5363\n",
      "hello 5364\n",
      "hello 5365\n",
      "hello 5366\n",
      "hello 5367\n",
      "hello 5368\n",
      "hello 5369\n",
      "hello 5370\n",
      "hello 5371\n",
      "hello 5372\n",
      "hello 5373\n",
      "hello 5374\n",
      "hello 5375\n",
      "hello 5376\n",
      "hello 5377\n",
      "hello 5378\n",
      "hello 5379\n",
      "hello 5380\n",
      "hello 5381\n",
      "hello 5382\n",
      "hello 5383\n",
      "hello 5384\n",
      "hello 5385\n",
      "hello 5386\n",
      "hello 5387\n",
      "hello 5388\n",
      "hello 5389\n",
      "hello 5390\n",
      "hello 5391\n",
      "hello 5392\n",
      "hello 5393\n",
      "hello 5394\n",
      "hello 5395\n",
      "hello 5396\n",
      "hello 5397\n",
      "hello 5398\n",
      "hello 5399\n",
      "hello 5400\n",
      "hello 5401\n",
      "hello 5402\n",
      "hello 5403\n",
      "hello 5404\n",
      "hello 5405\n",
      "hello 5406\n",
      "hello 5407\n",
      "hello 5408\n",
      "hello 5409\n",
      "hello 5410\n",
      "hello 5411\n",
      "hello 5412\n",
      "hello 5413\n",
      "hello 5414\n",
      "hello 5415\n",
      "hello 5416\n",
      "hello 5417\n",
      "hello 5418\n",
      "hello 5419\n",
      "hello 5420\n",
      "hello 5421\n",
      "hello 5422\n",
      "hello 5423\n",
      "hello 5424\n",
      "hello 5425\n",
      "hello 5426\n",
      "hello 5427\n",
      "hello 5428\n",
      "hello 5429\n",
      "hello 5430\n",
      "hello 5431\n",
      "hello 5432\n",
      "hello 5433\n",
      "hello 5434\n",
      "hello 5435\n",
      "hello 5436\n",
      "hello 5437\n",
      "hello 5438\n",
      "hello 5439\n",
      "hello 5440\n",
      "hello 5441\n",
      "hello 5442\n",
      "hello 5443\n",
      "hello 5444\n",
      "hello 5445\n",
      "hello 5446\n",
      "hello 5447\n",
      "hello 5448\n",
      "hello 5449\n",
      "hello 5450\n",
      "hello 5451\n",
      "hello 5452\n",
      "hello 5453\n",
      "hello 5454\n",
      "hello 5455\n",
      "hello 5456\n",
      "hello 5457\n",
      "hello 5458\n",
      "hello 5459\n",
      "hello 5460\n",
      "hello 5461\n",
      "hello 5462\n",
      "hello 5463\n",
      "hello 5464\n",
      "hello 5465\n",
      "hello 5466\n",
      "hello 5467\n",
      "hello 5468\n",
      "hello 5469\n",
      "hello 5470\n",
      "hello 5471\n",
      "hello 5472\n",
      "hello 5473\n",
      "hello 5474\n",
      "hello 5475\n",
      "hello 5476\n",
      "hello 5477\n",
      "hello 5478\n",
      "hello 5479\n",
      "hello 5480\n",
      "hello 5481\n",
      "hello 5482\n",
      "hello 5483\n",
      "hello 5484\n",
      "hello 5485\n",
      "hello 5486\n",
      "hello 5487\n",
      "hello 5488\n",
      "hello 5489\n",
      "hello 5490\n",
      "hello 5491\n",
      "hello 5492\n",
      "hello 5493\n",
      "hello 5494\n",
      "hello 5495\n",
      "hello 5496\n",
      "hello 5497\n",
      "hello 5498\n",
      "hello 5499\n",
      "hello 5500\n",
      "hello 5501\n",
      "hello 5502\n",
      "hello 5503\n",
      "hello 5504\n",
      "hello 5505\n",
      "hello 5506\n",
      "hello 5507\n",
      "hello 5508\n",
      "hello 5509\n",
      "hello 5510\n",
      "hello 5511\n",
      "hello 5512\n",
      "hello 5513\n",
      "hello 5514\n",
      "hello 5515\n",
      "hello 5516\n",
      "hello 5517\n",
      "hello 5518\n",
      "hello 5519\n",
      "hello 5520\n",
      "hello 5521\n",
      "hello 5522\n",
      "hello 5523\n",
      "hello 5524\n",
      "hello 5525\n",
      "hello 5526\n",
      "hello 5527\n",
      "hello 5528\n",
      "hello 5529\n",
      "hello 5530\n",
      "hello 5531\n",
      "hello 5532\n",
      "hello 5533\n",
      "hello 5534\n",
      "hello 5535\n",
      "hello 5536\n",
      "hello 5537\n",
      "hello 5538\n",
      "hello 5539\n",
      "hello 5540\n",
      "hello 5541\n",
      "hello 5542\n",
      "hello 5543\n",
      "hello 5544\n",
      "hello 5545\n",
      "hello 5546\n",
      "hello 5547\n",
      "hello 5548\n",
      "hello 5549\n",
      "hello 5550\n",
      "hello 5551\n",
      "hello 5552\n",
      "hello 5553\n",
      "hello 5554\n",
      "hello 5555\n",
      "hello 5556\n",
      "hello 5557\n",
      "hello 5558\n",
      "hello 5559\n",
      "hello 5560\n",
      "hello 5561\n",
      "hello 5562\n",
      "hello 5563\n",
      "hello 5564\n",
      "hello 5565\n",
      "hello 5566\n",
      "hello 5567\n",
      "hello 5568\n",
      "hello 5569\n",
      "hello 5570\n",
      "hello 5571\n",
      "hello 5572\n",
      "hello 5573\n",
      "hello 5574\n",
      "hello 5575\n",
      "hello 5576\n",
      "hello 5577\n",
      "hello 5578\n",
      "hello 5579\n",
      "hello 5580\n",
      "hello 5581\n",
      "hello 5582\n",
      "hello 5583\n",
      "hello 5584\n",
      "hello 5585\n",
      "hello 5586\n",
      "hello 5587\n",
      "hello 5588\n",
      "hello 5589\n",
      "hello 5590\n",
      "hello 5591\n",
      "hello 5592\n",
      "hello 5593\n",
      "hello 5594\n",
      "hello 5595\n",
      "hello 5596\n",
      "hello 5597\n",
      "hello 5598\n",
      "hello 5599\n",
      "hello 5600\n",
      "hello 5601\n",
      "hello 5602\n",
      "hello 5603\n",
      "hello 5604\n",
      "hello 5605\n",
      "hello 5606\n",
      "hello 5607\n",
      "hello 5608\n",
      "hello 5609\n",
      "hello 5610\n",
      "hello 5611\n",
      "hello 5612\n",
      "hello 5613\n",
      "hello 5614\n",
      "hello 5615\n",
      "hello 5616\n",
      "hello 5617\n",
      "hello 5618\n",
      "hello 5619\n",
      "hello 5620\n",
      "hello 5621\n",
      "hello 5622\n",
      "hello 5623\n",
      "hello 5624\n",
      "hello 5625\n",
      "hello 5626\n",
      "hello 5627\n",
      "hello 5628\n",
      "hello 5629\n",
      "hello 5630\n",
      "hello 5631\n",
      "hello 5632\n",
      "hello 5633\n",
      "hello 5634\n",
      "hello 5635\n",
      "hello 5636\n",
      "hello 5637\n",
      "hello 5638\n",
      "hello 5639\n",
      "hello 5640\n",
      "hello 5641\n",
      "hello 5642\n",
      "hello 5643\n",
      "hello 5644\n",
      "hello 5645\n",
      "hello 5646\n",
      "hello 5647\n",
      "hello 5648\n",
      "hello 5649\n",
      "hello 5650\n",
      "hello 5651\n",
      "hello 5652\n",
      "hello 5653\n",
      "hello 5654\n",
      "hello 5655\n",
      "hello 5656\n",
      "hello 5657\n",
      "hello 5658\n",
      "hello 5659\n",
      "hello 5660\n",
      "hello 5661\n",
      "hello 5662\n",
      "hello 5663\n",
      "hello 5664\n",
      "hello 5665\n",
      "hello 5666\n",
      "hello 5667\n",
      "hello 5668\n",
      "hello 5669\n",
      "hello 5670\n",
      "hello 5671\n",
      "hello 5672\n",
      "hello 5673\n",
      "hello 5674\n",
      "hello 5675\n",
      "hello 5676\n",
      "hello 5677\n",
      "hello 5678\n",
      "hello 5679\n",
      "hello 5680\n",
      "hello 5681\n",
      "hello 5682\n",
      "hello 5683\n",
      "hello 5684\n",
      "hello 5685\n",
      "hello 5686\n",
      "hello 5687\n",
      "hello 5688\n",
      "hello 5689\n",
      "hello 5690\n",
      "hello 5691\n",
      "hello 5692\n",
      "hello 5693\n",
      "hello 5694\n",
      "hello 5695\n",
      "hello 5696\n",
      "hello 5697\n",
      "hello 5698\n",
      "hello 5699\n",
      "hello 5700\n",
      "hello 5701\n",
      "hello 5702\n",
      "hello 5703\n",
      "hello 5704\n",
      "hello 5705\n",
      "hello 5706\n",
      "hello 5707\n",
      "hello 5708\n",
      "hello 5709\n",
      "hello 5710\n",
      "hello 5711\n",
      "hello 5712\n",
      "hello 5713\n",
      "hello 5714\n",
      "hello 5715\n",
      "hello 5716\n",
      "hello 5717\n",
      "hello 5718\n",
      "hello 5719\n",
      "hello 5720\n",
      "hello 5721\n",
      "hello 5722\n",
      "hello 5723\n",
      "hello 5724\n",
      "hello 5725\n",
      "hello 5726\n",
      "hello 5727\n",
      "hello 5728\n",
      "hello 5729\n",
      "hello 5730\n",
      "hello 5731\n",
      "hello 5732\n",
      "hello 5733\n",
      "hello 5734\n",
      "hello 5735\n",
      "hello 5736\n",
      "hello 5737\n",
      "hello 5738\n",
      "hello 5739\n",
      "hello 5740\n",
      "hello 5741\n",
      "hello 5742\n",
      "hello 5743\n",
      "hello 5744\n",
      "hello 5745\n",
      "hello 5746\n",
      "hello 5747\n",
      "hello 5748\n",
      "hello 5749\n",
      "hello 5750\n",
      "hello 5751\n",
      "hello 5752\n",
      "hello 5753\n",
      "hello 5754\n",
      "hello 5755\n",
      "hello 5756\n",
      "hello 5757\n",
      "hello 5758\n",
      "hello 5759\n",
      "hello 5760\n",
      "hello 5761\n",
      "hello 5762\n",
      "hello 5763\n",
      "hello 5764\n",
      "hello 5765\n",
      "hello 5766\n",
      "hello 5767\n",
      "hello 5768\n",
      "hello 5769\n",
      "hello 5770\n",
      "hello 5771\n",
      "hello 5772\n",
      "hello 5773\n",
      "hello 5774\n",
      "hello 5775\n",
      "hello 5776\n",
      "hello 5777\n",
      "hello 5778\n",
      "hello 5779\n",
      "hello 5780\n",
      "hello 5781\n",
      "hello 5782\n",
      "hello 5783\n",
      "hello 5784\n",
      "hello 5785\n",
      "hello 5786\n",
      "hello 5787\n",
      "hello 5788\n",
      "hello 5789\n",
      "hello 5790\n",
      "hello 5791\n",
      "hello 5792\n",
      "hello 5793\n",
      "hello 5794\n",
      "hello 5795\n",
      "hello 5796\n",
      "hello 5797\n",
      "hello 5798\n",
      "hello 5799\n",
      "hello 5800\n",
      "hello 5801\n",
      "hello 5802\n",
      "hello 5803\n",
      "hello 5804\n",
      "hello 5805\n",
      "hello 5806\n",
      "hello 5807\n",
      "hello 5808\n",
      "hello 5809\n",
      "hello 5810\n",
      "hello 5811\n",
      "hello 5812\n",
      "hello 5813\n",
      "hello 5814\n",
      "hello 5815\n",
      "hello 5816\n",
      "hello 5817\n",
      "hello 5818\n",
      "hello 5819\n",
      "hello 5820\n",
      "hello 5821\n",
      "hello 5822\n",
      "hello 5823\n",
      "hello 5824\n",
      "hello 5825\n",
      "hello 5826\n",
      "hello 5827\n",
      "hello 5828\n",
      "hello 5829\n",
      "hello 5830\n",
      "hello 5831\n",
      "hello 5832\n",
      "hello 5833\n",
      "hello 5834\n",
      "hello 5835\n",
      "hello 5836\n",
      "hello 5837\n",
      "hello 5838\n",
      "hello 5839\n",
      "hello 5840\n",
      "hello 5841\n",
      "hello 5842\n",
      "hello 5843\n",
      "hello 5844\n",
      "hello 5845\n",
      "hello 5846\n",
      "hello 5847\n",
      "hello 5848\n",
      "hello 5849\n",
      "hello 5850\n",
      "hello 5851\n",
      "hello 5852\n",
      "hello 5853\n",
      "hello 5854\n",
      "hello 5855\n",
      "hello 5856\n",
      "hello 5857\n",
      "hello 5858\n",
      "hello 5859\n",
      "hello 5860\n",
      "hello 5861\n",
      "hello 5862\n",
      "hello 5863\n",
      "hello 5864\n",
      "hello 5865\n",
      "hello 5866\n",
      "hello 5867\n",
      "hello 5868\n",
      "hello 5869\n",
      "hello 5870\n",
      "hello 5871\n",
      "hello 5872\n",
      "hello 5873\n",
      "hello 5874\n",
      "hello 5875\n",
      "hello 5876\n",
      "hello 5877\n",
      "hello 5878\n",
      "hello 5879\n",
      "hello 5880\n",
      "hello 5881\n",
      "hello 5882\n",
      "hello 5883\n",
      "hello 5884\n",
      "hello 5885\n",
      "hello 5886\n",
      "hello 5887\n",
      "hello 5888\n",
      "hello 5889\n",
      "hello 5890\n",
      "hello 5891\n",
      "hello 5892\n",
      "hello 5893\n",
      "hello 5894\n",
      "hello 5895\n",
      "hello 5896\n",
      "hello 5897\n",
      "hello 5898\n",
      "hello 5899\n",
      "hello 5900\n",
      "hello 5901\n",
      "hello 5902\n",
      "hello 5903\n",
      "hello 5904\n",
      "hello 5905\n",
      "hello 5906\n",
      "hello 5907\n",
      "hello 5908\n",
      "hello 5909\n",
      "hello 5910\n",
      "hello 5911\n",
      "hello 5912\n",
      "hello 5913\n",
      "hello 5914\n",
      "hello 5915\n",
      "hello 5916\n",
      "hello 5917\n",
      "hello 5918\n",
      "hello 5919\n",
      "hello 5920\n",
      "hello 5921\n",
      "hello 5922\n",
      "hello 5923\n",
      "hello 5924\n",
      "hello 5925\n",
      "hello 5926\n",
      "hello 5927\n",
      "hello 5928\n",
      "hello 5929\n",
      "hello 5930\n",
      "hello 5931\n",
      "hello 5932\n",
      "hello 5933\n",
      "hello 5934\n",
      "hello 5935\n",
      "hello 5936\n",
      "hello 5937\n",
      "hello 5938\n",
      "hello 5939\n",
      "hello 5940\n",
      "hello 5941\n",
      "hello 5942\n",
      "hello 5943\n",
      "hello 5944\n",
      "hello 5945\n",
      "hello 5946\n",
      "hello 5947\n",
      "hello 5948\n",
      "hello 5949\n",
      "hello 5950\n",
      "hello 5951\n",
      "hello 5952\n",
      "hello 5953\n",
      "hello 5954\n",
      "hello 5955\n",
      "hello 5956\n",
      "hello 5957\n",
      "hello 5958\n",
      "hello 5959\n",
      "hello 5960\n",
      "hello 5961\n",
      "hello 5962\n",
      "hello 5963\n",
      "hello 5964\n",
      "hello 5965\n",
      "hello 5966\n",
      "hello 5967\n",
      "hello 5968\n",
      "hello 5969\n",
      "hello 5970\n",
      "hello 5971\n",
      "hello 5972\n",
      "hello 5973\n",
      "hello 5974\n",
      "hello 5975\n",
      "hello 5976\n",
      "hello 5977\n",
      "hello 5978\n",
      "hello 5979\n",
      "hello 5980\n",
      "hello 5981\n",
      "hello 5982\n",
      "hello 5983\n",
      "hello 5984\n",
      "hello 5985\n",
      "hello 5986\n",
      "hello 5987\n",
      "hello 5988\n",
      "hello 5989\n",
      "hello 5990\n",
      "hello 5991\n",
      "hello 5992\n",
      "hello 5993\n",
      "hello 5994\n",
      "hello 5995\n",
      "hello 5996\n",
      "hello 5997\n",
      "hello 5998\n",
      "hello 5999\n",
      "hello 6000\n",
      "hello 6001\n",
      "hello 6002\n",
      "hello 6003\n",
      "hello 6004\n",
      "hello 6005\n",
      "hello 6006\n",
      "hello 6007\n",
      "hello 6008\n",
      "hello 6009\n",
      "hello 6010\n",
      "hello 6011\n",
      "hello 6012\n",
      "hello 6013\n",
      "hello 6014\n",
      "hello 6015\n",
      "hello 6016\n",
      "hello 6017\n",
      "hello 6018\n",
      "hello 6019\n",
      "hello 6020\n",
      "hello 6021\n",
      "hello 6022\n",
      "hello 6023\n",
      "hello 6024\n",
      "hello 6025\n",
      "hello 6026\n",
      "hello 6027\n",
      "hello 6028\n",
      "hello 6029\n",
      "hello 6030\n",
      "hello 6031\n",
      "hello 6032\n",
      "hello 6033\n",
      "hello 6034\n",
      "hello 6035\n",
      "hello 6036\n",
      "hello 6037\n",
      "hello 6038\n",
      "hello 6039\n",
      "hello 6040\n",
      "hello 6041\n",
      "hello 6042\n",
      "hello 6043\n",
      "hello 6044\n",
      "hello 6045\n",
      "hello 6046\n",
      "hello 6047\n",
      "hello 6048\n",
      "hello 6049\n",
      "hello 6050\n",
      "hello 6051\n",
      "hello 6052\n",
      "hello 6053\n",
      "hello 6054\n",
      "hello 6055\n",
      "hello 6056\n",
      "hello 6057\n",
      "hello 6058\n",
      "hello 6059\n",
      "hello 6060\n",
      "hello 6061\n",
      "hello 6062\n",
      "hello 6063\n",
      "hello 6064\n",
      "hello 6065\n",
      "hello 6066\n",
      "hello 6067\n",
      "hello 6068\n",
      "hello 6069\n",
      "hello 6070\n",
      "hello 6071\n",
      "hello 6072\n",
      "hello 6073\n",
      "hello 6074\n",
      "hello 6075\n",
      "hello 6076\n",
      "hello 6077\n",
      "hello 6078\n",
      "hello 6079\n",
      "hello 6080\n",
      "hello 6081\n",
      "hello 6082\n",
      "hello 6083\n",
      "hello 6084\n",
      "hello 6085\n",
      "hello 6086\n",
      "hello 6087\n",
      "hello 6088\n",
      "hello 6089\n",
      "hello 6090\n",
      "hello 6091\n",
      "hello 6092\n",
      "hello 6093\n",
      "hello 6094\n",
      "hello 6095\n",
      "hello 6096\n",
      "hello 6097\n",
      "hello 6098\n",
      "hello 6099\n",
      "hello 6100\n",
      "hello 6101\n",
      "hello 6102\n",
      "hello 6103\n",
      "hello 6104\n",
      "hello 6105\n",
      "hello 6106\n",
      "hello 6107\n",
      "hello 6108\n",
      "hello 6109\n",
      "hello 6110\n",
      "hello 6111\n",
      "hello 6112\n",
      "hello 6113\n",
      "hello 6114\n",
      "hello 6115\n",
      "hello 6116\n",
      "hello 6117\n",
      "hello 6118\n",
      "hello 6119\n",
      "hello 6120\n",
      "hello 6121\n",
      "hello 6122\n",
      "hello 6123\n",
      "hello 6124\n",
      "hello 6125\n",
      "hello 6126\n",
      "hello 6127\n",
      "hello 6128\n",
      "hello 6129\n",
      "hello 6130\n",
      "hello 6131\n",
      "hello 6132\n",
      "hello 6133\n",
      "hello 6134\n",
      "hello 6135\n",
      "hello 6136\n",
      "hello 6137\n",
      "hello 6138\n",
      "hello 6139\n",
      "hello 6140\n",
      "hello 6141\n",
      "hello 6142\n",
      "hello 6143\n",
      "hello 6144\n"
     ]
    },
    {
     "name": "stdout",
     "output_type": "stream",
     "text": [
      "hello 6145\n",
      "hello 6146\n",
      "hello 6147\n",
      "hello 6148\n",
      "hello 6149\n",
      "hello 6150\n",
      "hello 6151\n",
      "hello 6152\n",
      "hello 6153\n",
      "hello 6154\n",
      "hello 6155\n",
      "hello 6156\n",
      "hello 6157\n",
      "hello 6158\n",
      "hello 6159\n",
      "hello 6160\n",
      "hello 6161\n",
      "hello 6162\n",
      "hello 6163\n",
      "hello 6164\n",
      "hello 6165\n",
      "hello 6166\n",
      "hello 6167\n",
      "hello 6168\n",
      "hello 6169\n",
      "hello 6170\n",
      "hello 6171\n",
      "hello 6172\n",
      "hello 6173\n",
      "hello 6174\n",
      "hello 6175\n",
      "hello 6176\n",
      "hello 6177\n",
      "hello 6178\n",
      "hello 6179\n",
      "hello 6180\n",
      "hello 6181\n",
      "hello 6182\n",
      "hello 6183\n",
      "hello 6184\n",
      "hello 6185\n",
      "hello 6186\n",
      "hello 6187\n",
      "hello 6188\n",
      "hello 6189\n",
      "hello 6190\n",
      "hello 6191\n",
      "hello 6192\n",
      "hello 6193\n",
      "hello 6194\n",
      "hello 6195\n",
      "hello 6196\n",
      "hello 6197\n",
      "hello 6198\n",
      "hello 6199\n",
      "hello 6200\n",
      "hello 6201\n",
      "hello 6202\n",
      "hello 6203\n",
      "hello 6204\n",
      "hello 6205\n",
      "hello 6206\n",
      "hello 6207\n",
      "hello 6208\n",
      "hello 6209\n",
      "hello 6210\n",
      "hello 6211\n",
      "hello 6212\n",
      "hello 6213\n",
      "hello 6214\n",
      "hello 6215\n",
      "hello 6216\n",
      "hello 6217\n",
      "hello 6218\n",
      "hello 6219\n",
      "hello 6220\n",
      "hello 6221\n",
      "hello 6222\n",
      "hello 6223\n",
      "hello 6224\n",
      "hello 6225\n",
      "hello 6226\n",
      "hello 6227\n",
      "hello 6228\n",
      "hello 6229\n",
      "hello 6230\n",
      "hello 6231\n",
      "hello 6232\n",
      "hello 6233\n",
      "hello 6234\n",
      "hello 6235\n",
      "hello 6236\n",
      "hello 6237\n",
      "hello 6238\n",
      "hello 6239\n",
      "hello 6240\n",
      "hello 6241\n",
      "hello 6242\n",
      "hello 6243\n",
      "hello 6244\n",
      "hello 6245\n",
      "hello 6246\n",
      "hello 6247\n",
      "hello 6248\n",
      "hello 6249\n",
      "hello 6250\n",
      "hello 6251\n",
      "hello 6252\n",
      "hello 6253\n",
      "hello 6254\n",
      "hello 6255\n",
      "hello 6256\n",
      "hello 6257\n",
      "hello 6258\n",
      "hello 6259\n",
      "hello 6260\n",
      "hello 6261\n",
      "hello 6262\n",
      "hello 6263\n",
      "hello 6264\n",
      "hello 6265\n",
      "hello 6266\n",
      "hello 6267\n",
      "hello 6268\n",
      "hello 6269\n",
      "hello 6270\n",
      "hello 6271\n",
      "hello 6272\n",
      "hello 6273\n",
      "hello 6274\n",
      "hello 6275\n",
      "hello 6276\n",
      "hello 6277\n",
      "hello 6278\n",
      "hello 6279\n",
      "hello 6280\n",
      "hello 6281\n",
      "hello 6282\n",
      "hello 6283\n",
      "hello 6284\n",
      "hello 6285\n",
      "hello 6286\n",
      "hello 6287\n",
      "hello 6288\n",
      "hello 6289\n",
      "hello 6290\n",
      "hello 6291\n",
      "hello 6292\n",
      "hello 6293\n",
      "hello 6294\n",
      "hello 6295\n",
      "hello 6296\n",
      "hello 6297\n",
      "hello 6298\n",
      "hello 6299\n",
      "hello 6300\n",
      "hello 6301\n",
      "hello 6302\n",
      "hello 6303\n",
      "hello 6304\n",
      "hello 6305\n",
      "hello 6306\n",
      "hello 6307\n",
      "hello 6308\n",
      "hello 6309\n",
      "hello 6310\n",
      "hello 6311\n",
      "hello 6312\n",
      "hello 6313\n",
      "hello 6314\n",
      "hello 6315\n",
      "hello 6316\n",
      "hello 6317\n",
      "hello 6318\n",
      "hello 6319\n",
      "hello 6320\n",
      "hello 6321\n",
      "hello 6322\n",
      "hello 6323\n",
      "hello 6324\n",
      "hello 6325\n",
      "hello 6326\n",
      "hello 6327\n",
      "hello 6328\n",
      "hello 6329\n",
      "hello 6330\n",
      "hello 6331\n",
      "hello 6332\n",
      "hello 6333\n",
      "hello 6334\n",
      "hello 6335\n",
      "hello 6336\n",
      "hello 6337\n",
      "hello 6338\n",
      "hello 6339\n",
      "hello 6340\n",
      "hello 6341\n",
      "hello 6342\n",
      "hello 6343\n",
      "hello 6344\n",
      "hello 6345\n",
      "hello 6346\n",
      "hello 6347\n",
      "hello 6348\n",
      "hello 6349\n",
      "hello 6350\n",
      "hello 6351\n",
      "hello 6352\n",
      "hello 6353\n",
      "hello 6354\n",
      "hello 6355\n",
      "hello 6356\n",
      "hello 6357\n",
      "hello 6358\n",
      "hello 6359\n",
      "hello 6360\n",
      "hello 6361\n",
      "hello 6362\n",
      "hello 6363\n",
      "hello 6364\n",
      "hello 6365\n",
      "hello 6366\n",
      "hello 6367\n",
      "hello 6368\n",
      "hello 6369\n",
      "hello 6370\n",
      "hello 6371\n",
      "hello 6372\n",
      "hello 6373\n",
      "hello 6374\n",
      "hello 6375\n",
      "hello 6376\n",
      "hello 6377\n",
      "hello 6378\n",
      "hello 6379\n",
      "hello 6380\n",
      "hello 6381\n",
      "hello 6382\n",
      "hello 6383\n",
      "hello 6384\n",
      "hello 6385\n",
      "hello 6386\n",
      "hello 6387\n",
      "hello 6388\n",
      "hello 6389\n",
      "hello 6390\n",
      "hello 6391\n",
      "hello 6392\n",
      "hello 6393\n",
      "hello 6394\n",
      "hello 6395\n",
      "hello 6396\n",
      "hello 6397\n",
      "hello 6398\n",
      "hello 6399\n",
      "hello 6400\n",
      "hello 6401\n",
      "hello 6402\n",
      "hello 6403\n",
      "hello 6404\n",
      "hello 6405\n",
      "hello 6406\n",
      "hello 6407\n",
      "hello 6408\n",
      "hello 6409\n",
      "hello 6410\n",
      "hello 6411\n",
      "hello 6412\n",
      "hello 6413\n",
      "hello 6414\n",
      "hello 6415\n",
      "hello 6416\n",
      "hello 6417\n",
      "hello 6418\n",
      "hello 6419\n",
      "hello 6420\n",
      "hello 6421\n",
      "hello 6422\n",
      "hello 6423\n",
      "hello 6424\n",
      "hello 6425\n",
      "hello 6426\n",
      "hello 6427\n",
      "hello 6428\n",
      "hello 6429\n",
      "hello 6430\n",
      "hello 6431\n",
      "hello 6432\n",
      "hello 6433\n",
      "hello 6434\n",
      "hello 6435\n",
      "hello 6436\n",
      "hello 6437\n",
      "hello 6438\n",
      "hello 6439\n",
      "hello 6440\n",
      "hello 6441\n",
      "hello 6442\n",
      "hello 6443\n",
      "hello 6444\n",
      "hello 6445\n",
      "hello 6446\n",
      "hello 6447\n",
      "hello 6448\n",
      "hello 6449\n",
      "hello 6450\n",
      "hello 6451\n",
      "hello 6452\n",
      "hello 6453\n",
      "hello 6454\n",
      "hello 6455\n",
      "hello 6456\n",
      "hello 6457\n",
      "hello 6458\n",
      "hello 6459\n",
      "hello 6460\n",
      "hello 6461\n",
      "hello 6462\n",
      "hello 6463\n",
      "hello 6464\n",
      "hello 6465\n",
      "hello 6466\n",
      "hello 6467\n",
      "hello 6468\n",
      "hello 6469\n",
      "hello 6470\n",
      "hello 6471\n",
      "hello 6472\n",
      "hello 6473\n",
      "hello 6474\n",
      "hello 6475\n",
      "hello 6476\n",
      "hello 6477\n",
      "hello 6478\n",
      "hello 6479\n",
      "hello 6480\n",
      "hello 6481\n",
      "hello 6482\n",
      "hello 6483\n",
      "hello 6484\n",
      "hello 6485\n",
      "hello 6486\n",
      "hello 6487\n",
      "hello 6488\n",
      "hello 6489\n",
      "hello 6490\n",
      "hello 6491\n",
      "hello 6492\n",
      "hello 6493\n",
      "hello 6494\n",
      "hello 6495\n",
      "hello 6496\n",
      "hello 6497\n",
      "hello 6498\n",
      "hello 6499\n",
      "hello 6500\n",
      "hello 6501\n",
      "hello 6502\n",
      "hello 6503\n",
      "hello 6504\n",
      "hello 6505\n",
      "hello 6506\n",
      "hello 6507\n",
      "hello 6508\n",
      "hello 6509\n",
      "hello 6510\n",
      "hello 6511\n",
      "hello 6512\n",
      "hello 6513\n",
      "hello 6514\n",
      "hello 6515\n",
      "hello 6516\n",
      "hello 6517\n",
      "hello 6518\n",
      "hello 6519\n",
      "hello 6520\n",
      "hello 6521\n",
      "hello 6522\n",
      "hello 6523\n",
      "hello 6524\n",
      "hello 6525\n",
      "hello 6526\n",
      "hello 6527\n",
      "hello 6528\n",
      "hello 6529\n",
      "hello 6530\n",
      "hello 6531\n",
      "hello 6532\n",
      "hello 6533\n",
      "hello 6534\n",
      "hello 6535\n",
      "hello 6536\n",
      "hello 6537\n",
      "hello 6538\n",
      "hello 6539\n",
      "hello 6540\n",
      "hello 6541\n",
      "hello 6542\n",
      "hello 6543\n",
      "hello 6544\n",
      "hello 6545\n",
      "hello 6546\n",
      "hello 6547\n",
      "hello 6548\n",
      "hello 6549\n",
      "hello 6550\n",
      "hello 6551\n",
      "hello 6552\n",
      "hello 6553\n",
      "hello 6554\n",
      "hello 6555\n",
      "hello 6556\n",
      "hello 6557\n",
      "hello 6558\n",
      "hello 6559\n",
      "hello 6560\n",
      "hello 6561\n",
      "hello 6562\n",
      "hello 6563\n",
      "hello 6564\n",
      "hello 6565\n",
      "hello 6566\n",
      "hello 6567\n",
      "hello 6568\n",
      "hello 6569\n",
      "hello 6570\n",
      "hello 6571\n",
      "hello 6572\n",
      "hello 6573\n",
      "hello 6574\n",
      "hello 6575\n",
      "hello 6576\n",
      "hello 6577\n",
      "hello 6578\n",
      "hello 6579\n",
      "hello 6580\n",
      "hello 6581\n",
      "hello 6582\n",
      "hello 6583\n",
      "hello 6584\n",
      "hello 6585\n",
      "hello 6586\n",
      "hello 6587\n",
      "hello 6588\n",
      "hello 6589\n",
      "hello 6590\n",
      "hello 6591\n",
      "hello 6592\n",
      "hello 6593\n",
      "hello 6594\n",
      "hello 6595\n",
      "hello 6596\n",
      "hello 6597\n",
      "hello 6598\n",
      "hello 6599\n",
      "hello 6600\n",
      "hello 6601\n",
      "hello 6602\n",
      "hello 6603\n",
      "hello 6604\n",
      "hello 6605\n",
      "hello 6606\n",
      "hello 6607\n",
      "hello 6608\n",
      "hello 6609\n",
      "hello 6610\n",
      "hello 6611\n",
      "hello 6612\n",
      "hello 6613\n",
      "hello 6614\n",
      "hello 6615\n",
      "hello 6616\n",
      "hello 6617\n",
      "hello 6618\n",
      "hello 6619\n",
      "hello 6620\n",
      "hello 6621\n",
      "hello 6622\n",
      "hello 6623\n",
      "hello 6624\n",
      "hello 6625\n",
      "hello 6626\n",
      "hello 6627\n",
      "hello 6628\n",
      "hello 6629\n",
      "hello 6630\n",
      "hello 6631\n",
      "hello 6632\n",
      "hello 6633\n",
      "hello 6634\n",
      "hello 6635\n",
      "hello 6636\n",
      "hello 6637\n",
      "hello 6638\n",
      "hello 6639\n",
      "hello 6640\n",
      "hello 6641\n",
      "hello 6642\n",
      "hello 6643\n",
      "hello 6644\n",
      "hello 6645\n",
      "hello 6646\n",
      "hello 6647\n",
      "hello 6648\n",
      "hello 6649\n",
      "hello 6650\n",
      "hello 6651\n",
      "hello 6652\n",
      "hello 6653\n",
      "hello 6654\n",
      "hello 6655\n",
      "hello 6656\n",
      "hello 6657\n",
      "hello 6658\n",
      "hello 6659\n",
      "hello 6660\n",
      "hello 6661\n",
      "hello 6662\n",
      "hello 6663\n",
      "hello 6664\n",
      "hello 6665\n",
      "hello 6666\n",
      "hello 6667\n",
      "hello 6668\n",
      "hello 6669\n",
      "hello 6670\n",
      "hello 6671\n",
      "hello 6672\n",
      "hello 6673\n",
      "hello 6674\n",
      "hello 6675\n",
      "hello 6676\n",
      "hello 6677\n",
      "hello 6678\n",
      "hello 6679\n",
      "hello 6680\n",
      "hello 6681\n",
      "hello 6682\n",
      "hello 6683\n",
      "hello 6684\n",
      "hello 6685\n",
      "hello 6686\n",
      "hello 6687\n",
      "hello 6688\n",
      "hello 6689\n",
      "hello 6690\n",
      "hello 6691\n",
      "hello 6692\n",
      "hello 6693\n",
      "hello 6694\n",
      "hello 6695\n",
      "hello 6696\n",
      "hello 6697\n",
      "hello 6698\n",
      "hello 6699\n",
      "hello 6700\n",
      "hello 6701\n",
      "hello 6702\n",
      "hello 6703\n",
      "hello 6704\n",
      "hello 6705\n",
      "hello 6706\n",
      "hello 6707\n",
      "hello 6708\n",
      "hello 6709\n",
      "hello 6710\n",
      "hello 6711\n",
      "hello 6712\n",
      "hello 6713\n",
      "hello 6714\n",
      "hello 6715\n",
      "hello 6716\n",
      "hello 6717\n",
      "hello 6718\n",
      "hello 6719\n",
      "hello 6720\n",
      "hello 6721\n",
      "hello 6722\n",
      "hello 6723\n",
      "hello 6724\n",
      "hello 6725\n",
      "hello 6726\n",
      "hello 6727\n",
      "hello 6728\n",
      "hello 6729\n",
      "hello 6730\n",
      "hello 6731\n",
      "hello 6732\n",
      "hello 6733\n",
      "hello 6734\n",
      "hello 6735\n",
      "hello 6736\n",
      "hello 6737\n",
      "hello 6738\n",
      "hello 6739\n",
      "hello 6740\n",
      "hello 6741\n",
      "hello 6742\n",
      "hello 6743\n",
      "hello 6744\n",
      "hello 6745\n",
      "hello 6746\n",
      "hello 6747\n",
      "hello 6748\n",
      "hello 6749\n",
      "hello 6750\n",
      "hello 6751\n",
      "hello 6752\n",
      "hello 6753\n",
      "hello 6754\n",
      "hello 6755\n",
      "hello 6756\n",
      "hello 6757\n",
      "hello 6758\n",
      "hello 6759\n",
      "hello 6760\n",
      "hello 6761\n",
      "hello 6762\n",
      "hello 6763\n",
      "hello 6764\n",
      "hello 6765\n",
      "hello 6766\n",
      "hello 6767\n",
      "hello 6768\n",
      "hello 6769\n",
      "hello 6770\n",
      "hello 6771\n",
      "hello 6772\n",
      "hello 6773\n",
      "hello 6774\n",
      "hello 6775\n",
      "hello 6776\n",
      "hello 6777\n",
      "hello 6778\n",
      "hello 6779\n",
      "hello 6780\n",
      "hello 6781\n",
      "hello 6782\n",
      "hello 6783\n",
      "hello 6784\n",
      "hello 6785\n",
      "hello 6786\n",
      "hello 6787\n",
      "hello 6788\n",
      "hello 6789\n",
      "hello 6790\n",
      "hello 6791\n",
      "hello 6792\n",
      "hello 6793\n",
      "hello 6794\n",
      "hello 6795\n",
      "hello 6796\n",
      "hello 6797\n",
      "hello 6798\n",
      "hello 6799\n",
      "hello 6800\n",
      "hello 6801\n",
      "hello 6802\n",
      "hello 6803\n",
      "hello 6804\n",
      "hello 6805\n",
      "hello 6806\n",
      "hello 6807\n",
      "hello 6808\n",
      "hello 6809\n",
      "hello 6810\n",
      "hello 6811\n",
      "hello 6812\n",
      "hello 6813\n",
      "hello 6814\n",
      "hello 6815\n",
      "hello 6816\n",
      "hello 6817\n",
      "hello 6818\n",
      "hello 6819\n",
      "hello 6820\n",
      "hello 6821\n",
      "hello 6822\n",
      "hello 6823\n",
      "hello 6824\n",
      "hello 6825\n",
      "hello 6826\n",
      "hello 6827\n",
      "hello 6828\n",
      "hello 6829\n",
      "hello 6830\n",
      "hello 6831\n",
      "hello 6832\n",
      "hello 6833\n",
      "hello 6834\n",
      "hello 6835\n",
      "hello 6836\n",
      "hello 6837\n",
      "hello 6838\n",
      "hello 6839\n",
      "hello 6840\n",
      "hello 6841\n",
      "hello 6842\n",
      "hello 6843\n",
      "hello 6844\n",
      "hello 6845\n",
      "hello 6846\n",
      "hello 6847\n",
      "hello 6848\n",
      "hello 6849\n",
      "hello 6850\n",
      "hello 6851\n",
      "hello 6852\n",
      "hello 6853\n",
      "hello 6854\n",
      "hello 6855\n",
      "hello 6856\n",
      "hello 6857\n",
      "hello 6858\n",
      "hello 6859\n",
      "hello 6860\n",
      "hello 6861\n",
      "hello 6862\n",
      "hello 6863\n",
      "hello 6864\n",
      "hello 6865\n",
      "hello 6866\n",
      "hello 6867\n",
      "hello 6868\n",
      "hello 6869\n",
      "hello 6870\n",
      "hello 6871\n",
      "hello 6872\n",
      "hello 6873\n",
      "hello 6874\n",
      "hello 6875\n",
      "hello 6876\n",
      "hello 6877\n",
      "hello 6878\n",
      "hello 6879\n",
      "hello 6880\n",
      "hello 6881\n",
      "hello 6882\n",
      "hello 6883\n",
      "hello 6884\n",
      "hello 6885\n",
      "hello 6886\n",
      "hello 6887\n",
      "hello 6888\n",
      "hello 6889\n",
      "hello 6890\n",
      "hello 6891\n",
      "hello 6892\n",
      "hello 6893\n",
      "hello 6894\n",
      "hello 6895\n",
      "hello 6896\n",
      "hello 6897\n",
      "hello 6898\n",
      "hello 6899\n",
      "hello 6900\n",
      "hello 6901\n",
      "hello 6902\n",
      "hello 6903\n",
      "hello 6904\n",
      "hello 6905\n",
      "hello 6906\n",
      "hello 6907\n",
      "hello 6908\n",
      "hello 6909\n",
      "hello 6910\n",
      "hello 6911\n",
      "hello 6912\n",
      "hello 6913\n",
      "hello 6914\n",
      "hello 6915\n",
      "hello 6916\n",
      "hello 6917\n",
      "hello 6918\n",
      "hello 6919\n",
      "hello 6920\n",
      "hello 6921\n",
      "hello 6922\n",
      "hello 6923\n",
      "hello 6924\n",
      "hello 6925\n",
      "hello 6926\n",
      "hello 6927\n",
      "hello 6928\n",
      "hello 6929\n",
      "hello 6930\n",
      "hello 6931\n",
      "hello 6932\n",
      "hello 6933\n",
      "hello 6934\n",
      "hello 6935\n",
      "hello 6936\n",
      "hello 6937\n",
      "hello 6938\n",
      "hello 6939\n",
      "hello 6940\n",
      "hello 6941\n",
      "hello 6942\n",
      "hello 6943\n",
      "hello 6944\n",
      "hello 6945\n",
      "hello 6946\n",
      "hello 6947\n",
      "hello 6948\n",
      "hello 6949\n",
      "hello 6950\n",
      "hello 6951\n",
      "hello 6952\n",
      "hello 6953\n",
      "hello 6954\n",
      "hello 6955\n",
      "hello 6956\n",
      "hello 6957\n",
      "hello 6958\n",
      "hello 6959\n",
      "hello 6960\n",
      "hello 6961\n",
      "hello 6962\n",
      "hello 6963\n",
      "hello 6964\n",
      "hello 6965\n",
      "hello 6966\n",
      "hello 6967\n",
      "hello 6968\n",
      "hello 6969\n",
      "hello 6970\n",
      "hello 6971\n",
      "hello 6972\n",
      "hello 6973\n",
      "hello 6974\n",
      "hello 6975\n",
      "hello 6976\n",
      "hello 6977\n",
      "hello 6978\n",
      "hello 6979\n",
      "hello 6980\n",
      "hello 6981\n",
      "hello 6982\n",
      "hello 6983\n",
      "hello 6984\n",
      "hello 6985\n",
      "hello 6986\n",
      "hello 6987\n",
      "hello 6988\n",
      "hello 6989\n",
      "hello 6990\n",
      "hello 6991\n",
      "hello 6992\n",
      "hello 6993\n",
      "hello 6994\n",
      "hello 6995\n",
      "hello 6996\n",
      "hello 6997\n",
      "hello 6998\n",
      "hello 6999\n",
      "hello 7000\n",
      "hello 7001\n",
      "hello 7002\n",
      "hello 7003\n",
      "hello 7004\n",
      "hello 7005\n",
      "hello 7006\n",
      "hello 7007\n",
      "hello 7008\n",
      "hello 7009\n",
      "hello 7010\n",
      "hello 7011\n",
      "hello 7012\n",
      "hello 7013\n",
      "hello 7014\n",
      "hello 7015\n",
      "hello 7016\n",
      "hello 7017\n",
      "hello 7018\n",
      "hello 7019\n",
      "hello 7020\n",
      "hello 7021\n",
      "hello 7022\n",
      "hello 7023\n",
      "hello 7024\n",
      "hello 7025\n",
      "hello 7026\n",
      "hello 7027\n",
      "hello 7028\n",
      "hello 7029\n",
      "hello 7030\n",
      "hello 7031\n",
      "hello 7032\n",
      "hello 7033\n",
      "hello 7034\n",
      "hello 7035\n",
      "hello 7036\n",
      "hello 7037\n",
      "hello 7038\n",
      "hello 7039\n",
      "hello 7040\n",
      "hello 7041\n",
      "hello 7042\n",
      "hello 7043\n",
      "hello 7044\n",
      "hello 7045\n",
      "hello 7046\n",
      "hello 7047\n",
      "hello 7048\n",
      "hello 7049\n",
      "hello 7050\n",
      "hello 7051\n",
      "hello 7052\n",
      "hello 7053\n",
      "hello 7054\n",
      "hello 7055\n",
      "hello 7056\n",
      "hello 7057\n",
      "hello 7058\n",
      "hello 7059\n",
      "hello 7060\n",
      "hello 7061\n",
      "hello 7062\n",
      "hello 7063\n",
      "hello 7064\n",
      "hello 7065\n",
      "hello 7066\n",
      "hello 7067\n",
      "hello 7068\n",
      "hello 7069\n",
      "hello 7070\n",
      "hello 7071\n",
      "hello 7072\n",
      "hello 7073\n",
      "hello 7074\n",
      "hello 7075\n",
      "hello 7076\n",
      "hello 7077\n",
      "hello 7078\n",
      "hello 7079\n",
      "hello 7080\n",
      "hello 7081\n",
      "hello 7082\n",
      "hello 7083\n",
      "hello 7084\n",
      "hello 7085\n",
      "hello 7086\n",
      "hello 7087\n",
      "hello 7088\n",
      "hello 7089\n",
      "hello 7090\n",
      "hello 7091\n",
      "hello 7092\n",
      "hello 7093\n",
      "hello 7094\n",
      "hello 7095\n",
      "hello 7096\n",
      "hello 7097\n",
      "hello 7098\n",
      "hello 7099\n",
      "hello 7100\n",
      "hello 7101\n",
      "hello 7102\n",
      "hello 7103\n",
      "hello 7104\n",
      "hello 7105\n",
      "hello 7106\n",
      "hello 7107\n",
      "hello 7108\n",
      "hello 7109\n",
      "hello 7110\n",
      "hello 7111\n",
      "hello 7112\n",
      "hello 7113\n",
      "hello 7114\n",
      "hello 7115\n",
      "hello 7116\n",
      "hello 7117\n",
      "hello 7118\n",
      "hello 7119\n",
      "hello 7120\n",
      "hello 7121\n",
      "hello 7122\n",
      "hello 7123\n",
      "hello 7124\n",
      "hello 7125\n",
      "hello 7126\n",
      "hello 7127\n",
      "hello 7128\n",
      "hello 7129\n",
      "hello 7130\n",
      "hello 7131\n",
      "hello 7132\n",
      "hello 7133\n",
      "hello 7134\n",
      "hello 7135\n",
      "hello 7136\n",
      "hello 7137\n",
      "hello 7138\n",
      "hello 7139\n",
      "hello 7140\n",
      "hello 7141\n",
      "hello 7142\n",
      "hello 7143\n",
      "hello 7144\n"
     ]
    },
    {
     "name": "stdout",
     "output_type": "stream",
     "text": [
      "hello 7145\n",
      "hello 7146\n",
      "hello 7147\n",
      "hello 7148\n",
      "hello 7149\n",
      "hello 7150\n",
      "hello 7151\n",
      "hello 7152\n",
      "hello 7153\n",
      "hello 7154\n",
      "hello 7155\n",
      "hello 7156\n",
      "hello 7157\n",
      "hello 7158\n",
      "hello 7159\n",
      "hello 7160\n",
      "hello 7161\n",
      "hello 7162\n",
      "hello 7163\n",
      "hello 7164\n",
      "hello 7165\n",
      "hello 7166\n",
      "hello 7167\n",
      "hello 7168\n",
      "hello 7169\n",
      "hello 7170\n",
      "hello 7171\n",
      "hello 7172\n",
      "hello 7173\n",
      "hello 7174\n",
      "hello 7175\n",
      "hello 7176\n",
      "hello 7177\n",
      "hello 7178\n",
      "hello 7179\n",
      "hello 7180\n",
      "hello 7181\n",
      "hello 7182\n",
      "hello 7183\n",
      "hello 7184\n",
      "hello 7185\n",
      "hello 7186\n",
      "hello 7187\n",
      "hello 7188\n",
      "hello 7189\n",
      "hello 7190\n",
      "hello 7191\n",
      "hello 7192\n",
      "hello 7193\n",
      "hello 7194\n",
      "hello 7195\n",
      "hello 7196\n",
      "hello 7197\n",
      "hello 7198\n",
      "hello 7199\n",
      "hello 7200\n",
      "hello 7201\n",
      "hello 7202\n",
      "hello 7203\n",
      "hello 7204\n",
      "hello 7205\n",
      "hello 7206\n",
      "hello 7207\n",
      "hello 7208\n",
      "hello 7209\n",
      "hello 7210\n",
      "hello 7211\n",
      "hello 7212\n",
      "hello 7213\n",
      "hello 7214\n",
      "hello 7215\n",
      "hello 7216\n",
      "hello 7217\n",
      "hello 7218\n",
      "hello 7219\n",
      "hello 7220\n",
      "hello 7221\n",
      "hello 7222\n",
      "hello 7223\n",
      "hello 7224\n",
      "hello 7225\n",
      "hello 7226\n",
      "hello 7227\n",
      "hello 7228\n",
      "hello 7229\n",
      "hello 7230\n",
      "hello 7231\n",
      "hello 7232\n",
      "hello 7233\n",
      "hello 7234\n",
      "hello 7235\n",
      "hello 7236\n",
      "hello 7237\n",
      "hello 7238\n",
      "hello 7239\n",
      "hello 7240\n",
      "hello 7241\n",
      "hello 7242\n",
      "hello 7243\n",
      "hello 7244\n",
      "hello 7245\n",
      "hello 7246\n",
      "hello 7247\n",
      "hello 7248\n",
      "hello 7249\n",
      "hello 7250\n",
      "hello 7251\n",
      "hello 7252\n",
      "hello 7253\n",
      "hello 7254\n",
      "hello 7255\n",
      "hello 7256\n",
      "hello 7257\n",
      "hello 7258\n",
      "hello 7259\n",
      "hello 7260\n",
      "hello 7261\n",
      "hello 7262\n",
      "hello 7263\n",
      "hello 7264\n",
      "hello 7265\n",
      "hello 7266\n",
      "hello 7267\n",
      "hello 7268\n",
      "hello 7269\n",
      "hello 7270\n",
      "hello 7271\n",
      "hello 7272\n",
      "hello 7273\n",
      "hello 7274\n",
      "hello 7275\n",
      "hello 7276\n",
      "hello 7277\n",
      "hello 7278\n",
      "hello 7279\n",
      "hello 7280\n",
      "hello 7281\n",
      "hello 7282\n",
      "hello 7283\n",
      "hello 7284\n",
      "hello 7285\n",
      "hello 7286\n",
      "hello 7287\n",
      "hello 7288\n",
      "hello 7289\n",
      "hello 7290\n",
      "hello 7291\n",
      "hello 7292\n",
      "hello 7293\n",
      "hello 7294\n",
      "hello 7295\n",
      "hello 7296\n",
      "hello 7297\n",
      "hello 7298\n",
      "hello 7299\n",
      "hello 7300\n",
      "hello 7301\n",
      "hello 7302\n",
      "hello 7303\n",
      "hello 7304\n",
      "hello 7305\n",
      "hello 7306\n",
      "hello 7307\n",
      "hello 7308\n",
      "hello 7309\n",
      "hello 7310\n",
      "hello 7311\n",
      "hello 7312\n",
      "hello 7313\n",
      "hello 7314\n",
      "hello 7315\n",
      "hello 7316\n",
      "hello 7317\n",
      "hello 7318\n",
      "hello 7319\n",
      "hello 7320\n",
      "hello 7321\n",
      "hello 7322\n",
      "hello 7323\n",
      "hello 7324\n",
      "hello 7325\n",
      "hello 7326\n",
      "hello 7327\n",
      "hello 7328\n",
      "hello 7329\n",
      "hello 7330\n",
      "hello 7331\n",
      "hello 7332\n",
      "hello 7333\n",
      "hello 7334\n",
      "hello 7335\n",
      "hello 7336\n",
      "hello 7337\n",
      "hello 7338\n",
      "hello 7339\n",
      "hello 7340\n",
      "hello 7341\n",
      "hello 7342\n",
      "hello 7343\n",
      "hello 7344\n",
      "hello 7345\n",
      "hello 7346\n",
      "hello 7347\n",
      "hello 7348\n",
      "hello 7349\n",
      "hello 7350\n",
      "hello 7351\n",
      "hello 7352\n",
      "hello 7353\n",
      "hello 7354\n",
      "hello 7355\n",
      "hello 7356\n",
      "hello 7357\n",
      "hello 7358\n",
      "hello 7359\n",
      "hello 7360\n",
      "hello 7361\n",
      "hello 7362\n",
      "hello 7363\n",
      "hello 7364\n",
      "hello 7365\n",
      "hello 7366\n",
      "hello 7367\n",
      "hello 7368\n",
      "hello 7369\n",
      "hello 7370\n",
      "hello 7371\n",
      "hello 7372\n",
      "hello 7373\n",
      "hello 7374\n",
      "hello 7375\n",
      "hello 7376\n",
      "hello 7377\n",
      "hello 7378\n",
      "hello 7379\n",
      "hello 7380\n",
      "hello 7381\n",
      "hello 7382\n",
      "hello 7383\n",
      "hello 7384\n",
      "hello 7385\n",
      "hello 7386\n",
      "hello 7387\n",
      "hello 7388\n",
      "hello 7389\n",
      "hello 7390\n",
      "hello 7391\n",
      "hello 7392\n",
      "hello 7393\n",
      "hello 7394\n",
      "hello 7395\n",
      "hello 7396\n",
      "hello 7397\n",
      "hello 7398\n",
      "hello 7399\n",
      "hello 7400\n",
      "hello 7401\n",
      "hello 7402\n",
      "hello 7403\n",
      "hello 7404\n",
      "hello 7405\n",
      "hello 7406\n",
      "hello 7407\n",
      "hello 7408\n",
      "hello 7409\n",
      "hello 7410\n",
      "hello 7411\n",
      "hello 7412\n",
      "hello 7413\n",
      "hello 7414\n",
      "hello 7415\n",
      "hello 7416\n",
      "hello 7417\n",
      "hello 7418\n",
      "hello 7419\n",
      "hello 7420\n",
      "hello 7421\n",
      "hello 7422\n",
      "hello 7423\n",
      "hello 7424\n",
      "hello 7425\n",
      "hello 7426\n",
      "hello 7427\n",
      "hello 7428\n",
      "hello 7429\n",
      "hello 7430\n",
      "hello 7431\n",
      "hello 7432\n",
      "hello 7433\n",
      "hello 7434\n",
      "hello 7435\n",
      "hello 7436\n",
      "hello 7437\n",
      "hello 7438\n",
      "hello 7439\n",
      "hello 7440\n",
      "hello 7441\n",
      "hello 7442\n",
      "hello 7443\n",
      "hello 7444\n",
      "hello 7445\n",
      "hello 7446\n",
      "hello 7447\n",
      "hello 7448\n",
      "hello 7449\n",
      "hello 7450\n",
      "hello 7451\n",
      "hello 7452\n",
      "hello 7453\n",
      "hello 7454\n",
      "hello 7455\n",
      "hello 7456\n",
      "hello 7457\n",
      "hello 7458\n",
      "hello 7459\n",
      "hello 7460\n",
      "hello 7461\n",
      "hello 7462\n",
      "hello 7463\n",
      "hello 7464\n",
      "hello 7465\n",
      "hello 7466\n",
      "hello 7467\n",
      "hello 7468\n",
      "hello 7469\n",
      "hello 7470\n",
      "hello 7471\n",
      "hello 7472\n",
      "hello 7473\n",
      "hello 7474\n",
      "hello 7475\n",
      "hello 7476\n",
      "hello 7477\n",
      "hello 7478\n",
      "hello 7479\n",
      "hello 7480\n",
      "hello 7481\n",
      "hello 7482\n",
      "hello 7483\n",
      "hello 7484\n",
      "hello 7485\n",
      "hello 7486\n",
      "hello 7487\n",
      "hello 7488\n",
      "hello 7489\n",
      "hello 7490\n",
      "hello 7491\n",
      "hello 7492\n",
      "hello 7493\n",
      "hello 7494\n",
      "hello 7495\n",
      "hello 7496\n",
      "hello 7497\n",
      "hello 7498\n",
      "hello 7499\n",
      "hello 7500\n",
      "hello 7501\n",
      "hello 7502\n",
      "hello 7503\n",
      "hello 7504\n",
      "hello 7505\n",
      "hello 7506\n",
      "hello 7507\n",
      "hello 7508\n",
      "hello 7509\n",
      "hello 7510\n",
      "hello 7511\n",
      "hello 7512\n",
      "hello 7513\n",
      "hello 7514\n",
      "hello 7515\n",
      "hello 7516\n",
      "hello 7517\n",
      "hello 7518\n",
      "hello 7519\n",
      "hello 7520\n",
      "hello 7521\n",
      "hello 7522\n",
      "hello 7523\n",
      "hello 7524\n",
      "hello 7525\n",
      "hello 7526\n",
      "hello 7527\n",
      "hello 7528\n",
      "hello 7529\n",
      "hello 7530\n",
      "hello 7531\n",
      "hello 7532\n",
      "hello 7533\n",
      "hello 7534\n",
      "hello 7535\n",
      "hello 7536\n",
      "hello 7537\n",
      "hello 7538\n",
      "hello 7539\n",
      "hello 7540\n",
      "hello 7541\n",
      "hello 7542\n",
      "hello 7543\n",
      "hello 7544\n",
      "hello 7545\n",
      "hello 7546\n",
      "hello 7547\n",
      "hello 7548\n",
      "hello 7549\n",
      "hello 7550\n",
      "hello 7551\n",
      "hello 7552\n",
      "hello 7553\n",
      "hello 7554\n",
      "hello 7555\n",
      "hello 7556\n",
      "hello 7557\n",
      "hello 7558\n",
      "hello 7559\n",
      "hello 7560\n",
      "hello 7561\n",
      "hello 7562\n",
      "hello 7563\n",
      "hello 7564\n",
      "hello 7565\n",
      "hello 7566\n",
      "hello 7567\n",
      "hello 7568\n",
      "hello 7569\n",
      "hello 7570\n",
      "hello 7571\n",
      "hello 7572\n",
      "hello 7573\n",
      "hello 7574\n",
      "hello 7575\n",
      "hello 7576\n",
      "hello 7577\n",
      "hello 7578\n",
      "hello 7579\n",
      "hello 7580\n",
      "hello 7581\n",
      "hello 7582\n",
      "hello 7583\n",
      "hello 7584\n",
      "hello 7585\n",
      "hello 7586\n",
      "hello 7587\n",
      "hello 7588\n",
      "hello 7589\n",
      "hello 7590\n",
      "hello 7591\n",
      "hello 7592\n",
      "hello 7593\n",
      "hello 7594\n",
      "hello 7595\n",
      "hello 7596\n",
      "hello 7597\n",
      "hello 7598\n",
      "hello 7599\n",
      "hello 7600\n",
      "hello 7601\n",
      "hello 7602\n",
      "hello 7603\n",
      "hello 7604\n",
      "hello 7605\n",
      "hello 7606\n",
      "hello 7607\n",
      "hello 7608\n",
      "hello 7609\n",
      "hello 7610\n",
      "hello 7611\n",
      "hello 7612\n",
      "hello 7613\n",
      "hello 7614\n",
      "hello 7615\n",
      "hello 7616\n",
      "hello 7617\n",
      "hello 7618\n",
      "hello 7619\n",
      "hello 7620\n",
      "hello 7621\n",
      "hello 7622\n",
      "hello 7623\n",
      "hello 7624\n",
      "hello 7625\n",
      "hello 7626\n",
      "hello 7627\n",
      "hello 7628\n",
      "hello 7629\n",
      "hello 7630\n",
      "hello 7631\n",
      "hello 7632\n",
      "hello 7633\n",
      "hello 7634\n",
      "hello 7635\n",
      "hello 7636\n",
      "hello 7637\n",
      "hello 7638\n",
      "hello 7639\n",
      "hello 7640\n",
      "hello 7641\n",
      "hello 7642\n",
      "hello 7643\n",
      "hello 7644\n",
      "hello 7645\n",
      "hello 7646\n",
      "hello 7647\n",
      "hello 7648\n",
      "hello 7649\n",
      "hello 7650\n",
      "hello 7651\n",
      "hello 7652\n",
      "hello 7653\n",
      "hello 7654\n",
      "hello 7655\n",
      "hello 7656\n",
      "hello 7657\n",
      "hello 7658\n",
      "hello 7659\n",
      "hello 7660\n",
      "hello 7661\n",
      "hello 7662\n",
      "hello 7663\n",
      "hello 7664\n",
      "hello 7665\n",
      "hello 7666\n",
      "hello 7667\n",
      "hello 7668\n",
      "hello 7669\n",
      "hello 7670\n",
      "hello 7671\n",
      "hello 7672\n",
      "hello 7673\n",
      "hello 7674\n",
      "hello 7675\n",
      "hello 7676\n",
      "hello 7677\n",
      "hello 7678\n",
      "hello 7679\n",
      "hello 7680\n",
      "hello 7681\n",
      "hello 7682\n",
      "hello 7683\n",
      "hello 7684\n",
      "hello 7685\n",
      "hello 7686\n",
      "hello 7687\n",
      "hello 7688\n",
      "hello 7689\n",
      "hello 7690\n",
      "hello 7691\n",
      "hello 7692\n",
      "hello 7693\n",
      "hello 7694\n",
      "hello 7695\n",
      "hello 7696\n",
      "hello 7697\n",
      "hello 7698\n",
      "hello 7699\n",
      "hello 7700\n",
      "hello 7701\n",
      "hello 7702\n",
      "hello 7703\n",
      "hello 7704\n",
      "hello 7705\n",
      "hello 7706\n",
      "hello 7707\n",
      "hello 7708\n",
      "hello 7709\n",
      "hello 7710\n",
      "hello 7711\n",
      "hello 7712\n",
      "hello 7713\n",
      "hello 7714\n",
      "hello 7715\n",
      "hello 7716\n",
      "hello 7717\n",
      "hello 7718\n",
      "hello 7719\n",
      "hello 7720\n",
      "hello 7721\n",
      "hello 7722\n",
      "hello 7723\n",
      "hello 7724\n",
      "hello 7725\n",
      "hello 7726\n",
      "hello 7727\n",
      "hello 7728\n",
      "hello 7729\n",
      "hello 7730\n",
      "hello 7731\n",
      "hello 7732\n",
      "hello 7733\n",
      "hello 7734\n",
      "hello 7735\n",
      "hello 7736\n",
      "hello 7737\n",
      "hello 7738\n",
      "hello 7739\n",
      "hello 7740\n",
      "hello 7741\n",
      "hello 7742\n",
      "hello 7743\n",
      "hello 7744\n",
      "hello 7745\n",
      "hello 7746\n",
      "hello 7747\n",
      "hello 7748\n",
      "hello 7749\n",
      "hello 7750\n",
      "hello 7751\n",
      "hello 7752\n",
      "hello 7753\n",
      "hello 7754\n",
      "hello 7755\n",
      "hello 7756\n",
      "hello 7757\n",
      "hello 7758\n",
      "hello 7759\n",
      "hello 7760\n",
      "hello 7761\n",
      "hello 7762\n",
      "hello 7763\n",
      "hello 7764\n",
      "hello 7765\n",
      "hello 7766\n",
      "hello 7767\n",
      "hello 7768\n",
      "hello 7769\n",
      "hello 7770\n",
      "hello 7771\n",
      "hello 7772\n",
      "hello 7773\n",
      "hello 7774\n",
      "hello 7775\n",
      "hello 7776\n",
      "hello 7777\n",
      "hello 7778\n",
      "hello 7779\n",
      "hello 7780\n",
      "hello 7781\n",
      "hello 7782\n",
      "hello 7783\n",
      "hello 7784\n",
      "hello 7785\n",
      "hello 7786\n",
      "hello 7787\n",
      "hello 7788\n",
      "hello 7789\n",
      "hello 7790\n",
      "hello 7791\n",
      "hello 7792\n",
      "hello 7793\n",
      "hello 7794\n",
      "hello 7795\n",
      "hello 7796\n",
      "hello 7797\n",
      "hello 7798\n",
      "hello 7799\n",
      "hello 7800\n",
      "hello 7801\n",
      "hello 7802\n",
      "hello 7803\n",
      "hello 7804\n",
      "hello 7805\n",
      "hello 7806\n",
      "hello 7807\n",
      "hello 7808\n",
      "hello 7809\n",
      "hello 7810\n",
      "hello 7811\n",
      "hello 7812\n",
      "hello 7813\n",
      "hello 7814\n",
      "hello 7815\n",
      "hello 7816\n",
      "hello 7817\n",
      "hello 7818\n",
      "hello 7819\n",
      "hello 7820\n",
      "hello 7821\n",
      "hello 7822\n",
      "hello 7823\n",
      "hello 7824\n",
      "hello 7825\n",
      "hello 7826\n",
      "hello 7827\n",
      "hello 7828\n",
      "hello 7829\n",
      "hello 7830\n",
      "hello 7831\n",
      "hello 7832\n",
      "hello 7833\n",
      "hello 7834\n",
      "hello 7835\n",
      "hello 7836\n",
      "hello 7837\n",
      "hello 7838\n",
      "hello 7839\n",
      "hello 7840\n",
      "hello 7841\n",
      "hello 7842\n",
      "hello 7843\n",
      "hello 7844\n",
      "hello 7845\n",
      "hello 7846\n",
      "hello 7847\n",
      "hello 7848\n",
      "hello 7849\n",
      "hello 7850\n",
      "hello 7851\n",
      "hello 7852\n",
      "hello 7853\n",
      "hello 7854\n",
      "hello 7855\n",
      "hello 7856\n",
      "hello 7857\n",
      "hello 7858\n",
      "hello 7859\n",
      "hello 7860\n",
      "hello 7861\n",
      "hello 7862\n",
      "hello 7863\n",
      "hello 7864\n",
      "hello 7865\n",
      "hello 7866\n",
      "hello 7867\n",
      "hello 7868\n",
      "hello 7869\n",
      "hello 7870\n",
      "hello 7871\n",
      "hello 7872\n",
      "hello 7873\n",
      "hello 7874\n",
      "hello 7875\n",
      "hello 7876\n",
      "hello 7877\n",
      "hello 7878\n",
      "hello 7879\n",
      "hello 7880\n",
      "hello 7881\n",
      "hello 7882\n",
      "hello 7883\n",
      "hello 7884\n",
      "hello 7885\n",
      "hello 7886\n",
      "hello 7887\n",
      "hello 7888\n",
      "hello 7889\n",
      "hello 7890\n",
      "hello 7891\n",
      "hello 7892\n",
      "hello 7893\n",
      "hello 7894\n",
      "hello 7895\n",
      "hello 7896\n",
      "hello 7897\n",
      "hello 7898\n",
      "hello 7899\n",
      "hello 7900\n",
      "hello 7901\n",
      "hello 7902\n",
      "hello 7903\n",
      "hello 7904\n",
      "hello 7905\n",
      "hello 7906\n",
      "hello 7907\n",
      "hello 7908\n",
      "hello 7909\n",
      "hello 7910\n",
      "hello 7911\n",
      "hello 7912\n",
      "hello 7913\n",
      "hello 7914\n",
      "hello 7915\n",
      "hello 7916\n",
      "hello 7917\n",
      "hello 7918\n",
      "hello 7919\n",
      "hello 7920\n",
      "hello 7921\n",
      "hello 7922\n",
      "hello 7923\n",
      "hello 7924\n",
      "hello 7925\n",
      "hello 7926\n",
      "hello 7927\n",
      "hello 7928\n",
      "hello 7929\n",
      "hello 7930\n",
      "hello 7931\n",
      "hello 7932\n",
      "hello 7933\n",
      "hello 7934\n",
      "hello 7935\n",
      "hello 7936\n",
      "hello 7937\n",
      "hello 7938\n",
      "hello 7939\n",
      "hello 7940\n",
      "hello 7941\n",
      "hello 7942\n",
      "hello 7943\n",
      "hello 7944\n",
      "hello 7945\n",
      "hello 7946\n",
      "hello 7947\n",
      "hello 7948\n",
      "hello 7949\n",
      "hello 7950\n",
      "hello 7951\n",
      "hello 7952\n",
      "hello 7953\n",
      "hello 7954\n",
      "hello 7955\n",
      "hello 7956\n",
      "hello 7957\n",
      "hello 7958\n",
      "hello 7959\n",
      "hello 7960\n",
      "hello 7961\n",
      "hello 7962\n",
      "hello 7963\n",
      "hello 7964\n",
      "hello 7965\n",
      "hello 7966\n",
      "hello 7967\n",
      "hello 7968\n",
      "hello 7969\n",
      "hello 7970\n",
      "hello 7971\n",
      "hello 7972\n",
      "hello 7973\n",
      "hello 7974\n",
      "hello 7975\n",
      "hello 7976\n",
      "hello 7977\n",
      "hello 7978\n",
      "hello 7979\n",
      "hello 7980\n",
      "hello 7981\n",
      "hello 7982\n",
      "hello 7983\n",
      "hello 7984\n",
      "hello 7985\n",
      "hello 7986\n",
      "hello 7987\n",
      "hello 7988\n",
      "hello 7989\n",
      "hello 7990\n",
      "hello 7991\n",
      "hello 7992\n",
      "hello 7993\n",
      "hello 7994\n",
      "hello 7995\n",
      "hello 7996\n",
      "hello 7997\n",
      "hello 7998\n",
      "hello 7999\n",
      "hello 8000\n",
      "hello 8001\n",
      "hello 8002\n",
      "hello 8003\n",
      "hello 8004\n",
      "hello 8005\n",
      "hello 8006\n",
      "hello 8007\n",
      "hello 8008\n",
      "hello 8009\n",
      "hello 8010\n",
      "hello 8011\n",
      "hello 8012\n",
      "hello 8013\n",
      "hello 8014\n",
      "hello 8015\n",
      "hello 8016\n",
      "hello 8017\n",
      "hello 8018\n",
      "hello 8019\n",
      "hello 8020\n",
      "hello 8021\n",
      "hello 8022\n",
      "hello 8023\n",
      "hello 8024\n",
      "hello 8025\n",
      "hello 8026\n",
      "hello 8027\n",
      "hello 8028\n",
      "hello 8029\n",
      "hello 8030\n",
      "hello 8031\n",
      "hello 8032\n",
      "hello 8033\n",
      "hello 8034\n",
      "hello 8035\n",
      "hello 8036\n",
      "hello 8037\n",
      "hello 8038\n",
      "hello 8039\n",
      "hello 8040\n",
      "hello 8041\n",
      "hello 8042\n",
      "hello 8043\n",
      "hello 8044\n",
      "hello 8045\n",
      "hello 8046\n",
      "hello 8047\n",
      "hello 8048\n",
      "hello 8049\n",
      "hello 8050\n",
      "hello 8051\n",
      "hello 8052\n",
      "hello 8053\n",
      "hello 8054\n",
      "hello 8055\n",
      "hello 8056\n",
      "hello 8057\n",
      "hello 8058\n",
      "hello 8059\n",
      "hello 8060\n",
      "hello 8061\n",
      "hello 8062\n",
      "hello 8063\n",
      "hello 8064\n",
      "hello 8065\n",
      "hello 8066\n",
      "hello 8067\n",
      "hello 8068\n",
      "hello 8069\n",
      "hello 8070\n",
      "hello 8071\n",
      "hello 8072\n",
      "hello 8073\n",
      "hello 8074\n",
      "hello 8075\n",
      "hello 8076\n",
      "hello 8077\n",
      "hello 8078\n",
      "hello 8079\n",
      "hello 8080\n",
      "hello 8081\n",
      "hello 8082\n",
      "hello 8083\n",
      "hello 8084\n",
      "hello 8085\n",
      "hello 8086\n",
      "hello 8087\n",
      "hello 8088\n",
      "hello 8089\n",
      "hello 8090\n",
      "hello 8091\n",
      "hello 8092\n",
      "hello 8093\n",
      "hello 8094\n",
      "hello 8095\n",
      "hello 8096\n",
      "hello 8097\n",
      "hello 8098\n",
      "hello 8099\n",
      "hello 8100\n",
      "hello 8101\n",
      "hello 8102\n",
      "hello 8103\n",
      "hello 8104\n",
      "hello 8105\n",
      "hello 8106\n",
      "hello 8107\n",
      "hello 8108\n",
      "hello 8109\n",
      "hello 8110\n",
      "hello 8111\n",
      "hello 8112\n",
      "hello 8113\n",
      "hello 8114\n",
      "hello 8115\n",
      "hello 8116\n",
      "hello 8117\n",
      "hello 8118\n",
      "hello 8119\n",
      "hello 8120\n",
      "hello 8121\n",
      "hello 8122\n",
      "hello 8123\n",
      "hello 8124\n",
      "hello 8125\n",
      "hello 8126\n",
      "hello 8127\n",
      "hello 8128\n",
      "hello 8129\n",
      "hello 8130\n",
      "hello 8131\n",
      "hello 8132\n",
      "hello 8133\n",
      "hello 8134\n",
      "hello 8135\n",
      "hello 8136\n",
      "hello 8137\n",
      "hello 8138\n",
      "hello 8139\n",
      "hello 8140\n",
      "hello 8141\n",
      "hello 8142\n",
      "hello 8143\n"
     ]
    },
    {
     "name": "stdout",
     "output_type": "stream",
     "text": [
      "hello 8144\n",
      "hello 8145\n",
      "hello 8146\n",
      "hello 8147\n",
      "hello 8148\n",
      "hello 8149\n",
      "hello 8150\n",
      "hello 8151\n",
      "hello 8152\n",
      "hello 8153\n",
      "hello 8154\n",
      "hello 8155\n",
      "hello 8156\n",
      "hello 8157\n",
      "hello 8158\n",
      "hello 8159\n",
      "hello 8160\n",
      "hello 8161\n",
      "hello 8162\n",
      "hello 8163\n",
      "hello 8164\n",
      "hello 8165\n",
      "hello 8166\n",
      "hello 8167\n",
      "hello 8168\n",
      "hello 8169\n",
      "hello 8170\n",
      "hello 8171\n",
      "hello 8172\n",
      "hello 8173\n",
      "hello 8174\n",
      "hello 8175\n",
      "hello 8176\n",
      "hello 8177\n",
      "hello 8178\n",
      "hello 8179\n",
      "hello 8180\n",
      "hello 8181\n",
      "hello 8182\n",
      "hello 8183\n",
      "hello 8184\n",
      "hello 8185\n",
      "hello 8186\n",
      "hello 8187\n",
      "hello 8188\n",
      "hello 8189\n",
      "hello 8190\n",
      "hello 8191\n",
      "hello 8192\n",
      "hello 8193\n",
      "hello 8194\n",
      "hello 8195\n",
      "hello 8196\n",
      "hello 8197\n",
      "hello 8198\n",
      "hello 8199\n",
      "hello 8200\n",
      "hello 8201\n",
      "hello 8202\n",
      "hello 8203\n",
      "hello 8204\n",
      "hello 8205\n",
      "hello 8206\n",
      "hello 8207\n",
      "hello 8208\n",
      "hello 8209\n",
      "hello 8210\n",
      "hello 8211\n",
      "hello 8212\n",
      "hello 8213\n",
      "hello 8214\n",
      "hello 8215\n",
      "hello 8216\n",
      "hello 8217\n",
      "hello 8218\n",
      "hello 8219\n",
      "hello 8220\n",
      "hello 8221\n",
      "hello 8222\n",
      "hello 8223\n",
      "hello 8224\n",
      "hello 8225\n",
      "hello 8226\n",
      "hello 8227\n",
      "hello 8228\n",
      "hello 8229\n",
      "hello 8230\n",
      "hello 8231\n",
      "hello 8232\n",
      "hello 8233\n",
      "hello 8234\n",
      "hello 8235\n",
      "hello 8236\n",
      "hello 8237\n",
      "hello 8238\n",
      "hello 8239\n",
      "hello 8240\n",
      "hello 8241\n",
      "hello 8242\n",
      "hello 8243\n",
      "hello 8244\n",
      "hello 8245\n",
      "hello 8246\n",
      "hello 8247\n",
      "hello 8248\n",
      "hello 8249\n",
      "hello 8250\n",
      "hello 8251\n",
      "hello 8252\n",
      "hello 8253\n",
      "hello 8254\n",
      "hello 8255\n",
      "hello 8256\n",
      "hello 8257\n",
      "hello 8258\n",
      "hello 8259\n",
      "hello 8260\n",
      "hello 8261\n",
      "hello 8262\n",
      "hello 8263\n",
      "hello 8264\n",
      "hello 8265\n",
      "hello 8266\n",
      "hello 8267\n",
      "hello 8268\n",
      "hello 8269\n",
      "hello 8270\n",
      "hello 8271\n",
      "hello 8272\n",
      "hello 8273\n",
      "hello 8274\n",
      "hello 8275\n",
      "hello 8276\n",
      "hello 8277\n",
      "hello 8278\n",
      "hello 8279\n",
      "hello 8280\n",
      "hello 8281\n",
      "hello 8282\n",
      "hello 8283\n",
      "hello 8284\n",
      "hello 8285\n",
      "hello 8286\n",
      "hello 8287\n",
      "hello 8288\n",
      "hello 8289\n",
      "hello 8290\n",
      "hello 8291\n",
      "hello 8292\n",
      "hello 8293\n",
      "hello 8294\n",
      "hello 8295\n",
      "hello 8296\n",
      "hello 8297\n",
      "hello 8298\n",
      "hello 8299\n",
      "hello 8300\n",
      "hello 8301\n",
      "hello 8302\n",
      "hello 8303\n",
      "hello 8304\n",
      "hello 8305\n",
      "hello 8306\n",
      "hello 8307\n",
      "hello 8308\n",
      "hello 8309\n",
      "hello 8310\n",
      "hello 8311\n",
      "hello 8312\n",
      "hello 8313\n",
      "hello 8314\n",
      "hello 8315\n",
      "hello 8316\n",
      "hello 8317\n",
      "hello 8318\n",
      "hello 8319\n",
      "hello 8320\n",
      "hello 8321\n",
      "hello 8322\n",
      "hello 8323\n",
      "hello 8324\n",
      "hello 8325\n",
      "hello 8326\n",
      "hello 8327\n",
      "hello 8328\n",
      "hello 8329\n",
      "hello 8330\n",
      "hello 8331\n",
      "hello 8332\n",
      "hello 8333\n",
      "hello 8334\n",
      "hello 8335\n",
      "hello 8336\n",
      "hello 8337\n",
      "hello 8338\n",
      "hello 8339\n",
      "hello 8340\n",
      "hello 8341\n",
      "hello 8342\n",
      "hello 8343\n",
      "hello 8344\n",
      "hello 8345\n",
      "hello 8346\n",
      "hello 8347\n",
      "hello 8348\n",
      "hello 8349\n",
      "hello 8350\n",
      "hello 8351\n",
      "hello 8352\n",
      "hello 8353\n",
      "hello 8354\n",
      "hello 8355\n",
      "hello 8356\n",
      "hello 8357\n",
      "hello 8358\n",
      "hello 8359\n",
      "hello 8360\n",
      "hello 8361\n",
      "hello 8362\n",
      "hello 8363\n",
      "hello 8364\n",
      "hello 8365\n",
      "hello 8366\n",
      "hello 8367\n",
      "hello 8368\n",
      "hello 8369\n",
      "hello 8370\n",
      "hello 8371\n",
      "hello 8372\n",
      "hello 8373\n",
      "hello 8374\n",
      "hello 8375\n",
      "hello 8376\n",
      "hello 8377\n",
      "hello 8378\n",
      "hello 8379\n",
      "hello 8380\n",
      "hello 8381\n",
      "hello 8382\n",
      "hello 8383\n",
      "hello 8384\n",
      "hello 8385\n",
      "hello 8386\n",
      "hello 8387\n",
      "hello 8388\n",
      "hello 8389\n",
      "hello 8390\n",
      "hello 8391\n",
      "hello 8392\n",
      "hello 8393\n",
      "hello 8394\n",
      "hello 8395\n",
      "hello 8396\n",
      "hello 8397\n",
      "hello 8398\n",
      "hello 8399\n",
      "hello 8400\n",
      "hello 8401\n",
      "hello 8402\n",
      "hello 8403\n",
      "hello 8404\n",
      "hello 8405\n",
      "hello 8406\n",
      "hello 8407\n",
      "hello 8408\n",
      "hello 8409\n",
      "hello 8410\n",
      "hello 8411\n",
      "hello 8412\n",
      "hello 8413\n",
      "hello 8414\n",
      "hello 8415\n",
      "hello 8416\n",
      "hello 8417\n",
      "hello 8418\n",
      "hello 8419\n",
      "hello 8420\n",
      "hello 8421\n",
      "hello 8422\n",
      "hello 8423\n",
      "hello 8424\n",
      "hello 8425\n",
      "hello 8426\n",
      "hello 8427\n",
      "hello 8428\n",
      "hello 8429\n",
      "hello 8430\n",
      "hello 8431\n",
      "hello 8432\n",
      "hello 8433\n",
      "hello 8434\n",
      "hello 8435\n",
      "hello 8436\n",
      "hello 8437\n",
      "hello 8438\n",
      "hello 8439\n",
      "hello 8440\n",
      "hello 8441\n",
      "hello 8442\n",
      "hello 8443\n",
      "hello 8444\n",
      "hello 8445\n",
      "hello 8446\n",
      "hello 8447\n",
      "hello 8448\n",
      "hello 8449\n",
      "hello 8450\n",
      "hello 8451\n",
      "hello 8452\n",
      "hello 8453\n",
      "hello 8454\n",
      "hello 8455\n",
      "hello 8456\n",
      "hello 8457\n",
      "hello 8458\n",
      "hello 8459\n",
      "hello 8460\n",
      "hello 8461\n",
      "hello 8462\n",
      "hello 8463\n",
      "hello 8464\n",
      "hello 8465\n",
      "hello 8466\n",
      "hello 8467\n",
      "hello 8468\n",
      "hello 8469\n",
      "hello 8470\n",
      "hello 8471\n",
      "hello 8472\n",
      "hello 8473\n",
      "hello 8474\n",
      "hello 8475\n",
      "hello 8476\n",
      "hello 8477\n",
      "hello 8478\n",
      "hello 8479\n",
      "hello 8480\n",
      "hello 8481\n",
      "hello 8482\n",
      "hello 8483\n",
      "hello 8484\n",
      "hello 8485\n",
      "hello 8486\n",
      "hello 8487\n",
      "hello 8488\n",
      "hello 8489\n",
      "hello 8490\n",
      "hello 8491\n",
      "hello 8492\n",
      "hello 8493\n",
      "hello 8494\n",
      "hello 8495\n",
      "hello 8496\n",
      "hello 8497\n",
      "hello 8498\n",
      "hello 8499\n",
      "hello 8500\n",
      "hello 8501\n",
      "hello 8502\n",
      "hello 8503\n",
      "hello 8504\n",
      "hello 8505\n",
      "hello 8506\n",
      "hello 8507\n",
      "hello 8508\n",
      "hello 8509\n",
      "hello 8510\n",
      "hello 8511\n",
      "hello 8512\n",
      "hello 8513\n",
      "hello 8514\n",
      "hello 8515\n",
      "hello 8516\n",
      "hello 8517\n",
      "hello 8518\n",
      "hello 8519\n",
      "hello 8520\n",
      "hello 8521\n",
      "hello 8522\n",
      "hello 8523\n",
      "hello 8524\n",
      "hello 8525\n",
      "hello 8526\n",
      "hello 8527\n",
      "hello 8528\n",
      "hello 8529\n",
      "hello 8530\n",
      "hello 8531\n",
      "hello 8532\n",
      "hello 8533\n",
      "hello 8534\n",
      "hello 8535\n",
      "hello 8536\n",
      "hello 8537\n",
      "hello 8538\n",
      "hello 8539\n",
      "hello 8540\n",
      "hello 8541\n",
      "hello 8542\n",
      "hello 8543\n",
      "hello 8544\n",
      "hello 8545\n",
      "hello 8546\n",
      "hello 8547\n",
      "hello 8548\n",
      "hello 8549\n",
      "hello 8550\n",
      "hello 8551\n",
      "hello 8552\n",
      "hello 8553\n",
      "hello 8554\n",
      "hello 8555\n",
      "hello 8556\n",
      "hello 8557\n",
      "hello 8558\n",
      "hello 8559\n",
      "hello 8560\n",
      "hello 8561\n",
      "hello 8562\n",
      "hello 8563\n",
      "hello 8564\n",
      "hello 8565\n",
      "hello 8566\n",
      "hello 8567\n",
      "hello 8568\n",
      "hello 8569\n",
      "hello 8570\n",
      "hello 8571\n",
      "hello 8572\n",
      "hello 8573\n",
      "hello 8574\n",
      "hello 8575\n",
      "hello 8576\n",
      "hello 8577\n",
      "hello 8578\n",
      "hello 8579\n",
      "hello 8580\n",
      "hello 8581\n",
      "hello 8582\n",
      "hello 8583\n",
      "hello 8584\n",
      "hello 8585\n",
      "hello 8586\n",
      "hello 8587\n",
      "hello 8588\n",
      "hello 8589\n",
      "hello 8590\n",
      "hello 8591\n",
      "hello 8592\n",
      "hello 8593\n",
      "hello 8594\n",
      "hello 8595\n",
      "hello 8596\n",
      "hello 8597\n",
      "hello 8598\n",
      "hello 8599\n",
      "hello 8600\n",
      "hello 8601\n",
      "hello 8602\n",
      "hello 8603\n",
      "hello 8604\n",
      "hello 8605\n",
      "hello 8606\n",
      "hello 8607\n",
      "hello 8608\n",
      "hello 8609\n",
      "hello 8610\n",
      "hello 8611\n",
      "hello 8612\n",
      "hello 8613\n",
      "hello 8614\n",
      "hello 8615\n",
      "hello 8616\n",
      "hello 8617\n",
      "hello 8618\n",
      "hello 8619\n",
      "hello 8620\n",
      "hello 8621\n",
      "hello 8622\n",
      "hello 8623\n",
      "hello 8624\n",
      "hello 8625\n",
      "hello 8626\n",
      "hello 8627\n",
      "hello 8628\n",
      "hello 8629\n",
      "hello 8630\n",
      "hello 8631\n",
      "hello 8632\n",
      "hello 8633\n",
      "hello 8634\n",
      "hello 8635\n",
      "hello 8636\n",
      "hello 8637\n",
      "hello 8638\n",
      "hello 8639\n",
      "hello 8640\n",
      "hello 8641\n",
      "hello 8642\n",
      "hello 8643\n",
      "hello 8644\n",
      "hello 8645\n",
      "hello 8646\n",
      "hello 8647\n",
      "hello 8648\n",
      "hello 8649\n",
      "hello 8650\n",
      "hello 8651\n",
      "hello 8652\n",
      "hello 8653\n",
      "hello 8654\n",
      "hello 8655\n",
      "hello 8656\n",
      "hello 8657\n",
      "hello 8658\n",
      "hello 8659\n",
      "hello 8660\n",
      "hello 8661\n",
      "hello 8662\n",
      "hello 8663\n",
      "hello 8664\n",
      "hello 8665\n",
      "hello 8666\n",
      "hello 8667\n",
      "hello 8668\n",
      "hello 8669\n",
      "hello 8670\n",
      "hello 8671\n",
      "hello 8672\n",
      "hello 8673\n",
      "hello 8674\n",
      "hello 8675\n",
      "hello 8676\n",
      "hello 8677\n",
      "hello 8678\n",
      "hello 8679\n",
      "hello 8680\n",
      "hello 8681\n",
      "hello 8682\n",
      "hello 8683\n",
      "hello 8684\n",
      "hello 8685\n",
      "hello 8686\n",
      "hello 8687\n",
      "hello 8688\n",
      "hello 8689\n",
      "hello 8690\n",
      "hello 8691\n",
      "hello 8692\n",
      "hello 8693\n",
      "hello 8694\n",
      "hello 8695\n",
      "hello 8696\n",
      "hello 8697\n",
      "hello 8698\n",
      "hello 8699\n",
      "hello 8700\n",
      "hello 8701\n",
      "hello 8702\n",
      "hello 8703\n",
      "hello 8704\n",
      "hello 8705\n",
      "hello 8706\n",
      "hello 8707\n",
      "hello 8708\n",
      "hello 8709\n",
      "hello 8710\n",
      "hello 8711\n",
      "hello 8712\n",
      "hello 8713\n",
      "hello 8714\n",
      "hello 8715\n",
      "hello 8716\n",
      "hello 8717\n",
      "hello 8718\n",
      "hello 8719\n",
      "hello 8720\n",
      "hello 8721\n",
      "hello 8722\n",
      "hello 8723\n",
      "hello 8724\n",
      "hello 8725\n",
      "hello 8726\n",
      "hello 8727\n",
      "hello 8728\n",
      "hello 8729\n",
      "hello 8730\n",
      "hello 8731\n",
      "hello 8732\n",
      "hello 8733\n",
      "hello 8734\n",
      "hello 8735\n",
      "hello 8736\n",
      "hello 8737\n",
      "hello 8738\n",
      "hello 8739\n",
      "hello 8740\n",
      "hello 8741\n",
      "hello 8742\n",
      "hello 8743\n",
      "hello 8744\n",
      "hello 8745\n",
      "hello 8746\n",
      "hello 8747\n",
      "hello 8748\n",
      "hello 8749\n",
      "hello 8750\n",
      "hello 8751\n",
      "hello 8752\n",
      "hello 8753\n",
      "hello 8754\n",
      "hello 8755\n",
      "hello 8756\n",
      "hello 8757\n",
      "hello 8758\n",
      "hello 8759\n",
      "hello 8760\n",
      "hello 8761\n",
      "hello 8762\n",
      "hello 8763\n",
      "hello 8764\n",
      "hello 8765\n",
      "hello 8766\n",
      "hello 8767\n",
      "hello 8768\n",
      "hello 8769\n",
      "hello 8770\n",
      "hello 8771\n",
      "hello 8772\n",
      "hello 8773\n",
      "hello 8774\n",
      "hello 8775\n",
      "hello 8776\n",
      "hello 8777\n",
      "hello 8778\n",
      "hello 8779\n",
      "hello 8780\n",
      "hello 8781\n",
      "hello 8782\n",
      "hello 8783\n",
      "hello 8784\n",
      "hello 8785\n",
      "hello 8786\n",
      "hello 8787\n",
      "hello 8788\n",
      "hello 8789\n",
      "hello 8790\n",
      "hello 8791\n",
      "hello 8792\n",
      "hello 8793\n",
      "hello 8794\n",
      "hello 8795\n",
      "hello 8796\n",
      "hello 8797\n",
      "hello 8798\n",
      "hello 8799\n",
      "hello 8800\n",
      "hello 8801\n",
      "hello 8802\n",
      "hello 8803\n",
      "hello 8804\n",
      "hello 8805\n",
      "hello 8806\n",
      "hello 8807\n",
      "hello 8808\n",
      "hello 8809\n",
      "hello 8810\n",
      "hello 8811\n",
      "hello 8812\n",
      "hello 8813\n",
      "hello 8814\n",
      "hello 8815\n",
      "hello 8816\n",
      "hello 8817\n",
      "hello 8818\n",
      "hello 8819\n",
      "hello 8820\n",
      "hello 8821\n",
      "hello 8822\n",
      "hello 8823\n",
      "hello 8824\n",
      "hello 8825\n",
      "hello 8826\n",
      "hello 8827\n",
      "hello 8828\n",
      "hello 8829\n",
      "hello 8830\n",
      "hello 8831\n",
      "hello 8832\n",
      "hello 8833\n",
      "hello 8834\n",
      "hello 8835\n",
      "hello 8836\n",
      "hello 8837\n",
      "hello 8838\n",
      "hello 8839\n",
      "hello 8840\n",
      "hello 8841\n",
      "hello 8842\n",
      "hello 8843\n",
      "hello 8844\n",
      "hello 8845\n",
      "hello 8846\n",
      "hello 8847\n",
      "hello 8848\n",
      "hello 8849\n",
      "hello 8850\n",
      "hello 8851\n",
      "hello 8852\n",
      "hello 8853\n",
      "hello 8854\n",
      "hello 8855\n",
      "hello 8856\n",
      "hello 8857\n",
      "hello 8858\n",
      "hello 8859\n",
      "hello 8860\n",
      "hello 8861\n",
      "hello 8862\n",
      "hello 8863\n",
      "hello 8864\n",
      "hello 8865\n",
      "hello 8866\n",
      "hello 8867\n",
      "hello 8868\n",
      "hello 8869\n",
      "hello 8870\n",
      "hello 8871\n",
      "hello 8872\n",
      "hello 8873\n",
      "hello 8874\n",
      "hello 8875\n",
      "hello 8876\n",
      "hello 8877\n",
      "hello 8878\n",
      "hello 8879\n",
      "hello 8880\n",
      "hello 8881\n",
      "hello 8882\n",
      "hello 8883\n",
      "hello 8884\n",
      "hello 8885\n",
      "hello 8886\n",
      "hello 8887\n",
      "hello 8888\n",
      "hello 8889\n",
      "hello 8890\n",
      "hello 8891\n",
      "hello 8892\n",
      "hello 8893\n",
      "hello 8894\n",
      "hello 8895\n",
      "hello 8896\n",
      "hello 8897\n",
      "hello 8898\n",
      "hello 8899\n",
      "hello 8900\n",
      "hello 8901\n",
      "hello 8902\n",
      "hello 8903\n",
      "hello 8904\n",
      "hello 8905\n",
      "hello 8906\n",
      "hello 8907\n",
      "hello 8908\n",
      "hello 8909\n",
      "hello 8910\n",
      "hello 8911\n",
      "hello 8912\n",
      "hello 8913\n",
      "hello 8914\n",
      "hello 8915\n",
      "hello 8916\n",
      "hello 8917\n",
      "hello 8918\n",
      "hello 8919\n",
      "hello 8920\n",
      "hello 8921\n",
      "hello 8922\n",
      "hello 8923\n",
      "hello 8924\n",
      "hello 8925\n",
      "hello 8926\n",
      "hello 8927\n",
      "hello 8928\n",
      "hello 8929\n",
      "hello 8930\n",
      "hello 8931\n",
      "hello 8932\n",
      "hello 8933\n",
      "hello 8934\n",
      "hello 8935\n",
      "hello 8936\n",
      "hello 8937\n",
      "hello 8938\n",
      "hello 8939\n",
      "hello 8940\n",
      "hello 8941\n",
      "hello 8942\n",
      "hello 8943\n",
      "hello 8944\n",
      "hello 8945\n",
      "hello 8946\n",
      "hello 8947\n",
      "hello 8948\n",
      "hello 8949\n",
      "hello 8950\n",
      "hello 8951\n",
      "hello 8952\n",
      "hello 8953\n",
      "hello 8954\n",
      "hello 8955\n",
      "hello 8956\n",
      "hello 8957\n",
      "hello 8958\n",
      "hello 8959\n",
      "hello 8960\n",
      "hello 8961\n",
      "hello 8962\n",
      "hello 8963\n",
      "hello 8964\n",
      "hello 8965\n",
      "hello 8966\n",
      "hello 8967\n",
      "hello 8968\n",
      "hello 8969\n",
      "hello 8970\n",
      "hello 8971\n",
      "hello 8972\n",
      "hello 8973\n",
      "hello 8974\n",
      "hello 8975\n",
      "hello 8976\n",
      "hello 8977\n",
      "hello 8978\n",
      "hello 8979\n",
      "hello 8980\n",
      "hello 8981\n",
      "hello 8982\n",
      "hello 8983\n",
      "hello 8984\n",
      "hello 8985\n",
      "hello 8986\n",
      "hello 8987\n",
      "hello 8988\n",
      "hello 8989\n",
      "hello 8990\n",
      "hello 8991\n",
      "hello 8992\n",
      "hello 8993\n",
      "hello 8994\n",
      "hello 8995\n",
      "hello 8996\n",
      "hello 8997\n",
      "hello 8998\n",
      "hello 8999\n",
      "hello 9000\n",
      "hello 9001\n",
      "hello 9002\n",
      "hello 9003\n",
      "hello 9004\n",
      "hello 9005\n",
      "hello 9006\n",
      "hello 9007\n",
      "hello 9008\n",
      "hello 9009\n",
      "hello 9010\n",
      "hello 9011\n",
      "hello 9012\n",
      "hello 9013\n",
      "hello 9014\n",
      "hello 9015\n",
      "hello 9016\n",
      "hello 9017\n",
      "hello 9018\n",
      "hello 9019\n",
      "hello 9020\n",
      "hello 9021\n",
      "hello 9022\n",
      "hello 9023\n",
      "hello 9024\n",
      "hello 9025\n",
      "hello 9026\n",
      "hello 9027\n",
      "hello 9028\n",
      "hello 9029\n",
      "hello 9030\n",
      "hello 9031\n",
      "hello 9032\n",
      "hello 9033\n",
      "hello 9034\n",
      "hello 9035\n",
      "hello 9036\n",
      "hello 9037\n",
      "hello 9038\n",
      "hello 9039\n",
      "hello 9040\n",
      "hello 9041\n",
      "hello 9042\n",
      "hello 9043\n",
      "hello 9044\n",
      "hello 9045\n",
      "hello 9046\n",
      "hello 9047\n",
      "hello 9048\n",
      "hello 9049\n",
      "hello 9050\n",
      "hello 9051\n",
      "hello 9052\n",
      "hello 9053\n",
      "hello 9054\n",
      "hello 9055\n",
      "hello 9056\n",
      "hello 9057\n",
      "hello 9058\n",
      "hello 9059\n",
      "hello 9060\n",
      "hello 9061\n",
      "hello 9062\n",
      "hello 9063\n",
      "hello 9064\n",
      "hello 9065\n",
      "hello 9066\n",
      "hello 9067\n",
      "hello 9068\n",
      "hello 9069\n",
      "hello 9070\n",
      "hello 9071\n",
      "hello 9072\n",
      "hello 9073\n",
      "hello 9074\n",
      "hello 9075\n",
      "hello 9076\n",
      "hello 9077\n",
      "hello 9078\n",
      "hello 9079\n",
      "hello 9080\n",
      "hello 9081\n",
      "hello 9082\n",
      "hello 9083\n",
      "hello 9084\n",
      "hello 9085\n",
      "hello 9086\n",
      "hello 9087\n",
      "hello 9088\n",
      "hello 9089\n",
      "hello 9090\n",
      "hello 9091\n",
      "hello 9092\n",
      "hello 9093\n",
      "hello 9094\n",
      "hello 9095\n",
      "hello 9096\n",
      "hello 9097\n",
      "hello 9098\n",
      "hello 9099\n",
      "hello 9100\n",
      "hello 9101\n",
      "hello 9102\n",
      "hello 9103\n",
      "hello 9104\n",
      "hello 9105\n",
      "hello 9106\n",
      "hello 9107\n",
      "hello 9108\n",
      "hello 9109\n",
      "hello 9110\n",
      "hello 9111\n",
      "hello 9112\n",
      "hello 9113\n",
      "hello 9114\n",
      "hello 9115\n",
      "hello 9116\n",
      "hello 9117\n",
      "hello 9118\n",
      "hello 9119\n",
      "hello 9120\n",
      "hello 9121\n",
      "hello 9122\n",
      "hello 9123\n",
      "hello 9124\n",
      "hello 9125\n",
      "hello 9126\n",
      "hello 9127\n",
      "hello 9128\n",
      "hello 9129\n",
      "hello 9130\n",
      "hello 9131\n",
      "hello 9132\n",
      "hello 9133\n",
      "hello 9134\n",
      "hello 9135\n",
      "hello 9136\n",
      "hello 9137\n",
      "hello 9138\n",
      "hello 9139\n",
      "hello 9140\n",
      "hello 9141\n",
      "hello 9142\n",
      "hello 9143\n"
     ]
    },
    {
     "name": "stdout",
     "output_type": "stream",
     "text": [
      "hello 9144\n",
      "hello 9145\n",
      "hello 9146\n",
      "hello 9147\n",
      "hello 9148\n",
      "hello 9149\n",
      "hello 9150\n",
      "hello 9151\n",
      "hello 9152\n",
      "hello 9153\n",
      "hello 9154\n",
      "hello 9155\n",
      "hello 9156\n",
      "hello 9157\n",
      "hello 9158\n",
      "hello 9159\n",
      "hello 9160\n",
      "hello 9161\n",
      "hello 9162\n",
      "hello 9163\n",
      "hello 9164\n",
      "hello 9165\n",
      "hello 9166\n",
      "hello 9167\n",
      "hello 9168\n",
      "hello 9169\n",
      "hello 9170\n",
      "hello 9171\n",
      "hello 9172\n",
      "hello 9173\n",
      "hello 9174\n",
      "hello 9175\n",
      "hello 9176\n",
      "hello 9177\n",
      "hello 9178\n",
      "hello 9179\n",
      "hello 9180\n",
      "hello 9181\n",
      "hello 9182\n",
      "hello 9183\n",
      "hello 9184\n",
      "hello 9185\n",
      "hello 9186\n",
      "hello 9187\n",
      "hello 9188\n",
      "hello 9189\n",
      "hello 9190\n",
      "hello 9191\n",
      "hello 9192\n",
      "hello 9193\n",
      "hello 9194\n",
      "hello 9195\n",
      "hello 9196\n",
      "hello 9197\n",
      "hello 9198\n",
      "hello 9199\n",
      "hello 9200\n",
      "hello 9201\n",
      "hello 9202\n",
      "hello 9203\n",
      "hello 9204\n",
      "hello 9205\n",
      "hello 9206\n",
      "hello 9207\n",
      "hello 9208\n",
      "hello 9209\n",
      "hello 9210\n",
      "hello 9211\n",
      "hello 9212\n",
      "hello 9213\n",
      "hello 9214\n",
      "hello 9215\n",
      "hello 9216\n",
      "hello 9217\n",
      "hello 9218\n",
      "hello 9219\n",
      "hello 9220\n",
      "hello 9221\n",
      "hello 9222\n",
      "hello 9223\n",
      "hello 9224\n",
      "hello 9225\n",
      "hello 9226\n",
      "hello 9227\n",
      "hello 9228\n",
      "hello 9229\n",
      "hello 9230\n",
      "hello 9231\n",
      "hello 9232\n",
      "hello 9233\n",
      "hello 9234\n",
      "hello 9235\n",
      "hello 9236\n",
      "hello 9237\n",
      "hello 9238\n",
      "hello 9239\n",
      "hello 9240\n",
      "hello 9241\n",
      "hello 9242\n",
      "hello 9243\n",
      "hello 9244\n",
      "hello 9245\n",
      "hello 9246\n",
      "hello 9247\n",
      "hello 9248\n",
      "hello 9249\n",
      "hello 9250\n",
      "hello 9251\n",
      "hello 9252\n",
      "hello 9253\n",
      "hello 9254\n",
      "hello 9255\n",
      "hello 9256\n",
      "hello 9257\n",
      "hello 9258\n",
      "hello 9259\n",
      "hello 9260\n",
      "hello 9261\n",
      "hello 9262\n",
      "hello 9263\n",
      "hello 9264\n",
      "hello 9265\n",
      "hello 9266\n",
      "hello 9267\n",
      "hello 9268\n",
      "hello 9269\n",
      "hello 9270\n",
      "hello 9271\n",
      "hello 9272\n",
      "hello 9273\n",
      "hello 9274\n",
      "hello 9275\n",
      "hello 9276\n",
      "hello 9277\n",
      "hello 9278\n",
      "hello 9279\n",
      "hello 9280\n",
      "hello 9281\n",
      "hello 9282\n",
      "hello 9283\n",
      "hello 9284\n",
      "hello 9285\n",
      "hello 9286\n",
      "hello 9287\n",
      "hello 9288\n",
      "hello 9289\n",
      "hello 9290\n",
      "hello 9291\n",
      "hello 9292\n",
      "hello 9293\n",
      "hello 9294\n",
      "hello 9295\n",
      "hello 9296\n",
      "hello 9297\n",
      "hello 9298\n",
      "hello 9299\n",
      "hello 9300\n",
      "hello 9301\n",
      "hello 9302\n",
      "hello 9303\n",
      "hello 9304\n",
      "hello 9305\n",
      "hello 9306\n",
      "hello 9307\n",
      "hello 9308\n",
      "hello 9309\n",
      "hello 9310\n",
      "hello 9311\n",
      "hello 9312\n",
      "hello 9313\n",
      "hello 9314\n",
      "hello 9315\n",
      "hello 9316\n",
      "hello 9317\n",
      "hello 9318\n",
      "hello 9319\n",
      "hello 9320\n",
      "hello 9321\n",
      "hello 9322\n",
      "hello 9323\n",
      "hello 9324\n",
      "hello 9325\n",
      "hello 9326\n",
      "hello 9327\n",
      "hello 9328\n",
      "hello 9329\n",
      "hello 9330\n",
      "hello 9331\n",
      "hello 9332\n",
      "hello 9333\n",
      "hello 9334\n",
      "hello 9335\n",
      "hello 9336\n",
      "hello 9337\n",
      "hello 9338\n",
      "hello 9339\n",
      "hello 9340\n",
      "hello 9341\n",
      "hello 9342\n",
      "hello 9343\n",
      "hello 9344\n",
      "hello 9345\n",
      "hello 9346\n",
      "hello 9347\n",
      "hello 9348\n",
      "hello 9349\n",
      "hello 9350\n",
      "hello 9351\n",
      "hello 9352\n",
      "hello 9353\n",
      "hello 9354\n",
      "hello 9355\n",
      "hello 9356\n",
      "hello 9357\n",
      "hello 9358\n",
      "hello 9359\n",
      "hello 9360\n",
      "hello 9361\n",
      "hello 9362\n",
      "hello 9363\n",
      "hello 9364\n",
      "hello 9365\n",
      "hello 9366\n",
      "hello 9367\n",
      "hello 9368\n",
      "hello 9369\n",
      "hello 9370\n",
      "hello 9371\n",
      "hello 9372\n",
      "hello 9373\n",
      "hello 9374\n",
      "hello 9375\n",
      "hello 9376\n",
      "hello 9377\n",
      "hello 9378\n",
      "hello 9379\n",
      "hello 9380\n",
      "hello 9381\n",
      "hello 9382\n",
      "hello 9383\n",
      "hello 9384\n",
      "hello 9385\n",
      "hello 9386\n",
      "hello 9387\n",
      "hello 9388\n",
      "hello 9389\n",
      "hello 9390\n",
      "hello 9391\n",
      "hello 9392\n",
      "hello 9393\n",
      "hello 9394\n",
      "hello 9395\n",
      "hello 9396\n",
      "hello 9397\n",
      "hello 9398\n",
      "hello 9399\n",
      "hello 9400\n",
      "hello 9401\n",
      "hello 9402\n",
      "hello 9403\n",
      "hello 9404\n",
      "hello 9405\n",
      "hello 9406\n",
      "hello 9407\n",
      "hello 9408\n",
      "hello 9409\n",
      "hello 9410\n",
      "hello 9411\n",
      "hello 9412\n",
      "hello 9413\n",
      "hello 9414\n",
      "hello 9415\n",
      "hello 9416\n",
      "hello 9417\n",
      "hello 9418\n",
      "hello 9419\n",
      "hello 9420\n",
      "hello 9421\n",
      "hello 9422\n",
      "hello 9423\n",
      "hello 9424\n",
      "hello 9425\n",
      "hello 9426\n",
      "hello 9427\n",
      "hello 9428\n",
      "hello 9429\n",
      "hello 9430\n",
      "hello 9431\n",
      "hello 9432\n",
      "hello 9433\n",
      "hello 9434\n",
      "hello 9435\n",
      "hello 9436\n",
      "hello 9437\n",
      "hello 9438\n",
      "hello 9439\n",
      "hello 9440\n",
      "hello 9441\n",
      "hello 9442\n",
      "hello 9443\n",
      "hello 9444\n",
      "hello 9445\n",
      "hello 9446\n",
      "hello 9447\n",
      "hello 9448\n",
      "hello 9449\n",
      "hello 9450\n",
      "hello 9451\n",
      "hello 9452\n",
      "hello 9453\n",
      "hello 9454\n",
      "hello 9455\n",
      "hello 9456\n",
      "hello 9457\n",
      "hello 9458\n",
      "hello 9459\n",
      "hello 9460\n",
      "hello 9461\n",
      "hello 9462\n",
      "hello 9463\n",
      "hello 9464\n",
      "hello 9465\n",
      "hello 9466\n",
      "hello 9467\n",
      "hello 9468\n",
      "hello 9469\n",
      "hello 9470\n",
      "hello 9471\n",
      "hello 9472\n",
      "hello 9473\n",
      "hello 9474\n",
      "hello 9475\n",
      "hello 9476\n",
      "hello 9477\n",
      "hello 9478\n",
      "hello 9479\n",
      "hello 9480\n",
      "hello 9481\n",
      "hello 9482\n",
      "hello 9483\n",
      "hello 9484\n",
      "hello 9485\n",
      "hello 9486\n",
      "hello 9487\n",
      "hello 9488\n",
      "hello 9489\n",
      "hello 9490\n",
      "hello 9491\n",
      "hello 9492\n",
      "hello 9493\n",
      "hello 9494\n",
      "hello 9495\n",
      "hello 9496\n",
      "hello 9497\n",
      "hello 9498\n",
      "hello 9499\n",
      "hello 9500\n",
      "hello 9501\n",
      "hello 9502\n",
      "hello 9503\n",
      "hello 9504\n",
      "hello 9505\n",
      "hello 9506\n",
      "hello 9507\n",
      "hello 9508\n",
      "hello 9509\n",
      "hello 9510\n",
      "hello 9511\n",
      "hello 9512\n",
      "hello 9513\n",
      "hello 9514\n",
      "hello 9515\n",
      "hello 9516\n",
      "hello 9517\n",
      "hello 9518\n",
      "hello 9519\n",
      "hello 9520\n",
      "hello 9521\n",
      "hello 9522\n",
      "hello 9523\n",
      "hello 9524\n",
      "hello 9525\n",
      "hello 9526\n",
      "hello 9527\n",
      "hello 9528\n",
      "hello 9529\n",
      "hello 9530\n",
      "hello 9531\n",
      "hello 9532\n",
      "hello 9533\n",
      "hello 9534\n",
      "hello 9535\n",
      "hello 9536\n",
      "hello 9537\n",
      "hello 9538\n",
      "hello 9539\n",
      "hello 9540\n",
      "hello 9541\n",
      "hello 9542\n",
      "hello 9543\n",
      "hello 9544\n",
      "hello 9545\n",
      "hello 9546\n",
      "hello 9547\n",
      "hello 9548\n",
      "hello 9549\n",
      "hello 9550\n",
      "hello 9551\n",
      "hello 9552\n",
      "hello 9553\n",
      "hello 9554\n",
      "hello 9555\n",
      "hello 9556\n",
      "hello 9557\n",
      "hello 9558\n",
      "hello 9559\n",
      "hello 9560\n",
      "hello 9561\n",
      "hello 9562\n",
      "hello 9563\n",
      "hello 9564\n",
      "hello 9565\n",
      "hello 9566\n",
      "hello 9567\n",
      "hello 9568\n",
      "hello 9569\n",
      "hello 9570\n",
      "hello 9571\n",
      "hello 9572\n",
      "hello 9573\n",
      "hello 9574\n",
      "hello 9575\n",
      "hello 9576\n",
      "hello 9577\n",
      "hello 9578\n",
      "hello 9579\n",
      "hello 9580\n",
      "hello 9581\n",
      "hello 9582\n",
      "hello 9583\n",
      "hello 9584\n",
      "hello 9585\n",
      "hello 9586\n",
      "hello 9587\n",
      "hello 9588\n",
      "hello 9589\n",
      "hello 9590\n",
      "hello 9591\n",
      "hello 9592\n",
      "hello 9593\n",
      "hello 9594\n",
      "hello 9595\n",
      "hello 9596\n",
      "hello 9597\n",
      "hello 9598\n",
      "hello 9599\n",
      "hello 9600\n",
      "hello 9601\n",
      "hello 9602\n",
      "hello 9603\n",
      "hello 9604\n",
      "hello 9605\n",
      "hello 9606\n",
      "hello 9607\n",
      "hello 9608\n",
      "hello 9609\n",
      "hello 9610\n",
      "hello 9611\n",
      "hello 9612\n",
      "hello 9613\n",
      "hello 9614\n",
      "hello 9615\n",
      "hello 9616\n",
      "hello 9617\n",
      "hello 9618\n",
      "hello 9619\n",
      "hello 9620\n",
      "hello 9621\n",
      "hello 9622\n",
      "hello 9623\n",
      "hello 9624\n",
      "hello 9625\n",
      "hello 9626\n",
      "hello 9627\n",
      "hello 9628\n",
      "hello 9629\n",
      "hello 9630\n",
      "hello 9631\n",
      "hello 9632\n",
      "hello 9633\n",
      "hello 9634\n",
      "hello 9635\n",
      "hello 9636\n",
      "hello 9637\n",
      "hello 9638\n",
      "hello 9639\n",
      "hello 9640\n",
      "hello 9641\n",
      "hello 9642\n",
      "hello 9643\n",
      "hello 9644\n",
      "hello 9645\n",
      "hello 9646\n",
      "hello 9647\n",
      "hello 9648\n",
      "hello 9649\n",
      "hello 9650\n",
      "hello 9651\n",
      "hello 9652\n",
      "hello 9653\n",
      "hello 9654\n",
      "hello 9655\n",
      "hello 9656\n",
      "hello 9657\n",
      "hello 9658\n",
      "hello 9659\n",
      "hello 9660\n",
      "hello 9661\n",
      "hello 9662\n",
      "hello 9663\n",
      "hello 9664\n",
      "hello 9665\n",
      "hello 9666\n",
      "hello 9667\n",
      "hello 9668\n",
      "hello 9669\n",
      "hello 9670\n",
      "hello 9671\n",
      "hello 9672\n",
      "hello 9673\n",
      "hello 9674\n",
      "hello 9675\n",
      "hello 9676\n",
      "hello 9677\n",
      "hello 9678\n",
      "hello 9679\n",
      "hello 9680\n",
      "hello 9681\n",
      "hello 9682\n",
      "hello 9683\n",
      "hello 9684\n",
      "hello 9685\n",
      "hello 9686\n",
      "hello 9687\n",
      "hello 9688\n",
      "hello 9689\n",
      "hello 9690\n",
      "hello 9691\n",
      "hello 9692\n",
      "hello 9693\n",
      "hello 9694\n",
      "hello 9695\n",
      "hello 9696\n",
      "hello 9697\n",
      "hello 9698\n",
      "hello 9699\n",
      "hello 9700\n",
      "hello 9701\n",
      "hello 9702\n",
      "hello 9703\n",
      "hello 9704\n",
      "hello 9705\n",
      "hello 9706\n",
      "hello 9707\n",
      "hello 9708\n",
      "hello 9709\n",
      "hello 9710\n",
      "hello 9711\n",
      "hello 9712\n",
      "hello 9713\n",
      "hello 9714\n",
      "hello 9715\n",
      "hello 9716\n",
      "hello 9717\n",
      "hello 9718\n",
      "hello 9719\n",
      "hello 9720\n",
      "hello 9721\n",
      "hello 9722\n",
      "hello 9723\n",
      "hello 9724\n",
      "hello 9725\n",
      "hello 9726\n",
      "hello 9727\n",
      "hello 9728\n",
      "hello 9729\n",
      "hello 9730\n",
      "hello 9731\n",
      "hello 9732\n",
      "hello 9733\n",
      "hello 9734\n",
      "hello 9735\n",
      "hello 9736\n",
      "hello 9737\n",
      "hello 9738\n",
      "hello 9739\n",
      "hello 9740\n",
      "hello 9741\n",
      "hello 9742\n",
      "hello 9743\n",
      "hello 9744\n",
      "hello 9745\n",
      "hello 9746\n",
      "hello 9747\n",
      "hello 9748\n",
      "hello 9749\n",
      "hello 9750\n",
      "hello 9751\n",
      "hello 9752\n",
      "hello 9753\n",
      "hello 9754\n",
      "hello 9755\n",
      "hello 9756\n",
      "hello 9757\n",
      "hello 9758\n",
      "hello 9759\n",
      "hello 9760\n",
      "hello 9761\n",
      "hello 9762\n",
      "hello 9763\n",
      "hello 9764\n",
      "hello 9765\n",
      "hello 9766\n",
      "hello 9767\n",
      "hello 9768\n",
      "hello 9769\n",
      "hello 9770\n",
      "hello 9771\n",
      "hello 9772\n",
      "hello 9773\n",
      "hello 9774\n",
      "hello 9775\n",
      "hello 9776\n",
      "hello 9777\n",
      "hello 9778\n",
      "hello 9779\n",
      "hello 9780\n",
      "hello 9781\n",
      "hello 9782\n",
      "hello 9783\n",
      "hello 9784\n",
      "hello 9785\n",
      "hello 9786\n",
      "hello 9787\n",
      "hello 9788\n",
      "hello 9789\n",
      "hello 9790\n",
      "hello 9791\n",
      "hello 9792\n",
      "hello 9793\n",
      "hello 9794\n",
      "hello 9795\n",
      "hello 9796\n",
      "hello 9797\n",
      "hello 9798\n",
      "hello 9799\n",
      "hello 9800\n",
      "hello 9801\n",
      "hello 9802\n",
      "hello 9803\n",
      "hello 9804\n",
      "hello 9805\n",
      "hello 9806\n",
      "hello 9807\n",
      "hello 9808\n",
      "hello 9809\n",
      "hello 9810\n",
      "hello 9811\n",
      "hello 9812\n",
      "hello 9813\n",
      "hello 9814\n",
      "hello 9815\n",
      "hello 9816\n",
      "hello 9817\n",
      "hello 9818\n",
      "hello 9819\n",
      "hello 9820\n",
      "hello 9821\n",
      "hello 9822\n",
      "hello 9823\n",
      "hello 9824\n",
      "hello 9825\n",
      "hello 9826\n",
      "hello 9827\n",
      "hello 9828\n",
      "hello 9829\n",
      "hello 9830\n",
      "hello 9831\n",
      "hello 9832\n",
      "hello 9833\n",
      "hello 9834\n",
      "hello 9835\n",
      "hello 9836\n",
      "hello 9837\n",
      "hello 9838\n",
      "hello 9839\n",
      "hello 9840\n",
      "hello 9841\n",
      "hello 9842\n",
      "hello 9843\n",
      "hello 9844\n",
      "hello 9845\n",
      "hello 9846\n",
      "hello 9847\n",
      "hello 9848\n",
      "hello 9849\n",
      "hello 9850\n",
      "hello 9851\n",
      "hello 9852\n",
      "hello 9853\n",
      "hello 9854\n",
      "hello 9855\n",
      "hello 9856\n",
      "hello 9857\n",
      "hello 9858\n",
      "hello 9859\n",
      "hello 9860\n",
      "hello 9861\n",
      "hello 9862\n",
      "hello 9863\n",
      "hello 9864\n",
      "hello 9865\n",
      "hello 9866\n",
      "hello 9867\n",
      "hello 9868\n",
      "hello 9869\n",
      "hello 9870\n",
      "hello 9871\n",
      "hello 9872\n",
      "hello 9873\n",
      "hello 9874\n",
      "hello 9875\n",
      "hello 9876\n",
      "hello 9877\n",
      "hello 9878\n",
      "hello 9879\n",
      "hello 9880\n",
      "hello 9881\n",
      "hello 9882\n",
      "hello 9883\n",
      "hello 9884\n",
      "hello 9885\n",
      "hello 9886\n",
      "hello 9887\n",
      "hello 9888\n",
      "hello 9889\n",
      "hello 9890\n",
      "hello 9891\n",
      "hello 9892\n",
      "hello 9893\n",
      "hello 9894\n",
      "hello 9895\n",
      "hello 9896\n",
      "hello 9897\n",
      "hello 9898\n",
      "hello 9899\n",
      "hello 9900\n",
      "hello 9901\n",
      "hello 9902\n",
      "hello 9903\n",
      "hello 9904\n",
      "hello 9905\n",
      "hello 9906\n",
      "hello 9907\n",
      "hello 9908\n",
      "hello 9909\n",
      "hello 9910\n",
      "hello 9911\n",
      "hello 9912\n",
      "hello 9913\n",
      "hello 9914\n",
      "hello 9915\n",
      "hello 9916\n",
      "hello 9917\n",
      "hello 9918\n",
      "hello 9919\n",
      "hello 9920\n",
      "hello 9921\n",
      "hello 9922\n",
      "hello 9923\n",
      "hello 9924\n",
      "hello 9925\n",
      "hello 9926\n",
      "hello 9927\n",
      "hello 9928\n",
      "hello 9929\n",
      "hello 9930\n",
      "hello 9931\n",
      "hello 9932\n",
      "hello 9933\n",
      "hello 9934\n",
      "hello 9935\n",
      "hello 9936\n",
      "hello 9937\n",
      "hello 9938\n",
      "hello 9939\n",
      "hello 9940\n",
      "hello 9941\n",
      "hello 9942\n",
      "hello 9943\n",
      "hello 9944\n",
      "hello 9945\n",
      "hello 9946\n",
      "hello 9947\n",
      "hello 9948\n",
      "hello 9949\n",
      "hello 9950\n",
      "hello 9951\n",
      "hello 9952\n",
      "hello 9953\n",
      "hello 9954\n",
      "hello 9955\n",
      "hello 9956\n",
      "hello 9957\n",
      "hello 9958\n",
      "hello 9959\n",
      "hello 9960\n",
      "hello 9961\n",
      "hello 9962\n",
      "hello 9963\n",
      "hello 9964\n",
      "hello 9965\n",
      "hello 9966\n",
      "hello 9967\n",
      "hello 9968\n",
      "hello 9969\n",
      "hello 9970\n",
      "hello 9971\n",
      "hello 9972\n",
      "hello 9973\n",
      "hello 9974\n",
      "hello 9975\n",
      "hello 9976\n",
      "hello 9977\n",
      "hello 9978\n",
      "hello 9979\n",
      "hello 9980\n",
      "hello 9981\n",
      "hello 9982\n",
      "hello 9983\n",
      "hello 9984\n",
      "hello 9985\n",
      "hello 9986\n",
      "hello 9987\n",
      "hello 9988\n",
      "hello 9989\n",
      "hello 9990\n",
      "hello 9991\n",
      "hello 9992\n",
      "hello 9993\n",
      "hello 9994\n",
      "hello 9995\n",
      "hello 9996\n",
      "hello 9997\n",
      "hello 9998\n",
      "hello 9999\n",
      "hello 10000\n",
      "hello 10001\n",
      "hello 10002\n",
      "hello 10003\n",
      "hello 10004\n",
      "hello 10005\n",
      "hello 10006\n",
      "hello 10007\n",
      "hello 10008\n",
      "hello 10009\n",
      "hello 10010\n",
      "hello 10011\n",
      "hello 10012\n",
      "hello 10013\n",
      "hello 10014\n",
      "hello 10015\n",
      "hello 10016\n",
      "hello 10017\n",
      "hello 10018\n",
      "hello 10019\n",
      "hello 10020\n",
      "hello 10021\n",
      "hello 10022\n",
      "hello 10023\n",
      "hello 10024\n",
      "hello 10025\n",
      "hello 10026\n",
      "hello 10027\n",
      "hello 10028\n",
      "hello 10029\n",
      "hello 10030\n",
      "hello 10031\n",
      "hello 10032\n",
      "hello 10033\n",
      "hello 10034\n",
      "hello 10035\n",
      "hello 10036\n",
      "hello 10037\n",
      "hello 10038\n",
      "hello 10039\n",
      "hello 10040\n",
      "hello 10041\n",
      "hello 10042\n",
      "hello 10043\n",
      "hello 10044\n",
      "hello 10045\n",
      "hello 10046\n",
      "hello 10047\n",
      "hello 10048\n",
      "hello 10049\n",
      "hello 10050\n",
      "hello 10051\n",
      "hello 10052\n",
      "hello 10053\n",
      "hello 10054\n",
      "hello 10055\n",
      "hello 10056\n",
      "hello 10057\n",
      "hello 10058\n",
      "hello 10059\n",
      "hello 10060\n",
      "hello 10061\n",
      "hello 10062\n",
      "hello 10063\n",
      "hello 10064\n",
      "hello 10065\n",
      "hello 10066\n",
      "hello 10067\n",
      "hello 10068\n",
      "hello 10069\n",
      "hello 10070\n",
      "hello 10071\n",
      "hello 10072\n",
      "hello 10073\n",
      "hello 10074\n",
      "hello 10075\n",
      "hello 10076\n",
      "hello 10077\n",
      "hello 10078\n",
      "hello 10079\n",
      "hello 10080\n",
      "hello 10081\n",
      "hello 10082\n",
      "hello 10083\n",
      "hello 10084\n",
      "hello 10085\n",
      "hello 10086\n",
      "hello 10087\n",
      "hello 10088\n",
      "hello 10089\n",
      "hello 10090\n",
      "hello 10091\n",
      "hello 10092\n",
      "hello 10093\n",
      "hello 10094\n",
      "hello 10095\n",
      "hello 10096\n",
      "hello 10097\n",
      "hello 10098\n",
      "hello 10099\n",
      "hello 10100\n",
      "hello 10101\n",
      "hello 10102\n",
      "hello 10103\n",
      "hello 10104\n",
      "hello 10105\n",
      "hello 10106\n",
      "hello 10107\n",
      "hello 10108\n",
      "hello 10109\n",
      "hello 10110\n",
      "hello 10111\n",
      "hello 10112\n",
      "hello 10113\n",
      "hello 10114\n",
      "hello 10115\n",
      "hello 10116\n",
      "hello 10117\n",
      "hello 10118\n",
      "hello 10119\n",
      "hello 10120\n",
      "hello 10121\n",
      "hello 10122\n",
      "hello 10123\n",
      "hello 10124\n",
      "hello 10125\n",
      "hello 10126\n",
      "hello 10127\n",
      "hello 10128\n",
      "hello 10129\n",
      "hello 10130\n",
      "hello 10131\n",
      "hello 10132\n",
      "hello 10133\n",
      "hello 10134\n",
      "hello 10135\n",
      "hello 10136\n",
      "hello 10137\n",
      "hello 10138\n",
      "hello 10139\n",
      "hello 10140\n",
      "hello 10141\n",
      "hello 10142\n"
     ]
    },
    {
     "name": "stdout",
     "output_type": "stream",
     "text": [
      "hello 10143\n",
      "hello 10144\n",
      "hello 10145\n",
      "hello 10146\n",
      "hello 10147\n",
      "hello 10148\n",
      "hello 10149\n",
      "hello 10150\n",
      "hello 10151\n",
      "hello 10152\n",
      "hello 10153\n",
      "hello 10154\n",
      "hello 10155\n",
      "hello 10156\n",
      "hello 10157\n",
      "hello 10158\n",
      "hello 10159\n",
      "hello 10160\n",
      "hello 10161\n",
      "hello 10162\n",
      "hello 10163\n",
      "hello 10164\n",
      "hello 10165\n",
      "hello 10166\n",
      "hello 10167\n",
      "hello 10168\n",
      "hello 10169\n",
      "hello 10170\n",
      "hello 10171\n",
      "hello 10172\n",
      "hello 10173\n",
      "hello 10174\n",
      "hello 10175\n",
      "hello 10176\n",
      "hello 10177\n",
      "hello 10178\n",
      "hello 10179\n",
      "hello 10180\n",
      "hello 10181\n",
      "hello 10182\n",
      "hello 10183\n",
      "hello 10184\n",
      "hello 10185\n",
      "hello 10186\n",
      "hello 10187\n",
      "hello 10188\n",
      "hello 10189\n",
      "hello 10190\n",
      "hello 10191\n",
      "hello 10192\n",
      "hello 10193\n",
      "hello 10194\n",
      "hello 10195\n",
      "hello 10196\n",
      "hello 10197\n",
      "hello 10198\n",
      "hello 10199\n",
      "hello 10200\n",
      "hello 10201\n",
      "hello 10202\n",
      "hello 10203\n",
      "hello 10204\n",
      "hello 10205\n",
      "hello 10206\n",
      "hello 10207\n",
      "hello 10208\n",
      "hello 10209\n",
      "hello 10210\n",
      "hello 10211\n",
      "hello 10212\n",
      "hello 10213\n",
      "hello 10214\n",
      "hello 10215\n",
      "hello 10216\n",
      "hello 10217\n",
      "hello 10218\n",
      "hello 10219\n",
      "hello 10220\n",
      "hello 10221\n",
      "hello 10222\n",
      "hello 10223\n",
      "hello 10224\n",
      "hello 10225\n",
      "hello 10226\n",
      "hello 10227\n",
      "hello 10228\n",
      "hello 10229\n",
      "hello 10230\n",
      "hello 10231\n",
      "hello 10232\n",
      "hello 10233\n",
      "hello 10234\n",
      "hello 10235\n",
      "hello 10236\n",
      "hello 10237\n",
      "hello 10238\n",
      "hello 10239\n",
      "hello 10240\n",
      "hello 10241\n",
      "hello 10242\n",
      "hello 10243\n",
      "hello 10244\n",
      "hello 10245\n",
      "hello 10246\n",
      "hello 10247\n",
      "hello 10248\n",
      "hello 10249\n",
      "hello 10250\n",
      "hello 10251\n",
      "hello 10252\n",
      "hello 10253\n",
      "hello 10254\n",
      "hello 10255\n",
      "hello 10256\n",
      "hello 10257\n",
      "hello 10258\n",
      "hello 10259\n",
      "hello 10260\n",
      "hello 10261\n",
      "hello 10262\n",
      "hello 10263\n",
      "hello 10264\n",
      "hello 10265\n",
      "hello 10266\n",
      "hello 10267\n",
      "hello 10268\n",
      "hello 10269\n",
      "hello 10270\n",
      "hello 10271\n",
      "hello 10272\n",
      "hello 10273\n",
      "hello 10274\n",
      "hello 10275\n",
      "hello 10276\n",
      "hello 10277\n",
      "hello 10278\n",
      "hello 10279\n",
      "hello 10280\n",
      "hello 10281\n",
      "hello 10282\n",
      "hello 10283\n",
      "hello 10284\n",
      "hello 10285\n",
      "hello 10286\n",
      "hello 10287\n",
      "hello 10288\n",
      "hello 10289\n",
      "hello 10290\n",
      "hello 10291\n",
      "hello 10292\n",
      "hello 10293\n",
      "hello 10294\n",
      "hello 10295\n",
      "hello 10296\n",
      "hello 10297\n",
      "hello 10298\n",
      "hello 10299\n",
      "hello 10300\n",
      "hello 10301\n",
      "hello 10302\n",
      "hello 10303\n",
      "hello 10304\n",
      "hello 10305\n",
      "hello 10306\n",
      "hello 10307\n",
      "hello 10308\n",
      "hello 10309\n",
      "hello 10310\n",
      "hello 10311\n",
      "hello 10312\n",
      "hello 10313\n",
      "hello 10314\n",
      "hello 10315\n",
      "hello 10316\n",
      "hello 10317\n",
      "hello 10318\n",
      "hello 10319\n",
      "hello 10320\n",
      "hello 10321\n",
      "hello 10322\n",
      "hello 10323\n",
      "hello 10324\n",
      "hello 10325\n",
      "hello 10326\n",
      "hello 10327\n",
      "hello 10328\n",
      "hello 10329\n",
      "hello 10330\n",
      "hello 10331\n",
      "hello 10332\n",
      "hello 10333\n",
      "hello 10334\n",
      "hello 10335\n",
      "hello 10336\n",
      "hello 10337\n",
      "hello 10338\n",
      "hello 10339\n",
      "hello 10340\n",
      "hello 10341\n",
      "hello 10342\n",
      "hello 10343\n",
      "hello 10344\n",
      "hello 10345\n",
      "hello 10346\n",
      "hello 10347\n",
      "hello 10348\n",
      "hello 10349\n",
      "hello 10350\n",
      "hello 10351\n",
      "hello 10352\n",
      "hello 10353\n",
      "hello 10354\n",
      "hello 10355\n",
      "hello 10356\n",
      "hello 10357\n",
      "hello 10358\n",
      "hello 10359\n",
      "hello 10360\n",
      "hello 10361\n",
      "hello 10362\n",
      "hello 10363\n",
      "hello 10364\n",
      "hello 10365\n",
      "hello 10366\n",
      "hello 10367\n",
      "hello 10368\n",
      "hello 10369\n",
      "hello 10370\n",
      "hello 10371\n",
      "hello 10372\n",
      "hello 10373\n",
      "hello 10374\n",
      "hello 10375\n",
      "hello 10376\n",
      "hello 10377\n",
      "hello 10378\n",
      "hello 10379\n",
      "hello 10380\n",
      "hello 10381\n",
      "hello 10382\n",
      "hello 10383\n",
      "hello 10384\n",
      "hello 10385\n",
      "hello 10386\n",
      "hello 10387\n",
      "hello 10388\n",
      "hello 10389\n",
      "hello 10390\n",
      "hello 10391\n",
      "hello 10392\n",
      "hello 10393\n",
      "hello 10394\n",
      "hello 10395\n",
      "hello 10396\n",
      "hello 10397\n",
      "hello 10398\n",
      "hello 10399\n",
      "hello 10400\n",
      "hello 10401\n",
      "hello 10402\n",
      "hello 10403\n",
      "hello 10404\n",
      "hello 10405\n",
      "hello 10406\n",
      "hello 10407\n",
      "hello 10408\n",
      "hello 10409\n",
      "hello 10410\n",
      "hello 10411\n",
      "hello 10412\n",
      "hello 10413\n",
      "hello 10414\n",
      "hello 10415\n",
      "hello 10416\n",
      "hello 10417\n",
      "hello 10418\n",
      "hello 10419\n",
      "hello 10420\n",
      "hello 10421\n",
      "hello 10422\n",
      "hello 10423\n",
      "hello 10424\n",
      "hello 10425\n",
      "hello 10426\n",
      "hello 10427\n",
      "hello 10428\n",
      "hello 10429\n",
      "hello 10430\n",
      "hello 10431\n",
      "hello 10432\n",
      "hello 10433\n",
      "hello 10434\n",
      "hello 10435\n",
      "hello 10436\n",
      "hello 10437\n",
      "hello 10438\n",
      "hello 10439\n",
      "hello 10440\n",
      "hello 10441\n",
      "hello 10442\n",
      "hello 10443\n",
      "hello 10444\n",
      "hello 10445\n",
      "hello 10446\n",
      "hello 10447\n",
      "hello 10448\n",
      "hello 10449\n",
      "hello 10450\n",
      "hello 10451\n",
      "hello 10452\n",
      "hello 10453\n",
      "hello 10454\n",
      "hello 10455\n",
      "hello 10456\n",
      "hello 10457\n",
      "hello 10458\n",
      "hello 10459\n",
      "hello 10460\n",
      "hello 10461\n",
      "hello 10462\n",
      "hello 10463\n",
      "hello 10464\n",
      "hello 10465\n",
      "hello 10466\n",
      "hello 10467\n",
      "hello 10468\n",
      "hello 10469\n",
      "hello 10470\n",
      "hello 10471\n",
      "hello 10472\n",
      "hello 10473\n",
      "hello 10474\n",
      "hello 10475\n",
      "hello 10476\n",
      "hello 10477\n",
      "hello 10478\n",
      "hello 10479\n",
      "hello 10480\n",
      "hello 10481\n",
      "hello 10482\n",
      "hello 10483\n",
      "hello 10484\n",
      "hello 10485\n",
      "hello 10486\n",
      "hello 10487\n",
      "hello 10488\n",
      "hello 10489\n",
      "hello 10490\n",
      "hello 10491\n",
      "hello 10492\n",
      "hello 10493\n",
      "hello 10494\n",
      "hello 10495\n",
      "hello 10496\n",
      "hello 10497\n",
      "hello 10498\n",
      "hello 10499\n",
      "hello 10500\n",
      "hello 10501\n",
      "hello 10502\n",
      "hello 10503\n",
      "hello 10504\n",
      "hello 10505\n",
      "hello 10506\n",
      "hello 10507\n",
      "hello 10508\n",
      "hello 10509\n",
      "hello 10510\n",
      "hello 10511\n",
      "hello 10512\n",
      "hello 10513\n",
      "hello 10514\n",
      "hello 10515\n",
      "hello 10516\n",
      "hello 10517\n",
      "hello 10518\n",
      "hello 10519\n",
      "hello 10520\n",
      "hello 10521\n",
      "hello 10522\n",
      "hello 10523\n",
      "hello 10524\n",
      "hello 10525\n",
      "hello 10526\n",
      "hello 10527\n",
      "hello 10528\n",
      "hello 10529\n",
      "hello 10530\n",
      "hello 10531\n",
      "hello 10532\n",
      "hello 10533\n",
      "hello 10534\n",
      "hello 10535\n",
      "hello 10536\n",
      "hello 10537\n",
      "hello 10538\n",
      "hello 10539\n",
      "hello 10540\n",
      "hello 10541\n",
      "hello 10542\n",
      "hello 10543\n",
      "hello 10544\n",
      "hello 10545\n",
      "hello 10546\n",
      "hello 10547\n",
      "hello 10548\n",
      "hello 10549\n",
      "hello 10550\n",
      "hello 10551\n",
      "hello 10552\n",
      "hello 10553\n",
      "hello 10554\n",
      "hello 10555\n",
      "hello 10556\n",
      "hello 10557\n",
      "hello 10558\n",
      "hello 10559\n",
      "hello 10560\n",
      "hello 10561\n",
      "hello 10562\n",
      "hello 10563\n",
      "hello 10564\n",
      "hello 10565\n",
      "hello 10566\n",
      "hello 10567\n",
      "hello 10568\n",
      "hello 10569\n",
      "hello 10570\n",
      "hello 10571\n",
      "hello 10572\n",
      "hello 10573\n",
      "hello 10574\n",
      "hello 10575\n",
      "hello 10576\n",
      "hello 10577\n",
      "hello 10578\n",
      "hello 10579\n",
      "hello 10580\n",
      "hello 10581\n",
      "hello 10582\n",
      "hello 10583\n",
      "hello 10584\n",
      "hello 10585\n",
      "hello 10586\n",
      "hello 10587\n",
      "hello 10588\n",
      "hello 10589\n",
      "hello 10590\n",
      "hello 10591\n",
      "hello 10592\n",
      "hello 10593\n",
      "hello 10594\n",
      "hello 10595\n",
      "hello 10596\n",
      "hello 10597\n",
      "hello 10598\n",
      "hello 10599\n",
      "hello 10600\n",
      "hello 10601\n",
      "hello 10602\n",
      "hello 10603\n",
      "hello 10604\n",
      "hello 10605\n",
      "hello 10606\n",
      "hello 10607\n",
      "hello 10608\n",
      "hello 10609\n",
      "hello 10610\n",
      "hello 10611\n",
      "hello 10612\n",
      "hello 10613\n",
      "hello 10614\n",
      "hello 10615\n",
      "hello 10616\n",
      "hello 10617\n",
      "hello 10618\n",
      "hello 10619\n",
      "hello 10620\n",
      "hello 10621\n",
      "hello 10622\n",
      "hello 10623\n",
      "hello 10624\n",
      "hello 10625\n",
      "hello 10626\n",
      "hello 10627\n",
      "hello 10628\n",
      "hello 10629\n",
      "hello 10630\n",
      "hello 10631\n",
      "hello 10632\n",
      "hello 10633\n",
      "hello 10634\n",
      "hello 10635\n",
      "hello 10636\n",
      "hello 10637\n",
      "hello 10638\n",
      "hello 10639\n",
      "hello 10640\n",
      "hello 10641\n",
      "hello 10642\n",
      "hello 10643\n",
      "hello 10644\n",
      "hello 10645\n",
      "hello 10646\n",
      "hello 10647\n",
      "hello 10648\n",
      "hello 10649\n",
      "hello 10650\n",
      "hello 10651\n",
      "hello 10652\n",
      "hello 10653\n",
      "hello 10654\n",
      "hello 10655\n",
      "hello 10656\n",
      "hello 10657\n",
      "hello 10658\n",
      "hello 10659\n",
      "hello 10660\n",
      "hello 10661\n",
      "hello 10662\n",
      "hello 10663\n",
      "hello 10664\n",
      "hello 10665\n",
      "hello 10666\n",
      "hello 10667\n",
      "hello 10668\n",
      "hello 10669\n",
      "hello 10670\n",
      "hello 10671\n",
      "hello 10672\n",
      "hello 10673\n",
      "hello 10674\n",
      "hello 10675\n",
      "hello 10676\n",
      "hello 10677\n",
      "hello 10678\n",
      "hello 10679\n",
      "hello 10680\n",
      "hello 10681\n",
      "hello 10682\n",
      "hello 10683\n",
      "hello 10684\n",
      "hello 10685\n",
      "hello 10686\n",
      "hello 10687\n",
      "hello 10688\n",
      "hello 10689\n",
      "hello 10690\n",
      "hello 10691\n",
      "hello 10692\n",
      "hello 10693\n",
      "hello 10694\n",
      "hello 10695\n",
      "hello 10696\n",
      "hello 10697\n",
      "hello 10698\n",
      "hello 10699\n",
      "hello 10700\n",
      "hello 10701\n",
      "hello 10702\n",
      "hello 10703\n",
      "hello 10704\n",
      "hello 10705\n",
      "hello 10706\n",
      "hello 10707\n",
      "hello 10708\n",
      "hello 10709\n",
      "hello 10710\n",
      "hello 10711\n",
      "hello 10712\n",
      "hello 10713\n",
      "hello 10714\n",
      "hello 10715\n",
      "hello 10716\n",
      "hello 10717\n",
      "hello 10718\n",
      "hello 10719\n",
      "hello 10720\n",
      "hello 10721\n",
      "hello 10722\n",
      "hello 10723\n",
      "hello 10724\n",
      "hello 10725\n",
      "hello 10726\n",
      "hello 10727\n",
      "hello 10728\n",
      "hello 10729\n",
      "hello 10730\n",
      "hello 10731\n",
      "hello 10732\n",
      "hello 10733\n",
      "hello 10734\n",
      "hello 10735\n",
      "hello 10736\n",
      "hello 10737\n",
      "hello 10738\n",
      "hello 10739\n",
      "hello 10740\n",
      "hello 10741\n",
      "hello 10742\n",
      "hello 10743\n",
      "hello 10744\n",
      "hello 10745\n",
      "hello 10746\n",
      "hello 10747\n",
      "hello 10748\n",
      "hello 10749\n",
      "hello 10750\n",
      "hello 10751\n",
      "hello 10752\n",
      "hello 10753\n",
      "hello 10754\n",
      "hello 10755\n",
      "hello 10756\n",
      "hello 10757\n",
      "hello 10758\n",
      "hello 10759\n",
      "hello 10760\n",
      "hello 10761\n",
      "hello 10762\n",
      "hello 10763\n",
      "hello 10764\n",
      "hello 10765\n",
      "hello 10766\n",
      "hello 10767\n",
      "hello 10768\n",
      "hello 10769\n",
      "hello 10770\n",
      "hello 10771\n",
      "hello 10772\n",
      "hello 10773\n",
      "hello 10774\n",
      "hello 10775\n",
      "hello 10776\n",
      "hello 10777\n",
      "hello 10778\n",
      "hello 10779\n",
      "hello 10780\n",
      "hello 10781\n",
      "hello 10782\n",
      "hello 10783\n",
      "hello 10784\n",
      "hello 10785\n",
      "hello 10786\n",
      "hello 10787\n",
      "hello 10788\n",
      "hello 10789\n",
      "hello 10790\n",
      "hello 10791\n",
      "hello 10792\n",
      "hello 10793\n",
      "hello 10794\n",
      "hello 10795\n",
      "hello 10796\n",
      "hello 10797\n",
      "hello 10798\n",
      "hello 10799\n",
      "hello 10800\n",
      "hello 10801\n",
      "hello 10802\n",
      "hello 10803\n",
      "hello 10804\n",
      "hello 10805\n",
      "hello 10806\n",
      "hello 10807\n",
      "hello 10808\n",
      "hello 10809\n",
      "hello 10810\n",
      "hello 10811\n",
      "hello 10812\n",
      "hello 10813\n",
      "hello 10814\n",
      "hello 10815\n",
      "hello 10816\n",
      "hello 10817\n",
      "hello 10818\n",
      "hello 10819\n",
      "hello 10820\n",
      "hello 10821\n",
      "hello 10822\n",
      "hello 10823\n",
      "hello 10824\n",
      "hello 10825\n",
      "hello 10826\n",
      "hello 10827\n",
      "hello 10828\n",
      "hello 10829\n",
      "hello 10830\n",
      "hello 10831\n",
      "hello 10832\n",
      "hello 10833\n",
      "hello 10834\n",
      "hello 10835\n",
      "hello 10836\n",
      "hello 10837\n",
      "hello 10838\n",
      "hello 10839\n",
      "hello 10840\n",
      "hello 10841\n",
      "hello 10842\n",
      "hello 10843\n",
      "hello 10844\n",
      "hello 10845\n",
      "hello 10846\n",
      "hello 10847\n",
      "hello 10848\n",
      "hello 10849\n",
      "hello 10850\n",
      "hello 10851\n",
      "hello 10852\n",
      "hello 10853\n",
      "hello 10854\n",
      "hello 10855\n",
      "hello 10856\n",
      "hello 10857\n",
      "hello 10858\n",
      "hello 10859\n",
      "hello 10860\n",
      "hello 10861\n",
      "hello 10862\n",
      "hello 10863\n",
      "hello 10864\n",
      "hello 10865\n",
      "hello 10866\n",
      "hello 10867\n",
      "hello 10868\n",
      "hello 10869\n",
      "hello 10870\n",
      "hello 10871\n",
      "hello 10872\n",
      "hello 10873\n",
      "hello 10874\n",
      "hello 10875\n",
      "hello 10876\n",
      "hello 10877\n",
      "hello 10878\n",
      "hello 10879\n",
      "hello 10880\n",
      "hello 10881\n",
      "hello 10882\n",
      "hello 10883\n",
      "hello 10884\n",
      "hello 10885\n",
      "hello 10886\n",
      "hello 10887\n",
      "hello 10888\n",
      "hello 10889\n",
      "hello 10890\n",
      "hello 10891\n",
      "hello 10892\n",
      "hello 10893\n",
      "hello 10894\n",
      "hello 10895\n",
      "hello 10896\n",
      "hello 10897\n",
      "hello 10898\n",
      "hello 10899\n",
      "hello 10900\n",
      "hello 10901\n",
      "hello 10902\n",
      "hello 10903\n",
      "hello 10904\n",
      "hello 10905\n",
      "hello 10906\n",
      "hello 10907\n",
      "hello 10908\n",
      "hello 10909\n",
      "hello 10910\n",
      "hello 10911\n",
      "hello 10912\n",
      "hello 10913\n",
      "hello 10914\n",
      "hello 10915\n",
      "hello 10916\n",
      "hello 10917\n",
      "hello 10918\n",
      "hello 10919\n",
      "hello 10920\n",
      "hello 10921\n",
      "hello 10922\n",
      "hello 10923\n",
      "hello 10924\n",
      "hello 10925\n",
      "hello 10926\n",
      "hello 10927\n",
      "hello 10928\n",
      "hello 10929\n",
      "hello 10930\n",
      "hello 10931\n",
      "hello 10932\n",
      "hello 10933\n",
      "hello 10934\n",
      "hello 10935\n",
      "hello 10936\n",
      "hello 10937\n",
      "hello 10938\n",
      "hello 10939\n",
      "hello 10940\n",
      "hello 10941\n",
      "hello 10942\n",
      "hello 10943\n",
      "hello 10944\n",
      "hello 10945\n",
      "hello 10946\n",
      "hello 10947\n",
      "hello 10948\n",
      "hello 10949\n",
      "hello 10950\n",
      "hello 10951\n",
      "hello 10952\n",
      "hello 10953\n",
      "hello 10954\n",
      "hello 10955\n",
      "hello 10956\n",
      "hello 10957\n",
      "hello 10958\n",
      "hello 10959\n",
      "hello 10960\n",
      "hello 10961\n",
      "hello 10962\n",
      "hello 10963\n",
      "hello 10964\n",
      "hello 10965\n",
      "hello 10966\n",
      "hello 10967\n",
      "hello 10968\n",
      "hello 10969\n",
      "hello 10970\n",
      "hello 10971\n",
      "hello 10972\n",
      "hello 10973\n",
      "hello 10974\n",
      "hello 10975\n",
      "hello 10976\n",
      "hello 10977\n",
      "hello 10978\n",
      "hello 10979\n",
      "hello 10980\n",
      "hello 10981\n",
      "hello 10982\n",
      "hello 10983\n",
      "hello 10984\n",
      "hello 10985\n",
      "hello 10986\n",
      "hello 10987\n",
      "hello 10988\n",
      "hello 10989\n",
      "hello 10990\n",
      "hello 10991\n",
      "hello 10992\n",
      "hello 10993\n",
      "hello 10994\n",
      "hello 10995\n",
      "hello 10996\n",
      "hello 10997\n",
      "hello 10998\n",
      "hello 10999\n",
      "hello 11000\n",
      "hello 11001\n",
      "hello 11002\n",
      "hello 11003\n",
      "hello 11004\n",
      "hello 11005\n",
      "hello 11006\n",
      "hello 11007\n",
      "hello 11008\n",
      "hello 11009\n",
      "hello 11010\n",
      "hello 11011\n",
      "hello 11012\n",
      "hello 11013\n",
      "hello 11014\n",
      "hello 11015\n",
      "hello 11016\n",
      "hello 11017\n",
      "hello 11018\n",
      "hello 11019\n",
      "hello 11020\n",
      "hello 11021\n",
      "hello 11022\n",
      "hello 11023\n",
      "hello 11024\n",
      "hello 11025\n",
      "hello 11026\n",
      "hello 11027\n",
      "hello 11028\n",
      "hello 11029\n",
      "hello 11030\n",
      "hello 11031\n",
      "hello 11032\n",
      "hello 11033\n",
      "hello 11034\n",
      "hello 11035\n",
      "hello 11036\n",
      "hello 11037\n",
      "hello 11038\n",
      "hello 11039\n",
      "hello 11040\n",
      "hello 11041\n",
      "hello 11042\n",
      "hello 11043\n",
      "hello 11044\n",
      "hello 11045\n",
      "hello 11046\n",
      "hello 11047\n",
      "hello 11048\n",
      "hello 11049\n",
      "hello 11050\n",
      "hello 11051\n",
      "hello 11052\n",
      "hello 11053\n",
      "hello 11054\n",
      "hello 11055\n",
      "hello 11056\n",
      "hello 11057\n",
      "hello 11058\n",
      "hello 11059\n",
      "hello 11060\n",
      "hello 11061\n",
      "hello 11062\n",
      "hello 11063\n",
      "hello 11064\n",
      "hello 11065\n",
      "hello 11066\n",
      "hello 11067\n",
      "hello 11068\n",
      "hello 11069\n",
      "hello 11070\n",
      "hello 11071\n",
      "hello 11072\n",
      "hello 11073\n",
      "hello 11074\n",
      "hello 11075\n",
      "hello 11076\n",
      "hello 11077\n",
      "hello 11078\n",
      "hello 11079\n",
      "hello 11080\n",
      "hello 11081\n",
      "hello 11082\n",
      "hello 11083\n",
      "hello 11084\n",
      "hello 11085\n",
      "hello 11086\n",
      "hello 11087\n",
      "hello 11088\n",
      "hello 11089\n",
      "hello 11090\n",
      "hello 11091\n",
      "hello 11092\n",
      "hello 11093\n",
      "hello 11094\n",
      "hello 11095\n",
      "hello 11096\n",
      "hello 11097\n",
      "hello 11098\n",
      "hello 11099\n",
      "hello 11100\n",
      "hello 11101\n",
      "hello 11102\n",
      "hello 11103\n",
      "hello 11104\n",
      "hello 11105\n",
      "hello 11106\n",
      "hello 11107\n",
      "hello 11108\n",
      "hello 11109\n",
      "hello 11110\n",
      "hello 11111\n",
      "hello 11112\n",
      "hello 11113\n",
      "hello 11114\n",
      "hello 11115\n",
      "hello 11116\n",
      "hello 11117\n",
      "hello 11118\n",
      "hello 11119\n",
      "hello 11120\n",
      "hello 11121\n",
      "hello 11122\n",
      "hello 11123\n",
      "hello 11124\n",
      "hello 11125\n",
      "hello 11126\n",
      "hello 11127\n",
      "hello 11128\n",
      "hello 11129\n",
      "hello 11130\n",
      "hello 11131\n",
      "hello 11132\n",
      "hello 11133\n",
      "hello 11134\n",
      "hello 11135\n",
      "hello 11136\n",
      "hello 11137\n",
      "hello 11138\n",
      "hello 11139\n",
      "hello 11140\n",
      "hello 11141\n",
      "hello 11142\n"
     ]
    },
    {
     "name": "stdout",
     "output_type": "stream",
     "text": [
      "hello 11143\n",
      "hello 11144\n",
      "hello 11145\n",
      "hello 11146\n",
      "hello 11147\n",
      "hello 11148\n",
      "hello 11149\n",
      "hello 11150\n",
      "hello 11151\n",
      "hello 11152\n",
      "hello 11153\n",
      "hello 11154\n",
      "hello 11155\n",
      "hello 11156\n",
      "hello 11157\n",
      "hello 11158\n",
      "hello 11159\n",
      "hello 11160\n",
      "hello 11161\n",
      "hello 11162\n",
      "hello 11163\n",
      "hello 11164\n",
      "hello 11165\n",
      "hello 11166\n",
      "hello 11167\n",
      "hello 11168\n",
      "hello 11169\n",
      "hello 11170\n",
      "hello 11171\n",
      "hello 11172\n",
      "hello 11173\n",
      "hello 11174\n",
      "hello 11175\n",
      "hello 11176\n",
      "hello 11177\n",
      "hello 11178\n",
      "hello 11179\n",
      "hello 11180\n",
      "hello 11181\n",
      "hello 11182\n",
      "hello 11183\n",
      "hello 11184\n",
      "hello 11185\n",
      "hello 11186\n",
      "hello 11187\n",
      "hello 11188\n",
      "hello 11189\n",
      "hello 11190\n",
      "hello 11191\n",
      "hello 11192\n",
      "hello 11193\n",
      "hello 11194\n",
      "hello 11195\n",
      "hello 11196\n",
      "hello 11197\n",
      "hello 11198\n",
      "hello 11199\n",
      "hello 11200\n",
      "hello 11201\n",
      "hello 11202\n",
      "hello 11203\n",
      "hello 11204\n",
      "hello 11205\n",
      "hello 11206\n",
      "hello 11207\n",
      "hello 11208\n",
      "hello 11209\n",
      "hello 11210\n",
      "hello 11211\n",
      "hello 11212\n",
      "hello 11213\n",
      "hello 11214\n",
      "hello 11215\n",
      "hello 11216\n",
      "hello 11217\n",
      "hello 11218\n",
      "hello 11219\n",
      "hello 11220\n",
      "hello 11221\n",
      "hello 11222\n",
      "hello 11223\n",
      "hello 11224\n",
      "hello 11225\n",
      "hello 11226\n",
      "hello 11227\n",
      "hello 11228\n",
      "hello 11229\n",
      "hello 11230\n",
      "hello 11231\n",
      "hello 11232\n",
      "hello 11233\n",
      "hello 11234\n",
      "hello 11235\n",
      "hello 11236\n",
      "hello 11237\n",
      "hello 11238\n",
      "hello 11239\n",
      "hello 11240\n",
      "hello 11241\n",
      "hello 11242\n",
      "hello 11243\n",
      "hello 11244\n",
      "hello 11245\n",
      "hello 11246\n",
      "hello 11247\n",
      "hello 11248\n",
      "hello 11249\n",
      "hello 11250\n",
      "hello 11251\n",
      "hello 11252\n",
      "hello 11253\n",
      "hello 11254\n",
      "hello 11255\n",
      "hello 11256\n",
      "hello 11257\n",
      "hello 11258\n",
      "hello 11259\n",
      "hello 11260\n",
      "hello 11261\n",
      "hello 11262\n",
      "hello 11263\n",
      "hello 11264\n",
      "hello 11265\n",
      "hello 11266\n",
      "hello 11267\n",
      "hello 11268\n",
      "hello 11269\n",
      "hello 11270\n",
      "hello 11271\n",
      "hello 11272\n",
      "hello 11273\n",
      "hello 11274\n",
      "hello 11275\n",
      "hello 11276\n",
      "hello 11277\n",
      "hello 11278\n",
      "hello 11279\n",
      "hello 11280\n",
      "hello 11281\n",
      "hello 11282\n",
      "hello 11283\n",
      "hello 11284\n",
      "hello 11285\n",
      "hello 11286\n",
      "hello 11287\n",
      "hello 11288\n",
      "hello 11289\n",
      "hello 11290\n",
      "hello 11291\n",
      "hello 11292\n",
      "hello 11293\n",
      "hello 11294\n",
      "hello 11295\n",
      "hello 11296\n",
      "hello 11297\n",
      "hello 11298\n",
      "hello 11299\n",
      "hello 11300\n",
      "hello 11301\n",
      "hello 11302\n",
      "hello 11303\n",
      "hello 11304\n",
      "hello 11305\n",
      "hello 11306\n",
      "hello 11307\n",
      "hello 11308\n",
      "hello 11309\n",
      "hello 11310\n",
      "hello 11311\n",
      "hello 11312\n",
      "hello 11313\n",
      "hello 11314\n",
      "hello 11315\n",
      "hello 11316\n",
      "hello 11317\n",
      "hello 11318\n",
      "hello 11319\n",
      "hello 11320\n",
      "hello 11321\n",
      "hello 11322\n",
      "hello 11323\n",
      "hello 11324\n",
      "hello 11325\n",
      "hello 11326\n",
      "hello 11327\n",
      "hello 11328\n",
      "hello 11329\n",
      "hello 11330\n",
      "hello 11331\n",
      "hello 11332\n",
      "hello 11333\n",
      "hello 11334\n",
      "hello 11335\n",
      "hello 11336\n",
      "hello 11337\n",
      "hello 11338\n",
      "hello 11339\n",
      "hello 11340\n",
      "hello 11341\n",
      "hello 11342\n",
      "hello 11343\n",
      "hello 11344\n",
      "hello 11345\n",
      "hello 11346\n",
      "hello 11347\n",
      "hello 11348\n",
      "hello 11349\n",
      "hello 11350\n",
      "hello 11351\n",
      "hello 11352\n",
      "hello 11353\n",
      "hello 11354\n",
      "hello 11355\n",
      "hello 11356\n",
      "hello 11357\n",
      "hello 11358\n",
      "hello 11359\n",
      "hello 11360\n",
      "hello 11361\n",
      "hello 11362\n",
      "hello 11363\n",
      "hello 11364\n",
      "hello 11365\n",
      "hello 11366\n",
      "hello 11367\n",
      "hello 11368\n",
      "hello 11369\n",
      "hello 11370\n",
      "hello 11371\n",
      "hello 11372\n",
      "hello 11373\n",
      "hello 11374\n",
      "hello 11375\n",
      "hello 11376\n",
      "hello 11377\n",
      "hello 11378\n",
      "hello 11379\n",
      "hello 11380\n",
      "hello 11381\n",
      "hello 11382\n",
      "hello 11383\n",
      "hello 11384\n",
      "hello 11385\n",
      "hello 11386\n",
      "hello 11387\n",
      "hello 11388\n",
      "hello 11389\n",
      "hello 11390\n",
      "hello 11391\n",
      "hello 11392\n",
      "hello 11393\n",
      "hello 11394\n",
      "hello 11395\n",
      "hello 11396\n",
      "hello 11397\n",
      "hello 11398\n",
      "hello 11399\n",
      "hello 11400\n",
      "hello 11401\n",
      "hello 11402\n",
      "hello 11403\n",
      "hello 11404\n",
      "hello 11405\n",
      "hello 11406\n",
      "hello 11407\n",
      "hello 11408\n",
      "hello 11409\n",
      "hello 11410\n",
      "hello 11411\n",
      "hello 11412\n",
      "hello 11413\n",
      "hello 11414\n",
      "hello 11415\n",
      "hello 11416\n",
      "hello 11417\n",
      "hello 11418\n",
      "hello 11419\n",
      "hello 11420\n",
      "hello 11421\n",
      "hello 11422\n",
      "hello 11423\n",
      "hello 11424\n",
      "hello 11425\n",
      "hello 11426\n",
      "hello 11427\n",
      "hello 11428\n",
      "hello 11429\n",
      "hello 11430\n",
      "hello 11431\n",
      "hello 11432\n",
      "hello 11433\n",
      "hello 11434\n",
      "hello 11435\n",
      "hello 11436\n",
      "hello 11437\n",
      "hello 11438\n",
      "hello 11439\n",
      "hello 11440\n",
      "hello 11441\n",
      "hello 11442\n",
      "hello 11443\n",
      "hello 11444\n",
      "hello 11445\n",
      "hello 11446\n",
      "hello 11447\n",
      "hello 11448\n",
      "hello 11449\n",
      "hello 11450\n",
      "hello 11451\n",
      "hello 11452\n",
      "hello 11453\n",
      "hello 11454\n",
      "hello 11455\n",
      "hello 11456\n",
      "hello 11457\n",
      "hello 11458\n",
      "hello 11459\n",
      "hello 11460\n",
      "hello 11461\n",
      "hello 11462\n",
      "hello 11463\n",
      "hello 11464\n",
      "hello 11465\n",
      "hello 11466\n",
      "hello 11467\n",
      "hello 11468\n",
      "hello 11469\n",
      "hello 11470\n",
      "hello 11471\n",
      "hello 11472\n",
      "hello 11473\n",
      "hello 11474\n",
      "hello 11475\n",
      "hello 11476\n",
      "hello 11477\n",
      "hello 11478\n",
      "hello 11479\n",
      "hello 11480\n",
      "hello 11481\n",
      "hello 11482\n",
      "hello 11483\n",
      "hello 11484\n",
      "hello 11485\n",
      "hello 11486\n",
      "hello 11487\n",
      "hello 11488\n",
      "hello 11489\n",
      "hello 11490\n",
      "hello 11491\n",
      "hello 11492\n",
      "hello 11493\n",
      "hello 11494\n",
      "hello 11495\n",
      "hello 11496\n",
      "hello 11497\n",
      "hello 11498\n",
      "hello 11499\n",
      "hello 11500\n",
      "hello 11501\n",
      "hello 11502\n",
      "hello 11503\n",
      "hello 11504\n",
      "hello 11505\n",
      "hello 11506\n",
      "hello 11507\n",
      "hello 11508\n",
      "hello 11509\n",
      "hello 11510\n",
      "hello 11511\n",
      "hello 11512\n",
      "hello 11513\n",
      "hello 11514\n",
      "hello 11515\n",
      "hello 11516\n",
      "hello 11517\n",
      "hello 11518\n",
      "hello 11519\n",
      "hello 11520\n",
      "hello 11521\n",
      "hello 11522\n",
      "hello 11523\n",
      "hello 11524\n",
      "hello 11525\n",
      "hello 11526\n",
      "hello 11527\n",
      "hello 11528\n",
      "hello 11529\n",
      "hello 11530\n",
      "hello 11531\n",
      "hello 11532\n",
      "hello 11533\n",
      "hello 11534\n",
      "hello 11535\n",
      "hello 11536\n",
      "hello 11537\n",
      "hello 11538\n",
      "hello 11539\n",
      "hello 11540\n",
      "hello 11541\n",
      "hello 11542\n",
      "hello 11543\n",
      "hello 11544\n",
      "hello 11545\n",
      "hello 11546\n",
      "hello 11547\n",
      "hello 11548\n",
      "hello 11549\n",
      "hello 11550\n",
      "hello 11551\n",
      "hello 11552\n",
      "hello 11553\n",
      "hello 11554\n",
      "hello 11555\n",
      "hello 11556\n",
      "hello 11557\n",
      "hello 11558\n",
      "hello 11559\n",
      "hello 11560\n",
      "hello 11561\n",
      "hello 11562\n",
      "hello 11563\n",
      "hello 11564\n",
      "hello 11565\n",
      "hello 11566\n",
      "hello 11567\n",
      "hello 11568\n",
      "hello 11569\n",
      "hello 11570\n",
      "hello 11571\n",
      "hello 11572\n",
      "hello 11573\n",
      "hello 11574\n",
      "hello 11575\n",
      "hello 11576\n",
      "hello 11577\n",
      "hello 11578\n",
      "hello 11579\n",
      "hello 11580\n",
      "hello 11581\n",
      "hello 11582\n",
      "hello 11583\n",
      "hello 11584\n",
      "hello 11585\n",
      "hello 11586\n",
      "hello 11587\n",
      "hello 11588\n",
      "hello 11589\n",
      "hello 11590\n",
      "hello 11591\n",
      "hello 11592\n",
      "hello 11593\n",
      "hello 11594\n",
      "hello 11595\n",
      "hello 11596\n",
      "hello 11597\n",
      "hello 11598\n",
      "hello 11599\n",
      "hello 11600\n",
      "hello 11601\n",
      "hello 11602\n",
      "hello 11603\n",
      "hello 11604\n",
      "hello 11605\n",
      "hello 11606\n",
      "hello 11607\n",
      "hello 11608\n",
      "hello 11609\n",
      "hello 11610\n",
      "hello 11611\n",
      "hello 11612\n",
      "hello 11613\n",
      "hello 11614\n",
      "hello 11615\n",
      "hello 11616\n",
      "hello 11617\n",
      "hello 11618\n",
      "hello 11619\n",
      "hello 11620\n",
      "hello 11621\n",
      "hello 11622\n",
      "hello 11623\n",
      "hello 11624\n",
      "hello 11625\n",
      "hello 11626\n",
      "hello 11627\n",
      "hello 11628\n",
      "hello 11629\n",
      "hello 11630\n",
      "hello 11631\n",
      "hello 11632\n",
      "hello 11633\n",
      "hello 11634\n",
      "hello 11635\n",
      "hello 11636\n",
      "hello 11637\n",
      "hello 11638\n",
      "hello 11639\n",
      "hello 11640\n",
      "hello 11641\n",
      "hello 11642\n",
      "hello 11643\n",
      "hello 11644\n",
      "hello 11645\n",
      "hello 11646\n",
      "hello 11647\n",
      "hello 11648\n",
      "hello 11649\n",
      "hello 11650\n",
      "hello 11651\n",
      "hello 11652\n",
      "hello 11653\n",
      "hello 11654\n",
      "hello 11655\n",
      "hello 11656\n",
      "hello 11657\n",
      "hello 11658\n",
      "hello 11659\n",
      "hello 11660\n",
      "hello 11661\n",
      "hello 11662\n",
      "hello 11663\n",
      "hello 11664\n",
      "hello 11665\n",
      "hello 11666\n",
      "hello 11667\n",
      "hello 11668\n",
      "hello 11669\n",
      "hello 11670\n",
      "hello 11671\n",
      "hello 11672\n",
      "hello 11673\n",
      "hello 11674\n",
      "hello 11675\n",
      "hello 11676\n",
      "hello 11677\n",
      "hello 11678\n",
      "hello 11679\n",
      "hello 11680\n",
      "hello 11681\n",
      "hello 11682\n",
      "hello 11683\n",
      "hello 11684\n",
      "hello 11685\n",
      "hello 11686\n",
      "hello 11687\n",
      "hello 11688\n",
      "hello 11689\n",
      "hello 11690\n",
      "hello 11691\n",
      "hello 11692\n",
      "hello 11693\n",
      "hello 11694\n",
      "hello 11695\n",
      "hello 11696\n",
      "hello 11697\n",
      "hello 11698\n",
      "hello 11699\n",
      "hello 11700\n",
      "hello 11701\n",
      "hello 11702\n",
      "hello 11703\n",
      "hello 11704\n",
      "hello 11705\n",
      "hello 11706\n",
      "hello 11707\n",
      "hello 11708\n",
      "hello 11709\n",
      "hello 11710\n",
      "hello 11711\n",
      "hello 11712\n",
      "hello 11713\n",
      "hello 11714\n",
      "hello 11715\n",
      "hello 11716\n",
      "hello 11717\n",
      "hello 11718\n",
      "hello 11719\n",
      "hello 11720\n",
      "hello 11721\n",
      "hello 11722\n",
      "hello 11723\n",
      "hello 11724\n",
      "hello 11725\n",
      "hello 11726\n",
      "hello 11727\n",
      "hello 11728\n",
      "hello 11729\n",
      "hello 11730\n",
      "hello 11731\n",
      "hello 11732\n",
      "hello 11733\n",
      "hello 11734\n",
      "hello 11735\n",
      "hello 11736\n",
      "hello 11737\n",
      "hello 11738\n",
      "hello 11739\n",
      "hello 11740\n",
      "hello 11741\n",
      "hello 11742\n",
      "hello 11743\n",
      "hello 11744\n",
      "hello 11745\n",
      "hello 11746\n",
      "hello 11747\n",
      "hello 11748\n",
      "hello 11749\n",
      "hello 11750\n",
      "hello 11751\n",
      "hello 11752\n",
      "hello 11753\n",
      "hello 11754\n",
      "hello 11755\n",
      "hello 11756\n",
      "hello 11757\n",
      "hello 11758\n",
      "hello 11759\n",
      "hello 11760\n",
      "hello 11761\n",
      "hello 11762\n",
      "hello 11763\n",
      "hello 11764\n",
      "hello 11765\n",
      "hello 11766\n",
      "hello 11767\n",
      "hello 11768\n",
      "hello 11769\n",
      "hello 11770\n",
      "hello 11771\n",
      "hello 11772\n",
      "hello 11773\n",
      "hello 11774\n",
      "hello 11775\n",
      "hello 11776\n",
      "hello 11777\n",
      "hello 11778\n",
      "hello 11779\n",
      "hello 11780\n",
      "hello 11781\n",
      "hello 11782\n",
      "hello 11783\n",
      "hello 11784\n",
      "hello 11785\n",
      "hello 11786\n",
      "hello 11787\n",
      "hello 11788\n",
      "hello 11789\n",
      "hello 11790\n",
      "hello 11791\n",
      "hello 11792\n",
      "hello 11793\n",
      "hello 11794\n",
      "hello 11795\n",
      "hello 11796\n",
      "hello 11797\n",
      "hello 11798\n",
      "hello 11799\n",
      "hello 11800\n",
      "hello 11801\n",
      "hello 11802\n",
      "hello 11803\n",
      "hello 11804\n",
      "hello 11805\n",
      "hello 11806\n",
      "hello 11807\n",
      "hello 11808\n",
      "hello 11809\n",
      "hello 11810\n",
      "hello 11811\n",
      "hello 11812\n",
      "hello 11813\n",
      "hello 11814\n",
      "hello 11815\n",
      "hello 11816\n",
      "hello 11817\n",
      "hello 11818\n",
      "hello 11819\n",
      "hello 11820\n",
      "hello 11821\n",
      "hello 11822\n",
      "hello 11823\n",
      "hello 11824\n",
      "hello 11825\n",
      "hello 11826\n",
      "hello 11827\n",
      "hello 11828\n",
      "hello 11829\n",
      "hello 11830\n",
      "hello 11831\n",
      "hello 11832\n",
      "hello 11833\n",
      "hello 11834\n",
      "hello 11835\n",
      "hello 11836\n",
      "hello 11837\n",
      "hello 11838\n",
      "hello 11839\n",
      "hello 11840\n",
      "hello 11841\n",
      "hello 11842\n",
      "hello 11843\n",
      "hello 11844\n",
      "hello 11845\n",
      "hello 11846\n",
      "hello 11847\n",
      "hello 11848\n",
      "hello 11849\n",
      "hello 11850\n",
      "hello 11851\n",
      "hello 11852\n",
      "hello 11853\n",
      "hello 11854\n",
      "hello 11855\n",
      "hello 11856\n",
      "hello 11857\n",
      "hello 11858\n",
      "hello 11859\n",
      "hello 11860\n",
      "hello 11861\n",
      "hello 11862\n",
      "hello 11863\n",
      "hello 11864\n",
      "hello 11865\n",
      "hello 11866\n",
      "hello 11867\n",
      "hello 11868\n",
      "hello 11869\n",
      "hello 11870\n",
      "hello 11871\n",
      "hello 11872\n",
      "hello 11873\n",
      "hello 11874\n",
      "hello 11875\n",
      "hello 11876\n",
      "hello 11877\n",
      "hello 11878\n",
      "hello 11879\n",
      "hello 11880\n",
      "hello 11881\n",
      "hello 11882\n",
      "hello 11883\n",
      "hello 11884\n",
      "hello 11885\n",
      "hello 11886\n",
      "hello 11887\n",
      "hello 11888\n",
      "hello 11889\n",
      "hello 11890\n",
      "hello 11891\n"
     ]
    },
    {
     "name": "stdout",
     "output_type": "stream",
     "text": [
      "hello 11892\n",
      "hello 11893\n",
      "hello 11894\n",
      "hello 11895\n",
      "hello 11896\n",
      "hello 11897\n",
      "hello 11898\n",
      "hello 11899\n",
      "hello 11900\n",
      "hello 11901\n",
      "hello 11902\n",
      "hello 11903\n",
      "hello 11904\n",
      "hello 11905\n",
      "hello 11906\n",
      "hello 11907\n",
      "hello 11908\n",
      "hello 11909\n",
      "hello 11910\n",
      "hello 11911\n",
      "hello 11912\n",
      "hello 11913\n",
      "hello 11914\n",
      "hello 11915\n",
      "hello 11916\n",
      "hello 11917\n",
      "hello 11918\n",
      "hello 11919\n",
      "hello 11920\n",
      "hello 11921\n",
      "hello 11922\n",
      "hello 11923\n",
      "hello 11924\n",
      "hello 11925\n",
      "hello 11926\n",
      "hello 11927\n",
      "hello 11928\n",
      "hello 11929\n",
      "hello 11930\n",
      "hello 11931\n",
      "hello 11932\n",
      "hello 11933\n",
      "hello 11934\n",
      "hello 11935\n",
      "hello 11936\n",
      "hello 11937\n",
      "hello 11938\n",
      "hello 11939\n",
      "hello 11940\n",
      "hello 11941\n",
      "hello 11942\n",
      "hello 11943\n",
      "hello 11944\n",
      "hello 11945\n",
      "hello 11946\n",
      "hello 11947\n",
      "hello 11948\n",
      "hello 11949\n",
      "hello 11950\n",
      "hello 11951\n",
      "hello 11952\n",
      "hello 11953\n",
      "hello 11954\n",
      "hello 11955\n",
      "hello 11956\n",
      "hello 11957\n",
      "hello 11958\n",
      "hello 11959\n",
      "hello 11960\n",
      "hello 11961\n",
      "hello 11962\n",
      "hello 11963\n",
      "hello 11964\n",
      "hello 11965\n",
      "hello 11966\n",
      "hello 11967\n",
      "hello 11968\n",
      "hello 11969\n",
      "hello 11970\n",
      "hello 11971\n",
      "hello 11972\n",
      "hello 11973\n",
      "hello 11974\n",
      "hello 11975\n",
      "hello 11976\n",
      "hello 11977\n",
      "hello 11978\n",
      "hello 11979\n",
      "hello 11980\n",
      "hello 11981\n",
      "hello 11982\n",
      "hello 11983\n",
      "hello 11984\n",
      "hello 11985\n",
      "hello 11986\n",
      "hello 11987\n",
      "hello 11988\n",
      "hello 11989\n",
      "hello 11990\n",
      "hello 11991\n",
      "hello 11992\n",
      "hello 11993\n",
      "hello 11994\n",
      "hello 11995\n",
      "hello 11996\n",
      "hello 11997\n",
      "hello 11998\n",
      "hello 11999\n",
      "hello 12000\n",
      "hello 12001\n",
      "hello 12002\n",
      "hello 12003\n",
      "hello 12004\n",
      "hello 12005\n",
      "hello 12006\n",
      "hello 12007\n",
      "hello 12008\n",
      "hello 12009\n",
      "hello 12010\n",
      "hello 12011\n",
      "hello 12012\n",
      "hello 12013\n",
      "hello 12014\n",
      "hello 12015\n",
      "hello 12016\n",
      "hello 12017\n",
      "hello 12018\n",
      "hello 12019\n",
      "hello 12020\n",
      "hello 12021\n",
      "hello 12022\n",
      "hello 12023\n",
      "hello 12024\n",
      "hello 12025\n",
      "hello 12026\n",
      "hello 12027\n",
      "hello 12028\n",
      "hello 12029\n",
      "hello 12030\n",
      "hello 12031\n",
      "hello 12032\n",
      "hello 12033\n",
      "hello 12034\n",
      "hello 12035\n",
      "hello 12036\n",
      "hello 12037\n",
      "hello 12038\n",
      "hello 12039\n",
      "hello 12040\n",
      "hello 12041\n",
      "hello 12042\n",
      "hello 12043\n",
      "hello 12044\n",
      "hello 12045\n",
      "hello 12046\n",
      "hello 12047\n",
      "hello 12048\n",
      "hello 12049\n",
      "hello 12050\n",
      "hello 12051\n",
      "hello 12052\n",
      "hello 12053\n",
      "hello 12054\n",
      "hello 12055\n",
      "hello 12056\n",
      "hello 12057\n",
      "hello 12058\n",
      "hello 12059\n",
      "hello 12060\n",
      "hello 12061\n",
      "hello 12062\n",
      "hello 12063\n",
      "hello 12064\n",
      "hello 12065\n",
      "hello 12066\n",
      "hello 12067\n",
      "hello 12068\n",
      "hello 12069\n",
      "hello 12070\n",
      "hello 12071\n",
      "hello 12072\n",
      "hello 12073\n",
      "hello 12074\n",
      "hello 12075\n",
      "hello 12076\n",
      "hello 12077\n",
      "hello 12078\n",
      "hello 12079\n",
      "hello 12080\n",
      "hello 12081\n",
      "hello 12082\n",
      "hello 12083\n",
      "hello 12084\n",
      "hello 12085\n",
      "hello 12086\n",
      "hello 12087\n",
      "hello 12088\n",
      "hello 12089\n",
      "hello 12090\n",
      "hello 12091\n",
      "hello 12092\n",
      "hello 12093\n",
      "hello 12094\n",
      "hello 12095\n",
      "hello 12096\n",
      "hello 12097\n",
      "hello 12098\n",
      "hello 12099\n",
      "hello 12100\n",
      "hello 12101\n",
      "hello 12102\n",
      "hello 12103\n",
      "hello 12104\n",
      "hello 12105\n",
      "hello 12106\n",
      "hello 12107\n",
      "hello 12108\n",
      "hello 12109\n",
      "hello 12110\n",
      "hello 12111\n",
      "hello 12112\n",
      "hello 12113\n",
      "hello 12114\n",
      "hello 12115\n",
      "hello 12116\n",
      "hello 12117\n",
      "hello 12118\n",
      "hello 12119\n",
      "hello 12120\n",
      "hello 12121\n",
      "hello 12122\n",
      "hello 12123\n",
      "hello 12124\n",
      "hello 12125\n",
      "hello 12126\n",
      "hello 12127\n",
      "hello 12128\n",
      "hello 12129\n",
      "hello 12130\n",
      "hello 12131\n",
      "hello 12132\n",
      "hello 12133\n",
      "hello 12134\n",
      "hello 12135\n",
      "hello 12136\n",
      "hello 12137\n",
      "hello 12138\n",
      "hello 12139\n",
      "hello 12140\n",
      "hello 12141\n",
      "hello 12142\n",
      "hello 12143\n",
      "hello 12144\n",
      "hello 12145\n",
      "hello 12146\n",
      "hello 12147\n",
      "hello 12148\n",
      "hello 12149\n",
      "hello 12150\n",
      "hello 12151\n",
      "hello 12152\n",
      "hello 12153\n",
      "hello 12154\n",
      "hello 12155\n",
      "hello 12156\n",
      "hello 12157\n",
      "hello 12158\n",
      "hello 12159\n",
      "hello 12160\n",
      "hello 12161\n",
      "hello 12162\n",
      "hello 12163\n",
      "hello 12164\n",
      "hello 12165\n",
      "hello 12166\n",
      "hello 12167\n",
      "hello 12168\n",
      "hello 12169\n",
      "hello 12170\n",
      "hello 12171\n",
      "hello 12172\n",
      "hello 12173\n",
      "hello 12174\n",
      "hello 12175\n",
      "hello 12176\n",
      "hello 12177\n",
      "hello 12178\n",
      "hello 12179\n",
      "hello 12180\n",
      "hello 12181\n",
      "hello 12182\n",
      "hello 12183\n",
      "hello 12184\n",
      "hello 12185\n",
      "hello 12186\n",
      "hello 12187\n",
      "hello 12188\n",
      "hello 12189\n",
      "hello 12190\n",
      "hello 12191\n",
      "hello 12192\n",
      "hello 12193\n",
      "hello 12194\n",
      "hello 12195\n",
      "hello 12196\n",
      "hello 12197\n",
      "hello 12198\n",
      "hello 12199\n",
      "hello 12200\n",
      "hello 12201\n",
      "hello 12202\n",
      "hello 12203\n",
      "hello 12204\n",
      "hello 12205\n",
      "hello 12206\n",
      "hello 12207\n",
      "hello 12208\n",
      "hello 12209\n",
      "hello 12210\n",
      "hello 12211\n",
      "hello 12212\n",
      "hello 12213\n",
      "hello 12214\n",
      "hello 12215\n",
      "hello 12216\n",
      "hello 12217\n",
      "hello 12218\n",
      "hello 12219\n",
      "hello 12220\n",
      "hello 12221\n",
      "hello 12222\n",
      "hello 12223\n",
      "hello 12224\n",
      "hello 12225\n",
      "hello 12226\n",
      "hello 12227\n",
      "hello 12228\n",
      "hello 12229\n",
      "hello 12230\n",
      "hello 12231\n",
      "hello 12232\n",
      "hello 12233\n",
      "hello 12234\n",
      "hello 12235\n",
      "hello 12236\n",
      "hello 12237\n",
      "hello 12238\n",
      "hello 12239\n",
      "hello 12240\n",
      "hello 12241\n",
      "hello 12242\n",
      "hello 12243\n",
      "hello 12244\n",
      "hello 12245\n",
      "hello 12246\n",
      "hello 12247\n",
      "hello 12248\n",
      "hello 12249\n",
      "hello 12250\n",
      "hello 12251\n",
      "hello 12252\n",
      "hello 12253\n",
      "hello 12254\n",
      "hello 12255\n",
      "hello 12256\n",
      "hello 12257\n",
      "hello 12258\n",
      "hello 12259\n",
      "hello 12260\n",
      "hello 12261\n",
      "hello 12262\n",
      "hello 12263\n",
      "hello 12264\n",
      "hello 12265\n",
      "hello 12266\n",
      "hello 12267\n",
      "hello 12268\n",
      "hello 12269\n",
      "hello 12270\n",
      "hello 12271\n",
      "hello 12272\n",
      "hello 12273\n",
      "hello 12274\n",
      "hello 12275\n",
      "hello 12276\n",
      "hello 12277\n",
      "hello 12278\n",
      "hello 12279\n",
      "hello 12280\n",
      "hello 12281\n",
      "hello 12282\n",
      "hello 12283\n",
      "hello 12284\n",
      "hello 12285\n",
      "hello 12286\n",
      "hello 12287\n",
      "hello 12288\n",
      "hello 12289\n",
      "hello 12290\n",
      "hello 12291\n",
      "hello 12292\n",
      "hello 12293\n",
      "hello 12294\n",
      "hello 12295\n",
      "hello 12296\n",
      "hello 12297\n",
      "hello 12298\n",
      "hello 12299\n",
      "hello 12300\n",
      "hello 12301\n",
      "hello 12302\n",
      "hello 12303\n",
      "hello 12304\n",
      "hello 12305\n",
      "hello 12306\n",
      "hello 12307\n",
      "hello 12308\n",
      "hello 12309\n",
      "hello 12310\n",
      "hello 12311\n",
      "hello 12312\n",
      "hello 12313\n",
      "hello 12314\n",
      "hello 12315\n",
      "hello 12316\n",
      "hello 12317\n",
      "hello 12318\n",
      "hello 12319\n",
      "hello 12320\n",
      "hello 12321\n",
      "hello 12322\n",
      "hello 12323\n",
      "hello 12324\n",
      "hello 12325\n",
      "hello 12326\n",
      "hello 12327\n",
      "hello 12328\n",
      "hello 12329\n",
      "hello 12330\n",
      "hello 12331\n",
      "hello 12332\n",
      "hello 12333\n",
      "hello 12334\n",
      "hello 12335\n",
      "hello 12336\n",
      "hello 12337\n",
      "hello 12338\n",
      "hello 12339\n",
      "hello 12340\n",
      "hello 12341\n",
      "hello 12342\n",
      "hello 12343\n",
      "hello 12344\n",
      "hello 12345\n",
      "hello 12346\n",
      "hello 12347\n",
      "hello 12348\n",
      "hello 12349\n",
      "hello 12350\n",
      "hello 12351\n",
      "hello 12352\n",
      "hello 12353\n",
      "hello 12354\n",
      "hello 12355\n",
      "hello 12356\n",
      "hello 12357\n",
      "hello 12358\n",
      "hello 12359\n",
      "hello 12360\n",
      "hello 12361\n",
      "hello 12362\n",
      "hello 12363\n",
      "hello 12364\n",
      "hello 12365\n",
      "hello 12366\n",
      "hello 12367\n",
      "hello 12368\n",
      "hello 12369\n",
      "hello 12370\n",
      "hello 12371\n",
      "hello 12372\n",
      "hello 12373\n",
      "hello 12374\n",
      "hello 12375\n",
      "hello 12376\n",
      "hello 12377\n",
      "hello 12378\n",
      "hello 12379\n",
      "hello 12380\n",
      "hello 12381\n",
      "hello 12382\n",
      "hello 12383\n",
      "hello 12384\n",
      "hello 12385\n",
      "hello 12386\n",
      "hello 12387\n",
      "hello 12388\n",
      "hello 12389\n",
      "hello 12390\n",
      "hello 12391\n"
     ]
    }
   ],
   "source": [
    "i=0\n",
    "while True:\n",
    "    i=i+1\n",
    "    print(\"hello\",i)"
   ]
  },
  {
   "cell_type": "code",
   "execution_count": 1,
   "metadata": {},
   "outputs": [
    {
     "name": "stdout",
     "output_type": "stream",
     "text": [
      "enter a number :4\n",
      "the sum of first  4 number is  10\n"
     ]
    }
   ],
   "source": [
    "n=int(input(\"enter a number :\"))\n",
    "sum=0\n",
    "i=1\n",
    "while i<=n:\n",
    "    sum=sum+i\n",
    "    i=i+1\n",
    "print(\"the sum of first \",n,\"number is \",sum)"
   ]
  },
  {
   "cell_type": "code",
   "execution_count": 2,
   "metadata": {},
   "outputs": [
    {
     "name": "stdout",
     "output_type": "stream",
     "text": [
      "i= 0 j= 0\n",
      "i= 0 j= 1\n",
      "i= 0 j= 2\n",
      "i= 0 j= 3\n",
      "i= 1 j= 0\n",
      "i= 1 j= 1\n",
      "i= 1 j= 2\n",
      "i= 1 j= 3\n",
      "i= 2 j= 0\n",
      "i= 2 j= 1\n",
      "i= 2 j= 2\n",
      "i= 2 j= 3\n",
      "i= 3 j= 0\n",
      "i= 3 j= 1\n",
      "i= 3 j= 2\n",
      "i= 3 j= 3\n"
     ]
    }
   ],
   "source": [
    "for i in range(4):\n",
    "    for j in range(4):\n",
    "        print(\"i=\",i,\"j=\",j)"
   ]
  },
  {
   "cell_type": "code",
   "execution_count": 19,
   "metadata": {},
   "outputs": [
    {
     "name": "stdout",
     "output_type": "stream",
     "text": [
      "enter number of rows :8\n",
      "* \n",
      "* * \n",
      "* * * \n",
      "* * * * \n",
      "* * * * * \n",
      "* * * * * * \n",
      "* * * * * * * \n",
      "* * * * * * * * \n"
     ]
    }
   ],
   "source": [
    "n=int(input(\"enter number of rows :\"))\n",
    "for i in range(1,n+1):\n",
    "    for j in range(1,i+1):\n",
    "        print(\"*\",end=\" \")\n",
    "    print()"
   ]
  },
  {
   "cell_type": "code",
   "execution_count": 10,
   "metadata": {},
   "outputs": [
    {
     "name": "stdout",
     "output_type": "stream",
     "text": [
      "enter number of rows :8\n",
      "*\n",
      "**\n",
      "***\n",
      "****\n",
      "*****\n",
      "******\n",
      "*******\n",
      "********\n"
     ]
    }
   ],
   "source": [
    "n=int(input(\"enter number of rows :\"))\n",
    "for i in range(1,n+1):\n",
    "    print(\"*\"*i)"
   ]
  },
  {
   "cell_type": "code",
   "execution_count": 17,
   "metadata": {},
   "outputs": [
    {
     "name": "stdout",
     "output_type": "stream",
     "text": [
      "enter number of rows :8\n",
      "        * \n",
      "       * * \n",
      "      * * * \n",
      "     * * * * \n",
      "    * * * * * \n",
      "   * * * * * * \n",
      "  * * * * * * * \n",
      " * * * * * * * * \n"
     ]
    }
   ],
   "source": [
    "n=int(input(\"enter number of rows :\"))\n",
    "for i in range(1,n+1):\n",
    "    print(\" \"*(n-i),end=\" \")\n",
    "    print(\"* \"*i)"
   ]
  },
  {
   "cell_type": "code",
   "execution_count": 18,
   "metadata": {},
   "outputs": [
    {
     "name": "stdout",
     "output_type": "stream",
     "text": [
      "enter number of rows :8\n",
      "        * \n",
      "       * * \n",
      "      * * * \n",
      "     * * * * \n",
      "    * * * * * \n",
      "   * * * * * * \n",
      "  * * * * * * * \n",
      " * * * * * * * * \n"
     ]
    }
   ],
   "source": [
    "n=int(input(\"enter number of rows :\"))\n",
    "for i in range(1,n+1):\n",
    "    print(\" \"*(n-i),end=\" \")\n",
    "    print(\"* \"*i)"
   ]
  },
  {
   "cell_type": "code",
   "execution_count": 22,
   "metadata": {},
   "outputs": [
    {
     "name": "stdout",
     "output_type": "stream",
     "text": [
      "enter number of rows :8\n",
      "* \n",
      "* * \n",
      "* * * \n",
      "* * * * \n",
      "* * * * * \n",
      "* * * * * * \n",
      "* * * * * * * \n",
      "* * * * * * * * \n"
     ]
    }
   ],
   "source": [
    "n=int(input(\"enter number of rows :\"))\n",
    "for i in range(1,n+1):\n",
    "    for j in range(1,i+1):\n",
    "        print(\"*\",end=\" \")\n",
    "    print()"
   ]
  },
  {
   "cell_type": "code",
   "execution_count": 24,
   "metadata": {},
   "outputs": [
    {
     "name": "stdout",
     "output_type": "stream",
     "text": [
      "enter number of rows :8\n",
      " *\n",
      " * *\n",
      " * * *\n",
      " * * * *\n",
      " * * * * *\n",
      " * * * * * *\n",
      " * * * * * * *\n",
      " * * * * * * * *\n"
     ]
    }
   ],
   "source": [
    "n=int(input(\"enter number of rows :\"))\n",
    "for i in range(1,n+1):\n",
    "    print(\" *\"*i)"
   ]
  },
  {
   "cell_type": "code",
   "execution_count": 26,
   "metadata": {},
   "outputs": [
    {
     "name": "stdout",
     "output_type": "stream",
     "text": [
      "enter number of rows :8\n",
      "        * \n",
      "       * * \n",
      "      * * * \n",
      "     * * * * \n",
      "    * * * * * \n",
      "   * * * * * * \n",
      "  * * * * * * * \n",
      " * * * * * * * * \n"
     ]
    }
   ],
   "source": [
    "n=int(input(\"enter number of rows :\"))\n",
    "for i in range(1,n+1):\n",
    "    print(\" \"*(n-i),end=\" \")\n",
    "    print(\"* \"*i)"
   ]
  },
  {
   "cell_type": "code",
   "execution_count": 30,
   "metadata": {},
   "outputs": [
    {
     "name": "stdout",
     "output_type": "stream",
     "text": [
      "0\n",
      "1\n",
      "2\n",
      "3\n",
      "4\n",
      "5\n",
      "6\n",
      "processing is enough plz break\n"
     ]
    }
   ],
   "source": [
    "for i in range(10):\n",
    "    if i==7:\n",
    "        print(\"processing is enough plz break\")\n",
    "        break\n",
    "    print(i)"
   ]
  },
  {
   "cell_type": "code",
   "execution_count": 31,
   "metadata": {},
   "outputs": [
    {
     "name": "stdout",
     "output_type": "stream",
     "text": [
      "10\n",
      "20\n",
      "To place this order insurence must be required \n"
     ]
    }
   ],
   "source": [
    "cart=[10,20,600,60,70]\n",
    "for item in cart:\n",
    "    if item>=500:\n",
    "        print(\"To place this order insurence must be required \")\n",
    "        break\n",
    "    print(item)"
   ]
  },
  {
   "cell_type": "code",
   "execution_count": 32,
   "metadata": {},
   "outputs": [
    {
     "name": "stdout",
     "output_type": "stream",
     "text": [
      "1\n",
      "3\n",
      "5\n",
      "7\n",
      "9\n"
     ]
    }
   ],
   "source": [
    "for i in range(10):\n",
    "    if i%2==0:\n",
    "        continue\n",
    "    print(i)"
   ]
  },
  {
   "cell_type": "code",
   "execution_count": 33,
   "metadata": {},
   "outputs": [
    {
     "name": "stdout",
     "output_type": "stream",
     "text": [
      "10\n",
      "20\n",
      "we cannot process this item  500\n",
      "we cannot process this item  700\n",
      "50\n",
      "60\n"
     ]
    }
   ],
   "source": [
    "cart=[10,20,500,700,50,60]\n",
    "for item in cart:\n",
    "    if item>=500:\n",
    "        print(\"we cannot process this item \",item)\n",
    "        continue\n",
    "    print(item)"
   ]
  },
  {
   "cell_type": "code",
   "execution_count": 37,
   "metadata": {},
   "outputs": [
    {
     "name": "stdout",
     "output_type": "stream",
     "text": [
      "100/10 = 10.0 \n",
      "100/20 = 5.0 \n",
      "hey how we can divide with zero ...just skipping\n",
      "100/5 = 20.0 \n",
      "hey how we can divide with zero ...just skipping\n",
      "100/30 = 3.3333333333333335 \n"
     ]
    }
   ],
   "source": [
    "number=[10,20,0,5,0,30]\n",
    "for n in number :\n",
    "    if n==0:\n",
    "        print(\"hey how we can divide with zero ...just skipping\")\n",
    "        continue\n",
    "    print(\"100/{} = {} \".format(n,100/n))"
   ]
  },
  {
   "cell_type": "code",
   "execution_count": 38,
   "metadata": {},
   "outputs": [
    {
     "name": "stdout",
     "output_type": "stream",
     "text": [
      "10\n",
      "20\n",
      "30\n",
      "40\n",
      "50\n",
      "congrats ..all item processed successfuly\n"
     ]
    }
   ],
   "source": [
    "cart=[10,20,30,40,50]\n",
    "for item in cart:\n",
    "    if item >=500:\n",
    "        print(\"we cannot process this order \")\n",
    "        break\n",
    "    print(item)\n",
    "else:\n",
    "    print(\"congrats ..all item processed successfuly\")"
   ]
  },
  {
   "cell_type": "code",
   "execution_count": 39,
   "metadata": {},
   "outputs": [
    {
     "name": "stdout",
     "output_type": "stream",
     "text": [
      "10\n",
      "20\n",
      "30\n",
      "40\n",
      "50\n",
      "Congrats all item ..processed succesfully\n"
     ]
    }
   ],
   "source": [
    "cart=[10,20,30,40,50]\n",
    "for item in cart:\n",
    "    if item >=500:\n",
    "        print( \" we cannot process this item \" )\n",
    "        break\n",
    "    print(item)\n",
    "else:\n",
    "    print(\"Congrats all item ..processed succesfully\")"
   ]
  },
  {
   "cell_type": "code",
   "execution_count": 40,
   "metadata": {},
   "outputs": [
    {
     "name": "stdout",
     "output_type": "stream",
     "text": [
      "10\n",
      "20\n",
      " we cannot process this order \n"
     ]
    }
   ],
   "source": [
    "cart=[10,20,600,30,40,50]\n",
    "for item in cart :\n",
    "    if item >=500:\n",
    "        print( \" we cannot process this order \" )\n",
    "        break\n",
    "    print(item)\n",
    "else:\n",
    "    print( \" Congrats all item processed succesfully \" )"
   ]
  },
  {
   "cell_type": "code",
   "execution_count": 41,
   "metadata": {},
   "outputs": [
    {
     "ename": "SyntaxError",
     "evalue": "unexpected EOF while parsing (<ipython-input-41-2c8a33b52dfb>, line 1)",
     "output_type": "error",
     "traceback": [
      "\u001b[1;36m  File \u001b[1;32m\"<ipython-input-41-2c8a33b52dfb>\"\u001b[1;36m, line \u001b[1;32m1\u001b[0m\n\u001b[1;33m    if True:\u001b[0m\n\u001b[1;37m            ^\u001b[0m\n\u001b[1;31mSyntaxError\u001b[0m\u001b[1;31m:\u001b[0m unexpected EOF while parsing\n"
     ]
    }
   ],
   "source": [
    "if True:"
   ]
  },
  {
   "cell_type": "code",
   "execution_count": 42,
   "metadata": {},
   "outputs": [],
   "source": [
    "if True:pass"
   ]
  },
  {
   "cell_type": "code",
   "execution_count": 43,
   "metadata": {},
   "outputs": [
    {
     "ename": "SyntaxError",
     "evalue": "unexpected EOF while parsing (<ipython-input-43-e96db426b315>, line 1)",
     "output_type": "error",
     "traceback": [
      "\u001b[1;36m  File \u001b[1;32m\"<ipython-input-43-e96db426b315>\"\u001b[1;36m, line \u001b[1;32m1\u001b[0m\n\u001b[1;33m    def m1():\u001b[0m\n\u001b[1;37m             ^\u001b[0m\n\u001b[1;31mSyntaxError\u001b[0m\u001b[1;31m:\u001b[0m unexpected EOF while parsing\n"
     ]
    }
   ],
   "source": [
    "def m1():"
   ]
  },
  {
   "cell_type": "code",
   "execution_count": 44,
   "metadata": {},
   "outputs": [],
   "source": [
    "def m1():pass"
   ]
  },
  {
   "cell_type": "code",
   "execution_count": 45,
   "metadata": {},
   "outputs": [
    {
     "name": "stdout",
     "output_type": "stream",
     "text": [
      "0\n",
      "9\n",
      "18\n",
      "27\n",
      "36\n",
      "45\n",
      "54\n",
      "63\n",
      "72\n",
      "81\n",
      "90\n",
      "99\n"
     ]
    }
   ],
   "source": [
    "for i in range(100):\n",
    "    if i%9==0:\n",
    "        print(i)\n",
    "    else:pass"
   ]
  },
  {
   "cell_type": "code",
   "execution_count": 46,
   "metadata": {},
   "outputs": [],
   "source": [
    "x=10"
   ]
  },
  {
   "cell_type": "code",
   "execution_count": 47,
   "metadata": {},
   "outputs": [
    {
     "name": "stdout",
     "output_type": "stream",
     "text": [
      "10\n"
     ]
    }
   ],
   "source": [
    "print(x)"
   ]
  },
  {
   "cell_type": "code",
   "execution_count": 48,
   "metadata": {},
   "outputs": [],
   "source": [
    "del x"
   ]
  },
  {
   "cell_type": "code",
   "execution_count": 49,
   "metadata": {},
   "outputs": [
    {
     "ename": "NameError",
     "evalue": "name 'x' is not defined",
     "output_type": "error",
     "traceback": [
      "\u001b[1;31m---------------------------------------------------------------------------\u001b[0m",
      "\u001b[1;31mNameError\u001b[0m                                 Traceback (most recent call last)",
      "\u001b[1;32m<ipython-input-49-fc17d851ef81>\u001b[0m in \u001b[0;36m<module>\u001b[1;34m()\u001b[0m\n\u001b[1;32m----> 1\u001b[1;33m \u001b[0mprint\u001b[0m\u001b[1;33m(\u001b[0m\u001b[0mx\u001b[0m\u001b[1;33m)\u001b[0m\u001b[1;33m\u001b[0m\u001b[0m\n\u001b[0m",
      "\u001b[1;31mNameError\u001b[0m: name 'x' is not defined"
     ]
    }
   ],
   "source": [
    "print(x)"
   ]
  },
  {
   "cell_type": "code",
   "execution_count": 50,
   "metadata": {},
   "outputs": [
    {
     "name": "stdout",
     "output_type": "stream",
     "text": [
      "0\n",
      "9\n",
      "18\n",
      "27\n",
      "36\n",
      "45\n",
      "54\n",
      "63\n",
      "72\n",
      "81\n",
      "90\n",
      "99\n"
     ]
    }
   ],
   "source": [
    "for i in range(100):\n",
    "    if i%9==0:\n",
    "        print(i)\n",
    "    else:pass"
   ]
  },
  {
   "cell_type": "code",
   "execution_count": 51,
   "metadata": {},
   "outputs": [
    {
     "name": "stdout",
     "output_type": "stream",
     "text": [
      "10\n"
     ]
    }
   ],
   "source": [
    "x=10\n",
    "print(x)"
   ]
  },
  {
   "cell_type": "code",
   "execution_count": 52,
   "metadata": {},
   "outputs": [],
   "source": [
    "del x"
   ]
  },
  {
   "cell_type": "code",
   "execution_count": 53,
   "metadata": {},
   "outputs": [
    {
     "ename": "NameError",
     "evalue": "name 'x' is not defined",
     "output_type": "error",
     "traceback": [
      "\u001b[1;31m---------------------------------------------------------------------------\u001b[0m",
      "\u001b[1;31mNameError\u001b[0m                                 Traceback (most recent call last)",
      "\u001b[1;32m<ipython-input-53-6fcf9dfbd479>\u001b[0m in \u001b[0;36m<module>\u001b[1;34m()\u001b[0m\n\u001b[1;32m----> 1\u001b[1;33m \u001b[0mx\u001b[0m\u001b[1;33m\u001b[0m\u001b[0m\n\u001b[0m",
      "\u001b[1;31mNameError\u001b[0m: name 'x' is not defined"
     ]
    }
   ],
   "source": [
    "x"
   ]
  },
  {
   "cell_type": "code",
   "execution_count": 54,
   "metadata": {},
   "outputs": [],
   "source": [
    "x=10"
   ]
  },
  {
   "cell_type": "code",
   "execution_count": 55,
   "metadata": {},
   "outputs": [],
   "source": [
    "del x"
   ]
  },
  {
   "cell_type": "code",
   "execution_count": 56,
   "metadata": {},
   "outputs": [
    {
     "ename": "NameError",
     "evalue": "name 'x' is not defined",
     "output_type": "error",
     "traceback": [
      "\u001b[1;31m---------------------------------------------------------------------------\u001b[0m",
      "\u001b[1;31mNameError\u001b[0m                                 Traceback (most recent call last)",
      "\u001b[1;32m<ipython-input-56-fc17d851ef81>\u001b[0m in \u001b[0;36m<module>\u001b[1;34m()\u001b[0m\n\u001b[1;32m----> 1\u001b[1;33m \u001b[0mprint\u001b[0m\u001b[1;33m(\u001b[0m\u001b[0mx\u001b[0m\u001b[1;33m)\u001b[0m\u001b[1;33m\u001b[0m\u001b[0m\n\u001b[0m",
      "\u001b[1;31mNameError\u001b[0m: name 'x' is not defined"
     ]
    }
   ],
   "source": [
    "print(x)"
   ]
  },
  {
   "cell_type": "code",
   "execution_count": 57,
   "metadata": {},
   "outputs": [],
   "source": [
    "s=\"durga\""
   ]
  },
  {
   "cell_type": "code",
   "execution_count": 58,
   "metadata": {},
   "outputs": [
    {
     "name": "stdout",
     "output_type": "stream",
     "text": [
      "durga\n"
     ]
    }
   ],
   "source": [
    "print(s)"
   ]
  },
  {
   "cell_type": "code",
   "execution_count": 59,
   "metadata": {},
   "outputs": [],
   "source": [
    "del s"
   ]
  },
  {
   "cell_type": "code",
   "execution_count": 60,
   "metadata": {},
   "outputs": [
    {
     "ename": "NameError",
     "evalue": "name 's' is not defined",
     "output_type": "error",
     "traceback": [
      "\u001b[1;31m---------------------------------------------------------------------------\u001b[0m",
      "\u001b[1;31mNameError\u001b[0m                                 Traceback (most recent call last)",
      "\u001b[1;32m<ipython-input-60-ded5ba42480f>\u001b[0m in \u001b[0;36m<module>\u001b[1;34m()\u001b[0m\n\u001b[1;32m----> 1\u001b[1;33m \u001b[0ms\u001b[0m\u001b[1;33m\u001b[0m\u001b[0m\n\u001b[0m",
      "\u001b[1;31mNameError\u001b[0m: name 's' is not defined"
     ]
    }
   ],
   "source": [
    "s"
   ]
  },
  {
   "cell_type": "code",
   "execution_count": 61,
   "metadata": {},
   "outputs": [],
   "source": [
    "s=\"durga\""
   ]
  },
  {
   "cell_type": "code",
   "execution_count": 62,
   "metadata": {},
   "outputs": [
    {
     "ename": "TypeError",
     "evalue": "'str' object doesn't support item deletion",
     "output_type": "error",
     "traceback": [
      "\u001b[1;31m---------------------------------------------------------------------------\u001b[0m",
      "\u001b[1;31mTypeError\u001b[0m                                 Traceback (most recent call last)",
      "\u001b[1;32m<ipython-input-62-55f57cf8ea9a>\u001b[0m in \u001b[0;36m<module>\u001b[1;34m()\u001b[0m\n\u001b[1;32m----> 1\u001b[1;33m \u001b[1;32mdel\u001b[0m \u001b[0ms\u001b[0m\u001b[1;33m[\u001b[0m\u001b[1;36m0\u001b[0m\u001b[1;33m]\u001b[0m\u001b[1;33m\u001b[0m\u001b[0m\n\u001b[0m",
      "\u001b[1;31mTypeError\u001b[0m: 'str' object doesn't support item deletion"
     ]
    }
   ],
   "source": [
    "del s[0]"
   ]
  },
  {
   "cell_type": "code",
   "execution_count": 63,
   "metadata": {},
   "outputs": [],
   "source": [
    "s=\"durga\""
   ]
  },
  {
   "cell_type": "code",
   "execution_count": 64,
   "metadata": {},
   "outputs": [],
   "source": [
    "del s"
   ]
  },
  {
   "cell_type": "code",
   "execution_count": 65,
   "metadata": {},
   "outputs": [
    {
     "ename": "NameError",
     "evalue": "name 's' is not defined",
     "output_type": "error",
     "traceback": [
      "\u001b[1;31m---------------------------------------------------------------------------\u001b[0m",
      "\u001b[1;31mNameError\u001b[0m                                 Traceback (most recent call last)",
      "\u001b[1;32m<ipython-input-65-0ff1b7208845>\u001b[0m in \u001b[0;36m<module>\u001b[1;34m()\u001b[0m\n\u001b[1;32m----> 1\u001b[1;33m \u001b[0mprint\u001b[0m\u001b[1;33m(\u001b[0m\u001b[0ms\u001b[0m\u001b[1;33m)\u001b[0m\u001b[1;33m\u001b[0m\u001b[0m\n\u001b[0m",
      "\u001b[1;31mNameError\u001b[0m: name 's' is not defined"
     ]
    }
   ],
   "source": [
    "print(s)"
   ]
  },
  {
   "cell_type": "code",
   "execution_count": 66,
   "metadata": {},
   "outputs": [],
   "source": [
    "s=\"durga\""
   ]
  },
  {
   "cell_type": "code",
   "execution_count": 67,
   "metadata": {},
   "outputs": [],
   "source": [
    "s=None"
   ]
  },
  {
   "cell_type": "code",
   "execution_count": 68,
   "metadata": {},
   "outputs": [
    {
     "name": "stdout",
     "output_type": "stream",
     "text": [
      "None\n"
     ]
    }
   ],
   "source": [
    "print(s)"
   ]
  },
  {
   "cell_type": "code",
   "execution_count": 69,
   "metadata": {},
   "outputs": [],
   "source": [
    "del s"
   ]
  },
  {
   "cell_type": "code",
   "execution_count": 70,
   "metadata": {},
   "outputs": [
    {
     "ename": "NameError",
     "evalue": "name 's' is not defined",
     "output_type": "error",
     "traceback": [
      "\u001b[1;31m---------------------------------------------------------------------------\u001b[0m",
      "\u001b[1;31mNameError\u001b[0m                                 Traceback (most recent call last)",
      "\u001b[1;32m<ipython-input-70-ded5ba42480f>\u001b[0m in \u001b[0;36m<module>\u001b[1;34m()\u001b[0m\n\u001b[1;32m----> 1\u001b[1;33m \u001b[0ms\u001b[0m\u001b[1;33m\u001b[0m\u001b[0m\n\u001b[0m",
      "\u001b[1;31mNameError\u001b[0m: name 's' is not defined"
     ]
    }
   ],
   "source": [
    "s"
   ]
  },
  {
   "cell_type": "code",
   "execution_count": 71,
   "metadata": {},
   "outputs": [],
   "source": [
    "s=\"durga\""
   ]
  },
  {
   "cell_type": "code",
   "execution_count": 72,
   "metadata": {},
   "outputs": [],
   "source": [
    "s=None"
   ]
  },
  {
   "cell_type": "code",
   "execution_count": 73,
   "metadata": {},
   "outputs": [
    {
     "name": "stdout",
     "output_type": "stream",
     "text": [
      "None\n"
     ]
    }
   ],
   "source": [
    "print(s)"
   ]
  },
  {
   "cell_type": "code",
   "execution_count": 1,
   "metadata": {},
   "outputs": [
    {
     "name": "stdout",
     "output_type": "stream",
     "text": [
      "enter number of rows :8\n",
      "        * \n",
      "       * * \n",
      "      * * * \n",
      "     * * * * \n",
      "    * * * * * \n",
      "   * * * * * * \n",
      "  * * * * * * * \n",
      " * * * * * * * * \n"
     ]
    }
   ],
   "source": [
    "n=int(input(\"enter number of rows :\"))\n",
    "for i in range(1,n+1):\n",
    "    print(\" \"*(n-i),end=\" \")\n",
    "    print(\"* \"*i)"
   ]
  },
  {
   "cell_type": "code",
   "execution_count": 5,
   "metadata": {},
   "outputs": [
    {
     "name": "stdout",
     "output_type": "stream",
     "text": [
      "enter number of rows :8\n",
      " *\n",
      " * *\n",
      " * * *\n",
      " * * * *\n",
      " * * * * *\n",
      " * * * * * *\n",
      " * * * * * * *\n",
      " * * * * * * * *\n"
     ]
    }
   ],
   "source": [
    "n=int(input(\"enter number of rows :\"))\n",
    "for i in range(1,n+1):\n",
    "    print(\" *\"*i)"
   ]
  },
  {
   "cell_type": "code",
   "execution_count": 4,
   "metadata": {},
   "outputs": [
    {
     "name": "stdout",
     "output_type": "stream",
     "text": [
      "enter number of rows :8\n",
      "* \n",
      "* * \n",
      "* * * \n",
      "* * * * \n",
      "* * * * * \n",
      "* * * * * * \n",
      "* * * * * * * \n",
      "* * * * * * * * \n"
     ]
    }
   ],
   "source": [
    "n=int(input(\"enter number of rows :\"))\n",
    "for i in range(1,n+1):\n",
    "    for j in range(1,i+1):\n",
    "        print(\"*\",end=\" \")\n",
    "    print()"
   ]
  },
  {
   "cell_type": "code",
   "execution_count": 1,
   "metadata": {},
   "outputs": [],
   "source": [
    "s='durga'"
   ]
  },
  {
   "cell_type": "code",
   "execution_count": 2,
   "metadata": {},
   "outputs": [],
   "source": [
    "s=\"durga\""
   ]
  },
  {
   "cell_type": "code",
   "execution_count": 5,
   "metadata": {},
   "outputs": [
    {
     "name": "stdout",
     "output_type": "stream",
     "text": [
      "<class 'str'>\n"
     ]
    }
   ],
   "source": [
    "ch=\"a\"\n",
    "print(type(ch))"
   ]
  },
  {
   "cell_type": "code",
   "execution_count": 6,
   "metadata": {},
   "outputs": [],
   "source": [
    "s='''durga\n",
    "software\n",
    "solution'''"
   ]
  },
  {
   "cell_type": "code",
   "execution_count": 7,
   "metadata": {},
   "outputs": [
    {
     "name": "stdout",
     "output_type": "stream",
     "text": [
      "durga\n",
      "software\n",
      "solution\n"
     ]
    }
   ],
   "source": [
    "print(s)"
   ]
  },
  {
   "cell_type": "code",
   "execution_count": 9,
   "metadata": {},
   "outputs": [
    {
     "ename": "SyntaxError",
     "evalue": "invalid syntax (<ipython-input-9-4d7916aeb406>, line 1)",
     "output_type": "error",
     "traceback": [
      "\u001b[1;36m  File \u001b[1;32m\"<ipython-input-9-4d7916aeb406>\"\u001b[1;36m, line \u001b[1;32m1\u001b[0m\n\u001b[1;33m    s='This is 'single quote symbol'\u001b[0m\n\u001b[1;37m                     ^\u001b[0m\n\u001b[1;31mSyntaxError\u001b[0m\u001b[1;31m:\u001b[0m invalid syntax\n"
     ]
    }
   ],
   "source": [
    "s='This is 'single quote symbol'"
   ]
  },
  {
   "cell_type": "code",
   "execution_count": 10,
   "metadata": {},
   "outputs": [],
   "source": [
    "s='This is \\'single quote ssymbol'"
   ]
  },
  {
   "cell_type": "code",
   "execution_count": 11,
   "metadata": {},
   "outputs": [
    {
     "name": "stdout",
     "output_type": "stream",
     "text": [
      "This is 'single quote ssymbol\n"
     ]
    }
   ],
   "source": [
    "print(s)"
   ]
  },
  {
   "cell_type": "code",
   "execution_count": 12,
   "metadata": {},
   "outputs": [],
   "source": [
    "s=\"This is 'single qoute symbol\""
   ]
  },
  {
   "cell_type": "code",
   "execution_count": 13,
   "metadata": {},
   "outputs": [
    {
     "name": "stdout",
     "output_type": "stream",
     "text": [
      "This is 'single qoute symbol\n"
     ]
    }
   ],
   "source": [
    "print(s)"
   ]
  },
  {
   "cell_type": "code",
   "execution_count": 14,
   "metadata": {},
   "outputs": [],
   "source": [
    "s='This is \"double quote symbol'"
   ]
  },
  {
   "cell_type": "code",
   "execution_count": 15,
   "metadata": {},
   "outputs": [
    {
     "name": "stdout",
     "output_type": "stream",
     "text": [
      "This is \"double quote symbol\n"
     ]
    }
   ],
   "source": [
    "print(s)"
   ]
  },
  {
   "cell_type": "code",
   "execution_count": 16,
   "metadata": {},
   "outputs": [
    {
     "ename": "SyntaxError",
     "evalue": "invalid syntax (<ipython-input-16-7cc594c5707e>, line 1)",
     "output_type": "error",
     "traceback": [
      "\u001b[1;36m  File \u001b[1;32m\"<ipython-input-16-7cc594c5707e>\"\u001b[1;36m, line \u001b[1;32m1\u001b[0m\n\u001b[1;33m    s='The \"python notes\"by 'durga' is very helpful'\u001b[0m\n\u001b[1;37m                                 ^\u001b[0m\n\u001b[1;31mSyntaxError\u001b[0m\u001b[1;31m:\u001b[0m invalid syntax\n"
     ]
    }
   ],
   "source": [
    "s='The \"python notes\"by 'durga' is very helpful'"
   ]
  },
  {
   "cell_type": "code",
   "execution_count": 17,
   "metadata": {},
   "outputs": [
    {
     "ename": "SyntaxError",
     "evalue": "invalid syntax (<ipython-input-17-4e6100329409>, line 1)",
     "output_type": "error",
     "traceback": [
      "\u001b[1;36m  File \u001b[1;32m\"<ipython-input-17-4e6100329409>\"\u001b[1;36m, line \u001b[1;32m1\u001b[0m\n\u001b[1;33m    s=\"The \"python notes \"by 'durga' is very  helpfull \"\u001b[0m\n\u001b[1;37m                 ^\u001b[0m\n\u001b[1;31mSyntaxError\u001b[0m\u001b[1;31m:\u001b[0m invalid syntax\n"
     ]
    }
   ],
   "source": [
    "s=\"The \"python notes \"by 'durga' is very  helpfull \""
   ]
  },
  {
   "cell_type": "code",
   "execution_count": 18,
   "metadata": {},
   "outputs": [],
   "source": [
    "s='The \\\"python notes\\\" by \\'durga\\' is very helpfull'"
   ]
  },
  {
   "cell_type": "code",
   "execution_count": 20,
   "metadata": {},
   "outputs": [
    {
     "name": "stdout",
     "output_type": "stream",
     "text": [
      "The \"python notes\" by 'durga' is very helpfull\n"
     ]
    }
   ],
   "source": [
    "print(s)"
   ]
  },
  {
   "cell_type": "code",
   "execution_count": 21,
   "metadata": {},
   "outputs": [],
   "source": [
    "s='''The \"python notes\" by 'durga' is very helpfull'''"
   ]
  },
  {
   "cell_type": "code",
   "execution_count": 22,
   "metadata": {},
   "outputs": [
    {
     "name": "stdout",
     "output_type": "stream",
     "text": [
      "The \"python notes\" by 'durga' is very helpfull\n"
     ]
    }
   ],
   "source": [
    "print(s)"
   ]
  },
  {
   "cell_type": "code",
   "execution_count": 23,
   "metadata": {},
   "outputs": [],
   "source": [
    "s='durga'"
   ]
  },
  {
   "cell_type": "code",
   "execution_count": 24,
   "metadata": {},
   "outputs": [
    {
     "data": {
      "text/plain": [
       "'d'"
      ]
     },
     "execution_count": 24,
     "metadata": {},
     "output_type": "execute_result"
    }
   ],
   "source": [
    "s[0]"
   ]
  },
  {
   "cell_type": "code",
   "execution_count": 25,
   "metadata": {},
   "outputs": [
    {
     "data": {
      "text/plain": [
       "'a'"
      ]
     },
     "execution_count": 25,
     "metadata": {},
     "output_type": "execute_result"
    }
   ],
   "source": [
    "s[4]"
   ]
  },
  {
   "cell_type": "code",
   "execution_count": 26,
   "metadata": {},
   "outputs": [
    {
     "data": {
      "text/plain": [
       "'a'"
      ]
     },
     "execution_count": 26,
     "metadata": {},
     "output_type": "execute_result"
    }
   ],
   "source": [
    "s[-1]"
   ]
  },
  {
   "cell_type": "code",
   "execution_count": 27,
   "metadata": {},
   "outputs": [
    {
     "ename": "IndexError",
     "evalue": "string index out of range",
     "output_type": "error",
     "traceback": [
      "\u001b[1;31m---------------------------------------------------------------------------\u001b[0m",
      "\u001b[1;31mIndexError\u001b[0m                                Traceback (most recent call last)",
      "\u001b[1;32m<ipython-input-27-34c622ab6870>\u001b[0m in \u001b[0;36m<module>\u001b[1;34m()\u001b[0m\n\u001b[1;32m----> 1\u001b[1;33m \u001b[0ms\u001b[0m\u001b[1;33m[\u001b[0m\u001b[1;36m10\u001b[0m\u001b[1;33m]\u001b[0m\u001b[1;33m\u001b[0m\u001b[0m\n\u001b[0m",
      "\u001b[1;31mIndexError\u001b[0m: string index out of range"
     ]
    }
   ],
   "source": [
    "s[10]"
   ]
  },
  {
   "cell_type": "code",
   "execution_count": 30,
   "metadata": {},
   "outputs": [
    {
     "name": "stdout",
     "output_type": "stream",
     "text": [
      "Enter Some String : durga\n",
      "The character present at positive index 0 and at negative index 5 is d\n",
      "The character present at positive index 1 and at negative index 4 is u\n",
      "The character present at positive index 2 and at negative index 3 is r\n",
      "The character present at positive index 3 and at negative index 2 is g\n",
      "The character present at positive index 4 and at negative index 1 is a\n"
     ]
    }
   ],
   "source": [
    "s=input(\"Enter Some String : \")\n",
    "i=0\n",
    "for x in s:\n",
    "    print(\"The character present at positive index {} and at negative index {} is {}\".format(i,len(s)-i,x))\n",
    "    i=i+1"
   ]
  },
  {
   "cell_type": "code",
   "execution_count": 31,
   "metadata": {},
   "outputs": [],
   "source": [
    "s=\"learning python is very very easy!!!\""
   ]
  },
  {
   "cell_type": "code",
   "execution_count": 32,
   "metadata": {},
   "outputs": [
    {
     "data": {
      "text/plain": [
       "'earnin'"
      ]
     },
     "execution_count": 32,
     "metadata": {},
     "output_type": "execute_result"
    }
   ],
   "source": [
    "s[1:7:1]"
   ]
  },
  {
   "cell_type": "code",
   "execution_count": 33,
   "metadata": {},
   "outputs": [
    {
     "data": {
      "text/plain": [
       "'earnin'"
      ]
     },
     "execution_count": 33,
     "metadata": {},
     "output_type": "execute_result"
    }
   ],
   "source": [
    "s[1:7]"
   ]
  },
  {
   "cell_type": "code",
   "execution_count": 34,
   "metadata": {},
   "outputs": [
    {
     "data": {
      "text/plain": [
       "'eri'"
      ]
     },
     "execution_count": 34,
     "metadata": {},
     "output_type": "execute_result"
    }
   ],
   "source": [
    "s[1:7:2]"
   ]
  },
  {
   "cell_type": "code",
   "execution_count": 35,
   "metadata": {},
   "outputs": [
    {
     "data": {
      "text/plain": [
       "'learnin'"
      ]
     },
     "execution_count": 35,
     "metadata": {},
     "output_type": "execute_result"
    }
   ],
   "source": [
    "s[:7]"
   ]
  },
  {
   "cell_type": "code",
   "execution_count": 36,
   "metadata": {},
   "outputs": [
    {
     "data": {
      "text/plain": [
       "'g python is very very easy!!!'"
      ]
     },
     "execution_count": 36,
     "metadata": {},
     "output_type": "execute_result"
    }
   ],
   "source": [
    "s[7:]"
   ]
  },
  {
   "cell_type": "code",
   "execution_count": 37,
   "metadata": {},
   "outputs": [
    {
     "data": {
      "text/plain": [
       "'learning python is very very easy!!!'"
      ]
     },
     "execution_count": 37,
     "metadata": {},
     "output_type": "execute_result"
    }
   ],
   "source": [
    "s[::]"
   ]
  },
  {
   "cell_type": "code",
   "execution_count": 38,
   "metadata": {},
   "outputs": [
    {
     "data": {
      "text/plain": [
       "'learning python is very very easy!!!'"
      ]
     },
     "execution_count": 38,
     "metadata": {},
     "output_type": "execute_result"
    }
   ],
   "source": [
    "s[:]"
   ]
  },
  {
   "cell_type": "code",
   "execution_count": 39,
   "metadata": {},
   "outputs": [
    {
     "data": {
      "text/plain": [
       "'!!!ysae yrev yrev si nohtyp gninrael'"
      ]
     },
     "execution_count": 39,
     "metadata": {},
     "output_type": "execute_result"
    }
   ],
   "source": [
    "s[::-1]"
   ]
  },
  {
   "cell_type": "code",
   "execution_count": 40,
   "metadata": {},
   "outputs": [
    {
     "data": {
      "text/plain": [
       "''"
      ]
     },
     "execution_count": 40,
     "metadata": {},
     "output_type": "execute_result"
    }
   ],
   "source": [
    "s[:0]"
   ]
  },
  {
   "cell_type": "code",
   "execution_count": 43,
   "metadata": {},
   "outputs": [
    {
     "data": {
      "text/plain": [
       "'learning python is very very easy!!!'"
      ]
     },
     "execution_count": 43,
     "metadata": {},
     "output_type": "execute_result"
    }
   ],
   "source": [
    "s[:]"
   ]
  },
  {
   "cell_type": "code",
   "execution_count": 44,
   "metadata": {},
   "outputs": [
    {
     "name": "stdout",
     "output_type": "stream",
     "text": [
      "durgasoft\n"
     ]
    }
   ],
   "source": [
    "print(\"durga\"+\"soft\")"
   ]
  },
  {
   "cell_type": "code",
   "execution_count": 45,
   "metadata": {},
   "outputs": [
    {
     "name": "stdout",
     "output_type": "stream",
     "text": [
      "durgadurga\n"
     ]
    }
   ],
   "source": [
    "print(\"durga\"*2)"
   ]
  },
  {
   "cell_type": "code",
   "execution_count": 46,
   "metadata": {},
   "outputs": [
    {
     "name": "stdout",
     "output_type": "stream",
     "text": [
      "5\n"
     ]
    }
   ],
   "source": [
    "s=\"durga\"\n",
    "print(len(s))"
   ]
  },
  {
   "cell_type": "code",
   "execution_count": 50,
   "metadata": {},
   "outputs": [
    {
     "name": "stdout",
     "output_type": "stream",
     "text": [
      "Forward Direction\n",
      "learning python is very easy !!!\n",
      "Backward Direction\n",
      "!!! ysae yrev si nohtyp gninrael"
     ]
    }
   ],
   "source": [
    "s=\"learning python is very easy !!!\"\n",
    "n=len(s)\n",
    "i=0\n",
    "print(\"Forward Direction\")\n",
    "while i<n:\n",
    "    print(s[i],end='')\n",
    "    i=i+1\n",
    "print()\n",
    "print(\"Backward Direction\")\n",
    "\n",
    "i=-1\n",
    "while i>=-n:\n",
    "    print(s[i],end='')\n",
    "    i=i-1\n",
    "    \n",
    "    "
   ]
  },
  {
   "cell_type": "code",
   "execution_count": 55,
   "metadata": {},
   "outputs": [
    {
     "name": "stdout",
     "output_type": "stream",
     "text": [
      "Forward Direction\n",
      "learning python is very easy !!!\n",
      "Forward Direction\n",
      "learning python is very easy !!!\n",
      "Backward Direction\n",
      "!!! ysae yrev si nohtyp gninrael"
     ]
    }
   ],
   "source": [
    "s=\"learning python is very easy !!!\"\n",
    "print(\"Forward Direction\")\n",
    "for i in s:\n",
    "    print(i,end='')\n",
    "print()\n",
    "print(\"Forward Direction\")\n",
    "for i in s[::]:\n",
    "    print(i,end='')\n",
    "print()\n",
    "print(\"Backward Direction\")\n",
    "for i in  s[::-1]:\n",
    "    print(i,end='')"
   ]
  },
  {
   "cell_type": "code",
   "execution_count": 56,
   "metadata": {},
   "outputs": [],
   "source": [
    "s=\"durga\""
   ]
  },
  {
   "cell_type": "code",
   "execution_count": 57,
   "metadata": {},
   "outputs": [
    {
     "name": "stdout",
     "output_type": "stream",
     "text": [
      "True\n"
     ]
    }
   ],
   "source": [
    "print(\"d\"in s)"
   ]
  },
  {
   "cell_type": "code",
   "execution_count": 58,
   "metadata": {},
   "outputs": [
    {
     "name": "stdout",
     "output_type": "stream",
     "text": [
      "False\n"
     ]
    }
   ],
   "source": [
    "print(\"z\"in s)"
   ]
  },
  {
   "cell_type": "code",
   "execution_count": 60,
   "metadata": {},
   "outputs": [
    {
     "name": "stdout",
     "output_type": "stream",
     "text": [
      "Enter Main Stringdurgasoftwaresolution\n",
      "Entere Subs Stringpython\n",
      "python Is Not Found In The Main String\n"
     ]
    }
   ],
   "source": [
    "s=input(\"Enter Main String\")\n",
    "subs=input(\"Entere Subs String\")\n",
    "if subs in s:\n",
    "    print(subs,\"Is Found In Main String\")\n",
    "else:\n",
    "    print(subs,\"Is Not Found In The Main String\")"
   ]
  },
  {
   "cell_type": "code",
   "execution_count": 66,
   "metadata": {},
   "outputs": [
    {
     "name": "stdout",
     "output_type": "stream",
     "text": [
      "Enter First String : durga\n",
      "Enter Second String : anil\n",
      "First String  Is Greater Than Second String\n"
     ]
    }
   ],
   "source": [
    "s1=input(\"Enter First String : \")\n",
    "s2=input(\"Enter Second String : \")\n",
    "if s1==s2:\n",
    "    print(\"Both String are Equal\")\n",
    "elif s1<s2:\n",
    "    print(\"First String Is Smaller Than Second String\")\n",
    "else:\n",
    "    print(\"First String  Is Greater Than Second String\")"
   ]
  },
  {
   "cell_type": "code",
   "execution_count": 73,
   "metadata": {},
   "outputs": [
    {
     "name": "stdout",
     "output_type": "stream",
     "text": [
      "Enter Your City Name : banglore\n",
      "Your Entered City Is Invalid\n"
     ]
    }
   ],
   "source": [
    "city=input(\"Enter Your City Name : \")\n",
    "scity=city.strip()\n",
    "if scity==\"Hyderabad\":\n",
    "    print( \" Hello Hyderabadi ...Adab \" )\n",
    "elif scity==\"Chennai\":\n",
    "    print( \"Hello Madrasi ...Vanakaam \" )\n",
    "elif scity==\"Banglore\":\n",
    "    print( \" Hello Kannadiga...Shubhodaya\" )\n",
    "else:\n",
    "     print(\"Your Entered City Is Invalid\")"
   ]
  },
  {
   "cell_type": "code",
   "execution_count": 77,
   "metadata": {},
   "outputs": [
    {
     "name": "stdout",
     "output_type": "stream",
     "text": [
      "9\n",
      "-1\n",
      "3\n",
      "21\n"
     ]
    }
   ],
   "source": [
    "s=\"Learning Python is very easy\"\n",
    "print(s.find(\"Python\"))\n",
    "print(s.find(\"java\"))\n",
    "print(s.find(\"r\"))\n",
    "print(s.rfind(\"r\"))"
   ]
  },
  {
   "cell_type": "code",
   "execution_count": 81,
   "metadata": {},
   "outputs": [
    {
     "name": "stdout",
     "output_type": "stream",
     "text": [
      "4\n",
      "10\n",
      "-1\n"
     ]
    }
   ],
   "source": [
    "s=\"durgaravipavanshiva\"\n",
    "print(s.find(\"a\"))\n",
    "print(s.find(\"a\",7,15))\n",
    "print(s.find(\"z\",7,15))"
   ]
  },
  {
   "cell_type": "code",
   "execution_count": 85,
   "metadata": {},
   "outputs": [
    {
     "name": "stdout",
     "output_type": "stream",
     "text": [
      " Enter Main String : learning python is very easy\n",
      "Enter Sub String  : java\n",
      "SubString Not Found\n"
     ]
    }
   ],
   "source": [
    "s=input( \" Enter Main String : \" )\n",
    "subs=input( \"Enter Sub String  : \" )\n",
    "try:\n",
    "    n=s.index(subs)\n",
    "except ValueError:\n",
    "    print(\"SubString Not Found\")\n",
    "else:\n",
    "    print(\"SubString Found \" )"
   ]
  },
  {
   "cell_type": "code",
   "execution_count": 88,
   "metadata": {},
   "outputs": [
    {
     "name": "stdout",
     "output_type": "stream",
     "text": [
      " Enter Main String :abababbabbaba\n",
      " Enter Sub String : c\n",
      "Not Found\n"
     ]
    }
   ],
   "source": [
    "s=input( \" Enter Main String :\" )\n",
    "subs=input( \" Enter Sub String : \" )\n",
    "flag=False\n",
    "pos=-1\n",
    "n=len(s)\n",
    "while True:\n",
    "    pos=s.find(subs,pos+1,n)\n",
    "    if pos==-1:\n",
    "        break\n",
    "    print(\"Found At Position\",pos)\n",
    "    flag=True\n",
    "if flag ==False:\n",
    "    print(\"Not Found\")    "
   ]
  },
  {
   "cell_type": "code",
   "execution_count": 90,
   "metadata": {},
   "outputs": [
    {
     "name": "stdout",
     "output_type": "stream",
     "text": [
      "6\n"
     ]
    }
   ],
   "source": [
    "s=\"abcabcabcabcadda\"\n",
    "print(s.count(\"a\"))"
   ]
  },
  {
   "cell_type": "code",
   "execution_count": 91,
   "metadata": {},
   "outputs": [
    {
     "name": "stdout",
     "output_type": "stream",
     "text": [
      "4\n"
     ]
    }
   ],
   "source": [
    "print(s.count('ab'))"
   ]
  },
  {
   "cell_type": "code",
   "execution_count": 93,
   "metadata": {},
   "outputs": [
    {
     "name": "stdout",
     "output_type": "stream",
     "text": [
      "2\n"
     ]
    }
   ],
   "source": [
    "print(s.count('a',3,7))"
   ]
  },
  {
   "cell_type": "code",
   "execution_count": 94,
   "metadata": {},
   "outputs": [
    {
     "name": "stdout",
     "output_type": "stream",
     "text": [
      "learning python is very easy\n"
     ]
    }
   ],
   "source": [
    "s=\"learning python is very difficult\"\n",
    "s1=s.replace(\"difficult\",\"easy\")\n",
    "print(s1)"
   ]
  },
  {
   "cell_type": "code",
   "execution_count": 95,
   "metadata": {},
   "outputs": [
    {
     "name": "stdout",
     "output_type": "stream",
     "text": [
      "bbbbbbbbbbbbbbb\n"
     ]
    }
   ],
   "source": [
    "s=\"abababababababa\"\n",
    "s1=s.replace(\"a\",\"b\")\n",
    "print(s1)"
   ]
  },
  {
   "cell_type": "code",
   "execution_count": 96,
   "metadata": {},
   "outputs": [
    {
     "name": "stdout",
     "output_type": "stream",
     "text": [
      "abab is availabele at  82256760\n",
      "bbbb is available at  82258888\n"
     ]
    }
   ],
   "source": [
    "s=\"abab\"\n",
    "s1=s.replace(\"a\",\"b\")\n",
    "print(s,\"is availabele at \",id(s))\n",
    "print(s1,\"is available at \",id(s1))"
   ]
  },
  {
   "cell_type": "code",
   "execution_count": 97,
   "metadata": {},
   "outputs": [
    {
     "name": "stdout",
     "output_type": "stream",
     "text": [
      "durga\n",
      "software\n",
      "solution\n"
     ]
    }
   ],
   "source": [
    "s=\"durga software solution\"\n",
    "l=s.split()\n",
    "for x in l:\n",
    "    print(x)"
   ]
  },
  {
   "cell_type": "code",
   "execution_count": 98,
   "metadata": {},
   "outputs": [
    {
     "name": "stdout",
     "output_type": "stream",
     "text": [
      "22\n",
      "02\n",
      "2018\n"
     ]
    }
   ],
   "source": [
    "s=\"22-02-2018\"\n",
    "l=s.split('-')\n",
    "for x in l:\n",
    "    print(x)"
   ]
  },
  {
   "cell_type": "code",
   "execution_count": 100,
   "metadata": {},
   "outputs": [
    {
     "name": "stdout",
     "output_type": "stream",
     "text": [
      "sunny-bunny-chinny\n",
      "<class 'str'>\n"
     ]
    }
   ],
   "source": [
    "t=(\"sunny\",\"bunny\",\"chinny\")\n",
    "s='-'.join(t)\n",
    "print(s)\n",
    "print(type(s))"
   ]
  },
  {
   "cell_type": "code",
   "execution_count": 106,
   "metadata": {},
   "outputs": [
    {
     "name": "stdout",
     "output_type": "stream",
     "text": [
      "HYDERABAD:SINGAPORE:LONDON:DUBAI\n"
     ]
    }
   ],
   "source": [
    "l=[\"hyderabad\",\"singapore\",\"london\",\"dubai\"]\n",
    "s=':'.join(l).upper()\n",
    "print(s)"
   ]
  },
  {
   "cell_type": "code",
   "execution_count": 107,
   "metadata": {},
   "outputs": [
    {
     "name": "stdout",
     "output_type": "stream",
     "text": [
      "LEARNING PYTHON IS VERY EASY \n",
      "learning python is very easy \n",
      "lEARNING pYTHON IS VERY eASY \n",
      "Learning Python Is Very Easy \n",
      "Learning python is very easy \n"
     ]
    }
   ],
   "source": [
    "s=\"Learning Python is very Easy \"\n",
    "print(s.upper())\n",
    "print(s.lower())\n",
    "print(s.swapcase())\n",
    "print(s.title())\n",
    "print(s.capitalize())"
   ]
  },
  {
   "cell_type": "code",
   "execution_count": 108,
   "metadata": {},
   "outputs": [
    {
     "name": "stdout",
     "output_type": "stream",
     "text": [
      "True\n"
     ]
    }
   ],
   "source": [
    "s=\"learning python is very easy \"\n",
    "print(s.startswith(\"learning\"))"
   ]
  },
  {
   "cell_type": "code",
   "execution_count": 110,
   "metadata": {},
   "outputs": [
    {
     "name": "stdout",
     "output_type": "stream",
     "text": [
      "False\n"
     ]
    }
   ],
   "source": [
    "print(s.endswith(\"learning\"))"
   ]
  },
  {
   "cell_type": "code",
   "execution_count": 112,
   "metadata": {},
   "outputs": [
    {
     "name": "stdout",
     "output_type": "stream",
     "text": [
      "True\n"
     ]
    }
   ],
   "source": [
    "print(s.endswith(\"easy \"))"
   ]
  },
  {
   "cell_type": "code",
   "execution_count": 114,
   "metadata": {},
   "outputs": [
    {
     "name": "stdout",
     "output_type": "stream",
     "text": [
      "True\n"
     ]
    }
   ],
   "source": [
    "print(\"durga786\".isalnum())"
   ]
  },
  {
   "cell_type": "code",
   "execution_count": 115,
   "metadata": {},
   "outputs": [
    {
     "name": "stdout",
     "output_type": "stream",
     "text": [
      "False\n"
     ]
    }
   ],
   "source": [
    "print(\"durga786\".isalpha())"
   ]
  },
  {
   "cell_type": "code",
   "execution_count": 116,
   "metadata": {},
   "outputs": [
    {
     "name": "stdout",
     "output_type": "stream",
     "text": [
      "True\n"
     ]
    }
   ],
   "source": [
    "print(\"durga\".isalpha())"
   ]
  },
  {
   "cell_type": "code",
   "execution_count": 117,
   "metadata": {},
   "outputs": [
    {
     "name": "stdout",
     "output_type": "stream",
     "text": [
      "False\n"
     ]
    }
   ],
   "source": [
    "print(\"durga\".isdigit())"
   ]
  },
  {
   "cell_type": "code",
   "execution_count": 118,
   "metadata": {},
   "outputs": [
    {
     "name": "stdout",
     "output_type": "stream",
     "text": [
      "True\n"
     ]
    }
   ],
   "source": [
    "print(\"786786\".isdigit())"
   ]
  },
  {
   "cell_type": "code",
   "execution_count": 119,
   "metadata": {},
   "outputs": [
    {
     "name": "stdout",
     "output_type": "stream",
     "text": [
      "True\n"
     ]
    }
   ],
   "source": [
    "print(\"abc\".islower())"
   ]
  },
  {
   "cell_type": "code",
   "execution_count": 120,
   "metadata": {},
   "outputs": [
    {
     "name": "stdout",
     "output_type": "stream",
     "text": [
      "True\n"
     ]
    }
   ],
   "source": [
    "print(\"abc123\".islower())"
   ]
  },
  {
   "cell_type": "code",
   "execution_count": 121,
   "metadata": {},
   "outputs": [
    {
     "name": "stdout",
     "output_type": "stream",
     "text": [
      "True\n"
     ]
    }
   ],
   "source": [
    "print(\"ABC\".isupper())"
   ]
  },
  {
   "cell_type": "code",
   "execution_count": 122,
   "metadata": {},
   "outputs": [
    {
     "name": "stdout",
     "output_type": "stream",
     "text": [
      "False\n"
     ]
    }
   ],
   "source": [
    "print(\"learning python is easy\".istitle())"
   ]
  },
  {
   "cell_type": "code",
   "execution_count": 123,
   "metadata": {},
   "outputs": [
    {
     "name": "stdout",
     "output_type": "stream",
     "text": [
      "True\n"
     ]
    }
   ],
   "source": [
    "print(\"Learning Python Is Easy\".istitle())"
   ]
  },
  {
   "cell_type": "code",
   "execution_count": 126,
   "metadata": {},
   "outputs": [
    {
     "name": "stdout",
     "output_type": "stream",
     "text": [
      "True\n"
     ]
    }
   ],
   "source": [
    "print(\" \".isspace())"
   ]
  },
  {
   "cell_type": "code",
   "execution_count": 132,
   "metadata": {},
   "outputs": [
    {
     "name": "stdout",
     "output_type": "stream",
     "text": [
      "Enter Any Charater : A\n",
      " Alpha Numeric Charater \n",
      " Alphabetical Charater \n",
      " Upper Case Character  \n"
     ]
    }
   ],
   "source": [
    "s=input(\"Enter Any Charater : \")\n",
    "if s.isalnum():\n",
    "    print(\" Alpha Numeric Charater \")\n",
    "    if s.isalpha():\n",
    "        print( \" Alphabetical Charater \")\n",
    "        if s.islower():\n",
    "            print( \" Lower Case Character \")\n",
    "        else:\n",
    "            print( \" Upper Case Character  \")\n",
    "    else:\n",
    "        print( \" It Is Digit \" )\n",
    "elif s.isspace():\n",
    "    print(\"It Is Space Character \")\n",
    "else:\n",
    "    print(\"Non Space Special Character \")"
   ]
  },
  {
   "cell_type": "code",
   "execution_count": 134,
   "metadata": {},
   "outputs": [
    {
     "name": "stdout",
     "output_type": "stream",
     "text": [
      "durga salary is 10000 and his age is 48\n",
      "durga salary is 10000 and his age is 48 \n",
      "durga salary is 10000 and his age is 48\n"
     ]
    }
   ],
   "source": [
    "name=\"durga\"\n",
    "salary =10000\n",
    "age=48\n",
    "print(\"{} salary is {} and his age is {}\".format(name,salary,age))\n",
    "print(\"{0} salary is {1} and his age is {2} \".format(name,salary,age))\n",
    "print(\"{x} salary is {y} and his age is {z}\".format(z=age,y=salary,x=name))"
   ]
  },
  {
   "cell_type": "code",
   "execution_count": 2,
   "metadata": {},
   "outputs": [
    {
     "name": "stdout",
     "output_type": "stream",
     "text": [
      "enter some string : abbababababacdefg\n",
      "enter sub string : a\n",
      "found at postion :  0\n",
      "found at postion :  3\n",
      "found at postion :  5\n",
      "found at postion :  7\n",
      "found at postion :  9\n",
      "found at postion :  11\n"
     ]
    }
   ],
   "source": [
    "s=input(\"enter some string : \")\n",
    "subs= input(\"enter sub string : \")\n",
    "n=len(s)\n",
    "pos=-1\n",
    "flag=False\n",
    "while True:\n",
    "    pos=s.find(subs,pos+1,n)\n",
    "    if pos==-1:\n",
    "        break\n",
    "    print(\"found at postion : \",pos)\n",
    "    flag =True\n",
    "if flag==False:\n",
    "    print(\"not found\")"
   ]
  },
  {
   "cell_type": "code",
   "execution_count": 139,
   "metadata": {},
   "outputs": [
    {
     "name": "stdout",
     "output_type": "stream",
     "text": [
      "forward direction \n",
      "learning python is very easy !!!\n",
      "backward direction\n",
      "!!! ysae yrev si nohtyp gninrael\n"
     ]
    }
   ],
   "source": [
    "s=\"learning python is very easy !!!\"\n",
    "n=len(s)\n",
    "i=0\n",
    "print(\"forward direction \")\n",
    "while i<n:\n",
    "    print(s[i],end='')\n",
    "    i=i+1\n",
    "print()\n",
    "print(\"backward direction\")\n",
    "i=-1\n",
    "while i>=-n:\n",
    "    print(s[i],end='')\n",
    "    i=i-1\n",
    "print()"
   ]
  },
  {
   "cell_type": "code",
   "execution_count": 1,
   "metadata": {},
   "outputs": [
    {
     "name": "stdout",
     "output_type": "stream",
     "text": [
      "Enter Some String : durga\n",
      "agrud\n"
     ]
    }
   ],
   "source": [
    "s=input(\"Enter Some String : \")\n",
    "print(s[::-1])"
   ]
  },
  {
   "cell_type": "code",
   "execution_count": 3,
   "metadata": {},
   "outputs": [
    {
     "name": "stdout",
     "output_type": "stream",
     "text": [
      "Enter Some String :durga\n",
      "agrud\n"
     ]
    }
   ],
   "source": [
    "s=input(\"Enter Some String :\")\n",
    "print(''.join(reversed(s)))"
   ]
  },
  {
   "cell_type": "code",
   "execution_count": 5,
   "metadata": {},
   "outputs": [
    {
     "name": "stdout",
     "output_type": "stream",
     "text": [
      "Enter Some String : durga\n",
      "agrud\n"
     ]
    }
   ],
   "source": [
    "s=input(\"Enter Some String : \")\n",
    "i=len(s)-1\n",
    "target=\"\"\n",
    "while i>=0:\n",
    "    target=target+s[i]\n",
    "    i=i-1\n",
    "print(target)"
   ]
  },
  {
   "cell_type": "code",
   "execution_count": 7,
   "metadata": {},
   "outputs": [
    {
     "name": "stdout",
     "output_type": "stream",
     "text": [
      "enter some string durga\n",
      "agrud\n"
     ]
    }
   ],
   "source": [
    "s=input(\"enter some string \")\n",
    "i=len(s)-1\n",
    "target=\"\"\n",
    "while i>=0:\n",
    "    target=target+s[i]\n",
    "    i=i-1\n",
    "print(target)"
   ]
  },
  {
   "cell_type": "code",
   "execution_count": 9,
   "metadata": {},
   "outputs": [
    {
     "name": "stdout",
     "output_type": "stream",
     "text": [
      "Enter Some String : learning python is very easy !!!\n",
      "!!!easyveryispythonlearning\n"
     ]
    }
   ],
   "source": [
    "s=input(\"Enter Some String : \")\n",
    "l=s.split()\n",
    "l1=[]\n",
    "i=len(l)-1\n",
    "while i>=0:\n",
    "    l1.append(l[i])\n",
    "    i=i-1\n",
    "output=''.join(l1)\n",
    "print(output)"
   ]
  },
  {
   "cell_type": "code",
   "execution_count": 10,
   "metadata": {},
   "outputs": [
    {
     "name": "stdout",
     "output_type": "stream",
     "text": [
      "Enter Some Stringdurga software solution\n",
      "agruderawtfosnoitulos\n"
     ]
    }
   ],
   "source": [
    "s=input(\"Enter Some String\")\n",
    "l=s.split()\n",
    "l1=[]\n",
    "i=0\n",
    "while i<len(l):\n",
    "    l1.append(l[i][::-1])\n",
    "    i=i+1\n",
    "output=''.join(l1)\n",
    "print(output)"
   ]
  },
  {
   "cell_type": "code",
   "execution_count": 12,
   "metadata": {},
   "outputs": [
    {
     "name": "stdout",
     "output_type": "stream",
     "text": [
      "Enter Some String : learning python is very easy\n",
      "Character at Even Position : lann yhni eyes\n",
      "Charater at Odd Position :  erigpto svr ay\n"
     ]
    }
   ],
   "source": [
    "s=input(\"Enter Some String : \")\n",
    "print(\"Character at Even Position :\",s[0::2])\n",
    "print(\"Charater at Odd Position : \",s[1::2])"
   ]
  },
  {
   "cell_type": "code",
   "execution_count": 15,
   "metadata": {},
   "outputs": [
    {
     "name": "stdout",
     "output_type": "stream",
     "text": [
      "Enter Some String : learning python is very easy\n",
      "Character at Even Position \n",
      "l,a,n,n, ,y,h,n,i, ,e,y,e,s,\n",
      "character at Odd Position : \n",
      "e,r,i,g,p,t,o, ,s,v,r, ,a,y,"
     ]
    }
   ],
   "source": [
    "s=input(\"Enter Some String : \")\n",
    "i=0\n",
    "print(\"Character at Even Position \")\n",
    "while i<len(s):\n",
    "    print(s[i],end=',')\n",
    "    i=i+2\n",
    "print()\n",
    "i=1\n",
    "print(\"character at Odd Position : \")\n",
    "while i<len(s):\n",
    "    print(s[i],end=',')\n",
    "    i=i+2"
   ]
  },
  {
   "cell_type": "code",
   "execution_count": 16,
   "metadata": {},
   "outputs": [
    {
     "name": "stdout",
     "output_type": "stream",
     "text": [
      "enter some stringdurga\n",
      "agrud\n"
     ]
    }
   ],
   "source": [
    "s=input(\"enter some string\")\n",
    "print(s[::-1])"
   ]
  },
  {
   "cell_type": "code",
   "execution_count": 17,
   "metadata": {},
   "outputs": [
    {
     "name": "stdout",
     "output_type": "stream",
     "text": [
      "enter some stringdurga\n",
      "agrud\n"
     ]
    }
   ],
   "source": [
    "s=input(\"enter some string\")\n",
    "print(''.join(reversed(s)))"
   ]
  },
  {
   "cell_type": "code",
   "execution_count": 19,
   "metadata": {},
   "outputs": [
    {
     "name": "stdout",
     "output_type": "stream",
     "text": [
      "enter some stringlearning python is very easy\n",
      "ysae yrev si nohtyp gninrael\n"
     ]
    }
   ],
   "source": [
    "s=input(\"enter some string\")\n",
    "i=len(s)-1\n",
    "target=\"\"\n",
    "while i>=0:\n",
    "    target=target+s[i]\n",
    "    i=i-1\n",
    "output=''.join(target)\n",
    "print(output)"
   ]
  },
  {
   "cell_type": "code",
   "execution_count": 20,
   "metadata": {},
   "outputs": [
    {
     "name": "stdout",
     "output_type": "stream",
     "text": [
      "enter some stringlearning python is very easy\n",
      "easyveryispythonlearning\n"
     ]
    }
   ],
   "source": [
    "s=input(\"enter some string\")\n",
    "l=s.split()\n",
    "l1=[]\n",
    "i=len(l)-1\n",
    "while i>=0:\n",
    "    l1.append(l[i])\n",
    "    i=i-1\n",
    "output=''.join(l1)\n",
    "print(output)"
   ]
  },
  {
   "cell_type": "code",
   "execution_count": 21,
   "metadata": {},
   "outputs": [
    {
     "name": "stdout",
     "output_type": "stream",
     "text": [
      "enter somme stringlearning python is very easy\n",
      "gninraelnohtypsiyrevysae\n"
     ]
    }
   ],
   "source": [
    "s=input(\"enter somme string\")\n",
    "l=s.split()\n",
    "l1=[]\n",
    "i=0\n",
    "while i<len(l):\n",
    "    l1.append(l[i][::-1])\n",
    "    i=i+1\n",
    "output=''.join(l1)\n",
    "print(output)"
   ]
  },
  {
   "cell_type": "code",
   "execution_count": 22,
   "metadata": {},
   "outputs": [
    {
     "name": "stdout",
     "output_type": "stream",
     "text": [
      "enter some stringlearning python is very easy\n",
      "character at even position lann yhni eyes\n",
      "character at odd position  erigpto svr ay\n"
     ]
    }
   ],
   "source": [
    "s=input(\"enter some string\")\n",
    "print(\"character at even position\",s[0::2])\n",
    "print(\"character at odd position \",s[1::2])"
   ]
  },
  {
   "cell_type": "code",
   "execution_count": 23,
   "metadata": {},
   "outputs": [
    {
     "name": "stdout",
     "output_type": "stream",
     "text": [
      "enter some stringlearning python is very easy\n",
      "character at even position \n",
      "l,a,n,n, ,y,h,n,i, ,e,y,e,s,\n",
      "character at odd postion\n",
      "e,r,i,g,p,t,o, ,s,v,r, ,a,y,"
     ]
    }
   ],
   "source": [
    "s= input(\"enter some string\")\n",
    "i=0\n",
    "print(\"character at even position \")\n",
    "while i <len(s):\n",
    "    print(s[i],end=',')\n",
    "    i=i+2\n",
    "print()\n",
    "i=1\n",
    "print(\"character at odd postion\")\n",
    "while i<len(s):\n",
    "    print(s[i],end=',')\n",
    "    i=i+2"
   ]
  },
  {
   "cell_type": "code",
   "execution_count": 25,
   "metadata": {},
   "outputs": [
    {
     "name": "stdout",
     "output_type": "stream",
     "text": [
      "enter some stringdurga\n",
      "enter some stringravisoft\n",
      "druarvgiasoft\n"
     ]
    }
   ],
   "source": [
    "s1=input(\"enter some string\")\n",
    "s2=input(\"enter some string\")\n",
    "output=\"\"\n",
    "i,j=0,0\n",
    "while i<len(s1) or j<len(s2):\n",
    "    if i<len(s1):\n",
    "        output=output+s1[i]\n",
    "        i=i+1\n",
    "    if j<len(s2):\n",
    "        output=output+s2[j]\n",
    "        j=j+1\n",
    "print(output)"
   ]
  },
  {
   "cell_type": "code",
   "execution_count": 26,
   "metadata": {},
   "outputs": [
    {
     "name": "stdout",
     "output_type": "stream",
     "text": [
      "enter some string durga\n",
      "enter some stringravisoft\n",
      "druarvgiasoft\n"
     ]
    }
   ],
   "source": [
    "s1=input(\"enter some string \")\n",
    "s2= input(\"enter some string\")\n",
    "output=\"\"\n",
    "i,j=0,0\n",
    "while i<len(s1) or j<len(s2):\n",
    "    if i<len(s1):\n",
    "        output=output+s1[i]\n",
    "        i=i+1\n",
    "    if j<len(s2):\n",
    "        output=output+s2[j]\n",
    "        j=j+1\n",
    "print(output)"
   ]
  },
  {
   "cell_type": "code",
   "execution_count": 27,
   "metadata": {},
   "outputs": [
    {
     "name": "stdout",
     "output_type": "stream",
     "text": [
      "enter some sttringb4a1d3\n",
      "abd134\n"
     ]
    }
   ],
   "source": [
    "s=input(\"enter some sttring\")\n",
    "s1=s2=output=\"\"\n",
    "for x in s:\n",
    "    if x.isalpha():\n",
    "        s1=s1+x\n",
    "    else:\n",
    "        s2=s2+x\n",
    "for x in sorted(s1):\n",
    "    output=output+x\n",
    "for x in sorted (s2):\n",
    "    output=output+x\n",
    "print(output)"
   ]
  },
  {
   "cell_type": "code",
   "execution_count": 2,
   "metadata": {},
   "outputs": [
    {
     "name": "stdout",
     "output_type": "stream",
     "text": [
      "enter some stringqkhbqkfhlw23187r829u3u\n",
      "bfhhkklqqruuw122337889\n"
     ]
    }
   ],
   "source": [
    "s=input(\"enter some string\")\n",
    "s1=s2=output=\"\"\n",
    "for x in s:\n",
    "    if x.isalpha():\n",
    "        s1=s1+x\n",
    "    else:\n",
    "        s2=s2+x\n",
    "for x in sorted(s1):\n",
    "    output=output+x\n",
    "for x in sorted(s2):\n",
    "    output=output+x\n",
    "print(output)"
   ]
  },
  {
   "cell_type": "code",
   "execution_count": 1,
   "metadata": {},
   "outputs": [
    {
     "name": "stdout",
     "output_type": "stream",
     "text": [
      "enter some sttringb4a1d3\n",
      "abd134\n"
     ]
    }
   ],
   "source": [
    "s=input(\"enter some sttring\")\n",
    "s1=s2=output=\"\"\n",
    "for x in s:\n",
    "    if x.isalpha():\n",
    "        s1=s1+x\n",
    "    else:\n",
    "        s2=s2+x\n",
    "for x in sorted(s1):\n",
    "    output=output+x\n",
    "for x in sorted (s2):\n",
    "    output=output+x\n",
    "print(output)"
   ]
  },
  {
   "cell_type": "code",
   "execution_count": 3,
   "metadata": {},
   "outputs": [
    {
     "name": "stdout",
     "output_type": "stream",
     "text": [
      "enter some stringdasfaw23423fqer132rqw\n",
      "aadeffqqrrsww12223334\n"
     ]
    }
   ],
   "source": [
    "s=input(\"enter some string\")\n",
    "s1=s2=output=\"\"\n",
    "for x in s:\n",
    "    if x.isalpha():\n",
    "        s1=s1+x\n",
    "    else:\n",
    "        s2=s2+x\n",
    "for x in sorted (s1):\n",
    "    output=output+x\n",
    "for x in sorted (s2):\n",
    "    output=output+x\n",
    "print(output)"
   ]
  },
  {
   "cell_type": "code",
   "execution_count": 4,
   "metadata": {},
   "outputs": [
    {
     "name": "stdout",
     "output_type": "stream",
     "text": [
      "enter some stringb4d3c4\n",
      "bbbbdddcccc\n"
     ]
    }
   ],
   "source": [
    "s=input(\"enter some string\")\n",
    "output=\"\"\n",
    "for x in s:\n",
    "    if x.isalpha():\n",
    "        output=output+x\n",
    "        previous=x\n",
    "    else:\n",
    "        output=output+previous*(int(x)-1)\n",
    "print(output)"
   ]
  },
  {
   "cell_type": "code",
   "execution_count": 6,
   "metadata": {},
   "outputs": [
    {
     "name": "stdout",
     "output_type": "stream",
     "text": [
      "enter some stringb4c4v5\n",
      "bbbbccccvvvvv\n"
     ]
    }
   ],
   "source": [
    "s=input(\"enter some string\")\n",
    "output=\"\"\n",
    "for x in s:\n",
    "    if x.isalpha():\n",
    "        output=output+x\n",
    "        previous=x\n",
    "    else:\n",
    "        output=output+previous*(int(x)-1)\n",
    "print(output)"
   ]
  },
  {
   "cell_type": "code",
   "execution_count": 7,
   "metadata": {},
   "outputs": [
    {
     "name": "stdout",
     "output_type": "stream",
     "text": [
      "enter some stringa4k3b2\n",
      "aeknbd\n"
     ]
    }
   ],
   "source": [
    "s=input(\"enter some string\")\n",
    "output=\"\"\n",
    "for x in s:\n",
    "    if x.isalpha():\n",
    "        output=output+x\n",
    "        previous=x\n",
    "    else:\n",
    "        output=output+chr(ord(previous)+int(x))\n",
    "print(output)"
   ]
  },
  {
   "cell_type": "code",
   "execution_count": 9,
   "metadata": {},
   "outputs": [
    {
     "name": "stdout",
     "output_type": "stream",
     "text": [
      "enter some stringabcdabbcdabbbcccddeeef\n",
      "abcdef\n"
     ]
    }
   ],
   "source": [
    "s=input(\"enter some string\")\n",
    "l=[]\n",
    "output=\"\"\n",
    "for x in s:\n",
    "    if x not in l:\n",
    "        l.append(x)\n",
    "output=''.join(l)\n",
    "print(output)"
   ]
  },
  {
   "cell_type": "code",
   "execution_count": 10,
   "metadata": {},
   "outputs": [
    {
     "name": "stdout",
     "output_type": "stream",
     "text": [
      "enter some stringabbcddeeff\n",
      "abcdef\n"
     ]
    }
   ],
   "source": [
    "s=input(\"enter some string\")\n",
    "l=[]\n",
    "output=\"\"\n",
    "for x in s:\n",
    "    if x not in l:\n",
    "        l.append(x)\n",
    "output=''.join(l)\n",
    "print(output)"
   ]
  },
  {
   "cell_type": "code",
   "execution_count": 12,
   "metadata": {},
   "outputs": [
    {
     "name": "stdout",
     "output_type": "stream",
     "text": [
      "enter some stringaaavvvvdddddeeeeaaaa\n",
      "a=7 times\n",
      "v=4 times\n",
      "d=5 times\n",
      "e=4 times\n"
     ]
    }
   ],
   "source": [
    "s=input(\"enter some string\")\n",
    "d={}\n",
    "for x in s:\n",
    "    if x in d.keys():\n",
    "        d[x]=d[x]+1\n",
    "    else:\n",
    "        d[x]=1\n",
    "for k,v in d.items():\n",
    "    print(\"{}={} times\".format(k,v))"
   ]
  },
  {
   "cell_type": "code",
   "execution_count": 13,
   "metadata": {},
   "outputs": [
    {
     "name": "stdout",
     "output_type": "stream",
     "text": [
      "enter some stringaaassssfffghjkkaaagghkk\n",
      "a=6 Times\n",
      "s=4 Times\n",
      "f=3 Times\n",
      "g=3 Times\n",
      "h=2 Times\n",
      "j=1 Times\n",
      "k=4 Times\n"
     ]
    }
   ],
   "source": [
    "s=input(\"enter some string\")\n",
    "d={}\n",
    "for x in s:\n",
    "    if x in d.keys():\n",
    "        d[x]=d[x]+1\n",
    "    else:\n",
    "        d[x]=1\n",
    "for k,v in d.items():\n",
    "    print(\"{}={} Times\".format(k,v))"
   ]
  },
  {
   "cell_type": "code",
   "execution_count": 1,
   "metadata": {},
   "outputs": [
    {
     "name": "stdout",
     "output_type": "stream",
     "text": [
      "durga's salary is 10000 and his age is 48\n",
      "durga's salary is 10000 and his age is 48\n",
      "durga's salary is 10000 and his age is 48\n"
     ]
    }
   ],
   "source": [
    "name=\"durga\"\n",
    "salary=10000\n",
    "age=48\n",
    "print(\"{}'s salary is {} and his age is {}\".format(name,salary,age))\n",
    "print(\"{0}'s salary is {1} and his age is {2}\".format(name,salary,age))\n",
    "print(\"{x}'s salary is {y} and his age is {z}\".format(z=age,y=salary,x=name))"
   ]
  },
  {
   "cell_type": "code",
   "execution_count": 2,
   "metadata": {},
   "outputs": [
    {
     "name": "stdout",
     "output_type": "stream",
     "text": [
      "The integer number is :123\n",
      "The integer number is :123\n",
      "The integer number is :  123\n",
      "The integer number is :00123\n"
     ]
    }
   ],
   "source": [
    "print(\"The integer number is :{}\".format(123))\n",
    "print(\"The integer number is :{:d}\".format(123))\n",
    "print(\"The integer number is :{:5d}\".format(123))\n",
    "print(\"The integer number is :{:05d}\".format(123))"
   ]
  },
  {
   "cell_type": "code",
   "execution_count": 3,
   "metadata": {},
   "outputs": [
    {
     "name": "stdout",
     "output_type": "stream",
     "text": [
      "The float number is :123.4567\n",
      "The float number is :123.456700\n",
      "The float number is : 123.457\n",
      "The float Number is :0123.457\n",
      "The float number is :0123.450\n",
      "The float number is :786786123.450\n"
     ]
    }
   ],
   "source": [
    "print(\"The float number is :{}\".format(123.4567))\n",
    "print(\"The float number is :{:f}\".format(123.4567))\n",
    "print(\"The float number is :{:8.3f}\".format(123.4567))\n",
    "print(\"The float Number is :{:08.3f}\".format(123.4567))\n",
    "print(\"The float number is :{:08.3f}\".format(123.45))\n",
    "print(\"The float number is :{:08.3f}\".format(786786123.45))"
   ]
  },
  {
   "cell_type": "code",
   "execution_count": 5,
   "metadata": {},
   "outputs": [
    {
     "name": "stdout",
     "output_type": "stream",
     "text": [
      "Binary form : 10011001 \n",
      "Octal forma : 231\n",
      "hexadecimal : 9a\n",
      "hexadecimal : 9A\n"
     ]
    }
   ],
   "source": [
    "print(\"Binary form : {0:b} \".format(153))\n",
    "print(\"Octal forma : {0:o}\".format(153))\n",
    "print(\"hexadecimal : {0:x}\".format(154))\n",
    "print(\"hexadecimal : {0:X}\".format(154))"
   ]
  },
  {
   "cell_type": "code",
   "execution_count": 7,
   "metadata": {},
   "outputs": [
    {
     "name": "stdout",
     "output_type": "stream",
     "text": [
      "int value with  sign+123\n",
      "int value with sign -123\n",
      "float value with sign +123.456000\n",
      "float value with sign -123.456000\n"
     ]
    }
   ],
   "source": [
    "print(\"int value with  sign{:+d}\".format(123))\n",
    "print(\"int value with sign {:+d}\".format(-123))\n",
    "print(\"float value with sign {:+f}\".format(123.456))\n",
    "print(\"float value with sign {:+f}\".format(-123.456))"
   ]
  },
  {
   "cell_type": "code",
   "execution_count": 8,
   "metadata": {},
   "outputs": [
    {
     "name": "stdout",
     "output_type": "stream",
     "text": [
      "   12\n",
      "12   \n",
      "12000\n",
      "   12\n",
      "00012\n",
      " 12  \n",
      "-  12\n",
      "  12.235  \n",
      "- 12.235\n"
     ]
    }
   ],
   "source": [
    "print(\"{:5d}\".format(12))\n",
    "print(\"{:<5d}\".format(12))\n",
    "print(\"{:<05d}\".format(12))\n",
    "print(\"{:>5d}\".format(12))\n",
    "print(\"{:>05d}\".format(12))\n",
    "print(\"{:^5d}\".format(12))\n",
    "print(\"{:=5d}\".format(-12))\n",
    "print(\"{:^10.3f}\".format(12.23456))\n",
    "print(\"{:=8.3f}\".format(-12.23456))"
   ]
  },
  {
   "cell_type": "code",
   "execution_count": 10,
   "metadata": {
    "scrolled": true
   },
   "outputs": [
    {
     "name": "stdout",
     "output_type": "stream",
     "text": [
      "   12\n",
      "rat  \n",
      "  rat\n",
      "rat  \n",
      " rat \n",
      "*rat*\n"
     ]
    }
   ],
   "source": [
    "print(\"{:5d}\".format(12))\n",
    "print(\"{:5}\".format(\"rat\"))\n",
    "print(\"{:>5}\".format(\"rat\"))\n",
    "print(\"{:<5}\".format(\"rat\"))\n",
    "print(\"{:^5}\".format(\"rat\"))\n",
    "print(\"{:*^5}\".format(\"rat\"))"
   ]
  },
  {
   "cell_type": "code",
   "execution_count": 11,
   "metadata": {},
   "outputs": [
    {
     "name": "stdout",
     "output_type": "stream",
     "text": [
      "dur\n",
      "dur  \n",
      "  dur\n",
      " dur \n",
      "*dur*\n"
     ]
    }
   ],
   "source": [
    "print(\"{:.3}\".format(\"durgasoftware\"))\n",
    "print(\"{:5.3}\".format(\"durgasoftware\"))\n",
    "print(\"{:>5.3}\".format(\"durgasoftware\"))\n",
    "print(\"{:^5.3}\".format(\"durgasoftware\"))\n",
    "print(\"{:*^5.3}\".format(\"durgasoftware\"))"
   ]
  },
  {
   "cell_type": "code",
   "execution_count": 12,
   "metadata": {},
   "outputs": [
    {
     "name": "stdout",
     "output_type": "stream",
     "text": [
      "durga's age is 48\n"
     ]
    }
   ],
   "source": [
    "person={\"age\":48,\"name\":\"durga\"}\n",
    "print(\"{p[name]}'s age is {p[age]}\".format(p=person))"
   ]
  },
  {
   "cell_type": "code",
   "execution_count": 13,
   "metadata": {},
   "outputs": [
    {
     "name": "stdout",
     "output_type": "stream",
     "text": [
      "durga's age is 48\n"
     ]
    }
   ],
   "source": [
    "person={\"age\":48,\"name\":\"durga\"}\n",
    "print(\"{name}'s age is {age}\".format(**person))"
   ]
  },
  {
   "cell_type": "code",
   "execution_count": 14,
   "metadata": {},
   "outputs": [
    {
     "name": "stdout",
     "output_type": "stream",
     "text": [
      "durga's age is 48\n"
     ]
    }
   ],
   "source": [
    "class person:\n",
    "    age=48\n",
    "    name=\"durga\"\n",
    "print(\"{p.name}'s age is {p.age}\".format(p=person()))"
   ]
  },
  {
   "cell_type": "code",
   "execution_count": 18,
   "metadata": {},
   "outputs": [
    {
     "name": "stdout",
     "output_type": "stream",
     "text": [
      "durga  age is 48\n",
      "ravi age is 50\n"
     ]
    }
   ],
   "source": [
    "class person:\n",
    "    def __init__(self,name,age):\n",
    "        self.name=name\n",
    "        self.age=age\n",
    "print(\"{p.name}  age is {p.age}\".format(p=person(\"durga\",48)))\n",
    "print(\"{p.name} age is {p.age}\".format(p=person(\"ravi\",50)))"
   ]
  },
  {
   "cell_type": "code",
   "execution_count": 19,
   "metadata": {},
   "outputs": [
    {
     "name": "stdout",
     "output_type": "stream",
     "text": [
      "durga age is 48\n",
      "ravi age is 50\n"
     ]
    }
   ],
   "source": [
    "class person:\n",
    "    def __init__(self,name,age):\n",
    "        self.name=name\n",
    "        self.age=age\n",
    "print(\"{p.name} age is {p.age}\".format(p=person(\"durga\",48)))\n",
    "print(\"{p.name} age is {p.age}\".format(p=person(\"ravi\",50)))"
   ]
  },
  {
   "cell_type": "code",
   "execution_count": 20,
   "metadata": {},
   "outputs": [
    {
     "name": "stdout",
     "output_type": "stream",
     "text": [
      "durga age is 48\n"
     ]
    }
   ],
   "source": [
    "class person:\n",
    "    name=\"durga\"\n",
    "    age =48\n",
    "print(\"{p.name} age is {p.age}\".format(p=person()))"
   ]
  },
  {
   "cell_type": "code",
   "execution_count": 21,
   "metadata": {},
   "outputs": [
    {
     "name": "stdout",
     "output_type": "stream",
     "text": [
      "durga's age is 48\n"
     ]
    }
   ],
   "source": [
    "person={\"age\":48,\"name\":\"durga\"}\n",
    "print(\"{name}'s age is {age}\".format(**person))"
   ]
  },
  {
   "cell_type": "code",
   "execution_count": 24,
   "metadata": {},
   "outputs": [
    {
     "name": "stdout",
     "output_type": "stream",
     "text": [
      "*cat*\n",
      "*cat**\n",
      "cat***\n",
      "***cat\n"
     ]
    }
   ],
   "source": [
    "print(string.format('cat',fill='*',align='^',width=5))\n",
    "print(string.format('cat',fill='*',align='^',width=6))\n",
    "print(string.format('cat',fill='*',align='<',width=6))\n",
    "print(string.format('cat',fill='*',align='>',width=6))"
   ]
  },
  {
   "cell_type": "code",
   "execution_count": 30,
   "metadata": {},
   "outputs": [
    {
     "name": "stdout",
     "output_type": "stream",
     "text": [
      "123.24  \n",
      "  123.24\n"
     ]
    }
   ],
   "source": [
    "num=\"{:{align}{width}.{precision}f}\"\n",
    "print(num.format(123.236,align='<',width=8,precision=2))\n",
    "print(num.format(123.236,align='>',width=8,precision=2))"
   ]
  },
  {
   "cell_type": "code",
   "execution_count": 38,
   "metadata": {},
   "outputs": [
    {
     "name": "stdout",
     "output_type": "stream",
     "text": [
      "it now :25/09/20   20:33:01\n"
     ]
    }
   ],
   "source": [
    "import datetime\n",
    "date=datetime.datetime.now()\n",
    "print(\"it now :{:%d/%m/%y   %H:%M:%S}\".format(date))"
   ]
  },
  {
   "cell_type": "code",
   "execution_count": 36,
   "metadata": {},
   "outputs": [
    {
     "name": "stdout",
     "output_type": "stream",
     "text": [
      "real part:1.0 and imaginary part:2.0\n"
     ]
    }
   ],
   "source": [
    "ComplexNumber=1+2j\n",
    "print(\"real part:{0.real} and imaginary part:{0.imag}\".format(ComplexNumber))"
   ]
  },
  {
   "cell_type": "code",
   "execution_count": 39,
   "metadata": {},
   "outputs": [
    {
     "name": "stdout",
     "output_type": "stream",
     "text": [
      "real part 1.0 and imaginary part 2.0\n"
     ]
    }
   ],
   "source": [
    "complexnumber =1+2j\n",
    "print(\"real part {0.real} and imaginary part {0.imag}\".format(complexnumber ))"
   ]
  },
  {
   "cell_type": "code",
   "execution_count": 6,
   "metadata": {},
   "outputs": [
    {
     "name": "stdout",
     "output_type": "stream",
     "text": [
      "*cat*\n"
     ]
    }
   ],
   "source": [
    "string=\"{:{fill}{align}{width}}\"\n",
    "print(string.format('cat',fill='*',align='^',width=5))"
   ]
  },
  {
   "cell_type": "code",
   "execution_count": 8,
   "metadata": {},
   "outputs": [
    {
     "name": "stdout",
     "output_type": "stream",
     "text": [
      "123.24  \n"
     ]
    }
   ],
   "source": [
    "num=\"{:{align}{width}.{precision}f}\"\n",
    "print(num.format(123.236,align='<',width=8,precision=2))"
   ]
  },
  {
   "cell_type": "code",
   "execution_count": 9,
   "metadata": {},
   "outputs": [
    {
     "name": "stdout",
     "output_type": "stream",
     "text": [
      "it is now :25/09/20    21:03:48\n"
     ]
    }
   ],
   "source": [
    "import datetime\n",
    "date=datetime.datetime.now()\n",
    "print(\"it is now :{:%d/%m/%y    %H:%M:%S}\".format(date))"
   ]
  },
  {
   "cell_type": "code",
   "execution_count": 11,
   "metadata": {},
   "outputs": [
    {
     "name": "stdout",
     "output_type": "stream",
     "text": [
      "real part1.0 and imaginary part2.0\n"
     ]
    }
   ],
   "source": [
    "complexnumber=1+2j\n",
    "print(\"real part{0.real} and imaginary part{0.imag}\".format(complexnumber))"
   ]
  },
  {
   "cell_type": "code",
   "execution_count": 1,
   "metadata": {},
   "outputs": [],
   "source": [
    "s='durga'"
   ]
  },
  {
   "cell_type": "code",
   "execution_count": 2,
   "metadata": {},
   "outputs": [],
   "source": [
    "s=\"durga\""
   ]
  },
  {
   "cell_type": "code",
   "execution_count": 3,
   "metadata": {},
   "outputs": [
    {
     "name": "stdout",
     "output_type": "stream",
     "text": [
      "<class 'str'>\n"
     ]
    }
   ],
   "source": [
    "ch='a'\n",
    "print(type(ch))"
   ]
  },
  {
   "cell_type": "code",
   "execution_count": 4,
   "metadata": {},
   "outputs": [],
   "source": [
    "s='''durga\n",
    "software \n",
    "solution'''"
   ]
  },
  {
   "cell_type": "code",
   "execution_count": 5,
   "metadata": {},
   "outputs": [
    {
     "name": "stdout",
     "output_type": "stream",
     "text": [
      "durga\n",
      "software \n",
      "solution\n"
     ]
    }
   ],
   "source": [
    "print(s)"
   ]
  },
  {
   "cell_type": "code",
   "execution_count": 6,
   "metadata": {},
   "outputs": [
    {
     "ename": "SyntaxError",
     "evalue": "invalid syntax (<ipython-input-6-54863bd5bfff>, line 1)",
     "output_type": "error",
     "traceback": [
      "\u001b[1;36m  File \u001b[1;32m\"<ipython-input-6-54863bd5bfff>\"\u001b[1;36m, line \u001b[1;32m1\u001b[0m\n\u001b[1;33m    s='this is 'single quote symbol'\u001b[0m\n\u001b[1;37m                     ^\u001b[0m\n\u001b[1;31mSyntaxError\u001b[0m\u001b[1;31m:\u001b[0m invalid syntax\n"
     ]
    }
   ],
   "source": [
    "s='this is 'single quote symbol'"
   ]
  },
  {
   "cell_type": "code",
   "execution_count": 7,
   "metadata": {},
   "outputs": [],
   "source": [
    "s='this is \\'single quote symbol '"
   ]
  },
  {
   "cell_type": "code",
   "execution_count": 8,
   "metadata": {},
   "outputs": [
    {
     "name": "stdout",
     "output_type": "stream",
     "text": [
      "this is 'single quote symbol \n"
     ]
    }
   ],
   "source": [
    "print(s)"
   ]
  },
  {
   "cell_type": "code",
   "execution_count": 9,
   "metadata": {},
   "outputs": [],
   "source": [
    "s=\"this is 'single quote symbol\""
   ]
  },
  {
   "cell_type": "code",
   "execution_count": 10,
   "metadata": {},
   "outputs": [
    {
     "name": "stdout",
     "output_type": "stream",
     "text": [
      "this is 'single quote symbol\n"
     ]
    }
   ],
   "source": [
    "print(s)"
   ]
  },
  {
   "cell_type": "code",
   "execution_count": 11,
   "metadata": {},
   "outputs": [],
   "source": [
    "s='this is \"double quote symbol'"
   ]
  },
  {
   "cell_type": "code",
   "execution_count": 13,
   "metadata": {},
   "outputs": [
    {
     "name": "stdout",
     "output_type": "stream",
     "text": [
      "this is \"double quote symbol\n"
     ]
    }
   ],
   "source": [
    "print(s)"
   ]
  },
  {
   "cell_type": "code",
   "execution_count": 14,
   "metadata": {},
   "outputs": [
    {
     "ename": "SyntaxError",
     "evalue": "invalid syntax (<ipython-input-14-582227109208>, line 1)",
     "output_type": "error",
     "traceback": [
      "\u001b[1;36m  File \u001b[1;32m\"<ipython-input-14-582227109208>\"\u001b[1;36m, line \u001b[1;32m1\u001b[0m\n\u001b[1;33m    s='the \"python notes \"by 'durga 'is very helpfull'\u001b[0m\n\u001b[1;37m                                  ^\u001b[0m\n\u001b[1;31mSyntaxError\u001b[0m\u001b[1;31m:\u001b[0m invalid syntax\n"
     ]
    }
   ],
   "source": [
    "s='the \"python notes \"by 'durga 'is very helpfull'"
   ]
  },
  {
   "cell_type": "code",
   "execution_count": 16,
   "metadata": {},
   "outputs": [
    {
     "ename": "SyntaxError",
     "evalue": "invalid syntax (<ipython-input-16-9085a1ebf421>, line 1)",
     "output_type": "error",
     "traceback": [
      "\u001b[1;36m  File \u001b[1;32m\"<ipython-input-16-9085a1ebf421>\"\u001b[1;36m, line \u001b[1;32m1\u001b[0m\n\u001b[1;33m    s=\"the \"python notes \"by 'durga'is very helpfull\"\u001b[0m\n\u001b[1;37m                 ^\u001b[0m\n\u001b[1;31mSyntaxError\u001b[0m\u001b[1;31m:\u001b[0m invalid syntax\n"
     ]
    }
   ],
   "source": [
    "s=\"the \"python notes \"by 'durga'is very helpfull\""
   ]
  },
  {
   "cell_type": "code",
   "execution_count": 17,
   "metadata": {},
   "outputs": [],
   "source": [
    "s=\"the \\\"python notes\\\"by 'durga ' is very helpfull\""
   ]
  },
  {
   "cell_type": "code",
   "execution_count": 18,
   "metadata": {},
   "outputs": [
    {
     "name": "stdout",
     "output_type": "stream",
     "text": [
      "the \"python notes\"by 'durga ' is very helpfull\n"
     ]
    }
   ],
   "source": [
    "print(s)"
   ]
  },
  {
   "cell_type": "code",
   "execution_count": 19,
   "metadata": {},
   "outputs": [],
   "source": [
    "s='''the \"python notees \"by 'durga 'is very helpfull'''"
   ]
  },
  {
   "cell_type": "code",
   "execution_count": 20,
   "metadata": {},
   "outputs": [
    {
     "name": "stdout",
     "output_type": "stream",
     "text": [
      "the \"python notees \"by 'durga 'is very helpfull\n"
     ]
    }
   ],
   "source": [
    "print(s)"
   ]
  },
  {
   "cell_type": "code",
   "execution_count": 21,
   "metadata": {},
   "outputs": [],
   "source": [
    "s='durga'"
   ]
  },
  {
   "cell_type": "code",
   "execution_count": 22,
   "metadata": {},
   "outputs": [
    {
     "data": {
      "text/plain": [
       "'d'"
      ]
     },
     "execution_count": 22,
     "metadata": {},
     "output_type": "execute_result"
    }
   ],
   "source": [
    "s[0]"
   ]
  },
  {
   "cell_type": "code",
   "execution_count": 23,
   "metadata": {},
   "outputs": [
    {
     "data": {
      "text/plain": [
       "'a'"
      ]
     },
     "execution_count": 23,
     "metadata": {},
     "output_type": "execute_result"
    }
   ],
   "source": [
    "s[4]"
   ]
  },
  {
   "cell_type": "code",
   "execution_count": 24,
   "metadata": {},
   "outputs": [
    {
     "data": {
      "text/plain": [
       "'a'"
      ]
     },
     "execution_count": 24,
     "metadata": {},
     "output_type": "execute_result"
    }
   ],
   "source": [
    "s[-1]"
   ]
  },
  {
   "cell_type": "code",
   "execution_count": 25,
   "metadata": {},
   "outputs": [
    {
     "ename": "IndexError",
     "evalue": "string index out of range",
     "output_type": "error",
     "traceback": [
      "\u001b[1;31m---------------------------------------------------------------------------\u001b[0m",
      "\u001b[1;31mIndexError\u001b[0m                                Traceback (most recent call last)",
      "\u001b[1;32m<ipython-input-25-34c622ab6870>\u001b[0m in \u001b[0;36m<module>\u001b[1;34m()\u001b[0m\n\u001b[1;32m----> 1\u001b[1;33m \u001b[0ms\u001b[0m\u001b[1;33m[\u001b[0m\u001b[1;36m10\u001b[0m\u001b[1;33m]\u001b[0m\u001b[1;33m\u001b[0m\u001b[0m\n\u001b[0m",
      "\u001b[1;31mIndexError\u001b[0m: string index out of range"
     ]
    }
   ],
   "source": [
    "s[10]"
   ]
  },
  {
   "cell_type": "code",
   "execution_count": 26,
   "metadata": {},
   "outputs": [
    {
     "name": "stdout",
     "output_type": "stream",
     "text": [
      "enter some stringdurga\n",
      "the character present at positive index 0 and at negative index-5 is d\n",
      "the character present at positive index 1 and at negative index-4 is u\n",
      "the character present at positive index 2 and at negative index-3 is r\n",
      "the character present at positive index 3 and at negative index-2 is g\n",
      "the character present at positive index 4 and at negative index-1 is a\n"
     ]
    }
   ],
   "source": [
    "s=input(\"enter some string\")\n",
    "i=0\n",
    "for x in s:\n",
    "    print(\"the character present at positive index {} and at negative index{} is {}\".format(i,i-len(s),x))\n",
    "    i=i+1"
   ]
  },
  {
   "cell_type": "code",
   "execution_count": 27,
   "metadata": {},
   "outputs": [],
   "source": [
    "s=\"learning python is very easy !!!\""
   ]
  },
  {
   "cell_type": "code",
   "execution_count": 28,
   "metadata": {},
   "outputs": [
    {
     "data": {
      "text/plain": [
       "'earnin'"
      ]
     },
     "execution_count": 28,
     "metadata": {},
     "output_type": "execute_result"
    }
   ],
   "source": [
    "s[1:7:1]"
   ]
  },
  {
   "cell_type": "code",
   "execution_count": 29,
   "metadata": {},
   "outputs": [
    {
     "data": {
      "text/plain": [
       "'earnin'"
      ]
     },
     "execution_count": 29,
     "metadata": {},
     "output_type": "execute_result"
    }
   ],
   "source": [
    "s[1:7]"
   ]
  },
  {
   "cell_type": "code",
   "execution_count": 30,
   "metadata": {},
   "outputs": [
    {
     "data": {
      "text/plain": [
       "'learnin'"
      ]
     },
     "execution_count": 30,
     "metadata": {},
     "output_type": "execute_result"
    }
   ],
   "source": [
    "s[:7]"
   ]
  },
  {
   "cell_type": "code",
   "execution_count": 31,
   "metadata": {},
   "outputs": [
    {
     "data": {
      "text/plain": [
       "'g python is very easy !!!'"
      ]
     },
     "execution_count": 31,
     "metadata": {},
     "output_type": "execute_result"
    }
   ],
   "source": [
    "s[7:]"
   ]
  },
  {
   "cell_type": "code",
   "execution_count": 32,
   "metadata": {},
   "outputs": [
    {
     "data": {
      "text/plain": [
       "'learning python is very easy !!!'"
      ]
     },
     "execution_count": 32,
     "metadata": {},
     "output_type": "execute_result"
    }
   ],
   "source": [
    "s[::]"
   ]
  },
  {
   "cell_type": "code",
   "execution_count": 33,
   "metadata": {},
   "outputs": [
    {
     "data": {
      "text/plain": [
       "'learning python is very easy !!!'"
      ]
     },
     "execution_count": 33,
     "metadata": {},
     "output_type": "execute_result"
    }
   ],
   "source": [
    "s[:]"
   ]
  },
  {
   "cell_type": "code",
   "execution_count": 34,
   "metadata": {},
   "outputs": [
    {
     "data": {
      "text/plain": [
       "'!!! ysae yrev si nohtyp gninrael'"
      ]
     },
     "execution_count": 34,
     "metadata": {},
     "output_type": "execute_result"
    }
   ],
   "source": [
    "s[::-1]"
   ]
  },
  {
   "cell_type": "code",
   "execution_count": 35,
   "metadata": {},
   "outputs": [
    {
     "data": {
      "text/plain": [
       "''"
      ]
     },
     "execution_count": 35,
     "metadata": {},
     "output_type": "execute_result"
    }
   ],
   "source": [
    "s[:0]"
   ]
  },
  {
   "cell_type": "code",
   "execution_count": 36,
   "metadata": {},
   "outputs": [
    {
     "data": {
      "text/plain": [
       "'learning python is very easy !!!'"
      ]
     },
     "execution_count": 36,
     "metadata": {},
     "output_type": "execute_result"
    }
   ],
   "source": [
    "s[0:]"
   ]
  },
  {
   "cell_type": "code",
   "execution_count": 37,
   "metadata": {},
   "outputs": [
    {
     "data": {
      "text/plain": [
       "'!'"
      ]
     },
     "execution_count": 37,
     "metadata": {},
     "output_type": "execute_result"
    }
   ],
   "source": [
    "s[-1:]"
   ]
  },
  {
   "cell_type": "code",
   "execution_count": 38,
   "metadata": {},
   "outputs": [
    {
     "name": "stdout",
     "output_type": "stream",
     "text": [
      "durgasoft\n"
     ]
    }
   ],
   "source": [
    "print(\"durga\"+\"soft\")"
   ]
  },
  {
   "cell_type": "code",
   "execution_count": 40,
   "metadata": {},
   "outputs": [
    {
     "name": "stdout",
     "output_type": "stream",
     "text": [
      "durgadurga\n"
     ]
    }
   ],
   "source": [
    "print(\"durga\"*2)"
   ]
  },
  {
   "cell_type": "code",
   "execution_count": 41,
   "metadata": {},
   "outputs": [],
   "source": [
    "s=\"durga\""
   ]
  },
  {
   "cell_type": "code",
   "execution_count": 42,
   "metadata": {},
   "outputs": [
    {
     "name": "stdout",
     "output_type": "stream",
     "text": [
      "5\n"
     ]
    }
   ],
   "source": [
    "print(len(s))"
   ]
  },
  {
   "cell_type": "code",
   "execution_count": 43,
   "metadata": {},
   "outputs": [
    {
     "name": "stdout",
     "output_type": "stream",
     "text": [
      "forward direction\n",
      "learning python is very easy !!!\n",
      "backward direction\n",
      "!!! ysae yrev si nohtyp gninrael"
     ]
    }
   ],
   "source": [
    "s=\"learning python is very easy !!!\"\n",
    "i=0\n",
    "n=len(s)\n",
    "print(\"forward direction\")\n",
    "while i <n:\n",
    "    print(s[i],end=\"\")\n",
    "    i=i+1\n",
    "print()\n",
    "print(\"backward direction\")\n",
    "i=-1\n",
    "while i>=-n:\n",
    "    print(s[i],end=\"\")\n",
    "    i=i-1\n"
   ]
  },
  {
   "cell_type": "code",
   "execution_count": 47,
   "metadata": {},
   "outputs": [
    {
     "name": "stdout",
     "output_type": "stream",
     "text": [
      "forward direction \n",
      "learning python is very easy !!!\n",
      "learning python is very easy !!!\n",
      "backward direction\n",
      "!!! ysae yrev si nohtyp gninrael"
     ]
    }
   ],
   "source": [
    "s=\"learning python is very easy !!!\"\n",
    "print(\"forward direction \")\n",
    "for i in s:\n",
    "    print(i,end='')\n",
    "print()\n",
    "for i in s[::]:\n",
    "    print(i,end='')\n",
    "print()    \n",
    "print(\"backward direction\")\n",
    "for i in s[::-1]:\n",
    "    print(i,end='')\n",
    "    "
   ]
  },
  {
   "cell_type": "code",
   "execution_count": 49,
   "metadata": {},
   "outputs": [],
   "source": [
    "s='durga'"
   ]
  },
  {
   "cell_type": "code",
   "execution_count": 50,
   "metadata": {},
   "outputs": [
    {
     "name": "stdout",
     "output_type": "stream",
     "text": [
      "True\n"
     ]
    }
   ],
   "source": [
    "print(\"d\"in s)"
   ]
  },
  {
   "cell_type": "code",
   "execution_count": 51,
   "metadata": {},
   "outputs": [
    {
     "name": "stdout",
     "output_type": "stream",
     "text": [
      "False\n"
     ]
    }
   ],
   "source": [
    "print(\"z\"in s)"
   ]
  },
  {
   "cell_type": "code",
   "execution_count": 53,
   "metadata": {},
   "outputs": [
    {
     "name": "stdout",
     "output_type": "stream",
     "text": [
      "enter main stringdurgasoftwaresolution\n",
      "enter sub stringpython\n",
      "python is not found in the main string\n"
     ]
    }
   ],
   "source": [
    "s=input(\"enter main string\")\n",
    "subs=input(\"enter sub string\")\n",
    "if subs in s:\n",
    "    print(subs,\"is found in main string\")\n",
    "else:\n",
    "    print(subs,\"is not found in the main string\")"
   ]
  },
  {
   "cell_type": "code",
   "execution_count": 56,
   "metadata": {},
   "outputs": [
    {
     "name": "stdout",
     "output_type": "stream",
     "text": [
      "enter first stringdurga\n",
      "enter second stringanil\n",
      "first is greater than second string\n"
     ]
    }
   ],
   "source": [
    "s1=input(\"enter first string\")\n",
    "s2=input(\"enter second string\")\n",
    "if s1==s2:\n",
    "    print(\"both string are equal\")\n",
    "elif s1<s2:\n",
    "    print(\"first string is smaller than second string\")\n",
    "else:\n",
    "    print(\"first is greater than second string\")"
   ]
  },
  {
   "cell_type": "code",
   "execution_count": 60,
   "metadata": {},
   "outputs": [
    {
     "name": "stdout",
     "output_type": "stream",
     "text": [
      "enter your city namedelhi\n",
      "your enter city is invalid\n"
     ]
    }
   ],
   "source": [
    "city=input(\"enter your city name\")\n",
    "scity=city.strip()\n",
    "if scity==\"hyderabad\":\n",
    "    print(\"hello hyderabad ...adab\")\n",
    "elif scity==\"chennai\":\n",
    "    print(\"hello madrasi..vanakam\")\n",
    "elif scity==\"banglore\":\n",
    "    print(\"hello kanadiga..subhodya\")\n",
    "else:\n",
    "    print(\"your enter city is invalid\")"
   ]
  },
  {
   "cell_type": "code",
   "execution_count": 61,
   "metadata": {},
   "outputs": [],
   "source": [
    "s=\"learning python is very easy\""
   ]
  },
  {
   "cell_type": "code",
   "execution_count": 63,
   "metadata": {},
   "outputs": [
    {
     "name": "stdout",
     "output_type": "stream",
     "text": [
      "9\n"
     ]
    }
   ],
   "source": [
    "print(s.find(\"python\"))"
   ]
  },
  {
   "cell_type": "code",
   "execution_count": 64,
   "metadata": {},
   "outputs": [
    {
     "name": "stdout",
     "output_type": "stream",
     "text": [
      "-1\n"
     ]
    }
   ],
   "source": [
    "print(s.find(\"java\"))"
   ]
  },
  {
   "cell_type": "code",
   "execution_count": 65,
   "metadata": {},
   "outputs": [
    {
     "name": "stdout",
     "output_type": "stream",
     "text": [
      "3\n"
     ]
    }
   ],
   "source": [
    "print(s.find(\"r\"))"
   ]
  },
  {
   "cell_type": "code",
   "execution_count": 66,
   "metadata": {},
   "outputs": [
    {
     "name": "stdout",
     "output_type": "stream",
     "text": [
      "21\n"
     ]
    }
   ],
   "source": [
    "print(s.rfind(\"r\"))"
   ]
  },
  {
   "cell_type": "code",
   "execution_count": 67,
   "metadata": {},
   "outputs": [],
   "source": [
    "s=\"durgaravipavanshiva\""
   ]
  },
  {
   "cell_type": "code",
   "execution_count": 68,
   "metadata": {},
   "outputs": [
    {
     "name": "stdout",
     "output_type": "stream",
     "text": [
      "4\n"
     ]
    }
   ],
   "source": [
    "print(s.find(\"a\"))"
   ]
  },
  {
   "cell_type": "code",
   "execution_count": 69,
   "metadata": {},
   "outputs": [
    {
     "name": "stdout",
     "output_type": "stream",
     "text": [
      "10\n"
     ]
    }
   ],
   "source": [
    "print(s.find(\"a\",7,15))"
   ]
  },
  {
   "cell_type": "code",
   "execution_count": 70,
   "metadata": {},
   "outputs": [
    {
     "name": "stdout",
     "output_type": "stream",
     "text": [
      "-1\n"
     ]
    }
   ],
   "source": [
    "print(s.find(\"z\",7,15))"
   ]
  },
  {
   "cell_type": "code",
   "execution_count": null,
   "metadata": {},
   "outputs": [],
   "source": []
  },
  {
   "cell_type": "code",
   "execution_count": 73,
   "metadata": {},
   "outputs": [
    {
     "name": "stdout",
     "output_type": "stream",
     "text": [
      "enter main stringlearning python is very easy\n",
      "enter subs stringjava\n",
      "substring not found\n"
     ]
    }
   ],
   "source": [
    "s=input(\"enter main string\")\n",
    "subs=input(\"enter subs string\")\n",
    "try:\n",
    "    n=s.index(subs)\n",
    "except ValueError:\n",
    "    print(\"substring not found\")\n",
    "else:\n",
    "    print(\"substring found\")"
   ]
  },
  {
   "cell_type": "code",
   "execution_count": 78,
   "metadata": {},
   "outputs": [
    {
     "name": "stdout",
     "output_type": "stream",
     "text": [
      "enter some stringabbababababacdefg\n",
      "enter some stringbb\n",
      "found at position 1\n"
     ]
    }
   ],
   "source": [
    "s=input(\"enter some string\")\n",
    "subs=input(\"enter some string\")\n",
    "flag=False\n",
    "pos=-1\n",
    "n=len(s)\n",
    "while True:\n",
    "    pos=s.find(subs,pos+1,n)\n",
    "    if pos==-1:\n",
    "        break\n",
    "    print(\"found at position\",pos)\n",
    "    flag=True\n",
    "if flag==False:\n",
    "    print(\"not found\")"
   ]
  },
  {
   "cell_type": "code",
   "execution_count": 83,
   "metadata": {},
   "outputs": [],
   "source": [
    "s=\"abcabcabcabcadda\""
   ]
  },
  {
   "cell_type": "code",
   "execution_count": 84,
   "metadata": {},
   "outputs": [
    {
     "name": "stdout",
     "output_type": "stream",
     "text": [
      "6\n"
     ]
    }
   ],
   "source": [
    "print(s.count(\"a\"))"
   ]
  },
  {
   "cell_type": "code",
   "execution_count": 85,
   "metadata": {},
   "outputs": [
    {
     "name": "stdout",
     "output_type": "stream",
     "text": [
      "4\n"
     ]
    }
   ],
   "source": [
    "print(s.count(\"ab\"))"
   ]
  },
  {
   "cell_type": "code",
   "execution_count": 86,
   "metadata": {},
   "outputs": [
    {
     "name": "stdout",
     "output_type": "stream",
     "text": [
      "2\n"
     ]
    }
   ],
   "source": [
    "print(s.count('a',3,7))"
   ]
  },
  {
   "cell_type": "code",
   "execution_count": 87,
   "metadata": {},
   "outputs": [],
   "source": [
    "s=\"learning python is very difficult\""
   ]
  },
  {
   "cell_type": "code",
   "execution_count": 89,
   "metadata": {},
   "outputs": [],
   "source": [
    "s1=s.replace(\"difficult\",\"easy\")"
   ]
  },
  {
   "cell_type": "code",
   "execution_count": 90,
   "metadata": {},
   "outputs": [
    {
     "name": "stdout",
     "output_type": "stream",
     "text": [
      "learning python is very easy\n"
     ]
    }
   ],
   "source": [
    "print(s1)"
   ]
  },
  {
   "cell_type": "code",
   "execution_count": 91,
   "metadata": {},
   "outputs": [],
   "source": [
    "s=\"ababababab\""
   ]
  },
  {
   "cell_type": "code",
   "execution_count": 92,
   "metadata": {},
   "outputs": [],
   "source": [
    "s1=s.replace(\"a\",\"b\")"
   ]
  },
  {
   "cell_type": "code",
   "execution_count": 93,
   "metadata": {},
   "outputs": [
    {
     "name": "stdout",
     "output_type": "stream",
     "text": [
      "bbbbbbbbbb\n"
     ]
    }
   ],
   "source": [
    "print(s1)"
   ]
  },
  {
   "cell_type": "code",
   "execution_count": 94,
   "metadata": {},
   "outputs": [],
   "source": [
    "s=\"abab\""
   ]
  },
  {
   "cell_type": "code",
   "execution_count": 95,
   "metadata": {},
   "outputs": [],
   "source": [
    "s1=s.replace(\"a\",\"b\")"
   ]
  },
  {
   "cell_type": "code",
   "execution_count": 96,
   "metadata": {},
   "outputs": [
    {
     "name": "stdout",
     "output_type": "stream",
     "text": [
      "abab is available 83259208\n",
      "bbbb is available 83263928\n"
     ]
    }
   ],
   "source": [
    "print(s,\"is available\",id(s))\n",
    "print(s1,\"is available\",id(s1))"
   ]
  },
  {
   "cell_type": "code",
   "execution_count": 1,
   "metadata": {},
   "outputs": [
    {
     "name": "stdout",
     "output_type": "stream",
     "text": [
      "durga\n",
      "software\n",
      "solution\n"
     ]
    }
   ],
   "source": [
    "s= \" durga software solution \"\n",
    "l=s.split()\n",
    "for x in l:\n",
    "    print(x)"
   ]
  },
  {
   "cell_type": "code",
   "execution_count": 3,
   "metadata": {},
   "outputs": [
    {
     "name": "stdout",
     "output_type": "stream",
     "text": [
      "22\n",
      "02\n",
      "2018\n"
     ]
    }
   ],
   "source": [
    "s=\"22-02-2018\"\n",
    "l=s.split('-')\n",
    "for x in l:\n",
    "    print(x)"
   ]
  },
  {
   "cell_type": "code",
   "execution_count": 4,
   "metadata": {},
   "outputs": [
    {
     "name": "stdout",
     "output_type": "stream",
     "text": [
      "sunny-bunny-chinny\n"
     ]
    }
   ],
   "source": [
    "t=(\"sunny\",\"bunny\",\"chinny\")\n",
    "s='-'.join(t)\n",
    "print(s)"
   ]
  },
  {
   "cell_type": "code",
   "execution_count": 6,
   "metadata": {},
   "outputs": [
    {
     "name": "stdout",
     "output_type": "stream",
     "text": [
      "hyderbad:singapore:london:dubai\n"
     ]
    }
   ],
   "source": [
    "l=[\"hyderbad\",\"singapore\",\"london\",\"dubai\"]\n",
    "s=':'.join(l)\n",
    "print(s)"
   ]
  },
  {
   "cell_type": "code",
   "execution_count": 7,
   "metadata": {},
   "outputs": [],
   "source": [
    "s=\"learning python is very easy \""
   ]
  },
  {
   "cell_type": "code",
   "execution_count": 10,
   "metadata": {},
   "outputs": [
    {
     "name": "stdout",
     "output_type": "stream",
     "text": [
      "LEARNING PYTHON IS VERY EASY \n",
      "learning python is very easy \n",
      "LEARNING PYTHON IS VERY EASY \n",
      "Learning Python Is Very Easy \n",
      "Learning python is very easy \n"
     ]
    }
   ],
   "source": [
    "print(s.upper())\n",
    "print(s.lower())\n",
    "print(s.swapcase())\n",
    "print(s.title())\n",
    "print(s.capitalize())"
   ]
  },
  {
   "cell_type": "code",
   "execution_count": 12,
   "metadata": {},
   "outputs": [
    {
     "name": "stdout",
     "output_type": "stream",
     "text": [
      "True\n",
      "False\n",
      "True\n"
     ]
    }
   ],
   "source": [
    "s=\"learning python is very easy \"\n",
    "print(s.startswith(\"learning\"))\n",
    "print(s.endswith(\"learning\"))\n",
    "print(s.endswith(\"easy \"))"
   ]
  },
  {
   "cell_type": "code",
   "execution_count": 13,
   "metadata": {},
   "outputs": [
    {
     "name": "stdout",
     "output_type": "stream",
     "text": [
      "True\n"
     ]
    }
   ],
   "source": [
    "print('durga786'.isalnum())"
   ]
  },
  {
   "cell_type": "code",
   "execution_count": 14,
   "metadata": {},
   "outputs": [
    {
     "name": "stdout",
     "output_type": "stream",
     "text": [
      "False\n"
     ]
    }
   ],
   "source": [
    "print('durga786'.isalpha())"
   ]
  },
  {
   "cell_type": "code",
   "execution_count": 15,
   "metadata": {},
   "outputs": [
    {
     "name": "stdout",
     "output_type": "stream",
     "text": [
      "True\n"
     ]
    }
   ],
   "source": [
    "print(\"durga\".isalpha())"
   ]
  },
  {
   "cell_type": "code",
   "execution_count": 16,
   "metadata": {},
   "outputs": [
    {
     "name": "stdout",
     "output_type": "stream",
     "text": [
      "False\n"
     ]
    }
   ],
   "source": [
    "print('durga'.isdigit())"
   ]
  },
  {
   "cell_type": "code",
   "execution_count": 17,
   "metadata": {},
   "outputs": [
    {
     "name": "stdout",
     "output_type": "stream",
     "text": [
      "True\n"
     ]
    }
   ],
   "source": [
    "print('786786'.isdigit())"
   ]
  },
  {
   "cell_type": "code",
   "execution_count": 18,
   "metadata": {},
   "outputs": [
    {
     "name": "stdout",
     "output_type": "stream",
     "text": [
      "True\n"
     ]
    }
   ],
   "source": [
    "print('abc'.islower())"
   ]
  },
  {
   "cell_type": "code",
   "execution_count": 19,
   "metadata": {},
   "outputs": [
    {
     "name": "stdout",
     "output_type": "stream",
     "text": [
      "False\n"
     ]
    }
   ],
   "source": [
    "print(\"Abc\".islower())"
   ]
  },
  {
   "cell_type": "code",
   "execution_count": 20,
   "metadata": {},
   "outputs": [
    {
     "name": "stdout",
     "output_type": "stream",
     "text": [
      "True\n"
     ]
    }
   ],
   "source": [
    "print('abc123'.islower())"
   ]
  },
  {
   "cell_type": "code",
   "execution_count": 21,
   "metadata": {},
   "outputs": [
    {
     "name": "stdout",
     "output_type": "stream",
     "text": [
      "True\n"
     ]
    }
   ],
   "source": [
    "print(\"ABC\".isupper())"
   ]
  },
  {
   "cell_type": "code",
   "execution_count": 22,
   "metadata": {},
   "outputs": [
    {
     "name": "stdout",
     "output_type": "stream",
     "text": [
      "False\n"
     ]
    }
   ],
   "source": [
    "print('learning python is easy'.istitle())"
   ]
  },
  {
   "cell_type": "code",
   "execution_count": 23,
   "metadata": {},
   "outputs": [
    {
     "name": "stdout",
     "output_type": "stream",
     "text": [
      "True\n"
     ]
    }
   ],
   "source": [
    "print('Learning Python Is Easy'.istitle())"
   ]
  },
  {
   "cell_type": "code",
   "execution_count": 25,
   "metadata": {},
   "outputs": [
    {
     "name": "stdout",
     "output_type": "stream",
     "text": [
      "True\n"
     ]
    }
   ],
   "source": [
    "print(' '.isspace())"
   ]
  },
  {
   "cell_type": "code",
   "execution_count": 29,
   "metadata": {},
   "outputs": [
    {
     "name": "stdout",
     "output_type": "stream",
     "text": [
      "enter any character A\n",
      " alphanumeric character \n",
      "alphabet character \n",
      "upper case alphabet\n"
     ]
    }
   ],
   "source": [
    "s=input(\"enter any character \")\n",
    "if s.isalnum():\n",
    "    print(\" alphanumeric character \")\n",
    "    if s.isalpha():\n",
    "        print(\"alphabet character \")\n",
    "        if s.islower():\n",
    "            print(\"lower case aplhabet\")\n",
    "        else:\n",
    "            print(\"upper case alphabet\")\n",
    "    else:\n",
    "        print(\"it is  a digit\")\n",
    "elif s.isspace():\n",
    "    print(\"it is a space character\")\n",
    "else:\n",
    "    print(\"non space special character \")"
   ]
  },
  {
   "cell_type": "code",
   "execution_count": 30,
   "metadata": {},
   "outputs": [
    {
     "name": "stdout",
     "output_type": "stream",
     "text": [
      "durga salary is 10000 and his age is 48\n",
      "durga salary is  10000 and his age is 48\n",
      "durga salary is  10000 and his age is 48\n"
     ]
    }
   ],
   "source": [
    "name=\"durga\"\n",
    "salary=10000\n",
    "age=48\n",
    "print(\"{} salary is {} and his age is {}\".format(name,salary,age))\n",
    "print(\"{0} salary is  {1} and his age is {2}\".format(name,salary,age))\n",
    "print(\"{x} salary is  {y} and his age is {z}\".format(z=age,y=salary,x=name))"
   ]
  },
  {
   "cell_type": "code",
   "execution_count": 1,
   "metadata": {},
   "outputs": [
    {
     "name": "stdout",
     "output_type": "stream",
     "text": [
      "enter some stringdurga\n",
      "agrud\n"
     ]
    }
   ],
   "source": [
    "s=input(\"enter some string\")\n",
    "print(s[::-1])"
   ]
  },
  {
   "cell_type": "code",
   "execution_count": 2,
   "metadata": {},
   "outputs": [
    {
     "name": "stdout",
     "output_type": "stream",
     "text": [
      "enter some stringdurga\n",
      "agrud\n"
     ]
    }
   ],
   "source": [
    "s=input(\"enter some string\")\n",
    "print(''.join(reversed(s)))"
   ]
  },
  {
   "cell_type": "code",
   "execution_count": 3,
   "metadata": {},
   "outputs": [
    {
     "name": "stdout",
     "output_type": "stream",
     "text": [
      "enter some stringdurga\n",
      "agrud\n"
     ]
    }
   ],
   "source": [
    "s=input(\"enter some string\")\n",
    "i=len(s)-1\n",
    "target=\"\"\n",
    "while i>=0:\n",
    "    target=target+s[i]\n",
    "    i=i-1\n",
    "print(target)"
   ]
  },
  {
   "cell_type": "code",
   "execution_count": 5,
   "metadata": {},
   "outputs": [
    {
     "name": "stdout",
     "output_type": "stream",
     "text": [
      "enter some stringdurga\n",
      "agrud\n"
     ]
    }
   ],
   "source": [
    "s=input(\"enter some string\")\n",
    "i=len(s)-1\n",
    "target=\"\"\n",
    "while i>=0:\n",
    "    target=target+s[i]\n",
    "    i=i-1\n",
    "print(target)"
   ]
  },
  {
   "cell_type": "code",
   "execution_count": 9,
   "metadata": {},
   "outputs": [
    {
     "name": "stdout",
     "output_type": "stream",
     "text": [
      "enter some stringlearning python is very easy !!!\n",
      "!!!easyveryispythonlearning\n"
     ]
    }
   ],
   "source": [
    "s=input(\"enter some string\")\n",
    "l=s.split()\n",
    "l1=[]\n",
    "output=\"\"\n",
    "i=len(l)-1\n",
    "while i>=0:\n",
    "    l1.append(l[i])\n",
    "    i=i-1\n",
    "output=''.join(l1)\n",
    "print(output)"
   ]
  },
  {
   "cell_type": "code",
   "execution_count": 10,
   "metadata": {},
   "outputs": [
    {
     "name": "stdout",
     "output_type": "stream",
     "text": [
      "enter some string learning python is very easy !!!\n",
      "!!!easyveryispythonlearning\n"
     ]
    }
   ],
   "source": [
    "s= input(\"enter some string \")\n",
    "l=s.split()\n",
    "l1=[]\n",
    "i=len(l)-1\n",
    "while i>=0:\n",
    "    l1.append(l[i])\n",
    "    i=i-1\n",
    "output=''.join(l1)\n",
    "print(output)"
   ]
  },
  {
   "cell_type": "code",
   "execution_count": 12,
   "metadata": {},
   "outputs": [
    {
     "name": "stdout",
     "output_type": "stream",
     "text": [
      "enter some stringdurga software solution\n",
      "agruderawtfosnoitulos\n"
     ]
    }
   ],
   "source": [
    "s=input(\"enter some string\")\n",
    "l=s.split()\n",
    "l1=[]\n",
    "i=0\n",
    "output=''\n",
    "while i<len(l):\n",
    "    l1.append(l[i][::-1])\n",
    "    i=i+1\n",
    "output=''.join(l1)\n",
    "print(output)"
   ]
  },
  {
   "cell_type": "code",
   "execution_count": 13,
   "metadata": {},
   "outputs": [
    {
     "name": "stdout",
     "output_type": "stream",
     "text": [
      "enter some stringdurga software solution\n",
      "agruderawtfosnoitulos\n"
     ]
    }
   ],
   "source": [
    "s=input(\"enter some string\")\n",
    "i=0\n",
    "l=s.split()\n",
    "l1=[]\n",
    "while i<len(l):\n",
    "    l1.append(l[i][::-1])\n",
    "    i=i+1\n",
    "output=''.join(l1)\n",
    "print(output)"
   ]
  },
  {
   "cell_type": "code",
   "execution_count": 14,
   "metadata": {},
   "outputs": [
    {
     "name": "stdout",
     "output_type": "stream",
     "text": [
      "enter some stringlearning python is very easy\n",
      "easyveryispythonlearning\n"
     ]
    }
   ],
   "source": [
    "s=input(\"enter some string\")\n",
    "l=s.split()\n",
    "l1=[]\n",
    "i=len(l)-1\n",
    "while i>=0:\n",
    "    l1.append(l[i])\n",
    "    i=i-1\n",
    "output=''.join(l1)\n",
    "print(output)"
   ]
  },
  {
   "cell_type": "code",
   "execution_count": 15,
   "metadata": {},
   "outputs": [
    {
     "name": "stdout",
     "output_type": "stream",
     "text": [
      "enter some stringlearning python is very easy\n",
      "character at even position  lann yhni eyes\n",
      "charcater at odd position erigpto svr ay\n"
     ]
    }
   ],
   "source": [
    "s=input(\"enter some string\")\n",
    "print(\"character at even position \",s[0::2])\n",
    "print(\"charcater at odd position\",s[1::2])"
   ]
  },
  {
   "cell_type": "code",
   "execution_count": 18,
   "metadata": {},
   "outputs": [
    {
     "name": "stdout",
     "output_type": "stream",
     "text": [
      "enter some string learning python is very easy\n",
      "character at even position\n",
      "lann yhni eyes\n",
      "character at odd position \n",
      "erigpto svr ay"
     ]
    }
   ],
   "source": [
    "s=input(\"enter some string \")\n",
    "i=0\n",
    "print(\"character at even position\")\n",
    "while i<len(s):\n",
    "    print(s[i],end='')\n",
    "    i=i+2\n",
    "print()\n",
    "print(\"character at odd position \")\n",
    "i=1\n",
    "while i<len(s):\n",
    "    print(s[i],end='')\n",
    "    i=i+2\n"
   ]
  },
  {
   "cell_type": "code",
   "execution_count": 19,
   "metadata": {},
   "outputs": [
    {
     "name": "stdout",
     "output_type": "stream",
     "text": [
      "enter some stringlearning python is very easy\n",
      "charaacter at even position\n",
      "lann yhni eyes\n",
      "character at odd position\n",
      "erigpto svr ay"
     ]
    }
   ],
   "source": [
    "s=input(\"enter some string\")\n",
    "i=0\n",
    "print(\"charaacter at even position\")\n",
    "while i<len(s):\n",
    "    print(s[i],end='')\n",
    "    i=i+2\n",
    "print()\n",
    "print(\"character at odd position\")\n",
    "i=1\n",
    "while i<len(s):\n",
    "    print(s[i],end='')\n",
    "    i=i+2\n",
    "    "
   ]
  },
  {
   "cell_type": "code",
   "execution_count": 21,
   "metadata": {},
   "outputs": [
    {
     "name": "stdout",
     "output_type": "stream",
     "text": [
      "enter some stringdurga\n",
      "enter some stringravisoft\n",
      "druarvgiasoft\n"
     ]
    }
   ],
   "source": [
    "s1=input(\"enter some string\")\n",
    "s2=input(\"enter some string\")\n",
    "i,j=0,0\n",
    "output=\"\"\n",
    "while i<len(s1) or j<len(s2):\n",
    "    if i<len(s1):\n",
    "        output=output+s1[i]\n",
    "        i=i+1\n",
    "    if j<len(s2):\n",
    "        output=output+s2[j]\n",
    "        j=j+1\n",
    "print(output)"
   ]
  },
  {
   "cell_type": "code",
   "execution_count": 23,
   "metadata": {},
   "outputs": [
    {
     "name": "stdout",
     "output_type": "stream",
     "text": [
      "enter some stringdurga\n",
      "enter some stringravisoft\n",
      "druarvgiasoft\n"
     ]
    }
   ],
   "source": [
    "s1=input(\"enter some string\")\n",
    "s2=input(\"enter some string\")\n",
    "i,j=0,0\n",
    "output=''\n",
    "while i<len(s1) or j<len(s2):\n",
    "    if i<len(s1):\n",
    "        output=output+s1[i]\n",
    "        i=i+1\n",
    "    if j<len(s2):\n",
    "        output=output+s2[j]\n",
    "        j=j+1\n",
    "print(output)"
   ]
  },
  {
   "cell_type": "code",
   "execution_count": 24,
   "metadata": {},
   "outputs": [
    {
     "name": "stdout",
     "output_type": "stream",
     "text": [
      "enter some stringb4a1d3\n",
      "abd134\n"
     ]
    }
   ],
   "source": [
    "s=input(\"enter some string\")\n",
    "s1=s2=output=''\n",
    "for x in s:\n",
    "    if x.isalpha():\n",
    "        s1=s1+x\n",
    "    else:\n",
    "        s2=s2+x\n",
    "for x in sorted(s1):\n",
    "    output=output+x\n",
    "for x in sorted(s2):\n",
    "    output=output+x\n",
    "print(output)"
   ]
  },
  {
   "cell_type": "code",
   "execution_count": 25,
   "metadata": {},
   "outputs": [
    {
     "name": "stdout",
     "output_type": "stream",
     "text": [
      "enter some stringb4a1d3\n",
      "abd134\n"
     ]
    }
   ],
   "source": [
    "s=input(\"enter some string\")\n",
    "s1=s2=output=''\n",
    "for x in s:\n",
    "    if x.isalpha():\n",
    "        s1=s1+x\n",
    "    else:\n",
    "        s2=s2+x\n",
    "for x in sorted(s1):\n",
    "    output=output+x\n",
    "for x in sorted(s2):\n",
    "    output=output+x\n",
    "print(output)"
   ]
  },
  {
   "cell_type": "code",
   "execution_count": 27,
   "metadata": {},
   "outputs": [
    {
     "name": "stdout",
     "output_type": "stream",
     "text": [
      "enter some stringa4b3c2\n",
      "aaaabbbcc\n"
     ]
    }
   ],
   "source": [
    "s=input(\"enter some string\")\n",
    "output=''\n",
    "for x in s:\n",
    "    if x.isalpha():\n",
    "        output=output+x\n",
    "        previous=x\n",
    "    else:\n",
    "        output=output+previous*(int(x)-1)\n",
    "print(output)"
   ]
  },
  {
   "cell_type": "code",
   "execution_count": 28,
   "metadata": {},
   "outputs": [
    {
     "name": "stdout",
     "output_type": "stream",
     "text": [
      "enter some stringa4b3c2\n",
      "aaaabbbcc\n"
     ]
    }
   ],
   "source": [
    "s=input(\"enter some string\")\n",
    "output=''\n",
    "for x in s:\n",
    "    if x.isalpha():\n",
    "        output=output+x\n",
    "        previous=x\n",
    "    else:\n",
    "        output=output+previous*(int(x)-1)\n",
    "print(output)"
   ]
  },
  {
   "cell_type": "code",
   "execution_count": 29,
   "metadata": {},
   "outputs": [
    {
     "name": "stdout",
     "output_type": "stream",
     "text": [
      "enter some stringa4k3b2\n",
      "aeknbd\n"
     ]
    }
   ],
   "source": [
    "s=input(\"enter some string\")\n",
    "output=''\n",
    "for x in s:\n",
    "    if x.isalpha():\n",
    "        output=output+x\n",
    "        previous=x\n",
    "    else:\n",
    "        output=output+chr(ord(previous)+int(x))\n",
    "print(output)"
   ]
  },
  {
   "cell_type": "code",
   "execution_count": 30,
   "metadata": {},
   "outputs": [
    {
     "name": "stdout",
     "output_type": "stream",
     "text": [
      "enter some stringa4k3b2\n",
      "aeknbd\n"
     ]
    }
   ],
   "source": [
    "s=input(\"enter some string\")\n",
    "output=''\n",
    "for x in s:\n",
    "    if x.isalpha():\n",
    "        output=output+x\n",
    "        previous=x\n",
    "    else:\n",
    "        output=output+chr(ord(previous)+int(x))\n",
    "print(output)"
   ]
  },
  {
   "cell_type": "code",
   "execution_count": 32,
   "metadata": {},
   "outputs": [
    {
     "name": "stdout",
     "output_type": "stream",
     "text": [
      "enter some stringaaaabbbbbcccccddddeeeeffff\n",
      "abcdef\n"
     ]
    }
   ],
   "source": [
    "s=input(\"enter some string\")\n",
    "l=[]\n",
    "output=''\n",
    "for x in s:\n",
    "    if x not in l:\n",
    "        l.append(x)\n",
    "output=''.join(l)\n",
    "print(output)"
   ]
  },
  {
   "cell_type": "code",
   "execution_count": 33,
   "metadata": {},
   "outputs": [
    {
     "name": "stdout",
     "output_type": "stream",
     "text": [
      "enter some stringaaaabbbbbccccddddeeefff\n",
      "abcdef\n"
     ]
    }
   ],
   "source": [
    "s=input(\"enter some string\")\n",
    "l=[]\n",
    "for x in s:\n",
    "    if x not in l:\n",
    "        l.append(x)\n",
    "output=''.join(l)\n",
    "print(output)"
   ]
  },
  {
   "cell_type": "code",
   "execution_count": 34,
   "metadata": {},
   "outputs": [
    {
     "name": "stdout",
     "output_type": "stream",
     "text": [
      "enter some stringaaaabbbcccca\n",
      "abc\n"
     ]
    }
   ],
   "source": [
    "s=input(\"enter some string\")\n",
    "l=[]\n",
    "for x in s:\n",
    "    if x not in l:\n",
    "        l.append(x)\n",
    "output=''.join(l)\n",
    "print(output)"
   ]
  },
  {
   "cell_type": "code",
   "execution_count": 35,
   "metadata": {},
   "outputs": [
    {
     "name": "stdout",
     "output_type": "stream",
     "text": [
      "enter some stringdsafafdsfdsafadsfadsf\n",
      "d=5 Times\n",
      "s=5 Times\n",
      "a=5 Times\n",
      "f=6 Times\n"
     ]
    }
   ],
   "source": [
    "s=input(\"enter some string\")\n",
    "d={}\n",
    "for x in s:\n",
    "    if x in d.keys():\n",
    "        d[x]=d[x]+1\n",
    "    else:\n",
    "        d[x]=1\n",
    "for k,v in d.items():\n",
    "    print(\"{}={} Times\".format(k,v))"
   ]
  },
  {
   "cell_type": "code",
   "execution_count": 37,
   "metadata": {},
   "outputs": [
    {
     "name": "stdout",
     "output_type": "stream",
     "text": [
      "enter some stringadsdfwfefeqf\n",
      "a=1 Times\n",
      "d=2 Times\n",
      "s=1 Times\n",
      "f=4 Times\n",
      "w=1 Times\n",
      "e=2 Times\n",
      "q=1 Times\n"
     ]
    }
   ],
   "source": [
    "s=input(\"enter some string\")\n",
    "d={}\n",
    "for x in s:\n",
    "    if x in d.keys():\n",
    "        d[x]=d[x]+1\n",
    "    else:\n",
    "        d[x]=1\n",
    "for k,v in d.items():\n",
    "    print(\"{}={} Times\".format(k,v))"
   ]
  },
  {
   "cell_type": "code",
   "execution_count": 38,
   "metadata": {},
   "outputs": [
    {
     "name": "stdout",
     "output_type": "stream",
     "text": [
      "enter some stringwefwefwefafa\n",
      "wefa\n"
     ]
    }
   ],
   "source": [
    "s=input(\"enter some string\")\n",
    "l=[]\n",
    "for x in s:\n",
    "    if x not in l:\n",
    "        l.append(x)\n",
    "output=''.join(l)\n",
    "print(output)"
   ]
  },
  {
   "cell_type": "code",
   "execution_count": 39,
   "metadata": {},
   "outputs": [
    {
     "name": "stdout",
     "output_type": "stream",
     "text": [
      "enter some stringaaaabbbbccccddddeeeffff\n",
      "a=4 Times\n",
      "b=4 Times\n",
      "c=4 Times\n",
      "d=4 Times\n",
      "e=3 Times\n",
      "f=4 Times\n"
     ]
    }
   ],
   "source": [
    "s=input(\"enter some string\")\n",
    "d={}\n",
    "for x in s:\n",
    "    if x in d.keys():\n",
    "        d[x]=d[x]+1\n",
    "    else:\n",
    "        d[x]=1\n",
    "for k,v in d.items():\n",
    "    print(\"{}={} Times\".format(k,v))"
   ]
  },
  {
   "cell_type": "code",
   "execution_count": 1,
   "metadata": {},
   "outputs": [
    {
     "name": "stdout",
     "output_type": "stream",
     "text": [
      "durga salary is 10000 and his age is 48\n",
      "durga salary is 10000 and his age is 48\n",
      "durga salary is 10000 and his age is 48\n"
     ]
    }
   ],
   "source": [
    "name=\"durga\"\n",
    "salary =10000\n",
    "age=48\n",
    "print(\"{} salary is {} and his age is {}\".format(name,salary,age))\n",
    "print(\"{0} salary is {1} and his age is {2}\".format(name,salary,age))\n",
    "print(\"{x} salary is {y} and his age is {z}\".format(z=age,y=salary,x=name))"
   ]
  },
  {
   "cell_type": "code",
   "execution_count": 2,
   "metadata": {},
   "outputs": [
    {
     "name": "stdout",
     "output_type": "stream",
     "text": [
      "the integer is :123\n",
      "the integer is :123\n",
      "the integer is :  123\n",
      "the integer is :00123\n"
     ]
    }
   ],
   "source": [
    "print(\"the integer is :{}\".format(123))\n",
    "print(\"the integer is :{:d}\".format(123))\n",
    "print(\"the integer is :{:5d}\".format(123))\n",
    "print(\"the integer is :{:05d}\".format(123))"
   ]
  },
  {
   "cell_type": "code",
   "execution_count": 4,
   "metadata": {},
   "outputs": [
    {
     "name": "stdout",
     "output_type": "stream",
     "text": [
      "the float number is :123.4567\n",
      "the float number is :123.456700\n",
      "the float number is : 123.457\n",
      "the float number is :0123.457\n",
      "the float number is :0123.450\n",
      "the float number is :786786123.450\n"
     ]
    }
   ],
   "source": [
    "print(\"the float number is :{}\".format(123.4567))\n",
    "print(\"the float number is :{:f}\".format(123.4567))\n",
    "print(\"the float number is :{:8.3f}\".format(123.4567))\n",
    "print(\"the float number is :{:08.3f}\".format(123.4567))\n",
    "print(\"the float number is :{:08.3f}\".format(123.45))\n",
    "print(\"the float number is :{:08.3f}\".format(786786123.45))"
   ]
  },
  {
   "cell_type": "code",
   "execution_count": 5,
   "metadata": {},
   "outputs": [
    {
     "name": "stdout",
     "output_type": "stream",
     "text": [
      "binary form : 10011001\n",
      "octal forma : 231\n",
      "hexadecimal form : 9a\n",
      "Hexadecimal form : 9A\n"
     ]
    }
   ],
   "source": [
    "print(\"binary form : {0:b}\".format(153))\n",
    "print(\"octal forma : {0:o}\".format(153))\n",
    "print(\"hexadecimal form : {0:x}\".format(154))\n",
    "print(\"Hexadecimal form : {0:X}\".format(154))"
   ]
  },
  {
   "cell_type": "code",
   "execution_count": 6,
   "metadata": {},
   "outputs": [
    {
     "name": "stdout",
     "output_type": "stream",
     "text": [
      "int value with sign : +123\n",
      "int value with sign : -123\n",
      "float value with sign : +123.456000\n",
      "float value with sign : -123.456000\n"
     ]
    }
   ],
   "source": [
    "print(\"int value with sign : {:+d}\".format(123))\n",
    "print(\"int value with sign : {:+d}\".format(-123))\n",
    "print(\"float value with sign : {:+f}\".format(123.456))\n",
    "print(\"float value with sign : {:+f}\".format(-123.456))"
   ]
  },
  {
   "cell_type": "code",
   "execution_count": 7,
   "metadata": {},
   "outputs": [
    {
     "name": "stdout",
     "output_type": "stream",
     "text": [
      "   12\n",
      "12   \n",
      "12000\n",
      "   12\n",
      "00012\n",
      " 12  \n",
      "-  12\n",
      "  12.235  \n",
      "- 12.235\n"
     ]
    }
   ],
   "source": [
    "print(\"{:5d}\".format(12))\n",
    "print(\"{:<5d}\".format(12))\n",
    "print(\"{:<05d}\".format(12))\n",
    "print(\"{:>5d}\".format(12))\n",
    "print(\"{:>05d}\".format(12))\n",
    "print(\"{:^5d}\".format(12))\n",
    "print(\"{:=5d}\".format(-12))\n",
    "print(\"{:^10.3f}\".format(12.23456))\n",
    "print(\"{:=8.3f}\".format(-12.23456))"
   ]
  },
  {
   "cell_type": "code",
   "execution_count": 8,
   "metadata": {},
   "outputs": [
    {
     "name": "stdout",
     "output_type": "stream",
     "text": [
      "   12\n",
      "rat  \n",
      "  rat\n",
      "rat  \n",
      " rat \n",
      "*rat*\n"
     ]
    }
   ],
   "source": [
    "print(\"{:5d}\".format(12))\n",
    "print(\"{:5}\".format(\"rat\"))\n",
    "print(\"{:>5}\".format(\"rat\"))\n",
    "print(\"{:<5}\".format(\"rat\"))\n",
    "print(\"{:^5}\".format(\"rat\"))\n",
    "print(\"{:*^5}\".format(\"rat\"))"
   ]
  },
  {
   "cell_type": "code",
   "execution_count": 9,
   "metadata": {},
   "outputs": [
    {
     "name": "stdout",
     "output_type": "stream",
     "text": [
      "dur\n",
      "dur  \n",
      "  dur\n",
      " dur \n",
      "*dur*\n"
     ]
    }
   ],
   "source": [
    "print(\"{:.3}\".format(\"durgasoftware\"))\n",
    "print(\"{:5.3}\".format(\"durgasoftware\"))\n",
    "print(\"{:>5.3}\".format(\"durgasoftware\"))\n",
    "print(\"{:^5.3}\".format(\"durgasoftware\"))\n",
    "print(\"{:*^5.3}\".format(\"durgasoftware\"))"
   ]
  },
  {
   "cell_type": "code",
   "execution_count": 10,
   "metadata": {},
   "outputs": [
    {
     "name": "stdout",
     "output_type": "stream",
     "text": [
      "durga age is 48\n"
     ]
    }
   ],
   "source": [
    "person={\"age\":48,\"name\":\"durga\"}\n",
    "print(\"{p[name]} age is {p[age]}\".format(p=person))"
   ]
  },
  {
   "cell_type": "code",
   "execution_count": 11,
   "metadata": {},
   "outputs": [
    {
     "name": "stdout",
     "output_type": "stream",
     "text": [
      "durga age is 48\n"
     ]
    }
   ],
   "source": [
    "person={\"age\":48,\"name\":\"durga\"}\n",
    "print(\"{name} age is {age}\".format(**person))"
   ]
  },
  {
   "cell_type": "code",
   "execution_count": 12,
   "metadata": {},
   "outputs": [
    {
     "name": "stdout",
     "output_type": "stream",
     "text": [
      "durga age is 48\n"
     ]
    }
   ],
   "source": [
    "class person:\n",
    "    age=48\n",
    "    name=\"durga\"\n",
    "print(\"{p.name} age is {p.age}\".format(p=person()))"
   ]
  },
  {
   "cell_type": "code",
   "execution_count": 13,
   "metadata": {},
   "outputs": [
    {
     "name": "stdout",
     "output_type": "stream",
     "text": [
      "durga age is 48\n",
      "ravi age is 50\n"
     ]
    }
   ],
   "source": [
    "class person:\n",
    "    def __init__(self,name,age):\n",
    "        self.name=name\n",
    "        self.age=age\n",
    "print(\"{p.name} age is {p.age}\".format(p=person(\"durga\",48)))\n",
    "print(\"{p.name} age is {p.age}\".format(p=person(\"ravi\",50)))"
   ]
  },
  {
   "cell_type": "code",
   "execution_count": 19,
   "metadata": {},
   "outputs": [
    {
     "name": "stdout",
     "output_type": "stream",
     "text": [
      "*cat*\n",
      "*cat**\n",
      "cat***\n",
      "***cat\n"
     ]
    }
   ],
   "source": [
    "string=\"{:{fill}{align}{width}}\"\n",
    "print(string.format(\"cat\",fill=\"*\",align=\"^\",width=5))\n",
    "print(string.format(\"cat\",fill=\"*\",align=\"^\",width=6))\n",
    "print(string.format(\"cat\",fill=\"*\",align=\"<\",width=6))\n",
    "print(string.format(\"cat\",fill=\"*\",align=\">\",width=6))"
   ]
  },
  {
   "cell_type": "code",
   "execution_count": 21,
   "metadata": {},
   "outputs": [
    {
     "name": "stdout",
     "output_type": "stream",
     "text": [
      "  123.24\n",
      "123.24  \n"
     ]
    }
   ],
   "source": [
    "num=\"{:{align}{width}.{precision}f}\"\n",
    "print(num.format(123.236,align=\">\",width=8,precision=2))\n",
    "print(num.format(123.236,align=\"<\",width=8,precision=2))"
   ]
  },
  {
   "cell_type": "code",
   "execution_count": 22,
   "metadata": {},
   "outputs": [
    {
     "name": "stdout",
     "output_type": "stream",
     "text": [
      "it is now :26/09/20 20:08:26\n"
     ]
    }
   ],
   "source": [
    "import datetime\n",
    "date=datetime.datetime.now()\n",
    "print(\"it is now :{:%d/%m/%y %H:%M:%S}\".format(date))"
   ]
  },
  {
   "cell_type": "code",
   "execution_count": 24,
   "metadata": {},
   "outputs": [
    {
     "name": "stdout",
     "output_type": "stream",
     "text": [
      "real part 1.0 and imaginary  part 2.0\n"
     ]
    }
   ],
   "source": [
    "complexnumber=1+2j\n",
    "print(\"real part {0.real} and imaginary  part {0.imag}\".format(complexnumber))"
   ]
  },
  {
   "cell_type": "code",
   "execution_count": null,
   "metadata": {},
   "outputs": [],
   "source": []
  }
 ],
 "metadata": {
  "kernelspec": {
   "display_name": "Python 3",
   "language": "python",
   "name": "python3"
  },
  "language_info": {
   "codemirror_mode": {
    "name": "ipython",
    "version": 3
   },
   "file_extension": ".py",
   "mimetype": "text/x-python",
   "name": "python",
   "nbconvert_exporter": "python",
   "pygments_lexer": "ipython3",
   "version": "3.6.5"
  }
 },
 "nbformat": 4,
 "nbformat_minor": 2
}
